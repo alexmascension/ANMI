{
  "nbformat": 4,
  "nbformat_minor": 0,
  "metadata": {
    "colab": {
      "name": "ANMI.ipynb",
      "provenance": [],
      "toc_visible": true,
      "include_colab_link": true
    },
    "kernelspec": {
      "display_name": "Python 3",
      "language": "python",
      "name": "python3"
    },
    "language_info": {
      "codemirror_mode": {
        "name": "ipython",
        "version": 3
      },
      "file_extension": ".py",
      "mimetype": "text/x-python",
      "name": "python",
      "nbconvert_exporter": "python",
      "pygments_lexer": "ipython3",
      "version": "3.8.5"
    }
  },
  "cells": [
    {
      "cell_type": "markdown",
      "metadata": {
        "id": "view-in-github",
        "colab_type": "text"
      },
      "source": [
        "<a href=\"https://colab.research.google.com/github/alexmascension/ANMI/blob/main/notebook/T2.ipynb\" target=\"_parent\"><img src=\"https://colab.research.google.com/assets/colab-badge.svg\" alt=\"Open In Colab\"/></a>"
      ]
    },
    {
      "cell_type": "markdown",
      "metadata": {
        "id": "Vf3GioQwcepr"
      },
      "source": [
        "# Tema 2: Sistemas de ecuaciones numéricas lineales"
      ]
    },
    {
      "cell_type": "code",
      "metadata": {
        "id": "NEU_KHeLX58r"
      },
      "source": [
        "!pip install -r https://raw.githubusercontent.com/alexmascension/ANMI/main/requirements.txt"
      ],
      "execution_count": null,
      "outputs": []
    },
    {
      "cell_type": "code",
      "metadata": {
        "id": "dYo_JGn2TSxC"
      },
      "source": [
        "from sympy import *\n",
        "from sympy.matrices import Matrix as mat\n",
        "from sympy.matrices import randMatrix\n",
        "from sympy import symbols\n",
        "import sympy\n",
        "\n",
        "import numpy as np\n",
        "\n",
        "from scipy.linalg import orth"
      ],
      "execution_count": null,
      "outputs": []
    },
    {
      "cell_type": "code",
      "metadata": {
        "id": "MMGpqmzjX58t"
      },
      "source": [
        "from anmi.genericas import norma, print_verbose, norma_1, norma_inf, norma_2\n",
        "\n",
        "from numpy.linalg import cond as numero_condicion\n",
        "from anmi.T2 import descomposicion_LU, descomposicion_LDU, cholesky, gram_schmidt, householder, factorizacion_QR\n",
        "from anmi.T2 import metodo_iterativo, criterio_m_matriz, criterio_SOR, criterio_simetrica_definida_positiva, criterio_diagonal_dominante, criterio_radio_espectral"
      ],
      "execution_count": null,
      "outputs": []
    },
    {
      "cell_type": "markdown",
      "metadata": {
        "id": "dnhFdr_9-sV2"
      },
      "source": [
        "### Número de condicion"
      ]
    },
    {
      "cell_type": "markdown",
      "metadata": {
        "id": "KMs1uAWmA0mt"
      },
      "source": [
        "El número de condición se define como $\\vert\\vert A \\vert\\vert \\cdot \\vert\\vert A^{-1}\\vert\\vert$. Un número de condición cercano a 1 implica una matriz más estable frente a métodos con elementos diferenciales. Se cumple que las matrices ortogonales tienen número de condición 1."
      ]
    },
    {
      "cell_type": "code",
      "metadata": {
        "id": "qflslI-rTYcZ"
      },
      "source": [
        "help(numero_condicion)"
      ],
      "execution_count": null,
      "outputs": []
    },
    {
      "cell_type": "code",
      "metadata": {
        "id": "zEeV7Ic1-uF2"
      },
      "source": [
        "M = mat(((1, 2, 3), (2, 3, 1), (3, 2, 4)))\n",
        "M"
      ],
      "execution_count": null,
      "outputs": []
    },
    {
      "cell_type": "code",
      "metadata": {
        "id": "9I7Yh2MXAdap"
      },
      "source": [
        "numero_condicion(np.array(M).astype(int))"
      ],
      "execution_count": null,
      "outputs": []
    },
    {
      "cell_type": "code",
      "metadata": {
        "id": "avs2j_2h-7L_"
      },
      "source": [
        "M_ort = (orth(np.array(M).astype(int)))\n",
        "M_ort"
      ],
      "execution_count": null,
      "outputs": []
    },
    {
      "cell_type": "code",
      "metadata": {
        "id": "pzDxNXvFAc3Y"
      },
      "source": [
        "numero_condicion(M_ort)"
      ],
      "execution_count": null,
      "outputs": []
    },
    {
      "cell_type": "markdown",
      "metadata": {
        "id": "A0gMSfcy-kYL"
      },
      "source": [
        "### Factorización LU y LDU*\n",
        "\n",
        "Recordemos que para una matriz, la factorización LU es el proceso de aplicación de la simplificación de Gauss, de modo que la matriz $L$ es una matriz triangular inferior con los coeficientes de transformación, y la matriz $U$ es la matriz superior con los elementos tras las transformaciones lineales.\n",
        "\n",
        "Además, se puede hacer que $D$ sea una matriz diagonal con los valores de la diagonal de $U$, de modo que $LU$ = $LDD^{-1}U$, y si hacemos $U^* = D^{-1}U$ entonces tenemos $LDU^*$, donde $U^*$ sigue siendo una matriz diagonal superior, pero con la diagonal igual a 1.\n",
        "\n",
        "A la hora de aplicar la factorización LU y LDU* se puede hacer una permutación de filas, de modo que en cada iteración se coge la fila con mayor valor (de entre las que no se han *procesado*) y se permuta, garantizando una solución siempre. También, es importante tener en mente que la factorización falla si algún elemento de la diagonal (desde el principio o durante la factorización) es 0, de modo que para solucionar ese caso se aplica la permutación.\n",
        "\n",
        "Todas las permutaciones quedan recogidas en una matriz $P$, de modo que $$LU = LDU^* = PA$$"
      ]
    },
    {
      "cell_type": "code",
      "metadata": {
        "id": "KASrRiC7TYcd"
      },
      "source": [
        "help(descomposicion_LU)"
      ],
      "execution_count": null,
      "outputs": []
    },
    {
      "cell_type": "code",
      "metadata": {
        "id": "kWCu2LKbDBbP"
      },
      "source": [
        "M = mat(((1, 4, 4), (3, 2, 1), (2, 4, 1)))"
      ],
      "execution_count": null,
      "outputs": []
    },
    {
      "cell_type": "code",
      "metadata": {
        "id": "40fCFj_GIBTU"
      },
      "source": [
        "descomposicion_LU(M, permutar_max=False)"
      ],
      "execution_count": null,
      "outputs": []
    },
    {
      "cell_type": "code",
      "metadata": {
        "id": "Zq3S3aEHGpEN"
      },
      "source": [
        "descomposicion_LDU(M, permutar_max=False)"
      ],
      "execution_count": null,
      "outputs": []
    },
    {
      "cell_type": "code",
      "metadata": {
        "id": "GxsFFK6naXHD"
      },
      "source": [
        "descomposicion_LU(M, rhs=ones(M.shape[0], 1), permutar_max=True)"
      ],
      "execution_count": null,
      "outputs": []
    },
    {
      "cell_type": "code",
      "metadata": {
        "id": "hfCYSdUBch4v"
      },
      "source": [
        "descomposicion_LDU(M, permutar_max=True)"
      ],
      "execution_count": null,
      "outputs": []
    },
    {
      "cell_type": "markdown",
      "metadata": {
        "id": "W6br1XOwJdDp"
      },
      "source": [
        "### Factorización de Cholesky\n",
        "\n",
        "La factorización de Cholesky es una factorización que genera una matriz triangular inferior $L$ tal que $A = LL^T$. Para que una matriz sea factorizable, tiene que cumplir que sus menores principales sean positivos, y que sea simétrica."
      ]
    },
    {
      "cell_type": "code",
      "metadata": {
        "id": "tQD2tEYMTYcf"
      },
      "source": [
        "help(cholesky)"
      ],
      "execution_count": null,
      "outputs": []
    },
    {
      "cell_type": "code",
      "metadata": {
        "id": "5ZDS9ojOP-5l"
      },
      "source": [
        "M = mat(((2, -1, 0), (-1, 2, -2), (0, 2, 1)))\n",
        "M"
      ],
      "execution_count": null,
      "outputs": []
    },
    {
      "cell_type": "code",
      "metadata": {
        "id": "7EeC9CrPQoOL"
      },
      "source": [
        "cholesky(M)"
      ],
      "execution_count": null,
      "outputs": []
    },
    {
      "cell_type": "code",
      "metadata": {
        "id": "J6d5MNhHQqo1"
      },
      "source": [
        "cholesky(M + M.T)"
      ],
      "execution_count": null,
      "outputs": []
    },
    {
      "cell_type": "code",
      "metadata": {
        "id": "Sr_zBF3ZQxRI"
      },
      "source": [
        "M + M.T"
      ],
      "execution_count": null,
      "outputs": []
    },
    {
      "cell_type": "code",
      "metadata": {
        "id": "WtWk7kEFQAIO"
      },
      "source": [
        "cholesky(M + M.T) * cholesky(M + M.T).T"
      ],
      "execution_count": null,
      "outputs": []
    },
    {
      "cell_type": "code",
      "metadata": {
        "id": "NnHjEDuxU7Jl"
      },
      "source": [
        "# Podemos hacer también Cholesky a una matriz con símbolos!\n",
        "x = symbols('x')\n",
        "\n",
        "Mx = mat(((1, x, 1), (x, 2, 1), (1, 1, 3)))\n",
        "Mx"
      ],
      "execution_count": null,
      "outputs": []
    },
    {
      "cell_type": "code",
      "metadata": {
        "id": "UFy3EeZ4VL4c"
      },
      "source": [
        "cholesky(Mx)"
      ],
      "execution_count": null,
      "outputs": []
    },
    {
      "cell_type": "markdown",
      "metadata": {
        "id": "MVBPnqO5TlKX"
      },
      "source": [
        "### Ortogonalización de Gram-Schmidt\n",
        "\n",
        "\n"
      ]
    },
    {
      "cell_type": "code",
      "metadata": {
        "id": "HGvyvvXQTYci"
      },
      "source": [
        "help(gram_schmidt)"
      ],
      "execution_count": null,
      "outputs": []
    },
    {
      "cell_type": "code",
      "metadata": {
        "id": "6lDBiGAtXmAp"
      },
      "source": [
        "M"
      ],
      "execution_count": null,
      "outputs": []
    },
    {
      "cell_type": "code",
      "metadata": {
        "id": "5Tuf5FxFVa_u"
      },
      "source": [
        "GS = gram_schmidt(M)\n",
        "GS['P']"
      ],
      "execution_count": null,
      "outputs": []
    },
    {
      "cell_type": "code",
      "metadata": {
        "id": "5cgxsH2-cLrJ"
      },
      "source": [
        "GS['Pn']"
      ],
      "execution_count": null,
      "outputs": []
    },
    {
      "cell_type": "code",
      "metadata": {
        "id": "WG_PCCm8cObF"
      },
      "source": [
        "GS['c']"
      ],
      "execution_count": null,
      "outputs": []
    },
    {
      "cell_type": "code",
      "metadata": {
        "id": "VEadGxAmYIBq"
      },
      "source": [
        "GS['P'][:, 1].T * GS['P'][:, 2]"
      ],
      "execution_count": null,
      "outputs": []
    },
    {
      "cell_type": "code",
      "metadata": {
        "id": "5qIpFX-oZNL1"
      },
      "source": [
        "Mx = mat(((1, 2, 3), (1, x, 1), (0, 0, 3)))"
      ],
      "execution_count": null,
      "outputs": []
    },
    {
      "cell_type": "code",
      "metadata": {
        "id": "nFMKn1hRZGsR"
      },
      "source": [
        "GSx = gram_schmidt(Mx)\n",
        "GSx['P']"
      ],
      "execution_count": null,
      "outputs": []
    },
    {
      "cell_type": "markdown",
      "metadata": {
        "id": "DxghRH1R2FpX"
      },
      "source": [
        "### Transformación de Householder\n",
        "\n",
        "La transformación de Householder es una transformación para pasar de un vertor $x$ a un vector $y$. Para ello se toma el vector $e$, que sería el eje de transformación, y la matriz aplicación es $H = I - 2ee^t$.\n",
        "\n",
        "En este caso, $$e = \\pm \\frac{x - y}{\\vert\\vert x - y \\vert\\vert}$$\n",
        "\n",
        "Para la transformación de Householder $x$ e $y$ **tienen que tener la misma norma**. El vector resultante $e$ tiene norma 1.\n"
      ]
    },
    {
      "cell_type": "code",
      "metadata": {
        "id": "_Soq6RfbTYcl"
      },
      "source": [
        "help(householder)"
      ],
      "execution_count": null,
      "outputs": []
    },
    {
      "cell_type": "code",
      "metadata": {
        "id": "ZaqNjL9S6Emp"
      },
      "source": [
        "v0 = mat(((1, 0)))\n",
        "vf = mat((1, 1))\n",
        "vf = vf/norma(vf)"
      ],
      "execution_count": null,
      "outputs": []
    },
    {
      "cell_type": "code",
      "metadata": {
        "id": "4eX3aGll48tB"
      },
      "source": [
        "H, e = householder(v0, vf, normalizar=False)\n",
        "H"
      ],
      "execution_count": null,
      "outputs": []
    },
    {
      "cell_type": "code",
      "metadata": {
        "id": "KnsssCN89u7r"
      },
      "source": [
        "e"
      ],
      "execution_count": null,
      "outputs": []
    },
    {
      "cell_type": "code",
      "metadata": {
        "id": "ZZHLaNT-9wk5"
      },
      "source": [
        "# Ejercicio 10\n",
        "t = symbols('t')\n",
        "\n",
        "v0 = mat(((1, 0)))\n",
        "vf = mat((cos(t), sin(t)))\n",
        "\n",
        "H, e = householder(v0, vf, normalizar=False)"
      ],
      "execution_count": null,
      "outputs": []
    },
    {
      "cell_type": "code",
      "metadata": {
        "id": "YTqdf6vW96KO"
      },
      "source": [
        "H"
      ],
      "execution_count": null,
      "outputs": []
    },
    {
      "cell_type": "code",
      "metadata": {
        "id": "ixbJ7kcs4XR7"
      },
      "source": [
        "e"
      ],
      "execution_count": null,
      "outputs": []
    },
    {
      "cell_type": "markdown",
      "metadata": {
        "id": "6S0zeTyOSOmw"
      },
      "source": [
        "### Factorización QR\n",
        "\n",
        "La factorización QR consiste en transformar $A = QR$ donde $Q$ es ortogonal y $R$ es triangular superior. \n",
        "\n",
        "Si $P$ es la matriz ortogonalizada, $C$ es la matriz con los factores de ortonormalización (para Gram-Schmidt, por ejemplo, es $m_{ij} = \\frac{a^j\\cdot p^i}{\\vert\\vert p^{i}\\vert\\vert^2}$ y $D$ es la matriz de las normas de los vectores ortogonales ($\\vert\\vert p^i\\vert\\vert$), entonces se tiene que:\n",
        "$$Q = PD^{-1}$$\n",
        "$$R = D(I + C)$$"
      ]
    },
    {
      "cell_type": "code",
      "metadata": {
        "id": "gvIfLNfCTYcm"
      },
      "source": [
        "help(factorizacion_QR)"
      ],
      "execution_count": null,
      "outputs": []
    },
    {
      "cell_type": "code",
      "metadata": {
        "id": "3A5b1Hp4dvfH"
      },
      "source": [
        "M = mat(((2, -1, 0), (0, 0, -2), (0, 2, -1)))"
      ],
      "execution_count": null,
      "outputs": []
    },
    {
      "cell_type": "code",
      "metadata": {
        "id": "7PPzCSsKd3J5"
      },
      "source": [
        "factorizacion_QR(M, metodo='householder')"
      ],
      "execution_count": null,
      "outputs": []
    },
    {
      "cell_type": "code",
      "metadata": {
        "id": "nEHBugO-a_M1"
      },
      "source": [
        "A1 = mat(((2, -1, 0), (0, 0, -2), (0, 2, -1)))"
      ],
      "execution_count": null,
      "outputs": []
    },
    {
      "cell_type": "code",
      "metadata": {
        "id": "QEreyR_kbBPz"
      },
      "source": [
        "A1 = mat(((1, 2, 3), (4, 5, 6), (7, 8, 9)))\n",
        "A1"
      ],
      "execution_count": null,
      "outputs": []
    },
    {
      "cell_type": "code",
      "metadata": {
        "id": "WpXMNwCbhWVv"
      },
      "source": [
        "dqr = factorizacion_QR(A1, metodo='householder')"
      ],
      "execution_count": null,
      "outputs": []
    },
    {
      "cell_type": "code",
      "metadata": {
        "id": "5sxX26YhdASo"
      },
      "source": [
        "dqr['Q']"
      ],
      "execution_count": null,
      "outputs": []
    },
    {
      "cell_type": "code",
      "metadata": {
        "id": "v3hTTSAOdAIF"
      },
      "source": [
        "dqr['R']"
      ],
      "execution_count": null,
      "outputs": []
    },
    {
      "cell_type": "code",
      "metadata": {
        "id": "4oVoviHzhWaF"
      },
      "source": [
        "simplify(dqr['Q'].T * dqr['Q'])"
      ],
      "execution_count": null,
      "outputs": []
    },
    {
      "cell_type": "code",
      "metadata": {
        "id": "2O2FruG5cwnO"
      },
      "source": [
        "simplify(dqr['Q'] * dqr['R'])"
      ],
      "execution_count": null,
      "outputs": []
    },
    {
      "cell_type": "markdown",
      "metadata": {
        "id": "SmLgOIcudSpl"
      },
      "source": [
        "### Métodos iterativos\n",
        "\n"
      ]
    },
    {
      "cell_type": "markdown",
      "metadata": {
        "id": "L2SsjovFdWe0"
      },
      "source": [
        "Los métodos iterativos son métodos para resolver el sistema $Ax=b$. Todos los métodos se basan en el mismo criterio, que es emplear una matriz $H$ tal que, para una iteración:\n",
        "$$x^{(k+1)} = Hx^{(k)} + b'$$\n",
        "\n",
        "Si tomamos la matriz $A = D - L - U$ (donde $D$ es la diagonal de $A$, y $L$ y $U$ son matrices triangulares de elementos de $A$), la ecuación anterior queda:\n",
        "$$Mx^{(k+1)} = (M-A)x^{(k)} + b$$\n",
        "\n",
        "Y simplemente hay que despejar para $x^{(k+1)}$ (pues $x^{(k)}$ lo conocemos) y repetir el procedimiento hasta convergencia:\n",
        "$$x^{(k+1)} = M^{-1}(M-A)x^{(k)} + M^{-1}b$$\n",
        "\n",
        "Según el método, la matriz difiere: para Jacobi es $M = D$, para Gauss-Seidel es $M = D-L$ y para sobre-relajación (ros) es $M = \\frac{1}{\\omega}D - L$."
      ]
    },
    {
      "cell_type": "code",
      "metadata": {
        "id": "goTaPH0cTYcq"
      },
      "source": [
        "help(metodo_iterativo)"
      ],
      "execution_count": null,
      "outputs": []
    },
    {
      "cell_type": "code",
      "metadata": {
        "id": "oqnh2RrfdWXS"
      },
      "source": [
        "A = mat([[2, 1, 1], [1, -2, 1], [1, 1, 2]])\n",
        "b = mat([[1, 1, 1]]).T"
      ],
      "execution_count": null,
      "outputs": []
    },
    {
      "cell_type": "code",
      "metadata": {
        "id": "EFLlJcGidWRR"
      },
      "source": [
        "diter = metodo_iterativo(A, b, n_iter=200, verbose=True)\n",
        "np.array(diter['x'], dtype=float)"
      ],
      "execution_count": null,
      "outputs": []
    },
    {
      "cell_type": "code",
      "metadata": {
        "id": "5xTufrqjdV1d"
      },
      "source": [
        "# EJERCICIO 12\n",
        "a = symbols('a')\n",
        "\n",
        "A = mat([[4, 1, a], [1, 4, 1], [a, 1, 4]])\n",
        "metodo_iterativo(A, metodo='gs', n_iter=3)"
      ],
      "execution_count": null,
      "outputs": []
    },
    {
      "cell_type": "code",
      "metadata": {
        "id": "GYDG-ezJw-p_"
      },
      "source": [
        "# EJERCICIO 14\n",
        "A = mat([[-11, 20, 8], [20, 16, -8], [8, -8, 5]]) / 27\n",
        "norma_1(A)\n",
        "norma_inf(A)\n",
        "d = [simplify(i) for i in list((A.T * A).eigenvals().keys())]\n",
        "# norma_2(A)"
      ],
      "execution_count": null,
      "outputs": []
    },
    {
      "cell_type": "code",
      "metadata": {
        "id": "zHoLZBSQ1gwN"
      },
      "source": [
        "A"
      ],
      "execution_count": null,
      "outputs": []
    },
    {
      "cell_type": "code",
      "metadata": {
        "id": "9atj7Xxr1AQ_"
      },
      "source": [
        "A.T * A"
      ],
      "execution_count": null,
      "outputs": []
    },
    {
      "cell_type": "code",
      "metadata": {
        "id": "Zcd4rMQe0gBl"
      },
      "source": [
        "simplify((A.T * A - a * eye(3)))"
      ],
      "execution_count": null,
      "outputs": []
    },
    {
      "cell_type": "markdown",
      "metadata": {
        "id": "2Vg24HsnUAXD"
      },
      "source": [
        "# Ejercicios"
      ]
    },
    {
      "cell_type": "markdown",
      "metadata": {
        "id": "kE5ay9tsURBP"
      },
      "source": [
        "#### Ejercicio 14\n",
        "Calcular $\\vert\\vert A\\vert\\vert_1, \\vert\\vert A\\vert\\vert_2, \\vert\\vert A\\vert\\vert_\\infty$ de la matriz"
      ]
    },
    {
      "cell_type": "code",
      "metadata": {
        "id": "cvkTHW91T_hV"
      },
      "source": [
        "A = Matrix([[-11, 20, 8], [20, 16, -8], [8, -8, 5]]) / 27\n",
        "A"
      ],
      "execution_count": null,
      "outputs": []
    },
    {
      "cell_type": "code",
      "metadata": {
        "id": "uWs7D8DMU2P4"
      },
      "source": [
        "np.sum(abs(A), 0), norma_1(A)"
      ],
      "execution_count": null,
      "outputs": []
    },
    {
      "cell_type": "code",
      "metadata": {
        "id": "6mXSaBoKT_tZ"
      },
      "source": [
        "np.sum(abs(A), 1), norma_inf(A)"
      ],
      "execution_count": null,
      "outputs": []
    },
    {
      "cell_type": "code",
      "metadata": {
        "id": "awyJDGzMVNQa"
      },
      "source": [
        "# Para la norma_2 podemos usar norma_2(), pero vamos a hacerlo a mano. Para ello:\n",
        "# 1) Hallamos A.T * A\n",
        "AA = simplify(A.T * A)\n",
        "AA"
      ],
      "execution_count": null,
      "outputs": []
    },
    {
      "cell_type": "code",
      "metadata": {
        "id": "u2cPzYcBWJYP"
      },
      "source": [
        "# En este punto los resultados difieren, así que usaremos sus resultados intermedios\n",
        "AA = Matrix([[65, 4, -32], [4, 80, 8], [-32, 8, 17]]) / 81"
      ],
      "execution_count": null,
      "outputs": []
    },
    {
      "cell_type": "code",
      "metadata": {
        "id": "D3hEHpUbUwMp"
      },
      "source": [
        "# 2) Hallamos los autovalores\n",
        "factor(det(AA - symbols('lambda') * eye(3)))"
      ],
      "execution_count": null,
      "outputs": []
    },
    {
      "cell_type": "code",
      "metadata": {
        "id": "VA5_3eVHUwO0"
      },
      "source": [
        "# Los autovalores son 0 y 1. Luego nos quedamos con 1\n",
        "rho = max(solve(det(AA - symbols('lambda') * eye(3))))\n",
        "norma_2 = sqrt(rho)\n",
        "norma_2"
      ],
      "execution_count": null,
      "outputs": []
    },
    {
      "cell_type": "markdown",
      "metadata": {
        "id": "sqayW67aXP6A"
      },
      "source": [
        "#### Ejercicio 15\n",
        "La matriz de Hilbert $H_n$ tiene como coeficientes $h_{ij} = \\frac{1}{i + j -1}$\n",
        "Determinar el límite para $\\vert\\vert \\; \\vert\\vert_1$ y $\\vert\\vert \\; \\vert\\vert_\\infty$: $\\lim_{n\\to \\infty}\\vert\\vert H_n \\vert\\vert$."
      ]
    },
    {
      "cell_type": "code",
      "metadata": {
        "id": "Dh8x5p_bW2hE"
      },
      "source": [
        "def Hn(n):\n",
        "    hn = zeros(n, n)\n",
        "    for row in range(n):\n",
        "        for col in range(n):\n",
        "            hn[row, col] = S(1) / S(row + col + 1) # porque i y j les sumamos 1\n",
        "\n",
        "    return hn"
      ],
      "execution_count": null,
      "outputs": []
    },
    {
      "cell_type": "code",
      "metadata": {
        "id": "1t5B4-40YJDm"
      },
      "source": [
        "# Vamos a crear unas matrices de prueba"
      ],
      "execution_count": null,
      "outputs": []
    },
    {
      "cell_type": "code",
      "metadata": {
        "id": "7L9YWJoSX6Tl"
      },
      "source": [
        "Hn(7)"
      ],
      "execution_count": null,
      "outputs": []
    },
    {
      "cell_type": "markdown",
      "metadata": {
        "id": "t866EruHYaxn"
      },
      "source": [
        "Vemos que la matriz es simétrica, luego norma 1 y norma inf serán iguales.\n",
        "La columna / fila con mayor suma es la primera, pues:\n",
        "$A[1:, 0] = A[:-1, 1]$ y $A[0, 0] > A[-1, 1]$\n",
        "\n",
        "Y por inducción en el resto de columnas se ve que $\\sum A[:, i] > \\sum A[:, i+1]$. \n",
        "\n",
        "El valor para $n$ de la primera fila es $\\sum A[:, 0] = \\sum_i^n 1/i$, que es la serie harmónica.\n",
        "\n",
        "Para $n \\to \\infty$, sabemos que $\\sum_i^n 1/i \\to \\infty$, luego $\\lim_{n\\to \\infty}\\vert\\vert H_n \\vert\\vert = \\infty$"
      ]
    },
    {
      "cell_type": "markdown",
      "metadata": {
        "id": "556qlMX0ZalS"
      },
      "source": [
        "#### Ejercicio 16\n",
        "Se considera la matriz \n",
        "\n",
        "$$ A = \\begin{pmatrix}a & 1+a\\\\0 & a\\end{pmatrix}$$\n",
        "\n",
        "con $a > 0 \\in \\mathbb{R}$.\n",
        "\n",
        "1) Calcular el número de condición de $A$ en la norma $\\vert \\vert A \\vert \\vert_\\infty$$"
      ]
    },
    {
      "cell_type": "code",
      "metadata": {
        "id": "1K0hzP5fYH4J"
      },
      "source": [
        "# El núemro de condición es ||A||·||A^-1||\n",
        "a = symbols('a')\n",
        "\n",
        "A = Matrix([[a, 1+a], [0, a]])\n",
        "A"
      ],
      "execution_count": null,
      "outputs": []
    },
    {
      "cell_type": "code",
      "metadata": {
        "id": "rj9uSGYMaUEX"
      },
      "source": [
        "Ainv = A.inv()\n",
        "Ainv"
      ],
      "execution_count": null,
      "outputs": []
    },
    {
      "cell_type": "code",
      "metadata": {
        "id": "ev3UZ-K1ajR-"
      },
      "source": [
        "# Norma_inf A es a + a + 1 = 1 + 2a\n",
        "ninfA = 1 + 2*a\n",
        "\n",
        "# Norma_inf Ainv es 1/a + 1/a + 1/a2 = \n",
        "ninfAinv = 1/a + 1/a + 1/a**2\n",
        "\n",
        "ninfA, ninfAinv"
      ],
      "execution_count": null,
      "outputs": []
    },
    {
      "cell_type": "code",
      "metadata": {
        "id": "flG-GYbNbR-0"
      },
      "source": [
        "condicion = ninfA * ninfAinv\n",
        "simplify(condicion)"
      ],
      "execution_count": null,
      "outputs": []
    },
    {
      "cell_type": "code",
      "metadata": {
        "id": "uIx1PzV7eFbq"
      },
      "source": [
        "simplify(1 - factor(condicion))"
      ],
      "execution_count": null,
      "outputs": []
    },
    {
      "cell_type": "markdown",
      "metadata": {
        "id": "I2215MGabfkY"
      },
      "source": [
        "2) Estimar el error relativo de la solución del sistema lineal perturbado\n",
        "$$(A + \\delta A)(x + \\delta x) = b + \\delta b$$\n",
        "\n",
        "Por el lema de Banach tenemos que \n",
        "\n",
        "$$\\frac{\\vert\\vert \\delta x\\vert\\vert}{\\vert\\vert x\\vert\\vert} = \\frac{cond(A)}{1-cond(A)\\frac{\\vert\\vert \\delta A\\vert\\vert}{\\vert\\vert A\\vert\\vert}}\\left(\n",
        "    \\frac{\\vert\\vert \\delta b\\vert\\vert}{\\vert\\vert b\\vert\\vert} + \n",
        "    \\frac{\\vert\\vert \\delta A\\vert\\vert}{\\vert\\vert A\\vert\\vert}\\right)$$\n",
        "\n",
        "\n",
        "Para este ejercicio es \n",
        "$$\\frac{\\vert\\vert \\delta x\\vert\\vert}{\\vert\\vert x\\vert\\vert} = \\frac{\n",
        "    (2a+1)^2\n",
        "}{(a^2 - (2a+1)^2)\\frac{\\vert\\vert \\delta A\\vert\\vert}{\\vert\\vert A\\vert\\vert}}\\left(\n",
        "    \\frac{\\vert\\vert \\delta b\\vert\\vert}{\\vert\\vert b\\vert\\vert} + \n",
        "    \\frac{\\vert\\vert \\delta A\\vert\\vert}{\\vert\\vert A\\vert\\vert}\\right)$$\n",
        "\n",
        "De lo cual se cumple que \n",
        "$$\\frac{\\vert\\vert \\delta A\\vert\\vert}{\\vert\\vert A\\vert\\vert} < \\frac{1}{cond(A)}$$"
      ]
    },
    {
      "cell_type": "markdown",
      "metadata": {
        "id": "CYz7dbqqfZhY"
      },
      "source": [
        "#### Ejercicio 17\n",
        "Calcular la factorización LU de la matriz $A$ con pivote parcial con $0 < \\alpha < \\frac{\\pi}{4}$."
      ]
    },
    {
      "cell_type": "code",
      "metadata": {
        "id": "DV9nvb32fgMA"
      },
      "source": [
        "a = symbols('alpha')\n",
        "A = Matrix([[0, 1, 0, 0], [1, 0, 0, 0], [0, 0, cos(a), -sin(a)], [0, 0, sin(a), cos(a)]])\n",
        "A"
      ],
      "execution_count": null,
      "outputs": []
    },
    {
      "cell_type": "markdown",
      "metadata": {
        "id": "zx7GUmV7hMoE"
      },
      "source": [
        "En este caso tenemos que la función LU nos falla porque el máximo de la matriz \"no existe\". Vamos a programarlo.\n"
      ]
    }
  ]
}