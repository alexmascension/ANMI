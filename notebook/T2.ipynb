{
 "cells": [
  {
   "cell_type": "markdown",
   "metadata": {
    "colab_type": "text",
    "id": "view-in-github"
   },
   "source": [
    "<a href=\"https://colab.research.google.com/github/alexmascension/ANMI/blob/main/ANMI.ipynb\" target=\"_parent\"><img src=\"https://colab.research.google.com/assets/colab-badge.svg\" alt=\"Open In Colab\"/></a>"
   ]
  },
  {
   "cell_type": "markdown",
   "metadata": {
    "id": "Vf3GioQwcepr"
   },
   "source": [
    "# ANMI - Tema 2: Sistemas de ecuaciones numéricas lineales"
   ]
  },
  {
   "cell_type": "code",
   "execution_count": null,
   "metadata": {},
   "outputs": [],
   "source": [
    "!pip install -r https://raw.githubusercontent.com/alexmascension/ANMI/main/requirements.txt"
   ]
  },
  {
   "cell_type": "code",
   "execution_count": null,
   "metadata": {
    "id": "dYo_JGn2TSxC"
   },
   "outputs": [],
   "source": [
    "from sympy import *\n",
    "from sympy.matrices import Matrix as mat\n",
    "from sympy.matrices import randMatrix\n",
    "from sympy import symbols\n",
    "import sympy\n",
    "\n",
    "import numpy as np\n",
    "\n",
    "from scipy.linalg import orth"
   ]
  },
  {
   "cell_type": "code",
   "execution_count": null,
   "metadata": {},
   "outputs": [],
   "source": [
    "from anmi.genericas import norma, print_verbose, norma_1, norma_inf, norma_2\n",
    "\n",
    "from numpy.linalg import cond as numero_condicion\n",
    "from anmi.T2 import descomposicion_LU, descomposicion_LDU, cholesky, gram_schmidt, householder, factorizacion_QR\n",
    "from anmi.T2 import metodo_iterativo, criterio_m_matriz, criterio_SOR, criterio_simetrica_definida_positiva, criterio_diagonal_dominante, criterio_radio_espectral"
   ]
  },
  {
   "cell_type": "markdown",
   "metadata": {
    "id": "dnhFdr_9-sV2"
   },
   "source": [
    "### Número de condicion"
   ]
  },
  {
   "cell_type": "markdown",
   "metadata": {
    "id": "KMs1uAWmA0mt"
   },
   "source": [
    "El número de condición se define como $\\vert\\vert A \\vert\\vert \\cdot \\vert\\vert A^{-1}\\vert\\vert$. Un número de condición cercano a 1 implica una matriz más estable frente a métodos con elementos diferenciales. Se cumple que las matrices ortogonales tienen número de condición 1."
   ]
  },
  {
   "cell_type": "code",
   "execution_count": null,
   "metadata": {
    "colab": {
     "base_uri": "https://localhost:8080/",
     "height": 78
    },
    "id": "zEeV7Ic1-uF2",
    "outputId": "f9169631-60fe-4949-8347-23f8eeec24f4"
   },
   "outputs": [],
   "source": [
    "M = mat(((1, 2, 3), (2, 3, 1), (3, 2, 4)))\n",
    "M"
   ]
  },
  {
   "cell_type": "code",
   "execution_count": null,
   "metadata": {
    "colab": {
     "base_uri": "https://localhost:8080/"
    },
    "id": "9I7Yh2MXAdap",
    "outputId": "533dd295-260c-43a0-978c-2e79df64fc43"
   },
   "outputs": [],
   "source": [
    "numero_condicion(np.array(M).astype(int))"
   ]
  },
  {
   "cell_type": "code",
   "execution_count": null,
   "metadata": {
    "colab": {
     "base_uri": "https://localhost:8080/"
    },
    "id": "avs2j_2h-7L_",
    "outputId": "3a1df1af-7309-4721-b8bd-df292fba9703"
   },
   "outputs": [],
   "source": [
    "M_ort = (orth(np.array(M).astype(int)))\n",
    "M_ort"
   ]
  },
  {
   "cell_type": "code",
   "execution_count": null,
   "metadata": {
    "colab": {
     "base_uri": "https://localhost:8080/"
    },
    "id": "pzDxNXvFAc3Y",
    "outputId": "e158903f-8e3e-4b50-be93-990a3fa271fe"
   },
   "outputs": [],
   "source": [
    "numero_condicion(M_ort)"
   ]
  },
  {
   "cell_type": "markdown",
   "metadata": {
    "id": "A0gMSfcy-kYL"
   },
   "source": [
    "### Factorización LU y LDU*\n",
    "\n",
    "Recordemos que para una matriz, la factorización LU es el proceso de aplicación de la simplificación de Gauss, de modo que la matriz $L$ es una matriz triangular inferior con los coeficientes de transformación, y la matriz $U$ es la matriz superior con los elementos tras las transformaciones lineales.\n",
    "\n",
    "Además, se puede hacer que $D$ sea una matriz diagonal con los valores de la diagonal de $U$, de modo que $LU$ = $LDD^{-1}U$, y si hacemos $U^* = D^{-1}U$ entonces tenemos $LDU^*$, donde $U^*$ sigue siendo una matriz diagonal superior, pero con la diagonal igual a 1.\n",
    "\n",
    "A la hora de aplicar la factorización LU y LDU* se puede hacer una permutación de filas, de modo que en cada iteración se coge la fila con mayor valor (de entre las que no se han *procesado*) y se permuta, garantizando una solución siempre. También, es importante tener en mente que la factorización falla si algún elemento de la diagonal (desde el principio o durante la factorización) es 0, de modo que para solucionar ese caso se aplica la permutación.\n",
    "\n",
    "Todas las permutaciones quedan recogidas en una matriz $P$, de modo que $$LU = LDU^* = PA$$"
   ]
  },
  {
   "cell_type": "code",
   "execution_count": null,
   "metadata": {
    "id": "kWCu2LKbDBbP"
   },
   "outputs": [],
   "source": [
    "M = mat(((1, 4, 4), (3, 2, 1), (2, 4, 1)))"
   ]
  },
  {
   "cell_type": "code",
   "execution_count": null,
   "metadata": {
    "colab": {
     "base_uri": "https://localhost:8080/"
    },
    "id": "40fCFj_GIBTU",
    "outputId": "5b2aea66-0f83-4ae5-d16d-bd127a18ae6d"
   },
   "outputs": [],
   "source": [
    "descomposicion_LU(M, permutar_max=False)"
   ]
  },
  {
   "cell_type": "code",
   "execution_count": null,
   "metadata": {
    "colab": {
     "base_uri": "https://localhost:8080/"
    },
    "id": "Zq3S3aEHGpEN",
    "outputId": "f37791d9-fc8e-4cd7-8dd4-ad6fb343a501"
   },
   "outputs": [],
   "source": [
    "descomposicion_LDU(M, permutar_max=False)"
   ]
  },
  {
   "cell_type": "code",
   "execution_count": null,
   "metadata": {
    "colab": {
     "base_uri": "https://localhost:8080/"
    },
    "id": "GxsFFK6naXHD",
    "outputId": "b4fc7a00-c8ab-4e08-ab69-61879c94961e"
   },
   "outputs": [],
   "source": [
    "descomposicion_LU(M, rhs=ones(M.shape[0], 1), permutar_max=True)"
   ]
  },
  {
   "cell_type": "code",
   "execution_count": null,
   "metadata": {
    "colab": {
     "base_uri": "https://localhost:8080/"
    },
    "id": "hfCYSdUBch4v",
    "outputId": "9a3db86b-6ce3-47e2-e2c5-4d849321e500"
   },
   "outputs": [],
   "source": [
    "descomposicion_LDU(M, permutar_max=True)"
   ]
  },
  {
   "cell_type": "markdown",
   "metadata": {
    "id": "W6br1XOwJdDp"
   },
   "source": [
    "### Factorización de Cholesky\n",
    "\n",
    "La factorización de Cholesky es una factorización que genera una matriz triangular inferior $L$ tal que $A = LL^T$. Para que una matriz sea factorizable, tiene que cumplir que sus menores principales sean positivos, y que sea simétrica."
   ]
  },
  {
   "cell_type": "code",
   "execution_count": null,
   "metadata": {
    "colab": {
     "base_uri": "https://localhost:8080/",
     "height": 0
    },
    "id": "5ZDS9ojOP-5l",
    "outputId": "5e7cc0fa-f7b3-4e12-b508-db09e3129b6c"
   },
   "outputs": [],
   "source": [
    "M = mat(((2, -1, 0), (-1, 2, -2), (0, 2, 1)))\n",
    "M"
   ]
  },
  {
   "cell_type": "code",
   "execution_count": null,
   "metadata": {
    "colab": {
     "base_uri": "https://localhost:8080/",
     "height": 0
    },
    "id": "7EeC9CrPQoOL",
    "outputId": "391ef532-2d20-426f-90b4-bf512e5034dd"
   },
   "outputs": [],
   "source": [
    "cholesky(M)"
   ]
  },
  {
   "cell_type": "code",
   "execution_count": null,
   "metadata": {
    "colab": {
     "base_uri": "https://localhost:8080/",
     "height": 0
    },
    "id": "J6d5MNhHQqo1",
    "outputId": "93558c9c-9462-42eb-933b-7afef3e5700e"
   },
   "outputs": [],
   "source": [
    "cholesky(M + M.T)"
   ]
  },
  {
   "cell_type": "code",
   "execution_count": null,
   "metadata": {
    "colab": {
     "base_uri": "https://localhost:8080/",
     "height": 0
    },
    "id": "Sr_zBF3ZQxRI",
    "outputId": "a6a55788-1156-4325-f0e3-ab5b102e0271"
   },
   "outputs": [],
   "source": [
    "M + M.T"
   ]
  },
  {
   "cell_type": "code",
   "execution_count": null,
   "metadata": {
    "colab": {
     "base_uri": "https://localhost:8080/",
     "height": 0
    },
    "id": "WtWk7kEFQAIO",
    "outputId": "17cb98fb-7837-4da1-e9cc-7184c6e54c24"
   },
   "outputs": [],
   "source": [
    "cholesky(M + M.T) * cholesky(M + M.T).T"
   ]
  },
  {
   "cell_type": "code",
   "execution_count": null,
   "metadata": {
    "colab": {
     "base_uri": "https://localhost:8080/",
     "height": 0
    },
    "id": "NnHjEDuxU7Jl",
    "outputId": "b73e0379-9557-4284-eb2c-281a3269ff42"
   },
   "outputs": [],
   "source": [
    "# Podemos hacer también Cholesky a una matriz con símbolos!\n",
    "x = symbols('x')\n",
    "\n",
    "Mx = mat(((1, x, 1), (x, 2, 1), (1, 1, 3)))\n",
    "Mx"
   ]
  },
  {
   "cell_type": "code",
   "execution_count": null,
   "metadata": {
    "colab": {
     "base_uri": "https://localhost:8080/",
     "height": 0
    },
    "id": "UFy3EeZ4VL4c",
    "outputId": "7a9c560a-18aa-4221-ef59-b818fe56858b"
   },
   "outputs": [],
   "source": [
    "cholesky(Mx)"
   ]
  },
  {
   "cell_type": "markdown",
   "metadata": {
    "id": "MVBPnqO5TlKX"
   },
   "source": [
    "### Ortogonalización de Gram-Schmidt\n",
    "\n",
    "\n"
   ]
  },
  {
   "cell_type": "code",
   "execution_count": null,
   "metadata": {
    "colab": {
     "base_uri": "https://localhost:8080/",
     "height": 0
    },
    "id": "6lDBiGAtXmAp",
    "outputId": "0d601cae-f891-46e4-eee8-8fadcbd2f553"
   },
   "outputs": [],
   "source": [
    "M"
   ]
  },
  {
   "cell_type": "code",
   "execution_count": null,
   "metadata": {
    "colab": {
     "base_uri": "https://localhost:8080/",
     "height": 0
    },
    "id": "5Tuf5FxFVa_u",
    "outputId": "a4efe8df-3509-46d0-a82e-1f55acb83de3"
   },
   "outputs": [],
   "source": [
    "GS = gram_schmidt(M)\n",
    "GS['P']"
   ]
  },
  {
   "cell_type": "code",
   "execution_count": null,
   "metadata": {
    "colab": {
     "base_uri": "https://localhost:8080/",
     "height": 0
    },
    "id": "5cgxsH2-cLrJ",
    "outputId": "33490cb4-c918-4b4c-8d57-db26c8b8a599"
   },
   "outputs": [],
   "source": [
    "GS['Pn']"
   ]
  },
  {
   "cell_type": "code",
   "execution_count": null,
   "metadata": {
    "colab": {
     "base_uri": "https://localhost:8080/",
     "height": 0
    },
    "id": "WG_PCCm8cObF",
    "outputId": "a86b4760-9c9d-4a60-8a2e-5b3e398b6dd2"
   },
   "outputs": [],
   "source": [
    "GS['c']"
   ]
  },
  {
   "cell_type": "code",
   "execution_count": null,
   "metadata": {
    "colab": {
     "base_uri": "https://localhost:8080/",
     "height": 0
    },
    "id": "VEadGxAmYIBq",
    "outputId": "e5b08791-69b4-434b-f6be-1605ac95a31e"
   },
   "outputs": [],
   "source": [
    "GS['P'][:, 1].T * GS['P'][:, 2]"
   ]
  },
  {
   "cell_type": "code",
   "execution_count": null,
   "metadata": {
    "id": "5qIpFX-oZNL1"
   },
   "outputs": [],
   "source": [
    "Mx = mat(((1, 2, 3), (1, x, 1), (0, 0, 3)))"
   ]
  },
  {
   "cell_type": "code",
   "execution_count": null,
   "metadata": {
    "colab": {
     "base_uri": "https://localhost:8080/",
     "height": 0
    },
    "id": "nFMKn1hRZGsR",
    "outputId": "c5c0af86-bbda-4137-82d6-1275533461aa"
   },
   "outputs": [],
   "source": [
    "GSx = gram_schmidt(Mx)\n",
    "GSx['P']"
   ]
  },
  {
   "cell_type": "markdown",
   "metadata": {
    "id": "DxghRH1R2FpX"
   },
   "source": [
    "### Transformación de Householder\n",
    "\n",
    "La transformación de Householder es una transformación para pasar de un vertor $x$ a un vector $y$. Para ello se toma el vector $e$, que sería el eje de transformación, y la matriz aplicación es $H = I - 2ee^t$.\n",
    "\n",
    "En este caso, $$e = \\pm \\frac{x - y}{\\vert\\vert x - y \\vert\\vert}$$\n",
    "\n",
    "Para la transformación de Householder $x$ e $y$ **tienen que tener la misma norma**. El vector resultante $e$ tiene norma 1.\n"
   ]
  },
  {
   "cell_type": "code",
   "execution_count": null,
   "metadata": {
    "id": "ZaqNjL9S6Emp"
   },
   "outputs": [],
   "source": [
    "v0 = mat(((1, 0)))\n",
    "vf = mat((1, 1))\n",
    "vf = vf/norma(vf)"
   ]
  },
  {
   "cell_type": "code",
   "execution_count": null,
   "metadata": {
    "colab": {
     "base_uri": "https://localhost:8080/",
     "height": 68
    },
    "id": "4eX3aGll48tB",
    "outputId": "eaf40776-c89c-4be9-977a-4d4b2bfc3618"
   },
   "outputs": [],
   "source": [
    "H, e = householder(v0, vf, normalizar=False)\n",
    "H"
   ]
  },
  {
   "cell_type": "code",
   "execution_count": null,
   "metadata": {
    "colab": {
     "base_uri": "https://localhost:8080/",
     "height": 78
    },
    "id": "KnsssCN89u7r",
    "outputId": "520ab9b6-a170-4f1b-a1b0-ac11770d5bab"
   },
   "outputs": [],
   "source": [
    "e"
   ]
  },
  {
   "cell_type": "code",
   "execution_count": null,
   "metadata": {
    "id": "ZZHLaNT-9wk5"
   },
   "outputs": [],
   "source": [
    "# Ejercicio 10\n",
    "t = symbols('t')\n",
    "\n",
    "v0 = mat(((1, 0)))\n",
    "vf = mat((cos(t), sin(t)))\n",
    "\n",
    "H, e = householder(v0, vf, normalizar=False)"
   ]
  },
  {
   "cell_type": "code",
   "execution_count": null,
   "metadata": {
    "colab": {
     "base_uri": "https://localhost:8080/",
     "height": 58
    },
    "id": "YTqdf6vW96KO",
    "outputId": "e452fbdb-461d-4e15-8ebb-e5920dff2fb3"
   },
   "outputs": [],
   "source": [
    "H"
   ]
  },
  {
   "cell_type": "code",
   "execution_count": null,
   "metadata": {
    "colab": {
     "base_uri": "https://localhost:8080/",
     "height": 78
    },
    "id": "ixbJ7kcs4XR7",
    "outputId": "a12c7ff3-04cc-4a04-9992-863a5cf59d87"
   },
   "outputs": [],
   "source": [
    "e"
   ]
  },
  {
   "cell_type": "markdown",
   "metadata": {
    "id": "6S0zeTyOSOmw"
   },
   "source": [
    "### Factorización QR\n",
    "\n",
    "La factorización QR consiste en transformar $A = QR$ donde $Q$ es ortogonal y $R$ es triangular superior. \n",
    "\n",
    "Si $P$ es la matriz ortogonalizada, $C$ es la matriz con los factores de ortonormalización (para Gram-Schmidt, por ejemplo, es $m_{ij} = \\frac{a^j\\cdot p^i}{\\vert\\vert p^{i}\\vert\\vert^2}$ y $D$ es la matriz de las normas de los vectores ortogonales ($\\vert\\vert p^i\\vert\\vert$), entonces se tiene que:\n",
    "$$Q = PD^{-1}$$\n",
    "$$R = D(I + C)$$"
   ]
  },
  {
   "cell_type": "code",
   "execution_count": null,
   "metadata": {
    "id": "3A5b1Hp4dvfH"
   },
   "outputs": [],
   "source": [
    "M = mat(((2, -1, 0), (0, 0, -2), (0, 2, -1)))"
   ]
  },
  {
   "cell_type": "code",
   "execution_count": null,
   "metadata": {
    "colab": {
     "base_uri": "https://localhost:8080/"
    },
    "id": "7PPzCSsKd3J5",
    "outputId": "bf7c58ff-5e80-4868-87e7-5a166c3e28ed"
   },
   "outputs": [],
   "source": [
    "factorizacion_QR(M, metodo='householder')"
   ]
  },
  {
   "cell_type": "code",
   "execution_count": null,
   "metadata": {
    "id": "nEHBugO-a_M1"
   },
   "outputs": [],
   "source": [
    "A1 = mat(((2, -1, 0), (0, 0, -2), (0, 2, -1)))"
   ]
  },
  {
   "cell_type": "code",
   "execution_count": null,
   "metadata": {
    "colab": {
     "base_uri": "https://localhost:8080/",
     "height": 0
    },
    "id": "QEreyR_kbBPz",
    "outputId": "17393c00-c92d-4438-8fb2-0a75d7e305be"
   },
   "outputs": [],
   "source": [
    "A1 = mat(((1, 2, 3), (4, 5, 6), (7, 8, 9)))\n",
    "A1"
   ]
  },
  {
   "cell_type": "code",
   "execution_count": null,
   "metadata": {
    "colab": {
     "base_uri": "https://localhost:8080/"
    },
    "id": "WpXMNwCbhWVv",
    "outputId": "15c543e6-e805-4f19-fdcf-4a40bcb798ce"
   },
   "outputs": [],
   "source": [
    "dqr = factorizacion_QR(A1, metodo='householder')"
   ]
  },
  {
   "cell_type": "code",
   "execution_count": null,
   "metadata": {
    "colab": {
     "base_uri": "https://localhost:8080/",
     "height": 0
    },
    "id": "5sxX26YhdASo",
    "outputId": "d967e5c4-7032-47fe-f805-03486a0a4145"
   },
   "outputs": [],
   "source": [
    "dqr['Q']"
   ]
  },
  {
   "cell_type": "code",
   "execution_count": null,
   "metadata": {
    "colab": {
     "base_uri": "https://localhost:8080/",
     "height": 0
    },
    "id": "v3hTTSAOdAIF",
    "outputId": "a1acaf85-b32b-40ff-9566-068df5601ec0"
   },
   "outputs": [],
   "source": [
    "dqr['R']"
   ]
  },
  {
   "cell_type": "code",
   "execution_count": null,
   "metadata": {
    "colab": {
     "base_uri": "https://localhost:8080/",
     "height": 0
    },
    "id": "4oVoviHzhWaF",
    "outputId": "0519d3f3-515b-4bfb-d0d0-ed5712285aff"
   },
   "outputs": [],
   "source": [
    "simplify(dqr['Q'].T * dqr['Q'])"
   ]
  },
  {
   "cell_type": "code",
   "execution_count": null,
   "metadata": {
    "colab": {
     "base_uri": "https://localhost:8080/",
     "height": 0
    },
    "id": "2O2FruG5cwnO",
    "outputId": "ae628d7d-e3c1-424c-d92f-932c43787d43"
   },
   "outputs": [],
   "source": [
    "simplify(dqr['Q'] * dqr['R'])"
   ]
  },
  {
   "cell_type": "markdown",
   "metadata": {
    "id": "SmLgOIcudSpl"
   },
   "source": [
    "### Métodos iterativos\n",
    "\n"
   ]
  },
  {
   "cell_type": "markdown",
   "metadata": {
    "id": "L2SsjovFdWe0"
   },
   "source": [
    "Los métodos iterativos son métodos para resolver el sistema $Ax=b$. Todos los métodos se basan en el mismo criterio, que es emplear una matriz $H$ tal que, para una iteración:\n",
    "$$x^{(k+1)} = Hx^{(k)} + b'$$\n",
    "\n",
    "Si tomamos la matriz $A = D - L - U$ (donde $D$ es la diagonal de $A$, y $L$ y $U$ son matrices triangulares de elementos de $A$), la ecuación anterior queda:\n",
    "$$Mx^{(k+1)} = (M-A)x^{(k)} + b$$\n",
    "\n",
    "Y simplemente hay que despejar para $x^{(k+1)}$ (pues $x^{(k)}$ lo conocemos) y repetir el procedimiento hasta convergencia:\n",
    "$$x^{(k+1)} = M^{-1}(M-A)x^{(k)} + M^{-1}b$$\n",
    "\n",
    "Según el método, la matriz difiere: para Jacobi es $M = D$, para Gauss-Seidel es $M = D-L$ y para sobre-relajación (ros) es $M = \\frac{1}{\\omega}D - L$."
   ]
  },
  {
   "cell_type": "code",
   "execution_count": null,
   "metadata": {
    "id": "oqnh2RrfdWXS"
   },
   "outputs": [],
   "source": [
    "A = mat([[2, 1, 1], [1, -2, 1], [1, 1, 2]])\n",
    "b = mat([[1, 1, 1]]).T"
   ]
  },
  {
   "cell_type": "code",
   "execution_count": null,
   "metadata": {
    "colab": {
     "base_uri": "https://localhost:8080/"
    },
    "id": "EFLlJcGidWRR",
    "outputId": "43dfdf26-bba2-4f62-ecff-fc2e875ba7d9"
   },
   "outputs": [],
   "source": [
    "diter = metodo_iterativo(A, b, n_iter=200, verbose=True)\n",
    "np.array(diter['x'], dtype=float)"
   ]
  },
  {
   "cell_type": "code",
   "execution_count": null,
   "metadata": {
    "colab": {
     "base_uri": "https://localhost:8080/"
    },
    "id": "5xTufrqjdV1d",
    "outputId": "8380ee43-4422-471d-d69f-982339ccddaa"
   },
   "outputs": [],
   "source": [
    "# EJERCICIO 12\n",
    "a = symbols('a')\n",
    "\n",
    "A = mat([[4, 1, a], [1, 4, 1], [a, 1, 4]])\n",
    "metodo_iterativo(A, metodo='gs', n_iter=3)"
   ]
  },
  {
   "cell_type": "code",
   "execution_count": null,
   "metadata": {
    "colab": {
     "base_uri": "https://localhost:8080/"
    },
    "id": "GYDG-ezJw-p_",
    "outputId": "70eeea2c-4735-4510-b238-7aad15704e79"
   },
   "outputs": [],
   "source": [
    "# EJERCICIO 14\n",
    "A = mat([[-11, 20, 8], [20, 16, -8], [8, -8, 5]]) / 27\n",
    "norma_1(A)\n",
    "norma_inf(A)\n",
    "d = [simplify(i) for i in list((A.T * A).eigenvals().keys())]\n",
    "# norma_2(A)"
   ]
  },
  {
   "cell_type": "code",
   "execution_count": null,
   "metadata": {
    "colab": {
     "base_uri": "https://localhost:8080/",
     "height": 78
    },
    "id": "zHoLZBSQ1gwN",
    "outputId": "32ace898-1bcb-43a5-c3b5-c908ccb4b5cd"
   },
   "outputs": [],
   "source": [
    "A"
   ]
  },
  {
   "cell_type": "code",
   "execution_count": null,
   "metadata": {
    "colab": {
     "base_uri": "https://localhost:8080/",
     "height": 78
    },
    "id": "9atj7Xxr1AQ_",
    "outputId": "6fd51e4c-3ad6-4cad-89e6-ba5fe1d32fa1"
   },
   "outputs": [],
   "source": [
    "A.T * A"
   ]
  },
  {
   "cell_type": "code",
   "execution_count": null,
   "metadata": {
    "colab": {
     "base_uri": "https://localhost:8080/",
     "height": 78
    },
    "id": "Zcd4rMQe0gBl",
    "outputId": "b947dc0c-1ed9-4589-aa01-bfbfde6a4fd8"
   },
   "outputs": [],
   "source": [
    "simplify((A.T * A - a * eye(3)))"
   ]
  }
 ],
 "metadata": {
  "colab": {
   "authorship_tag": "ABX9TyPOF9NZfuPCY3pFZt+XE+Cn",
   "include_colab_link": true,
   "name": "ANMI.ipynb",
   "provenance": [],
   "toc_visible": true
  },
  "kernelspec": {
   "display_name": "Python 3",
   "language": "python",
   "name": "python3"
  },
  "language_info": {
   "codemirror_mode": {
    "name": "ipython",
    "version": 3
   },
   "file_extension": ".py",
   "mimetype": "text/x-python",
   "name": "python",
   "nbconvert_exporter": "python",
   "pygments_lexer": "ipython3",
   "version": "3.8.5"
  }
 },
 "nbformat": 4,
 "nbformat_minor": 4
}
