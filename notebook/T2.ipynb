{
 "cells": [
  {
   "cell_type": "markdown",
   "metadata": {
    "colab_type": "text",
    "id": "view-in-github"
   },
   "source": [
    "<a href=\"https://colab.research.google.com/github/alexmascension/ANMI/blob/main/notebook/T2.ipynb\" target=\"_parent\"><img src=\"https://colab.research.google.com/assets/colab-badge.svg\" alt=\"Open In Colab\"/></a>"
   ]
  },
  {
   "cell_type": "markdown",
   "metadata": {
    "id": "Vf3GioQwcepr"
   },
   "source": [
    "# Tema 2: Sistemas de ecuaciones numéricas lineales"
   ]
  },
  {
   "cell_type": "code",
   "execution_count": null,
   "metadata": {
    "id": "NEU_KHeLX58r"
   },
   "outputs": [],
   "source": [
    "!pip install -r https://raw.githubusercontent.com/alexmascension/ANMI/main/requirements.txt"
   ]
  },
  {
   "cell_type": "code",
   "execution_count": null,
   "metadata": {
    "id": "dYo_JGn2TSxC"
   },
   "outputs": [],
   "source": [
    "from sympy import *\n",
    "from sympy.matrices import Matrix as mat\n",
    "from sympy.matrices import randMatrix\n",
    "from sympy import symbols\n",
    "import sympy\n",
    "\n",
    "import numpy as np\n",
    "\n",
    "from scipy.linalg import orth"
   ]
  },
  {
   "cell_type": "code",
   "execution_count": null,
   "metadata": {
    "id": "MMGpqmzjX58t"
   },
   "outputs": [],
   "source": [
    "from anmi.genericas import norma, print_verbose, norma_1, norma_inf, norma_2\n",
    "\n",
    "from numpy.linalg import cond as numero_condicion\n",
    "from anmi.T2 import descomposicion_LU, descomposicion_LDU, cholesky, gram_schmidt, householder, factorizacion_QR\n",
    "from anmi.T2 import metodo_iterativo, criterio_m_matriz, criterio_SOR, criterio_simetrica_definida_positiva, criterio_diagonal_dominante, criterio_radio_espectral"
   ]
  },
  {
   "cell_type": "markdown",
   "metadata": {
    "id": "dnhFdr_9-sV2"
   },
   "source": [
    "### Número de condicion"
   ]
  },
  {
   "cell_type": "markdown",
   "metadata": {
    "id": "KMs1uAWmA0mt"
   },
   "source": [
    "El número de condición se define como $\\vert\\vert A \\vert\\vert \\cdot \\vert\\vert A^{-1}\\vert\\vert$. Un número de condición cercano a 1 implica una matriz más estable frente a métodos con elementos diferenciales. Se cumple que las matrices ortogonales tienen número de condición 1."
   ]
  },
  {
   "cell_type": "code",
   "execution_count": null,
   "metadata": {},
   "outputs": [],
   "source": [
    "help(numero_condicion)"
   ]
  },
  {
   "cell_type": "code",
   "execution_count": null,
   "metadata": {
    "id": "zEeV7Ic1-uF2"
   },
   "outputs": [],
   "source": [
    "M = mat(((1, 2, 3), (2, 3, 1), (3, 2, 4)))\n",
    "M"
   ]
  },
  {
   "cell_type": "code",
   "execution_count": null,
   "metadata": {
    "id": "9I7Yh2MXAdap"
   },
   "outputs": [],
   "source": [
    "numero_condicion(np.array(M).astype(int))"
   ]
  },
  {
   "cell_type": "code",
   "execution_count": null,
   "metadata": {
    "id": "avs2j_2h-7L_"
   },
   "outputs": [],
   "source": [
    "M_ort = (orth(np.array(M).astype(int)))\n",
    "M_ort"
   ]
  },
  {
   "cell_type": "code",
   "execution_count": null,
   "metadata": {
    "id": "pzDxNXvFAc3Y"
   },
   "outputs": [],
   "source": [
    "numero_condicion(M_ort)"
   ]
  },
  {
   "cell_type": "markdown",
   "metadata": {
    "id": "A0gMSfcy-kYL"
   },
   "source": [
    "### Factorización LU y LDU*\n",
    "\n",
    "Recordemos que para una matriz, la factorización LU es el proceso de aplicación de la simplificación de Gauss, de modo que la matriz $L$ es una matriz triangular inferior con los coeficientes de transformación, y la matriz $U$ es la matriz superior con los elementos tras las transformaciones lineales.\n",
    "\n",
    "Además, se puede hacer que $D$ sea una matriz diagonal con los valores de la diagonal de $U$, de modo que $LU$ = $LDD^{-1}U$, y si hacemos $U^* = D^{-1}U$ entonces tenemos $LDU^*$, donde $U^*$ sigue siendo una matriz diagonal superior, pero con la diagonal igual a 1.\n",
    "\n",
    "A la hora de aplicar la factorización LU y LDU* se puede hacer una permutación de filas, de modo que en cada iteración se coge la fila con mayor valor (de entre las que no se han *procesado*) y se permuta, garantizando una solución siempre. También, es importante tener en mente que la factorización falla si algún elemento de la diagonal (desde el principio o durante la factorización) es 0, de modo que para solucionar ese caso se aplica la permutación.\n",
    "\n",
    "Todas las permutaciones quedan recogidas en una matriz $P$, de modo que $$LU = LDU^* = PA$$"
   ]
  },
  {
   "cell_type": "code",
   "execution_count": null,
   "metadata": {},
   "outputs": [],
   "source": [
    "help(descomposicion_LU)"
   ]
  },
  {
   "cell_type": "code",
   "execution_count": null,
   "metadata": {
    "id": "kWCu2LKbDBbP"
   },
   "outputs": [],
   "source": [
    "M = mat(((1, 4, 4), (3, 2, 1), (2, 4, 1)))"
   ]
  },
  {
   "cell_type": "code",
   "execution_count": null,
   "metadata": {
    "id": "40fCFj_GIBTU"
   },
   "outputs": [],
   "source": [
    "descomposicion_LU(M, permutar_max=False)"
   ]
  },
  {
   "cell_type": "code",
   "execution_count": null,
   "metadata": {
    "id": "Zq3S3aEHGpEN"
   },
   "outputs": [],
   "source": [
    "descomposicion_LDU(M, permutar_max=False)"
   ]
  },
  {
   "cell_type": "code",
   "execution_count": null,
   "metadata": {
    "id": "GxsFFK6naXHD"
   },
   "outputs": [],
   "source": [
    "descomposicion_LU(M, rhs=ones(M.shape[0], 1), permutar_max=True)"
   ]
  },
  {
   "cell_type": "code",
   "execution_count": null,
   "metadata": {
    "id": "hfCYSdUBch4v"
   },
   "outputs": [],
   "source": [
    "descomposicion_LDU(M, permutar_max=True)"
   ]
  },
  {
   "cell_type": "markdown",
   "metadata": {
    "id": "W6br1XOwJdDp"
   },
   "source": [
    "### Factorización de Cholesky\n",
    "\n",
    "La factorización de Cholesky es una factorización que genera una matriz triangular inferior $L$ tal que $A = LL^T$. Para que una matriz sea factorizable, tiene que cumplir que sus menores principales sean positivos, y que sea simétrica."
   ]
  },
  {
   "cell_type": "code",
   "execution_count": null,
   "metadata": {},
   "outputs": [],
   "source": [
    "help(cholesky)"
   ]
  },
  {
   "cell_type": "code",
   "execution_count": null,
   "metadata": {
    "id": "5ZDS9ojOP-5l"
   },
   "outputs": [],
   "source": [
    "M = mat(((2, -1, 0), (-1, 2, -2), (0, 2, 1)))\n",
    "M"
   ]
  },
  {
   "cell_type": "code",
   "execution_count": null,
   "metadata": {
    "id": "7EeC9CrPQoOL"
   },
   "outputs": [],
   "source": [
    "cholesky(M)"
   ]
  },
  {
   "cell_type": "code",
   "execution_count": null,
   "metadata": {
    "id": "J6d5MNhHQqo1"
   },
   "outputs": [],
   "source": [
    "cholesky(M + M.T)"
   ]
  },
  {
   "cell_type": "code",
   "execution_count": null,
   "metadata": {
    "id": "Sr_zBF3ZQxRI"
   },
   "outputs": [],
   "source": [
    "M + M.T"
   ]
  },
  {
   "cell_type": "code",
   "execution_count": null,
   "metadata": {
    "id": "WtWk7kEFQAIO"
   },
   "outputs": [],
   "source": [
    "cholesky(M + M.T) * cholesky(M + M.T).T"
   ]
  },
  {
   "cell_type": "code",
   "execution_count": null,
   "metadata": {
    "id": "NnHjEDuxU7Jl"
   },
   "outputs": [],
   "source": [
    "# Podemos hacer también Cholesky a una matriz con símbolos!\n",
    "x = symbols('x')\n",
    "\n",
    "Mx = mat(((1, x, 1), (x, 2, 1), (1, 1, 3)))\n",
    "Mx"
   ]
  },
  {
   "cell_type": "code",
   "execution_count": null,
   "metadata": {
    "id": "UFy3EeZ4VL4c"
   },
   "outputs": [],
   "source": [
    "cholesky(Mx)"
   ]
  },
  {
   "cell_type": "markdown",
   "metadata": {
    "id": "MVBPnqO5TlKX"
   },
   "source": [
    "### Ortogonalización de Gram-Schmidt\n",
    "\n",
    "\n"
   ]
  },
  {
   "cell_type": "code",
   "execution_count": null,
   "metadata": {},
   "outputs": [],
   "source": [
    "help(gram_schmidt)"
   ]
  },
  {
   "cell_type": "code",
   "execution_count": null,
   "metadata": {
    "id": "6lDBiGAtXmAp"
   },
   "outputs": [],
   "source": [
    "M"
   ]
  },
  {
   "cell_type": "code",
   "execution_count": null,
   "metadata": {
    "id": "5Tuf5FxFVa_u"
   },
   "outputs": [],
   "source": [
    "GS = gram_schmidt(M)\n",
    "GS['P']"
   ]
  },
  {
   "cell_type": "code",
   "execution_count": null,
   "metadata": {
    "id": "5cgxsH2-cLrJ"
   },
   "outputs": [],
   "source": [
    "GS['Pn']"
   ]
  },
  {
   "cell_type": "code",
   "execution_count": null,
   "metadata": {
    "id": "WG_PCCm8cObF"
   },
   "outputs": [],
   "source": [
    "GS['c']"
   ]
  },
  {
   "cell_type": "code",
   "execution_count": null,
   "metadata": {
    "id": "VEadGxAmYIBq"
   },
   "outputs": [],
   "source": [
    "GS['P'][:, 1].T * GS['P'][:, 2]"
   ]
  },
  {
   "cell_type": "code",
   "execution_count": null,
   "metadata": {
    "id": "5qIpFX-oZNL1"
   },
   "outputs": [],
   "source": [
    "Mx = mat(((1, 2, 3), (1, x, 1), (0, 0, 3)))"
   ]
  },
  {
   "cell_type": "code",
   "execution_count": null,
   "metadata": {
    "id": "nFMKn1hRZGsR"
   },
   "outputs": [],
   "source": [
    "GSx = gram_schmidt(Mx)\n",
    "GSx['P']"
   ]
  },
  {
   "cell_type": "markdown",
   "metadata": {
    "id": "DxghRH1R2FpX"
   },
   "source": [
    "### Transformación de Householder\n",
    "\n",
    "La transformación de Householder es una transformación para pasar de un vertor $x$ a un vector $y$. Para ello se toma el vector $e$, que sería el eje de transformación, y la matriz aplicación es $H = I - 2ee^t$.\n",
    "\n",
    "En este caso, $$e = \\pm \\frac{x - y}{\\vert\\vert x - y \\vert\\vert}$$\n",
    "\n",
    "Para la transformación de Householder $x$ e $y$ **tienen que tener la misma norma**. El vector resultante $e$ tiene norma 1.\n"
   ]
  },
  {
   "cell_type": "code",
   "execution_count": null,
   "metadata": {},
   "outputs": [],
   "source": [
    "help(householder)"
   ]
  },
  {
   "cell_type": "code",
   "execution_count": null,
   "metadata": {
    "id": "ZaqNjL9S6Emp"
   },
   "outputs": [],
   "source": [
    "v0 = mat(((1, 0)))\n",
    "vf = mat((1, 1))\n",
    "vf = vf/norma(vf)"
   ]
  },
  {
   "cell_type": "code",
   "execution_count": null,
   "metadata": {
    "id": "4eX3aGll48tB"
   },
   "outputs": [],
   "source": [
    "H, e = householder(v0, vf, normalizar=False)\n",
    "H"
   ]
  },
  {
   "cell_type": "code",
   "execution_count": null,
   "metadata": {
    "id": "KnsssCN89u7r"
   },
   "outputs": [],
   "source": [
    "e"
   ]
  },
  {
   "cell_type": "code",
   "execution_count": null,
   "metadata": {
    "id": "ZZHLaNT-9wk5"
   },
   "outputs": [],
   "source": [
    "# Ejercicio 10\n",
    "t = symbols('t')\n",
    "\n",
    "v0 = mat(((1, 0)))\n",
    "vf = mat((cos(t), sin(t)))\n",
    "\n",
    "H, e = householder(v0, vf, normalizar=False)"
   ]
  },
  {
   "cell_type": "code",
   "execution_count": null,
   "metadata": {
    "id": "YTqdf6vW96KO"
   },
   "outputs": [],
   "source": [
    "H"
   ]
  },
  {
   "cell_type": "code",
   "execution_count": null,
   "metadata": {
    "id": "ixbJ7kcs4XR7"
   },
   "outputs": [],
   "source": [
    "e"
   ]
  },
  {
   "cell_type": "markdown",
   "metadata": {
    "id": "6S0zeTyOSOmw"
   },
   "source": [
    "### Factorización QR\n",
    "\n",
    "La factorización QR consiste en transformar $A = QR$ donde $Q$ es ortogonal y $R$ es triangular superior. \n",
    "\n",
    "Si $P$ es la matriz ortogonalizada, $C$ es la matriz con los factores de ortonormalización (para Gram-Schmidt, por ejemplo, es $m_{ij} = \\frac{a^j\\cdot p^i}{\\vert\\vert p^{i}\\vert\\vert^2}$ y $D$ es la matriz de las normas de los vectores ortogonales ($\\vert\\vert p^i\\vert\\vert$), entonces se tiene que:\n",
    "$$Q = PD^{-1}$$\n",
    "$$R = D(I + C)$$"
   ]
  },
  {
   "cell_type": "code",
   "execution_count": null,
   "metadata": {},
   "outputs": [],
   "source": [
    "help(factorizacion_QR)"
   ]
  },
  {
   "cell_type": "code",
   "execution_count": null,
   "metadata": {
    "id": "3A5b1Hp4dvfH"
   },
   "outputs": [],
   "source": [
    "M = mat(((2, -1, 0), (0, 0, -2), (0, 2, -1)))"
   ]
  },
  {
   "cell_type": "code",
   "execution_count": null,
   "metadata": {
    "id": "7PPzCSsKd3J5"
   },
   "outputs": [],
   "source": [
    "factorizacion_QR(M, metodo='householder')"
   ]
  },
  {
   "cell_type": "code",
   "execution_count": null,
   "metadata": {
    "id": "nEHBugO-a_M1"
   },
   "outputs": [],
   "source": [
    "A1 = mat(((2, -1, 0), (0, 0, -2), (0, 2, -1)))"
   ]
  },
  {
   "cell_type": "code",
   "execution_count": null,
   "metadata": {
    "id": "QEreyR_kbBPz"
   },
   "outputs": [],
   "source": [
    "A1 = mat(((1, 2, 3), (4, 5, 6), (7, 8, 9)))\n",
    "A1"
   ]
  },
  {
   "cell_type": "code",
   "execution_count": null,
   "metadata": {
    "id": "WpXMNwCbhWVv"
   },
   "outputs": [],
   "source": [
    "dqr = factorizacion_QR(A1, metodo='householder')"
   ]
  },
  {
   "cell_type": "code",
   "execution_count": null,
   "metadata": {
    "id": "5sxX26YhdASo"
   },
   "outputs": [],
   "source": [
    "dqr['Q']"
   ]
  },
  {
   "cell_type": "code",
   "execution_count": null,
   "metadata": {
    "id": "v3hTTSAOdAIF"
   },
   "outputs": [],
   "source": [
    "dqr['R']"
   ]
  },
  {
   "cell_type": "code",
   "execution_count": null,
   "metadata": {
    "id": "4oVoviHzhWaF"
   },
   "outputs": [],
   "source": [
    "simplify(dqr['Q'].T * dqr['Q'])"
   ]
  },
  {
   "cell_type": "code",
   "execution_count": null,
   "metadata": {
    "id": "2O2FruG5cwnO"
   },
   "outputs": [],
   "source": [
    "simplify(dqr['Q'] * dqr['R'])"
   ]
  },
  {
   "cell_type": "markdown",
   "metadata": {
    "id": "SmLgOIcudSpl"
   },
   "source": [
    "### Métodos iterativos\n",
    "\n"
   ]
  },
  {
   "cell_type": "markdown",
   "metadata": {
    "id": "L2SsjovFdWe0"
   },
   "source": [
    "Los métodos iterativos son métodos para resolver el sistema $Ax=b$. Todos los métodos se basan en el mismo criterio, que es emplear una matriz $H$ tal que, para una iteración:\n",
    "$$x^{(k+1)} = Hx^{(k)} + b'$$\n",
    "\n",
    "Si tomamos la matriz $A = D - L - U$ (donde $D$ es la diagonal de $A$, y $L$ y $U$ son matrices triangulares de elementos de $A$), la ecuación anterior queda:\n",
    "$$Mx^{(k+1)} = (M-A)x^{(k)} + b$$\n",
    "\n",
    "Y simplemente hay que despejar para $x^{(k+1)}$ (pues $x^{(k)}$ lo conocemos) y repetir el procedimiento hasta convergencia:\n",
    "$$x^{(k+1)} = M^{-1}(M-A)x^{(k)} + M^{-1}b$$\n",
    "\n",
    "Según el método, la matriz difiere: para Jacobi es $M = D$, para Gauss-Seidel es $M = D-L$ y para sobre-relajación (ros) es $M = \\frac{1}{\\omega}D - L$."
   ]
  },
  {
   "cell_type": "code",
   "execution_count": null,
   "metadata": {},
   "outputs": [],
   "source": [
    "help(metodo_iterativo)"
   ]
  },
  {
   "cell_type": "code",
   "execution_count": null,
   "metadata": {
    "id": "oqnh2RrfdWXS"
   },
   "outputs": [],
   "source": [
    "A = mat([[2, 1, 1], [1, -2, 1], [1, 1, 2]])\n",
    "b = mat([[1, 1, 1]]).T"
   ]
  },
  {
   "cell_type": "code",
   "execution_count": null,
   "metadata": {
    "id": "EFLlJcGidWRR"
   },
   "outputs": [],
   "source": [
    "diter = metodo_iterativo(A, b, n_iter=200, verbose=True)\n",
    "np.array(diter['x'], dtype=float)"
   ]
  },
  {
   "cell_type": "code",
   "execution_count": null,
   "metadata": {
    "id": "5xTufrqjdV1d"
   },
   "outputs": [],
   "source": [
    "# EJERCICIO 12\n",
    "a = symbols('a')\n",
    "\n",
    "A = mat([[4, 1, a], [1, 4, 1], [a, 1, 4]])\n",
    "metodo_iterativo(A, metodo='gs', n_iter=3)"
   ]
  },
  {
   "cell_type": "code",
   "execution_count": null,
   "metadata": {
    "id": "GYDG-ezJw-p_"
   },
   "outputs": [],
   "source": [
    "# EJERCICIO 14\n",
    "A = mat([[-11, 20, 8], [20, 16, -8], [8, -8, 5]]) / 27\n",
    "norma_1(A)\n",
    "norma_inf(A)\n",
    "d = [simplify(i) for i in list((A.T * A).eigenvals().keys())]\n",
    "# norma_2(A)"
   ]
  },
  {
   "cell_type": "code",
   "execution_count": null,
   "metadata": {
    "id": "zHoLZBSQ1gwN"
   },
   "outputs": [],
   "source": [
    "A"
   ]
  },
  {
   "cell_type": "code",
   "execution_count": null,
   "metadata": {
    "id": "9atj7Xxr1AQ_"
   },
   "outputs": [],
   "source": [
    "A.T * A"
   ]
  },
  {
   "cell_type": "code",
   "execution_count": null,
   "metadata": {
    "id": "Zcd4rMQe0gBl"
   },
   "outputs": [],
   "source": [
    "simplify((A.T * A - a * eye(3)))"
   ]
  }
 ],
 "metadata": {
  "colab": {
   "include_colab_link": true,
   "name": "ANMI.ipynb",
   "provenance": [],
   "toc_visible": true
  },
  "kernelspec": {
   "display_name": "Python 3",
   "language": "python",
   "name": "python3"
  },
  "language_info": {
   "codemirror_mode": {
    "name": "ipython",
    "version": 3
   },
   "file_extension": ".py",
   "mimetype": "text/x-python",
   "name": "python",
   "nbconvert_exporter": "python",
   "pygments_lexer": "ipython3",
   "version": "3.8.5"
  }
 },
 "nbformat": 4,
 "nbformat_minor": 4
}
