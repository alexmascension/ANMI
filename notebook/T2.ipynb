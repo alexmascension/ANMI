{
  "nbformat": 4,
  "nbformat_minor": 0,
  "metadata": {
    "colab": {
      "name": "ANMI.ipynb",
      "provenance": [],
      "toc_visible": true,
      "include_colab_link": true
    },
    "kernelspec": {
      "display_name": "Python 3",
      "language": "python",
      "name": "python3"
    },
    "language_info": {
      "codemirror_mode": {
        "name": "ipython",
        "version": 3
      },
      "file_extension": ".py",
      "mimetype": "text/x-python",
      "name": "python",
      "nbconvert_exporter": "python",
      "pygments_lexer": "ipython3",
      "version": "3.8.5"
    }
  },
  "cells": [
    {
      "cell_type": "markdown",
      "metadata": {
        "id": "view-in-github",
        "colab_type": "text"
      },
      "source": [
        "<a href=\"https://colab.research.google.com/github/alexmascension/ANMI/blob/main/notebook/T2.ipynb\" target=\"_parent\"><img src=\"https://colab.research.google.com/assets/colab-badge.svg\" alt=\"Open In Colab\"/></a>"
      ]
    },
    {
      "cell_type": "markdown",
      "metadata": {
        "id": "Vf3GioQwcepr"
      },
      "source": [
        "# Tema 2: Sistemas de ecuaciones numéricas lineales"
      ]
    },
    {
      "cell_type": "code",
      "metadata": {
        "id": "NEU_KHeLX58r",
        "outputId": "ef4ebcc5-2907-4fc5-d5a9-202949a4d78c",
        "colab": {
          "base_uri": "https://localhost:8080/"
        }
      },
      "source": [
        "!pip install -r https://raw.githubusercontent.com/alexmascension/ANMI/main/requirements.txt"
      ],
      "execution_count": 1,
      "outputs": [
        {
          "output_type": "stream",
          "text": [
            "Requirement already satisfied: numpy in /usr/local/lib/python3.7/dist-packages (from -r https://raw.githubusercontent.com/alexmascension/ANMI/main/requirements.txt (line 1)) (1.19.5)\n",
            "Requirement already satisfied: sympy in /usr/local/lib/python3.7/dist-packages (from -r https://raw.githubusercontent.com/alexmascension/ANMI/main/requirements.txt (line 2)) (1.7.1)\n",
            "Requirement already satisfied: matplotlib in /usr/local/lib/python3.7/dist-packages (from -r https://raw.githubusercontent.com/alexmascension/ANMI/main/requirements.txt (line 3)) (3.2.2)\n",
            "Requirement already satisfied: scipy in /usr/local/lib/python3.7/dist-packages (from -r https://raw.githubusercontent.com/alexmascension/ANMI/main/requirements.txt (line 4)) (1.4.1)\n",
            "Collecting anmi\n",
            "  Downloading https://files.pythonhosted.org/packages/03/7d/ba680cec426e172795b3c060115360f0273d3fbe1114b1461f47323638b6/anmi-0.0.6-py3-none-any.whl\n",
            "Requirement already satisfied: mpmath>=0.19 in /usr/local/lib/python3.7/dist-packages (from sympy->-r https://raw.githubusercontent.com/alexmascension/ANMI/main/requirements.txt (line 2)) (1.2.1)\n",
            "Requirement already satisfied: cycler>=0.10 in /usr/local/lib/python3.7/dist-packages (from matplotlib->-r https://raw.githubusercontent.com/alexmascension/ANMI/main/requirements.txt (line 3)) (0.10.0)\n",
            "Requirement already satisfied: python-dateutil>=2.1 in /usr/local/lib/python3.7/dist-packages (from matplotlib->-r https://raw.githubusercontent.com/alexmascension/ANMI/main/requirements.txt (line 3)) (2.8.1)\n",
            "Requirement already satisfied: pyparsing!=2.0.4,!=2.1.2,!=2.1.6,>=2.0.1 in /usr/local/lib/python3.7/dist-packages (from matplotlib->-r https://raw.githubusercontent.com/alexmascension/ANMI/main/requirements.txt (line 3)) (2.4.7)\n",
            "Requirement already satisfied: kiwisolver>=1.0.1 in /usr/local/lib/python3.7/dist-packages (from matplotlib->-r https://raw.githubusercontent.com/alexmascension/ANMI/main/requirements.txt (line 3)) (1.3.1)\n",
            "Requirement already satisfied: six in /usr/local/lib/python3.7/dist-packages (from cycler>=0.10->matplotlib->-r https://raw.githubusercontent.com/alexmascension/ANMI/main/requirements.txt (line 3)) (1.15.0)\n",
            "Installing collected packages: anmi\n",
            "Successfully installed anmi-0.0.6\n"
          ],
          "name": "stdout"
        }
      ]
    },
    {
      "cell_type": "code",
      "metadata": {
        "id": "dYo_JGn2TSxC"
      },
      "source": [
        "from sympy import *\n",
        "from sympy.matrices import Matrix as mat\n",
        "from sympy.matrices import randMatrix\n",
        "from sympy import symbols\n",
        "import sympy\n",
        "\n",
        "import numpy as np\n",
        "\n",
        "from scipy.linalg import orth"
      ],
      "execution_count": 2,
      "outputs": []
    },
    {
      "cell_type": "code",
      "metadata": {
        "id": "MMGpqmzjX58t"
      },
      "source": [
        "from anmi.genericas import norma, print_verbose, norma_1, norma_inf, norma_2\n",
        "\n",
        "from numpy.linalg import cond as numero_condicion\n",
        "from anmi.T2 import descomposicion_LU, descomposicion_LDU, cholesky, gram_schmidt, householder, factorizacion_QR\n",
        "from anmi.T2 import metodo_iterativo, criterio_m_matriz, criterio_SOR, criterio_simetrica_definida_positiva, criterio_diagonal_dominante, criterio_radio_espectral"
      ],
      "execution_count": 3,
      "outputs": []
    },
    {
      "cell_type": "markdown",
      "metadata": {
        "id": "dnhFdr_9-sV2"
      },
      "source": [
        "### Número de condicion"
      ]
    },
    {
      "cell_type": "markdown",
      "metadata": {
        "id": "KMs1uAWmA0mt"
      },
      "source": [
        "El número de condición se define como $\\vert\\vert A \\vert\\vert \\cdot \\vert\\vert A^{-1}\\vert\\vert$. Un número de condición cercano a 1 implica una matriz más estable frente a métodos con elementos diferenciales. Se cumple que las matrices ortogonales tienen número de condición 1."
      ]
    },
    {
      "cell_type": "code",
      "metadata": {
        "id": "qflslI-rTYcZ",
        "outputId": "16d4076c-f600-47b0-efde-df62db639733",
        "colab": {
          "base_uri": "https://localhost:8080/"
        }
      },
      "source": [
        "help(numero_condicion)"
      ],
      "execution_count": 4,
      "outputs": [
        {
          "output_type": "stream",
          "text": [
            "Help on function cond in module numpy.linalg:\n",
            "\n",
            "cond(x, p=None)\n",
            "    Compute the condition number of a matrix.\n",
            "    \n",
            "    This function is capable of returning the condition number using\n",
            "    one of seven different norms, depending on the value of `p` (see\n",
            "    Parameters below).\n",
            "    \n",
            "    Parameters\n",
            "    ----------\n",
            "    x : (..., M, N) array_like\n",
            "        The matrix whose condition number is sought.\n",
            "    p : {None, 1, -1, 2, -2, inf, -inf, 'fro'}, optional\n",
            "        Order of the norm:\n",
            "    \n",
            "        =====  ============================\n",
            "        p      norm for matrices\n",
            "        =====  ============================\n",
            "        None   2-norm, computed directly using the ``SVD``\n",
            "        'fro'  Frobenius norm\n",
            "        inf    max(sum(abs(x), axis=1))\n",
            "        -inf   min(sum(abs(x), axis=1))\n",
            "        1      max(sum(abs(x), axis=0))\n",
            "        -1     min(sum(abs(x), axis=0))\n",
            "        2      2-norm (largest sing. value)\n",
            "        -2     smallest singular value\n",
            "        =====  ============================\n",
            "    \n",
            "        inf means the numpy.inf object, and the Frobenius norm is\n",
            "        the root-of-sum-of-squares norm.\n",
            "    \n",
            "    Returns\n",
            "    -------\n",
            "    c : {float, inf}\n",
            "        The condition number of the matrix. May be infinite.\n",
            "    \n",
            "    See Also\n",
            "    --------\n",
            "    numpy.linalg.norm\n",
            "    \n",
            "    Notes\n",
            "    -----\n",
            "    The condition number of `x` is defined as the norm of `x` times the\n",
            "    norm of the inverse of `x` [1]_; the norm can be the usual L2-norm\n",
            "    (root-of-sum-of-squares) or one of a number of other matrix norms.\n",
            "    \n",
            "    References\n",
            "    ----------\n",
            "    .. [1] G. Strang, *Linear Algebra and Its Applications*, Orlando, FL,\n",
            "           Academic Press, Inc., 1980, pg. 285.\n",
            "    \n",
            "    Examples\n",
            "    --------\n",
            "    >>> from numpy import linalg as LA\n",
            "    >>> a = np.array([[1, 0, -1], [0, 1, 0], [1, 0, 1]])\n",
            "    >>> a\n",
            "    array([[ 1,  0, -1],\n",
            "           [ 0,  1,  0],\n",
            "           [ 1,  0,  1]])\n",
            "    >>> LA.cond(a)\n",
            "    1.4142135623730951\n",
            "    >>> LA.cond(a, 'fro')\n",
            "    3.1622776601683795\n",
            "    >>> LA.cond(a, np.inf)\n",
            "    2.0\n",
            "    >>> LA.cond(a, -np.inf)\n",
            "    1.0\n",
            "    >>> LA.cond(a, 1)\n",
            "    2.0\n",
            "    >>> LA.cond(a, -1)\n",
            "    1.0\n",
            "    >>> LA.cond(a, 2)\n",
            "    1.4142135623730951\n",
            "    >>> LA.cond(a, -2)\n",
            "    0.70710678118654746 # may vary\n",
            "    >>> min(LA.svd(a, compute_uv=False))*min(LA.svd(LA.inv(a), compute_uv=False))\n",
            "    0.70710678118654746 # may vary\n",
            "\n"
          ],
          "name": "stdout"
        }
      ]
    },
    {
      "cell_type": "code",
      "metadata": {
        "id": "zEeV7Ic1-uF2",
        "outputId": "def0e6f0-d9ca-4b02-d6a2-2fe933261f5f",
        "colab": {
          "base_uri": "https://localhost:8080/",
          "height": 79
        }
      },
      "source": [
        "M = mat(((1, 2, 3), (2, 3, 1), (3, 2, 4)))\n",
        "M"
      ],
      "execution_count": 5,
      "outputs": [
        {
          "output_type": "execute_result",
          "data": {
            "text/latex": "$\\displaystyle \\left[\\begin{matrix}1 & 2 & 3\\\\2 & 3 & 1\\\\3 & 2 & 4\\end{matrix}\\right]$",
            "text/plain": [
              "Matrix([\n",
              "[1, 2, 3],\n",
              "[2, 3, 1],\n",
              "[3, 2, 4]])"
            ]
          },
          "metadata": {
            "tags": []
          },
          "execution_count": 5
        }
      ]
    },
    {
      "cell_type": "code",
      "metadata": {
        "id": "9I7Yh2MXAdap",
        "outputId": "c9b2a16f-0b28-4717-ff8d-5fe4aad80aad",
        "colab": {
          "base_uri": "https://localhost:8080/"
        }
      },
      "source": [
        "numero_condicion(np.array(M).astype(int))"
      ],
      "execution_count": 6,
      "outputs": [
        {
          "output_type": "execute_result",
          "data": {
            "text/plain": [
              "6.960250455451664"
            ]
          },
          "metadata": {
            "tags": []
          },
          "execution_count": 6
        }
      ]
    },
    {
      "cell_type": "code",
      "metadata": {
        "id": "avs2j_2h-7L_",
        "outputId": "ed8fa262-1a99-4309-93a5-500071feb859",
        "colab": {
          "base_uri": "https://localhost:8080/"
        }
      },
      "source": [
        "M_ort = (orth(np.array(M).astype(int)))\n",
        "M_ort"
      ],
      "execution_count": 7,
      "outputs": [
        {
          "output_type": "execute_result",
          "data": {
            "text/plain": [
              "array([[-0.50127996, -0.23313726,  0.83328592],\n",
              "       [-0.45615124,  0.88953592, -0.02553206],\n",
              "       [-0.73528528, -0.39290311, -0.55225239]])"
            ]
          },
          "metadata": {
            "tags": []
          },
          "execution_count": 7
        }
      ]
    },
    {
      "cell_type": "code",
      "metadata": {
        "id": "pzDxNXvFAc3Y",
        "outputId": "f8fca64d-f231-42fa-ed57-adcbbcb5d292",
        "colab": {
          "base_uri": "https://localhost:8080/"
        }
      },
      "source": [
        "numero_condicion(M_ort)"
      ],
      "execution_count": 8,
      "outputs": [
        {
          "output_type": "execute_result",
          "data": {
            "text/plain": [
              "1.0000000000000004"
            ]
          },
          "metadata": {
            "tags": []
          },
          "execution_count": 8
        }
      ]
    },
    {
      "cell_type": "markdown",
      "metadata": {
        "id": "A0gMSfcy-kYL"
      },
      "source": [
        "### Factorización LU y LDU*\n",
        "\n",
        "Recordemos que para una matriz, la factorización LU es el proceso de aplicación de la simplificación de Gauss, de modo que la matriz $L$ es una matriz triangular inferior con los coeficientes de transformación, y la matriz $U$ es la matriz superior con los elementos tras las transformaciones lineales.\n",
        "\n",
        "Además, se puede hacer que $D$ sea una matriz diagonal con los valores de la diagonal de $U$, de modo que $LU$ = $LDD^{-1}U$, y si hacemos $U^* = D^{-1}U$ entonces tenemos $LDU^*$, donde $U^*$ sigue siendo una matriz diagonal superior, pero con la diagonal igual a 1.\n",
        "\n",
        "A la hora de aplicar la factorización LU y LDU* se puede hacer una permutación de filas, de modo que en cada iteración se coge la fila con mayor valor (de entre las que no se han *procesado*) y se permuta, garantizando una solución siempre. También, es importante tener en mente que la factorización falla si algún elemento de la diagonal (desde el principio o durante la factorización) es 0, de modo que para solucionar ese caso se aplica la permutación.\n",
        "\n",
        "Todas las permutaciones quedan recogidas en una matriz $P$, de modo que $$LU = LDU^* = PA$$"
      ]
    },
    {
      "cell_type": "code",
      "metadata": {
        "id": "KASrRiC7TYcd",
        "outputId": "c5ac22dc-1614-4ea3-8bcf-df37e46300ce",
        "colab": {
          "base_uri": "https://localhost:8080/"
        }
      },
      "source": [
        "help(descomposicion_LU)"
      ],
      "execution_count": 9,
      "outputs": [
        {
          "output_type": "stream",
          "text": [
            "Help on function descomposicion_LU in module anmi.T2.funcs_LUD:\n",
            "\n",
            "descomposicion_LU(m, rhs=None, verbose=True, permutar_max=False)\n",
            "    Esta función realiza el algoritmo de triangulación de Gauss.\n",
            "        Para ello vamos a ir aplicando paso a paso el algoritmo tal\n",
            "        cual se hace manualmente,\n",
            "        y aplicamos los cambios de columnas necesarios si hay\n",
            "        que aplicar permutaciones.\n",
            "        Por defecto, si encontramos un 0 en la diagonal aplicamos\n",
            "        permutar_max para esa\n",
            "        fila, y devolvemos la matriz de permutaciones.\n",
            "    \n",
            "    Args:\n",
            "        m (matriz): Matriz a descomponer\n",
            "        rhs (matriz, optional): Lado derecho de la ecuación. Default es [1, 1, ..., 1]\n",
            "        verbose (bool, optional): Aplicar verbose.\n",
            "        permutar_max (bool, optional): Aplicar permutación por filas aun si no es necesario. Defaults to False.\n",
            "    \n",
            "    Returns:\n",
            "        dict: {\"P\": matriz de permutaciones, \"L\": matriz L, U\": matriz U, \"r\": matriz rhs adecuada a U}\n",
            "\n"
          ],
          "name": "stdout"
        }
      ]
    },
    {
      "cell_type": "code",
      "metadata": {
        "id": "kWCu2LKbDBbP"
      },
      "source": [
        "M = mat(((1, 4, 4), (3, 2, 1), (2, 4, 1)))"
      ],
      "execution_count": 10,
      "outputs": []
    },
    {
      "cell_type": "code",
      "metadata": {
        "id": "40fCFj_GIBTU",
        "outputId": "bbcf577d-ef8e-4310-cfe5-d5a0b8334c0e",
        "colab": {
          "base_uri": "https://localhost:8080/"
        }
      },
      "source": [
        "descomposicion_LU(M, permutar_max=False)"
      ],
      "execution_count": 11,
      "outputs": [
        {
          "output_type": "stream",
          "text": [
            "La matriz M|X es  (X = 0) si no se ha introducido\n",
            "[[1 4 4 0]\n",
            " [3 2 1 0]\n",
            " [2 4 1 0]]\n",
            "\n",
            "=====================================\n",
            "Fila 0\n",
            "A 0, 0\n",
            "\n",
            "=====================================\n",
            "Fila 1\n",
            "A 1, 0\n",
            "||||||||||||||||||||||||\n",
            " Columna 0\n",
            "a_1,0 = 3\n",
            "P = \n",
            "[[1 0 0]\n",
            " [0 1 0]\n",
            " [0 0 1]]\n",
            "L = \n",
            "[[1 0 0]\n",
            " [3 1 0]\n",
            " [0 0 1]]\n",
            "U = \n",
            "[[1 4 4]\n",
            " [0 -10 -11]\n",
            " [2 4 1]]\n",
            "r = \n",
            "[[0]\n",
            " [0]\n",
            " [0]]\n",
            "\n",
            "=====================================\n",
            "Fila 2\n",
            "A 2, 0\n",
            "||||||||||||||||||||||||\n",
            " Columna 0\n",
            "a_2,0 = 2\n",
            "P = \n",
            "[[1 0 0]\n",
            " [0 1 0]\n",
            " [0 0 1]]\n",
            "L = \n",
            "[[1 0 0]\n",
            " [3 1 0]\n",
            " [2 0 1]]\n",
            "U = \n",
            "[[1 4 4]\n",
            " [0 -10 -11]\n",
            " [0 -4 -7]]\n",
            "r = \n",
            "[[0]\n",
            " [0]\n",
            " [0]]\n",
            "||||||||||||||||||||||||\n",
            " Columna 1\n",
            "a_2,1 = 2/5\n",
            "P = \n",
            "[[1 0 0]\n",
            " [0 1 0]\n",
            " [0 0 1]]\n",
            "L = \n",
            "[[1 0 0]\n",
            " [3 1 0]\n",
            " [2 2/5 1]]\n",
            "U = \n",
            "[[1 4 4]\n",
            " [0 -10 -11]\n",
            " [0 0 -13/5]]\n",
            "r = \n",
            "[[0]\n",
            " [0]\n",
            " [0]]\n",
            "================= FORMA FINAL\n",
            "a_3,1 = 2/5\n",
            "P = \n",
            "[[1 0 0]\n",
            " [0 1 0]\n",
            " [0 0 1]]\n",
            "\n",
            "L = \n",
            "[[1 0 0]\n",
            " [3 1 0]\n",
            " [2 2/5 1]]\n",
            "\n",
            "U = \n",
            "[[1 4 4]\n",
            " [0 -10 -11]\n",
            " [0 0 -13/5]]\n",
            "\n",
            "r = \n",
            "[[0]\n",
            " [0]\n",
            " [0]]\n",
            "\n"
          ],
          "name": "stdout"
        },
        {
          "output_type": "execute_result",
          "data": {
            "text/plain": [
              "{'L': Matrix([\n",
              " [1,   0, 0],\n",
              " [3,   1, 0],\n",
              " [2, 2/5, 1]]), 'P': Matrix([\n",
              " [1, 0, 0],\n",
              " [0, 1, 0],\n",
              " [0, 0, 1]]), 'U': Matrix([\n",
              " [1,   4,     4],\n",
              " [0, -10,   -11],\n",
              " [0,   0, -13/5]]), 'r': Matrix([\n",
              " [0],\n",
              " [0],\n",
              " [0]])}"
            ]
          },
          "metadata": {
            "tags": []
          },
          "execution_count": 11
        }
      ]
    },
    {
      "cell_type": "code",
      "metadata": {
        "id": "Zq3S3aEHGpEN",
        "outputId": "b0290a35-e73d-4450-99e2-661a1be2bb1b",
        "colab": {
          "base_uri": "https://localhost:8080/"
        }
      },
      "source": [
        "descomposicion_LDU(M, permutar_max=False)"
      ],
      "execution_count": 12,
      "outputs": [
        {
          "output_type": "execute_result",
          "data": {
            "text/plain": [
              "{'D': Matrix([\n",
              " [1,   0,     0],\n",
              " [0, -10,     0],\n",
              " [0,   0, -13/5]]), 'L': Matrix([\n",
              " [1,   0, 0],\n",
              " [3,   1, 0],\n",
              " [2, 2/5, 1]]), 'P': Matrix([\n",
              " [1, 0, 0],\n",
              " [0, 1, 0],\n",
              " [0, 0, 1]]), 'U': Matrix([\n",
              " [1, 4,     4],\n",
              " [0, 1, 11/10],\n",
              " [0, 0,     1]])}"
            ]
          },
          "metadata": {
            "tags": []
          },
          "execution_count": 12
        }
      ]
    },
    {
      "cell_type": "code",
      "metadata": {
        "id": "GxsFFK6naXHD",
        "outputId": "f017035b-2edb-4003-9a28-c41e0fc1d5b6",
        "colab": {
          "base_uri": "https://localhost:8080/"
        }
      },
      "source": [
        "descomposicion_LU(M, rhs=ones(M.shape[0], 1), permutar_max=True)"
      ],
      "execution_count": 13,
      "outputs": [
        {
          "output_type": "stream",
          "text": [
            "La matriz M|X es  (X = 0) si no se ha introducido\n",
            "[[1 4 4 1]\n",
            " [3 2 1 1]\n",
            " [2 4 1 1]]\n",
            "\n",
            "=====================================\n",
            "Fila 0\n",
            "A 0, 0\n",
            "El índice de permutación es igual a la fila a permutar.\n",
            "\n",
            "=====================================\n",
            "Fila 1\n",
            "A 1, 0\n",
            "Permutamos fila 1 con 2\n",
            "U antes:\n",
            " [[1 4 4]\n",
            " [3 2 1]\n",
            " [2 4 1]]\n",
            "P antes:\n",
            " [[1 0 0]\n",
            " [0 1 0]\n",
            " [0 0 1]]\n",
            "U despues:\n",
            " [[1 4 4]\n",
            " [2 4 1]\n",
            " [3 2 1]]\n",
            "P despues:\n",
            " [[1 0 0]\n",
            " [0 0 1]\n",
            " [0 1 0]]\n",
            "L antes:\n",
            " [[1 0 0]\n",
            " [0 1 0]\n",
            " [0 0 1]]\n",
            "L despues:\n",
            " [[1 0 0]\n",
            " [0 1 0]\n",
            " [0 0 1]]\n",
            "\n",
            "=====================================\n",
            "Fila 1\n",
            "A 1, 0\n",
            "El índice de permutación es igual a la fila a permutar.\n",
            "||||||||||||||||||||||||\n",
            " Columna 0\n",
            "a_1,0 = 2\n",
            "P = \n",
            "[[1 0 0]\n",
            " [0 0 1]\n",
            " [0 1 0]]\n",
            "L = \n",
            "[[1 0 0]\n",
            " [2 1 0]\n",
            " [0 0 1]]\n",
            "U = \n",
            "[[1 4 4]\n",
            " [0 -4 -7]\n",
            " [3 2 1]]\n",
            "r = \n",
            "[[1]\n",
            " [-1]\n",
            " [1]]\n",
            "\n",
            "=====================================\n",
            "Fila 2\n",
            "A 2, 0\n",
            "El índice de permutación es igual a la fila a permutar.\n",
            "||||||||||||||||||||||||\n",
            " Columna 0\n",
            "a_2,0 = 3\n",
            "P = \n",
            "[[1 0 0]\n",
            " [0 0 1]\n",
            " [0 1 0]]\n",
            "L = \n",
            "[[1 0 0]\n",
            " [2 1 0]\n",
            " [3 0 1]]\n",
            "U = \n",
            "[[1 4 4]\n",
            " [0 -4 -7]\n",
            " [0 -10 -11]]\n",
            "r = \n",
            "[[1]\n",
            " [-1]\n",
            " [-2]]\n",
            "||||||||||||||||||||||||\n",
            " Columna 1\n",
            "a_2,1 = 5/2\n",
            "P = \n",
            "[[1 0 0]\n",
            " [0 0 1]\n",
            " [0 1 0]]\n",
            "L = \n",
            "[[1 0 0]\n",
            " [2 1 0]\n",
            " [3 5/2 1]]\n",
            "U = \n",
            "[[1 4 4]\n",
            " [0 -4 -7]\n",
            " [0 0 13/2]]\n",
            "r = \n",
            "[[1]\n",
            " [-1]\n",
            " [1/2]]\n",
            "================= FORMA FINAL\n",
            "a_3,1 = 5/2\n",
            "P = \n",
            "[[1 0 0]\n",
            " [0 0 1]\n",
            " [0 1 0]]\n",
            "\n",
            "L = \n",
            "[[1 0 0]\n",
            " [2 1 0]\n",
            " [3 5/2 1]]\n",
            "\n",
            "U = \n",
            "[[1 4 4]\n",
            " [0 -4 -7]\n",
            " [0 0 13/2]]\n",
            "\n",
            "r = \n",
            "[[1]\n",
            " [-1]\n",
            " [1/2]]\n",
            "\n"
          ],
          "name": "stdout"
        },
        {
          "output_type": "execute_result",
          "data": {
            "text/plain": [
              "{'L': Matrix([\n",
              " [1,   0, 0],\n",
              " [2,   1, 0],\n",
              " [3, 5/2, 1]]), 'P': Matrix([\n",
              " [1, 0, 0],\n",
              " [0, 0, 1],\n",
              " [0, 1, 0]]), 'U': Matrix([\n",
              " [1,  4,    4],\n",
              " [0, -4,   -7],\n",
              " [0,  0, 13/2]]), 'r': Matrix([\n",
              " [  1],\n",
              " [ -1],\n",
              " [1/2]])}"
            ]
          },
          "metadata": {
            "tags": []
          },
          "execution_count": 13
        }
      ]
    },
    {
      "cell_type": "code",
      "metadata": {
        "id": "hfCYSdUBch4v",
        "outputId": "267d242e-b154-4bc1-e97d-3722f11bb7cb",
        "colab": {
          "base_uri": "https://localhost:8080/"
        }
      },
      "source": [
        "descomposicion_LDU(M, permutar_max=True)"
      ],
      "execution_count": 14,
      "outputs": [
        {
          "output_type": "execute_result",
          "data": {
            "text/plain": [
              "{'D': Matrix([\n",
              " [1,  0,    0],\n",
              " [0, -4,    0],\n",
              " [0,  0, 13/2]]), 'L': Matrix([\n",
              " [1,   0, 0],\n",
              " [2,   1, 0],\n",
              " [3, 5/2, 1]]), 'P': Matrix([\n",
              " [1, 0, 0],\n",
              " [0, 0, 1],\n",
              " [0, 1, 0]]), 'U': Matrix([\n",
              " [1, 4,   4],\n",
              " [0, 1, 7/4],\n",
              " [0, 0,   1]])}"
            ]
          },
          "metadata": {
            "tags": []
          },
          "execution_count": 14
        }
      ]
    },
    {
      "cell_type": "markdown",
      "metadata": {
        "id": "W6br1XOwJdDp"
      },
      "source": [
        "### Factorización de Cholesky\n",
        "\n",
        "La factorización de Cholesky es una factorización que genera una matriz triangular inferior $L$ tal que $A = LL^T$. Para que una matriz sea factorizable, tiene que cumplir que sus menores principales sean positivos, y que sea simétrica."
      ]
    },
    {
      "cell_type": "code",
      "metadata": {
        "id": "tQD2tEYMTYcf",
        "outputId": "57f17b71-a111-4aa6-f0ac-c13e58e62747",
        "colab": {
          "base_uri": "https://localhost:8080/"
        }
      },
      "source": [
        "help(cholesky)"
      ],
      "execution_count": 15,
      "outputs": [
        {
          "output_type": "stream",
          "text": [
            "Help on function cholesky in module anmi.T2.funcs_LUD:\n",
            "\n",
            "cholesky(m, verbose=False)\n",
            "    Primero comprobamos que los menores sean positivos. Eso es equivalente que\n",
            "    sus autovalores sean positivos. Por simplificar, si el determinante es negativo\n",
            "    ya descartamos que sea factorizable, y saltamos el warning.\n",
            "\n"
          ],
          "name": "stdout"
        }
      ]
    },
    {
      "cell_type": "code",
      "metadata": {
        "id": "5ZDS9ojOP-5l",
        "outputId": "d503ecd4-681e-4c18-9c90-58cc4fb61557",
        "colab": {
          "base_uri": "https://localhost:8080/",
          "height": 0
        }
      },
      "source": [
        "M = mat(((2, -1, 0), (-1, 2, -2), (0, 2, 1)))\n",
        "M"
      ],
      "execution_count": 16,
      "outputs": [
        {
          "output_type": "execute_result",
          "data": {
            "text/latex": "$\\displaystyle \\left[\\begin{matrix}2 & -1 & 0\\\\-1 & 2 & -2\\\\0 & 2 & 1\\end{matrix}\\right]$",
            "text/plain": [
              "Matrix([\n",
              "[ 2, -1,  0],\n",
              "[-1,  2, -2],\n",
              "[ 0,  2,  1]])"
            ]
          },
          "metadata": {
            "tags": []
          },
          "execution_count": 16
        }
      ]
    },
    {
      "cell_type": "code",
      "metadata": {
        "id": "7EeC9CrPQoOL",
        "outputId": "d1e4a340-5f0e-4622-fe9f-9c109b4dd9ae",
        "colab": {
          "base_uri": "https://localhost:8080/",
          "height": 0
        }
      },
      "source": [
        "cholesky(M)"
      ],
      "execution_count": 17,
      "outputs": [
        {
          "output_type": "stream",
          "text": [
            "AVISO! La matriz no es simétrica, y por tanto no factorizable por Cholesky.\n",
            "AVISO!!! La matriz no es Cholesky-zable. \n",
            " L = \n",
            " [[sqrt(2) 0 0]\n",
            " [-sqrt(2)/2 sqrt(6)/2 0]\n",
            " [0 2*sqrt(6)/3 sqrt(15)*I/3]]\n",
            "\n",
            " L*L.T = \n",
            " {np.array(m_chol * m_chol.T)}\n"
          ],
          "name": "stdout"
        },
        {
          "output_type": "execute_result",
          "data": {
            "text/latex": "$\\displaystyle \\left[\\begin{matrix}\\sqrt{2} & 0 & 0\\\\- \\frac{\\sqrt{2}}{2} & \\frac{\\sqrt{6}}{2} & 0\\\\0 & \\frac{2 \\sqrt{6}}{3} & \\frac{\\sqrt{15} i}{3}\\end{matrix}\\right]$",
            "text/plain": [
              "Matrix([\n",
              "[   sqrt(2),           0,            0],\n",
              "[-sqrt(2)/2,   sqrt(6)/2,            0],\n",
              "[         0, 2*sqrt(6)/3, sqrt(15)*I/3]])"
            ]
          },
          "metadata": {
            "tags": []
          },
          "execution_count": 17
        }
      ]
    },
    {
      "cell_type": "code",
      "metadata": {
        "id": "J6d5MNhHQqo1",
        "outputId": "9127d2f9-c154-4cef-8eff-ab5ad86cea1c",
        "colab": {
          "base_uri": "https://localhost:8080/",
          "height": 0
        }
      },
      "source": [
        "cholesky(M + M.T)"
      ],
      "execution_count": 18,
      "outputs": [
        {
          "output_type": "execute_result",
          "data": {
            "text/latex": "$\\displaystyle \\left[\\begin{matrix}2 & 0 & 0\\\\-1 & \\sqrt{3} & 0\\\\0 & 0 & \\sqrt{2}\\end{matrix}\\right]$",
            "text/plain": [
              "Matrix([\n",
              "[ 2,       0,       0],\n",
              "[-1, sqrt(3),       0],\n",
              "[ 0,       0, sqrt(2)]])"
            ]
          },
          "metadata": {
            "tags": []
          },
          "execution_count": 18
        }
      ]
    },
    {
      "cell_type": "code",
      "metadata": {
        "id": "Sr_zBF3ZQxRI",
        "outputId": "cd6ec707-1916-4f9b-f1bf-f4e87da1bc99",
        "colab": {
          "base_uri": "https://localhost:8080/",
          "height": 0
        }
      },
      "source": [
        "M + M.T"
      ],
      "execution_count": 19,
      "outputs": [
        {
          "output_type": "execute_result",
          "data": {
            "text/latex": "$\\displaystyle \\left[\\begin{matrix}4 & -2 & 0\\\\-2 & 4 & 0\\\\0 & 0 & 2\\end{matrix}\\right]$",
            "text/plain": [
              "Matrix([\n",
              "[ 4, -2, 0],\n",
              "[-2,  4, 0],\n",
              "[ 0,  0, 2]])"
            ]
          },
          "metadata": {
            "tags": []
          },
          "execution_count": 19
        }
      ]
    },
    {
      "cell_type": "code",
      "metadata": {
        "id": "WtWk7kEFQAIO",
        "outputId": "643c1c2c-33d3-4b1c-9ad6-b007dbf48b9f",
        "colab": {
          "base_uri": "https://localhost:8080/",
          "height": 0
        }
      },
      "source": [
        "cholesky(M + M.T) * cholesky(M + M.T).T"
      ],
      "execution_count": 20,
      "outputs": [
        {
          "output_type": "execute_result",
          "data": {
            "text/latex": "$\\displaystyle \\left[\\begin{matrix}4 & -2 & 0\\\\-2 & 4 & 0\\\\0 & 0 & 2\\end{matrix}\\right]$",
            "text/plain": [
              "Matrix([\n",
              "[ 4, -2, 0],\n",
              "[-2,  4, 0],\n",
              "[ 0,  0, 2]])"
            ]
          },
          "metadata": {
            "tags": []
          },
          "execution_count": 20
        }
      ]
    },
    {
      "cell_type": "code",
      "metadata": {
        "id": "NnHjEDuxU7Jl",
        "outputId": "3f7de0de-078c-41ab-d10c-a579388fce7b",
        "colab": {
          "base_uri": "https://localhost:8080/",
          "height": 0
        }
      },
      "source": [
        "# Podemos hacer también Cholesky a una matriz con símbolos!\n",
        "x = symbols('x')\n",
        "\n",
        "Mx = mat(((1, x, 1), (x, 2, 1), (1, 1, 3)))\n",
        "Mx"
      ],
      "execution_count": 21,
      "outputs": [
        {
          "output_type": "execute_result",
          "data": {
            "text/latex": "$\\displaystyle \\left[\\begin{matrix}1 & x & 1\\\\x & 2 & 1\\\\1 & 1 & 3\\end{matrix}\\right]$",
            "text/plain": [
              "Matrix([\n",
              "[1, x, 1],\n",
              "[x, 2, 1],\n",
              "[1, 1, 3]])"
            ]
          },
          "metadata": {
            "tags": []
          },
          "execution_count": 21
        }
      ]
    },
    {
      "cell_type": "code",
      "metadata": {
        "id": "UFy3EeZ4VL4c",
        "outputId": "8a6286e5-38bc-40df-8a93-450c1bac5fca",
        "colab": {
          "base_uri": "https://localhost:8080/",
          "height": 0
        }
      },
      "source": [
        "cholesky(Mx)"
      ],
      "execution_count": 22,
      "outputs": [
        {
          "output_type": "execute_result",
          "data": {
            "text/latex": "$\\displaystyle \\left[\\begin{matrix}1 & 0 & 0\\\\x & \\sqrt{2 - x^{2}} & 0\\\\1 & \\frac{1 - x}{\\sqrt{2 - x^{2}}} & \\sqrt{\\frac{- 3 x^{2} + 2 x + 3}{2 - x^{2}}}\\end{matrix}\\right]$",
            "text/plain": [
              "Matrix([\n",
              "[1,                      0,                                    0],\n",
              "[x,         sqrt(2 - x**2),                                    0],\n",
              "[1, (1 - x)/sqrt(2 - x**2), sqrt((-3*x**2 + 2*x + 3)/(2 - x**2))]])"
            ]
          },
          "metadata": {
            "tags": []
          },
          "execution_count": 22
        }
      ]
    },
    {
      "cell_type": "markdown",
      "metadata": {
        "id": "MVBPnqO5TlKX"
      },
      "source": [
        "### Ortogonalización de Gram-Schmidt\n",
        "\n",
        "\n"
      ]
    },
    {
      "cell_type": "code",
      "metadata": {
        "id": "HGvyvvXQTYci",
        "outputId": "e17f4b59-d6b1-471b-eb78-20c903878c97",
        "colab": {
          "base_uri": "https://localhost:8080/"
        }
      },
      "source": [
        "help(gram_schmidt)"
      ],
      "execution_count": 23,
      "outputs": [
        {
          "output_type": "stream",
          "text": [
            "Help on function gram_schmidt in module anmi.T2.funcs_gram_schmidt:\n",
            "\n",
            "gram_schmidt(m, verbose=False)\n",
            "    La ortogonalización produce una matriz ortogonalizada por columnas.\n",
            "    p es la matriz ortogonal y p_norm es la ortonormal\n",
            "    c es la matriz triangular tal que cij = aj·pi/||pi||^2 (los coeficientes de ortogonalización).\n",
            "    Estos coeficientes se usan para la factorización QR.\n",
            "\n"
          ],
          "name": "stdout"
        }
      ]
    },
    {
      "cell_type": "code",
      "metadata": {
        "id": "6lDBiGAtXmAp",
        "outputId": "047645d7-5a30-4bf1-cd47-d7bfc548e7ef",
        "colab": {
          "base_uri": "https://localhost:8080/",
          "height": 0
        }
      },
      "source": [
        "M"
      ],
      "execution_count": 24,
      "outputs": [
        {
          "output_type": "execute_result",
          "data": {
            "text/latex": "$\\displaystyle \\left[\\begin{matrix}2 & -1 & 0\\\\-1 & 2 & -2\\\\0 & 2 & 1\\end{matrix}\\right]$",
            "text/plain": [
              "Matrix([\n",
              "[ 2, -1,  0],\n",
              "[-1,  2, -2],\n",
              "[ 0,  2,  1]])"
            ]
          },
          "metadata": {
            "tags": []
          },
          "execution_count": 24
        }
      ]
    },
    {
      "cell_type": "code",
      "metadata": {
        "id": "5Tuf5FxFVa_u",
        "outputId": "981c0a40-8ba4-4abe-f63f-bc92cd4dab77",
        "colab": {
          "base_uri": "https://localhost:8080/",
          "height": 0
        }
      },
      "source": [
        "GS = gram_schmidt(M)\n",
        "GS['P']"
      ],
      "execution_count": 25,
      "outputs": [
        {
          "output_type": "execute_result",
          "data": {
            "text/latex": "$\\displaystyle \\left[\\begin{matrix}2 & \\frac{3}{5} & - \\frac{22}{29}\\\\-1 & \\frac{6}{5} & - \\frac{44}{29}\\\\0 & 2 & \\frac{33}{29}\\end{matrix}\\right]$",
            "text/plain": [
              "Matrix([\n",
              "[ 2, 3/5, -22/29],\n",
              "[-1, 6/5, -44/29],\n",
              "[ 0,   2,  33/29]])"
            ]
          },
          "metadata": {
            "tags": []
          },
          "execution_count": 25
        }
      ]
    },
    {
      "cell_type": "code",
      "metadata": {
        "id": "5cgxsH2-cLrJ",
        "outputId": "e36a360c-1956-48e9-8cb7-a51c1112931f",
        "colab": {
          "base_uri": "https://localhost:8080/",
          "height": 0
        }
      },
      "source": [
        "GS['Pn']"
      ],
      "execution_count": 26,
      "outputs": [
        {
          "output_type": "execute_result",
          "data": {
            "text/latex": "$\\displaystyle \\left[\\begin{matrix}\\frac{2}{5} & \\frac{3}{29} & - \\frac{2}{11}\\\\- \\frac{1}{5} & \\frac{6}{29} & - \\frac{4}{11}\\\\0 & \\frac{10}{29} & \\frac{3}{11}\\end{matrix}\\right]$",
            "text/plain": [
              "Matrix([\n",
              "[ 2/5,  3/29, -2/11],\n",
              "[-1/5,  6/29, -4/11],\n",
              "[   0, 10/29,  3/11]])"
            ]
          },
          "metadata": {
            "tags": []
          },
          "execution_count": 26
        }
      ]
    },
    {
      "cell_type": "code",
      "metadata": {
        "id": "WG_PCCm8cObF",
        "outputId": "d81a9e5b-9c34-45d9-e341-b3c167035f1c",
        "colab": {
          "base_uri": "https://localhost:8080/",
          "height": 0
        }
      },
      "source": [
        "GS['c']"
      ],
      "execution_count": 27,
      "outputs": [
        {
          "output_type": "execute_result",
          "data": {
            "text/latex": "$\\displaystyle \\left[\\begin{matrix}0 & - \\frac{4}{5} & \\frac{2}{5}\\\\0 & 0 & - \\frac{2}{29}\\\\0 & 0 & 0\\end{matrix}\\right]$",
            "text/plain": [
              "Matrix([\n",
              "[0, -4/5,   2/5],\n",
              "[0,    0, -2/29],\n",
              "[0,    0,     0]])"
            ]
          },
          "metadata": {
            "tags": []
          },
          "execution_count": 27
        }
      ]
    },
    {
      "cell_type": "code",
      "metadata": {
        "id": "VEadGxAmYIBq",
        "outputId": "6aff2c70-a0a4-4497-ac0c-2c6b6859b80b",
        "colab": {
          "base_uri": "https://localhost:8080/",
          "height": 0
        }
      },
      "source": [
        "GS['P'][:, 1].T * GS['P'][:, 2]"
      ],
      "execution_count": 28,
      "outputs": [
        {
          "output_type": "execute_result",
          "data": {
            "text/latex": "$\\displaystyle \\left[\\begin{matrix}0\\end{matrix}\\right]$",
            "text/plain": [
              "Matrix([[0]])"
            ]
          },
          "metadata": {
            "tags": []
          },
          "execution_count": 28
        }
      ]
    },
    {
      "cell_type": "code",
      "metadata": {
        "id": "5qIpFX-oZNL1"
      },
      "source": [
        "Mx = mat(((1, 2, 3), (1, x, 1), (0, 0, 3)))"
      ],
      "execution_count": 29,
      "outputs": []
    },
    {
      "cell_type": "code",
      "metadata": {
        "id": "nFMKn1hRZGsR",
        "outputId": "d817bfff-daa5-4cbc-9de0-57b123778eb9",
        "colab": {
          "base_uri": "https://localhost:8080/",
          "height": 0
        }
      },
      "source": [
        "GSx = gram_schmidt(Mx)\n",
        "GSx['P']"
      ],
      "execution_count": 30,
      "outputs": [
        {
          "output_type": "execute_result",
          "data": {
            "text/latex": "$\\displaystyle \\left[\\begin{matrix}1 & 1 - \\frac{x}{2} & 0\\\\1 & \\frac{x}{2} - 1 & 0\\\\0 & 0 & 3\\end{matrix}\\right]$",
            "text/plain": [
              "Matrix([\n",
              "[1, 1 - x/2, 0],\n",
              "[1, x/2 - 1, 0],\n",
              "[0,       0, 3]])"
            ]
          },
          "metadata": {
            "tags": []
          },
          "execution_count": 30
        }
      ]
    },
    {
      "cell_type": "markdown",
      "metadata": {
        "id": "DxghRH1R2FpX"
      },
      "source": [
        "### Transformación de Householder\n",
        "\n",
        "La transformación de Householder es una transformación para pasar de un vertor $x$ a un vector $y$. Para ello se toma el vector $e$, que sería el eje de transformación, y la matriz aplicación es $H = I - 2ee^t$.\n",
        "\n",
        "En este caso, $$e = \\pm \\frac{x - y}{\\vert\\vert x - y \\vert\\vert}$$\n",
        "\n",
        "Para la transformación de Householder $x$ e $y$ **tienen que tener la misma norma**. El vector resultante $e$ tiene norma 1.\n"
      ]
    },
    {
      "cell_type": "code",
      "metadata": {
        "id": "_Soq6RfbTYcl",
        "outputId": "59b7e028-6997-4af9-f40a-2c5f4e6c51be",
        "colab": {
          "base_uri": "https://localhost:8080/"
        }
      },
      "source": [
        "help(householder)"
      ],
      "execution_count": 31,
      "outputs": [
        {
          "output_type": "stream",
          "text": [
            "Help on function householder in module anmi.T2.funcs_householder_QR:\n",
            "\n",
            "householder(x, y, signo='+', normalizar=False)\n",
            "    Aplica la transformación de Householder. x e y pueden ser vectores fila o columna,\n",
            "    en cuyo caso aplicamos la transformación de una forma u otra.\n",
            "    \n",
            "    Args:\n",
            "        x (vector): vector origen\n",
            "        y (vector): vector destino\n",
            "        signo (str, optional): + o -, si - aplica la transformación inversa. Defaults to \"+\".\n",
            "        normalizar (bool, optional): Normaliza los vectores para la transformación. Defaults to False.\n",
            "    \n",
            "    Returns:\n",
            "        dict: {'H': la aplicación de transformación, 'e': el vector de eje de cambio.}\n",
            "\n"
          ],
          "name": "stdout"
        }
      ]
    },
    {
      "cell_type": "code",
      "metadata": {
        "id": "ZaqNjL9S6Emp"
      },
      "source": [
        "v0 = mat(((1, 0)))\n",
        "vf = mat((1, 1))\n",
        "vf = vf/norma(vf)"
      ],
      "execution_count": 32,
      "outputs": []
    },
    {
      "cell_type": "code",
      "metadata": {
        "id": "4eX3aGll48tB",
        "outputId": "b30795e9-44fa-48e8-9018-cc7bfabbd03f",
        "colab": {
          "base_uri": "https://localhost:8080/",
          "height": 0
        }
      },
      "source": [
        "H, e = householder(v0, vf, normalizar=False)\n",
        "H"
      ],
      "execution_count": 33,
      "outputs": [
        {
          "output_type": "execute_result",
          "data": {
            "text/latex": "$\\displaystyle \\left[\\begin{matrix}\\frac{\\sqrt{2}}{2} & \\frac{\\sqrt{2}}{2}\\\\\\frac{\\sqrt{2}}{2} & - \\frac{\\sqrt{2}}{2}\\end{matrix}\\right]$",
            "text/plain": [
              "Matrix([\n",
              "[sqrt(2)/2,  sqrt(2)/2],\n",
              "[sqrt(2)/2, -sqrt(2)/2]])"
            ]
          },
          "metadata": {
            "tags": []
          },
          "execution_count": 33
        }
      ]
    },
    {
      "cell_type": "code",
      "metadata": {
        "id": "KnsssCN89u7r",
        "outputId": "f641e13f-2787-42e3-bc41-d623f281525b",
        "colab": {
          "base_uri": "https://localhost:8080/",
          "height": 0
        }
      },
      "source": [
        "e"
      ],
      "execution_count": 34,
      "outputs": [
        {
          "output_type": "execute_result",
          "data": {
            "text/latex": "$\\displaystyle \\left[\\begin{matrix}\\frac{\\sqrt{2 - \\sqrt{2}}}{2}\\\\- \\frac{\\sqrt{2}}{2 \\sqrt{2 - \\sqrt{2}}}\\end{matrix}\\right]$",
            "text/plain": [
              "Matrix([\n",
              "[           sqrt(2 - sqrt(2))/2],\n",
              "[-sqrt(2)/(2*sqrt(2 - sqrt(2)))]])"
            ]
          },
          "metadata": {
            "tags": []
          },
          "execution_count": 34
        }
      ]
    },
    {
      "cell_type": "code",
      "metadata": {
        "id": "ZZHLaNT-9wk5"
      },
      "source": [
        "# Ejercicio 10\n",
        "t = symbols('t')\n",
        "\n",
        "v0 = mat(((1, 0)))\n",
        "vf = mat((cos(t), sin(t)))\n",
        "\n",
        "H, e = householder(v0, vf, normalizar=False)"
      ],
      "execution_count": 35,
      "outputs": []
    },
    {
      "cell_type": "code",
      "metadata": {
        "id": "YTqdf6vW96KO",
        "outputId": "c48a34bb-34ff-4bc3-fbbd-c66209a4e52d",
        "colab": {
          "base_uri": "https://localhost:8080/",
          "height": 0
        }
      },
      "source": [
        "H"
      ],
      "execution_count": 36,
      "outputs": [
        {
          "output_type": "execute_result",
          "data": {
            "text/latex": "$\\displaystyle \\left[\\begin{matrix}\\cos{\\left(t \\right)} & \\sin{\\left(t \\right)}\\\\\\sin{\\left(t \\right)} & - \\cos{\\left(t \\right)}\\end{matrix}\\right]$",
            "text/plain": [
              "Matrix([\n",
              "[cos(t),  sin(t)],\n",
              "[sin(t), -cos(t)]])"
            ]
          },
          "metadata": {
            "tags": []
          },
          "execution_count": 36
        }
      ]
    },
    {
      "cell_type": "code",
      "metadata": {
        "id": "ixbJ7kcs4XR7",
        "outputId": "d049c4ee-dae4-4714-f30f-79130ae98cd7",
        "colab": {
          "base_uri": "https://localhost:8080/",
          "height": 0
        }
      },
      "source": [
        "e"
      ],
      "execution_count": 37,
      "outputs": [
        {
          "output_type": "execute_result",
          "data": {
            "text/latex": "$\\displaystyle \\left[\\begin{matrix}\\frac{\\sqrt{2 - 2 \\cos{\\left(t \\right)}}}{2}\\\\- \\frac{\\sin{\\left(t \\right)}}{\\sqrt{2 - 2 \\cos{\\left(t \\right)}}}\\end{matrix}\\right]$",
            "text/plain": [
              "Matrix([\n",
              "[      sqrt(2 - 2*cos(t))/2],\n",
              "[-sin(t)/sqrt(2 - 2*cos(t))]])"
            ]
          },
          "metadata": {
            "tags": []
          },
          "execution_count": 37
        }
      ]
    },
    {
      "cell_type": "markdown",
      "metadata": {
        "id": "6S0zeTyOSOmw"
      },
      "source": [
        "### Factorización QR\n",
        "\n",
        "La factorización QR consiste en transformar $A = QR$ donde $Q$ es ortogonal y $R$ es triangular superior. \n",
        "\n",
        "Si $P$ es la matriz ortogonalizada, $C$ es la matriz con los factores de ortonormalización (para Gram-Schmidt, por ejemplo, es $m_{ij} = \\frac{a^j\\cdot p^i}{\\vert\\vert p^{i}\\vert\\vert^2}$ y $D$ es la matriz de las normas de los vectores ortogonales ($\\vert\\vert p^i\\vert\\vert$), entonces se tiene que:\n",
        "$$Q = PD^{-1}$$\n",
        "$$R = D(I + C)$$"
      ]
    },
    {
      "cell_type": "code",
      "metadata": {
        "id": "gvIfLNfCTYcm",
        "outputId": "ab2609ae-6c6b-4850-9d8a-298191398e65",
        "colab": {
          "base_uri": "https://localhost:8080/"
        }
      },
      "source": [
        "help(factorizacion_QR)"
      ],
      "execution_count": 38,
      "outputs": [
        {
          "output_type": "stream",
          "text": [
            "Help on function factorizacion_QR in module anmi.T2.funcs_householder_QR:\n",
            "\n",
            "factorizacion_QR(m, verbose=True, metodo='gram_schmidt')\n",
            "    Aplica el método QR para la factorización de la matriz m. m = QR, con Q ortogonal y R triangular superior.\n",
            "    \n",
            "    Args:\n",
            "        m (matriz): matriz a factorizar.\n",
            "        verbose (bool, optional): Imprime mensajes informativos. Defaults to True.\n",
            "        metodo (str, optional): \"gram_schmidt\" o \"householder\".\n",
            "        Householder funciona mejor para vectores proximos,\n",
            "        donde gram-schmidt deja de ser estable. Defaults to \"gram_schmidt\".\n",
            "    \n",
            "    Returns:\n",
            "        dict: {'Q', 'R' , 'D'} ('D' en gram-schmidt solo).\n",
            "\n"
          ],
          "name": "stdout"
        }
      ]
    },
    {
      "cell_type": "code",
      "metadata": {
        "id": "3A5b1Hp4dvfH"
      },
      "source": [
        "M = mat(((2, -1, 0), (0, 0, -2), (0, 2, -1)))"
      ],
      "execution_count": 39,
      "outputs": []
    },
    {
      "cell_type": "code",
      "metadata": {
        "id": "7PPzCSsKd3J5",
        "outputId": "cf50bec6-80da-40b0-8bc5-1b06eed6fb87",
        "colab": {
          "base_uri": "https://localhost:8080/"
        }
      },
      "source": [
        "factorizacion_QR(M, metodo='householder')"
      ],
      "execution_count": 40,
      "outputs": [
        {
          "output_type": "stream",
          "text": [
            "Aplicamos QR con Householder\n",
            "Q es \n",
            "[[1 0 0]\n",
            " [0 0 -1]\n",
            " [0 1 0]]\n",
            "R es \n",
            "[[2 -1 0]\n",
            " [0 2 -1]\n",
            " [0 0 2]]\n"
          ],
          "name": "stdout"
        },
        {
          "output_type": "execute_result",
          "data": {
            "text/plain": [
              "{'Q': Matrix([\n",
              " [1, 0,  0],\n",
              " [0, 0, -1],\n",
              " [0, 1,  0]]), 'R': Matrix([\n",
              " [2, -1,  0],\n",
              " [0,  2, -1],\n",
              " [0,  0,  2]])}"
            ]
          },
          "metadata": {
            "tags": []
          },
          "execution_count": 40
        }
      ]
    },
    {
      "cell_type": "code",
      "metadata": {
        "id": "nEHBugO-a_M1"
      },
      "source": [
        "A1 = mat(((2, -1, 0), (0, 0, -2), (0, 2, -1)))"
      ],
      "execution_count": 41,
      "outputs": []
    },
    {
      "cell_type": "code",
      "metadata": {
        "id": "QEreyR_kbBPz",
        "outputId": "aa54bdbe-39c8-434b-f15a-2da12abd7f87",
        "colab": {
          "base_uri": "https://localhost:8080/",
          "height": 0
        }
      },
      "source": [
        "A1 = mat(((1, 2, 3), (4, 5, 6), (7, 8, 9)))\n",
        "A1"
      ],
      "execution_count": 42,
      "outputs": [
        {
          "output_type": "execute_result",
          "data": {
            "text/latex": "$\\displaystyle \\left[\\begin{matrix}1 & 2 & 3\\\\4 & 5 & 6\\\\7 & 8 & 9\\end{matrix}\\right]$",
            "text/plain": [
              "Matrix([\n",
              "[1, 2, 3],\n",
              "[4, 5, 6],\n",
              "[7, 8, 9]])"
            ]
          },
          "metadata": {
            "tags": []
          },
          "execution_count": 42
        }
      ]
    },
    {
      "cell_type": "code",
      "metadata": {
        "id": "WpXMNwCbhWVv",
        "outputId": "04d0cb84-feb2-4bfb-b60e-ceb22485ed85",
        "colab": {
          "base_uri": "https://localhost:8080/"
        }
      },
      "source": [
        "dqr = factorizacion_QR(A1, metodo='householder')"
      ],
      "execution_count": 43,
      "outputs": [
        {
          "output_type": "stream",
          "text": [
            "Aplicamos QR con Householder\n",
            "AVISO!!! Hx != y. Para Householder las normas tienen que ser iguales.\n",
            "Q es \n",
            "[[sqrt(66)/66\n",
            "  3*(-65*sqrt(11) + 77 + 12*sqrt(66))/(11*(-65 + 7*sqrt(11) + 12*sqrt(6)))\n",
            "  (-72 - 7*sqrt(66) + 65*sqrt(6))/(6*(-65 + 7*sqrt(11) + 12*sqrt(6)))]\n",
            " [2*sqrt(66)/33\n",
            "  (-65*sqrt(11) + 77 + 12*sqrt(66))/(11*(-65 + 7*sqrt(11) + 12*sqrt(6)))\n",
            "  (-65*sqrt(6) + 7*sqrt(66) + 72)/(3*(-65 + 7*sqrt(11) + 12*sqrt(6)))]\n",
            " [7*sqrt(66)/66\n",
            "  (-12*sqrt(66) - 77 + 65*sqrt(11))/(11*(-65 + 7*sqrt(11) + 12*sqrt(6)))\n",
            "  (-72 - 7*sqrt(66) + 65*sqrt(6))/(6*(-65 + 7*sqrt(11) + 12*sqrt(6)))]]\n",
            "R es \n",
            "[[sqrt(66) 13*sqrt(66)/11 15*sqrt(66)/11]\n",
            " [0\n",
            "  3*(-65*sqrt(11) + 77 + 12*sqrt(66))/(11*(-65 + 7*sqrt(11) + 12*sqrt(6)))\n",
            "  6*(-65*sqrt(11) + 77 + 12*sqrt(66))/(11*(-65 + 7*sqrt(11) + 12*sqrt(6)))]\n",
            " [0 0 0]]\n"
          ],
          "name": "stdout"
        }
      ]
    },
    {
      "cell_type": "code",
      "metadata": {
        "id": "5sxX26YhdASo",
        "outputId": "af4dc332-eb3b-465c-97b5-c791666bfe72",
        "colab": {
          "base_uri": "https://localhost:8080/",
          "height": 0
        }
      },
      "source": [
        "dqr['Q']"
      ],
      "execution_count": 44,
      "outputs": [
        {
          "output_type": "execute_result",
          "data": {
            "text/latex": "$\\displaystyle \\left[\\begin{matrix}\\frac{\\sqrt{66}}{66} & \\frac{3 \\left(- 65 \\sqrt{11} + 77 + 12 \\sqrt{66}\\right)}{11 \\left(-65 + 7 \\sqrt{11} + 12 \\sqrt{6}\\right)} & \\frac{-72 - 7 \\sqrt{66} + 65 \\sqrt{6}}{6 \\left(-65 + 7 \\sqrt{11} + 12 \\sqrt{6}\\right)}\\\\\\frac{2 \\sqrt{66}}{33} & \\frac{- 65 \\sqrt{11} + 77 + 12 \\sqrt{66}}{11 \\left(-65 + 7 \\sqrt{11} + 12 \\sqrt{6}\\right)} & \\frac{- 65 \\sqrt{6} + 7 \\sqrt{66} + 72}{3 \\left(-65 + 7 \\sqrt{11} + 12 \\sqrt{6}\\right)}\\\\\\frac{7 \\sqrt{66}}{66} & \\frac{- 12 \\sqrt{66} - 77 + 65 \\sqrt{11}}{11 \\left(-65 + 7 \\sqrt{11} + 12 \\sqrt{6}\\right)} & \\frac{-72 - 7 \\sqrt{66} + 65 \\sqrt{6}}{6 \\left(-65 + 7 \\sqrt{11} + 12 \\sqrt{6}\\right)}\\end{matrix}\\right]$",
            "text/plain": [
              "Matrix([\n",
              "[  sqrt(66)/66, 3*(-65*sqrt(11) + 77 + 12*sqrt(66))/(11*(-65 + 7*sqrt(11) + 12*sqrt(6))), (-72 - 7*sqrt(66) + 65*sqrt(6))/(6*(-65 + 7*sqrt(11) + 12*sqrt(6)))],\n",
              "[2*sqrt(66)/33,   (-65*sqrt(11) + 77 + 12*sqrt(66))/(11*(-65 + 7*sqrt(11) + 12*sqrt(6))), (-65*sqrt(6) + 7*sqrt(66) + 72)/(3*(-65 + 7*sqrt(11) + 12*sqrt(6)))],\n",
              "[7*sqrt(66)/66,   (-12*sqrt(66) - 77 + 65*sqrt(11))/(11*(-65 + 7*sqrt(11) + 12*sqrt(6))), (-72 - 7*sqrt(66) + 65*sqrt(6))/(6*(-65 + 7*sqrt(11) + 12*sqrt(6)))]])"
            ]
          },
          "metadata": {
            "tags": []
          },
          "execution_count": 44
        }
      ]
    },
    {
      "cell_type": "code",
      "metadata": {
        "id": "v3hTTSAOdAIF",
        "outputId": "3430dad5-962b-4023-c561-0f8358b13626",
        "colab": {
          "base_uri": "https://localhost:8080/",
          "height": 0
        }
      },
      "source": [
        "dqr['R']"
      ],
      "execution_count": 45,
      "outputs": [
        {
          "output_type": "execute_result",
          "data": {
            "text/latex": "$\\displaystyle \\left[\\begin{matrix}\\sqrt{66} & \\frac{13 \\sqrt{66}}{11} & \\frac{15 \\sqrt{66}}{11}\\\\0 & \\frac{3 \\left(- 65 \\sqrt{11} + 77 + 12 \\sqrt{66}\\right)}{11 \\left(-65 + 7 \\sqrt{11} + 12 \\sqrt{6}\\right)} & \\frac{6 \\left(- 65 \\sqrt{11} + 77 + 12 \\sqrt{66}\\right)}{11 \\left(-65 + 7 \\sqrt{11} + 12 \\sqrt{6}\\right)}\\\\0 & 0 & 0\\end{matrix}\\right]$",
            "text/plain": [
              "Matrix([\n",
              "[sqrt(66),                                                           13*sqrt(66)/11,                                                           15*sqrt(66)/11],\n",
              "[       0, 3*(-65*sqrt(11) + 77 + 12*sqrt(66))/(11*(-65 + 7*sqrt(11) + 12*sqrt(6))), 6*(-65*sqrt(11) + 77 + 12*sqrt(66))/(11*(-65 + 7*sqrt(11) + 12*sqrt(6)))],\n",
              "[       0,                                                                        0,                                                                        0]])"
            ]
          },
          "metadata": {
            "tags": []
          },
          "execution_count": 45
        }
      ]
    },
    {
      "cell_type": "code",
      "metadata": {
        "id": "4oVoviHzhWaF",
        "outputId": "0d60559c-9061-42b9-d9df-78ce19c8d8ee",
        "colab": {
          "base_uri": "https://localhost:8080/",
          "height": 0
        }
      },
      "source": [
        "simplify(dqr['Q'].T * dqr['Q'])"
      ],
      "execution_count": 46,
      "outputs": [
        {
          "output_type": "execute_result",
          "data": {
            "text/latex": "$\\displaystyle \\left[\\begin{matrix}1 & 0 & 0\\\\0 & 1 & 0\\\\0 & 0 & 1\\end{matrix}\\right]$",
            "text/plain": [
              "Matrix([\n",
              "[1, 0, 0],\n",
              "[0, 1, 0],\n",
              "[0, 0, 1]])"
            ]
          },
          "metadata": {
            "tags": []
          },
          "execution_count": 46
        }
      ]
    },
    {
      "cell_type": "code",
      "metadata": {
        "id": "2O2FruG5cwnO",
        "outputId": "75112e00-b2b1-4f47-fff7-5851a5c63b7b",
        "colab": {
          "base_uri": "https://localhost:8080/",
          "height": 0
        }
      },
      "source": [
        "simplify(dqr['Q'] * dqr['R'])"
      ],
      "execution_count": 47,
      "outputs": [
        {
          "output_type": "execute_result",
          "data": {
            "text/latex": "$\\displaystyle \\left[\\begin{matrix}1 & 2 & 3\\\\4 & 5 & 6\\\\7 & 8 & 9\\end{matrix}\\right]$",
            "text/plain": [
              "Matrix([\n",
              "[1, 2, 3],\n",
              "[4, 5, 6],\n",
              "[7, 8, 9]])"
            ]
          },
          "metadata": {
            "tags": []
          },
          "execution_count": 47
        }
      ]
    },
    {
      "cell_type": "markdown",
      "metadata": {
        "id": "SmLgOIcudSpl"
      },
      "source": [
        "### Métodos iterativos\n",
        "\n"
      ]
    },
    {
      "cell_type": "markdown",
      "metadata": {
        "id": "L2SsjovFdWe0"
      },
      "source": [
        "Los métodos iterativos son métodos para resolver el sistema $Ax=b$. Todos los métodos se basan en el mismo criterio, que es emplear una matriz $H$ tal que, para una iteración:\n",
        "$$x^{(k+1)} = Hx^{(k)} + b'$$\n",
        "\n",
        "Si tomamos la matriz $A = D - L - U$ (donde $D$ es la diagonal de $A$, y $L$ y $U$ son matrices triangulares de elementos de $A$), la ecuación anterior queda:\n",
        "$$Mx^{(k+1)} = (M-A)x^{(k)} + b$$\n",
        "\n",
        "Y simplemente hay que despejar para $x^{(k+1)}$ (pues $x^{(k)}$ lo conocemos) y repetir el procedimiento hasta convergencia:\n",
        "$$x^{(k+1)} = M^{-1}(M-A)x^{(k)} + M^{-1}b$$\n",
        "\n",
        "Según el método, la matriz difiere: para Jacobi es $M = D$, para Gauss-Seidel es $M = D-L$ y para sobre-relajación (ros) es $M = \\frac{1}{\\omega}D - L$."
      ]
    },
    {
      "cell_type": "code",
      "metadata": {
        "id": "goTaPH0cTYcq",
        "outputId": "5b62ad64-343e-4c87-ded8-2dd33319fdda",
        "colab": {
          "base_uri": "https://localhost:8080/"
        }
      },
      "source": [
        "help(metodo_iterativo)"
      ],
      "execution_count": 48,
      "outputs": [
        {
          "output_type": "stream",
          "text": [
            "Help on function metodo_iterativo in module anmi.T2.funcs_met_iters:\n",
            "\n",
            "metodo_iterativo(A, b=None, x0=None, metodo='jacobi', w=1.5, n_iter=10, verbose=True)\n",
            "    Aplica el método iterativo designado\n",
            "    \n",
            "    Args:\n",
            "        A (matriz): Matriz de valores\n",
            "        b (vector, optional): Vector de rhs. Por defecto es 1, 1, ..., 1.\n",
            "        x0 (vector, optional): Vector con elementos de la primera iteración. Por defecto es 1, 1, ..., 1.\n",
            "        metodo (str, optional): método de resolución, puede ser \"jacobi\", \"gs\" o \"sor\".\n",
            "        w (float, optional): Peso para método sor. Defaults to 1.5.\n",
            "        n_iter (int, optional): Número de iteraciones del método. Defaults to 10.\n",
            "        verbose (bool, optional): Imprime resultados intermedios. Defaults to True.\n",
            "    \n",
            "    Returns:\n",
            "        dict: 'x': vector de resultados para Ax=b, 'diff': diferencia entre Ax y b para cada iteración.\n",
            "\n"
          ],
          "name": "stdout"
        }
      ]
    },
    {
      "cell_type": "code",
      "metadata": {
        "id": "oqnh2RrfdWXS"
      },
      "source": [
        "A = mat([[2, 1, 1], [1, -2, 1], [1, 1, 2]])\n",
        "b = mat([[1, 1, 1]]).T"
      ],
      "execution_count": 49,
      "outputs": []
    },
    {
      "cell_type": "code",
      "metadata": {
        "id": "EFLlJcGidWRR",
        "outputId": "29060521-003d-47a2-f749-44246267cd67",
        "colab": {
          "base_uri": "https://localhost:8080/"
        }
      },
      "source": [
        "diter = metodo_iterativo(A, b, n_iter=200, verbose=True)\n",
        "np.array(diter['x'], dtype=float)"
      ],
      "execution_count": 50,
      "outputs": [
        {
          "output_type": "stream",
          "text": [
            "||Criterio de radio espectral||\n",
            "Los autovalores son [1/2, -1/4 - sqrt(7)*I/4, -1/4 + sqrt(7)*I/4]. Si el mayor autovalor es < 1, entonces el método converge.\n",
            "||Criterio de Diagonal Dominante||\n",
            " Si la matriz es dominante por filas, los métodos de Jacobi y Gauss-Seidel convergen.\n",
            "La fila 0 NO es dominante por filas: diff = 0.\n",
            "||Criterio de Sim Def Pos||\n",
            " Si la matriz es simétrica y definida positiva, el método de Gauss-Seidel es convergente.\n",
            "El determinante de A es -8.\n",
            "La matriz NO es DEFINIDA POSITIVA (el determinante no es positivo).\n",
            "||Criterio SOR||\n",
            " Si la matriz es simétrica y definida positiva y w in (0, 2) el método SOR es convergente.\n",
            "Si w no (0, 2) el método SOR no converge.\n",
            "||Criterio M matriz||\n",
            " Si la A es M-matriz entonces las descomposiciones de Jacobi y Gauss-Seidel son convergentes.\n",
            "A^-1 >= 0\n",
            "aij < 0 para todo i =/= j\n",
            "A^-1 < 0. La matriz NO CUMPLE el criterio\n",
            "La matriz tiene elementos no diagonales positivos. NO CUMPLE el criterio.\n"
          ],
          "name": "stdout"
        },
        {
          "output_type": "execute_result",
          "data": {
            "text/plain": [
              "array([[ 0.375],\n",
              "       [-0.125],\n",
              "       [ 0.375]])"
            ]
          },
          "metadata": {
            "tags": []
          },
          "execution_count": 50
        }
      ]
    },
    {
      "cell_type": "code",
      "metadata": {
        "id": "5xTufrqjdV1d",
        "outputId": "b0a54ae4-621e-4960-8430-27eddcda1238",
        "colab": {
          "base_uri": "https://localhost:8080/"
        }
      },
      "source": [
        "# EJERCICIO 12\n",
        "a = symbols('a')\n",
        "\n",
        "A = mat([[4, 1, a], [1, 4, 1], [a, 1, 4]])\n",
        "metodo_iterativo(A, metodo='gs', n_iter=3)"
      ],
      "execution_count": 51,
      "outputs": [
        {
          "output_type": "stream",
          "text": [
            "||Criterio de radio espectral||\n",
            "Los autovalores son [a**2/32 - a/128 - sqrt((4*a - 1)*(4*a**3 - a**2 + 16*a - 64))/128 + 1/16, a**2/32 - a/128 + sqrt((4*a - 1)*(4*a**3 - a**2 + 16*a - 64))/128 + 1/16, 0]. Si el mayor autovalor es < 1, entonces el método converge.\n",
            "||Criterio de Diagonal Dominante||\n",
            " Si la matriz es dominante por filas, los métodos de Jacobi y Gauss-Seidel convergen.\n",
            "La matriz tiene complejos o simbolos. Hay que verificar el criterio a mano.\n",
            "||Criterio de Sim Def Pos||\n",
            " Si la matriz es simétrica y definida positiva, el método de Gauss-Seidel es convergente.\n",
            "El determinante de A es -4*a**2 + 2*a + 56.\n",
            "No podemos determinar la positividad porque hay símbolos o complejos.\n",
            "||Criterio SOR||\n",
            " Si la matriz es simétrica y definida positiva y w in (0, 2) el método SOR es convergente.\n",
            "Si w no (0, 2) el método SOR no converge.\n",
            "||Criterio M matriz||\n",
            " Si la A es M-matriz entonces las descomposiciones de Jacobi y Gauss-Seidel son convergentes.\n",
            "A^-1 >= 0\n",
            "aij < 0 para todo i =/= j\n",
            "La matriz tiene complejos o símbolos, no podemos verificar le criterio.\n"
          ],
          "name": "stdout"
        },
        {
          "output_type": "execute_result",
          "data": {
            "text/plain": [
              "{'diff': [Abs(-a*(1/64 - a/16) - 3/4) + Abs(-a**2/4 - 4*a*(1/64 - a/16) + a/16) + Abs(a*(-a*(1/64 - a/16) + 1/4) - 15*a/16 - 1),\n",
              "  Abs(15*a*(1/64 - a/16)/16 + (1/64 - a/16)*(-a*(-a*(1/64 - a/16) + 1/4) - a/16 + 1) - 3/64) + Abs(a*(1/64 - a/16)/4 - 15*a*(-a*(1/64 - a/16) + 1/4)/16 + a*(-a*(1/64 - a/16)/16 + (1/64 - a/16)*(-a*(-a*(1/64 - a/16) + 1/4) - a/16 + 1) + 13/64) - 15*a/256 + 1/8) + Abs(a*(-a*(1/64 - a/16) + 1/4)/16 + a*(-a*(-a*(1/64 - a/16) + 1/4)/4 - a/64 + 1/4) + a/256 + 4*(1/64 - a/16)*(-a*(-a*(1/64 - a/16) + 1/4) - a/16 + 1) - 1/16),\n",
              "  Abs(15*a*(1/64 - a/16)/256 - 15*(1/64 - a/16)*(-a*(-a*(1/64 - a/16) + 1/4) - a/16 + 1)/16 + (1/64 - a/16)*(-a*(1/64 - a/16)/4 - a*(-a*(1/64 - a/16) + 1/4)/16 - a*(-a*(1/64 - a/16)/16 + (1/64 - a/16)*(-a*(-a*(1/64 - a/16) + 1/4) - a/16 + 1) + 13/64) - a/256 + 7/8) - 3/1024) + Abs(-7*a*(1/64 - a/16)/32 - 15*a*(-a*(1/64 - a/16) + 1/4)/256 - 15*a*(-a*(1/64 - a/16)/16 + (1/64 - a/16)*(-a*(-a*(1/64 - a/16) + 1/4) - a/16 + 1) + 13/64)/16 + a*(-a*(1/64 - a/16)/256 + (1/64 - a/16)*(-a*(-a*(1/64 - a/16) + 1/4) - a/16 + 1)/16 + (1/64 - a/16)*(-a*(1/64 - a/16)/4 - a*(-a*(1/64 - a/16) + 1/4)/16 - a*(-a*(1/64 - a/16)/16 + (1/64 - a/16)*(-a*(-a*(1/64 - a/16) + 1/4) - a/16 + 1) + 13/64) - a/256 + 7/8) + 205/1024) - 15*a/4096 - (1/64 - a/16)*(-a*(-a*(1/64 - a/16) + 1/4) - a/16 + 1)/4 + 5/256) + Abs(a*(1/64 - a/16)/64 + a*(-a*(1/64 - a/16) + 1/4)/256 + a*(-a*(1/64 - a/16)/16 + (1/64 - a/16)*(-a*(-a*(1/64 - a/16) + 1/4) - a/16 + 1) + 13/64)/16 + a*(-a*(1/64 - a/16)/16 - a*(-a*(1/64 - a/16) + 1/4)/64 - a*(-a*(1/64 - a/16)/16 + (1/64 - a/16)*(-a*(-a*(1/64 - a/16) + 1/4) - a/16 + 1) + 13/64)/4 - a/1024 + 7/32) + a/4096 + 4*(1/64 - a/16)*(-a*(1/64 - a/16)/4 - a*(-a*(1/64 - a/16) + 1/4)/16 - a*(-a*(1/64 - a/16)/16 + (1/64 - a/16)*(-a*(-a*(1/64 - a/16) + 1/4) - a/16 + 1) + 13/64) - a/256 + 7/8) - 7/128)],\n",
              " 'x': Matrix([\n",
              " [                                                                                                         -a*(1/64 - a/16)/16 - a*(-a*(1/64 - a/16) + 1/4)/64 - a*(-a*(1/64 - a/16)/16 + (1/64 - a/16)*(-a*(-a*(1/64 - a/16) + 1/4) - a/16 + 1) + 13/64)/4 - a/1024 + 7/32],\n",
              " [                                           a*(1/64 - a/16)/32 + a*(-a*(1/64 - a/16) + 1/4)/256 + a*(-a*(1/64 - a/16)/16 + (1/64 - a/16)*(-a*(-a*(1/64 - a/16) + 1/4) - a/16 + 1) + 13/64)/16 + a/4096 - (1/64 - a/16)*(-a*(-a*(1/64 - a/16) + 1/4) - a/16 + 1)/4 + 37/256],\n",
              " [-a*(1/64 - a/16)/256 + (1/64 - a/16)*(-a*(-a*(1/64 - a/16) + 1/4) - a/16 + 1)/16 + (1/64 - a/16)*(-a*(1/64 - a/16)/4 - a*(-a*(1/64 - a/16) + 1/4)/16 - a*(-a*(1/64 - a/16)/16 + (1/64 - a/16)*(-a*(-a*(1/64 - a/16) + 1/4) - a/16 + 1) + 13/64) - a/256 + 7/8) + 205/1024]])}"
            ]
          },
          "metadata": {
            "tags": []
          },
          "execution_count": 51
        }
      ]
    },
    {
      "cell_type": "code",
      "metadata": {
        "id": "GYDG-ezJw-p_"
      },
      "source": [
        "# EJERCICIO 14\n",
        "A = mat([[-11, 20, 8], [20, 16, -8], [8, -8, 5]]) / 27\n",
        "norma_1(A)\n",
        "norma_inf(A)\n",
        "d = [simplify(i) for i in list((A.T * A).eigenvals().keys())]\n",
        "# norma_2(A)"
      ],
      "execution_count": 52,
      "outputs": []
    },
    {
      "cell_type": "code",
      "metadata": {
        "id": "zHoLZBSQ1gwN",
        "outputId": "63b2bc2a-d5bb-488d-b741-ad5001197000",
        "colab": {
          "base_uri": "https://localhost:8080/",
          "height": 79
        }
      },
      "source": [
        "A"
      ],
      "execution_count": 53,
      "outputs": [
        {
          "output_type": "execute_result",
          "data": {
            "text/latex": "$\\displaystyle \\left[\\begin{matrix}- \\frac{11}{27} & \\frac{20}{27} & \\frac{8}{27}\\\\\\frac{20}{27} & \\frac{16}{27} & - \\frac{8}{27}\\\\\\frac{8}{27} & - \\frac{8}{27} & \\frac{5}{27}\\end{matrix}\\right]$",
            "text/plain": [
              "Matrix([\n",
              "[-11/27, 20/27,  8/27],\n",
              "[ 20/27, 16/27, -8/27],\n",
              "[  8/27, -8/27,  5/27]])"
            ]
          },
          "metadata": {
            "tags": []
          },
          "execution_count": 53
        }
      ]
    },
    {
      "cell_type": "code",
      "metadata": {
        "id": "9atj7Xxr1AQ_",
        "outputId": "d28b140a-6861-4915-eb2d-e66eeb093d02",
        "colab": {
          "base_uri": "https://localhost:8080/",
          "height": 79
        }
      },
      "source": [
        "A.T * A"
      ],
      "execution_count": 54,
      "outputs": [
        {
          "output_type": "execute_result",
          "data": {
            "text/latex": "$\\displaystyle \\left[\\begin{matrix}\\frac{65}{81} & \\frac{4}{81} & - \\frac{208}{729}\\\\\\frac{4}{81} & \\frac{80}{81} & - \\frac{8}{729}\\\\- \\frac{208}{729} & - \\frac{8}{729} & \\frac{17}{81}\\end{matrix}\\right]$",
            "text/plain": [
              "Matrix([\n",
              "[   65/81,   4/81, -208/729],\n",
              "[    4/81,  80/81,   -8/729],\n",
              "[-208/729, -8/729,    17/81]])"
            ]
          },
          "metadata": {
            "tags": []
          },
          "execution_count": 54
        }
      ]
    },
    {
      "cell_type": "code",
      "metadata": {
        "id": "Zcd4rMQe0gBl",
        "outputId": "c805de91-88c8-4b3c-8bd9-b75f690bd1a0",
        "colab": {
          "base_uri": "https://localhost:8080/",
          "height": 79
        }
      },
      "source": [
        "simplify((A.T * A - a * eye(3)))"
      ],
      "execution_count": 55,
      "outputs": [
        {
          "output_type": "execute_result",
          "data": {
            "text/latex": "$\\displaystyle \\left[\\begin{matrix}\\frac{65}{81} - a & \\frac{4}{81} & - \\frac{208}{729}\\\\\\frac{4}{81} & \\frac{80}{81} - a & - \\frac{8}{729}\\\\- \\frac{208}{729} & - \\frac{8}{729} & \\frac{17}{81} - a\\end{matrix}\\right]$",
            "text/plain": [
              "Matrix([\n",
              "[65/81 - a,      4/81,  -208/729],\n",
              "[     4/81, 80/81 - a,    -8/729],\n",
              "[ -208/729,    -8/729, 17/81 - a]])"
            ]
          },
          "metadata": {
            "tags": []
          },
          "execution_count": 55
        }
      ]
    },
    {
      "cell_type": "markdown",
      "metadata": {
        "id": "2Vg24HsnUAXD"
      },
      "source": [
        "# Ejercicios"
      ]
    },
    {
      "cell_type": "markdown",
      "metadata": {
        "id": "kE5ay9tsURBP"
      },
      "source": [
        "#### Ejercicio 14\n",
        "Calcular $\\vert\\vert A\\vert\\vert_1, \\vert\\vert A\\vert\\vert_2, \\vert\\vert A\\vert\\vert_\\infty$ de la matriz"
      ]
    },
    {
      "cell_type": "code",
      "metadata": {
        "id": "cvkTHW91T_hV",
        "outputId": "8797e198-16e7-4ed7-82ba-6111582731c1",
        "colab": {
          "base_uri": "https://localhost:8080/",
          "height": 79
        }
      },
      "source": [
        "A = Matrix([[-11, 20, 8], [20, 16, -8], [8, -8, 5]]) / 27\n",
        "A"
      ],
      "execution_count": 62,
      "outputs": [
        {
          "output_type": "execute_result",
          "data": {
            "text/latex": "$\\displaystyle \\left[\\begin{matrix}- \\frac{11}{27} & \\frac{20}{27} & \\frac{8}{27}\\\\\\frac{20}{27} & \\frac{16}{27} & - \\frac{8}{27}\\\\\\frac{8}{27} & - \\frac{8}{27} & \\frac{5}{27}\\end{matrix}\\right]$",
            "text/plain": [
              "Matrix([\n",
              "[-11/27, 20/27,  8/27],\n",
              "[ 20/27, 16/27, -8/27],\n",
              "[  8/27, -8/27,  5/27]])"
            ]
          },
          "metadata": {
            "tags": []
          },
          "execution_count": 62
        }
      ]
    },
    {
      "cell_type": "code",
      "metadata": {
        "id": "uWs7D8DMU2P4",
        "outputId": "ad2b6bdb-e7ec-40ac-ff50-02c41a92d10d",
        "colab": {
          "base_uri": "https://localhost:8080/"
        }
      },
      "source": [
        "np.sum(abs(A), 0), norma_1(A)"
      ],
      "execution_count": 72,
      "outputs": [
        {
          "output_type": "execute_result",
          "data": {
            "text/plain": [
              "(array([13/9, 44/27, 7/9], dtype=object), 44/27)"
            ]
          },
          "metadata": {
            "tags": []
          },
          "execution_count": 72
        }
      ]
    },
    {
      "cell_type": "code",
      "metadata": {
        "id": "6mXSaBoKT_tZ",
        "outputId": "e16785c6-e78b-4797-daef-539bd7d716f9",
        "colab": {
          "base_uri": "https://localhost:8080/"
        }
      },
      "source": [
        "np.sum(abs(A), 1), norma_inf(A)"
      ],
      "execution_count": 73,
      "outputs": [
        {
          "output_type": "execute_result",
          "data": {
            "text/plain": [
              "(array([13/9, 44/27, 7/9], dtype=object), 44/27)"
            ]
          },
          "metadata": {
            "tags": []
          },
          "execution_count": 73
        }
      ]
    },
    {
      "cell_type": "code",
      "metadata": {
        "id": "awyJDGzMVNQa",
        "outputId": "42680528-75d8-4a04-b791-c63f57dcdac6",
        "colab": {
          "base_uri": "https://localhost:8080/",
          "height": 79
        }
      },
      "source": [
        "# Para la norma_2 podemos usar norma_2(), pero vamos a hacerlo a mano. Para ello:\n",
        "# 1) Hallamos A.T * A\n",
        "AA = simplify(A.T * A)\n",
        "AA"
      ],
      "execution_count": 84,
      "outputs": [
        {
          "output_type": "execute_result",
          "data": {
            "text/latex": "$\\displaystyle \\left[\\begin{matrix}\\frac{65}{81} & \\frac{4}{81} & - \\frac{208}{729}\\\\\\frac{4}{81} & \\frac{80}{81} & - \\frac{8}{729}\\\\- \\frac{208}{729} & - \\frac{8}{729} & \\frac{17}{81}\\end{matrix}\\right]$",
            "text/plain": [
              "Matrix([\n",
              "[   65/81,   4/81, -208/729],\n",
              "[    4/81,  80/81,   -8/729],\n",
              "[-208/729, -8/729,    17/81]])"
            ]
          },
          "metadata": {
            "tags": []
          },
          "execution_count": 84
        }
      ]
    },
    {
      "cell_type": "code",
      "metadata": {
        "id": "u2cPzYcBWJYP"
      },
      "source": [
        "# En este punto los resultados difieren, así que usaremos sus resultados intermedios\n",
        "AA = Matrix([[65, 4, -32], [4, 80, 8], [-32, 8, 17]]) / 81"
      ],
      "execution_count": 86,
      "outputs": []
    },
    {
      "cell_type": "code",
      "metadata": {
        "id": "D3hEHpUbUwMp",
        "outputId": "ba1041a7-ffe8-4a14-fc15-c1470307966e",
        "colab": {
          "base_uri": "https://localhost:8080/",
          "height": 39
        }
      },
      "source": [
        "# 2) Hallamos los autovalores\n",
        "factor(det(AA - symbols('lambda') * eye(3)))"
      ],
      "execution_count": 90,
      "outputs": [
        {
          "output_type": "execute_result",
          "data": {
            "text/latex": "$\\displaystyle - \\lambda \\left(\\lambda - 1\\right)^{2}$",
            "text/plain": [
              "-lambda*(lambda - 1)**2"
            ]
          },
          "metadata": {
            "tags": []
          },
          "execution_count": 90
        }
      ]
    },
    {
      "cell_type": "code",
      "metadata": {
        "id": "VA5_3eVHUwO0",
        "outputId": "e8d4e8f7-82cd-4069-d562-971bde20d863",
        "colab": {
          "base_uri": "https://localhost:8080/",
          "height": 37
        }
      },
      "source": [
        "# Los autovalores son 0 y 1. Luego nos quedamos con 1\n",
        "rho = max(solve(det(AA - symbols('lambda') * eye(3))))\n",
        "norma_2 = sqrt(rho)\n",
        "norma_2"
      ],
      "execution_count": 97,
      "outputs": [
        {
          "output_type": "execute_result",
          "data": {
            "text/latex": "$\\displaystyle 1$",
            "text/plain": [
              "1"
            ]
          },
          "metadata": {
            "tags": []
          },
          "execution_count": 97
        }
      ]
    },
    {
      "cell_type": "markdown",
      "metadata": {
        "id": "sqayW67aXP6A"
      },
      "source": [
        "#### Ejercicio 15\n",
        "La matriz de Hilbert $H_n$ tiene como coeficientes $h_{ij} = \\frac{1}{i + j -1}$\n",
        "Determinar el límite para $\\vert\\vert \\; \\vert\\vert_1$ y $\\vert\\vert \\; \\vert\\vert_\\infty$: $\\lim_{n\\to \\infty}\\vert\\vert H_n \\vert\\vert$."
      ]
    },
    {
      "cell_type": "code",
      "metadata": {
        "id": "Dh8x5p_bW2hE"
      },
      "source": [
        "def Hn(n):\n",
        "    hn = zeros(n, n)\n",
        "    for row in range(n):\n",
        "        for col in range(n):\n",
        "            hn[row, col] = S(1) / S(row + col + 1) # porque i y j les sumamos 1\n",
        "\n",
        "    return hn"
      ],
      "execution_count": 103,
      "outputs": []
    },
    {
      "cell_type": "code",
      "metadata": {
        "id": "1t5B4-40YJDm"
      },
      "source": [
        "# Vamos a crear unas matrices de prueba"
      ],
      "execution_count": 105,
      "outputs": []
    },
    {
      "cell_type": "code",
      "metadata": {
        "id": "7L9YWJoSX6Tl",
        "outputId": "6ff804f8-6934-4517-f0e8-80d35fe2c233",
        "colab": {
          "base_uri": "https://localhost:8080/",
          "height": 161
        }
      },
      "source": [
        "Hn(7)"
      ],
      "execution_count": 106,
      "outputs": [
        {
          "output_type": "execute_result",
          "data": {
            "text/latex": "$\\displaystyle \\left[\\begin{matrix}1 & \\frac{1}{2} & \\frac{1}{3} & \\frac{1}{4} & \\frac{1}{5} & \\frac{1}{6} & \\frac{1}{7}\\\\\\frac{1}{2} & \\frac{1}{3} & \\frac{1}{4} & \\frac{1}{5} & \\frac{1}{6} & \\frac{1}{7} & \\frac{1}{8}\\\\\\frac{1}{3} & \\frac{1}{4} & \\frac{1}{5} & \\frac{1}{6} & \\frac{1}{7} & \\frac{1}{8} & \\frac{1}{9}\\\\\\frac{1}{4} & \\frac{1}{5} & \\frac{1}{6} & \\frac{1}{7} & \\frac{1}{8} & \\frac{1}{9} & \\frac{1}{10}\\\\\\frac{1}{5} & \\frac{1}{6} & \\frac{1}{7} & \\frac{1}{8} & \\frac{1}{9} & \\frac{1}{10} & \\frac{1}{11}\\\\\\frac{1}{6} & \\frac{1}{7} & \\frac{1}{8} & \\frac{1}{9} & \\frac{1}{10} & \\frac{1}{11} & \\frac{1}{12}\\\\\\frac{1}{7} & \\frac{1}{8} & \\frac{1}{9} & \\frac{1}{10} & \\frac{1}{11} & \\frac{1}{12} & \\frac{1}{13}\\end{matrix}\\right]$",
            "text/plain": [
              "Matrix([\n",
              "[  1, 1/2, 1/3,  1/4,  1/5,  1/6,  1/7],\n",
              "[1/2, 1/3, 1/4,  1/5,  1/6,  1/7,  1/8],\n",
              "[1/3, 1/4, 1/5,  1/6,  1/7,  1/8,  1/9],\n",
              "[1/4, 1/5, 1/6,  1/7,  1/8,  1/9, 1/10],\n",
              "[1/5, 1/6, 1/7,  1/8,  1/9, 1/10, 1/11],\n",
              "[1/6, 1/7, 1/8,  1/9, 1/10, 1/11, 1/12],\n",
              "[1/7, 1/8, 1/9, 1/10, 1/11, 1/12, 1/13]])"
            ]
          },
          "metadata": {
            "tags": []
          },
          "execution_count": 106
        }
      ]
    },
    {
      "cell_type": "markdown",
      "metadata": {
        "id": "t866EruHYaxn"
      },
      "source": [
        "Vemos que la matriz es simétrica, luego norma 1 y norma inf serán iguales.\n",
        "La columna / fila con mayor suma es la primera, pues:\n",
        "$A[1:, 0] = A[:-1, 1]$ y $A[0, 0] > A[-1, 1]$\n",
        "\n",
        "Y por inducción en el resto de columnas se ve que $\\sum A[:, i] > \\sum A[:, i+1]$. \n",
        "\n",
        "El valor para $n$ de la primera fila es $\\sum A[:, 0] = \\sum_i^n 1/i$, que es la serie harmónica.\n",
        "\n",
        "Para $n \\to \\infty$, sabemos que $\\sum_i^n 1/i \\to \\infty$, luego $\\lim_{n\\to \\infty}\\vert\\vert H_n \\vert\\vert = \\infty$"
      ]
    },
    {
      "cell_type": "markdown",
      "metadata": {
        "id": "556qlMX0ZalS"
      },
      "source": [
        "#### Ejercicio 16\n",
        "Se considera la matriz \n",
        "\n",
        "$$ A = \\begin{pmatrix}a & 1+a\\\\0 & a\\end{pmatrix}$$\n",
        "\n",
        "con $a > 0 \\in \\mathbb{R}$.\n",
        "\n",
        "1) Calcular el número de condición de $A$ en la norma $\\vert \\vert A \\vert \\vert_\\infty$$"
      ]
    },
    {
      "cell_type": "code",
      "metadata": {
        "id": "1K0hzP5fYH4J",
        "outputId": "fc11bc45-7acf-4d7e-91ab-d96fdea657d2",
        "colab": {
          "base_uri": "https://localhost:8080/",
          "height": 58
        }
      },
      "source": [
        "# El núemro de condición es ||A||·||A^-1||\n",
        "a = symbols('a')\n",
        "\n",
        "A = Matrix([[a, 1+a], [0, a]])\n",
        "A"
      ],
      "execution_count": 109,
      "outputs": [
        {
          "output_type": "execute_result",
          "data": {
            "text/latex": "$\\displaystyle \\left[\\begin{matrix}a & a + 1\\\\0 & a\\end{matrix}\\right]$",
            "text/plain": [
              "Matrix([\n",
              "[a, a + 1],\n",
              "[0,     a]])"
            ]
          },
          "metadata": {
            "tags": []
          },
          "execution_count": 109
        }
      ]
    },
    {
      "cell_type": "code",
      "metadata": {
        "id": "rj9uSGYMaUEX",
        "outputId": "c5f4994a-1710-4ca9-ac97-53d991c10237",
        "colab": {
          "base_uri": "https://localhost:8080/",
          "height": 58
        }
      },
      "source": [
        "Ainv = A.inv()\n",
        "Ainv"
      ],
      "execution_count": 113,
      "outputs": [
        {
          "output_type": "execute_result",
          "data": {
            "text/latex": "$\\displaystyle \\left[\\begin{matrix}\\frac{1}{a} & - \\frac{1}{a} - \\frac{1}{a^{2}}\\\\0 & \\frac{1}{a}\\end{matrix}\\right]$",
            "text/plain": [
              "Matrix([\n",
              "[1/a, -1/a - 1/a**2],\n",
              "[  0,           1/a]])"
            ]
          },
          "metadata": {
            "tags": []
          },
          "execution_count": 113
        }
      ]
    },
    {
      "cell_type": "code",
      "metadata": {
        "id": "ev3UZ-K1ajR-",
        "outputId": "38784fdb-88b5-4795-ae3f-0919870b8b33",
        "colab": {
          "base_uri": "https://localhost:8080/"
        }
      },
      "source": [
        "# Norma_inf A es a + a + 1 = 1 + 2a\n",
        "ninfA = 1 + 2*a\n",
        "\n",
        "# Norma_inf Ainv es 1/a + 1/a + 1/a2 = \n",
        "ninfAinv = 1/a + 1/a + 1/a**2\n",
        "\n",
        "ninfA, ninfAinv"
      ],
      "execution_count": 119,
      "outputs": [
        {
          "output_type": "execute_result",
          "data": {
            "text/plain": [
              "(2*a + 1, 2/a + a**(-2))"
            ]
          },
          "metadata": {
            "tags": []
          },
          "execution_count": 119
        }
      ]
    },
    {
      "cell_type": "code",
      "metadata": {
        "id": "flG-GYbNbR-0",
        "outputId": "a371d20a-748d-4566-fa2e-b3bf1ed5701a",
        "colab": {
          "base_uri": "https://localhost:8080/",
          "height": 56
        }
      },
      "source": [
        "condicion = ninfA * ninfAinv\n",
        "simplify(condicion)"
      ],
      "execution_count": 122,
      "outputs": [
        {
          "output_type": "execute_result",
          "data": {
            "text/latex": "$\\displaystyle \\frac{\\left(2 a + 1\\right)^{2}}{a^{2}}$",
            "text/plain": [
              "(2*a + 1)**2/a**2"
            ]
          },
          "metadata": {
            "tags": []
          },
          "execution_count": 122
        }
      ]
    },
    {
      "cell_type": "code",
      "metadata": {
        "id": "uIx1PzV7eFbq",
        "outputId": "69f26a2c-2a8b-49cc-cc9b-506f622aeeea",
        "colab": {
          "base_uri": "https://localhost:8080/",
          "height": 56
        }
      },
      "source": [
        "simplify(1 - factor(condicion))"
      ],
      "execution_count": 127,
      "outputs": [
        {
          "output_type": "execute_result",
          "data": {
            "text/latex": "$\\displaystyle 1 - \\frac{\\left(2 a + 1\\right)^{2}}{a^{2}}$",
            "text/plain": [
              "1 - (2*a + 1)**2/a**2"
            ]
          },
          "metadata": {
            "tags": []
          },
          "execution_count": 127
        }
      ]
    },
    {
      "cell_type": "markdown",
      "metadata": {
        "id": "I2215MGabfkY"
      },
      "source": [
        "2) Estimar el error relativo de la solución del sistema lineal perturbado\n",
        "$$(A + \\delta A)(x + \\delta x) = b + \\delta b$$\n",
        "\n",
        "Por el lema de Banach tenemos que \n",
        "\n",
        "$$\\frac{\\vert\\vert \\delta x\\vert\\vert}{\\vert\\vert x\\vert\\vert} = \\frac{cond(A)}{1-cond(A)\\frac{\\vert\\vert \\delta A\\vert\\vert}{\\vert\\vert A\\vert\\vert}}\\left(\n",
        "    \\frac{\\vert\\vert \\delta b\\vert\\vert}{\\vert\\vert b\\vert\\vert} + \n",
        "    \\frac{\\vert\\vert \\delta A\\vert\\vert}{\\vert\\vert A\\vert\\vert}\\right)$$\n",
        "\n",
        "\n",
        "Para este ejercicio es \n",
        "$$\\frac{\\vert\\vert \\delta x\\vert\\vert}{\\vert\\vert x\\vert\\vert} = \\frac{\n",
        "    (2a+1)^2\n",
        "}{(a^2 - (2a+1)^2)\\frac{\\vert\\vert \\delta A\\vert\\vert}{\\vert\\vert A\\vert\\vert}}\\left(\n",
        "    \\frac{\\vert\\vert \\delta b\\vert\\vert}{\\vert\\vert b\\vert\\vert} + \n",
        "    \\frac{\\vert\\vert \\delta A\\vert\\vert}{\\vert\\vert A\\vert\\vert}\\right)$$\n",
        "\n",
        "De lo cual se cumple que \n",
        "$$\\frac{\\vert\\vert \\delta A\\vert\\vert}{\\vert\\vert A\\vert\\vert} < \\frac{1}{cond(A)}$$"
      ]
    },
    {
      "cell_type": "markdown",
      "metadata": {
        "id": "CYz7dbqqfZhY"
      },
      "source": [
        "#### Ejercicio 17\n",
        "Calcular la factorización LU de la matriz $A$ con pivote parcial con $0 < \\alpha < \\frac{\\pi}{4}$."
      ]
    },
    {
      "cell_type": "code",
      "metadata": {
        "id": "DV9nvb32fgMA",
        "outputId": "817d6ddc-a40d-4ecb-9fbf-da7af63e0280",
        "colab": {
          "base_uri": "https://localhost:8080/",
          "height": 99
        }
      },
      "source": [
        "a = symbols('alpha')\n",
        "A = Matrix([[0, 1, 0, 0], [1, 0, 0, 0], [0, 0, cos(a), -sin(a)], [0, 0, sin(a), cos(a)]])\n",
        "A"
      ],
      "execution_count": 130,
      "outputs": [
        {
          "output_type": "execute_result",
          "data": {
            "text/latex": "$\\displaystyle \\left[\\begin{matrix}0 & 1 & 0 & 0\\\\1 & 0 & 0 & 0\\\\0 & 0 & \\cos{\\left(\\alpha \\right)} & - \\sin{\\left(\\alpha \\right)}\\\\0 & 0 & \\sin{\\left(\\alpha \\right)} & \\cos{\\left(\\alpha \\right)}\\end{matrix}\\right]$",
            "text/plain": [
              "Matrix([\n",
              "[0, 1,          0,           0],\n",
              "[1, 0,          0,           0],\n",
              "[0, 0, cos(alpha), -sin(alpha)],\n",
              "[0, 0, sin(alpha),  cos(alpha)]])"
            ]
          },
          "metadata": {
            "tags": []
          },
          "execution_count": 130
        }
      ]
    },
    {
      "cell_type": "markdown",
      "metadata": {
        "id": "zx7GUmV7hMoE"
      },
      "source": [
        "En este caso tenemos que la función LU nos falla porque el máximo de la matriz \"no existe\". Vamos a programarlo.\n"
      ]
    }
  ]
}