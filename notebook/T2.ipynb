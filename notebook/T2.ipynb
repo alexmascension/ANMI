{
  "nbformat": 4,
  "nbformat_minor": 0,
  "metadata": {
    "colab": {
      "name": "ANMI.ipynb",
      "provenance": [],
      "toc_visible": true,
      "include_colab_link": true
    },
    "kernelspec": {
      "display_name": "Python 3",
      "language": "python",
      "name": "python3"
    },
    "language_info": {
      "codemirror_mode": {
        "name": "ipython",
        "version": 3
      },
      "file_extension": ".py",
      "mimetype": "text/x-python",
      "name": "python",
      "nbconvert_exporter": "python",
      "pygments_lexer": "ipython3",
      "version": "3.8.5"
    }
  },
  "cells": [
    {
      "cell_type": "markdown",
      "metadata": {
        "id": "view-in-github",
        "colab_type": "text"
      },
      "source": [
        "<a href=\"https://colab.research.google.com/github/alexmascension/ANMI/blob/main/notebook/T2.ipynb\" target=\"_parent\"><img src=\"https://colab.research.google.com/assets/colab-badge.svg\" alt=\"Open In Colab\"/></a>"
      ]
    },
    {
      "cell_type": "markdown",
      "metadata": {
        "id": "Vf3GioQwcepr"
      },
      "source": [
        "# Tema 2: Sistemas de ecuaciones numéricas lineales"
      ]
    },
    {
      "cell_type": "code",
      "metadata": {
        "id": "NEU_KHeLX58r"
      },
      "source": [
        "!pip install -r https://raw.githubusercontent.com/alexmascension/ANMI/main/requirements.txt"
      ],
      "execution_count": null,
      "outputs": []
    },
    {
      "cell_type": "code",
      "metadata": {
        "id": "dYo_JGn2TSxC"
      },
      "source": [
        "from sympy import *\n",
        "from sympy.matrices import Matrix as mat\n",
        "from sympy.matrices import randMatrix\n",
        "from sympy import symbols\n",
        "import sympy\n",
        "\n",
        "import matplotlib.pyplot as plt\n",
        "\n",
        "import numpy as np\n",
        "\n",
        "from scipy.linalg import orth"
      ],
      "execution_count": null,
      "outputs": []
    },
    {
      "cell_type": "code",
      "metadata": {
        "id": "MMGpqmzjX58t"
      },
      "source": [
        "from anmi.genericas import norma, print_verbose, norma_1, norma_inf, norma_2\n",
        "\n",
        "from numpy.linalg import cond as numero_condicion\n",
        "from anmi.T2 import descomposicion_LU, descomposicion_LDU, cholesky, gram_schmidt, householder, factorizacion_QR\n",
        "from anmi.T2 import metodo_iterativo, criterio_m_matriz, criterio_SOR, criterio_simetrica_definida_positiva, criterio_diagonal_dominante, criterio_radio_espectral"
      ],
      "execution_count": null,
      "outputs": []
    },
    {
      "cell_type": "markdown",
      "metadata": {
        "id": "dnhFdr_9-sV2"
      },
      "source": [
        "### Número de condicion"
      ]
    },
    {
      "cell_type": "markdown",
      "metadata": {
        "id": "KMs1uAWmA0mt"
      },
      "source": [
        "El número de condición se define como $\\vert\\vert A \\vert\\vert \\cdot \\vert\\vert A^{-1}\\vert\\vert$. Un número de condición cercano a 1 implica una matriz más estable frente a métodos con elementos diferenciales. Se cumple que las matrices ortogonales tienen número de condición 1."
      ]
    },
    {
      "cell_type": "code",
      "metadata": {
        "id": "qflslI-rTYcZ"
      },
      "source": [
        "help(numero_condicion)"
      ],
      "execution_count": null,
      "outputs": []
    },
    {
      "cell_type": "code",
      "metadata": {
        "id": "zEeV7Ic1-uF2"
      },
      "source": [
        "M = mat(((1, 2, 3), (2, 3, 1), (3, 2, 4)))\n",
        "M"
      ],
      "execution_count": null,
      "outputs": []
    },
    {
      "cell_type": "code",
      "metadata": {
        "id": "9I7Yh2MXAdap"
      },
      "source": [
        "numero_condicion(np.array(M).astype(int))"
      ],
      "execution_count": null,
      "outputs": []
    },
    {
      "cell_type": "code",
      "metadata": {
        "id": "avs2j_2h-7L_"
      },
      "source": [
        "M_ort = (orth(np.array(M).astype(int)))\n",
        "M_ort"
      ],
      "execution_count": null,
      "outputs": []
    },
    {
      "cell_type": "code",
      "metadata": {
        "id": "pzDxNXvFAc3Y"
      },
      "source": [
        "numero_condicion(M_ort)"
      ],
      "execution_count": null,
      "outputs": []
    },
    {
      "cell_type": "markdown",
      "metadata": {
        "id": "A0gMSfcy-kYL"
      },
      "source": [
        "### Factorización LU y LDU*\n",
        "\n",
        "Recordemos que para una matriz, la factorización LU es el proceso de aplicación de la simplificación de Gauss, de modo que la matriz $L$ es una matriz triangular inferior con los coeficientes de transformación, y la matriz $U$ es la matriz superior con los elementos tras las transformaciones lineales.\n",
        "\n",
        "Además, se puede hacer que $D$ sea una matriz diagonal con los valores de la diagonal de $U$, de modo que $LU$ = $LDD^{-1}U$, y si hacemos $U^* = D^{-1}U$ entonces tenemos $LDU^*$, donde $U^*$ sigue siendo una matriz diagonal superior, pero con la diagonal igual a 1.\n",
        "\n",
        "A la hora de aplicar la factorización LU y LDU* se puede hacer una permutación de filas, de modo que en cada iteración se coge la fila con mayor valor (de entre las que no se han *procesado*) y se permuta, garantizando una solución siempre. También, es importante tener en mente que la factorización falla si algún elemento de la diagonal (desde el principio o durante la factorización) es 0, de modo que para solucionar ese caso se aplica la permutación.\n",
        "\n",
        "Todas las permutaciones quedan recogidas en una matriz $P$, de modo que $$LU = LDU^* = PA$$"
      ]
    },
    {
      "cell_type": "code",
      "metadata": {
        "id": "KASrRiC7TYcd"
      },
      "source": [
        "help(descomposicion_LU)"
      ],
      "execution_count": null,
      "outputs": []
    },
    {
      "cell_type": "code",
      "metadata": {
        "id": "kWCu2LKbDBbP"
      },
      "source": [
        "M = mat(((1, 4, 4), (3, 2, 1), (2, 4, 1)))"
      ],
      "execution_count": null,
      "outputs": []
    },
    {
      "cell_type": "code",
      "metadata": {
        "id": "40fCFj_GIBTU"
      },
      "source": [
        "descomposicion_LU(M, permutar_max=False)"
      ],
      "execution_count": null,
      "outputs": []
    },
    {
      "cell_type": "code",
      "metadata": {
        "id": "Zq3S3aEHGpEN"
      },
      "source": [
        "descomposicion_LDU(M, permutar_max=False)"
      ],
      "execution_count": null,
      "outputs": []
    },
    {
      "cell_type": "code",
      "metadata": {
        "id": "GxsFFK6naXHD"
      },
      "source": [
        "descomposicion_LU(M, rhs=ones(M.shape[0], 1), permutar_max=True)"
      ],
      "execution_count": null,
      "outputs": []
    },
    {
      "cell_type": "code",
      "metadata": {
        "id": "hfCYSdUBch4v"
      },
      "source": [
        "descomposicion_LDU(M, permutar_max=True)"
      ],
      "execution_count": null,
      "outputs": []
    },
    {
      "cell_type": "markdown",
      "metadata": {
        "id": "W6br1XOwJdDp"
      },
      "source": [
        "### Factorización de Cholesky\n",
        "\n",
        "La factorización de Cholesky es una factorización que genera una matriz triangular inferior $L$ tal que $A = LL^T$. Para que una matriz sea factorizable, tiene que cumplir que sus menores principales sean positivos, y que sea simétrica."
      ]
    },
    {
      "cell_type": "code",
      "metadata": {
        "id": "tQD2tEYMTYcf"
      },
      "source": [
        "help(cholesky)"
      ],
      "execution_count": null,
      "outputs": []
    },
    {
      "cell_type": "code",
      "metadata": {
        "id": "5ZDS9ojOP-5l"
      },
      "source": [
        "M = mat(((2, -1, 0), (-1, 2, -2), (0, 2, 1)))\n",
        "M"
      ],
      "execution_count": null,
      "outputs": []
    },
    {
      "cell_type": "code",
      "metadata": {
        "id": "7EeC9CrPQoOL"
      },
      "source": [
        "cholesky(M)"
      ],
      "execution_count": null,
      "outputs": []
    },
    {
      "cell_type": "code",
      "metadata": {
        "id": "J6d5MNhHQqo1"
      },
      "source": [
        "cholesky(M + M.T)"
      ],
      "execution_count": null,
      "outputs": []
    },
    {
      "cell_type": "code",
      "metadata": {
        "id": "Sr_zBF3ZQxRI"
      },
      "source": [
        "M + M.T"
      ],
      "execution_count": null,
      "outputs": []
    },
    {
      "cell_type": "code",
      "metadata": {
        "id": "WtWk7kEFQAIO"
      },
      "source": [
        "cholesky(M + M.T) * cholesky(M + M.T).T"
      ],
      "execution_count": null,
      "outputs": []
    },
    {
      "cell_type": "code",
      "metadata": {
        "id": "NnHjEDuxU7Jl"
      },
      "source": [
        "# Podemos hacer también Cholesky a una matriz con símbolos!\n",
        "x = symbols('x')\n",
        "\n",
        "Mx = mat(((1, x, 1), (x, 2, 1), (1, 1, 3)))\n",
        "Mx"
      ],
      "execution_count": null,
      "outputs": []
    },
    {
      "cell_type": "code",
      "metadata": {
        "id": "UFy3EeZ4VL4c"
      },
      "source": [
        "cholesky(Mx)"
      ],
      "execution_count": null,
      "outputs": []
    },
    {
      "cell_type": "markdown",
      "metadata": {
        "id": "MVBPnqO5TlKX"
      },
      "source": [
        "### Ortogonalización de Gram-Schmidt\n",
        "\n",
        "\n"
      ]
    },
    {
      "cell_type": "code",
      "metadata": {
        "id": "HGvyvvXQTYci"
      },
      "source": [
        "help(gram_schmidt)"
      ],
      "execution_count": null,
      "outputs": []
    },
    {
      "cell_type": "code",
      "metadata": {
        "id": "6lDBiGAtXmAp"
      },
      "source": [
        "M"
      ],
      "execution_count": null,
      "outputs": []
    },
    {
      "cell_type": "code",
      "metadata": {
        "id": "5Tuf5FxFVa_u"
      },
      "source": [
        "GS = gram_schmidt(M)\n",
        "GS['P']"
      ],
      "execution_count": null,
      "outputs": []
    },
    {
      "cell_type": "code",
      "metadata": {
        "id": "5cgxsH2-cLrJ"
      },
      "source": [
        "GS['Pn']"
      ],
      "execution_count": null,
      "outputs": []
    },
    {
      "cell_type": "code",
      "metadata": {
        "id": "WG_PCCm8cObF"
      },
      "source": [
        "GS['c']"
      ],
      "execution_count": null,
      "outputs": []
    },
    {
      "cell_type": "code",
      "metadata": {
        "id": "VEadGxAmYIBq"
      },
      "source": [
        "GS['P'][:, 1].T * GS['P'][:, 2]"
      ],
      "execution_count": null,
      "outputs": []
    },
    {
      "cell_type": "code",
      "metadata": {
        "id": "5qIpFX-oZNL1"
      },
      "source": [
        "Mx = mat(((1, 2, 3), (1, x, 1), (0, 0, 3)))"
      ],
      "execution_count": null,
      "outputs": []
    },
    {
      "cell_type": "code",
      "metadata": {
        "id": "nFMKn1hRZGsR"
      },
      "source": [
        "GSx = gram_schmidt(Mx)\n",
        "GSx['P']"
      ],
      "execution_count": null,
      "outputs": []
    },
    {
      "cell_type": "markdown",
      "metadata": {
        "id": "DxghRH1R2FpX"
      },
      "source": [
        "### Transformación de Householder\n",
        "\n",
        "La transformación de Householder es una transformación para pasar de un vertor $x$ a un vector $y$. Para ello se toma el vector $e$, que sería el eje de transformación, y la matriz aplicación es $H = I - 2ee^t$.\n",
        "\n",
        "En este caso, $$e = \\pm \\frac{x - y}{\\vert\\vert x - y \\vert\\vert}$$\n",
        "\n",
        "Para la transformación de Householder $x$ e $y$ **tienen que tener la misma norma**. El vector resultante $e$ tiene norma 1.\n"
      ]
    },
    {
      "cell_type": "code",
      "metadata": {
        "id": "_Soq6RfbTYcl"
      },
      "source": [
        "help(householder)"
      ],
      "execution_count": null,
      "outputs": []
    },
    {
      "cell_type": "code",
      "metadata": {
        "id": "ZaqNjL9S6Emp"
      },
      "source": [
        "v0 = mat(((1, 0)))\n",
        "vf = mat((1, 1))\n",
        "vf = vf/norma(vf)"
      ],
      "execution_count": null,
      "outputs": []
    },
    {
      "cell_type": "code",
      "metadata": {
        "id": "4eX3aGll48tB"
      },
      "source": [
        "H, e = householder(v0, vf, normalizar=False)\n",
        "H"
      ],
      "execution_count": null,
      "outputs": []
    },
    {
      "cell_type": "code",
      "metadata": {
        "id": "KnsssCN89u7r"
      },
      "source": [
        "e"
      ],
      "execution_count": null,
      "outputs": []
    },
    {
      "cell_type": "code",
      "metadata": {
        "id": "ZZHLaNT-9wk5"
      },
      "source": [
        "# Ejercicio 10\n",
        "t = symbols('t')\n",
        "\n",
        "v0 = mat(((1, 0)))\n",
        "vf = mat((cos(t), sin(t)))\n",
        "\n",
        "H, e = householder(v0, vf, normalizar=False)"
      ],
      "execution_count": null,
      "outputs": []
    },
    {
      "cell_type": "code",
      "metadata": {
        "id": "YTqdf6vW96KO"
      },
      "source": [
        "H"
      ],
      "execution_count": null,
      "outputs": []
    },
    {
      "cell_type": "code",
      "metadata": {
        "id": "ixbJ7kcs4XR7"
      },
      "source": [
        "e"
      ],
      "execution_count": null,
      "outputs": []
    },
    {
      "cell_type": "markdown",
      "metadata": {
        "id": "6S0zeTyOSOmw"
      },
      "source": [
        "### Factorización QR\n",
        "\n",
        "La factorización QR consiste en transformar $A = QR$ donde $Q$ es ortogonal y $R$ es triangular superior. \n",
        "\n",
        "Si $P$ es la matriz ortogonalizada, $C$ es la matriz con los factores de ortonormalización (para Gram-Schmidt, por ejemplo, es $m_{ij} = \\frac{a^j\\cdot p^i}{\\vert\\vert p^{i}\\vert\\vert^2}$ y $D$ es la matriz de las normas de los vectores ortogonales ($\\vert\\vert p^i\\vert\\vert$), entonces se tiene que:\n",
        "$$Q = PD^{-1}$$\n",
        "$$R = D(I + C)$$"
      ]
    },
    {
      "cell_type": "code",
      "metadata": {
        "id": "gvIfLNfCTYcm"
      },
      "source": [
        "help(factorizacion_QR)"
      ],
      "execution_count": null,
      "outputs": []
    },
    {
      "cell_type": "code",
      "metadata": {
        "id": "3A5b1Hp4dvfH"
      },
      "source": [
        "M = mat(((2, -1, 0), (0, 0, -2), (0, 2, -1)))"
      ],
      "execution_count": null,
      "outputs": []
    },
    {
      "cell_type": "code",
      "metadata": {
        "id": "7PPzCSsKd3J5"
      },
      "source": [
        "factorizacion_QR(M, metodo='householder')"
      ],
      "execution_count": null,
      "outputs": []
    },
    {
      "cell_type": "code",
      "metadata": {
        "id": "nEHBugO-a_M1"
      },
      "source": [
        "A1 = mat(((2, -1, 0), (0, 0, -2), (0, 2, -1)))"
      ],
      "execution_count": null,
      "outputs": []
    },
    {
      "cell_type": "code",
      "metadata": {
        "id": "QEreyR_kbBPz"
      },
      "source": [
        "A1 = mat(((1, 2, 3), (4, 5, 6), (7, 8, 9)))\n",
        "A1"
      ],
      "execution_count": null,
      "outputs": []
    },
    {
      "cell_type": "code",
      "metadata": {
        "id": "WpXMNwCbhWVv"
      },
      "source": [
        "dqr = factorizacion_QR(A1, metodo='householder')"
      ],
      "execution_count": null,
      "outputs": []
    },
    {
      "cell_type": "code",
      "metadata": {
        "id": "5sxX26YhdASo"
      },
      "source": [
        "dqr['Q']"
      ],
      "execution_count": null,
      "outputs": []
    },
    {
      "cell_type": "code",
      "metadata": {
        "id": "v3hTTSAOdAIF"
      },
      "source": [
        "dqr['R']"
      ],
      "execution_count": null,
      "outputs": []
    },
    {
      "cell_type": "code",
      "metadata": {
        "id": "4oVoviHzhWaF"
      },
      "source": [
        "simplify(dqr['Q'].T * dqr['Q'])"
      ],
      "execution_count": null,
      "outputs": []
    },
    {
      "cell_type": "code",
      "metadata": {
        "id": "2O2FruG5cwnO"
      },
      "source": [
        "simplify(dqr['Q'] * dqr['R'])"
      ],
      "execution_count": null,
      "outputs": []
    },
    {
      "cell_type": "markdown",
      "metadata": {
        "id": "SmLgOIcudSpl"
      },
      "source": [
        "### Métodos iterativos\n",
        "\n"
      ]
    },
    {
      "cell_type": "markdown",
      "metadata": {
        "id": "L2SsjovFdWe0"
      },
      "source": [
        "Los métodos iterativos son métodos para resolver el sistema $Ax=b$. Todos los métodos se basan en el mismo criterio, que es emplear una matriz $H$ tal que, para una iteración:\n",
        "$$x^{(k+1)} = Hx^{(k)} + b'$$\n",
        "\n",
        "Si tomamos la matriz $A = D - L - U$ (donde $D$ es la diagonal de $A$, y $L$ y $U$ son matrices triangulares de elementos de $A$), la ecuación anterior queda:\n",
        "$$Mx^{(k+1)} = (M-A)x^{(k)} + b$$\n",
        "\n",
        "Y simplemente hay que despejar para $x^{(k+1)}$ (pues $x^{(k)}$ lo conocemos) y repetir el procedimiento hasta convergencia:\n",
        "$$x^{(k+1)} = M^{-1}(M-A)x^{(k)} + M^{-1}b$$\n",
        "\n",
        "Según el método, la matriz difiere: para Jacobi es $M = D$, para Gauss-Seidel es $M = D-L$ y para sobre-relajación (ros) es $M = \\frac{1}{\\omega}D - L$."
      ]
    },
    {
      "cell_type": "code",
      "metadata": {
        "id": "goTaPH0cTYcq"
      },
      "source": [
        "help(metodo_iterativo)"
      ],
      "execution_count": null,
      "outputs": []
    },
    {
      "cell_type": "code",
      "metadata": {
        "id": "oqnh2RrfdWXS"
      },
      "source": [
        "A = mat([[2, 1, 1], [1, -2, 1], [1, 1, 2]])\n",
        "b = mat([[1, 1, 1]]).T"
      ],
      "execution_count": null,
      "outputs": []
    },
    {
      "cell_type": "code",
      "metadata": {
        "id": "EFLlJcGidWRR"
      },
      "source": [
        "diter = metodo_iterativo(A, b, n_iter=200, verbose=True)\n",
        "np.array(diter['x'], dtype=float)"
      ],
      "execution_count": null,
      "outputs": []
    },
    {
      "cell_type": "code",
      "metadata": {
        "id": "5xTufrqjdV1d"
      },
      "source": [
        "# EJERCICIO 12\n",
        "a = symbols('a')\n",
        "\n",
        "A = mat([[4, 1, a], [1, 4, 1], [a, 1, 4]])\n",
        "metodo_iterativo(A, metodo='gs', n_iter=3)"
      ],
      "execution_count": null,
      "outputs": []
    },
    {
      "cell_type": "code",
      "metadata": {
        "id": "GYDG-ezJw-p_"
      },
      "source": [
        "# EJERCICIO 14\n",
        "A = mat([[-11, 20, 8], [20, 16, -8], [8, -8, 5]]) / 27\n",
        "norma_1(A)\n",
        "norma_inf(A)\n",
        "d = [simplify(i) for i in list((A.T * A).eigenvals().keys())]\n",
        "# norma_2(A)"
      ],
      "execution_count": null,
      "outputs": []
    },
    {
      "cell_type": "code",
      "metadata": {
        "id": "zHoLZBSQ1gwN"
      },
      "source": [
        "A"
      ],
      "execution_count": null,
      "outputs": []
    },
    {
      "cell_type": "code",
      "metadata": {
        "id": "9atj7Xxr1AQ_"
      },
      "source": [
        "A.T * A"
      ],
      "execution_count": null,
      "outputs": []
    },
    {
      "cell_type": "code",
      "metadata": {
        "id": "Zcd4rMQe0gBl"
      },
      "source": [
        "simplify((A.T * A - a * eye(3)))"
      ],
      "execution_count": null,
      "outputs": []
    },
    {
      "cell_type": "markdown",
      "metadata": {
        "id": "2Vg24HsnUAXD"
      },
      "source": [
        "# Ejercicios"
      ]
    },
    {
      "cell_type": "markdown",
      "metadata": {
        "id": "kE5ay9tsURBP"
      },
      "source": [
        "#### Ejercicio 14\n",
        "Calcular $\\vert\\vert A\\vert\\vert_1, \\vert\\vert A\\vert\\vert_2, \\vert\\vert A\\vert\\vert_\\infty$ de la matriz"
      ]
    },
    {
      "cell_type": "code",
      "metadata": {
        "id": "cvkTHW91T_hV"
      },
      "source": [
        "A = Matrix([[-11, 20, 8], [20, 16, -8], [8, -8, 5]]) / 27\n",
        "A"
      ],
      "execution_count": null,
      "outputs": []
    },
    {
      "cell_type": "code",
      "metadata": {
        "id": "uWs7D8DMU2P4"
      },
      "source": [
        "np.sum(abs(A), 0), norma_1(A)"
      ],
      "execution_count": null,
      "outputs": []
    },
    {
      "cell_type": "code",
      "metadata": {
        "id": "6mXSaBoKT_tZ"
      },
      "source": [
        "np.sum(abs(A), 1), norma_inf(A)"
      ],
      "execution_count": null,
      "outputs": []
    },
    {
      "cell_type": "code",
      "metadata": {
        "id": "awyJDGzMVNQa"
      },
      "source": [
        "# Para la norma_2 podemos usar norma_2(), pero vamos a hacerlo a mano. Para ello:\n",
        "# 1) Hallamos A.T * A\n",
        "AA = simplify(A.T * A)\n",
        "AA"
      ],
      "execution_count": null,
      "outputs": []
    },
    {
      "cell_type": "code",
      "metadata": {
        "id": "u2cPzYcBWJYP"
      },
      "source": [
        "# En este punto los resultados difieren, así que usaremos sus resultados intermedios\n",
        "AA = Matrix([[65, 4, -32], [4, 80, 8], [-32, 8, 17]]) / 81"
      ],
      "execution_count": null,
      "outputs": []
    },
    {
      "cell_type": "code",
      "metadata": {
        "id": "D3hEHpUbUwMp"
      },
      "source": [
        "# 2) Hallamos los autovalores\n",
        "factor(det(AA - symbols('lambda') * eye(3)))"
      ],
      "execution_count": null,
      "outputs": []
    },
    {
      "cell_type": "code",
      "metadata": {
        "id": "VA5_3eVHUwO0"
      },
      "source": [
        "# Los autovalores son 0 y 1. Luego nos quedamos con 1\n",
        "rho = max(solve(det(AA - symbols('lambda') * eye(3))))\n",
        "norma_2 = sqrt(rho)\n",
        "norma_2"
      ],
      "execution_count": null,
      "outputs": []
    },
    {
      "cell_type": "markdown",
      "metadata": {
        "id": "sqayW67aXP6A"
      },
      "source": [
        "#### Ejercicio 15\n",
        "La matriz de Hilbert $H_n$ tiene como coeficientes $h_{ij} = \\frac{1}{i + j -1}$\n",
        "Determinar el límite para $\\vert\\vert \\; \\vert\\vert_1$ y $\\vert\\vert \\; \\vert\\vert_\\infty$: $\\lim_{n\\to \\infty}\\vert\\vert H_n \\vert\\vert$."
      ]
    },
    {
      "cell_type": "code",
      "metadata": {
        "id": "Dh8x5p_bW2hE"
      },
      "source": [
        "def Hn(n):\n",
        "    hn = zeros(n, n)\n",
        "    for row in range(n):\n",
        "        for col in range(n):\n",
        "            hn[row, col] = S(1) / S(row + col + 1) # porque i y j les sumamos 1\n",
        "\n",
        "    return hn"
      ],
      "execution_count": null,
      "outputs": []
    },
    {
      "cell_type": "code",
      "metadata": {
        "id": "1t5B4-40YJDm"
      },
      "source": [
        "# Vamos a crear unas matrices de prueba"
      ],
      "execution_count": null,
      "outputs": []
    },
    {
      "cell_type": "code",
      "metadata": {
        "id": "7L9YWJoSX6Tl"
      },
      "source": [
        "Hn(7)"
      ],
      "execution_count": null,
      "outputs": []
    },
    {
      "cell_type": "markdown",
      "metadata": {
        "id": "t866EruHYaxn"
      },
      "source": [
        "Vemos que la matriz es simétrica, luego norma 1 y norma inf serán iguales.\n",
        "La columna / fila con mayor suma es la primera, pues:\n",
        "$A[1:, 0] = A[:-1, 1]$ y $A[0, 0] > A[-1, 1]$\n",
        "\n",
        "Y por inducción en el resto de columnas se ve que $\\sum A[:, i] > \\sum A[:, i+1]$. \n",
        "\n",
        "El valor para $n$ de la primera fila es $\\sum A[:, 0] = \\sum_i^n 1/i$, que es la serie harmónica.\n",
        "\n",
        "Para $n \\to \\infty$, sabemos que $\\sum_i^n 1/i \\to \\infty$, luego $\\lim_{n\\to \\infty}\\vert\\vert H_n \\vert\\vert = \\infty$"
      ]
    },
    {
      "cell_type": "markdown",
      "metadata": {
        "id": "556qlMX0ZalS"
      },
      "source": [
        "#### Ejercicio 16\n",
        "Se considera la matriz \n",
        "\n",
        "$$ A = \\begin{pmatrix}a & 1+a\\\\0 & a\\end{pmatrix}$$\n",
        "\n",
        "con $a > 0 \\in \\mathbb{R}$.\n",
        "\n",
        "1) Calcular el número de condición de $A$ en la norma $\\vert \\vert A \\vert \\vert_\\infty$$"
      ]
    },
    {
      "cell_type": "code",
      "metadata": {
        "id": "1K0hzP5fYH4J"
      },
      "source": [
        "# El núemro de condición es ||A||·||A^-1||\n",
        "a = symbols('a')\n",
        "\n",
        "A = Matrix([[a, 1+a], [0, a]])\n",
        "A"
      ],
      "execution_count": null,
      "outputs": []
    },
    {
      "cell_type": "code",
      "metadata": {
        "id": "rj9uSGYMaUEX"
      },
      "source": [
        "Ainv = A.inv()\n",
        "Ainv"
      ],
      "execution_count": null,
      "outputs": []
    },
    {
      "cell_type": "code",
      "metadata": {
        "id": "ev3UZ-K1ajR-"
      },
      "source": [
        "# Norma_inf A es a + a + 1 = 1 + 2a\n",
        "ninfA = 1 + 2*a\n",
        "\n",
        "# Norma_inf Ainv es 1/a + 1/a + 1/a2 = \n",
        "ninfAinv = 1/a + 1/a + 1/a**2\n",
        "\n",
        "ninfA, ninfAinv"
      ],
      "execution_count": null,
      "outputs": []
    },
    {
      "cell_type": "code",
      "metadata": {
        "id": "flG-GYbNbR-0"
      },
      "source": [
        "condicion = ninfA * ninfAinv\n",
        "simplify(condicion)"
      ],
      "execution_count": null,
      "outputs": []
    },
    {
      "cell_type": "code",
      "metadata": {
        "id": "uIx1PzV7eFbq"
      },
      "source": [
        "simplify(1 - factor(condicion))"
      ],
      "execution_count": null,
      "outputs": []
    },
    {
      "cell_type": "markdown",
      "metadata": {
        "id": "I2215MGabfkY"
      },
      "source": [
        "2) Estimar el error relativo de la solución del sistema lineal perturbado\n",
        "$$(A + \\delta A)(x + \\delta x) = b + \\delta b$$\n",
        "\n",
        "Por el lema de Banach tenemos que \n",
        "\n",
        "$$\\frac{\\vert\\vert \\delta x\\vert\\vert}{\\vert\\vert x\\vert\\vert} = \\frac{cond(A)}{1-cond(A)\\frac{\\vert\\vert \\delta A\\vert\\vert}{\\vert\\vert A\\vert\\vert}}\\left(\n",
        "    \\frac{\\vert\\vert \\delta b\\vert\\vert}{\\vert\\vert b\\vert\\vert} + \n",
        "    \\frac{\\vert\\vert \\delta A\\vert\\vert}{\\vert\\vert A\\vert\\vert}\\right)$$\n",
        "\n",
        "\n",
        "Para este ejercicio es \n",
        "$$\\frac{\\vert\\vert \\delta x\\vert\\vert}{\\vert\\vert x\\vert\\vert} = \\frac{\n",
        "    (2a+1)^2\n",
        "}{(a^2 - (2a+1)^2)\\frac{\\vert\\vert \\delta A\\vert\\vert}{\\vert\\vert A\\vert\\vert}}\\left(\n",
        "    \\frac{\\vert\\vert \\delta b\\vert\\vert}{\\vert\\vert b\\vert\\vert} + \n",
        "    \\frac{\\vert\\vert \\delta A\\vert\\vert}{\\vert\\vert A\\vert\\vert}\\right)$$\n",
        "\n",
        "De lo cual se cumple que \n",
        "$$\\frac{\\vert\\vert \\delta A\\vert\\vert}{\\vert\\vert A\\vert\\vert} < \\frac{1}{cond(A)}$$"
      ]
    },
    {
      "cell_type": "markdown",
      "metadata": {
        "id": "CYz7dbqqfZhY"
      },
      "source": [
        "#### Ejercicio 17\n",
        "Calcular la factorización LU de la matriz $A$ con pivote parcial con $0 < \\alpha < \\frac{\\pi}{4}$."
      ]
    },
    {
      "cell_type": "code",
      "metadata": {
        "id": "DV9nvb32fgMA"
      },
      "source": [
        "a = symbols('alpha')\n",
        "A = Matrix([[0, 1, 0, 0], [1, 0, 0, 0], [0, 0, cos(a), -sin(a)], [0, 0, sin(a), cos(a)]])\n",
        "A"
      ],
      "execution_count": null,
      "outputs": []
    },
    {
      "cell_type": "markdown",
      "metadata": {
        "id": "zx7GUmV7hMoE"
      },
      "source": [
        "En este caso tenemos que la función LU nos falla porque el máximo de la matriz \"no existe\". Vamos a programarlo.\n"
      ]
    },
    {
      "cell_type": "markdown",
      "metadata": {
        "id": "raUWiI08BQdL"
      },
      "source": [
        "Vamos a emplear la factorización de Doolitle del estilo $PA = LU$. En este caso, $P = P^{(1)}$ "
      ]
    },
    {
      "cell_type": "code",
      "metadata": {
        "id": "zIBvBMR2BPfI"
      },
      "source": [
        "P = Matrix([[0, 1, 0, 0], [1, 0, 0, 0], [0, 0, 1, 0], [0, 0, 0, 1]])\n",
        "P "
      ],
      "execution_count": null,
      "outputs": []
    },
    {
      "cell_type": "code",
      "metadata": {
        "id": "tlj0UCR1BwlY"
      },
      "source": [
        "dict_LU = descomposicion_LU(P * A, permutar_max=False)"
      ],
      "execution_count": null,
      "outputs": []
    },
    {
      "cell_type": "code",
      "metadata": {
        "id": "-xej375IB6Vb"
      },
      "source": [
        "dict_LU['L']"
      ],
      "execution_count": null,
      "outputs": []
    },
    {
      "cell_type": "code",
      "metadata": {
        "id": "Sz0eQ2adB_QL"
      },
      "source": [
        "dict_LU['U']"
      ],
      "execution_count": null,
      "outputs": []
    },
    {
      "cell_type": "code",
      "metadata": {
        "id": "pfhnrHhsCKKd"
      },
      "source": [
        "simplify(dict_LU['L'] * dict_LU['U'])"
      ],
      "execution_count": null,
      "outputs": []
    },
    {
      "cell_type": "markdown",
      "metadata": {
        "id": "89AukROuCQSb"
      },
      "source": [
        "Vemos que tras la primera permutación, la función funciona sin problemas."
      ]
    },
    {
      "cell_type": "markdown",
      "metadata": {
        "id": "k2P-1pChCYKT"
      },
      "source": [
        "### Ejercicio 18\n",
        "\n",
        "Sea $L$ la matriz con coeficientes $l_{ij} = \\max\\{i-j+1, 0\\}$ para todo $i, j = 1, \\cdots, n$. Se sabe que $L$ es triangular inferior que aparece en la factorización de Cholesky de una matriz $A$ de $n$ filas y $n$ columnas, de la que únicamente se sabe que su coeficiente $a_{n2} = 14$. Determinar la dimensión de $A$"
      ]
    },
    {
      "cell_type": "markdown",
      "metadata": {
        "id": "NcgJ50p5C5wo"
      },
      "source": [
        "Es decir, $a_{n2} = 14$, y $a_{ij} = \\sum_{k \\le \\min\\{i,j\\}}^n l_{ik}l_{jk}$\n",
        "Luego $a_{n2} = l_{n1}l_{21} + l_{n2}l_{22} = (n) \\cdot (2) + (n - 1) \\cdot (1) = 2n + n - 1 = 3n - 1$\n",
        "\n",
        "\n",
        "Luego $3n - 1 = 14$ y $n = 15/3 = 5$.\n",
        "\n",
        "Por tanto, la matriz $L$ es:"
      ]
    },
    {
      "cell_type": "code",
      "metadata": {
        "id": "11EIRlJJCVZs"
      },
      "source": [
        "L = zeros(5, 5)\n",
        "for i in range(5):\n",
        "    for j in range(5):\n",
        "        ij = max(i - j + 1, 0)\n",
        "        L[i, j] = ij\n",
        "L"
      ],
      "execution_count": null,
      "outputs": []
    },
    {
      "cell_type": "markdown",
      "metadata": {
        "id": "IUVkOYdEGD8u"
      },
      "source": [
        "Y $A$ es"
      ]
    },
    {
      "cell_type": "code",
      "metadata": {
        "id": "zkpL2CplD4wC"
      },
      "source": [
        "A = L * L.T\n",
        "A"
      ],
      "execution_count": null,
      "outputs": []
    },
    {
      "cell_type": "markdown",
      "metadata": {
        "id": "Wu6eSJvdGGZC"
      },
      "source": [
        "Y se ve que $a_{52} = a_{n2} = 14$"
      ]
    },
    {
      "cell_type": "markdown",
      "metadata": {
        "id": "w8kdcWHWiOWF"
      },
      "source": [
        "### Ejercicio 19"
      ]
    },
    {
      "cell_type": "markdown",
      "metadata": {
        "id": "gYKp37qiiQUB"
      },
      "source": [
        "Determinar en que rango los valores de $\\alpha$ de la matriz $A$ es invertible y admite una factorización de Cholesky.\n"
      ]
    },
    {
      "cell_type": "code",
      "metadata": {
        "id": "6qgueT63GF-8"
      },
      "source": [
        "a = Symbol('alpha')\n",
        "\n",
        "A = Matrix([[2, 1, a], [1, 2, 1], [a, 1, 2]])\n",
        "A"
      ],
      "execution_count": null,
      "outputs": []
    },
    {
      "cell_type": "markdown",
      "metadata": {
        "id": "1lma5ZnWikNY"
      },
      "source": [
        "La matriz es invertible en aquellos casos donde su determinante no sea nulo.\n"
      ]
    },
    {
      "cell_type": "code",
      "metadata": {
        "id": "0aYzM92EiiNp"
      },
      "source": [
        "factor(det(A))"
      ],
      "execution_count": null,
      "outputs": []
    },
    {
      "cell_type": "markdown",
      "metadata": {
        "id": "En_kjsgRiyFJ"
      },
      "source": [
        "Vemos que las soluciones son $\\alpha = 2$ y $\\alpha = -1$. En esos casos la matriz no es invertible. Además, existe una factorización de Cholesky para los casos en los que $\\det(A) > 0$, que se cuple cuando $1 < \\alpha < 2$. En esos casos la factorización es"
      ]
    },
    {
      "cell_type": "code",
      "metadata": {
        "id": "BOGmad07ixzH"
      },
      "source": [
        "cholesky(A)"
      ],
      "execution_count": null,
      "outputs": []
    },
    {
      "cell_type": "markdown",
      "metadata": {
        "id": "nBXO1OK5jcZK"
      },
      "source": [
        "### Ejercicio 20"
      ]
    },
    {
      "cell_type": "markdown",
      "metadata": {
        "id": "6sbF0hoNjcc-"
      },
      "source": [
        "Determinar la factorización de Cholesky de $A_{n\\times n}$ con coeficientes. \n",
        "$$a_{11} = 1$$\n",
        "$$a_{ii} = 1 + i^2$$\n",
        "$$a_{i, i+1} = a_{i+1, i} = -i$$\n",
        "\n",
        "Calcular el determinante de $A$"
      ]
    },
    {
      "cell_type": "markdown",
      "metadata": {
        "id": "TqeLb50DkHjZ"
      },
      "source": [
        "Vamos a sacar algunos ejemplos ilustrativos para hacernos una idea."
      ]
    },
    {
      "cell_type": "code",
      "metadata": {
        "id": "iWac4EJajb0U"
      },
      "source": [
        "n = 7\n",
        "A = zeros(n, n)\n",
        "for i in range(n):\n",
        "    for j in range(n):\n",
        "        if i == j:\n",
        "            A[i,j] = (i+1) ** 2 + 1\n",
        "        elif i == (1 + j):\n",
        "            A[i,j] = -i\n",
        "        elif j == (1 + i):\n",
        "            A[i,j] = -j\n",
        "        else:\n",
        "            pass\n",
        "A[0, 0] = 1\n",
        "A"
      ],
      "execution_count": null,
      "outputs": []
    },
    {
      "cell_type": "code",
      "metadata": {
        "id": "JWOVn7eSk_Ud"
      },
      "source": [
        "cholesky(A)"
      ],
      "execution_count": null,
      "outputs": []
    },
    {
      "cell_type": "markdown",
      "metadata": {
        "id": "FZ2rUeGEk5A1"
      },
      "source": [
        "Así a primera vista vemos el patrón evidente. Vamos a demostrarlo.\n",
        "\n",
        "Sabemos que $l_{11} = 1$ y $l_{21} = -1$\n",
        "\n",
        "Vamos a probar un par de casos.\n",
        "\n",
        "Para $i = 2$ tenemos que\n",
        "$$l_{22} = \\sqrt{a_{22} - l_{21}^2} = \n",
        "\\sqrt{1 + 2^2 - (-1)^2} = 2$$\n",
        "$$l_{32} = \\frac{a_{32} - \\sum_k^1l_{3k}l_{2k}}{l_{22}} = \n",
        " \\frac{-2 - (-1)(0)}{2}  =  -1$$\n",
        "Y $l_{31} = 0$\n",
        "\n",
        "Para $i=3$ tenemos\n",
        "\n",
        "$$l_{33} = \\sqrt{a_{33} - \\sum_{k=1}^{2}l_{3k}^2} = \n",
        "\\sqrt{1 + 3^2 - l_{32}^2} = \\sqrt{1 + 3^2 - (-1)^2} = 3$$\n",
        "$$l_{43} = \\frac{-3 - l_{42}l_{32}}{l_{33}} = \n",
        " \\frac{-3 - (-1)(0)}{3}  =  -1$$\n",
        "\n",
        "Y, por inducción:\n",
        "$$l_{ii} = \\sqrt{a_{ii} - l_{i, i-1}^2} = \\sqrt{1 + i^2 - 1} = i$$\n",
        "$$l_{i+1, i} = \\frac{a_{i+1,i}}{l_ii} = \\frac{-i}{i} = -1$$\n"
      ]
    },
    {
      "cell_type": "markdown",
      "metadata": {
        "id": "ukrQp7m55Bb6"
      },
      "source": [
        "Luego la matriz es de la forma:\n",
        "$\\det{A} = \\det({L})\\det({L^T}) = \\det({L})^2 = (n!)^2$"
      ]
    },
    {
      "cell_type": "markdown",
      "metadata": {
        "id": "YlEGhd7x5dMm"
      },
      "source": [
        "### Ejercicio 21"
      ]
    },
    {
      "cell_type": "markdown",
      "metadata": {
        "id": "AbZNv-Fe5djy"
      },
      "source": [
        "Construir una trnaformación de Householder que transforme el vector $x = (\\cos\\alpha, -\\sin\\alpha, 1, 1)^t$ en el vector $y = (1, 1, \\sin\\alpha, \\cos\\alpha)^t.\n",
        "\n",
        "Encontrar la matriz asociada a esta transformación para $\\alpha = \\pi/2$"
      ]
    },
    {
      "cell_type": "code",
      "metadata": {
        "id": "IvbaYwl654sS"
      },
      "source": [
        "vx = Matrix([cos(a), -sin(a), 1, 1])\n",
        "vy = Matrix([1, 1, sin(a), cos(a)])\n",
        "vx"
      ],
      "execution_count": null,
      "outputs": []
    },
    {
      "cell_type": "code",
      "metadata": {
        "id": "LYorGyAbk4jm"
      },
      "source": [
        "H, e = householder(vx, vy, normalizar=True)\n",
        "simplify(H)"
      ],
      "execution_count": null,
      "outputs": []
    },
    {
      "cell_type": "code",
      "metadata": {
        "id": "-hi3nBWL6XWT"
      },
      "source": [
        "simplify(e)"
      ],
      "execution_count": null,
      "outputs": []
    },
    {
      "cell_type": "code",
      "metadata": {
        "id": "WqBVueE96XYz"
      },
      "source": [
        "H.subs(a, pi/2)"
      ],
      "execution_count": null,
      "outputs": []
    },
    {
      "cell_type": "markdown",
      "metadata": {
        "id": "CJDrYQWW67Zq"
      },
      "source": [
        "### Ejercicio 22"
      ]
    },
    {
      "cell_type": "markdown",
      "metadata": {
        "id": "VR9uRn7B7Cbt"
      },
      "source": [
        "Sean $A$ y $b$. Aplicar el método de Gram-Schmidt para ortonormalizar el conjunto de vectores $\\{b, Ab, A^2b\\}$."
      ]
    },
    {
      "cell_type": "code",
      "metadata": {
        "id": "SqR4Wlcq7Nks"
      },
      "source": [
        "A = Matrix([[1, 2, 0], [2, 1, 2], [0, 2, 1]])\n",
        "b = Matrix([1, -1, 1])"
      ],
      "execution_count": null,
      "outputs": []
    },
    {
      "cell_type": "code",
      "metadata": {
        "id": "LEBHRBX163AT"
      },
      "source": [
        "T = zeros(3, 3)\n",
        "T[:, 0] = b\n",
        "T[:, 1] = A * b\n",
        "T[:, 2] = A ** 2 * b\n",
        "T"
      ],
      "execution_count": null,
      "outputs": []
    },
    {
      "cell_type": "code",
      "metadata": {
        "id": "oK1lM5u87n4e"
      },
      "source": [
        "GS = gram_schmidt(T)\n",
        "GS['P']"
      ],
      "execution_count": null,
      "outputs": []
    },
    {
      "cell_type": "code",
      "metadata": {
        "id": "gzb-wBON8EyZ"
      },
      "source": [
        "GS['Pn']"
      ],
      "execution_count": null,
      "outputs": []
    },
    {
      "cell_type": "markdown",
      "metadata": {
        "id": "w0qUYmkG9kTD"
      },
      "source": [
        "### Ejercicio 23"
      ]
    },
    {
      "cell_type": "markdown",
      "metadata": {
        "id": "SikZy09L9kIl"
      },
      "source": [
        "Se considera el sistem lineal $Ax=b$. Hallar el valor de $\\beta$ que minimice el radio espectral de $I - \\beta A$"
      ]
    },
    {
      "cell_type": "code",
      "metadata": {
        "id": "T8rNVm58-4Px"
      },
      "source": [
        "A = Matrix([[1, 1, 2], [0, 2, -1], [0, -1, 2]])\n",
        "b = Matrix([1, 1, 1])\n",
        "beta = Symbol('beta')"
      ],
      "execution_count": null,
      "outputs": []
    },
    {
      "cell_type": "markdown",
      "metadata": {
        "id": "6ppKly9E-tZ_"
      },
      "source": [
        "Primero vamos a hallar el radio espectral de la matriz $I - \\beta A$"
      ]
    },
    {
      "cell_type": "code",
      "metadata": {
        "id": "MH47tNuk_Gu8"
      },
      "source": [
        "iba = eye(3) - beta * A\n",
        "iba"
      ],
      "execution_count": null,
      "outputs": []
    },
    {
      "cell_type": "code",
      "metadata": {
        "id": "WQe7p7Zy_NSM"
      },
      "source": [
        "l = Symbol('lambda')\n",
        "eq = factor(det(iba - eye(3) * l))\n",
        "eq"
      ],
      "execution_count": null,
      "outputs": []
    },
    {
      "cell_type": "markdown",
      "metadata": {
        "id": "feDauIfg_4qf"
      },
      "source": [
        "Vemos que los autovalores de $I - \\beta A$ son $\\lambda = 1 - \\beta$ y \n",
        "$\\lambda = 1 - 3\\beta$"
      ]
    },
    {
      "cell_type": "code",
      "metadata": {
        "id": "QPjxM-li_39f"
      },
      "source": [
        "x = np.linspace(-1, 1, 100)\n",
        "plt.plot(x, [max(abs(1-i), abs(1-3*i)) for i in x])"
      ],
      "execution_count": null,
      "outputs": []
    },
    {
      "cell_type": "markdown",
      "metadata": {
        "id": "mQ_ILpj8A0WV"
      },
      "source": [
        "Vemos que el menor valor está en $\\beta = 0.5$ donde $\\rho(I - \\beta A) = 0.5$"
      ]
    },
    {
      "cell_type": "markdown",
      "metadata": {
        "id": "dOp1DAX0Dn3h"
      },
      "source": [
        "### Ejercicio 24"
      ]
    },
    {
      "cell_type": "markdown",
      "metadata": {
        "id": "lCzPCQh_DoQn"
      },
      "source": [
        "Se considera el sistema lineal \n",
        "$$x_{i+1} = x_i + x_{i-1} \\;\\;\\; i = 1, 2, 3$$\n",
        "$$x_0 = 1, x_4 = 5$$\n",
        "\n",
        "Es decir:\n",
        "$$\\begin{align}\n",
        "x_2 & =  x_1 + x_0\\\\\n",
        "x_3 & =  x_2 + x_1\\\\\n",
        "x_4 & = x_3 + x_2\\\\\n",
        "\\end{align}\n",
        "$$\n",
        "\n",
        "Resolviendo parámetros\n",
        "$$\\begin{align}\n",
        "x_2 & =  x_1 + 1\\\\\n",
        "x_3 & =  x_2 + x_1\\\\\n",
        "5 & = x_3 + x_2\\\\\n",
        "\\end{align}\n",
        "$$\n",
        "\n",
        "Analizar la convergencia del método de jacobi cuando se aplica a la resolución de este sistema de ecuaciones."
      ]
    },
    {
      "cell_type": "markdown",
      "metadata": {
        "id": "MYFpD0eXE-iX"
      },
      "source": [
        "El sistema de ecuaciones se puede reordenar de la siguiente manera:\n",
        "$$\\begin{align}\n",
        "-x_1 + x_2 + 0 \\cdot x_3 & =  1\\\\\n",
        "-x_1 - x_2 + x_3 & =  0\\\\\n",
        "0\\cdot x_1 - x_2 - x_3 & = 5\\\\\n",
        "\\end{align}\n",
        "$$\n",
        "\n",
        "Que, simplificando signos, queda:\n",
        "$$\n",
        "\\begin{align}\n",
        "-x_1 + x_2 + 0  & =  1\\\\\n",
        "x_1 + x_2 - x_3 & =  0\\\\\n",
        "0 + x_2 + x_3 & = -5\\\\\n",
        "\\end{align}\n",
        "$$\n",
        "\n",
        "En sistema matricial queda como\n",
        "$$\n",
        "\\begin{pmatrix}\n",
        "-1 & 1 & 0 \\\\\n",
        "1 & 1 & -1 \\\\\n",
        "0 & 1 & 1 \\\\\n",
        "\\end{pmatrix}\n",
        "\\begin{pmatrix}\n",
        "x_1\\\\x_2\\\\x_3\n",
        "\\end{pmatrix} = \n",
        "\\begin{pmatrix}\n",
        "1 \\\\ 0 \\\\ -5\n",
        "\\end{pmatrix}\n",
        "$$"
      ]
    },
    {
      "cell_type": "code",
      "metadata": {
        "id": "N0gnJ_TSDnPo"
      },
      "source": [
        "A = Matrix([[-1, 1, 0], [1, 1, -1], [0, 1, 1]])\n",
        "D = Matrix([[-1, 0, 0], [0, 1, 0], [0, 0, 1]])\n",
        "b = Matrix([1, 0, -5])"
      ],
      "execution_count": null,
      "outputs": []
    },
    {
      "cell_type": "code",
      "metadata": {
        "id": "ClrR7kAyGlFQ"
      },
      "source": [
        "help(metodo_iterativo)"
      ],
      "execution_count": null,
      "outputs": []
    },
    {
      "cell_type": "code",
      "metadata": {
        "id": "3PV-SxnlGlHu"
      },
      "source": [
        "metodo_iterativo(A=A, b=b, metodo='jacobi')"
      ],
      "execution_count": null,
      "outputs": []
    },
    {
      "cell_type": "markdown",
      "metadata": {
        "id": "2bNH658QGxl4"
      },
      "source": [
        "Por el criterio del radio espectral, tenemos que los autovalores son $\\pm\\sqrt{2}i$, y el radio espectral es $\\sqrt{2} > 1$, luego el método de Jacobi no converge.\n",
        "De hecho vemos que la matriz de diferencias crece con cada iteración."
      ]
    },
    {
      "cell_type": "markdown",
      "metadata": {
        "id": "kFtwhHpSHYCR"
      },
      "source": [
        "### Ejercicio 25"
      ]
    },
    {
      "cell_type": "markdown",
      "metadata": {
        "id": "lfQ0RXJwHYUp"
      },
      "source": [
        "Analizar la convergencia de los métodos de Jacobi, Gauss-Seidel y SOR cuando se aplica el sistema lineal\n",
        "\n",
        "$$\n",
        "\\begin{pmatrix}\n",
        "4 & 1 & 0 & \\cdots & 0 & 0 & 0 \\\\\n",
        "1 & 4 & 1 & \\cdots & 0 & 0 & 0 \\\\\n",
        "0 & 1 & 4 & \\cdots & 0 & 0 & 0 \\\\\n",
        "\\vdots & \\vdots & \\vdots & \\ddots & \\vdots & \\vdots & \\vdots \\\\\n",
        "0 & 0 & 0 & \\cdots & 4 & 1 & 0 \\\\\n",
        "0 & 0 & 0 & \\cdots & 1 & 4 & 1 \\\\\n",
        "0 & 0 & 0 & \\cdots & 0 & 1 & 4 \\\\\n",
        "\\end{pmatrix}\n",
        "\\begin{pmatrix}\n",
        "x_1\\\\x_2\\\\x_3\\\\\\vdots\\\\x_{n-2}\\\\x_{n-1}\\\\x_n\n",
        "\\end{pmatrix}\n",
        "=\n",
        "\\begin{pmatrix}\n",
        "1\\\\2\\\\3\\\\\\vdots\\\\n-2\\\\n-1\\\\n\n",
        "\\end{pmatrix}\n",
        "$$"
      ]
    },
    {
      "cell_type": "code",
      "metadata": {
        "id": "Dye54W18GxIG"
      },
      "source": [
        "n = 8\n",
        "A = eye(n) * 4\n",
        "b = ones(n, 1)\n",
        "for i in range(n-1):\n",
        "    A[i+1, i], A[i, i+1], b[i+1, 0] = 1, 1, i+2\n",
        "A"
      ],
      "execution_count": null,
      "outputs": []
    },
    {
      "cell_type": "code",
      "metadata": {
        "id": "_Uz4RzWqAz21"
      },
      "source": [
        "b"
      ],
      "execution_count": null,
      "outputs": []
    },
    {
      "cell_type": "code",
      "metadata": {
        "id": "SZYBZctpI0wv"
      },
      "source": [
        "dict_jac = metodo_iterativo(A=A, b=b, metodo='jacobi')\n",
        "N(dict_jac['x']), N(Matrix(dict_jac['diff']))"
      ],
      "execution_count": null,
      "outputs": []
    },
    {
      "cell_type": "code",
      "metadata": {
        "id": "MVD4--yCJTIS"
      },
      "source": [
        "dict_gs = metodo_iterativo(A=A, b=b, metodo='gs')\n",
        "N(dict_gs['x']), N(Matrix(dict_gs['diff']))"
      ],
      "execution_count": null,
      "outputs": []
    },
    {
      "cell_type": "code",
      "metadata": {
        "id": "l7QWd9XqJO6Y"
      },
      "source": [
        "dict_sor = metodo_iterativo(A=A, b=b, metodo='sor')\n",
        "N(dict_sor['x']), N(Matrix(dict_sor['diff']))"
      ],
      "execution_count": null,
      "outputs": []
    },
    {
      "cell_type": "markdown",
      "metadata": {
        "id": "-rPPM6dhJ7oo"
      },
      "source": [
        "Vemos que las matrices son convergentes, y los criterios inmediatos de convergencia se justifican. Vamos a estudiar cada uno de ellos en detalle."
      ]
    },
    {
      "cell_type": "markdown",
      "metadata": {
        "id": "q-UehHB-KFJf"
      },
      "source": [
        "**Criterio de radio espectral**: vemos que hay autovalores mayores que 1, así que no podemos asegurar la convergecia del sistema por este criterio."
      ]
    },
    {
      "cell_type": "code",
      "metadata": {
        "id": "AOSB8ja8LNdY"
      },
      "source": [
        "solve(factor(det(A - eye(n) * l)), l)"
      ],
      "execution_count": null,
      "outputs": []
    },
    {
      "cell_type": "markdown",
      "metadata": {
        "id": "h5CH0RnLMGl0"
      },
      "source": [
        "**Criterio de diagonal dominante**: 4 > 2, en base al criterio, los métodos de Jacoby y Gs son convergentes.\n",
        "\n"
      ]
    },
    {
      "cell_type": "markdown",
      "metadata": {
        "id": "Arwj0Y3DKFMk"
      },
      "source": [
        "**Criterio SOR**: Si la matriz es simétrica definida positiva y 0 < $\\omega$ < 2, el método SOR converge. \n",
        "\n",
        "Para probar que este criterio se cumple tenemos que comprobar que el determinante de la matriz es > 0 para todo $n$. Para $n = 1, 2, 3$ los determinantes son $4, 14, 56$.\n",
        "\n",
        "Asumamos que para una matriz de $n-1$ y $n-2$ su determinante es positivo. Veamos para el caso de $n$. Desarrollando el determinante por filas tenemos que \n",
        "\n",
        "$$det(A_n) = 4 \\cdot det(A_{n-1}) - A_{n-2}$$\n",
        "\n",
        "Lo de $A_{n-2}$ lo podemos hacer desarrollando un poco los términos:\n",
        "$$\n",
        "det\\begin{pmatrix}\n",
        "\\color{gray}{4} & \\color{gray}{1} & \\color{gray}{0} & \\cdots & \\color{gray}{0} & \\color{gray}{0} & \\color{gray}{0} \\\\\n",
        "1 & \\color{gray}{4} & 1 & \\cdots & 0 & 0 & 0 \\\\\n",
        "0 & \\color{gray}{1} & 4 & \\cdots & 0 & 0 & 0 \\\\\n",
        "\\vdots & \\vdots & \\vdots & \\ddots & \\vdots & \\vdots & \\vdots \\\\\n",
        "0 & \\color{gray}{0} & 0 & \\cdots & 4 & 1 & 0 \\\\\n",
        "0 & \\color{gray}{0} & 0 & \\cdots & 1 & 4 & 1 \\\\\n",
        "0 & \\color{gray}{0} & 0 & \\cdots & 0 & 1 & 4 \\\\\n",
        "\\end{pmatrix}_{n\\times n} \n",
        "\\rightarrow\n",
        "det\\begin{pmatrix}\n",
        "1 & 1 & 0 & \\cdots & 0 & 0 & 0 \\\\\n",
        "0 & 4 & 1 & \\cdots & 0 & 0 & 0 \\\\\n",
        "0 & 1 & 4 & \\cdots & 0 & 0 & 0 \\\\\n",
        "\\vdots & \\vdots & \\vdots & \\ddots & \\vdots & \\vdots & \\vdots \\\\\n",
        "0 & 0 & 0 & \\cdots & 4 & 1 & 0 \\\\\n",
        "0 & 0 & 0 & \\cdots & 1 & 4 & 1 \\\\\n",
        "0 & 0 & 0 & \\cdots & 0 & 1 & 4 \\\\\n",
        "\\end{pmatrix}_{n-1\\times n-1}\n",
        "=\n",
        "det\\begin{pmatrix}\n",
        "4 & 1 & 0 & \\cdots & 0 & 0 & 0 \\\\\n",
        "1 & 4 & 1 & \\cdots & 0 & 0 & 0 \\\\\n",
        "0 & 1 & 4 & \\cdots & 0 & 0 & 0 \\\\\n",
        "\\vdots & \\vdots & \\vdots & \\ddots & \\vdots & \\vdots & \\vdots \\\\\n",
        "0 & 0 & 0 & \\cdots & 4 & 1 & 0 \\\\\n",
        "0 & 0 & 0 & \\cdots & 1 & 4 & 1 \\\\\n",
        "0 & 0 & 0 & \\cdots & 0 & 1 & 4 \\\\\n",
        "\\end{pmatrix}_{n-2\\times n-2}$$ \n",
        "\n",
        "Si asumimos que $\\det(A_{n-2}) < \\det(A_{n-1})$ entonces se cumple que $A_n > A_{n-1} > A_{n-2} > 0$ y el criterio SOR se cumple."
      ]
    }
  ]
}