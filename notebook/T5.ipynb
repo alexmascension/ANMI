{
 "cells": [
  {
   "cell_type": "markdown",
   "metadata": {
    "colab_type": "text",
    "id": "view-in-github"
   },
   "source": [
    "<a href=\"https://colab.research.google.com/github/alexmascension/ANMI/blob/main/notebook/T4.ipynb\" target=\"_parent\"><img src=\"https://colab.research.google.com/assets/colab-badge.svg\" alt=\"Open In Colab\"/></a>"
   ]
  },
  {
   "cell_type": "markdown",
   "metadata": {
    "id": "Vf3GioQwcepr"
   },
   "source": [
    "# Tema 5: Interpolación de funciones"
   ]
  },
  {
   "cell_type": "code",
   "execution_count": null,
   "metadata": {
    "id": "1hDZNaYFX936"
   },
   "outputs": [],
   "source": [
    "!pip install -r https://raw.githubusercontent.com/alexmascension/ANMI/main/requirements.txt"
   ]
  },
  {
   "cell_type": "code",
   "execution_count": null,
   "metadata": {
    "id": "dYo_JGn2TSxC"
   },
   "outputs": [],
   "source": [
    "from sympy import *\n",
    "from sympy.matrices import Matrix as mat\n",
    "from sympy.matrices import randMatrix\n",
    "from sympy import symbols\n",
    "import sympy\n",
    "\n",
    "import numpy as np\n",
    "\n",
    "from scipy.linalg import orth\n",
    "\n",
    "from matplotlib import pyplot as plt\n",
    "import matplotlib as mpl\n",
    "mpl.rcParams['figure.dpi'] = 150"
   ]
  },
  {
   "cell_type": "code",
   "execution_count": null,
   "metadata": {
    "id": "l-V6kF8_X937"
   },
   "outputs": [],
   "source": [
    "from anmi.genericas import norma_p_func, norma_inf_func"
   ]
  },
  {
   "cell_type": "code",
   "execution_count": null,
   "metadata": {},
   "outputs": [],
   "source": [
    "x, y, z, a, lambda_ = symbols('x'), symbols('y'), symbols('z'), symbols('a'), symbols('lambda')"
   ]
  },
  {
   "cell_type": "markdown",
   "metadata": {},
   "source": [
    "Dado un conjunto de puntos (nodos) $x_0, x_1, \\cdots, x_m$ podemos crear un polinomio $p$ que aproxime la función $f$ y que cumpla que $p(x_i) = f(x_i)$ para todo nodo. Existen varias situaciones de interpolación:\n",
    "* El número de nodos menos 1, $m-1$ es MAYOR que el máximo grado de polinomios, $n$.\n",
    "* El número de nodos menos 1, $m-1$ es IGUAL que el máximo grado de polinomios, $n$.\n",
    "* El número de nodos menos 1, $m-1$ es MENOR que el máximo grado de polinomios, $n$.\n",
    "\n",
    "En este capítulo nos centraremos cuando $m - 1 = n$."
   ]
  },
  {
   "cell_type": "markdown",
   "metadata": {},
   "source": [
    "## Interpolación de Lagrange\n",
    "\n",
    "En esta interpolación empleamos un conjunto de funciones $L = \\{l_0, l_1, \\cdots, l_n\\}$ correspondiente a los $n+1$ nodos $\\{x_i:i = 0, 1, \\cdots, n\\}$. Cada $l_i$ se define como\n",
    "\n",
    "$$l_i(x) = \\prod_{k = 0 \\neq i}\\frac{x - x_k}{x_i - x_k}$$\n",
    "\n",
    "Y así el polinomio resultante es\n",
    "\n",
    "$$p(x) = \\sum_{i=0}^n l_i(x)f(x_i)$$\n",
    "\n",
    "Donde $f(x_i)$ es el valor de la función $f$ en $x_i$."
   ]
  },
  {
   "cell_type": "code",
   "execution_count": null,
   "metadata": {},
   "outputs": [],
   "source": [
    "def polinomio_lagrange(x_vals, y_vals, var=x):\n",
    "    lista_L, p, n = [], S(0), len(x_vals)\n",
    "    for i in range(n):\n",
    "        li = S(1)\n",
    "        for k in range(n):\n",
    "            if k != i:\n",
    "                li *= (var - x_vals[k])/(x_vals[i] - x_vals[k])\n",
    "        \n",
    "        lista_L.append(li)\n",
    "        p += y_vals[i] * li\n",
    "    \n",
    "    return p, lista_L"
   ]
  },
  {
   "cell_type": "code",
   "execution_count": null,
   "metadata": {},
   "outputs": [],
   "source": [
    "f = E**(sin(4*x))\n",
    "I = [0, 1]\n",
    "x_vals = np.linspace(I[0], I[1], 4)\n",
    "y_vals = [f.evalf(subs={x: S(i)}) for i in x_vals]"
   ]
  },
  {
   "cell_type": "code",
   "execution_count": null,
   "metadata": {},
   "outputs": [],
   "source": [
    "p, lista_L = polinomio_lagrange(x_vals, y_vals)"
   ]
  },
  {
   "cell_type": "code",
   "execution_count": null,
   "metadata": {},
   "outputs": [],
   "source": [
    "x_range = np.linspace(I[0], I[1], 100)\n",
    "y_real = [f.subs(x, i) for i in x_range]\n",
    "y_pol = [expand(p).subs(x, i) for i in x_range]\n",
    "\n",
    "\n",
    "plt.plot(x_range, y_real, label=f'{f}')\n",
    "plt.scatter(x_vals, y_vals, c=\"#800000\")\n",
    "plt.plot(x_range, y_pol, label='interpolacion', c=\"#bcbcbc\")\n",
    "\n",
    "plt.legend()"
   ]
  },
  {
   "cell_type": "markdown",
   "metadata": {},
   "source": [
    "Ahora ploteamos cada una de las funciones"
   ]
  },
  {
   "cell_type": "code",
   "execution_count": null,
   "metadata": {},
   "outputs": [],
   "source": [
    "x_range = np.linspace(I[0], I[1], 100)\n",
    "y_pol = [expand(p).subs(x, i) for i in x_range]\n",
    "y_real = [f.subs(x, i) for i in x_range]\n",
    "\n",
    "\n",
    "for p_i, pl in enumerate(lista_L):\n",
    "    y_l = [expand(pl).subs(x, i) * y_vals[p_i] for i in x_range]\n",
    "    plt.plot(x_range, y_l, label=f'$l_{p_i}$')\n",
    "    plt.scatter(x_vals[p_i], y_vals[p_i])\n",
    "\n",
    "plt.plot(x_range, y_real, label=f'{f}')\n",
    "plt.plot(x_range, y_pol, label='interpolacion', c=\"#bcbcbc\")\n",
    "\n",
    "plt.legend(bbox_to_anchor=(1.05, 0.5))"
   ]
  },
  {
   "cell_type": "markdown",
   "metadata": {},
   "source": [
    "## Método de Newton\n",
    "El método de Lagrange, aunque da un polinomio único, tiene una serie de problemas. En primer lugar, aunque computacionalmente no parezca complejo, el cálculo de coeficientes es tedioso y poco práctico para ciertas funciones. Además, si queremos añadir un nuevo nodo, tenemos que recalcular todas las funciones de Lagrange para el polinomio nuevo, lo cual lo vuelve bastante impráctico. \n",
    "\n",
    "Con el método de Newton solventamos las problemáticas estableciendo un método iterativo que incorpora un nodo por vez.\n",
    "\n",
    "En el método se aplican los siguiqntes cálculos:\n",
    "\n",
    "$$\n",
    "\\begin{matrix}\n",
    "x_0 & \\color{blue}{f(x_0)} & & \\\\\n",
    "  & & \\color{blue}{\\frac{f(x_1) - f(x_0)}{x_1 - x_0}} & \\\\\n",
    "x_1   & f(x_1) & & \\color{blue}{\\frac{\\frac{f(x_2) - f(x_1)}{x_2 - x_1} - \\frac{f(x_1) - f(x_0)}{x_1 - x_0}}{x_2 - x_0}}\\\\\n",
    "    & & \\frac{f(x_2) - f(x_1)}{x_2 - x_1}& \\\\\n",
    "x_2     &f(x_2) & & \\\\\n",
    "\\vdots     & \\vdots & & \\\\\n",
    "x_{n-1}     &f(x_{n-1}) & & \\\\\n",
    "& & \\frac{f(x_n) - f(x_{n-1})}{x_n - x_{n-1}} & \\\\\n",
    "x_n     &f(x_n) & & \\\\\n",
    "\\end{matrix}\n",
    "$$\n",
    "\n",
    "O de manera compacta:\n",
    "$$\n",
    "\\begin{matrix}\n",
    "x_0 & \\color{blue}{f(x_0)} & & \\\\\n",
    "  & & \\color{blue}{f[x_0, x_1]} & \\\\\n",
    "x_1   & f(x_1) & & \\color{blue}{f[x_0, x_1, x_2]}\\\\\n",
    "    & & \\color{blue}{f[x_1, x_2]}& \\\\\n",
    "x_2     &f(x_2) & & \\\\\n",
    "\\vdots     & \\vdots & & \\\\\n",
    "x_{n-1}     &f(x_{n-1}) & & \\\\\n",
    "& & \\color{blue}{f[x_{n-1}, x_n]} & \\\\\n",
    "x_n     &f(x_n) & & \\\\\n",
    "\\end{matrix}\n",
    "$$ \n",
    "Con\n",
    "$$f[x_a, x_{a+1}, \\cdots, x_j] = \\frac{f[x_{a+1}, x_{a + 2}, \\cdots, x_j] - f[x_{a}, x_{a+1}, \\cdots, x_{j-1}]}{x_j - x_a}$$\n",
    "Si denominamos $a_0, a_1, \\cdots, a_n$ a los monomios en azul ($a_0 = f(x_0)$, $a_1 = \\frac{f(x_1) - f(x_0)}{x_1 - x_0}$, etc.) entonces el polinomio de Newton se construye como:\n",
    "$$p_n(x) = a_0 + a_1(x - x_0) + a_2(x - x_0)(x - x_1) + \\cdots + a_n(x - x_0)(x - x_1)\\cdots(x - x_{n-1})$$\n"
   ]
  },
  {
   "cell_type": "code",
   "execution_count": null,
   "metadata": {},
   "outputs": [],
   "source": [
    "def polinomio_newton(x_vals, y_vals, var=x):\n",
    "    matriz_coeffs = zeros(len(y_vals), len(y_vals))\n",
    "    \n",
    "    for i in range(len(y_vals)): # Asignamos la primera columna como f(x)\n",
    "        matriz_coeffs[i,0] = y_vals[i]\n",
    "    \n",
    "    for col in range(1, len(y_vals)):\n",
    "        for row in range(len(y_vals) - col):\n",
    "            num = matriz_coeffs[row + 1, col - 1] - matriz_coeffs[row, col - 1]\n",
    "            den = x_vals[row + col] - x_vals[row]\n",
    "            \n",
    "            matriz_coeffs[row, col] = S(num) / S(den)\n",
    "    \n",
    "    p = matriz_coeffs[0, 0]\n",
    "    for col in range(1, len(y_vals)):\n",
    "        p_col = S(1)\n",
    "        for i in range(0, col):\n",
    "            p_col *= (var - x_vals[i])\n",
    "        \n",
    "        p += p_col * matriz_coeffs[0, col]\n",
    "    \n",
    "    return p, matriz_coeffs"
   ]
  },
  {
   "cell_type": "code",
   "execution_count": null,
   "metadata": {},
   "outputs": [],
   "source": [
    "p, mat = polinomio_newton([S(i) for i in [0.1, 0.2, 0.3, 0.4, 0.5, 0.6, 0.7]], [S(i) for i in [0.7, 0.8, 1, 1.15, 1.25, 1.3]], x)\n",
    "mat"
   ]
  },
  {
   "cell_type": "code",
   "execution_count": null,
   "metadata": {},
   "outputs": [],
   "source": [
    "p"
   ]
  },
  {
   "cell_type": "code",
   "execution_count": null,
   "metadata": {},
   "outputs": [],
   "source": [
    "f = E**(sin(4*x))\n",
    "I = [0, 1]\n",
    "x_vals = np.linspace(I[0], I[1], 4)\n",
    "y_vals = [f.evalf(subs={x: S(i)}) for i in x_vals]"
   ]
  },
  {
   "cell_type": "code",
   "execution_count": null,
   "metadata": {},
   "outputs": [],
   "source": [
    "p, mat = polinomio_newton(x_vals, y_vals, x)\n",
    "p"
   ]
  }
 ],
 "metadata": {
  "colab": {
   "include_colab_link": true,
   "name": "ANMI.ipynb",
   "provenance": [],
   "toc_visible": true
  },
  "kernelspec": {
   "display_name": "Python 3",
   "language": "python",
   "name": "python3"
  },
  "language_info": {
   "codemirror_mode": {
    "name": "ipython",
    "version": 3
   },
   "file_extension": ".py",
   "mimetype": "text/x-python",
   "name": "python",
   "nbconvert_exporter": "python",
   "pygments_lexer": "ipython3",
   "version": "3.8.0"
  }
 },
 "nbformat": 4,
 "nbformat_minor": 4
}
