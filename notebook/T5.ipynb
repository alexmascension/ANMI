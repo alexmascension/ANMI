{
 "cells": [
  {
   "cell_type": "markdown",
   "metadata": {
    "colab_type": "text",
    "id": "view-in-github"
   },
   "source": [
    "<a href=\"https://colab.research.google.com/github/alexmascension/ANMI/blob/main/notebook/T4.ipynb\" target=\"_parent\"><img src=\"https://colab.research.google.com/assets/colab-badge.svg\" alt=\"Open In Colab\"/></a>"
   ]
  },
  {
   "cell_type": "markdown",
   "metadata": {
    "id": "Vf3GioQwcepr"
   },
   "source": [
    "# Tema 5: Interpolación de funciones"
   ]
  },
  {
   "cell_type": "code",
   "execution_count": null,
   "metadata": {
    "id": "1hDZNaYFX936"
   },
   "outputs": [],
   "source": [
    "!pip install -r https://raw.githubusercontent.com/alexmascension/ANMI/main/requirements.txt"
   ]
  },
  {
   "cell_type": "code",
   "execution_count": null,
   "metadata": {
    "id": "dYo_JGn2TSxC"
   },
   "outputs": [],
   "source": [
    "from sympy import *\n",
    "from sympy.matrices import Matrix as mat\n",
    "from sympy.matrices import randMatrix\n",
    "from sympy import symbols\n",
    "import sympy\n",
    "\n",
    "import numpy as np\n",
    "from tqdm import tqdm\n",
    "\n",
    "from scipy.linalg import orth\n",
    "\n",
    "from matplotlib import pyplot as plt\n",
    "import matplotlib as mpl\n",
    "mpl.rcParams['figure.dpi'] = 150"
   ]
  },
  {
   "cell_type": "code",
   "execution_count": null,
   "metadata": {
    "id": "l-V6kF8_X937"
   },
   "outputs": [],
   "source": [
    "from anmi.genericas import norma_p_func, norma_inf_func"
   ]
  },
  {
   "cell_type": "code",
   "execution_count": null,
   "metadata": {},
   "outputs": [],
   "source": [
    "x, y, z, a, lambda_ = symbols('x'), symbols('y'), symbols('z'), symbols('a'), symbols('lambda')"
   ]
  },
  {
   "cell_type": "markdown",
   "metadata": {},
   "source": [
    "Dado un conjunto de puntos (nodos) $x_0, x_1, \\cdots, x_m$ podemos crear un polinomio $p$ que aproxime la función $f$ y que cumpla que $p(x_i) = f(x_i)$ para todo nodo. Existen varias situaciones de interpolación:\n",
    "* El número de nodos menos 1, $m-1$ es MAYOR que el máximo grado de polinomios, $n$.\n",
    "* El número de nodos menos 1, $m-1$ es IGUAL que el máximo grado de polinomios, $n$.\n",
    "* El número de nodos menos 1, $m-1$ es MENOR que el máximo grado de polinomios, $n$.\n",
    "\n",
    "En este capítulo nos centraremos cuando $m - 1 = n$."
   ]
  },
  {
   "cell_type": "markdown",
   "metadata": {},
   "source": [
    "## Interpolación de Lagrange\n",
    "\n",
    "En esta interpolación empleamos un conjunto de funciones $L = \\{l_0, l_1, \\cdots, l_n\\}$ correspondiente a los $n+1$ nodos $\\{x_i:i = 0, 1, \\cdots, n\\}$. Cada $l_i$ se define como\n",
    "\n",
    "$$l_i(x) = \\prod_{k = 0 \\neq i}\\frac{x - x_k}{x_i - x_k}$$\n",
    "\n",
    "Y así el polinomio resultante es\n",
    "\n",
    "$$p(x) = \\sum_{i=0}^n l_i(x)f(x_i)$$\n",
    "\n",
    "Donde $f(x_i)$ es el valor de la función $f$ en $x_i$."
   ]
  },
  {
   "cell_type": "code",
   "execution_count": null,
   "metadata": {},
   "outputs": [],
   "source": [
    "def polinomio_lagrange(x_vals, y_vals, var=x):\n",
    "    lista_L, p, n = [], S(0), len(x_vals)\n",
    "    for i in range(n):\n",
    "        li = S(1)\n",
    "        for k in range(n):\n",
    "            if k != i:\n",
    "                li *= (var - x_vals[k])/(x_vals[i] - x_vals[k])\n",
    "        \n",
    "        lista_L.append(li)\n",
    "        p += y_vals[i] * li\n",
    "    \n",
    "    return p, lista_L"
   ]
  },
  {
   "cell_type": "code",
   "execution_count": null,
   "metadata": {},
   "outputs": [],
   "source": [
    "f = E**(sin(4*x))\n",
    "I = [0, 1]\n",
    "x_vals = np.linspace(I[0], I[1], 4)\n",
    "y_vals = [f.evalf(subs={x: S(i)}) for i in x_vals]"
   ]
  },
  {
   "cell_type": "code",
   "execution_count": null,
   "metadata": {},
   "outputs": [],
   "source": [
    "p, lista_L = polinomio_lagrange(x_vals, y_vals)"
   ]
  },
  {
   "cell_type": "code",
   "execution_count": null,
   "metadata": {},
   "outputs": [],
   "source": [
    "expand(p)"
   ]
  },
  {
   "cell_type": "code",
   "execution_count": null,
   "metadata": {},
   "outputs": [],
   "source": [
    "x_range = np.linspace(I[0], I[1], 100)\n",
    "y_real = [f.subs(x, i) for i in x_range]\n",
    "y_pol = [expand(p).subs(x, i) for i in x_range]\n",
    "\n",
    "\n",
    "plt.plot(x_range, y_real, label=f'{f}')\n",
    "plt.scatter(x_vals, y_vals, c=\"#800000\")\n",
    "plt.plot(x_range, y_pol, label='interpolacion', c=\"#bcbcbc\")\n",
    "\n",
    "plt.legend()"
   ]
  },
  {
   "cell_type": "markdown",
   "metadata": {},
   "source": [
    "Ahora ploteamos cada una de las funciones"
   ]
  },
  {
   "cell_type": "code",
   "execution_count": null,
   "metadata": {},
   "outputs": [],
   "source": [
    "x_range = np.linspace(I[0], I[1], 100)\n",
    "y_pol = [expand(p).subs(x, i) for i in x_range]\n",
    "y_real = [f.subs(x, i) for i in x_range]\n",
    "\n",
    "\n",
    "for p_i, pl in enumerate(lista_L):\n",
    "    y_l = [expand(pl).subs(x, i) * y_vals[p_i] for i in x_range]\n",
    "    plt.plot(x_range, y_l, label=f'$l_{p_i}$')\n",
    "    plt.scatter(x_vals[p_i], y_vals[p_i])\n",
    "\n",
    "plt.plot(x_range, y_real, label=f'{f}')\n",
    "plt.plot(x_range, y_pol, label='interpolacion', c=\"#bcbcbc\")\n",
    "\n",
    "plt.legend(bbox_to_anchor=(1.05, 0.5))"
   ]
  },
  {
   "cell_type": "markdown",
   "metadata": {},
   "source": [
    "## Método de Newton\n",
    "El método de Lagrange, aunque da un polinomio único, tiene una serie de problemas. En primer lugar, aunque computacionalmente no parezca complejo, el cálculo de coeficientes es tedioso y poco práctico para ciertas funciones. Además, si queremos añadir un nuevo nodo, tenemos que recalcular todas las funciones de Lagrange para el polinomio nuevo, lo cual lo vuelve bastante impráctico. \n",
    "\n",
    "Con el método de Newton solventamos las problemáticas estableciendo un método iterativo que incorpora un nodo por vez.\n",
    "\n",
    "En el método se aplican los siguiqntes cálculos:\n",
    "\n",
    "$$\n",
    "\\begin{matrix}\n",
    "x_0 & \\color{blue}{f(x_0)} & & \\\\\n",
    "  & & \\color{blue}{\\frac{f(x_1) - f(x_0)}{x_1 - x_0}} & \\\\\n",
    "x_1   & f(x_1) & & \\color{blue}{\\frac{\\frac{f(x_2) - f(x_1)}{x_2 - x_1} - \\frac{f(x_1) - f(x_0)}{x_1 - x_0}}{x_2 - x_0}}\\\\\n",
    "    & & \\frac{f(x_2) - f(x_1)}{x_2 - x_1}& \\\\\n",
    "x_2     &f(x_2) & & \\\\\n",
    "\\vdots     & \\vdots & & \\\\\n",
    "x_{n-1}     &f(x_{n-1}) & & \\\\\n",
    "& & \\frac{f(x_n) - f(x_{n-1})}{x_n - x_{n-1}} & \\\\\n",
    "x_n     &f(x_n) & & \\\\\n",
    "\\end{matrix}\n",
    "$$\n",
    "\n",
    "O de manera compacta:\n",
    "$$\n",
    "\\begin{matrix}\n",
    "x_0 & \\color{blue}{f(x_0)} & & \\\\\n",
    "  & & \\color{blue}{f[x_0, x_1]} & \\\\\n",
    "x_1   & f(x_1) & & \\color{blue}{f[x_0, x_1, x_2]}\\\\\n",
    "    & & \\color{blue}{f[x_1, x_2]}& \\\\\n",
    "x_2     &f(x_2) & & \\\\\n",
    "\\vdots     & \\vdots & & \\\\\n",
    "x_{n-1}     &f(x_{n-1}) & & \\\\\n",
    "& & \\color{blue}{f[x_{n-1}, x_n]} & \\\\\n",
    "x_n     &f(x_n) & & \\\\\n",
    "\\end{matrix}\n",
    "$$ \n",
    "Con\n",
    "$$f[x_a, x_{a+1}, \\cdots, x_j] = \\frac{f[x_{a+1}, x_{a + 2}, \\cdots, x_j] - f[x_{a}, x_{a+1}, \\cdots, x_{j-1}]}{x_j - x_a}$$\n",
    "Si denominamos $a_0, a_1, \\cdots, a_n$ a los monomios en azul ($a_0 = f(x_0)$, $a_1 = \\frac{f(x_1) - f(x_0)}{x_1 - x_0}$, etc.) entonces el polinomio de Newton se construye como:\n",
    "$$p_n(x) = a_0 + a_1(x - x_0) + a_2(x - x_0)(x - x_1) + \\cdots + a_n(x - x_0)(x - x_1)\\cdots(x - x_{n-1})$$\n"
   ]
  },
  {
   "cell_type": "code",
   "execution_count": null,
   "metadata": {},
   "outputs": [],
   "source": [
    "def polinomio_newton(x_vals, y_vals, var=x, evalf=None):\n",
    "    matriz_coeffs = zeros(len(y_vals), len(y_vals))\n",
    "    for i in range(len(y_vals)): # Asignamos la primera columna como f(x)\n",
    "        matriz_coeffs[i,0] = y_vals[i]\n",
    "    \n",
    "    for col in range(1, len(y_vals)):\n",
    "        for row in range(len(y_vals) - col):\n",
    "            num = matriz_coeffs[row + 1, col - 1] - matriz_coeffs[row, col - 1]\n",
    "            den = x_vals[row + col] - x_vals[row]\n",
    "        \n",
    "            matriz_coeffs[row, col] = num / den\n",
    "    \n",
    "    matriz_coeffs = nsimplify(matriz_coeffs,tolerance=1e-10,rational=True)  # Esto es importante para quitar valores de redondeo\n",
    "    if evalf is not None: # si evalf es un numero redondea a ese numero de decimales\n",
    "        matriz_coeffs = matriz_coeffs.evalf(evalf)\n",
    "        \n",
    "    # Aqui hacemos el polinomio\n",
    "    p = matriz_coeffs[0, 0]\n",
    "    for col in range(1, len(y_vals)):\n",
    "        p_col = S(1)\n",
    "        for i in range(0, col):\n",
    "            p_col *= (var - x_vals[i])\n",
    "        \n",
    "        p += p_col * matriz_coeffs[0, col]\n",
    "    \n",
    "        \n",
    "    return p, matriz_coeffs"
   ]
  },
  {
   "cell_type": "code",
   "execution_count": null,
   "metadata": {},
   "outputs": [],
   "source": [
    "p, mat = polinomio_newton([S(i) for i in [0.1, 0.2, 0.3, 0.4, 0.5, 0.6, 0.7]], [S(i) for i in [0.7, 0.8, 1, 1.15, 1.25, 1.3]], x)\n",
    "mat"
   ]
  },
  {
   "cell_type": "code",
   "execution_count": null,
   "metadata": {},
   "outputs": [],
   "source": [
    "p"
   ]
  },
  {
   "cell_type": "code",
   "execution_count": null,
   "metadata": {},
   "outputs": [],
   "source": [
    "f = E**(sin(4*x))\n",
    "I = [0, 1]\n",
    "x_vals = np.linspace(I[0], I[1], 4)\n",
    "y_vals = [f.evalf(subs={x: S(i)}) for i in x_vals]"
   ]
  },
  {
   "cell_type": "code",
   "execution_count": null,
   "metadata": {},
   "outputs": [],
   "source": [
    "p, mat = polinomio_newton(x_vals, y_vals, x, evalf=5)\n",
    "p"
   ]
  },
  {
   "cell_type": "code",
   "execution_count": null,
   "metadata": {},
   "outputs": [],
   "source": [
    "mat.evalf(4)"
   ]
  },
  {
   "cell_type": "code",
   "execution_count": null,
   "metadata": {},
   "outputs": [],
   "source": [
    "x_range = np.linspace(I[0], I[1], 100)\n",
    "y_real = [f.subs(x, i) for i in x_range]\n",
    "y_pol = [expand(p).subs(x, i) for i in x_range]\n",
    "\n",
    "\n",
    "plt.plot(x_range, y_real, label=f'{f}')\n",
    "plt.scatter(x_vals, y_vals, c=\"#800000\")\n",
    "plt.plot(x_range, y_pol, label='interpolacion', c=\"#bcbcbc\")\n",
    "\n",
    "plt.legend()"
   ]
  },
  {
   "cell_type": "markdown",
   "metadata": {},
   "source": [
    "## Error en la interpolación de Lagrange\n",
    "Dado un polinomio de orden $n$, se tiene que el error máximo viene estimado por la expresión:\n",
    "$$E(x) = f(x) - p_n(x) = \\frac{(x-x_0)(x-x_1)\\cdots(x-x_n)}{(n+1)!}\\max_{t\\in[a,b]}f^{(n+1)}(t)$$"
   ]
  },
  {
   "cell_type": "code",
   "execution_count": null,
   "metadata": {},
   "outputs": [],
   "source": [
    "def error_lagrange(f, x_vals, I, var=x):\n",
    "    E_x_fact = S(1)\n",
    "    for x_val in x_vals:\n",
    "        E_x_fact *= (var - x_val)\n",
    "        \n",
    "    E_x_fact /= factorial(len(x_vals))\n",
    "    \n",
    "    # Ahora derivamos la función n veces\n",
    "    diff_f = f\n",
    "    \n",
    "    for _ in range(len(x_vals)):\n",
    "        diff_f = diff_f.diff(var)\n",
    "        \n",
    "    max_diff_f = maximum(diff_f, var, Interval(I[0], I[1]))\n",
    "    \n",
    "    E_x = E_x_fact *  abs(max_diff_f)\n",
    "    \n",
    "    return E_x"
   ]
  },
  {
   "cell_type": "code",
   "execution_count": null,
   "metadata": {},
   "outputs": [],
   "source": [
    "def error_maximo_estocastico(f, grado, N=1000, list_x_vals=None):\n",
    "    max_error = 0\n",
    "\n",
    "    # Hacemos la funcion por separado porque el cálculo de derivada es costoso y cada iteración de error_lagrange tarda mucho\n",
    "    diff_f = f\n",
    "    for _ in range(grado):\n",
    "        diff_f = diff_f.diff(x)\n",
    "    max_diff_f = maximum(diff_f, x, Interval(I[0], I[1]))\n",
    "    \n",
    "    \n",
    "    for i in tqdm(range(N)):\n",
    "        if list_x_vals is None:\n",
    "            x_list = np.sort(np.random.rand(grado) * (I[1] - I[0]) + I[0])\n",
    "        else:\n",
    "            x_list = list_x_vals\n",
    "            \n",
    "        E_x_fact = S(1) / S(factorial(grado))\n",
    "        for x_val in x_list:\n",
    "            E_x_fact *= (x - x_val)\n",
    "\n",
    "        E_x = lambdify(x, expand(E_x_fact * max_diff_f))  # lambdify es para que la evaluación numérica sea mucho más ágil\n",
    "\n",
    "        x_range = np.linspace(I[0], I[1], int(N/10))\n",
    "        y_f = [E_x(i) for i in x_range]\n",
    "        max_y_f = np.max(abs(np.array(y_f)))\n",
    "\n",
    "        if max_y_f >= max_error:\n",
    "            max_error = max_y_f\n",
    "        \n",
    "        if list_x_vals is not None:\n",
    "            break\n",
    "        \n",
    "    return max_error"
   ]
  },
  {
   "cell_type": "markdown",
   "metadata": {},
   "source": [
    "#### EJERCICIO 48"
   ]
  },
  {
   "cell_type": "code",
   "execution_count": null,
   "metadata": {},
   "outputs": [],
   "source": [
    "f = sqrt(x)\n",
    "I = [0, 2]\n",
    "grado = 4\n",
    "\n",
    "x_vals = [1, 2]\n",
    "y_vals = [f.evalf(subs={x: S(i)}) for i in x_vals]"
   ]
  },
  {
   "cell_type": "code",
   "execution_count": null,
   "metadata": {},
   "outputs": [],
   "source": [
    "error_lagrange(f, np.linspace(I[0], I[1], grado), I)  # Asegurate de que el máximo de la derivada para el grado no es infinito!!!!"
   ]
  },
  {
   "cell_type": "markdown",
   "metadata": {},
   "source": [
    "Este ejercicio lo vamos a resolver de manera aleatoria, usando una simulación. Tenemos que simular el error dados n puntos $x_0$, $x_1$, ..., $x_n$ aleatorios."
   ]
  },
  {
   "cell_type": "code",
   "execution_count": null,
   "metadata": {},
   "outputs": [],
   "source": [
    "max_error = error_maximo_estocastico(f, grado=grado, N=2500)"
   ]
  },
  {
   "cell_type": "code",
   "execution_count": null,
   "metadata": {},
   "outputs": [],
   "source": [
    "print(1/max_error)"
   ]
  },
  {
   "cell_type": "code",
   "execution_count": null,
   "metadata": {},
   "outputs": [],
   "source": [
    "x_vals = np.sort(np.random.rand(grado) * (I[1] - I[0]) + I[0])\n",
    "x_vals = [0, 0.366, 1.333, 2]\n",
    "y_vals = [f.evalf(subs={x: S(i)}) for i in x_vals]\n",
    "\n",
    "p, lista_L = polinomio_lagrange(x_vals, y_vals)\n",
    "\n",
    "x_range = np.linspace(I[0], I[1], 100)\n",
    "y_real = [f.subs(x, i) for i in x_range]\n",
    "y_pol = np.array([expand(p).subs(x, i) for i in x_range])\n",
    "\n",
    "\n",
    "plt.plot(x_range, y_real, label=f'{f}')\n",
    "plt.scatter(x_vals, y_vals, c=\"#800000\")\n",
    "plt.plot(x_range, y_pol, label='interpolacion', c=\"#bcbcbc\")\n",
    "plt.plot(x_range, list(y_pol - (max_error)),  c=\"#bcbcbc\", alpha=0.3)\n",
    "plt.plot(x_range, list(y_pol + (max_error)),  c=\"#bcbcbc\", alpha=0.3)\n",
    "\n",
    "\n",
    "# plt.fill_between(list(x_range), list(y_pol - (max_error/2)), list(y_pol + (max_error/2)))\n",
    "\n",
    "plt.legend()"
   ]
  },
  {
   "cell_type": "markdown",
   "metadata": {},
   "source": [
    "## El fenómeno de Runge y la interpolación de Chebishev\n",
    "Esta información está en el texto base pero muy sucinta y mal descrita. La info para esta sección la he sacado de https://brianheinold.net/notes/An_Intuitive_Guide_to_Numerical_Methods_Heinold.pdf\n",
    "\n",
    "El fenómeno de Runge es que cuando tomamos una función la interpolación tiende a fallar en los extremos, sobre todo si los puntos de interpolación los tomamos de manera equidistante.\n",
    "Obviamente, se pueden escoger los nodos $x_0, x_1, \\cdots, x_n$ de muchas maneras, pero unas y otras van a ser mejores para generar interpolaciones más veraces fuera de los extremos.\n"
   ]
  },
  {
   "cell_type": "code",
   "execution_count": null,
   "metadata": {},
   "outputs": [],
   "source": [
    "f = E**(sin(4*x))\n",
    "I = [0, 1]\n",
    "grado = 9\n",
    "\n",
    "x_vals_equip = np.linspace(I[0], I[1], grado)\n",
    "y_vals_equip = [f.evalf(subs={x: S(i)}) for i in x_vals_equip]\n",
    "\n",
    "x_vals_extr = [0, 0.03, 0.07, 0.15, 0.5, 0.85, 0.93, 0.97, 1]\n",
    "y_vals_extr = [f.evalf(subs={x: S(i)}) for i in x_vals_extr]"
   ]
  },
  {
   "cell_type": "code",
   "execution_count": null,
   "metadata": {},
   "outputs": [],
   "source": [
    "p_equip, lista_L = polinomio_lagrange(x_vals_equip, y_vals_equip)\n",
    "p_extr, lista_L = polinomio_lagrange(x_vals_extr, y_vals_extr)"
   ]
  },
  {
   "cell_type": "code",
   "execution_count": null,
   "metadata": {},
   "outputs": [],
   "source": [
    "expand(p_equip)"
   ]
  },
  {
   "cell_type": "code",
   "execution_count": null,
   "metadata": {},
   "outputs": [],
   "source": [
    "expand(p_extr)"
   ]
  },
  {
   "cell_type": "code",
   "execution_count": null,
   "metadata": {},
   "outputs": [],
   "source": [
    "fig, axs = plt.subplots(1, 2, figsize=(10, 4))\n",
    "x_range_base = np.linspace(I[0] - 0.05, I[1] + 0.05, 100)\n",
    "x_range_todo = np.linspace(I[0] - 1, I[1] + 0.7, 100)\n",
    "\n",
    "for x_range_idx, x_range in enumerate([x_range_base, x_range_todo]): \n",
    "    y_real = [f.subs(x, i) for i in x_range]\n",
    "    y_pol_equip = [expand(p_equip).subs(x, i) for i in x_range]\n",
    "    y_pol_extr = [expand(p_extr).subs(x, i) for i in x_range]\n",
    "\n",
    "\n",
    "    axs[x_range_idx].plot(x_range, y_real, label=f'{f}')\n",
    "    axs[x_range_idx].scatter(x_vals_equip, y_vals_equip, c=\"#bcbcbc\")\n",
    "    axs[x_range_idx].scatter(x_vals_extr, y_vals_extr, c=\"#454545\")\n",
    "\n",
    "    axs[x_range_idx].plot(x_range, y_pol_equip, label='interpolacion equiprobable', c=\"#bcbcbc\")\n",
    "    axs[x_range_idx].plot(x_range, y_pol_extr, label='interpolacion extremos', c=\"#454545\")\n",
    "\n",
    "\n",
    "    axs[x_range_idx].legend()"
   ]
  },
  {
   "cell_type": "markdown",
   "metadata": {},
   "source": [
    "Vemos que aunque la interpolación equidistante sea más exacta con respecto a la función real, se aleja un montón de los extremos. Sin embargo, si tomamos puntos en el extremo, la interpolación aguanta mejor cambios en el extremo."
   ]
  },
  {
   "cell_type": "markdown",
   "metadata": {},
   "source": [
    "Por el teorema del error máximo mencionado anteriormente se deriva que la major elección de valores de $x$ son las raíces de los polinomios de Chevisheb, que se corresponden a la ecuación:\n",
    "$$x_k = \\frac{1}{2}(a+b) + \\frac{1}{2}(b - a) \\cos\\left( \\frac{2k - 1}{2n} \\pi \\right)$$\n",
    "Para $k = 1, \\cdots, n$"
   ]
  },
  {
   "cell_type": "code",
   "execution_count": null,
   "metadata": {},
   "outputs": [],
   "source": [
    "def roots_chebyshev(n, var=x, I=[-1, 1]):\n",
    "    roots = [0.5*(I[1] + I[0]) + 0.5*(I[1] - I[0]) * cos(S(2 * (i + 1) - 1)/S(2*n) * pi) for i in range(n)][::-1]\n",
    "    return roots"
   ]
  },
  {
   "cell_type": "code",
   "execution_count": null,
   "metadata": {},
   "outputs": [],
   "source": [
    "for n in range(2, 20):\n",
    "    plt.scatter(roots_chebyshev(n, I=[0, 1]), [n] * n)"
   ]
  },
  {
   "cell_type": "markdown",
   "metadata": {},
   "source": [
    "Repetimos el ejemplo anterior, pero ahora tomando las raíces de Chebyshev"
   ]
  },
  {
   "cell_type": "code",
   "execution_count": null,
   "metadata": {},
   "outputs": [],
   "source": [
    "x_vals_chev = [N(i, 6) for i in roots_chebyshev(grado, I=I)]\n",
    "y_vals_chev = [f.evalf(subs={x: S(i)}) for i in x_vals_chev]"
   ]
  },
  {
   "cell_type": "code",
   "execution_count": null,
   "metadata": {},
   "outputs": [],
   "source": [
    "p_chev, lista_L = polinomio_lagrange(x_vals_chev, y_vals_chev)"
   ]
  },
  {
   "cell_type": "code",
   "execution_count": null,
   "metadata": {},
   "outputs": [],
   "source": [
    "fig, axs = plt.subplots(1, 2, figsize=(10, 4))\n",
    "x_range_base = np.linspace(I[0] - 0.05, I[1] + 0.05, 100)\n",
    "x_range_todo = np.linspace(I[0] - 1, I[1] + 0.7, 100)\n",
    "\n",
    "for x_range_idx, x_range in enumerate([x_range_base, x_range_todo]): \n",
    "    y_real = [f.subs(x, i) for i in x_range]\n",
    "    y_pol_equip = [expand(p_equip).subs(x, i) for i in x_range]\n",
    "    y_pol_chev = [expand(p_chev).subs(x, i) for i in x_range]\n",
    "    y_pol_extr = [expand(p_extr).subs(x, i) for i in x_range]\n",
    "\n",
    "\n",
    "    axs[x_range_idx].plot(x_range, y_real, label=f'{f}')\n",
    "    axs[x_range_idx].scatter(x_vals_equip, y_vals_equip, c=\"#bcbcbc\")\n",
    "    axs[x_range_idx].scatter(x_vals_extr, y_vals_extr, c=\"#454545\")\n",
    "    axs[x_range_idx].scatter(x_vals_chev, y_vals_chev, c=\"#800000\")\n",
    "\n",
    "\n",
    "    axs[x_range_idx].plot(x_range, y_pol_equip, label='equiprobable', c=\"#bcbcbc\")\n",
    "    axs[x_range_idx].plot(x_range, y_pol_extr, label='extremos', c=\"#454545\")\n",
    "    axs[x_range_idx].plot(x_range, y_pol_chev, label='chebyshev', c=\"#800000\")\n",
    "\n",
    "\n",
    "    axs[x_range_idx].legend()"
   ]
  },
  {
   "cell_type": "markdown",
   "metadata": {},
   "source": [
    "Aunque los resultados en los extremos sean peor para Chebyshev que para la interpolación de extremos, se ve que en el medio la interpolación de Chebyshev es prácticamente idéntica a la equiprobable. Esto es importante porque para esta función las diferencias en el centro para la interpolación de extremos no son muy evidentes, pero para otras funciones puede que sean peores, y en ese caso la selección de nodos por Chebyshev es ese punto intermedio."
   ]
  }
 ],
 "metadata": {
  "colab": {
   "include_colab_link": true,
   "name": "ANMI.ipynb",
   "provenance": [],
   "toc_visible": true
  },
  "kernelspec": {
   "display_name": "Python 3",
   "language": "python",
   "name": "python3"
  },
  "language_info": {
   "codemirror_mode": {
    "name": "ipython",
    "version": 3
   },
   "file_extension": ".py",
   "mimetype": "text/x-python",
   "name": "python",
   "nbconvert_exporter": "python",
   "pygments_lexer": "ipython3",
   "version": "3.8.5"
  }
 },
 "nbformat": 4,
 "nbformat_minor": 4
}
