{
  "nbformat": 4,
  "nbformat_minor": 0,
  "metadata": {
    "colab": {
      "name": "ANMI.ipynb",
      "provenance": [],
      "toc_visible": true,
      "include_colab_link": true
    },
    "kernelspec": {
      "display_name": "Python 3",
      "language": "python",
      "name": "python3"
    },
    "language_info": {
      "codemirror_mode": {
        "name": "ipython",
        "version": 3
      },
      "file_extension": ".py",
      "mimetype": "text/x-python",
      "name": "python",
      "nbconvert_exporter": "python",
      "pygments_lexer": "ipython3",
      "version": "3.8.5"
    }
  },
  "cells": [
    {
      "cell_type": "markdown",
      "metadata": {
        "id": "view-in-github",
        "colab_type": "text"
      },
      "source": [
        "<a href=\"https://colab.research.google.com/github/alexmascension/ANMI/blob/main/notebook/T5.ipynb\" target=\"_parent\"><img src=\"https://colab.research.google.com/assets/colab-badge.svg\" alt=\"Open In Colab\"/></a>"
      ]
    },
    {
      "cell_type": "markdown",
      "metadata": {
        "id": "Vf3GioQwcepr"
      },
      "source": [
        "# Tema 5: Interpolación de funciones"
      ]
    },
    {
      "cell_type": "code",
      "metadata": {
        "id": "1hDZNaYFX936"
      },
      "source": [
        "!pip install -r https://raw.githubusercontent.com/alexmascension/ANMI/main/requirements.txt"
      ],
      "execution_count": null,
      "outputs": []
    },
    {
      "cell_type": "code",
      "metadata": {
        "id": "dYo_JGn2TSxC"
      },
      "source": [
        "from sympy import *\n",
        "from sympy.matrices import Matrix as mat\n",
        "from sympy.matrices import randMatrix\n",
        "from sympy import symbols\n",
        "import sympy\n",
        "\n",
        "import numpy as np\n",
        "from tqdm import tqdm\n",
        "\n",
        "from scipy.linalg import orth\n",
        "\n",
        "from matplotlib import pyplot as plt\n",
        "import matplotlib as mpl\n",
        "mpl.rcParams['figure.dpi'] = 150"
      ],
      "execution_count": null,
      "outputs": []
    },
    {
      "cell_type": "code",
      "metadata": {
        "id": "l-V6kF8_X937"
      },
      "source": [
        "from anmi.genericas import norma_p_func, norma_inf_func, matriz_inversa\n",
        "from anmi.T5 import polinomio_lagrange, polinomio_newton, error_lagrange, error_maximo_estocastico, roots_chebyshev\n",
        "from anmi.T5 import aitken_neville, interpolacion_hermite, polinomio_generico, esplines"
      ],
      "execution_count": null,
      "outputs": []
    },
    {
      "cell_type": "code",
      "metadata": {
        "id": "DwVxD33o_fiU"
      },
      "source": [
        "x, y, z, a, lambda_ = symbols('x'), symbols('y'), symbols('z'), symbols('a'), symbols('lambda')"
      ],
      "execution_count": null,
      "outputs": []
    },
    {
      "cell_type": "markdown",
      "metadata": {
        "id": "0zR-0jZx_fiX"
      },
      "source": [
        "Dado un conjunto de puntos (nodos) $x_0, x_1, \\cdots, x_m$ podemos crear un polinomio $p$ que aproxime la función $f$ y que cumpla que $p(x_i) = f(x_i)$ para todo nodo. Existen varias situaciones de interpolación:\n",
        "* El número de nodos menos 1, $m-1$ es MAYOR que el máximo grado de polinomios, $n$.\n",
        "* El número de nodos menos 1, $m-1$ es IGUAL que el máximo grado de polinomios, $n$.\n",
        "* El número de nodos menos 1, $m-1$ es MENOR que el máximo grado de polinomios, $n$.\n",
        "\n",
        "En este capítulo nos centraremos cuando $m - 1 = n$."
      ]
    },
    {
      "cell_type": "markdown",
      "metadata": {
        "id": "EZeQ592v_fiZ"
      },
      "source": [
        "## Interpolación de Lagrange\n",
        "\n",
        "En esta interpolación empleamos un conjunto de funciones $L = \\{l_0, l_1, \\cdots, l_n\\}$ correspondiente a los $n+1$ nodos $\\{x_i:i = 0, 1, \\cdots, n\\}$. Cada $l_i$ se define como\n",
        "\n",
        "$$l_i(x) = \\prod_{k = 0 \\neq i}\\frac{x - x_k}{x_i - x_k}$$\n",
        "\n",
        "Y así el polinomio resultante es\n",
        "\n",
        "$$p(x) = \\sum_{i=0}^n l_i(x)f(x_i)$$\n",
        "\n",
        "Donde $f(x_i)$ es el valor de la función $f$ en $x_i$."
      ]
    },
    {
      "cell_type": "code",
      "metadata": {
        "id": "RjCxkuN6_fia"
      },
      "source": [
        "help(polinomio_lagrange)"
      ],
      "execution_count": null,
      "outputs": []
    },
    {
      "cell_type": "code",
      "metadata": {
        "id": "JZPjQQxL_fid"
      },
      "source": [
        "f = E**(sin(4*x))\n",
        "I = [0, 1]\n",
        "x_vals = np.linspace(I[0], I[1], 4)\n",
        "y_vals = [f.evalf(subs={x: S(i)}) for i in x_vals]"
      ],
      "execution_count": null,
      "outputs": []
    },
    {
      "cell_type": "code",
      "metadata": {
        "id": "-jdaDDz3_fih"
      },
      "source": [
        "p, lista_L = polinomio_lagrange(x_vals, y_vals)"
      ],
      "execution_count": null,
      "outputs": []
    },
    {
      "cell_type": "code",
      "metadata": {
        "id": "_K7HFcP4_fij"
      },
      "source": [
        "expand(p)"
      ],
      "execution_count": null,
      "outputs": []
    },
    {
      "cell_type": "code",
      "metadata": {
        "id": "nx5xrG4y_fim"
      },
      "source": [
        "x_range = np.linspace(I[0], I[1], 100)\n",
        "y_real = [f.subs(x, i) for i in x_range]\n",
        "y_pol = [expand(p).subs(x, i) for i in x_range]\n",
        "\n",
        "\n",
        "plt.plot(x_range, y_real, label=f'{f}')\n",
        "plt.scatter(x_vals, y_vals, c=\"#800000\")\n",
        "plt.plot(x_range, y_pol, label='interpolacion', c=\"#bcbcbc\")\n",
        "\n",
        "plt.legend()"
      ],
      "execution_count": null,
      "outputs": []
    },
    {
      "cell_type": "markdown",
      "metadata": {
        "id": "YkKHkKt-_fio"
      },
      "source": [
        "Ahora ploteamos cada una de las funciones"
      ]
    },
    {
      "cell_type": "code",
      "metadata": {
        "id": "JW7rk6Z__fip"
      },
      "source": [
        "x_range = np.linspace(I[0], I[1], 100)\n",
        "y_pol = [expand(p).subs(x, i) for i in x_range]\n",
        "y_real = [f.subs(x, i) for i in x_range]\n",
        "\n",
        "\n",
        "for p_i, pl in enumerate(lista_L):\n",
        "    y_l = [expand(pl).subs(x, i) * y_vals[p_i] for i in x_range]\n",
        "    plt.plot(x_range, y_l, label=f'$l_{p_i}$')\n",
        "    plt.scatter(x_vals[p_i], y_vals[p_i])\n",
        "\n",
        "plt.plot(x_range, y_real, label=f'{f}')\n",
        "plt.plot(x_range, y_pol, label='interpolacion', c=\"#bcbcbc\")\n",
        "\n",
        "plt.legend(bbox_to_anchor=(1.05, 0.5))"
      ],
      "execution_count": null,
      "outputs": []
    },
    {
      "cell_type": "markdown",
      "metadata": {
        "id": "hMLJrOCu_fir"
      },
      "source": [
        "## Método de Newton\n",
        "El método de Lagrange, aunque da un polinomio único, tiene una serie de problemas. En primer lugar, aunque computacionalmente no parezca complejo, el cálculo de coeficientes es tedioso y poco práctico para ciertas funciones. Además, si queremos añadir un nuevo nodo, tenemos que recalcular todas las funciones de Lagrange para el polinomio nuevo, lo cual lo vuelve bastante impráctico. \n",
        "\n",
        "Con el método de Newton solventamos las problemáticas estableciendo un método iterativo que incorpora un nodo por vez.\n",
        "\n",
        "En el método se aplican los siguientes cálculos:\n",
        "\n",
        "$$\n",
        "\\begin{matrix}\n",
        "x_0 & \\color{blue}{f(x_0)} & & \\\\\n",
        "  & & \\color{blue}{\\frac{f(x_1) - f(x_0)}{x_1 - x_0}} & \\\\\n",
        "x_1   & f(x_1) & & \\color{blue}{\\frac{\\frac{f(x_2) - f(x_1)}{x_2 - x_1} - \\frac{f(x_1) - f(x_0)}{x_1 - x_0}}{x_2 - x_0}}\\\\\n",
        "    & & \\frac{f(x_2) - f(x_1)}{x_2 - x_1}& \\\\\n",
        "x_2     &f(x_2) & & \\\\\n",
        "\\vdots     & \\vdots & & \\\\\n",
        "x_{n-1}     &f(x_{n-1}) & & \\\\\n",
        "& & \\frac{f(x_n) - f(x_{n-1})}{x_n - x_{n-1}} & \\\\\n",
        "x_n     &f(x_n) & & \\\\\n",
        "\\end{matrix}\n",
        "$$\n",
        "\n",
        "O de manera compacta:\n",
        "$$\n",
        "\\begin{matrix}\n",
        "x_0 & \\color{blue}{f(x_0)} & & \\\\\n",
        "  & & \\color{blue}{f[x_0, x_1]} & \\\\\n",
        "x_1   & f(x_1) & & \\color{blue}{f[x_0, x_1, x_2]}\\\\\n",
        "    & & \\color{blue}{f[x_1, x_2]}& \\\\\n",
        "x_2     &f(x_2) & & \\\\\n",
        "\\vdots     & \\vdots & & \\\\\n",
        "x_{n-1}     &f(x_{n-1}) & & \\\\\n",
        "& & \\color{blue}{f[x_{n-1}, x_n]} & \\\\\n",
        "x_n     &f(x_n) & & \\\\\n",
        "\\end{matrix}\n",
        "$$ \n",
        "Con\n",
        "$$f[x_a, x_{a+1}, \\cdots, x_j] = \\frac{f[x_{a+1}, x_{a + 2}, \\cdots, x_j] - f[x_{a}, x_{a+1}, \\cdots, x_{j-1}]}{x_j - x_a}$$\n",
        "Si denominamos $a_0, a_1, \\cdots, a_n$ a los monomios en azul ($a_0 = f(x_0)$, $a_1 = \\frac{f(x_1) - f(x_0)}{x_1 - x_0}$, etc.) entonces el polinomio de Newton se construye como:\n",
        "$$p_n(x) = a_0 + a_1(x - x_0) + a_2(x - x_0)(x - x_1) + \\cdots + a_n(x - x_0)(x - x_1)\\cdots(x - x_{n-1})$$\n"
      ]
    },
    {
      "cell_type": "code",
      "metadata": {
        "id": "Yte9tGiv_fis"
      },
      "source": [
        "help(polinomio_newton)"
      ],
      "execution_count": null,
      "outputs": []
    },
    {
      "cell_type": "code",
      "metadata": {
        "id": "qiWt8lKB_fit"
      },
      "source": [
        "p, mat = polinomio_newton([S(i) for i in [0.1, 0.2, 0.3, 0.4, 0.5, 0.6, 0.7]], [S(i) for i in [0.7, 0.8, 1, 1.15, 1.25, 1.3]], x)\n",
        "mat"
      ],
      "execution_count": null,
      "outputs": []
    },
    {
      "cell_type": "code",
      "metadata": {
        "id": "VuhNt_CR_fiw"
      },
      "source": [
        "p"
      ],
      "execution_count": null,
      "outputs": []
    },
    {
      "cell_type": "code",
      "metadata": {
        "id": "bI_Dq9DV_fix"
      },
      "source": [
        "f = E**(sin(4*x))\n",
        "I = [0, 1]\n",
        "x_vals = np.linspace(I[0], I[1], 4)\n",
        "y_vals = [f.evalf(subs={x: S(i)}) for i in x_vals]"
      ],
      "execution_count": null,
      "outputs": []
    },
    {
      "cell_type": "code",
      "metadata": {
        "id": "GSQlRGEi_fiy"
      },
      "source": [
        "p, mat = polinomio_newton(x_vals, y_vals, x, evalf=5)\n",
        "p"
      ],
      "execution_count": null,
      "outputs": []
    },
    {
      "cell_type": "code",
      "metadata": {
        "id": "6U8ZZqIi_fiz"
      },
      "source": [
        "mat.evalf(4)"
      ],
      "execution_count": null,
      "outputs": []
    },
    {
      "cell_type": "code",
      "metadata": {
        "id": "fzY9p73-_fi0"
      },
      "source": [
        "x_range = np.linspace(I[0], I[1], 100)\n",
        "y_real = [f.subs(x, i) for i in x_range]\n",
        "y_pol = [expand(p).subs(x, i) for i in x_range]\n",
        "\n",
        "\n",
        "plt.plot(x_range, y_real, label=f'{f}')\n",
        "plt.scatter(x_vals, y_vals, c=\"#800000\")\n",
        "plt.plot(x_range, y_pol, label='interpolacion', c=\"#bcbcbc\")\n",
        "\n",
        "plt.legend()"
      ],
      "execution_count": null,
      "outputs": []
    },
    {
      "cell_type": "markdown",
      "metadata": {
        "id": "HO7wVKXR_fi1"
      },
      "source": [
        "## Error en la interpolación de Lagrange\n",
        "Dado un polinomio de orden $n$, se tiene que el error máximo viene estimado por la expresión:\n",
        "$$E(x) = f(x) - p_n(x) = \\frac{(x-x_0)(x-x_1)\\cdots(x-x_n)}{(n+1)!}\\max_{t\\in[a,b]}f^{(n+1)}(t)$$"
      ]
    },
    {
      "cell_type": "code",
      "metadata": {
        "id": "Hm_FM8Qy_fi3"
      },
      "source": [
        "help(error_lagrange)\n",
        "help(error_maximo_estocastico)"
      ],
      "execution_count": null,
      "outputs": []
    },
    {
      "cell_type": "markdown",
      "metadata": {
        "id": "TqWUqON6_fi4"
      },
      "source": [
        "#### EJERCICIO 48"
      ]
    },
    {
      "cell_type": "code",
      "metadata": {
        "id": "ax8ZgIO4_fi5"
      },
      "source": [
        "f = sqrt(x)\n",
        "I = [0, 2]\n",
        "grado = 4\n",
        "\n",
        "x_vals = [1, 2]\n",
        "y_vals = [f.evalf(subs={x: S(i)}) for i in x_vals]"
      ],
      "execution_count": null,
      "outputs": []
    },
    {
      "cell_type": "code",
      "metadata": {
        "id": "74DABARy_fi6"
      },
      "source": [
        "error_lagrange(f, np.linspace(I[0], I[1], grado), I)  # Asegurate de que el máximo de la derivada para el grado no es infinito!!!!"
      ],
      "execution_count": null,
      "outputs": []
    },
    {
      "cell_type": "markdown",
      "metadata": {
        "id": "9pAVHCsw_fi6"
      },
      "source": [
        "Este ejercicio lo vamos a resolver de manera aleatoria, usando una simulación. Tenemos que simular el error dados n puntos $x_0$, $x_1$, ..., $x_n$ aleatorios."
      ]
    },
    {
      "cell_type": "code",
      "metadata": {
        "id": "GGNZDV18_fi7"
      },
      "source": [
        "max_error = error_maximo_estocastico(f, grado=grado, N=2500)"
      ],
      "execution_count": null,
      "outputs": []
    },
    {
      "cell_type": "code",
      "metadata": {
        "id": "IqJnS8vw_fi8"
      },
      "source": [
        "print(1/max_error)"
      ],
      "execution_count": null,
      "outputs": []
    },
    {
      "cell_type": "code",
      "metadata": {
        "id": "afl09iL__fi8"
      },
      "source": [
        "x_vals = np.sort(np.random.rand(grado) * (I[1] - I[0]) + I[0])\n",
        "x_vals = [0, 0.366, 1.333, 2]\n",
        "y_vals = [f.evalf(subs={x: S(i)}) for i in x_vals]\n",
        "\n",
        "p, lista_L = polinomio_lagrange(x_vals, y_vals)\n",
        "\n",
        "x_range = np.linspace(I[0], I[1], 100)\n",
        "y_real = [f.subs(x, i) for i in x_range]\n",
        "y_pol = np.array([expand(p).subs(x, i) for i in x_range])\n",
        "\n",
        "\n",
        "plt.plot(x_range, y_real, label=f'{f}')\n",
        "plt.scatter(x_vals, y_vals, c=\"#800000\")\n",
        "plt.plot(x_range, y_pol, label='interpolacion', c=\"#bcbcbc\")\n",
        "plt.plot(x_range, list(y_pol - (max_error)),  c=\"#bcbcbc\", alpha=0.3)\n",
        "plt.plot(x_range, list(y_pol + (max_error)),  c=\"#bcbcbc\", alpha=0.3)\n",
        "\n",
        "\n",
        "# plt.fill_between(list(x_range), list(y_pol - (max_error/2)), list(y_pol + (max_error/2)))\n",
        "\n",
        "plt.legend()"
      ],
      "execution_count": null,
      "outputs": []
    },
    {
      "cell_type": "markdown",
      "metadata": {
        "id": "vSOBHBdp_fi9"
      },
      "source": [
        "## El fenómeno de Runge y la interpolación de Chebishev\n",
        "Esta información está en el texto base pero muy sucinta y mal descrita. La info para esta sección la he sacado de https://brianheinold.net/notes/An_Intuitive_Guide_to_Numerical_Methods_Heinold.pdf\n",
        "\n",
        "El fenómeno de Runge es que cuando tomamos una función la interpolación tiende a fallar en los extremos, sobre todo si los puntos de interpolación los tomamos de manera equidistante.\n",
        "Obviamente, se pueden escoger los nodos $x_0, x_1, \\cdots, x_n$ de muchas maneras, pero unas y otras van a ser mejores para generar interpolaciones más veraces fuera de los extremos.\n"
      ]
    },
    {
      "cell_type": "code",
      "metadata": {
        "id": "tDQUqkC__fi-"
      },
      "source": [
        "f = E**(sin(4*x))\n",
        "I = [0, 1]\n",
        "grado = 9\n",
        "\n",
        "x_vals_equip = np.linspace(I[0], I[1], grado)\n",
        "y_vals_equip = [f.evalf(subs={x: S(i)}) for i in x_vals_equip]\n",
        "\n",
        "x_vals_extr = [0, 0.03, 0.07, 0.15, 0.5, 0.85, 0.93, 0.97, 1]\n",
        "y_vals_extr = [f.evalf(subs={x: S(i)}) for i in x_vals_extr]"
      ],
      "execution_count": null,
      "outputs": []
    },
    {
      "cell_type": "code",
      "metadata": {
        "id": "jbQMTQ4v_fi_"
      },
      "source": [
        "p_equip, lista_L = polinomio_lagrange(x_vals_equip, y_vals_equip)\n",
        "p_extr, lista_L = polinomio_lagrange(x_vals_extr, y_vals_extr)"
      ],
      "execution_count": null,
      "outputs": []
    },
    {
      "cell_type": "code",
      "metadata": {
        "id": "wIiVjf8M_fjA"
      },
      "source": [
        "expand(p_equip)"
      ],
      "execution_count": null,
      "outputs": []
    },
    {
      "cell_type": "code",
      "metadata": {
        "id": "aStJyhzz_fjC"
      },
      "source": [
        "expand(p_extr)"
      ],
      "execution_count": null,
      "outputs": []
    },
    {
      "cell_type": "code",
      "metadata": {
        "id": "jCsGoxe7_fjD"
      },
      "source": [
        "fig, axs = plt.subplots(1, 2, figsize=(10, 4))\n",
        "x_range_base = np.linspace(I[0] - 0.05, I[1] + 0.05, 100)\n",
        "x_range_todo = np.linspace(I[0] - 1, I[1] + 0.7, 100)\n",
        "\n",
        "for x_range_idx, x_range in enumerate([x_range_base, x_range_todo]): \n",
        "    y_real = [f.subs(x, i) for i in x_range]\n",
        "    y_pol_equip = [expand(p_equip).subs(x, i) for i in x_range]\n",
        "    y_pol_extr = [expand(p_extr).subs(x, i) for i in x_range]\n",
        "\n",
        "\n",
        "    axs[x_range_idx].plot(x_range, y_real, label=f'{f}')\n",
        "    axs[x_range_idx].scatter(x_vals_equip, y_vals_equip, c=\"#bcbcbc\")\n",
        "    axs[x_range_idx].scatter(x_vals_extr, y_vals_extr, c=\"#454545\")\n",
        "\n",
        "    axs[x_range_idx].plot(x_range, y_pol_equip, label='interpolacion equiprobable', c=\"#bcbcbc\")\n",
        "    axs[x_range_idx].plot(x_range, y_pol_extr, label='interpolacion extremos', c=\"#454545\")\n",
        "\n",
        "\n",
        "    axs[x_range_idx].legend()"
      ],
      "execution_count": null,
      "outputs": []
    },
    {
      "cell_type": "markdown",
      "metadata": {
        "id": "-y9BprHm_fjE"
      },
      "source": [
        "Vemos que aunque la interpolación equidistante sea más exacta con respecto a la función real, se aleja un montón de los extremos. Sin embargo, si tomamos puntos en el extremo, la interpolación aguanta mejor cambios en el extremo."
      ]
    },
    {
      "cell_type": "markdown",
      "metadata": {
        "id": "t21dttpA_fjF"
      },
      "source": [
        "Por el teorema del error máximo mencionado anteriormente se deriva que la major elección de valores de $x$ son las raíces de los polinomios de Chevisheb, que se corresponden a la ecuación:\n",
        "$$x_k = \\frac{1}{2}(a+b) + \\frac{1}{2}(b - a) \\cos\\left( \\frac{2k - 1}{2n} \\pi \\right)$$\n",
        "Para $k = 1, \\cdots, n$"
      ]
    },
    {
      "cell_type": "code",
      "metadata": {
        "id": "6ODEz74y_fjG"
      },
      "source": [
        "help(roots_chebyshev)"
      ],
      "execution_count": null,
      "outputs": []
    },
    {
      "cell_type": "code",
      "metadata": {
        "id": "oPavT0x3_fjH"
      },
      "source": [
        "for n in range(2, 20):\n",
        "    plt.scatter(roots_chebyshev(n, I=[0, 1]), [n] * n)"
      ],
      "execution_count": null,
      "outputs": []
    },
    {
      "cell_type": "markdown",
      "metadata": {
        "id": "R71qx07w_fjI"
      },
      "source": [
        "Repetimos el ejemplo anterior, pero ahora tomando las raíces de Chebyshev"
      ]
    },
    {
      "cell_type": "code",
      "metadata": {
        "id": "49w0Whm1_fjJ"
      },
      "source": [
        "x_vals_chev = [N(i, 6) for i in roots_chebyshev(grado, I=I)]\n",
        "y_vals_chev = [f.evalf(subs={x: S(i)}) for i in x_vals_chev]"
      ],
      "execution_count": null,
      "outputs": []
    },
    {
      "cell_type": "code",
      "metadata": {
        "id": "nxPcaSK6_fjK"
      },
      "source": [
        "p_chev, lista_L = polinomio_lagrange(x_vals_chev, y_vals_chev)"
      ],
      "execution_count": null,
      "outputs": []
    },
    {
      "cell_type": "code",
      "metadata": {
        "id": "c1l_uawq_fjL"
      },
      "source": [
        "fig, axs = plt.subplots(1, 2, figsize=(10, 4))\n",
        "x_range_base = np.linspace(I[0] - 0.05, I[1] + 0.05, 100)\n",
        "x_range_todo = np.linspace(I[0] - 1, I[1] + 0.7, 100)\n",
        "\n",
        "for x_range_idx, x_range in enumerate([x_range_base, x_range_todo]): \n",
        "    y_real = [f.subs(x, i) for i in x_range]\n",
        "    y_pol_equip = [expand(p_equip).subs(x, i) for i in x_range]\n",
        "    y_pol_chev = [expand(p_chev).subs(x, i) for i in x_range]\n",
        "    y_pol_extr = [expand(p_extr).subs(x, i) for i in x_range]\n",
        "\n",
        "\n",
        "    axs[x_range_idx].plot(x_range, y_real, label=f'{f}')\n",
        "    axs[x_range_idx].scatter(x_vals_equip, y_vals_equip, c=\"#bcbcbc\")\n",
        "    axs[x_range_idx].scatter(x_vals_extr, y_vals_extr, c=\"#454545\")\n",
        "    axs[x_range_idx].scatter(x_vals_chev, y_vals_chev, c=\"#800000\")\n",
        "\n",
        "\n",
        "    axs[x_range_idx].plot(x_range, y_pol_equip, label='equiprobable', c=\"#bcbcbc\")\n",
        "    axs[x_range_idx].plot(x_range, y_pol_extr, label='extremos', c=\"#454545\")\n",
        "    axs[x_range_idx].plot(x_range, y_pol_chev, label='chebyshev', c=\"#800000\")\n",
        "\n",
        "\n",
        "    axs[x_range_idx].legend()"
      ],
      "execution_count": null,
      "outputs": []
    },
    {
      "cell_type": "markdown",
      "metadata": {
        "id": "LXoxzcJm_fjM"
      },
      "source": [
        "Aunque los resultados en los extremos sean peor para Chebyshev que para la interpolación de extremos, se ve que en el medio la interpolación de Chebyshev es prácticamente idéntica a la equiprobable. Esto es importante porque para esta función las diferencias en el centro para la interpolación de extremos no son muy evidentes, pero para otras funciones puede que sean peores, y en ese caso la selección de nodos por Chebyshev es ese punto intermedio."
      ]
    },
    {
      "cell_type": "markdown",
      "metadata": {
        "id": "qKtXNYnZ_fjM"
      },
      "source": [
        "## Algoritmos de Aitken y Neville\n",
        "Estos dos algoritmos permiten reducir el coste de la computación del polinomio de interpolación. Con estos algoritmos, en lugar de calcular el polinomio de interpolación, se calcula directamente el valor de la función en un punto $x_m$ sabiendo los valores de la función en $n$ puntos diferentes."
      ]
    },
    {
      "cell_type": "code",
      "metadata": {
        "id": "0vSmDUZ-_fjN"
      },
      "source": [
        "help(aitken_neville)"
      ],
      "execution_count": null,
      "outputs": []
    },
    {
      "cell_type": "code",
      "metadata": {
        "id": "0_7oZpIL_fjO"
      },
      "source": [
        "# obtenido de https://rpubs.com/aaronsc32/nevilles-method-polynomial-interpolation\n",
        "N(aitken_neville([8.1, 8.3, 8.6, 8.7], [16.9446, 17.56492, 18.50515, 18.82091], 8.4, modo='neville'))"
      ],
      "execution_count": null,
      "outputs": []
    },
    {
      "cell_type": "code",
      "metadata": {
        "id": "xHL1eLzc_fjP"
      },
      "source": [
        "N(aitken_neville([8.1, 8.3, 8.6, 8.7], [16.94, 17.56, 18.5, 18.82], 8.4, modo='aitken'))"
      ],
      "execution_count": null,
      "outputs": []
    },
    {
      "cell_type": "markdown",
      "metadata": {
        "id": "Or-C_IdE_fjS"
      },
      "source": [
        "#### EJERCICIO 49"
      ]
    },
    {
      "cell_type": "code",
      "metadata": {
        "id": "5CIxtvg__fjT"
      },
      "source": [
        "N(aitken_neville([-2, -1, 0, 1], [-1, -0.5, 0, 0.5], 0.5, modo='neville'))"
      ],
      "execution_count": null,
      "outputs": []
    },
    {
      "cell_type": "code",
      "metadata": {
        "id": "1Mdgtyx1_fjU"
      },
      "source": [
        "N(aitken_neville([-2, -1, 0, 1], [-1, -0.5, 0, 0.5], 0.5, modo='aitken'))"
      ],
      "execution_count": null,
      "outputs": []
    },
    {
      "cell_type": "markdown",
      "metadata": {
        "id": "SE6KSwDv_fjX"
      },
      "source": [
        "## Interpolación compuesta"
      ]
    },
    {
      "cell_type": "markdown",
      "metadata": {
        "id": "FU7K8A3C_fjY"
      },
      "source": [
        "#### Figura 5.1\n",
        "\n",
        "La figura muestra la interpolación de la función de Runge, $f(x) = \\frac{1}{1+x^2}$, que vemos falla en los extremos bastante fuertemente."
      ]
    },
    {
      "cell_type": "code",
      "metadata": {
        "id": "25zKhiuW_fjZ"
      },
      "source": [
        "f = 1 / (1 + x ** 2)\n",
        "I = [-5, 5]\n",
        "x_vals = np.linspace(I[0], I[1], 11)\n",
        "y_vals = [f.evalf(subs={x: S(i)}) for i in x_vals]\n",
        "\n",
        "p, lista_L = polinomio_lagrange(x_vals, y_vals)\n",
        "\n",
        "x_range = np.linspace(I[0], I[1], 250)\n",
        "y_real, y_pol = [f.subs(x, i) for i in x_range], [expand(p).subs(x, i) for i in x_range]\n",
        "\n",
        "plt.plot(x_range, y_real, label=f'{f}')\n",
        "plt.scatter(x_vals, y_vals, c=\"#800000\")\n",
        "plt.plot(x_range, y_pol, label='interpolacion', c=\"#bcbcbc\")\n",
        "\n",
        "plt.legend()"
      ],
      "execution_count": null,
      "outputs": []
    },
    {
      "cell_type": "code",
      "metadata": {
        "id": "W1n9O-AW_fjZ"
      },
      "source": [
        "x_vals = [N(i, 6) for i in roots_chebyshev(11, I=I)]\n",
        "y_vals = [f.evalf(subs={x: S(i)}) for i in x_vals]\n",
        "\n",
        "p, lista_L = polinomio_lagrange(x_vals, y_vals)\n",
        "\n",
        "x_range = np.linspace(I[0], I[1], 250)\n",
        "y_real, y_pol = [f.subs(x, i) for i in x_range], [expand(p).subs(x, i) for i in x_range]\n",
        "\n",
        "plt.plot(x_range, y_real, label=f'{f}')\n",
        "plt.scatter(x_vals, y_vals, c=\"#800000\")\n",
        "plt.plot(x_range, y_pol, label='interpolacion', c=\"#bcbcbc\")\n",
        "\n",
        "plt.legend()"
      ],
      "execution_count": null,
      "outputs": []
    },
    {
      "cell_type": "markdown",
      "metadata": {
        "id": "AH5Xvhq0_fja"
      },
      "source": [
        "## Interpolación de Hermite\n",
        "\n",
        "La interpolación de Hermite emplea el método de Newton para construir el polinomio. En este caso se emplean las derivadas de $f$ para aportar más estabilidad y así conseguir un polinomio que sea tanto continuo él como su derivada. En este caso la base es, para $\\{x_0, x_1, \\cdots, x_n\\}$, la siguiente: \n",
        "$\\{\\omega_0 = 1, \\omega_1 = (x-x_0), \\omega_2 = (x-x_0)^2, \\omega_3 = (x-x_0)^2(x-x_1), \\omega_4 = (x-x_0)^2(x-x_1)^2, \\cdots, \n",
        "\\omega_{2n}=(x-x_0)^2(x-x_1)^2\\cdots(x-x_n), \\omega_{2n+1}=(x-x_0)^2(x-x_1)^2\\cdots(x-x_n)^2\\}$\n",
        "\n",
        "En este caso, la variación del método de Newton es que incluimos la información de $f$ y $f'$ en la tabla de diferencias (mostramos para $x_0, x_1, x_2$):\n",
        "\n",
        "\n",
        "$$\n",
        "\\begin{matrix}\n",
        "x_0 & f(x_0) &   &  & & &  \\\\\n",
        "          &  & f[x_0, x_0] = f'(x_0)  &   & & &\\\\\n",
        "x_0 & f(x_0) &                        &  f[x_0, x_0, x_1]  & & &\\\\\n",
        "          &  & f[x_0, x_1]  &                              &    f[x_0, x_0, x_1, x_1] & & \\\\\n",
        "x_1 & f(x_1) &                        &  f[x_0, x_1, x_1] &                                   & f[x_0, x_0, x_1, x_1, x_2] &\\\\\n",
        "          &  & f[x_1, x_1] = f'(x_1)  &                    &    f[x_0, x_1, x_1, x_2]&                                     & f[x_0, x_0, x_1, x_1, x_2, x_2]   \\\\\n",
        "x_1 & f(x_1) &                        &  f[x_1, x_1, x_2] &                                   & f[x_0, x_1, x_1, x_2, x_2] &\\\\\n",
        "          &  & f[x_1, x_2]  &                              &    f[x_1, x_1, x_2, x_2]  & & \\\\\n",
        "x_2 & f(x_2) &                        &  f[x_1, x_2, x_2]& & & \\\\\n",
        "          &  & f[x_2, x_2] = f'(x_2)  &   & & &\\\\\n",
        "x_2 & f(x_2) &                        &  & & & \\\\          \n",
        "\\end{matrix}\n",
        "$$ \n",
        "\n",
        "$$p(x) = f(x_0) + f[x_0, x_0] \\omega_1 + f[x_0, x_0, x_1] \\omega_2 + f[x_0, x_0, x_1, x_1] \\omega_3 + f[x_0, x_0, x_1, x_1, x_2] \\omega_4 + \n",
        "    f[x_0, x_0, x_1, x_1, x_2, x_2] \\omega_5=$$\n",
        "    \n",
        "$$f(x_0) + f[x_0, x_0] (x-x_0) + f[x_0, x_0, x_1] (x-x_0)^2 + f[x_0, x_0, x_1, x_1] (x-x_0)^2(x-x_1) + f[x_0, x_0, x_1, x_1, x_2] (x-x_0)^2(x-x_1)^2 + f[x_0, x_0, x_1, x_1, x_2, x_2] (x-x_0)^2(x-x_1)^2(x-x_2)$$"
      ]
    },
    {
      "cell_type": "markdown",
      "metadata": {
        "id": "sufHbml8_fjb"
      },
      "source": [
        "La ventaja de esta interpolación es que se pueden hacer las pirámides con tantas derivadas como se quiera. Puedes ver más info en https://en.wikipedia.org/wiki/Hermite_interpolation"
      ]
    },
    {
      "cell_type": "code",
      "metadata": {
        "id": "NK1CAa54_fjb"
      },
      "source": [
        "help(interpolacion_hermite)"
      ],
      "execution_count": null,
      "outputs": []
    },
    {
      "cell_type": "markdown",
      "metadata": {
        "id": "mj4z0E4A_fjd"
      },
      "source": [
        "#### EJERCICIO 50"
      ]
    },
    {
      "cell_type": "code",
      "metadata": {
        "id": "OosJ_Xfo_fje"
      },
      "source": [
        "p, mat = interpolacion_hermite(x_vals=[1, 2, 5], y_vals = [-1, -3, 3], diff_vals=[-3, -1, 2], var=x)"
      ],
      "execution_count": null,
      "outputs": []
    },
    {
      "cell_type": "code",
      "metadata": {
        "id": "ccevGA0A_fje"
      },
      "source": [
        "mat"
      ],
      "execution_count": null,
      "outputs": []
    },
    {
      "cell_type": "code",
      "metadata": {
        "id": "eH4TUMBa_fje"
      },
      "source": [
        "p"
      ],
      "execution_count": null,
      "outputs": []
    },
    {
      "cell_type": "markdown",
      "metadata": {
        "id": "jiiqY-XE_fjf"
      },
      "source": [
        "## Método de polinomio genérico\n",
        "Este método está descrito en el ejercicio 56. Simplemente consiste en desarrollar un polinomio con $n$ incógnitas dando $n$ condiciones que se cumplen de la función o de sus sucesivas derivadas. Por ejemplo, para el ejecicio 56 hay 4 condiciones:\n",
        "* $f(0) = 1$\n",
        "* $f'(0.1) = -\\frac{10}{3}$\n",
        "* $f'(0.2) = -\\frac{10}{3}$\n",
        "* $f(0.3) = 0.001$\n",
        "\n",
        "Por tanto, podemos construir el polinomio $p(x) = a_0 + a_1x + a_2x^2 + a_3x^3$ que satisfaga todas las soluciones, y con eso resolver el sistema.\n",
        "$$D a = f$$"
      ]
    },
    {
      "cell_type": "code",
      "metadata": {
        "id": "uztQa3zD_fjg"
      },
      "source": [
        "help(polinomio_generico)"
      ],
      "execution_count": null,
      "outputs": []
    },
    {
      "cell_type": "markdown",
      "metadata": {
        "id": "1N4mzY7l_fji"
      },
      "source": [
        "#### EJERCICIO 56"
      ]
    },
    {
      "cell_type": "code",
      "metadata": {
        "id": "t6ginBV__fjk"
      },
      "source": [
        "p, D, rhs, a_vals = polinomio_generico(lista_condiciones=[[(0, 1), (0.3, 0.001)], [(0.1, -10/3), (0.2, -10/3)]])\n",
        "p"
      ],
      "execution_count": null,
      "outputs": []
    },
    {
      "cell_type": "markdown",
      "metadata": {
        "id": "nsczYjyg_fjl"
      },
      "source": [
        "#### EJERCICIO 50"
      ]
    },
    {
      "cell_type": "code",
      "metadata": {
        "id": "fdhTR07i_fjm"
      },
      "source": [
        "p, D, rhs, a_vals = polinomio_generico(lista_condiciones=[[(1, -1), (2, -3), (5, 3)], [(1, -3), (2, -1), (5, 2)]])\n",
        "p"
      ],
      "execution_count": null,
      "outputs": []
    },
    {
      "cell_type": "code",
      "metadata": {
        "id": "GRxVZ0zJ_fjn"
      },
      "source": [
        "p.subs(x, 1), p.subs(x, 2), p.subs(x, 5)"
      ],
      "execution_count": null,
      "outputs": []
    },
    {
      "cell_type": "code",
      "metadata": {
        "id": "8cT2qT39_fjo"
      },
      "source": [
        "p.diff(x).subs(x, 1), p.diff(x).subs(x, 2), p.diff(x).subs(x, 5)"
      ],
      "execution_count": null,
      "outputs": []
    },
    {
      "cell_type": "markdown",
      "metadata": {
        "id": "vTNLZg4E_fjp"
      },
      "source": [
        "#### EJERCICIO 51"
      ]
    },
    {
      "cell_type": "code",
      "metadata": {
        "id": "BkPppdjU_fjp"
      },
      "source": [
        "p, D, rhs, a_vals = polinomio_generico(lista_condiciones=[[(-3, 1), (3, 1)], [(1, 2), (-3, 1)]])\n",
        "p"
      ],
      "execution_count": null,
      "outputs": []
    },
    {
      "cell_type": "markdown",
      "metadata": {
        "id": "8SAgBr8c_fjq"
      },
      "source": [
        "#### Conclusión"
      ]
    },
    {
      "cell_type": "markdown",
      "metadata": {
        "id": "TW5ALRpH_fjs"
      },
      "source": [
        "Vamos a extender los límites de este algoritmo con alguna función específica, como la de Runge, y ver si conseguimos alguna interpolación mejor, empleando valores de la función, valores de la primera derivada y valores de la segunda derivada. Para el sampleo de nodos, vamos a tomar los nodos de manera equidistante, y con los nodos del polinomio de Chebyshev.\n",
        "\n",
        "Por tanto, vamos a tener 6 condiciones: el uso de $f$, $f'$ y $f''$, y nodos equidistantes o por Chebyshev."
      ]
    },
    {
      "cell_type": "code",
      "metadata": {
        "id": "aeUC2qbK_fjs"
      },
      "source": [
        "I = [-5, 5]\n",
        "n = 11\n",
        "f = 1 / (1 + x ** 2)\n",
        "\n",
        "fdiff = f.diff(x)\n",
        "fdiff2 = fdiff.diff(x)"
      ],
      "execution_count": null,
      "outputs": []
    },
    {
      "cell_type": "code",
      "metadata": {
        "id": "jJr0-1F5_fjt"
      },
      "source": [
        "x_equi = np.linspace(I[0], I[1], n)\n",
        "x_chev = [N(i, 1) for i in roots_chebyshev(n, I=I)]"
      ],
      "execution_count": null,
      "outputs": []
    },
    {
      "cell_type": "code",
      "metadata": {
        "id": "x1JQHHGr_fju"
      },
      "source": [
        "p_equi_f, D, rhs, a_vals = polinomio_generico(lista_condiciones=[[(i, f.subs(x, i)) for i in x_equi], ])\n",
        "p_equi_fdiff, D, rhs, a_vals = polinomio_generico(lista_condiciones=[[(i, f.subs(x, i)) for i in x_equi], [(i, fdiff.subs(x, i)) for i in x_equi]])\n",
        "p_equi_fdiff2, D_equi, rhs, a_vals = polinomio_generico(lista_condiciones=[[(i, f.subs(x, i)) for i in x_equi], [(i, fdiff.subs(x, i)) for i in x_equi], \n",
        "                                                                      [(i, fdiff2.subs(x, i)) for i in x_equi]])"
      ],
      "execution_count": null,
      "outputs": []
    },
    {
      "cell_type": "code",
      "metadata": {
        "id": "fP8p00Yd_fju"
      },
      "source": [
        "p_chev_f, D, rhs, a_vals = polinomio_generico(lista_condiciones=[[(i, f.subs(x, i)) for i in x_chev], ])\n",
        "p_chev_fdiff, D, rhs, a_vals = polinomio_generico(lista_condiciones=[[(i, f.subs(x, i)) for i in x_chev], [(i, fdiff.subs(x, i)) for i in x_chev]])\n",
        "p_chev_fdiff2, D_chev, rhs, a_vals = polinomio_generico(lista_condiciones=[[(i, f.subs(x, i)) for i in x_chev], [(i, fdiff.subs(x, i)) for i in x_chev], \n",
        "                                                                      [(i, fdiff2.subs(x, i)) for i in x_chev]])"
      ],
      "execution_count": null,
      "outputs": []
    },
    {
      "cell_type": "markdown",
      "metadata": {
        "id": "OpXwDvVi_fjv"
      },
      "source": [
        "Vamos a ver cómo se comportan p, p', y p'' cuando derivamos f. Recordemos que p_equi_f debería cumplir que p = f para los puntos de interés, pero no p = f' o p = f''. Con p_equi_fdiff2, sin embargo, se tiene que cumplir que p = f, p' = f' y p'' = f''.\n",
        "\n",
        "Empleamos los nodos equidistantes para la visualización porque para la chebyshev las matrices devuelven inversas muy instables y los polinomios no salen correctamente."
      ]
    },
    {
      "cell_type": "code",
      "metadata": {
        "id": "w9yVmfNE_fjw"
      },
      "source": [
        "fig, axs = plt.subplots(3, 3, figsize=(9, 9))\n",
        "\n",
        "x_range = np.linspace(I[0], I[1], 250)\n",
        "\n",
        "list_f = [f, fdiff, fdiff2]\n",
        "list_p = [p_equi_f, p_equi_fdiff, p_equi_fdiff2]\n",
        "\n",
        "list_p_label_row = [\"p0\", \"p1\", \"p2\"]\n",
        "list_p_label_col = [\"\", \"'\", \"''\"]\n",
        "\n",
        "y_list_label = [\"f\", \"f'\", \"f''\"]\n",
        "\n",
        "for ax_row in range(3):\n",
        "    for ax_col in range(3):\n",
        "        p = list_p[ax_row]\n",
        "        for _ in range(ax_col):\n",
        "            p = p.diff(x)\n",
        "        \n",
        "        axs[ax_row][ax_col].scatter(x_equi, [list_f[ax_col].evalf(subs={x: S(i)}) for i in x_equi])\n",
        "        axs[ax_row][ax_col].plot(x_range, [list_f[ax_col].evalf(subs={x: S(i)}) for i in x_range], label=y_list_label[ax_col], c='#bcbcbc')\n",
        "        axs[ax_row][ax_col].plot(x_range, [p.evalf(subs={x: S(i)}) for i in x_range], \n",
        "                                 label=list_p_label_row[ax_row]+list_p_label_col[ax_col], c='#000080')\n",
        "        \n",
        "        min_y, max_y = float(np.min([list_f[ax_col].evalf(subs={x: S(i)}) for i in x_range])), float(np.max([list_f[ax_col].evalf(subs={x: S(i)}) for i in x_range]))\n",
        "        axs[ax_row][ax_col].set_ylim(bottom=min_y - 0.3 * (max_y - min_y), top=max_y + 0.3 * (max_y - min_y))\n",
        "        axs[ax_row][ax_col].legend()\n",
        "plt.tight_layout()"
      ],
      "execution_count": null,
      "outputs": []
    },
    {
      "cell_type": "markdown",
      "metadata": {
        "id": "GM8awWML_fjx"
      },
      "source": [
        "Vemos que, a costa de hacer el polinomio más complejo y, a la vez más inestable, conseguimos que las condiciones de la primera y segunda derivadas vayan cumpliéndose. En tal caso, igual conviene tomar menos nodos para evitar tener polinomios tan complejos. "
      ]
    },
    {
      "cell_type": "markdown",
      "metadata": {
        "id": "vdywKSJx_fjz"
      },
      "source": [
        "## Método de esplines cúbicos\n",
        "\n",
        "Los esplines son funciones de interpolación muy útiles porque dan un resultado continuo y doblemente derivable (clase $C^2$) para una serie de puntos $a = x_0 < x_1 < \\cdots < x_{n-1} < x_n = b$. Esto es muy util en casos como el de antes, donde un polinomio para varios nodos puede dar un resultado inestable o difícil de computar. Los esplines son $n-1$ polinomios cúbicos que satisfacen la siguiente expresión:\n",
        "\n",
        "$$S_i(x) = d_i + c_i(x-x_i) + b_i(x-x_i)^2 + a_i(x-x_i)^3$$\n",
        "\n",
        "Obviamente, cada valor $d_i = f(x_i)$. En total tenemos $3(n-1)$ coeficientes que determinar, por lo que necesitamos un sistema de $3(n-1)$ ecuaciones. Para ello establecemos las siguientes condiciones:\n",
        "* $S_i(x_{i+1}) = y_{i+1}$, de manera que se satisface la continuidad entre esplines.\n",
        "* $S_i'(x_{i+1}) = S_{i+1}'(x_{i+1})$, de manera que se satisface que la pendiente es la misma entre dos esplines contiguos, y no hay puntos angulosos entre todos los esplines.\n",
        "* $S_i''(x_{i+1}) = S_{i+1}''(x_{i+1})$, lo cual garantiza también una continuidad de la segunda derivada.\n",
        "\n",
        "En este punto nos quedan dos sistemas de ecuaciones para llegar al deseado. Para ello podemos establecer las condiciones del primer y último esplín. En el caso más clásico, el esplín natural, $s_0''(x_0) = x_{n-1}''(x_n) = 0$.\n",
        "\n",
        "Para determinar los valores $a_i, b_i, c_i$ vamos a resolver el siguiente sistema:\n",
        "$$\n",
        "\\begin{bmatrix}\n",
        "r_0 & 2 & 1-r_0 & \\cdots & 0 & 0 & 0 \\\\\n",
        "0 & r_1 & 2 & \\cdots & 0 & 0 & 0 \\\\\n",
        "\\vdots & \\vdots & \\vdots & \\ddots & \\vdots & \\vdots & \\vdots \\\\\n",
        "0 & 0 & 0 & \\cdots & 2  & 1-r_{n-3} & 0 \\\\\n",
        "0 & 0 & 0 & \\cdots & r_{n-2} & 2 & 1-r_{n-2} \\\\\n",
        "\\end{bmatrix}_{n-2 \\times n}\n",
        "\\begin{bmatrix}\n",
        "z_0\\\\\n",
        "z_1\\\\\n",
        "\\vdots\\\\\n",
        "z_n\\\\\n",
        "\\end{bmatrix}_{n\\times 1} = \n",
        "6\\begin{bmatrix}\n",
        "f[x_0, x_1, x_2]\\\\\n",
        "f[x_1, x_2, x_3]\\\\\n",
        "\\vdots\\\\\n",
        "f[x_{n-2}, x_{n-1}, x_n]\\\\\n",
        "\\end{bmatrix}_{n-2\\times 1}\n",
        "$$\n",
        "\n",
        "Como el sistema de ecuaciones es indeterminado (hay 2 incógnitas más que ecuaciones), vamos imponer las condiciones de esplín natural, resultando en:\n",
        "\n",
        "$$\n",
        "\\begin{bmatrix}\n",
        "2 & 1-r_0 & \\cdots & 0 & 0\\\\\n",
        "r_1 & 2 & \\cdots & 0 & 0\\\\\n",
        "\\vdots & \\vdots & \\ddots & \\vdots & \\vdots\\\\\n",
        "0 & 0 & \\cdots & 2  & 1-r_{n-3}\\\\\n",
        "0 & 0 & \\cdots & r_{n-2} & 2\\\\\n",
        "\\end{bmatrix}_{n-2 \\times n-2}\n",
        "\\begin{bmatrix}\n",
        "z_1\\\\\n",
        "\\vdots\\\\\n",
        "z_{n-1}\\\\\n",
        "\\end{bmatrix}_{n-2\\times 1} = \n",
        "6\\begin{bmatrix}\n",
        "f[x_0, x_1, x_2]\\\\\n",
        "f[x_1, x_2, x_3]\\\\\n",
        "\\vdots\\\\\n",
        "f[x_{n-2}, x_{n-1}, x_n]\\\\\n",
        "\\end{bmatrix}_{n-2\\times 1}\n",
        "$$\n",
        "\n",
        "En este sistema, definimos $r_i  = \\frac{h_i}{h_i + h_{i+1}}$ donde $h_i = x_{i+1} - x_i$. Los valores $a_i, b_i, c_i$ se obtienen a partir de las siguientes relaciones con $z$:\n",
        "* $a_i = \\frac{z_{i+1} - z_i}{6h_i}$\n",
        "* $b_i = \\frac{z_i}{2}$\n",
        "* $c_i = \\frac{y_{i+1} - y_i}{h_i} - \\frac{2z_i + z_{i+1}}{6}h_i$\n",
        "\n",
        "Y los valores $f[x_i, x_{i+1}, x_{i+2}]$ los obtenemos con el método de Newton."
      ]
    },
    {
      "cell_type": "code",
      "metadata": {
        "id": "0YqAjTn4_fj1"
      },
      "source": [
        "help(esplines)"
      ],
      "execution_count": null,
      "outputs": []
    },
    {
      "cell_type": "code",
      "metadata": {
        "id": "kv4rI3Gx_fj2"
      },
      "source": [
        "x_vals, y_vals = [0, 0.25, 0.5, 0.75, 1], [0, 0.7071, 1, 0.7071, 0]"
      ],
      "execution_count": null,
      "outputs": []
    },
    {
      "cell_type": "code",
      "metadata": {
        "id": "WBfJ_jcq_fj4"
      },
      "source": [
        "S_dict, valores, D, z, rhs = esplines(x_vals, y_vals)"
      ],
      "execution_count": null,
      "outputs": []
    },
    {
      "cell_type": "code",
      "metadata": {
        "id": "WBqtBDOc_fj5"
      },
      "source": [
        "valores"
      ],
      "execution_count": null,
      "outputs": []
    },
    {
      "cell_type": "code",
      "metadata": {
        "id": "qaHpgzAI_fj5"
      },
      "source": [
        "plt.scatter(x_vals, y_vals)\n",
        "for i in range(len(x_vals) - 1):\n",
        "    p = S_dict[f'S_{i}']\n",
        "    x_range = np.linspace(x_vals[i], x_vals[i+1], 100)\n",
        "    y_range = [p.subs(x, x_i) for x_i in x_range]\n",
        "    \n",
        "    plt.plot(x_range, y_range)"
      ],
      "execution_count": null,
      "outputs": []
    },
    {
      "cell_type": "markdown",
      "metadata": {
        "id": "M9BV90TK_fj6"
      },
      "source": [
        "Ahora vamos a aproximar la función de runge por esplines"
      ]
    },
    {
      "cell_type": "code",
      "metadata": {
        "id": "T15YbeEB_fj7"
      },
      "source": [
        "f = 1 / (1 + x ** 2)\n",
        "I = [-5, 5]\n",
        "n = 9\n",
        "x_vals = np.linspace(I[0], I[1], n)\n",
        "y_vals = [f.subs(x, xi) for xi in x_vals]"
      ],
      "execution_count": null,
      "outputs": []
    },
    {
      "cell_type": "code",
      "metadata": {
        "id": "aZg4sMkj_fj7"
      },
      "source": [
        "S_dict, valores, D, z, rhs = esplines(x_vals, y_vals)"
      ],
      "execution_count": null,
      "outputs": []
    },
    {
      "cell_type": "code",
      "metadata": {
        "id": "v2z4D2q6_fj9"
      },
      "source": [
        "plt.scatter(x_vals, y_vals)\n",
        "plt.plot(np.linspace(I[0], I[1], 250), [f.subs(x, xi) for xi in np.linspace(I[0], I[1], 250)])\n",
        "for i in range(len(x_vals) - 1):\n",
        "    p = S_dict[f'S_{i}']\n",
        "    x_range = np.linspace(x_vals[i], x_vals[i+1], 100)\n",
        "    y_range = [p.subs(x, x_i) for x_i in x_range]\n",
        "    \n",
        "    plt.plot(x_range, y_range)"
      ],
      "execution_count": null,
      "outputs": []
    },
    {
      "cell_type": "markdown",
      "metadata": {
        "id": "QfWFnbmT_fj9"
      },
      "source": [
        "Vemos que la aproximación por esplines mapea muy bien para valores de 11 en adelante."
      ]
    },
    {
      "cell_type": "markdown",
      "metadata": {
        "id": "X3xueUAxDzTd"
      },
      "source": [
        "## Ejercicios"
      ]
    },
    {
      "cell_type": "markdown",
      "metadata": {
        "id": "LFRAF5CuDzjs"
      },
      "source": [
        "### Ejercicio 53\n",
        "Estimar el error que se comete al calcular $e^{\\sqrt{x}}$ interpolando el valor de la función en dos puntos $x_0$ y $x_1$ arbitrarios en el intervalo $[1, 2]$."
      ]
    },
    {
      "cell_type": "markdown",
      "metadata": {
        "id": "z9gpSeBXECtb"
      },
      "source": [
        "Recordemos que el error viene dado por\n",
        "\n",
        "$$E(x) = f(x) - p_n(x) = \\frac{(x-x_0)(x-x_1)\\cdots(x-x_n)}{(n+1)!}\\max_{t\\in[a,b]}f^{(n+1)}(t)$$\n",
        "\n",
        "En este caso, para dos puntos la fórmula queda como:\n",
        "$$E(x) = \\left\\vert\\frac{(x-x_0)(x-x_1)}{2}\\right\\vert \\left\\vert \\max_{t\\in[1,2]}f''(t) \\right\\vert$$\n",
        "\n",
        "Para ello separamos la parte del polinomio y el de la derivada, que son sus dos a maximizar.\n",
        "\n",
        "La derivada a maximizar es:"
      ]
    },
    {
      "cell_type": "code",
      "metadata": {
        "id": "LH9MaA6-Dyw_"
      },
      "source": [
        "f = E ** sqrt(x)\n",
        "ff = factor(f.diff(x).diff(x))\n",
        "ff"
      ],
      "execution_count": null,
      "outputs": []
    },
    {
      "cell_type": "code",
      "metadata": {
        "id": "Jo4kmJsFIEA2"
      },
      "source": [
        "N(ff.subs(x, 2))"
      ],
      "execution_count": null,
      "outputs": []
    },
    {
      "cell_type": "markdown",
      "metadata": {
        "id": "-m6uJNRcHoYO"
      },
      "source": [
        "Como $x\\sqrt{x} > x$ para $x > 0$, la función derivada es monótona creciente en el intervalo. Por tanto, \n",
        "$$\\left\\vert \\max_{t\\in[1,2]}f''(t) \\right\\vert < \\left\\vert f''(2)  \\right\\vert < 0.1506$$"
      ]
    },
    {
      "cell_type": "code",
      "metadata": {
        "id": "3xvIiRkoHRzy"
      },
      "source": [
        "x_r = np.linspace(1, 2, 100)\n",
        "plt.plot(x_r, [ff.subs(x, i) for i in x_r])"
      ],
      "execution_count": null,
      "outputs": []
    },
    {
      "cell_type": "markdown",
      "metadata": {
        "id": "o_P650yAH6qZ"
      },
      "source": [
        "Por otro lado, para  $\\max_{t\\in[1,2]}\\left\\vert(t-x_0)(t-x_1)\\right\\vert$ tenemos que \n",
        "\n",
        "$$\\max_{t\\in[1,2]}\\left\\vert(t-x_0)(t-x_1)\\right\\vert = \n",
        "\\max_{t\\in[1,2]}\\left\\vert t^2 - 2t(x_0 + x_1) + x_0x_1\\right\\vert  \\rightarrow_{t = \\frac{x_0+x_1}{2}} \\rightarrow\\left(\\frac{x_0+x_1}{2}-x_0\\right)\\left(x_1 - \\frac{x_0+x_1}{2}\\right) = \n",
        "\\left(\\frac{x_1-x_0}{2}\\right)\\left(\\frac{x_1 - x_0}{2}\\right) = \\left(\\frac{x_1 - x_0}{2}\\right)^2 \\le \\frac{1}{4} $$ \n",
        "\n",
        "Pues la máxima diferencia sucede con $x_1 = 2, x_0 = 1$.\n",
        "\n",
        "Por tanto, $|E(x)| \\le \\frac{1}{2}\\frac{1}{4} 0.1506 = 0.018825 $\n",
        "\n"
      ]
    },
    {
      "cell_type": "code",
      "metadata": {
        "id": "J3vZioPvN0bF"
      },
      "source": [
        "help(polinomio_lagrange)"
      ],
      "execution_count": null,
      "outputs": []
    },
    {
      "cell_type": "code",
      "metadata": {
        "id": "DWbTpVdsLz1y"
      },
      "source": [
        "error_lagrange(E**sqrt(x), [Symbol('x_0'), Symbol('x_1')], I=[1,2])  # Asegurate de que el máximo de la derivada para el grado no es infinito!!!!"
      ],
      "execution_count": null,
      "outputs": []
    },
    {
      "cell_type": "markdown",
      "metadata": {
        "id": "qoGMy-mWUxSY"
      },
      "source": [
        "### Ejercicio 55\n",
        "Construir el polinomio de interpolación de la función de Heaviside en los nodos $[-1, -1/2, -1/3, 0, 1/3, 1/2, 1]$"
      ]
    },
    {
      "cell_type": "code",
      "metadata": {
        "id": "LlV03jhZUweA"
      },
      "source": [
        "def heaviside(x):\n",
        "    if x < 0:\n",
        "        return 0\n",
        "    else:\n",
        "        return 1"
      ],
      "execution_count": null,
      "outputs": []
    },
    {
      "cell_type": "code",
      "metadata": {
        "id": "cegLbQxdVCcc"
      },
      "source": [
        "x_vals = [-S(1), -S(1)/S(2), -S(1)/S(3), 0, S(1)/S(3), S(1)/S(2), S(1)]\n",
        "y_vals = [heaviside(i) for i in x_vals]\n",
        "y_vals"
      ],
      "execution_count": null,
      "outputs": []
    },
    {
      "cell_type": "code",
      "metadata": {
        "id": "oSISH6hDVR2T"
      },
      "source": [
        "pol, mat = polinomio_newton(x_vals, y_vals)\n",
        "expand(pol, frac=True)"
      ],
      "execution_count": null,
      "outputs": []
    },
    {
      "cell_type": "code",
      "metadata": {
        "id": "p-jJbKV3VfKZ"
      },
      "source": [
        "mat"
      ],
      "execution_count": null,
      "outputs": []
    },
    {
      "cell_type": "markdown",
      "metadata": {
        "id": "JPsiloD4VPx0"
      },
      "source": [
        "### Ejercicio 56\n",
        "La función $y=f(x)$ es conocida solamente en los siguientes valores:\n",
        "$$\n",
        "f(0)=1, \\quad f^{\\prime}(0.1)=-\\frac{10}{3}, \\quad f^{\\prime}(0.2)=-\\frac{10}{3}, \\quad f(0.3)=0.001 .\n",
        "$$\n",
        "Esta función tiene un punto de inflexión en el intervalo $0<x<0.3$. Calcular una aproximación de la abscisa de dicho punto usando interpolación mediante polinomios."
      ]
    },
    {
      "cell_type": "code",
      "metadata": {
        "id": "hDUUUf8xXRa_"
      },
      "source": [
        "p, D, rhs, a_vals = polinomio_generico(lista_condiciones=[[(S(0), S(1)), (S(0.3), S(0.001))], [(S(0.1), -S(10)/S(3)), (S(0.2), -S(10)/S(3))]])\n",
        "nsimplify(p, tolerance=0.001, full=True)"
      ],
      "execution_count": null,
      "outputs": []
    },
    {
      "cell_type": "code",
      "metadata": {
        "id": "ZtJfcmwWXng3"
      },
      "source": [
        "D"
      ],
      "execution_count": null,
      "outputs": []
    },
    {
      "cell_type": "code",
      "metadata": {
        "id": "Bp_P-0g2XnkC"
      },
      "source": [
        "rhs"
      ],
      "execution_count": null,
      "outputs": []
    },
    {
      "cell_type": "code",
      "metadata": {
        "id": "hVJAvn-vXnm_"
      },
      "source": [
        "nsimplify(a_vals, tolerance=0.001, full=True)"
      ],
      "execution_count": null,
      "outputs": []
    },
    {
      "cell_type": "markdown",
      "metadata": {
        "id": "nD93iO8HhKWH"
      },
      "source": [
        "### Ejercicios 58\n",
        "Dada la siguiente tabla de valores:\n",
        "$$\n",
        "\\begin{matrix}\n",
        "x & 0 & 1 & 2 & 3 & 4 \\\\\n",
        "f(x) & 0 & 0 & 2 & 4 & 6\n",
        "\\end{matrix}\n",
        "$$\n",
        "calcular el esplin cúbico natural de interpolación a estos datos en el intervalo $[0,1] .$"
      ]
    },
    {
      "cell_type": "code",
      "metadata": {
        "id": "xk7je1b7jdag"
      },
      "source": [
        "x_vals, y_vals = [S(i) for i in [0, 1, 2, 3, 4]], [S(i) for i in [0, 0, 2, 4, 6]]"
      ],
      "execution_count": null,
      "outputs": []
    },
    {
      "cell_type": "code",
      "metadata": {
        "id": "hCrHkfPpjda4"
      },
      "source": [
        "S_dict, valores, D, z, rhs = esplines(x_vals, y_vals)"
      ],
      "execution_count": null,
      "outputs": []
    },
    {
      "cell_type": "code",
      "metadata": {
        "id": "EWE-8Krajl59"
      },
      "source": [
        "S_dict"
      ],
      "execution_count": null,
      "outputs": []
    },
    {
      "cell_type": "code",
      "metadata": {
        "id": "odFB-fVBjrmr"
      },
      "source": [
        "valores"
      ],
      "execution_count": null,
      "outputs": []
    },
    {
      "cell_type": "code",
      "metadata": {
        "id": "BsOWBLiMjr3p"
      },
      "source": [
        "D"
      ],
      "execution_count": null,
      "outputs": []
    },
    {
      "cell_type": "code",
      "metadata": {
        "id": "LBjEKoJKj03y"
      },
      "source": [
        "z"
      ],
      "execution_count": null,
      "outputs": []
    },
    {
      "cell_type": "code",
      "metadata": {
        "id": "BMkuQW1Zj1Ed"
      },
      "source": [
        "rhs"
      ],
      "execution_count": null,
      "outputs": []
    }
  ]
}