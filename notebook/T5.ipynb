{
 "cells": [
  {
   "cell_type": "markdown",
   "metadata": {
    "colab_type": "text",
    "id": "view-in-github"
   },
   "source": [
    "<a href=\"https://colab.research.google.com/github/alexmascension/ANMI/blob/main/notebook/T5.ipynb\" target=\"_parent\"><img src=\"https://colab.research.google.com/assets/colab-badge.svg\" alt=\"Open In Colab\"/></a>"
   ]
  },
  {
   "cell_type": "markdown",
   "metadata": {
    "id": "Vf3GioQwcepr"
   },
   "source": [
    "# Tema 5: Interpolación de funciones"
   ]
  },
  {
   "cell_type": "code",
   "execution_count": null,
   "metadata": {
    "id": "1hDZNaYFX936"
   },
   "outputs": [],
   "source": [
    "!pip install -r https://raw.githubusercontent.com/alexmascension/ANMI/main/requirements.txt"
   ]
  },
  {
   "cell_type": "code",
   "execution_count": null,
   "metadata": {
    "id": "dYo_JGn2TSxC"
   },
   "outputs": [],
   "source": [
    "from sympy import *\n",
    "from sympy.matrices import Matrix as mat\n",
    "from sympy.matrices import randMatrix\n",
    "from sympy import symbols\n",
    "import sympy\n",
    "\n",
    "import numpy as np\n",
    "from tqdm import tqdm\n",
    "\n",
    "from scipy.linalg import orth\n",
    "\n",
    "from matplotlib import pyplot as plt\n",
    "import matplotlib as mpl\n",
    "mpl.rcParams['figure.dpi'] = 150"
   ]
  },
  {
   "cell_type": "code",
   "execution_count": null,
   "metadata": {
    "id": "l-V6kF8_X937"
   },
   "outputs": [],
   "source": [
    "from anmi.genericas import norma_p_func, norma_inf_func, matriz_inversa"
   ]
  },
  {
   "cell_type": "code",
   "execution_count": null,
   "metadata": {},
   "outputs": [],
   "source": [
    "x, y, z, a, lambda_ = symbols('x'), symbols('y'), symbols('z'), symbols('a'), symbols('lambda')"
   ]
  },
  {
   "cell_type": "markdown",
   "metadata": {},
   "source": [
    "Dado un conjunto de puntos (nodos) $x_0, x_1, \\cdots, x_m$ podemos crear un polinomio $p$ que aproxime la función $f$ y que cumpla que $p(x_i) = f(x_i)$ para todo nodo. Existen varias situaciones de interpolación:\n",
    "* El número de nodos menos 1, $m-1$ es MAYOR que el máximo grado de polinomios, $n$.\n",
    "* El número de nodos menos 1, $m-1$ es IGUAL que el máximo grado de polinomios, $n$.\n",
    "* El número de nodos menos 1, $m-1$ es MENOR que el máximo grado de polinomios, $n$.\n",
    "\n",
    "En este capítulo nos centraremos cuando $m - 1 = n$."
   ]
  },
  {
   "cell_type": "markdown",
   "metadata": {},
   "source": [
    "## Interpolación de Lagrange\n",
    "\n",
    "En esta interpolación empleamos un conjunto de funciones $L = \\{l_0, l_1, \\cdots, l_n\\}$ correspondiente a los $n+1$ nodos $\\{x_i:i = 0, 1, \\cdots, n\\}$. Cada $l_i$ se define como\n",
    "\n",
    "$$l_i(x) = \\prod_{k = 0 \\neq i}\\frac{x - x_k}{x_i - x_k}$$\n",
    "\n",
    "Y así el polinomio resultante es\n",
    "\n",
    "$$p(x) = \\sum_{i=0}^n l_i(x)f(x_i)$$\n",
    "\n",
    "Donde $f(x_i)$ es el valor de la función $f$ en $x_i$."
   ]
  },
  {
   "cell_type": "code",
   "execution_count": null,
   "metadata": {},
   "outputs": [],
   "source": [
    "def polinomio_lagrange(x_vals, y_vals, var=x):\n",
    "    lista_L, p, n = [], S(0), len(x_vals)\n",
    "    for i in range(n):\n",
    "        li = S(1)\n",
    "        for k in range(n):\n",
    "            if k != i:\n",
    "                li *= (var - x_vals[k])/(x_vals[i] - x_vals[k])\n",
    "        \n",
    "        lista_L.append(li)\n",
    "        p += y_vals[i] * li\n",
    "    \n",
    "    return p, lista_L"
   ]
  },
  {
   "cell_type": "code",
   "execution_count": null,
   "metadata": {},
   "outputs": [],
   "source": [
    "f = E**(sin(4*x))\n",
    "I = [0, 1]\n",
    "x_vals = np.linspace(I[0], I[1], 4)\n",
    "y_vals = [f.evalf(subs={x: S(i)}) for i in x_vals]"
   ]
  },
  {
   "cell_type": "code",
   "execution_count": null,
   "metadata": {},
   "outputs": [],
   "source": [
    "p, lista_L = polinomio_lagrange(x_vals, y_vals)"
   ]
  },
  {
   "cell_type": "code",
   "execution_count": null,
   "metadata": {},
   "outputs": [],
   "source": [
    "expand(p)"
   ]
  },
  {
   "cell_type": "code",
   "execution_count": null,
   "metadata": {},
   "outputs": [],
   "source": [
    "x_range = np.linspace(I[0], I[1], 100)\n",
    "y_real = [f.subs(x, i) for i in x_range]\n",
    "y_pol = [expand(p).subs(x, i) for i in x_range]\n",
    "\n",
    "\n",
    "plt.plot(x_range, y_real, label=f'{f}')\n",
    "plt.scatter(x_vals, y_vals, c=\"#800000\")\n",
    "plt.plot(x_range, y_pol, label='interpolacion', c=\"#bcbcbc\")\n",
    "\n",
    "plt.legend()"
   ]
  },
  {
   "cell_type": "markdown",
   "metadata": {},
   "source": [
    "Ahora ploteamos cada una de las funciones"
   ]
  },
  {
   "cell_type": "code",
   "execution_count": null,
   "metadata": {},
   "outputs": [],
   "source": [
    "x_range = np.linspace(I[0], I[1], 100)\n",
    "y_pol = [expand(p).subs(x, i) for i in x_range]\n",
    "y_real = [f.subs(x, i) for i in x_range]\n",
    "\n",
    "\n",
    "for p_i, pl in enumerate(lista_L):\n",
    "    y_l = [expand(pl).subs(x, i) * y_vals[p_i] for i in x_range]\n",
    "    plt.plot(x_range, y_l, label=f'$l_{p_i}$')\n",
    "    plt.scatter(x_vals[p_i], y_vals[p_i])\n",
    "\n",
    "plt.plot(x_range, y_real, label=f'{f}')\n",
    "plt.plot(x_range, y_pol, label='interpolacion', c=\"#bcbcbc\")\n",
    "\n",
    "plt.legend(bbox_to_anchor=(1.05, 0.5))"
   ]
  },
  {
   "cell_type": "markdown",
   "metadata": {},
   "source": [
    "## Método de Newton\n",
    "El método de Lagrange, aunque da un polinomio único, tiene una serie de problemas. En primer lugar, aunque computacionalmente no parezca complejo, el cálculo de coeficientes es tedioso y poco práctico para ciertas funciones. Además, si queremos añadir un nuevo nodo, tenemos que recalcular todas las funciones de Lagrange para el polinomio nuevo, lo cual lo vuelve bastante impráctico. \n",
    "\n",
    "Con el método de Newton solventamos las problemáticas estableciendo un método iterativo que incorpora un nodo por vez.\n",
    "\n",
    "En el método se aplican los siguiqntes cálculos:\n",
    "\n",
    "$$\n",
    "\\begin{matrix}\n",
    "x_0 & \\color{blue}{f(x_0)} & & \\\\\n",
    "  & & \\color{blue}{\\frac{f(x_1) - f(x_0)}{x_1 - x_0}} & \\\\\n",
    "x_1   & f(x_1) & & \\color{blue}{\\frac{\\frac{f(x_2) - f(x_1)}{x_2 - x_1} - \\frac{f(x_1) - f(x_0)}{x_1 - x_0}}{x_2 - x_0}}\\\\\n",
    "    & & \\frac{f(x_2) - f(x_1)}{x_2 - x_1}& \\\\\n",
    "x_2     &f(x_2) & & \\\\\n",
    "\\vdots     & \\vdots & & \\\\\n",
    "x_{n-1}     &f(x_{n-1}) & & \\\\\n",
    "& & \\frac{f(x_n) - f(x_{n-1})}{x_n - x_{n-1}} & \\\\\n",
    "x_n     &f(x_n) & & \\\\\n",
    "\\end{matrix}\n",
    "$$\n",
    "\n",
    "O de manera compacta:\n",
    "$$\n",
    "\\begin{matrix}\n",
    "x_0 & \\color{blue}{f(x_0)} & & \\\\\n",
    "  & & \\color{blue}{f[x_0, x_1]} & \\\\\n",
    "x_1   & f(x_1) & & \\color{blue}{f[x_0, x_1, x_2]}\\\\\n",
    "    & & \\color{blue}{f[x_1, x_2]}& \\\\\n",
    "x_2     &f(x_2) & & \\\\\n",
    "\\vdots     & \\vdots & & \\\\\n",
    "x_{n-1}     &f(x_{n-1}) & & \\\\\n",
    "& & \\color{blue}{f[x_{n-1}, x_n]} & \\\\\n",
    "x_n     &f(x_n) & & \\\\\n",
    "\\end{matrix}\n",
    "$$ \n",
    "Con\n",
    "$$f[x_a, x_{a+1}, \\cdots, x_j] = \\frac{f[x_{a+1}, x_{a + 2}, \\cdots, x_j] - f[x_{a}, x_{a+1}, \\cdots, x_{j-1}]}{x_j - x_a}$$\n",
    "Si denominamos $a_0, a_1, \\cdots, a_n$ a los monomios en azul ($a_0 = f(x_0)$, $a_1 = \\frac{f(x_1) - f(x_0)}{x_1 - x_0}$, etc.) entonces el polinomio de Newton se construye como:\n",
    "$$p_n(x) = a_0 + a_1(x - x_0) + a_2(x - x_0)(x - x_1) + \\cdots + a_n(x - x_0)(x - x_1)\\cdots(x - x_{n-1})$$\n"
   ]
  },
  {
   "cell_type": "code",
   "execution_count": null,
   "metadata": {},
   "outputs": [],
   "source": [
    "def polinomio_newton(x_vals, y_vals, var=x, evalf=None):\n",
    "    matriz_coeffs = zeros(len(y_vals), len(y_vals))\n",
    "    for i in range(len(y_vals)): # Asignamos la primera columna como f(x)\n",
    "        matriz_coeffs[i,0] = y_vals[i]\n",
    "    \n",
    "    for col in range(1, len(y_vals)):\n",
    "        for row in range(len(y_vals) - col):\n",
    "            num = matriz_coeffs[row + 1, col - 1] - matriz_coeffs[row, col - 1]\n",
    "            den = x_vals[row + col] - x_vals[row]\n",
    "        \n",
    "            matriz_coeffs[row, col] = num / den\n",
    "    \n",
    "    matriz_coeffs = nsimplify(matriz_coeffs,tolerance=1e-10,rational=True)  # Esto es importante para quitar valores de redondeo\n",
    "    if evalf is not None: # si evalf es un numero redondea a ese numero de decimales\n",
    "        matriz_coeffs = matriz_coeffs.evalf(evalf)\n",
    "        \n",
    "    # Aqui hacemos el polinomio\n",
    "    p = matriz_coeffs[0, 0]\n",
    "    for col in range(1, len(y_vals)):\n",
    "        p_col = S(1)\n",
    "        for i in range(0, col):\n",
    "            p_col *= (var - x_vals[i])\n",
    "        \n",
    "        p += p_col * matriz_coeffs[0, col]\n",
    "    \n",
    "        \n",
    "    return p, matriz_coeffs"
   ]
  },
  {
   "cell_type": "code",
   "execution_count": null,
   "metadata": {},
   "outputs": [],
   "source": [
    "p, mat = polinomio_newton([S(i) for i in [0.1, 0.2, 0.3, 0.4, 0.5, 0.6, 0.7]], [S(i) for i in [0.7, 0.8, 1, 1.15, 1.25, 1.3]], x)\n",
    "mat"
   ]
  },
  {
   "cell_type": "code",
   "execution_count": null,
   "metadata": {},
   "outputs": [],
   "source": [
    "p"
   ]
  },
  {
   "cell_type": "code",
   "execution_count": null,
   "metadata": {},
   "outputs": [],
   "source": [
    "f = E**(sin(4*x))\n",
    "I = [0, 1]\n",
    "x_vals = np.linspace(I[0], I[1], 4)\n",
    "y_vals = [f.evalf(subs={x: S(i)}) for i in x_vals]"
   ]
  },
  {
   "cell_type": "code",
   "execution_count": null,
   "metadata": {},
   "outputs": [],
   "source": [
    "p, mat = polinomio_newton(x_vals, y_vals, x, evalf=5)\n",
    "p"
   ]
  },
  {
   "cell_type": "code",
   "execution_count": null,
   "metadata": {},
   "outputs": [],
   "source": [
    "mat.evalf(4)"
   ]
  },
  {
   "cell_type": "code",
   "execution_count": null,
   "metadata": {},
   "outputs": [],
   "source": [
    "x_range = np.linspace(I[0], I[1], 100)\n",
    "y_real = [f.subs(x, i) for i in x_range]\n",
    "y_pol = [expand(p).subs(x, i) for i in x_range]\n",
    "\n",
    "\n",
    "plt.plot(x_range, y_real, label=f'{f}')\n",
    "plt.scatter(x_vals, y_vals, c=\"#800000\")\n",
    "plt.plot(x_range, y_pol, label='interpolacion', c=\"#bcbcbc\")\n",
    "\n",
    "plt.legend()"
   ]
  },
  {
   "cell_type": "markdown",
   "metadata": {},
   "source": [
    "## Error en la interpolación de Lagrange\n",
    "Dado un polinomio de orden $n$, se tiene que el error máximo viene estimado por la expresión:\n",
    "$$E(x) = f(x) - p_n(x) = \\frac{(x-x_0)(x-x_1)\\cdots(x-x_n)}{(n+1)!}\\max_{t\\in[a,b]}f^{(n+1)}(t)$$"
   ]
  },
  {
   "cell_type": "code",
   "execution_count": null,
   "metadata": {},
   "outputs": [],
   "source": [
    "def error_lagrange(f, x_vals, I, var=x):\n",
    "    E_x_fact = S(1)\n",
    "    for x_val in x_vals:\n",
    "        E_x_fact *= (var - x_val)\n",
    "        \n",
    "    E_x_fact /= factorial(len(x_vals))\n",
    "    \n",
    "    # Ahora derivamos la función n veces\n",
    "    diff_f = f\n",
    "    \n",
    "    for _ in range(len(x_vals)):\n",
    "        diff_f = diff_f.diff(var)\n",
    "        \n",
    "    max_diff_f = maximum(diff_f, var, Interval(I[0], I[1]))\n",
    "    \n",
    "    E_x = E_x_fact *  abs(max_diff_f)\n",
    "    \n",
    "    return E_x"
   ]
  },
  {
   "cell_type": "code",
   "execution_count": null,
   "metadata": {},
   "outputs": [],
   "source": [
    "def error_maximo_estocastico(f, grado, N=1000, list_x_vals=None):\n",
    "    max_error = 0\n",
    "\n",
    "    # Hacemos la funcion por separado porque el cálculo de derivada es costoso y cada iteración de error_lagrange tarda mucho\n",
    "    diff_f = f\n",
    "    for _ in range(grado):\n",
    "        diff_f = diff_f.diff(x)\n",
    "    max_diff_f = maximum(diff_f, x, Interval(I[0], I[1]))\n",
    "    \n",
    "    \n",
    "    for i in tqdm(range(N)):\n",
    "        if list_x_vals is None:\n",
    "            x_list = np.sort(np.random.rand(grado) * (I[1] - I[0]) + I[0])\n",
    "        else:\n",
    "            x_list = list_x_vals\n",
    "            \n",
    "        E_x_fact = S(1) / S(factorial(grado))\n",
    "        for x_val in x_list:\n",
    "            E_x_fact *= (x - x_val)\n",
    "\n",
    "        E_x = lambdify(x, expand(E_x_fact * max_diff_f))  # lambdify es para que la evaluación numérica sea mucho más ágil\n",
    "\n",
    "        x_range = np.linspace(I[0], I[1], int(N/10))\n",
    "        y_f = [E_x(i) for i in x_range]\n",
    "        max_y_f = np.max(abs(np.array(y_f)))\n",
    "\n",
    "        if max_y_f >= max_error:\n",
    "            max_error = max_y_f\n",
    "        \n",
    "        if list_x_vals is not None:\n",
    "            break\n",
    "        \n",
    "    return max_error"
   ]
  },
  {
   "cell_type": "markdown",
   "metadata": {},
   "source": [
    "#### EJERCICIO 48"
   ]
  },
  {
   "cell_type": "code",
   "execution_count": null,
   "metadata": {},
   "outputs": [],
   "source": [
    "f = sqrt(x)\n",
    "I = [0, 2]\n",
    "grado = 4\n",
    "\n",
    "x_vals = [1, 2]\n",
    "y_vals = [f.evalf(subs={x: S(i)}) for i in x_vals]"
   ]
  },
  {
   "cell_type": "code",
   "execution_count": null,
   "metadata": {},
   "outputs": [],
   "source": [
    "error_lagrange(f, np.linspace(I[0], I[1], grado), I)  # Asegurate de que el máximo de la derivada para el grado no es infinito!!!!"
   ]
  },
  {
   "cell_type": "markdown",
   "metadata": {},
   "source": [
    "Este ejercicio lo vamos a resolver de manera aleatoria, usando una simulación. Tenemos que simular el error dados n puntos $x_0$, $x_1$, ..., $x_n$ aleatorios."
   ]
  },
  {
   "cell_type": "code",
   "execution_count": null,
   "metadata": {},
   "outputs": [],
   "source": [
    "max_error = error_maximo_estocastico(f, grado=grado, N=2500)"
   ]
  },
  {
   "cell_type": "code",
   "execution_count": null,
   "metadata": {},
   "outputs": [],
   "source": [
    "print(1/max_error)"
   ]
  },
  {
   "cell_type": "code",
   "execution_count": null,
   "metadata": {},
   "outputs": [],
   "source": [
    "x_vals = np.sort(np.random.rand(grado) * (I[1] - I[0]) + I[0])\n",
    "x_vals = [0, 0.366, 1.333, 2]\n",
    "y_vals = [f.evalf(subs={x: S(i)}) for i in x_vals]\n",
    "\n",
    "p, lista_L = polinomio_lagrange(x_vals, y_vals)\n",
    "\n",
    "x_range = np.linspace(I[0], I[1], 100)\n",
    "y_real = [f.subs(x, i) for i in x_range]\n",
    "y_pol = np.array([expand(p).subs(x, i) for i in x_range])\n",
    "\n",
    "\n",
    "plt.plot(x_range, y_real, label=f'{f}')\n",
    "plt.scatter(x_vals, y_vals, c=\"#800000\")\n",
    "plt.plot(x_range, y_pol, label='interpolacion', c=\"#bcbcbc\")\n",
    "plt.plot(x_range, list(y_pol - (max_error)),  c=\"#bcbcbc\", alpha=0.3)\n",
    "plt.plot(x_range, list(y_pol + (max_error)),  c=\"#bcbcbc\", alpha=0.3)\n",
    "\n",
    "\n",
    "# plt.fill_between(list(x_range), list(y_pol - (max_error/2)), list(y_pol + (max_error/2)))\n",
    "\n",
    "plt.legend()"
   ]
  },
  {
   "cell_type": "markdown",
   "metadata": {},
   "source": [
    "## El fenómeno de Runge y la interpolación de Chebishev\n",
    "Esta información está en el texto base pero muy sucinta y mal descrita. La info para esta sección la he sacado de https://brianheinold.net/notes/An_Intuitive_Guide_to_Numerical_Methods_Heinold.pdf\n",
    "\n",
    "El fenómeno de Runge es que cuando tomamos una función la interpolación tiende a fallar en los extremos, sobre todo si los puntos de interpolación los tomamos de manera equidistante.\n",
    "Obviamente, se pueden escoger los nodos $x_0, x_1, \\cdots, x_n$ de muchas maneras, pero unas y otras van a ser mejores para generar interpolaciones más veraces fuera de los extremos.\n"
   ]
  },
  {
   "cell_type": "code",
   "execution_count": null,
   "metadata": {},
   "outputs": [],
   "source": [
    "f = E**(sin(4*x))\n",
    "I = [0, 1]\n",
    "grado = 9\n",
    "\n",
    "x_vals_equip = np.linspace(I[0], I[1], grado)\n",
    "y_vals_equip = [f.evalf(subs={x: S(i)}) for i in x_vals_equip]\n",
    "\n",
    "x_vals_extr = [0, 0.03, 0.07, 0.15, 0.5, 0.85, 0.93, 0.97, 1]\n",
    "y_vals_extr = [f.evalf(subs={x: S(i)}) for i in x_vals_extr]"
   ]
  },
  {
   "cell_type": "code",
   "execution_count": null,
   "metadata": {},
   "outputs": [],
   "source": [
    "p_equip, lista_L = polinomio_lagrange(x_vals_equip, y_vals_equip)\n",
    "p_extr, lista_L = polinomio_lagrange(x_vals_extr, y_vals_extr)"
   ]
  },
  {
   "cell_type": "code",
   "execution_count": null,
   "metadata": {},
   "outputs": [],
   "source": [
    "expand(p_equip)"
   ]
  },
  {
   "cell_type": "code",
   "execution_count": null,
   "metadata": {},
   "outputs": [],
   "source": [
    "expand(p_extr)"
   ]
  },
  {
   "cell_type": "code",
   "execution_count": null,
   "metadata": {},
   "outputs": [],
   "source": [
    "fig, axs = plt.subplots(1, 2, figsize=(10, 4))\n",
    "x_range_base = np.linspace(I[0] - 0.05, I[1] + 0.05, 100)\n",
    "x_range_todo = np.linspace(I[0] - 1, I[1] + 0.7, 100)\n",
    "\n",
    "for x_range_idx, x_range in enumerate([x_range_base, x_range_todo]): \n",
    "    y_real = [f.subs(x, i) for i in x_range]\n",
    "    y_pol_equip = [expand(p_equip).subs(x, i) for i in x_range]\n",
    "    y_pol_extr = [expand(p_extr).subs(x, i) for i in x_range]\n",
    "\n",
    "\n",
    "    axs[x_range_idx].plot(x_range, y_real, label=f'{f}')\n",
    "    axs[x_range_idx].scatter(x_vals_equip, y_vals_equip, c=\"#bcbcbc\")\n",
    "    axs[x_range_idx].scatter(x_vals_extr, y_vals_extr, c=\"#454545\")\n",
    "\n",
    "    axs[x_range_idx].plot(x_range, y_pol_equip, label='interpolacion equiprobable', c=\"#bcbcbc\")\n",
    "    axs[x_range_idx].plot(x_range, y_pol_extr, label='interpolacion extremos', c=\"#454545\")\n",
    "\n",
    "\n",
    "    axs[x_range_idx].legend()"
   ]
  },
  {
   "cell_type": "markdown",
   "metadata": {},
   "source": [
    "Vemos que aunque la interpolación equidistante sea más exacta con respecto a la función real, se aleja un montón de los extremos. Sin embargo, si tomamos puntos en el extremo, la interpolación aguanta mejor cambios en el extremo."
   ]
  },
  {
   "cell_type": "markdown",
   "metadata": {},
   "source": [
    "Por el teorema del error máximo mencionado anteriormente se deriva que la major elección de valores de $x$ son las raíces de los polinomios de Chevisheb, que se corresponden a la ecuación:\n",
    "$$x_k = \\frac{1}{2}(a+b) + \\frac{1}{2}(b - a) \\cos\\left( \\frac{2k - 1}{2n} \\pi \\right)$$\n",
    "Para $k = 1, \\cdots, n$"
   ]
  },
  {
   "cell_type": "code",
   "execution_count": null,
   "metadata": {},
   "outputs": [],
   "source": [
    "def roots_chebyshev(n, var=x, I=[-1, 1]):\n",
    "    roots = [0.5*(I[1] + I[0]) + 0.5*(I[1] - I[0]) * cos(S(2 * (i + 1) - 1)/S(2*n) * pi) for i in range(n)][::-1]\n",
    "    return roots"
   ]
  },
  {
   "cell_type": "code",
   "execution_count": null,
   "metadata": {},
   "outputs": [],
   "source": [
    "for n in range(2, 20):\n",
    "    plt.scatter(roots_chebyshev(n, I=[0, 1]), [n] * n)"
   ]
  },
  {
   "cell_type": "markdown",
   "metadata": {},
   "source": [
    "Repetimos el ejemplo anterior, pero ahora tomando las raíces de Chebyshev"
   ]
  },
  {
   "cell_type": "code",
   "execution_count": null,
   "metadata": {},
   "outputs": [],
   "source": [
    "x_vals_chev = [N(i, 6) for i in roots_chebyshev(grado, I=I)]\n",
    "y_vals_chev = [f.evalf(subs={x: S(i)}) for i in x_vals_chev]"
   ]
  },
  {
   "cell_type": "code",
   "execution_count": null,
   "metadata": {},
   "outputs": [],
   "source": [
    "p_chev, lista_L = polinomio_lagrange(x_vals_chev, y_vals_chev)"
   ]
  },
  {
   "cell_type": "code",
   "execution_count": null,
   "metadata": {},
   "outputs": [],
   "source": [
    "fig, axs = plt.subplots(1, 2, figsize=(10, 4))\n",
    "x_range_base = np.linspace(I[0] - 0.05, I[1] + 0.05, 100)\n",
    "x_range_todo = np.linspace(I[0] - 1, I[1] + 0.7, 100)\n",
    "\n",
    "for x_range_idx, x_range in enumerate([x_range_base, x_range_todo]): \n",
    "    y_real = [f.subs(x, i) for i in x_range]\n",
    "    y_pol_equip = [expand(p_equip).subs(x, i) for i in x_range]\n",
    "    y_pol_chev = [expand(p_chev).subs(x, i) for i in x_range]\n",
    "    y_pol_extr = [expand(p_extr).subs(x, i) for i in x_range]\n",
    "\n",
    "\n",
    "    axs[x_range_idx].plot(x_range, y_real, label=f'{f}')\n",
    "    axs[x_range_idx].scatter(x_vals_equip, y_vals_equip, c=\"#bcbcbc\")\n",
    "    axs[x_range_idx].scatter(x_vals_extr, y_vals_extr, c=\"#454545\")\n",
    "    axs[x_range_idx].scatter(x_vals_chev, y_vals_chev, c=\"#800000\")\n",
    "\n",
    "\n",
    "    axs[x_range_idx].plot(x_range, y_pol_equip, label='equiprobable', c=\"#bcbcbc\")\n",
    "    axs[x_range_idx].plot(x_range, y_pol_extr, label='extremos', c=\"#454545\")\n",
    "    axs[x_range_idx].plot(x_range, y_pol_chev, label='chebyshev', c=\"#800000\")\n",
    "\n",
    "\n",
    "    axs[x_range_idx].legend()"
   ]
  },
  {
   "cell_type": "markdown",
   "metadata": {},
   "source": [
    "Aunque los resultados en los extremos sean peor para Chebyshev que para la interpolación de extremos, se ve que en el medio la interpolación de Chebyshev es prácticamente idéntica a la equiprobable. Esto es importante porque para esta función las diferencias en el centro para la interpolación de extremos no son muy evidentes, pero para otras funciones puede que sean peores, y en ese caso la selección de nodos por Chebyshev es ese punto intermedio."
   ]
  },
  {
   "cell_type": "markdown",
   "metadata": {},
   "source": [
    "## Algoritmos de Aitken y Neville\n",
    "Estos dos algoritmos permiten reducir el coste de la computación del polinomio de interpolación. Con estos algoritmos, en lugar de calcular el polinomio de interpolación, se calcula directamente el valor de la función en un punto $x_m$ sabiendo los valores de la función en $n$ puntos diferentes."
   ]
  },
  {
   "cell_type": "code",
   "execution_count": null,
   "metadata": {},
   "outputs": [],
   "source": [
    "def aitken_neville(x_vals, y_vals, x0, modo='aitken'):\n",
    "    matriz_coeffs = zeros(len(y_vals), len(y_vals))\n",
    "    for i in range(len(y_vals)): # Asignamos la primera columna como f(x)\n",
    "        matriz_coeffs[i,0] = y_vals[i]\n",
    "    \n",
    "    for col in range(1, len(y_vals)):\n",
    "        for row in range(len(y_vals) - col):\n",
    "            if modo == 'aitken':\n",
    "                xk = x_vals[0]\n",
    "            elif modo == 'neville':\n",
    "                xk = x_vals[row]\n",
    "                \n",
    "            num = (x0 - xk) * matriz_coeffs[row + 1, col - 1] - (x0 - x_vals[row + col]) * matriz_coeffs[row, col - 1]\n",
    "            den = x_vals[row + col] - xk\n",
    "        \n",
    "            matriz_coeffs[row, col] = num / den\n",
    "    \n",
    "    \n",
    "    \n",
    "    \n",
    "    matriz_coeffs = nsimplify(matriz_coeffs,tolerance=1e-10,rational=True)  # Esto es importante para quitar valores de redondeo\n",
    "    \n",
    "    return matriz_coeffs"
   ]
  },
  {
   "cell_type": "code",
   "execution_count": null,
   "metadata": {},
   "outputs": [],
   "source": [
    "# obtenido de https://rpubs.com/aaronsc32/nevilles-method-polynomial-interpolation\n",
    "N(aitken_neville([8.1, 8.3, 8.6, 8.7], [16.9446, 17.56492, 18.50515, 18.82091], 8.4, modo='neville'))"
   ]
  },
  {
   "cell_type": "code",
   "execution_count": null,
   "metadata": {},
   "outputs": [],
   "source": [
    "N(aitken_neville([8.1, 8.3, 8.6, 8.7], [16.94, 17.56, 18.5, 18.82], 8.4, modo='aitken'))"
   ]
  },
  {
   "cell_type": "markdown",
   "metadata": {},
   "source": [
    "#### EJERCICIO 49"
   ]
  },
  {
   "cell_type": "code",
   "execution_count": null,
   "metadata": {},
   "outputs": [],
   "source": [
    "N(aitken_neville([-2, -1, 0, 1], [-1, -0.5, 0, 0.5], 0.5, modo='neville'))"
   ]
  },
  {
   "cell_type": "code",
   "execution_count": null,
   "metadata": {},
   "outputs": [],
   "source": [
    "N(aitken_neville([-2, -1, 0, 1], [-1, -0.5, 0, 0.5], 0.5, modo='aitken'))"
   ]
  },
  {
   "cell_type": "markdown",
   "metadata": {},
   "source": [
    "## Interpolación compuesta"
   ]
  },
  {
   "cell_type": "markdown",
   "metadata": {},
   "source": [
    "#### Figura 5.1\n",
    "\n",
    "La figura muestra la interpolación de la función de Runge, $f(x) = \\frac{1}{1+x^2}$, que vemos falla en los extremos bastante fuertemente."
   ]
  },
  {
   "cell_type": "code",
   "execution_count": null,
   "metadata": {},
   "outputs": [],
   "source": [
    "f = 1 / (1 + x ** 2)\n",
    "I = [-5, 5]\n",
    "x_vals = np.linspace(I[0], I[1], 11)\n",
    "y_vals = [f.evalf(subs={x: S(i)}) for i in x_vals]\n",
    "\n",
    "p, lista_L = polinomio_lagrange(x_vals, y_vals)\n",
    "\n",
    "x_range = np.linspace(I[0], I[1], 250)\n",
    "y_real, y_pol = [f.subs(x, i) for i in x_range], [expand(p).subs(x, i) for i in x_range]\n",
    "\n",
    "plt.plot(x_range, y_real, label=f'{f}')\n",
    "plt.scatter(x_vals, y_vals, c=\"#800000\")\n",
    "plt.plot(x_range, y_pol, label='interpolacion', c=\"#bcbcbc\")\n",
    "\n",
    "plt.legend()"
   ]
  },
  {
   "cell_type": "code",
   "execution_count": null,
   "metadata": {},
   "outputs": [],
   "source": [
    "x_vals = [N(i, 6) for i in roots_chebyshev(11, I=I)]\n",
    "y_vals = [f.evalf(subs={x: S(i)}) for i in x_vals]\n",
    "\n",
    "p, lista_L = polinomio_lagrange(x_vals, y_vals)\n",
    "\n",
    "x_range = np.linspace(I[0], I[1], 250)\n",
    "y_real, y_pol = [f.subs(x, i) for i in x_range], [expand(p).subs(x, i) for i in x_range]\n",
    "\n",
    "plt.plot(x_range, y_real, label=f'{f}')\n",
    "plt.scatter(x_vals, y_vals, c=\"#800000\")\n",
    "plt.plot(x_range, y_pol, label='interpolacion', c=\"#bcbcbc\")\n",
    "\n",
    "plt.legend()"
   ]
  },
  {
   "cell_type": "markdown",
   "metadata": {},
   "source": [
    "## Interpolación de Hermite\n",
    "\n",
    "La interpolación de Hermite emplea el método de Newton para construir el polinomio. En este caso se emplean las derivadas de $f$ para aportar más estabilidad y así conseguir un polinomio que sea tanto continuo él como su derivada. En este caso la base es, para $\\{x_0, x_1, \\cdots, x_n\\}$, la siguiente: \n",
    "$\\{\\omega_0 = 1, \\omega_1 = (x-x_0), \\omega_2 = (x-x_0)^2, \\omega_3 = (x-x_0)^2(x-x_1), \\omega_4 = (x-x_0)^2(x-x_1)^2, \\cdots, \n",
    "\\omega_{2n}=(x-x_0)^2(x-x_1)^2\\cdots(x-x_n), \\omega_{2n+1}=(x-x_0)^2(x-x_1)^2\\cdots(x-x_n)^2\\}$\n",
    "\n",
    "En este caso, la variación del método de Newton es que incluimos la información de $f$ y $f'$ en la tabla de diferencias (mostramos para $x_0, x_1, x_2$):\n",
    "\n",
    "\n",
    "$$\n",
    "\\begin{matrix}\n",
    "x_0 & f(x_0) &   &  & & &  \\\\\n",
    "          &  & f[x_0, x_0] = f'(x_0)  &   & & &\\\\\n",
    "x_0 & f(x_0) &                        &  f[x_0, x_0, x_1]  & & &\\\\\n",
    "          &  & f[x_0, x_1]  &                              &    f[x_0, x_0, x_1, x_1] & & \\\\\n",
    "x_1 & f(x_1) &                        &  f[x_0, x_1, x_1] &                                   & f[x_0, x_0, x_1, x_1, x_2] &\\\\\n",
    "          &  & f[x_1, x_1] = f'(x_1)  &                    &    f[x_0, x_1, x_1, x_2]&                                     & f[x_0, x_0, x_1, x_1, x_2, x_2]   \\\\\n",
    "x_1 & f(x_1) &                        &  f[x_1, x_1, x_2] &                                   & f[x_0, x_1, x_1, x_2, x_2] &\\\\\n",
    "          &  & f[x_1, x_2]  &                              &    f[x_1, x_1, x_2, x_2]  & & \\\\\n",
    "x_2 & f(x_2) &                        &  f[x_1, x_2, x_2]& & & \\\\\n",
    "          &  & f[x_2, x_2] = f'(x_2)  &   & & &\\\\\n",
    "x_2 & f(x_2) &                        &  & & & \\\\          \n",
    "\\end{matrix}\n",
    "$$ \n",
    "\n",
    "$$p(x) = f(x_0) + f[x_0, x_0] \\omega_1 + f[x_0, x_0, x_1] \\omega_2 + f[x_0, x_0, x_1, x_1] \\omega_3 + f[x_0, x_0, x_1, x_1, x_2] \\omega_4 + \n",
    "    f[x_0, x_0, x_1, x_1, x_2, x_2] \\omega_5=$$\n",
    "    \n",
    "$$f(x_0) + f[x_0, x_0] (x-x_0) + f[x_0, x_0, x_1] (x-x_0)^2 + f[x_0, x_0, x_1, x_1] (x-x_0)^2(x-x_1) + f[x_0, x_0, x_1, x_1, x_2] (x-x_0)^2(x-x_1)^2 + f[x_0, x_0, x_1, x_1, x_2, x_2] (x-x_0)^2(x-x_1)^2(x-x_2)$$"
   ]
  },
  {
   "cell_type": "markdown",
   "metadata": {},
   "source": [
    "La ventaja de esta interpolación es que se pueden hacer las pirámides con tantas derivadas como se quiera. Puedes ver más info en https://en.wikipedia.org/wiki/Hermite_interpolation"
   ]
  },
  {
   "cell_type": "code",
   "execution_count": null,
   "metadata": {},
   "outputs": [],
   "source": [
    "def interpolacion_hermite(x_vals, y_vals, diff_vals, var=x, evalf=None):\n",
    "    base_w = [S(1)]\n",
    "    double_x_vals = []\n",
    "    for val in x_vals:\n",
    "        double_x_vals += [val, val]    \n",
    "        \n",
    "    for x_val in x_vals:\n",
    "        base_w += [base_w[-1] * (var - x_val), base_w[-1] * (var - x_val) ** 2]\n",
    "    \n",
    "    base_w = base_w[:-1]  # Eliminamos la componente w_2n+1, que no se emplea para el cálculo del polinomio\n",
    "    matriz_coeffs = zeros(len(base_w), len(base_w))\n",
    "    \n",
    "    # Asignamos la primera columna como f(x)\n",
    "    for i in range(2 * len(y_vals)): \n",
    "        matriz_coeffs[i,0] = y_vals[i // 2]\n",
    "    \n",
    "    # Asignamos la segunda columna para f'(x) o f[xa, xa+1]\n",
    "    for i in range(0, 2*len(y_vals), 2): \n",
    "        matriz_coeffs[i,1] = diff_vals[i // 2]\n",
    "        \n",
    "    for i in range(1, 2*len(y_vals) - 1, 2): \n",
    "        num = matriz_coeffs[i + 1, 0] - matriz_coeffs[i, 0]\n",
    "        den = double_x_vals[i + 1] - double_x_vals[i]\n",
    "        matriz_coeffs[i, 1] = num / den\n",
    "    \n",
    "    # Asignamos para el resto de columnas\n",
    "    for col in range(2, 2 * len(y_vals)):\n",
    "        for row in range(2 * len(y_vals) - col):\n",
    "            num = matriz_coeffs[row + 1, col - 1] - matriz_coeffs[row, col - 1]\n",
    "            den = double_x_vals[row + col] - double_x_vals[row]\n",
    "        \n",
    "            matriz_coeffs[row, col] = num / den\n",
    "    \n",
    "    matriz_coeffs = nsimplify(matriz_coeffs,tolerance=1e-10,rational=True)  # Esto es importante para quitar valores de redondeo\n",
    "    if evalf is not None: # si evalf es un numero redondea a ese numero de decimales\n",
    "        matriz_coeffs = matriz_coeffs.evalf(evalf)\n",
    "        \n",
    "    # Aqui hacemos el polinomio\n",
    "    p = S(0)\n",
    "    for i in range(len(base_w)):\n",
    "        p += base_w[i] * matriz_coeffs[0, i]\n",
    "    \n",
    "    return p, matriz_coeffs"
   ]
  },
  {
   "cell_type": "markdown",
   "metadata": {},
   "source": [
    "#### EJERCICIO 50"
   ]
  },
  {
   "cell_type": "code",
   "execution_count": null,
   "metadata": {},
   "outputs": [],
   "source": [
    "p, mat = interpolacion_hermite(x_vals=[1, 2, 5], y_vals = [-1, -3, 3], diff_vals=[-3, -1, 2], var=x)"
   ]
  },
  {
   "cell_type": "code",
   "execution_count": null,
   "metadata": {},
   "outputs": [],
   "source": [
    "mat"
   ]
  },
  {
   "cell_type": "code",
   "execution_count": null,
   "metadata": {},
   "outputs": [],
   "source": [
    "p"
   ]
  },
  {
   "cell_type": "markdown",
   "metadata": {},
   "source": [
    "## Método de polinomio genérico\n",
    "Este método está descrito en el ejercicio 56. Simplemente consiste en desarrollar un polinomio con $n$ incógnitas dando $n$ condiciones que se cumplen de la función o de sus sucesivas derivadas. Por ejemplo, para el ejecicio 56 hay 4 condiciones:\n",
    "* $f(0) = 1$\n",
    "* $f'(0.1) = -\\frac{10}{3}$\n",
    "* $f'(0.2) = -\\frac{10}{3}$\n",
    "* $f(0.3) = 0.001$\n",
    "\n",
    "Por tanto, podemos construir el polinomio $p(x) = a_0 + a_1x + a_2x^2 + a_3x^3$ que satisfaga todas las soluciones, y con eso resolver el sistema.\n",
    "$$D a = f$$"
   ]
  },
  {
   "cell_type": "code",
   "execution_count": null,
   "metadata": {},
   "outputs": [],
   "source": [
    "def polinomio_generico(lista_condiciones, var=x, evalf=None):\n",
    "    # La lista de condiciones viene data por una lista de listas:\n",
    "    # [ [(a, b), (c, d)],  [],  [(e, f)]]\n",
    "    # Esto significaria: f(a) = b;  f(c) = d;  f''(e) = f\n",
    "    \n",
    "    # Primero contamos el número de elementos para generar el polinomio de grado n-1\n",
    "    n = sum([len(i) for i in lista_condiciones])\n",
    "    p_list = []\n",
    "    for i in range(n):\n",
    "        p_list.append(var ** i)\n",
    "        \n",
    "    # Ahora implementamos las condiciones. Cada elemento de la lista de condiciones será p, o sus derivadas, sustituyendo el elemento determinado\n",
    "    D, rhs = zeros(n, n), []\n",
    "    \n",
    "    row = 0\n",
    "    for diff_range in range(len(lista_condiciones)):\n",
    "        # Primero aplicamos la n-derivada a ese polinomio\n",
    "        for pair in lista_condiciones[diff_range]:\n",
    "            for col in range(diff_range, n):\n",
    "                if col == 0:\n",
    "                    multiplicado_derivada = 1\n",
    "                else:\n",
    "                    multiplicado_derivada = factorial(col) / factorial(col - diff_range)\n",
    "                D[row, col] = multiplicado_derivada *  pair[0] ** (col - diff_range)  # Añadimos a la matriz su elemento, que es la derivada por x^n\n",
    "            \n",
    "            rhs.append(pair[1])\n",
    "            row += 1\n",
    "    \n",
    "    try:\n",
    "        a = matriz_inversa(D) * Matrix(rhs)\n",
    "        a_vals = {Symbol(f'a{i}'): a[i, 0] for i in range(D.shape[0])}\n",
    "                  \n",
    "        p = S(0)\n",
    "        for i in range(n):\n",
    "            p += var**i * a_vals[Symbol(f'a{i}')]            \n",
    "    except:\n",
    "        raise\n",
    "        print('La matriz de valores no tiene inversa. No existe un polinomio de interpolación que verifique las condiciones.')\n",
    "        a_vals = None\n",
    "        p = None\n",
    "\n",
    "    return p, D, rhs, a_vals"
   ]
  },
  {
   "cell_type": "code",
   "execution_count": null,
   "metadata": {},
   "outputs": [],
   "source": []
  },
  {
   "cell_type": "markdown",
   "metadata": {},
   "source": [
    "#### EJERCICIO 56"
   ]
  },
  {
   "cell_type": "code",
   "execution_count": null,
   "metadata": {},
   "outputs": [],
   "source": [
    "p, D, rhs, a_vals = polinomio_generico(lista_condiciones=[[(0, 1), (0.3, 0.001)], [(0.1, -10/3), (0.2, -10/3)]])\n",
    "p"
   ]
  },
  {
   "cell_type": "markdown",
   "metadata": {},
   "source": [
    "#### EJERCICIO 50"
   ]
  },
  {
   "cell_type": "code",
   "execution_count": null,
   "metadata": {},
   "outputs": [],
   "source": [
    "p, D, rhs, a_vals = polinomio_generico(lista_condiciones=[[(1, -1), (2, -3), (5, 3)], [(1, -3), (2, -1), (5, 2)]])\n",
    "p"
   ]
  },
  {
   "cell_type": "code",
   "execution_count": null,
   "metadata": {},
   "outputs": [],
   "source": [
    "p.subs(x, 1), p.subs(x, 2), p.subs(x, 5)"
   ]
  },
  {
   "cell_type": "code",
   "execution_count": null,
   "metadata": {},
   "outputs": [],
   "source": [
    "p.diff(x).subs(x, 1), p.diff(x).subs(x, 2), p.diff(x).subs(x, 5)"
   ]
  },
  {
   "cell_type": "markdown",
   "metadata": {},
   "source": [
    "#### EJERCICIO 51"
   ]
  },
  {
   "cell_type": "code",
   "execution_count": null,
   "metadata": {},
   "outputs": [],
   "source": [
    "p, D, rhs, a_vals = polinomio_generico(lista_condiciones=[[(-3, 1), (3, 1)], [(1, 2), (-3, 1)]])\n",
    "p"
   ]
  },
  {
   "cell_type": "markdown",
   "metadata": {},
   "source": [
    "#### Conclusión"
   ]
  },
  {
   "cell_type": "markdown",
   "metadata": {},
   "source": [
    "Vamos a extender los límites de este algoritmo con alguna función específica, como la de Runge, y ver si conseguimos alguna interpolación mejor, empleando valores de la función, valores de la primera derivada y valores de la segunda derivada. Para el sampleo de nodos, vamos a tomar los nodos de manera equidistante, y con los nodos del polinomio de Chebyshev.\n",
    "\n",
    "Por tanto, vamos a tener 6 condiciones: el uso de $f$, $f'$ y $f''$, y nodos equidistantes o por Chebyshev."
   ]
  },
  {
   "cell_type": "code",
   "execution_count": null,
   "metadata": {},
   "outputs": [],
   "source": [
    "I = [-5, 5]\n",
    "n = 11\n",
    "f = 1 / (1 + x ** 2)\n",
    "\n",
    "fdiff = f.diff(x)\n",
    "fdiff2 = fdiff.diff(x)"
   ]
  },
  {
   "cell_type": "code",
   "execution_count": null,
   "metadata": {},
   "outputs": [],
   "source": [
    "x_equi = np.linspace(I[0], I[1], n)\n",
    "x_chev = [N(i, 1) for i in roots_chebyshev(n, I=I)]"
   ]
  },
  {
   "cell_type": "code",
   "execution_count": null,
   "metadata": {},
   "outputs": [],
   "source": [
    "p_equi_f, D, rhs, a_vals = polinomio_generico(lista_condiciones=[[(i, f.subs(x, i)) for i in x_equi], ])\n",
    "p_equi_fdiff, D, rhs, a_vals = polinomio_generico(lista_condiciones=[[(i, f.subs(x, i)) for i in x_equi], [(i, fdiff.subs(x, i)) for i in x_equi]])\n",
    "p_equi_fdiff2, D_equi, rhs, a_vals = polinomio_generico(lista_condiciones=[[(i, f.subs(x, i)) for i in x_equi], [(i, fdiff.subs(x, i)) for i in x_equi], \n",
    "                                                                      [(i, fdiff2.subs(x, i)) for i in x_equi]])"
   ]
  },
  {
   "cell_type": "code",
   "execution_count": null,
   "metadata": {},
   "outputs": [],
   "source": [
    "p_chev_f, D, rhs, a_vals = polinomio_generico(lista_condiciones=[[(i, f.subs(x, i)) for i in x_chev], ])\n",
    "p_chev_fdiff, D, rhs, a_vals = polinomio_generico(lista_condiciones=[[(i, f.subs(x, i)) for i in x_chev], [(i, fdiff.subs(x, i)) for i in x_chev]])\n",
    "p_chev_fdiff2, D_chev, rhs, a_vals = polinomio_generico(lista_condiciones=[[(i, f.subs(x, i)) for i in x_chev], [(i, fdiff.subs(x, i)) for i in x_chev], \n",
    "                                                                      [(i, fdiff2.subs(x, i)) for i in x_chev]])"
   ]
  },
  {
   "cell_type": "markdown",
   "metadata": {},
   "source": [
    "Vamos a ver cómo se comportan p, p', y p'' cuando derivamos f. Recordemos que p_equi_f debería cumplir que p = f para los puntos de interés, pero no p = f' o p = f''. Con p_equi_fdiff2, sin embargo, se tiene que cumplir que p = f, p' = f' y p'' = f''.\n",
    "\n",
    "Empleamos los nodos equidistantes para la visualización porque para la chebyshev las matrices devuelven inversas muy instables y los polinomios no salen correctamente."
   ]
  },
  {
   "cell_type": "code",
   "execution_count": null,
   "metadata": {},
   "outputs": [],
   "source": [
    "fig, axs = plt.subplots(3, 3, figsize=(9, 9))\n",
    "\n",
    "x_range = np.linspace(I[0], I[1], 250)\n",
    "\n",
    "list_f = [f, fdiff, fdiff2]\n",
    "list_p = [p_equi_f, p_equi_fdiff, p_equi_fdiff2]\n",
    "\n",
    "list_p_label_row = [\"p0\", \"p1\", \"p2\"]\n",
    "list_p_label_col = [\"\", \"'\", \"''\"]\n",
    "\n",
    "y_list_label = [\"f\", \"f'\", \"f''\"]\n",
    "\n",
    "for ax_row in range(3):\n",
    "    for ax_col in range(3):\n",
    "        p = list_p[ax_row]\n",
    "        for _ in range(ax_col):\n",
    "            p = p.diff(x)\n",
    "        \n",
    "        axs[ax_row][ax_col].scatter(x_equi, [list_f[ax_col].evalf(subs={x: S(i)}) for i in x_equi])\n",
    "        axs[ax_row][ax_col].plot(x_range, [list_f[ax_col].evalf(subs={x: S(i)}) for i in x_range], label=y_list_label[ax_col], c='#bcbcbc')\n",
    "        axs[ax_row][ax_col].plot(x_range, [p.evalf(subs={x: S(i)}) for i in x_range], \n",
    "                                 label=list_p_label_row[ax_row]+list_p_label_col[ax_col], c='#000080')\n",
    "        \n",
    "        min_y, max_y = float(np.min([list_f[ax_col].evalf(subs={x: S(i)}) for i in x_range])), float(np.max([list_f[ax_col].evalf(subs={x: S(i)}) for i in x_range]))\n",
    "        axs[ax_row][ax_col].set_ylim(bottom=min_y - 0.3 * (max_y - min_y), top=max_y + 0.3 * (max_y - min_y))\n",
    "        axs[ax_row][ax_col].legend()\n",
    "plt.tight_layout()"
   ]
  },
  {
   "cell_type": "markdown",
   "metadata": {},
   "source": [
    "Vemos que, a costa de hacer el polinomio más complejo y, a la vez más inestable, conseguimos que las condiciones de la primera y segunda derivadas vayan cumpliéndose. En tal caso, igual conviene tomar menos nodos para evitar tener polinomios tan complejos. "
   ]
  },
  {
   "cell_type": "markdown",
   "metadata": {},
   "source": [
    "## Método de esplines cúbicos\n",
    "\n",
    "Los esplines son funciones de interpolación muy útiles porque dan un resultado continuo y doblemente derivable (clase $C^2$) para una serie de puntos $a = x_0 < x_1 < \\cdots < x_{n-1} < x_n = b$. Esto es muy util en casos como el de antes, donde un polinomio para varios nodos puede dar un resultado inestable o difícil de computar. Los esplines son $n-1$ polinomios cúbicos que satisfacen la siguiente expresión:\n",
    "\n",
    "$$S_i(x) = d_i + c_i(x-x_i) + b_i(x-x_i)^2 + a_i(x-x_i)^3$$\n",
    "\n",
    "Obviamente, cada valor $d_i = f(x_i)$. En total tenemos $3(n-1)$ coeficientes que determinar, por lo que necesitamos un sistema de $3(n-1)$ ecuaciones. Para ello establecemos las siguientes condiciones:\n",
    "* $S_i(x_{i+1}) = y_{i+1}$, de manera que se satisface la continuidad entre esplines.\n",
    "* $S_i'(x_{i+1}) = S_{i+1}'(x_{i+1})$, de manera que se satisface que la pendiente es la misma entre dos esplines contiguos, y no hay puntos angulosos entre todos los esplines.\n",
    "* $S_i''(x_{i+1}) = S_{i+1}''(x_{i+1})$, lo cual garantiza también una continuidad de la segunda derivada.\n",
    "\n",
    "En este punto nos quedan dos sistemas de ecuaciones para llegar al deseado. Para ello podemos establecer las condiciones del primer y último esplín. En el caso más clásico, el esplín natural, $s_0''(x_0) = x_{n-1}''(x_n) = 0$.\n",
    "\n",
    "Para determinar los valores $a_i, b_i, c_i$ vamos a resolver el siguiente sistema:\n",
    "$$\n",
    "\\begin{bmatrix}\n",
    "r_0 & 2 & 1-r_0 & \\cdots & 0 & 0 & 0 \\\\\n",
    "0 & r_1 & 2 & \\cdots & 0 & 0 & 0 \\\\\n",
    "\\vdots & \\vdots & \\vdots & \\ddots & \\vdots & \\vdots & \\vdots \\\\\n",
    "0 & 0 & 0 & \\cdots & 2  & 1-r_{n-3} & 0 \\\\\n",
    "0 & 0 & 0 & \\cdots & r_{n-2} & 2 & 1-r_{n-2} \\\\\n",
    "\\end{bmatrix}_{n-2 \\times n}\n",
    "\\begin{bmatrix}\n",
    "z_0\\\\\n",
    "z_1\\\\\n",
    "\\vdots\\\\\n",
    "z_n\\\\\n",
    "\\end{bmatrix}_{n\\times 1} = \n",
    "6\\begin{bmatrix}\n",
    "f[x_0, x_1, x_2]\\\\\n",
    "f[x_1, x_2, x_3]\\\\\n",
    "\\vdots\\\\\n",
    "f[x_{n-2}, x_{n-1}, x_n]\\\\\n",
    "\\end{bmatrix}_{n-2\\times 1}\n",
    "$$\n",
    "\n",
    "Como el sistema de ecuaciones es indeterminado (hay 2 incógnitas más que ecuaciones), vamos imponer las condiciones de esplín natural, resultando en:\n",
    "\n",
    "$$\n",
    "\\begin{bmatrix}\n",
    "2 & 1-r_0 & \\cdots & 0 & 0\\\\\n",
    "r_1 & 2 & \\cdots & 0 & 0\\\\\n",
    "\\vdots & \\vdots & \\ddots & \\vdots & \\vdots\\\\\n",
    "0 & 0 & \\cdots & 2  & 1-r_{n-3}\\\\\n",
    "0 & 0 & \\cdots & r_{n-2} & 2\\\\\n",
    "\\end{bmatrix}_{n-2 \\times n-2}\n",
    "\\begin{bmatrix}\n",
    "z_1\\\\\n",
    "\\vdots\\\\\n",
    "z_{n-1}\\\\\n",
    "\\end{bmatrix}_{n-2\\times 1} = \n",
    "6\\begin{bmatrix}\n",
    "f[x_0, x_1, x_2]\\\\\n",
    "f[x_1, x_2, x_3]\\\\\n",
    "\\vdots\\\\\n",
    "f[x_{n-2}, x_{n-1}, x_n]\\\\\n",
    "\\end{bmatrix}_{n-2\\times 1}\n",
    "$$\n",
    "\n",
    "En este sistema, definimos $r_i  = \\frac{h_i}{h_i + h_{i+1}}$ donde $h_i = x_{i+1} - x_i$. Los valores $a_i, b_i, c_i$ se obtienen a partir de las siguientes relaciones con $z$:\n",
    "* $a_i = \\frac{z_{i+1} - z_i}{6h_i}$\n",
    "* $b_i = \\frac{z_i}{2}$\n",
    "* $c_i = \\frac{y_{i+1} - y_i}{h_i} - \\frac{2z_i + z_{i+1}}{6}h_i$\n",
    "\n",
    "Y los valores $f[x_i, x_{i+1}, x_{i+2}]$ los obtenemos con el método de Newton."
   ]
  },
  {
   "cell_type": "code",
   "execution_count": null,
   "metadata": {},
   "outputs": [],
   "source": [
    "def esplines(x_vals, y_vals, var=x):\n",
    "    # Primero creamos los polinomios de los esplines\n",
    "    S_dict = {}\n",
    "    valores = {}\n",
    "    \n",
    "    # Ahora hallamos h y r para resolver el sistema\n",
    "    h_list = [x_vals[i + 1] - x_vals[i] for i in range(len(x_vals) - 1)]\n",
    "    r_list = [h_list[i] / (h_list[i] + h_list[i+1]) for i in range(len(x_vals) - 2)]\n",
    "    \n",
    "    D = 2 * eye(len(x_vals) - 2)\n",
    "    for i in range(len(x_vals) - 3):\n",
    "        D[i, i+1] = 1 - r_list[i]\n",
    "        D[i+1, i] = r_list[i + 1]\n",
    "    \n",
    "    # Ahora hallamos el rhs, que está compuesto por f[a, b, c] = (f[b, c] - f[a, b])/(c-a) = ({(f(c) - f(b))/(c-b)} - {(f(b) - f(a))/(b-a)})/(c-a) \n",
    "    rhs = 6 * Matrix([(((y_vals[i+2] - y_vals[i+1]) / (x_vals[i+2] - x_vals[i+1])) - \n",
    "                       ((y_vals[i+1] - y_vals[i]) / (x_vals[i+1] - x_vals[i]))) / \n",
    "                      (x_vals[i+2] - x_vals[i])\n",
    "                  for i in range(len(x_vals) - 2)])\n",
    "    \n",
    "    # Resolvemos el sistema D*z = rhs\n",
    "    z = matriz_inversa(D) * rhs\n",
    "    z_list = [0] + list(z) + [0]\n",
    "    \n",
    "    # Asignamos los valores de a, b, c, d, y con ello creamos los polinomios\n",
    "    for i in range(len(x_vals) - 1):\n",
    "        a = (z_list[i+1] - z_list[i]) / (6 * h_list[0])\n",
    "        b = z_list[i] / 2\n",
    "        c = (y_vals[i+1] - y_vals[i])/(h_list[i]) - (2 * z_list[i] + z_list[i+1])/(6) * h_list[i]\n",
    "            \n",
    "        valores[i] = [a, b, c, y_vals[i]]\n",
    "        S_dict[f'S_{i}'] =  expand(y_vals[i] + c * (var - x_vals[i]) + b * (var - x_vals[i]) ** 2 + a * (var - x_vals[i]) ** 3)\n",
    "              \n",
    "    \n",
    "    return S_dict, valores, D, z, rhs\n"
   ]
  },
  {
   "cell_type": "code",
   "execution_count": null,
   "metadata": {},
   "outputs": [],
   "source": [
    "x_vals, y_vals = [0, 0.25, 0.5, 0.75, 1], [0, 0.7071, 1, 0.7071, 0]"
   ]
  },
  {
   "cell_type": "code",
   "execution_count": null,
   "metadata": {},
   "outputs": [],
   "source": [
    "S_dict, valores, D, z, rhs = esplines(x_vals, y_vals)"
   ]
  },
  {
   "cell_type": "code",
   "execution_count": null,
   "metadata": {},
   "outputs": [],
   "source": [
    "plt.scatter(x_vals, y_vals)\n",
    "for i in range(len(x_vals) - 1):\n",
    "    p = S_dict[f'S_{i}']\n",
    "    x_range = np.linspace(x_vals[i], x_vals[i+1], 100)\n",
    "    y_range = [p.subs(x, x_i) for x_i in x_range]\n",
    "    \n",
    "    plt.plot(x_range, y_range)"
   ]
  },
  {
   "cell_type": "markdown",
   "metadata": {},
   "source": [
    "Ahora vamos a aproximar la función de runge por esplines"
   ]
  },
  {
   "cell_type": "code",
   "execution_count": null,
   "metadata": {},
   "outputs": [],
   "source": [
    "f = 1 / (1 + x ** 2)\n",
    "I = [-5, 5]\n",
    "n = 9\n",
    "x_vals = np.linspace(I[0], I[1], n)\n",
    "y_vals = [f.subs(x, xi) for xi in x_vals]"
   ]
  },
  {
   "cell_type": "code",
   "execution_count": null,
   "metadata": {},
   "outputs": [],
   "source": [
    "S_dict, valores, D, z, rhs = esplines(x_vals, y_vals)"
   ]
  },
  {
   "cell_type": "code",
   "execution_count": null,
   "metadata": {},
   "outputs": [],
   "source": [
    "plt.scatter(x_vals, y_vals)\n",
    "plt.plot(np.linspace(I[0], I[1], 250), [f.subs(x, xi) for xi in np.linspace(I[0], I[1], 250)])\n",
    "for i in range(len(x_vals) - 1):\n",
    "    p = S_dict[f'S_{i}']\n",
    "    x_range = np.linspace(x_vals[i], x_vals[i+1], 100)\n",
    "    y_range = [p.subs(x, x_i) for x_i in x_range]\n",
    "    \n",
    "    plt.plot(x_range, y_range)"
   ]
  },
  {
   "cell_type": "markdown",
   "metadata": {},
   "source": [
    "Vemos que la aproximación por esplines mapea muy bien para valores de 11 en adelante."
   ]
  }
 ],
 "metadata": {
  "colab": {
   "include_colab_link": true,
   "name": "ANMI.ipynb",
   "provenance": [],
   "toc_visible": true
  },
  "kernelspec": {
   "display_name": "Python 3",
   "language": "python",
   "name": "python3"
  },
  "language_info": {
   "codemirror_mode": {
    "name": "ipython",
    "version": 3
   },
   "file_extension": ".py",
   "mimetype": "text/x-python",
   "name": "python",
   "nbconvert_exporter": "python",
   "pygments_lexer": "ipython3",
   "version": "3.8.5"
  }
 },
 "nbformat": 4,
 "nbformat_minor": 4
}
