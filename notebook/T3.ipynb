{
  "nbformat": 4,
  "nbformat_minor": 0,
  "metadata": {
    "colab": {
      "name": "ANMI.ipynb",
      "provenance": [],
      "toc_visible": true,
      "include_colab_link": true
    },
    "kernelspec": {
      "display_name": "Python 3",
      "language": "python",
      "name": "python3"
    },
    "language_info": {
      "codemirror_mode": {
        "name": "ipython",
        "version": 3
      },
      "file_extension": ".py",
      "mimetype": "text/x-python",
      "name": "python",
      "nbconvert_exporter": "python",
      "pygments_lexer": "ipython3",
      "version": "3.8.5"
    }
  },
  "cells": [
    {
      "cell_type": "markdown",
      "metadata": {
        "id": "view-in-github",
        "colab_type": "text"
      },
      "source": [
        "<a href=\"https://colab.research.google.com/github/alexmascension/ANMI/blob/main/notebook/T3.ipynb\" target=\"_parent\"><img src=\"https://colab.research.google.com/assets/colab-badge.svg\" alt=\"Open In Colab\"/></a>"
      ]
    },
    {
      "cell_type": "markdown",
      "metadata": {
        "id": "Vf3GioQwcepr"
      },
      "source": [
        "# Tema 3: Aproximación de autovalores"
      ]
    },
    {
      "cell_type": "code",
      "metadata": {
        "id": "1hDZNaYFX936",
        "outputId": "f60e5498-7f0d-4195-8df3-61868de0c4a4",
        "colab": {
          "base_uri": "https://localhost:8080/"
        }
      },
      "source": [
        "!pip install -r https://raw.githubusercontent.com/alexmascension/ANMI/main/requirements.txt"
      ],
      "execution_count": 1,
      "outputs": [
        {
          "output_type": "stream",
          "text": [
            "Requirement already satisfied: numpy in /usr/local/lib/python3.7/dist-packages (from -r https://raw.githubusercontent.com/alexmascension/ANMI/main/requirements.txt (line 1)) (1.19.5)\n",
            "Requirement already satisfied: sympy in /usr/local/lib/python3.7/dist-packages (from -r https://raw.githubusercontent.com/alexmascension/ANMI/main/requirements.txt (line 2)) (1.7.1)\n",
            "Requirement already satisfied: matplotlib in /usr/local/lib/python3.7/dist-packages (from -r https://raw.githubusercontent.com/alexmascension/ANMI/main/requirements.txt (line 3)) (3.2.2)\n",
            "Requirement already satisfied: scipy in /usr/local/lib/python3.7/dist-packages (from -r https://raw.githubusercontent.com/alexmascension/ANMI/main/requirements.txt (line 4)) (1.4.1)\n",
            "Collecting anmi\n",
            "  Downloading https://files.pythonhosted.org/packages/03/7d/ba680cec426e172795b3c060115360f0273d3fbe1114b1461f47323638b6/anmi-0.0.6-py3-none-any.whl\n",
            "Requirement already satisfied: mpmath>=0.19 in /usr/local/lib/python3.7/dist-packages (from sympy->-r https://raw.githubusercontent.com/alexmascension/ANMI/main/requirements.txt (line 2)) (1.2.1)\n",
            "Requirement already satisfied: kiwisolver>=1.0.1 in /usr/local/lib/python3.7/dist-packages (from matplotlib->-r https://raw.githubusercontent.com/alexmascension/ANMI/main/requirements.txt (line 3)) (1.3.1)\n",
            "Requirement already satisfied: cycler>=0.10 in /usr/local/lib/python3.7/dist-packages (from matplotlib->-r https://raw.githubusercontent.com/alexmascension/ANMI/main/requirements.txt (line 3)) (0.10.0)\n",
            "Requirement already satisfied: python-dateutil>=2.1 in /usr/local/lib/python3.7/dist-packages (from matplotlib->-r https://raw.githubusercontent.com/alexmascension/ANMI/main/requirements.txt (line 3)) (2.8.1)\n",
            "Requirement already satisfied: pyparsing!=2.0.4,!=2.1.2,!=2.1.6,>=2.0.1 in /usr/local/lib/python3.7/dist-packages (from matplotlib->-r https://raw.githubusercontent.com/alexmascension/ANMI/main/requirements.txt (line 3)) (2.4.7)\n",
            "Requirement already satisfied: six in /usr/local/lib/python3.7/dist-packages (from cycler>=0.10->matplotlib->-r https://raw.githubusercontent.com/alexmascension/ANMI/main/requirements.txt (line 3)) (1.15.0)\n",
            "Installing collected packages: anmi\n",
            "Successfully installed anmi-0.0.6\n"
          ],
          "name": "stdout"
        }
      ]
    },
    {
      "cell_type": "code",
      "metadata": {
        "id": "dYo_JGn2TSxC"
      },
      "source": [
        "from sympy import *\n",
        "from sympy.matrices import Matrix as mat\n",
        "from sympy.matrices import randMatrix\n",
        "from sympy import symbols\n",
        "import sympy\n",
        "\n",
        "import numpy as np\n",
        "\n",
        "from scipy.linalg import orth"
      ],
      "execution_count": 2,
      "outputs": []
    },
    {
      "cell_type": "code",
      "metadata": {
        "id": "l-V6kF8_X937"
      },
      "source": [
        "from anmi.genericas import norma, print_verbose\n",
        "\n",
        "from anmi.T2 import factorizacion_QR\n",
        "from anmi.T3 import matriz_krylov, sucesion_krylov, potencia_iterada, metodo_autovals_QR"
      ],
      "execution_count": 3,
      "outputs": []
    },
    {
      "cell_type": "markdown",
      "metadata": {
        "id": "B3T7oD8E1bEY"
      },
      "source": [
        "### Sucesiones de Krylov\n",
        "Sea $A$ una matriz (aplicación lineal) y $x$ un vector. Si aplicamos la multiplicación de $A$ por $x$ de manera iterada obtenemos una serie de vectores $\\{x, Ax, A^2x, A^3x, \\cdots\\}$. Si $x$ no es un autovector de $A$, entonces esa sucesión tendrá $n$ (dimensión de $A$) vectores independientes. Si $x$ es un autovector, con su autovalor $\\lambda$, entonces la sucesión de vectores será, $\\{x, \\lambda x, \\lambda^2x, \\lambda^3x, \\cdots\\}$. Estas sucesiones de vectores se llaman *sucesiones de Krylov*.\n",
        "\n",
        "Por otra parte, por el teorema de Cayley-Hamilton se tiene que $A^nx$ tiene que ser una combinación lineal de los siguientes elementos de la sucesión, es decir:\n",
        "$$(-1)^nA^n + a_{n-1}A^{n-1} + \\cdots + a_1A + a_0I = 0$$\n",
        "\n",
        "Luego si tomamos $a = \\begin{bmatrix}a_0\\\\a_1\\\\ \\cdots \\\\ a_n\\end{bmatrix}$ se tiene que\n",
        "$$(x|Ax|\\cdots|A^{n-1}x)a = (-1)^{n+1}A^nx$$\n",
        "\n",
        "Y si resolvemos $a$, entonces se tienen los coeficientes del polinómio característico $p(\\lambda) = a_0 + a_1\\lambda + a_2\\lambda^2 + \\cdots + a_n\\lambda^n$$\n"
      ]
    },
    {
      "cell_type": "code",
      "metadata": {
        "id": "hWHzJKX-_fyl",
        "outputId": "ae929ed4-8668-436b-cfc5-cfb792bb17cb",
        "colab": {
          "base_uri": "https://localhost:8080/"
        }
      },
      "source": [
        "help(matriz_krylov)"
      ],
      "execution_count": 4,
      "outputs": [
        {
          "output_type": "stream",
          "text": [
            "Help on function matriz_krylov in module anmi.T3:\n",
            "\n",
            "matriz_krylov(A, x, n_iters=None)\n",
            "    Genera una matriz de krylov dada una matriz A y un vector x. Cada columna de la matriz es la iteración i de A^i*x.\n",
            "    \n",
            "    Args:\n",
            "        A (matriz): Matriz de aplicación\n",
            "        x (vector): Vector base\n",
            "        n_iters (int, optional): Número de iteraciones. Por defecto es el número de filas de A + 1 (garantiza que la matriz de krylov tiene una combinación lineal).\n",
            "    \n",
            "    Returns:\n",
            "        m_krylov: Matriz con las aplicaciones de krylov por columna.\n",
            "\n"
          ],
          "name": "stdout"
        }
      ]
    },
    {
      "cell_type": "code",
      "metadata": {
        "id": "YFMQq7yCwW6W",
        "outputId": "d9d76bd6-ce0b-4326-c8d9-19437a8e5981",
        "colab": {
          "base_uri": "https://localhost:8080/",
          "height": 78
        }
      },
      "source": [
        "# EJERCICIO 26\n",
        "A = mat([[1, 1, 1], [0, 2, 2], [3, -1, 0]])\n",
        "x = mat([[1, 0, 0]]).T\n",
        "\n",
        "m_krylov = matriz_krylov(A, x)\n",
        "m_krylov"
      ],
      "execution_count": 5,
      "outputs": [
        {
          "output_type": "execute_result",
          "data": {
            "text/latex": "$\\displaystyle \\left[\\begin{matrix}1 & 1 & 4 & 13\\\\0 & 0 & 6 & 18\\\\0 & 3 & 3 & 6\\end{matrix}\\right]$",
            "text/plain": [
              "Matrix([\n",
              "[1, 1, 4, 13],\n",
              "[0, 0, 6, 18],\n",
              "[0, 3, 3,  6]])"
            ]
          },
          "metadata": {
            "tags": []
          },
          "execution_count": 5
        }
      ]
    },
    {
      "cell_type": "code",
      "metadata": {
        "id": "ADu3VAd5wXZ0",
        "outputId": "a96aacf6-e7d6-4c8e-f372-64379d24ce28",
        "colab": {
          "base_uri": "https://localhost:8080/",
          "height": 38
        }
      },
      "source": [
        "sk, a = sucesion_krylov(A, x)\n",
        "sk"
      ],
      "execution_count": 6,
      "outputs": [
        {
          "output_type": "execute_result",
          "data": {
            "text/latex": "$\\displaystyle \\operatorname{Poly}{\\left( -\\lambda^{3} + 3 \\lambda^{2} - \\lambda + 2, \\lambda, domain=\\mathbb{Z} \\right)}$",
            "text/plain": [
              "Poly(-lambda**3 + 3*lambda**2 - lambda + 2, lambda, domain='ZZ')"
            ]
          },
          "metadata": {
            "tags": []
          },
          "execution_count": 6
        }
      ]
    },
    {
      "cell_type": "code",
      "metadata": {
        "id": "C0Ystsv66PVG",
        "outputId": "ace9328a-b840-4398-9557-6d7e32d87421",
        "colab": {
          "base_uri": "https://localhost:8080/",
          "height": 78
        }
      },
      "source": [
        "# EJEMPLO 15\n",
        "A = mat([[2, -1, 0], [-1, 2, -1], [0, -1, 2]])\n",
        "x = mat([[-1, 0, 1]]).T\n",
        "\n",
        "matriz_krylov(A, x)"
      ],
      "execution_count": 7,
      "outputs": [
        {
          "output_type": "execute_result",
          "data": {
            "text/latex": "$\\displaystyle \\left[\\begin{matrix}-1 & -2 & -4 & -8\\\\0 & 0 & 0 & 0\\\\1 & 2 & 4 & 8\\end{matrix}\\right]$",
            "text/plain": [
              "Matrix([\n",
              "[-1, -2, -4, -8],\n",
              "[ 0,  0,  0,  0],\n",
              "[ 1,  2,  4,  8]])"
            ]
          },
          "metadata": {
            "tags": []
          },
          "execution_count": 7
        }
      ]
    },
    {
      "cell_type": "markdown",
      "metadata": {
        "id": "9W55409Jywkz"
      },
      "source": [
        "### Método de la potencia iterada\n",
        "\n",
        "En el método de la potencia iterada, se aplica la matriz de krylov hasta una potencia determinada, $k$. Entonces, se tiene que \n",
        "$$\\lim_{k \\to \\infty} \\frac{A^kw}{A^{k-1}w} = |\\lambda_1|$$\n",
        "Es decir, el mayor autovalor.\n",
        "\n",
        "Además, si tomamos $ B= A^{-1} $, tenemos que\n",
        "$$\\lim_{k \\to \\infty} \\frac{B^kw}{B^{k-1}w} = \\frac{1}{|\\lambda_n|}$$\n",
        "Donde $\\lambda_n$ es el menor autovalor."
      ]
    },
    {
      "cell_type": "code",
      "metadata": {
        "id": "SiaUm0xL_fyn",
        "outputId": "9dec4fe8-d543-4940-aabb-40ce74b434b9",
        "colab": {
          "base_uri": "https://localhost:8080/"
        }
      },
      "source": [
        "help(potencia_iterada)"
      ],
      "execution_count": 8,
      "outputs": [
        {
          "output_type": "stream",
          "text": [
            "Help on function potencia_iterada in module anmi.T3:\n",
            "\n",
            "potencia_iterada(A, x, n_iters, devolver_ultimo=True)\n",
            "    Aplica el método de la potencia iterada para calcular el mayor autovalor de la matriz, usando el método de Krylov.\n",
            "    \n",
            "    Args:\n",
            "        A (matriz): Matriz aplicación\n",
            "        x (vector): Vector base para el método. Si el vector es autovector dará fallo.\n",
            "        n_iters (int): Número de iteraciones\n",
            "        devolver_ultimo (bool, optional): Si True, devuelve el vector de la última iteración. Si False, devuelve todas las iteraciones.\n",
            "    \n",
            "    Returns:\n",
            "        m_cocientes (matriz, vector): matriz/vector con el número de filas igual al de A, con los cocientes. Los números deberían tender al mayor autovalor de A.\n",
            "\n"
          ],
          "name": "stdout"
        }
      ]
    },
    {
      "cell_type": "code",
      "metadata": {
        "id": "GTIZmAOv2Uni",
        "outputId": "6e218e36-d677-4f52-b3fc-9be4d08a7779",
        "colab": {
          "base_uri": "https://localhost:8080/"
        }
      },
      "source": [
        "A.eigenvals()"
      ],
      "execution_count": 9,
      "outputs": [
        {
          "output_type": "execute_result",
          "data": {
            "text/plain": [
              "{2 - sqrt(2): 1, 2: 1, sqrt(2) + 2: 1}"
            ]
          },
          "metadata": {
            "tags": []
          },
          "execution_count": 9
        }
      ]
    },
    {
      "cell_type": "code",
      "metadata": {
        "id": "ZG--F3wJBtXr",
        "outputId": "c65ba5a9-8369-4897-a1f6-775533ca8657",
        "colab": {
          "base_uri": "https://localhost:8080/",
          "height": 78
        }
      },
      "source": [
        "x = mat([[-2, 0, 1]]).T\n",
        "\n",
        "matriz_krylov(A, x, 17)"
      ],
      "execution_count": 10,
      "outputs": [
        {
          "output_type": "execute_result",
          "data": {
            "text/latex": "$\\displaystyle \\left[\\begin{array}{ccccccccccccccccc}-2 & -4 & -9 & -22 & -58 & -164 & -492 & -1544 & -5000 & -16528 & -55344 & -186784 & -633376 & -2153792 & -7336128 & -25012352 & -85328000\\\\0 & 1 & 4 & 14 & 48 & 164 & 560 & 1912 & 6528 & 22288 & 76096 & 259808 & 887040 & 3028544 & 10340096 & 35303296 & 120532992\\\\1 & 2 & 3 & 2 & -10 & -68 & -300 & -1160 & -4232 & -14992 & -52272 & -180640 & -621088 & -2129216 & -7286976 & -24914048 & -85131392\\end{array}\\right]$",
            "text/plain": [
              "Matrix([\n",
              "[-2, -4, -9, -22, -58, -164, -492, -1544, -5000, -16528, -55344, -186784, -633376, -2153792, -7336128, -25012352, -85328000],\n",
              "[ 0,  1,  4,  14,  48,  164,  560,  1912,  6528,  22288,  76096,  259808,  887040,  3028544, 10340096,  35303296, 120532992],\n",
              "[ 1,  2,  3,   2, -10,  -68, -300, -1160, -4232, -14992, -52272, -180640, -621088, -2129216, -7286976, -24914048, -85131392]])"
            ]
          },
          "metadata": {
            "tags": []
          },
          "execution_count": 10
        }
      ]
    },
    {
      "cell_type": "code",
      "metadata": {
        "id": "moRETh9eBtax",
        "outputId": "1a1accc2-8301-4aa7-9cbb-bf3fd3d7c0e6",
        "colab": {
          "base_uri": "https://localhost:8080/"
        }
      },
      "source": [
        "x = mat([[-1, 0, 0]]).T\n",
        "\n",
        "np.array(potencia_iterada(A, x, 30, devolver_ultimo=False)[:, -3:], dtype=float)"
      ],
      "execution_count": 11,
      "outputs": [
        {
          "output_type": "execute_result",
          "data": {
            "text/plain": [
              "array([[3.41421098, 3.41421205, 3.41421267],\n",
              "       [3.41421356, 3.41421356, 3.41421356],\n",
              "       [3.41421615, 3.41421508, 3.41421445]])"
            ]
          },
          "metadata": {
            "tags": []
          },
          "execution_count": 11
        }
      ]
    },
    {
      "cell_type": "code",
      "metadata": {
        "id": "52wGtGj_1A4t",
        "outputId": "581fa145-1973-49ad-be11-44fc89db7506",
        "colab": {
          "base_uri": "https://localhost:8080/"
        }
      },
      "source": [
        "x = mat([[-1, 0, 0]]).T\n",
        "\n",
        "np.array(potencia_iterada(A, x, 300, devolver_ultimo=True), dtype=float)"
      ],
      "execution_count": 12,
      "outputs": [
        {
          "output_type": "execute_result",
          "data": {
            "text/plain": [
              "array([[3.41421356],\n",
              "       [3.41421356],\n",
              "       [3.41421356]])"
            ]
          },
          "metadata": {
            "tags": []
          },
          "execution_count": 12
        }
      ]
    },
    {
      "cell_type": "code",
      "metadata": {
        "id": "3TExHlDA2aR9",
        "outputId": "6d148763-c3fe-4161-d085-39c39f42affa",
        "colab": {
          "base_uri": "https://localhost:8080/",
          "height": 37
        }
      },
      "source": [
        "N(2+sqrt(2))  # Vemos que converge al mayor autovalor"
      ],
      "execution_count": 13,
      "outputs": [
        {
          "output_type": "execute_result",
          "data": {
            "text/latex": "$\\displaystyle 3.41421356237309$",
            "text/plain": [
              "3.41421356237309"
            ]
          },
          "metadata": {
            "tags": []
          },
          "execution_count": 13
        }
      ]
    },
    {
      "cell_type": "code",
      "metadata": {
        "id": "5mRLmChE0Lsx",
        "outputId": "906efa4e-3f8c-4b9e-9f09-533315c1d613",
        "colab": {
          "base_uri": "https://localhost:8080/"
        }
      },
      "source": [
        "np.array(potencia_iterada(A**-1, x, 300, devolver_ultimo=True), dtype=float)"
      ],
      "execution_count": 14,
      "outputs": [
        {
          "output_type": "execute_result",
          "data": {
            "text/plain": [
              "array([[1.70710678],\n",
              "       [1.70710678],\n",
              "       [1.70710678]])"
            ]
          },
          "metadata": {
            "tags": []
          },
          "execution_count": 14
        }
      ]
    },
    {
      "cell_type": "code",
      "metadata": {
        "id": "fZeAlvoy0Qsj",
        "outputId": "60387858-c3f2-4fcb-f963-d31d9028d1e7",
        "colab": {
          "base_uri": "https://localhost:8080/",
          "height": 37
        }
      },
      "source": [
        "1/N(2-sqrt(2))  # Y lo mismo con el menor"
      ],
      "execution_count": 15,
      "outputs": [
        {
          "output_type": "execute_result",
          "data": {
            "text/latex": "$\\displaystyle 1.70710678118655$",
            "text/plain": [
              "1.70710678118655"
            ]
          },
          "metadata": {
            "tags": []
          },
          "execution_count": 15
        }
      ]
    },
    {
      "cell_type": "code",
      "metadata": {
        "id": "aCtHNnOo32Y3",
        "outputId": "484451cd-eb36-4b3d-b979-972c2f475c31",
        "colab": {
          "base_uri": "https://localhost:8080/",
          "height": 327
        }
      },
      "source": [
        "# Si tomamos una matriz ortogonal, el metodo de la potencia no tiene validez \n",
        "# porque se requiere que haya autovalores dominantes, y en este caso los \n",
        "# autovalores tienen módulo 1.\n",
        "\n",
        "dict_QR = factorizacion_QR(A)\n",
        "Q = dict_QR['Q']\n",
        "\n",
        "Q"
      ],
      "execution_count": 16,
      "outputs": [
        {
          "output_type": "stream",
          "text": [
            "Aplicamos QR con Gram Schmidt\n",
            "Q es \n",
            "[[2*sqrt(5)/5 3*sqrt(70)/70 sqrt(14)/14]\n",
            " [-sqrt(5)/5 3*sqrt(70)/35 sqrt(14)/7]\n",
            " [0 -sqrt(70)/14 3*sqrt(14)/14]]\n",
            "R es \n",
            "[[sqrt(5) -4*sqrt(5)/5 sqrt(5)/5]\n",
            " [0 sqrt(70)/5 -8*sqrt(70)/35]\n",
            " [0 0 2*sqrt(14)/7]]\n",
            "D es \n",
            "[[sqrt(5) 0 0]\n",
            " [0 sqrt(70)/5 0]\n",
            " [0 0 2*sqrt(14)/7]]\n"
          ],
          "name": "stdout"
        },
        {
          "output_type": "execute_result",
          "data": {
            "text/latex": "$\\displaystyle \\left[\\begin{matrix}\\frac{2 \\sqrt{5}}{5} & \\frac{3 \\sqrt{70}}{70} & \\frac{\\sqrt{14}}{14}\\\\- \\frac{\\sqrt{5}}{5} & \\frac{3 \\sqrt{70}}{35} & \\frac{\\sqrt{14}}{7}\\\\0 & - \\frac{\\sqrt{70}}{14} & \\frac{3 \\sqrt{14}}{14}\\end{matrix}\\right]$",
            "text/plain": [
              "Matrix([\n",
              "[2*sqrt(5)/5, 3*sqrt(70)/70,   sqrt(14)/14],\n",
              "[ -sqrt(5)/5, 3*sqrt(70)/35,    sqrt(14)/7],\n",
              "[          0,  -sqrt(70)/14, 3*sqrt(14)/14]])"
            ]
          },
          "metadata": {
            "tags": []
          },
          "execution_count": 16
        }
      ]
    },
    {
      "cell_type": "code",
      "metadata": {
        "id": "DxNd9Bu25PY0",
        "outputId": "6eb70f77-200c-4cc0-c9df-22d25d94e21e",
        "colab": {
          "base_uri": "https://localhost:8080/",
          "height": 78
        }
      },
      "source": [
        "Q * Q.T"
      ],
      "execution_count": 17,
      "outputs": [
        {
          "output_type": "execute_result",
          "data": {
            "text/latex": "$\\displaystyle \\left[\\begin{matrix}1 & 0 & 0\\\\0 & 1 & 0\\\\0 & 0 & 1\\end{matrix}\\right]$",
            "text/plain": [
              "Matrix([\n",
              "[1, 0, 0],\n",
              "[0, 1, 0],\n",
              "[0, 0, 1]])"
            ]
          },
          "metadata": {
            "tags": []
          },
          "execution_count": 17
        }
      ]
    },
    {
      "cell_type": "code",
      "metadata": {
        "id": "4OTGpPI24XMP",
        "outputId": "4e455e2c-506c-43d6-b506-8813babc4042",
        "colab": {
          "base_uri": "https://localhost:8080/"
        }
      },
      "source": [
        "Q.eigenvals()"
      ],
      "execution_count": 18,
      "outputs": [
        {
          "output_type": "execute_result",
          "data": {
            "text/plain": [
              "{-1/2 + 3*sqrt(70)/70 + 3*sqrt(14)/28 + sqrt(5)/5 + sqrt(70)*I*sqrt(6*sqrt(14) + 20*sqrt(5) + 73)/140: 1,\n",
              " -1/2 + 3*sqrt(70)/70 + 3*sqrt(14)/28 + sqrt(5)/5 - sqrt(70)*I*sqrt(6*sqrt(14) + 20*sqrt(5) + 73)/140: 1,\n",
              " 1: 1}"
            ]
          },
          "metadata": {
            "tags": []
          },
          "execution_count": 18
        }
      ]
    },
    {
      "cell_type": "code",
      "metadata": {
        "id": "8JqObRQh4dVy",
        "outputId": "d2e5f07d-dfff-4e66-cdd5-22563483097c",
        "colab": {
          "base_uri": "https://localhost:8080/",
          "height": 38
        }
      },
      "source": [
        "N(-1/2 + 3*sqrt(70)/70 + 3*sqrt(14)/28 + sqrt(5)/5 + sqrt(70)*I*sqrt(6*sqrt(14) + 20*sqrt(5) + 73)/140)"
      ],
      "execution_count": 19,
      "outputs": [
        {
          "output_type": "execute_result",
          "data": {
            "text/latex": "$\\displaystyle 0.706674041168913 + 0.707539256534928 i$",
            "text/plain": [
              "0.706674041168913 + 0.707539256534928*I"
            ]
          },
          "metadata": {
            "tags": []
          },
          "execution_count": 19
        }
      ]
    },
    {
      "cell_type": "code",
      "metadata": {
        "id": "wQA0QfnG4u4b",
        "outputId": "a7c84d1f-b3aa-48b8-8de8-e8ef89362a9a",
        "colab": {
          "base_uri": "https://localhost:8080/",
          "height": 98
        }
      },
      "source": [
        "matriz_krylov(Q, x, 5)\n",
        "N(matriz_krylov(N(Q), x, 30), 4)"
      ],
      "execution_count": 20,
      "outputs": [
        {
          "output_type": "execute_result",
          "data": {
            "text/latex": "$\\displaystyle \\left[\\begin{array}{cccccccccccccccccccccccccccccc}-1.0 & -0.8944 & -0.6396 & -0.3851 & -0.2802 & -0.3864 & -0.6414 & -0.8957 & -1.0 & -0.8932 & -0.6379 & -0.3839 & -0.2802 & -0.3876 & -0.6432 & -0.8969 & -1.0 & -0.8919 & -0.6361 & -0.3826 & -0.2802 & -0.3889 & -0.6449 & -0.8981 & -1.0 & -0.8907 & -0.6344 & -0.3814 & -0.2802 & -0.3901\\\\0 & 0.4472 & 0.7207 & 0.66 & 0.3008 & -0.1463 & -0.4189 & -0.3571 & 0.002789 & 0.4497 & 0.7214 & 0.6586 & 0.298 & -0.1487 & -0.4196 & -0.3557 & 0.005581 & 0.4522 & 0.7222 & 0.6571 & 0.2952 & -0.1512 & -0.4203 & -0.3542 & 0.008377 & 0.4547 & 0.7229 & 0.6556 & 0.2924 & -0.1537\\\\0 & 0 & -0.2673 & -0.645 & -0.9116 & -0.9107 & -0.6428 & -0.265 & 0.0009189 & -0.0009298 & -0.2695 & -0.6472 & -0.9125 & -0.9097 & -0.6405 & -0.2628 & 0.001827 & -0.001871 & -0.2717 & -0.6494 & -0.9134 & -0.9088 & -0.6383 & -0.2606 & 0.002724 & -0.002822 & -0.274 & -0.6517 & -0.9143 & -0.9078\\end{array}\\right]$",
            "text/plain": [
              "Matrix([\n",
              "[-1.0, -0.8944, -0.6396, -0.3851, -0.2802, -0.3864, -0.6414, -0.8957,      -1.0,    -0.8932, -0.6379, -0.3839, -0.2802, -0.3876, -0.6432, -0.8969,     -1.0,   -0.8919, -0.6361, -0.3826, -0.2802, -0.3889, -0.6449, -0.8981,     -1.0,   -0.8907, -0.6344, -0.3814, -0.2802, -0.3901],\n",
              "[   0,  0.4472,  0.7207,    0.66,  0.3008, -0.1463, -0.4189, -0.3571,  0.002789,     0.4497,  0.7214,  0.6586,   0.298, -0.1487, -0.4196, -0.3557, 0.005581,    0.4522,  0.7222,  0.6571,  0.2952, -0.1512, -0.4203, -0.3542, 0.008377,    0.4547,  0.7229,  0.6556,  0.2924, -0.1537],\n",
              "[   0,       0, -0.2673,  -0.645, -0.9116, -0.9107, -0.6428,  -0.265, 0.0009189, -0.0009298, -0.2695, -0.6472, -0.9125, -0.9097, -0.6405, -0.2628, 0.001827, -0.001871, -0.2717, -0.6494, -0.9134, -0.9088, -0.6383, -0.2606, 0.002724, -0.002822,  -0.274, -0.6517, -0.9143, -0.9078]])"
            ]
          },
          "metadata": {
            "tags": []
          },
          "execution_count": 20
        }
      ]
    },
    {
      "cell_type": "code",
      "metadata": {
        "id": "vHbR8UGa4hgd",
        "outputId": "84a42675-99ce-4d1b-99f4-3d83a092fbb2",
        "colab": {
          "base_uri": "https://localhost:8080/",
          "height": 78
        }
      },
      "source": [
        "potencia_iterada(N(Q), x, 100, devolver_ultimo=False)[:, -5:]  # No hay una convergencia"
      ],
      "execution_count": 21,
      "outputs": [
        {
          "output_type": "execute_result",
          "data": {
            "text/latex": "$\\displaystyle \\left[\\begin{matrix}1.37557034955669 & 1.09950394431198 & 0.87958650631057 & 0.703627646520887 & 0.599249037699484\\\\0.798807773712383 & -0.098973906538541 & 14.1485870868619 & 1.52866460582954 & 0.880853879297849\\\\0.389731890617887 & -0.0427717673838562 & -1.15251841222703 & 24.7932563995652 & 2.28101317939026\\end{matrix}\\right]$",
            "text/plain": [
              "Matrix([\n",
              "[ 1.37557034955669,    1.09950394431198,  0.87958650631057, 0.703627646520887, 0.599249037699484],\n",
              "[0.798807773712383,  -0.098973906538541,  14.1485870868619,  1.52866460582954, 0.880853879297849],\n",
              "[0.389731890617887, -0.0427717673838562, -1.15251841222703,  24.7932563995652,  2.28101317939026]])"
            ]
          },
          "metadata": {
            "tags": []
          },
          "execution_count": 21
        }
      ]
    },
    {
      "cell_type": "markdown",
      "metadata": {
        "id": "cjhzEPbM5x7P"
      },
      "source": [
        "### Método QR\n",
        "\n",
        "El método QR consiste en aplicar los siguientes pasos:\n",
        "\n",
        "$$A^{(1)} = A$$\n",
        "\n",
        "De ahí sacamos que \n",
        "$$A^{(1)}  = Q^{(1)}R^{(1)}$$\n",
        "\n",
        "De ahí construimos:\n",
        "$$A^{(2)}  = R^{(1)}Q^{(1)}$$\n",
        "\n",
        "Y se cumple que $A^{(1)}$ y $A^{(2)}$ son semejantes, luego tienen los mismos \n",
        "autovalores.\n",
        "\n",
        "Con ello se reitera el proceso, y se cumple que las matrices equivalentes \n",
        "construidas convergen a una matriz triangular superior. Los la diagonal de $A^{(k)}$ converge a los autovalores de $A$."
      ]
    },
    {
      "cell_type": "code",
      "metadata": {
        "id": "mxXCIhve_fys",
        "outputId": "023920cc-c4a0-4452-edfd-5cff548e028a",
        "colab": {
          "base_uri": "https://localhost:8080/"
        }
      },
      "source": [
        "help(metodo_autovals_QR)"
      ],
      "execution_count": 22,
      "outputs": [
        {
          "output_type": "stream",
          "text": [
            "Help on function metodo_autovals_QR in module anmi.T3:\n",
            "\n",
            "metodo_autovals_QR(A, n_iters=3, verbose=True)\n",
            "    Aplica el método QR para el cálculo de autovalores de una matriz.\n",
            "    \n",
            "    Args:\n",
            "        A (matriz): Matriz para el metodo\n",
            "        n_iters (int, optional): Número de iteraciones. Defaults to 3.\n",
            "        verbose (bool, optional): Imprime información intermedia.\n",
            "    \n",
            "    Returns:\n",
            "        dict: \"A\": lista de valores de A = R*Q en cada iteración, \"R\" Y \"Q\": matrices Q y R del método.\n",
            "\n"
          ],
          "name": "stdout"
        }
      ]
    },
    {
      "cell_type": "code",
      "metadata": {
        "id": "pcOLWedR_AYp",
        "outputId": "8bdd1779-fdf4-4c56-fe18-33e1d2d3b0b6",
        "colab": {
          "base_uri": "https://localhost:8080/"
        }
      },
      "source": [
        "dict_QR = metodo_autovals_QR(A, n_iters=10)"
      ],
      "execution_count": 23,
      "outputs": [
        {
          "output_type": "stream",
          "text": [
            "Aplicamos QR con Gram Schmidt\n",
            "Q es \n",
            "[[2*sqrt(5)/5 3*sqrt(70)/70 sqrt(14)/14]\n",
            " [-sqrt(5)/5 3*sqrt(70)/35 sqrt(14)/7]\n",
            " [0 -sqrt(70)/14 3*sqrt(14)/14]]\n",
            "R es \n",
            "[[sqrt(5) -4*sqrt(5)/5 sqrt(5)/5]\n",
            " [0 sqrt(70)/5 -8*sqrt(70)/35]\n",
            " [0 0 2*sqrt(14)/7]]\n",
            "D es \n",
            "[[sqrt(5) 0 0]\n",
            " [0 sqrt(70)/5 0]\n",
            " [0 0 2*sqrt(14)/7]]\n",
            "Aplicamos QR con Gram Schmidt\n",
            "Q es \n",
            "[[sqrt(210)/15 sqrt(805)/115 sqrt(690)/345]\n",
            " [-sqrt(15)/15 7*sqrt(230)/115 2*sqrt(2415)/345]\n",
            " [0 -sqrt(46)/23 sqrt(483)/23]]\n",
            "R es \n",
            "[[sqrt(210)/5 -12*sqrt(15)/35 2*sqrt(3)/21]\n",
            " [0 sqrt(230)/7 -20*sqrt(46)/161]\n",
            " [0 0 2*sqrt(483)/69]]\n",
            "D es \n",
            "[[sqrt(210)/5 0 0]\n",
            " [0 sqrt(230)/7 0]\n",
            " [0 0 2*sqrt(483)/69]]\n",
            "Aplicamos QR con Gram Schmidt\n",
            "Q es \n",
            "[[11*sqrt(4494)/749 233*sqrt(1781871)/1781871 2*sqrt(16653)/16653]\n",
            " [-sqrt(17227)/749 2563*sqrt(27322022)/13661011 22*sqrt(255346)/127673]\n",
            " [0 -2*sqrt(5854719)/54717 233*sqrt(54717)/54717]]\n",
            "R es \n",
            "[[sqrt(4494)/21 -124*sqrt(17227)/17227 2*sqrt(14766)/7383]\n",
            " [0 sqrt(27322022)/2461 -192*sqrt(5854719)/1951573]\n",
            " [0 0 2*sqrt(54717)/793]]\n",
            "D es \n",
            "[[sqrt(4494)/21 0 0]\n",
            " [0 sqrt(27322022)/2461 0]\n",
            " [0 0 2*sqrt(54717)/793]]\n",
            "Aplicamos QR con Gram Schmidt\n",
            "Q es \n",
            "[[177*sqrt(126902)/63451 2705*sqrt(585843083)/585843083\n",
            "  2*sqrt(1975862)/987931]\n",
            " [-sqrt(50316643)/63451 478785*sqrt(929147129638)/464573564819\n",
            "  708*sqrt(783429283)/783429283]\n",
            " [0 -2*sqrt(8683618034)/7321769 2705*sqrt(7321769)/7321769]]\n",
            "R es \n",
            "[[sqrt(126902)/107 -4292*sqrt(50316643)/50316643 4*sqrt(470249)/470249]\n",
            " [0 sqrt(929147129638)/470249 -3112*sqrt(8683618034)/4341809017]\n",
            " [0 0 2*sqrt(7321769)/9233]]\n",
            "D es \n",
            "[[sqrt(126902)/107 0 0]\n",
            " [0 sqrt(929147129638)/470249 0]\n",
            " [0 0 2*sqrt(7321769)/9233]]\n",
            "Aplicamos QR con Gram Schmidt\n",
            "Q es \n",
            "[[143*sqrt(4026470)/287605 4503*sqrt(216658310995)/30951187285\n",
            "  4*sqrt(63816881)/63816881]\n",
            " [-sqrt(379350995)/287605 4507503*sqrt(81649232057830)/40824616028915\n",
            "  572*sqrt(1178442524546)/84174466039]\n",
            " [0 -4*sqrt(68844209155)/141946823 4503*sqrt(993627761)/141946823]]\n",
            "R es \n",
            "[[sqrt(4026470)/593 -49988*sqrt(379350995)/2655456965\n",
            "  4*sqrt(1279430)/4478005]\n",
            " [0 sqrt(81649232057830)/4478005 -35296*sqrt(68844209155)/481909464085]\n",
            " [0 0 2*sqrt(993627761)/107617]]\n",
            "D es \n",
            "[[sqrt(4026470)/593 0 0]\n",
            " [0 sqrt(81649232057830)/4478005 0]\n",
            " [0 0 2*sqrt(993627761)/107617]]\n",
            "Aplicamos QR con Gram Schmidt\n",
            "Q es \n",
            "[[251*sqrt(593446)/193515 71*sqrt(41358735355)/359641177\n",
            "  4*sqrt(37856966)/283927245]\n",
            " [-sqrt(60363779)/193515 409883*sqrt(16827610671830)/1682761067183\n",
            "  2008*sqrt(2037026555011)/1328495579355]\n",
            " [0 -4*sqrt(4956586354)/130436483 1065*sqrt(15000195545)/130436483]]\n",
            "R es \n",
            "[[3*sqrt(593446)/679 -38844*sqrt(60363779)/1388366917\n",
            "  8*sqrt(444505)/30670845]\n",
            " [0 sqrt(16827610671830)/2044723 -4528*sqrt(4956586354)/57000743071]\n",
            " [0 0 2*sqrt(15000195545)/418155]]\n",
            "D es \n",
            "[[3*sqrt(593446)/679 0 0]\n",
            " [0 sqrt(16827610671830)/2044723 0]\n",
            " [0 0 2*sqrt(15000195545)/418155]]\n",
            "Aplicamos QR con Gram Schmidt\n",
            "Q es \n",
            "[[2235*sqrt(499801270)/49980127\n",
            "  4283009*sqrt(146172929006867)/2192593935103005\n",
            "  8*sqrt(1278059377)/19170890655]\n",
            " [-sqrt(1393296000379)/49980127\n",
            "  638168341*sqrt(40748627419244313590)/4074862741924431359\n",
            "  1192*sqrt(356284612526290)/35628461252629]\n",
            " [0 -8*sqrt(9324628700055907)/1222944894255\n",
            "  4283009*sqrt(81529659617)/1222944894255]]\n",
            "R es \n",
            "[[sqrt(499801270)/6555 -150932*sqrt(1393296000379)/1393296000379\n",
            "  8*sqrt(31883203670)/47824805505]\n",
            " [0 sqrt(40748627419244313590)/3188320367\n",
            "  -157824*sqrt(9324628700055907)/9324628700055907]\n",
            " [0 0 6*sqrt(81529659617)/2924621]]\n",
            "D es \n",
            "[[sqrt(499801270)/6555 0 0]\n",
            " [0 sqrt(40748627419244313590)/3188320367 0]\n",
            " [0 0 6*sqrt(81529659617)/2924621]]\n",
            "Aplicamos QR con Gram Schmidt\n",
            "Q es \n",
            "[[27879*sqrt(152368019846)/10883429989\n",
            "  7132343*sqrt(12986280087780556739)/1855182869682936677\n",
            "  8*sqrt(38991222473606)/19495611236803]\n",
            " [-sqrt(22735648498470835)/10883429989\n",
            "  1391898133479*sqrt(7751009685021399924606310)/3875504842510699962303155\n",
            "  446064*sqrt(285086370154950133315)/40726624307850019045]\n",
            " [0 -8*sqrt(886490728685582530777148281010)/40726624307850019045\n",
            "  7132343*sqrt(2492645602075265)/356092228867895]]\n",
            "R es \n",
            "[[sqrt(152368019846)/114371\n",
            "  -79172612*sqrt(22735648498470835)/159149539489295845\n",
            "  16*sqrt(198788578385)/1391520048695]\n",
            " [0 sqrt(7751009685021399924606310)/1391520048695\n",
            "  -13782304*sqrt(886490728685582530777148281010)/27128533897574899736122085]\n",
            " [0 0 2*sqrt(2492645602075265)/170459393]]\n",
            "D es \n",
            "[[sqrt(152368019846)/114371 0 0]\n",
            " [0 sqrt(7751009685021399924606310)/1391520048695 0]\n",
            " [0 0 2*sqrt(2492645602075265)/170459393]]\n",
            "AVISO!!! A != QR\n",
            "Aplicamos QR con Gram Schmidt\n",
            "Q es \n",
            "[[1136945*sqrt(5170916650886)/2585458325443\n",
            "  581984769*sqrt(32005133928270565509202033127662768436712427)/405489624524292679236717580241023\n",
            "  16*sqrt(8245747211071068101059648959531152057)/104469643777557357166431893]\n",
            " [-sqrt(5764880592055980697736453114459)/295701454139241353\n",
            "  22816712868645*sqrt(1751421903410834770553186425222)/30196929369152323630227352159\n",
            "  627280*sqrt(451233302376593143718402)/7779884523734364546869]\n",
            " [0 -16*sqrt(1314658251235777391038147)/338706272341624577\n",
            "  581984769*sqrt(338706272341624577)/338706272341624577]]\n",
            "R es \n",
            "[[sqrt(5170916650886)/666113\n",
            "  -922903556*sqrt(5764880592055980697736453114459)/50405090381792418512878729\n",
            "  16*sqrt(17309016914715613410146486)/75670479906250769033]\n",
            " [0 sqrt(1751421903410834770553186425222)/661622963043523\n",
            "  -160595584*sqrt(1314658251235777391038147)/1314658251235777391038147]\n",
            " [0 0 2*sqrt(338706272341624577)/1987020289]]\n",
            "D es \n",
            "[[sqrt(5170916650886)/666113 0 0]\n",
            " [0 sqrt(1751421903410834770553186425222)/661622963043523 0]\n",
            " [0 0 2*sqrt(338706272341624577)/1987020289]]\n",
            "Aplicamos QR con Gram Schmidt\n",
            "Q es \n",
            "[[6625621*sqrt(175599388583142)/87799694291571\n",
            "  55155379*sqrt(80234062314719638633195512180082691446818448951041215659)/103851462048457796390215751199742586357\n",
            "  16*sqrt(107323698007259272913842844461060982430888103454224902)/69457551001105498735755231707158173]\n",
            " [-sqrt(1086863766864802145590013483730713018439105819)/6929994763638136851044079\n",
            "  365438637365359*sqrt(10901911843754901542633564342)/38156691453142155399217475197\n",
            "  212019872*sqrt(3645688192352256547450419)/25519817346465795832152933]\n",
            " [0 -16*sqrt(2808749664427421250322)/53454321072585461\n",
            "  55155379*sqrt(939268784561144529)/53454321072585461]]\n",
            "R es \n",
            "[[sqrt(175599388583142)/3881411\n",
            "  -87464652*sqrt(1086863766864802145590013483730713018439105819)/111951546325306807944578502490397\n",
            "  32*sqrt(280017696364750382165149087208418025929)/3547689280525236151797157221]\n",
            " [0 7*sqrt(10901911843754901542633564342)/365426940289123\n",
            "  -7608896*sqrt(2808749664427421250322)/9830623825495974376127]\n",
            " [0 0 2*sqrt(939268784561144529)/3308915127]]\n",
            "D es \n",
            "[[sqrt(175599388583142)/3881411 0 0]\n",
            " [0 7*sqrt(10901911843754901542633564342)/365426940289123 0]\n",
            " [0 0 2*sqrt(939268784561144529)/3308915127]]\n",
            "AVISO!!! A != QR\n"
          ],
          "name": "stdout"
        }
      ]
    },
    {
      "cell_type": "code",
      "metadata": {
        "id": "5_VzEkvM_LkV",
        "outputId": "afb0ce14-8b1c-4c59-e8cf-4b07191a93a3",
        "colab": {
          "base_uri": "https://localhost:8080/",
          "height": 78
        }
      },
      "source": [
        "N(dict_QR['A'][-2], 3)"
      ],
      "execution_count": 24,
      "outputs": [
        {
          "output_type": "execute_result",
          "data": {
            "text/latex": "$\\displaystyle \\left[\\begin{matrix}3.41 & -0.0162 & 0\\\\-0.0162 & 2.0 & -3.17 \\cdot 10^{-5}\\\\0 & -3.17 \\cdot 10^{-5} & 0.586\\end{matrix}\\right]$",
            "text/plain": [
              "Matrix([\n",
              "[   3.41,  -0.0162,        0],\n",
              "[-0.0162,      2.0, -3.17e-5],\n",
              "[      0, -3.17e-5,    0.586]])"
            ]
          },
          "metadata": {
            "tags": []
          },
          "execution_count": 24
        }
      ]
    },
    {
      "cell_type": "code",
      "metadata": {
        "id": "gJ8ibIVd_HH7",
        "outputId": "741f3a7b-ca86-4f9e-db85-05441bc2cdde",
        "colab": {
          "base_uri": "https://localhost:8080/",
          "height": 78
        }
      },
      "source": [
        "N(dict_QR['A'][-1], 3)"
      ],
      "execution_count": 25,
      "outputs": [
        {
          "output_type": "execute_result",
          "data": {
            "text/latex": "$\\displaystyle \\left[\\begin{matrix}3.41 & -0.00952 & 0\\\\-0.00952 & 2.0 & -9.29 \\cdot 10^{-6}\\\\0 & -9.29 \\cdot 10^{-6} & 0.586\\end{matrix}\\right]$",
            "text/plain": [
              "Matrix([\n",
              "[    3.41, -0.00952,        0],\n",
              "[-0.00952,      2.0, -9.29e-6],\n",
              "[       0, -9.29e-6,    0.586]])"
            ]
          },
          "metadata": {
            "tags": []
          },
          "execution_count": 25
        }
      ]
    },
    {
      "cell_type": "code",
      "metadata": {
        "id": "8dWLVfTX_lAz",
        "outputId": "f43a7d01-8e03-4bfe-93cb-d158e2354b27",
        "colab": {
          "base_uri": "https://localhost:8080/"
        }
      },
      "source": [
        "N(2- sqrt(2), 3), 2, N(2 + sqrt(2), 3), "
      ],
      "execution_count": 26,
      "outputs": [
        {
          "output_type": "execute_result",
          "data": {
            "text/plain": [
              "(0.586, 2, 3.41)"
            ]
          },
          "metadata": {
            "tags": []
          },
          "execution_count": 26
        }
      ]
    },
    {
      "cell_type": "code",
      "metadata": {
        "id": "9AYS1YyAAAU9"
      },
      "source": [
        "A = mat([[1, 1, 1], [0, 0, 1], [0, 1, 1]])\n",
        "dict_QR = metodo_autovals_QR(A, n_iters=30, verbose=False)"
      ],
      "execution_count": 27,
      "outputs": []
    },
    {
      "cell_type": "code",
      "metadata": {
        "id": "IKEdAQ_CAAU_",
        "outputId": "9d36e718-7595-4362-c41e-4f376f6ed7dd",
        "colab": {
          "base_uri": "https://localhost:8080/",
          "height": 78
        }
      },
      "source": [
        "N(dict_QR['A'][-15], 3)"
      ],
      "execution_count": 28,
      "outputs": [
        {
          "output_type": "execute_result",
          "data": {
            "text/latex": "$\\displaystyle \\left[\\begin{matrix}1.0 & 1.38 & -0.325\\\\0 & 1.62 & 7.43 \\cdot 10^{-7}\\\\0 & 7.43 \\cdot 10^{-7} & -0.618\\end{matrix}\\right]$",
            "text/plain": [
              "Matrix([\n",
              "[1.0,    1.38,  -0.325],\n",
              "[  0,    1.62, 7.43e-7],\n",
              "[  0, 7.43e-7,  -0.618]])"
            ]
          },
          "metadata": {
            "tags": []
          },
          "execution_count": 28
        }
      ]
    },
    {
      "cell_type": "code",
      "metadata": {
        "id": "MtaeFkK0AAVA",
        "outputId": "7b2ca7ab-0b60-4cc1-c383-5e616427eab3",
        "colab": {
          "base_uri": "https://localhost:8080/",
          "height": 78
        }
      },
      "source": [
        "N(dict_QR['A'][-1], 3)"
      ],
      "execution_count": 29,
      "outputs": [
        {
          "output_type": "execute_result",
          "data": {
            "text/latex": "$\\displaystyle \\left[\\begin{matrix}1.0 & 1.38 & -0.325\\\\0 & 1.62 & 1.05 \\cdot 10^{-12}\\\\0 & 1.05 \\cdot 10^{-12} & -0.618\\end{matrix}\\right]$",
            "text/plain": [
              "Matrix([\n",
              "[1.0,     1.38,   -0.325],\n",
              "[  0,     1.62, 1.05e-12],\n",
              "[  0, 1.05e-12,   -0.618]])"
            ]
          },
          "metadata": {
            "tags": []
          },
          "execution_count": 29
        }
      ]
    },
    {
      "cell_type": "code",
      "metadata": {
        "id": "79oglbStAAVB",
        "outputId": "11ee8788-887e-46b9-9ea8-3737d8d427d6",
        "colab": {
          "base_uri": "https://localhost:8080/"
        }
      },
      "source": [
        "[N(i, 3) for i in list(A.eigenvals().keys())]"
      ],
      "execution_count": 30,
      "outputs": [
        {
          "output_type": "execute_result",
          "data": {
            "text/plain": [
              "[1.00, -0.618, 1.62]"
            ]
          },
          "metadata": {
            "tags": []
          },
          "execution_count": 30
        }
      ]
    },
    {
      "cell_type": "markdown",
      "metadata": {
        "id": "9IX9k4ZTSSiO"
      },
      "source": [
        "## Ejercicios"
      ]
    },
    {
      "cell_type": "markdown",
      "metadata": {
        "id": "dxhzBKn7SSrD"
      },
      "source": [
        "### Ejercicio 27\n",
        "\n",
        "Determinar las primera iteraciones generadas por el método de la potencia con normalización con norma infinito cuando se aplica a la matriz con vector inicial."
      ]
    },
    {
      "cell_type": "code",
      "metadata": {
        "id": "qHvk_qhbSp4D",
        "outputId": "3b17b11e-5093-4ce0-96a0-2092a1aabeb1",
        "colab": {
          "base_uri": "https://localhost:8080/",
          "height": 78
        }
      },
      "source": [
        "A = Matrix([[0, -1, 1], [0, 1, -1], [-1, -1, 2]])\n",
        "A"
      ],
      "execution_count": 31,
      "outputs": [
        {
          "output_type": "execute_result",
          "data": {
            "text/latex": "$\\displaystyle \\left[\\begin{matrix}0 & -1 & 1\\\\0 & 1 & -1\\\\-1 & -1 & 2\\end{matrix}\\right]$",
            "text/plain": [
              "Matrix([\n",
              "[ 0, -1,  1],\n",
              "[ 0,  1, -1],\n",
              "[-1, -1,  2]])"
            ]
          },
          "metadata": {
            "tags": []
          },
          "execution_count": 31
        }
      ]
    },
    {
      "cell_type": "code",
      "metadata": {
        "id": "8_31S9zcSqNb"
      },
      "source": [
        "x0 = Matrix([1, -1, 2])"
      ],
      "execution_count": 32,
      "outputs": []
    },
    {
      "cell_type": "code",
      "metadata": {
        "id": "MiAEZjhFTGsv"
      },
      "source": [
        "n_iters = 15\n",
        "m_krylov_x, m_krylov_w = zeros(A.shape[0], n_iters), zeros(A.shape[0], n_iters)\n",
        "m_krylov_x[:, 0] = x0\n",
        "m_krylov_w[:, 0] = x0/max(x0)\n",
        "\n",
        "for i in range(1, n_iters):\n",
        "    kriv_i_x = A * m_krylov_w[:, i - 1]\n",
        "    m_krylov_x[:, i] = kriv_i_x \n",
        "    m_krylov_w[:, i] = kriv_i_x / max(kriv_i_x) \n"
      ],
      "execution_count": 49,
      "outputs": []
    },
    {
      "cell_type": "code",
      "metadata": {
        "id": "jIGHZaZFSvz4",
        "outputId": "e1b776a9-c608-443b-effc-8f6a69ce115a",
        "colab": {
          "base_uri": "https://localhost:8080/",
          "height": 78
        }
      },
      "source": [
        "m_krylov_x"
      ],
      "execution_count": 50,
      "outputs": [
        {
          "output_type": "execute_result",
          "data": {
            "text/latex": "$\\displaystyle \\left[\\begin{array}{ccccccccccccccc}1 & \\frac{3}{2} & \\frac{7}{4} & \\frac{15}{8} & \\frac{31}{16} & \\frac{63}{32} & \\frac{127}{64} & \\frac{255}{128} & \\frac{511}{256} & \\frac{1023}{512} & \\frac{2047}{1024} & \\frac{4095}{2048} & \\frac{8191}{4096} & \\frac{16383}{8192} & \\frac{32767}{16384}\\\\-1 & - \\frac{3}{2} & - \\frac{7}{4} & - \\frac{15}{8} & - \\frac{31}{16} & - \\frac{63}{32} & - \\frac{127}{64} & - \\frac{255}{128} & - \\frac{511}{256} & - \\frac{1023}{512} & - \\frac{2047}{1024} & - \\frac{4095}{2048} & - \\frac{8191}{4096} & - \\frac{16383}{8192} & - \\frac{32767}{16384}\\\\2 & 2 & 2 & 2 & 2 & 2 & 2 & 2 & 2 & 2 & 2 & 2 & 2 & 2 & 2\\end{array}\\right]$",
            "text/plain": [
              "Matrix([\n",
              "[ 1,  3/2,  7/4,  15/8,  31/16,  63/32,  127/64,  255/128,  511/256,  1023/512,  2047/1024,  4095/2048,  8191/4096,  16383/8192,  32767/16384],\n",
              "[-1, -3/2, -7/4, -15/8, -31/16, -63/32, -127/64, -255/128, -511/256, -1023/512, -2047/1024, -4095/2048, -8191/4096, -16383/8192, -32767/16384],\n",
              "[ 2,    2,    2,     2,      2,      2,       2,        2,        2,         2,          2,          2,          2,           2,            2]])"
            ]
          },
          "metadata": {
            "tags": []
          },
          "execution_count": 50
        }
      ]
    },
    {
      "cell_type": "code",
      "metadata": {
        "id": "zeLdxnm0Udkl",
        "outputId": "c3f31e04-cec4-4425-ab49-84c593eab41b",
        "colab": {
          "base_uri": "https://localhost:8080/",
          "height": 78
        }
      },
      "source": [
        "m_krylov_w"
      ],
      "execution_count": 51,
      "outputs": [
        {
          "output_type": "execute_result",
          "data": {
            "text/latex": "$\\displaystyle \\left[\\begin{array}{ccccccccccccccc}\\frac{1}{2} & \\frac{3}{4} & \\frac{7}{8} & \\frac{15}{16} & \\frac{31}{32} & \\frac{63}{64} & \\frac{127}{128} & \\frac{255}{256} & \\frac{511}{512} & \\frac{1023}{1024} & \\frac{2047}{2048} & \\frac{4095}{4096} & \\frac{8191}{8192} & \\frac{16383}{16384} & \\frac{32767}{32768}\\\\- \\frac{1}{2} & - \\frac{3}{4} & - \\frac{7}{8} & - \\frac{15}{16} & - \\frac{31}{32} & - \\frac{63}{64} & - \\frac{127}{128} & - \\frac{255}{256} & - \\frac{511}{512} & - \\frac{1023}{1024} & - \\frac{2047}{2048} & - \\frac{4095}{4096} & - \\frac{8191}{8192} & - \\frac{16383}{16384} & - \\frac{32767}{32768}\\\\1 & 1 & 1 & 1 & 1 & 1 & 1 & 1 & 1 & 1 & 1 & 1 & 1 & 1 & 1\\end{array}\\right]$",
            "text/plain": [
              "Matrix([\n",
              "[ 1/2,  3/4,  7/8,  15/16,  31/32,  63/64,  127/128,  255/256,  511/512,  1023/1024,  2047/2048,  4095/4096,  8191/8192,  16383/16384,  32767/32768],\n",
              "[-1/2, -3/4, -7/8, -15/16, -31/32, -63/64, -127/128, -255/256, -511/512, -1023/1024, -2047/2048, -4095/4096, -8191/8192, -16383/16384, -32767/32768],\n",
              "[   1,    1,    1,      1,      1,      1,        1,        1,        1,          1,          1,          1,          1,            1,            1]])"
            ]
          },
          "metadata": {
            "tags": []
          },
          "execution_count": 51
        }
      ]
    },
    {
      "cell_type": "code",
      "metadata": {
        "id": "-dR0ujFSU1bi",
        "outputId": "6e773278-20ec-4ec5-c48a-dd0a696c02f2",
        "colab": {
          "base_uri": "https://localhost:8080/"
        }
      },
      "source": [
        "[N(i) for i in (np.array(m_krylov_x[0, 1:]) / np.array(m_krylov_w[0, :-1])).tolist()[0]]"
      ],
      "execution_count": 62,
      "outputs": [
        {
          "output_type": "execute_result",
          "data": {
            "text/plain": [
              "[3.00000000000000,\n",
              " 2.33333333333333,\n",
              " 2.14285714285714,\n",
              " 2.06666666666667,\n",
              " 2.03225806451613,\n",
              " 2.01587301587302,\n",
              " 2.00787401574803,\n",
              " 2.00392156862745,\n",
              " 2.00195694716243,\n",
              " 2.00097751710655,\n",
              " 2.00048851978505,\n",
              " 2.00024420024420,\n",
              " 2.00012208521548,\n",
              " 2.00006103888177]"
            ]
          },
          "metadata": {
            "tags": []
          },
          "execution_count": 62
        }
      ]
    },
    {
      "cell_type": "code",
      "metadata": {
        "id": "OwcyXCkwVlhT",
        "outputId": "be3e6ce0-7e6e-41d7-b349-57912ae14e0a",
        "colab": {
          "base_uri": "https://localhost:8080/",
          "height": 78
        }
      },
      "source": [
        "# Probamos sin normalizar\n",
        "\n",
        "n_iters = 15\n",
        "m_krylov_x  = zeros(A.shape[0], n_iters)\n",
        "m_krylov_x[:, 0] = x0\n",
        "\n",
        "for i in range(1, n_iters):\n",
        "    kriv_i_x = A * m_krylov_x[:, i - 1]\n",
        "    m_krylov_x[:, i] = kriv_i_x \n",
        "\n",
        "m_krylov_x "
      ],
      "execution_count": 63,
      "outputs": [
        {
          "output_type": "execute_result",
          "data": {
            "text/latex": "$\\displaystyle \\left[\\begin{array}{ccccccccccccccc}1 & 3 & 7 & 15 & 31 & 63 & 127 & 255 & 511 & 1023 & 2047 & 4095 & 8191 & 16383 & 32767\\\\-1 & -3 & -7 & -15 & -31 & -63 & -127 & -255 & -511 & -1023 & -2047 & -4095 & -8191 & -16383 & -32767\\\\2 & 4 & 8 & 16 & 32 & 64 & 128 & 256 & 512 & 1024 & 2048 & 4096 & 8192 & 16384 & 32768\\end{array}\\right]$",
            "text/plain": [
              "Matrix([\n",
              "[ 1,  3,  7,  15,  31,  63,  127,  255,  511,  1023,  2047,  4095,  8191,  16383,  32767],\n",
              "[-1, -3, -7, -15, -31, -63, -127, -255, -511, -1023, -2047, -4095, -8191, -16383, -32767],\n",
              "[ 2,  4,  8,  16,  32,  64,  128,  256,  512,  1024,  2048,  4096,  8192,  16384,  32768]])"
            ]
          },
          "metadata": {
            "tags": []
          },
          "execution_count": 63
        }
      ]
    },
    {
      "cell_type": "code",
      "metadata": {
        "id": "5L6GS871VPUF",
        "outputId": "1929db10-9487-4032-db1d-77463e26bb33",
        "colab": {
          "base_uri": "https://localhost:8080/"
        }
      },
      "source": [
        "[N(i) for i in (np.array(m_krylov_x[0, 1:]) / np.array(m_krylov_x[0, :-1])).tolist()[0]]"
      ],
      "execution_count": 64,
      "outputs": [
        {
          "output_type": "execute_result",
          "data": {
            "text/plain": [
              "[3.00000000000000,\n",
              " 2.33333333333333,\n",
              " 2.14285714285714,\n",
              " 2.06666666666667,\n",
              " 2.03225806451613,\n",
              " 2.01587301587302,\n",
              " 2.00787401574803,\n",
              " 2.00392156862745,\n",
              " 2.00195694716243,\n",
              " 2.00097751710655,\n",
              " 2.00048851978505,\n",
              " 2.00024420024420,\n",
              " 2.00012208521548,\n",
              " 2.00006103888177]"
            ]
          },
          "metadata": {
            "tags": []
          },
          "execution_count": 64
        }
      ]
    },
    {
      "cell_type": "markdown",
      "metadata": {
        "id": "zIdRJzsoV_Xc"
      },
      "source": [
        "### Ejercicio 28\n",
        "\n",
        "Realizar una iteración con el método QR para el cálculo de autovalores de la matriz $A$"
      ]
    },
    {
      "cell_type": "code",
      "metadata": {
        "id": "w059mn3BWMjj"
      },
      "source": [
        "A = Matrix([[1, 1, 0], [2, 1, 0], [2, 0, 1]])"
      ],
      "execution_count": 65,
      "outputs": []
    },
    {
      "cell_type": "code",
      "metadata": {
        "id": "3ISZtAmqWYh1",
        "outputId": "3406e853-fb01-4725-ed08-aea068318e36",
        "colab": {
          "base_uri": "https://localhost:8080/"
        }
      },
      "source": [
        "metodo_autovals_QR(A, n_iters=1, verbose=True)"
      ],
      "execution_count": 66,
      "outputs": [
        {
          "output_type": "stream",
          "text": [
            "Aplicamos QR con Gram Schmidt\n",
            "Q es \n",
            "[[1/3 2/3 2/3]\n",
            " [2/3 1/3 -2/3]\n",
            " [2/3 -2/3 1/3]]\n",
            "R es \n",
            "[[3 1 2/3]\n",
            " [0 1 -2/3]\n",
            " [0 0 1/3]]\n",
            "D es \n",
            "[[3 0 0]\n",
            " [0 1 0]\n",
            " [0 0 1/3]]\n"
          ],
          "name": "stdout"
        },
        {
          "output_type": "execute_result",
          "data": {
            "text/plain": [
              "{'A': [Matrix([\n",
              "  [19/9, 17/9, 14/9],\n",
              "  [ 2/9,  7/9, -8/9],\n",
              "  [ 2/9, -2/9,  1/9]])], 'Q': [Matrix([\n",
              "  [1/3,  2/3,  2/3],\n",
              "  [2/3,  1/3, -2/3],\n",
              "  [2/3, -2/3,  1/3]])], 'R': [Matrix([\n",
              "  [3, 1,  2/3],\n",
              "  [0, 1, -2/3],\n",
              "  [0, 0,  1/3]])]}"
            ]
          },
          "metadata": {
            "tags": []
          },
          "execution_count": 66
        }
      ]
    },
    {
      "cell_type": "code",
      "metadata": {
        "id": "JU4FJ9AkWplI",
        "outputId": "441d0d55-0385-4e3a-ba84-dcfdae362b59",
        "colab": {
          "base_uri": "https://localhost:8080/",
          "height": 207
        }
      },
      "source": [
        "dict_QR = metodo_autovals_QR(A, n_iters=15, verbose=False)\n",
        "N(dict_QR['A'][-1])"
      ],
      "execution_count": 71,
      "outputs": [
        {
          "output_type": "stream",
          "text": [
            "AVISO!!! A != QR\n",
            "AVISO!!! A != QR\n",
            "AVISO!!! A != QR\n",
            "AVISO!!! A != QR\n",
            "AVISO!!! A != QR\n",
            "AVISO!!! A != QR\n",
            "AVISO!!! A != QR\n"
          ],
          "name": "stdout"
        },
        {
          "output_type": "execute_result",
          "data": {
            "text/latex": "$\\displaystyle \\left[\\begin{matrix}2.41421356236752 & 1.15470542276318 & 1.80738910771084\\\\3.03592766377775 \\cdot 10^{-12} & 0.999998290811633 & -0.632459353868169\\\\6.78849140462537 \\cdot 10^{-12} & -3.82183366174131 \\cdot 10^{-6} & -0.41421185317915\\end{matrix}\\right]$",
            "text/plain": [
              "Matrix([\n",
              "[    2.41421356236752,     1.15470542276318,   1.80738910771084],\n",
              "[3.03592766377775e-12,    0.999998290811633, -0.632459353868169],\n",
              "[6.78849140462537e-12, -3.82183366174131e-6,  -0.41421185317915]])"
            ]
          },
          "metadata": {
            "tags": []
          },
          "execution_count": 71
        }
      ]
    },
    {
      "cell_type": "code",
      "metadata": {
        "id": "s-9D_Cb_W8BJ",
        "outputId": "542acbf7-b402-418e-ed98-9764aec8db25",
        "colab": {
          "base_uri": "https://localhost:8080/",
          "height": 78
        }
      },
      "source": [
        "N(dict_QR['A'][-2])"
      ],
      "execution_count": 73,
      "outputs": [
        {
          "output_type": "execute_result",
          "data": {
            "text/latex": "$\\displaystyle \\left[\\begin{matrix}2.4142135624056 & 1.15468874635682 & -1.80739976177357\\\\-1.76943180759392 \\cdot 10^{-11} & 1.00000412626917 & 0.63244630524895\\\\3.95663907028138 \\cdot 10^{-11} & -9.2267798802958 \\cdot 10^{-6} & -0.414217688674769\\end{matrix}\\right]$",
            "text/plain": [
              "Matrix([\n",
              "[      2.4142135624056,    1.15468874635682,  -1.80739976177357],\n",
              "[-1.76943180759392e-11,    1.00000412626917,   0.63244630524895],\n",
              "[ 3.95663907028138e-11, -9.2267798802958e-6, -0.414217688674769]])"
            ]
          },
          "metadata": {
            "tags": []
          },
          "execution_count": 73
        }
      ]
    },
    {
      "cell_type": "code",
      "metadata": {
        "id": "0GfeTbWJXEwu",
        "outputId": "df673582-7d3b-4f46-b15d-36cef9804c2d",
        "colab": {
          "base_uri": "https://localhost:8080/"
        }
      },
      "source": [
        "np.sort(solve(det(A - eye(3) * Symbol('lambda')), Symbol('lambda')))[::-1]"
      ],
      "execution_count": 80,
      "outputs": [
        {
          "output_type": "execute_result",
          "data": {
            "text/plain": [
              "array([1 + sqrt(2), 1, 1 - sqrt(2)], dtype=object)"
            ]
          },
          "metadata": {
            "tags": []
          },
          "execution_count": 80
        }
      ]
    },
    {
      "cell_type": "markdown",
      "metadata": {
        "id": "gk5nafPlXZ8L"
      },
      "source": [
        "### Ejercicio 29\n",
        "Sea $A$ con $\\theta$ dado. Determinar el n-ésimo términa de la sucesión de Krylov asociada a $A$ y al vector $x$. Por medio de la sucesión de Krylov determia el polinomio característico de $A$."
      ]
    },
    {
      "cell_type": "code",
      "metadata": {
        "id": "IOeqbEldXuE9"
      },
      "source": [
        "t = Symbol('theta')\n",
        "A = Matrix([[1, 0, 0], [0, cos(t), -sin(t)], [0, sin(t), cos(t)]])\n",
        "x0 = Matrix([1, cos(t), -sin(t)])"
      ],
      "execution_count": 89,
      "outputs": []
    },
    {
      "cell_type": "code",
      "metadata": {
        "id": "CoJNBxDIYD_L",
        "outputId": "5cdb0f3e-e209-4124-af9e-5252c38f956d",
        "colab": {
          "base_uri": "https://localhost:8080/",
          "height": 79
        }
      },
      "source": [
        "ss = simplify(matriz_krylov(A, x0, n_iters=8))\n",
        "ss"
      ],
      "execution_count": 95,
      "outputs": [
        {
          "output_type": "execute_result",
          "data": {
            "text/latex": "$\\displaystyle \\left[\\begin{matrix}1 & 1 & 1 & 1 & 1 & 1 & 1 & 1\\\\\\cos{\\left(\\theta \\right)} & 1 & \\cos{\\left(\\theta \\right)} & \\cos{\\left(2 \\theta \\right)} & \\cos{\\left(3 \\theta \\right)} & 8 \\sin^{4}{\\left(\\theta \\right)} - 8 \\sin^{2}{\\left(\\theta \\right)} + 1 & \\left(16 \\sin^{4}{\\left(\\theta \\right)} - 12 \\sin^{2}{\\left(\\theta \\right)} + 1\\right) \\cos{\\left(\\theta \\right)} & - \\sin^{8}{\\left(\\theta \\right)} + 14 \\sin^{6}{\\left(\\theta \\right)} \\cos^{2}{\\left(\\theta \\right)} - 14 \\sin^{2}{\\left(\\theta \\right)} \\cos^{6}{\\left(\\theta \\right)} + \\cos^{8}{\\left(\\theta \\right)}\\\\- \\sin{\\left(\\theta \\right)} & 0 & \\sin{\\left(\\theta \\right)} & \\sin{\\left(2 \\theta \\right)} & \\sin{\\left(3 \\theta \\right)} & \\sin{\\left(4 \\theta \\right)} & \\left(16 \\sin^{4}{\\left(\\theta \\right)} - 20 \\sin^{2}{\\left(\\theta \\right)} + 5\\right) \\sin{\\left(\\theta \\right)} & 2 \\left(16 \\sin^{4}{\\left(\\theta \\right)} - 16 \\sin^{2}{\\left(\\theta \\right)} + 3\\right) \\sin{\\left(\\theta \\right)} \\cos{\\left(\\theta \\right)}\\end{matrix}\\right]$",
            "text/plain": [
              "Matrix([\n",
              "[          1, 1,          1,            1,            1,                                     1,                                                    1,                                                                                                1],\n",
              "[ cos(theta), 1, cos(theta), cos(2*theta), cos(3*theta), 8*sin(theta)**4 - 8*sin(theta)**2 + 1, (16*sin(theta)**4 - 12*sin(theta)**2 + 1)*cos(theta), -sin(theta)**8 + 14*sin(theta)**6*cos(theta)**2 - 14*sin(theta)**2*cos(theta)**6 + cos(theta)**8],\n",
              "[-sin(theta), 0, sin(theta), sin(2*theta), sin(3*theta),                          sin(4*theta), (16*sin(theta)**4 - 20*sin(theta)**2 + 5)*sin(theta),                                2*(16*sin(theta)**4 - 16*sin(theta)**2 + 3)*sin(theta)*cos(theta)]])"
            ]
          },
          "metadata": {
            "tags": []
          },
          "execution_count": 95
        }
      ]
    },
    {
      "cell_type": "markdown",
      "metadata": {
        "id": "_l6W_2WVSSyi"
      },
      "source": [
        "Así a priori tiene pintas de que $A^nx = (1, \\cos(n-1)\\theta, sin(n-1)\\theta)^t$. \n",
        "\n",
        "Como $n=3$ solo necesitamos los primeros 4 términos de la sucesión de krylov para resolver el sistema y crear el polinomio característico."
      ]
    },
    {
      "cell_type": "code",
      "metadata": {
        "id": "8Gk6eFrWZF9l"
      },
      "source": [
        "M = ss[:3, :3]\n",
        "am = Matrix([Symbol('a0'), Symbol('a1'), Symbol('a2')])\n",
        "rhs = ss[:3, 3]"
      ],
      "execution_count": 96,
      "outputs": []
    },
    {
      "cell_type": "code",
      "metadata": {
        "id": "baxYJ0ekZgv7",
        "outputId": "552d90c8-532a-48f0-ed60-a688e55834ee",
        "colab": {
          "base_uri": "https://localhost:8080/",
          "height": 89
        }
      },
      "source": [
        "sol = simplify(M.inv() * rhs)\n",
        "sol"
      ],
      "execution_count": 105,
      "outputs": [
        {
          "output_type": "execute_result",
          "data": {
            "text/latex": "$\\displaystyle \\left[\\begin{matrix}1\\\\\\frac{\\cos{\\left(\\theta \\right)} - \\cos{\\left(2 \\theta \\right)}}{\\cos{\\left(\\theta \\right)} - 1}\\\\\\frac{- \\sin{\\left(\\theta \\right)} - \\sin{\\left(2 \\theta \\right)} + \\sin{\\left(3 \\theta \\right)}}{2 \\left(\\cos{\\left(\\theta \\right)} - 1\\right) \\sin{\\left(\\theta \\right)}}\\end{matrix}\\right]$",
            "text/plain": [
              "Matrix([\n",
              "[                                                                          1],\n",
              "[                               (cos(theta) - cos(2*theta))/(cos(theta) - 1)],\n",
              "[(-sin(theta) - sin(2*theta) + sin(3*theta))/(2*(cos(theta) - 1)*sin(theta))]])"
            ]
          },
          "metadata": {
            "tags": []
          },
          "execution_count": 105
        }
      ]
    },
    {
      "cell_type": "code",
      "metadata": {
        "id": "QUiHi5OFZ2lF",
        "outputId": "caf61801-314b-4168-a276-50bc10caafea",
        "colab": {
          "base_uri": "https://localhost:8080/",
          "height": 60
        }
      },
      "source": [
        "l = Symbol('lambda')\n",
        "simplify(sol[0] + sol[1] * l + sol[2] * l ** 2 - l ** 3)"
      ],
      "execution_count": 114,
      "outputs": [
        {
          "output_type": "execute_result",
          "data": {
            "text/latex": "$\\displaystyle \\frac{- \\lambda^{2} \\left(\\sin{\\left(\\theta \\right)} + \\sin{\\left(2 \\theta \\right)} - \\sin{\\left(3 \\theta \\right)}\\right) + 2 \\lambda \\left(\\cos{\\left(\\theta \\right)} - \\cos{\\left(2 \\theta \\right)}\\right) \\sin{\\left(\\theta \\right)} + \\left(2 - 2 \\lambda^{3}\\right) \\left(\\cos{\\left(\\theta \\right)} - 1\\right) \\sin{\\left(\\theta \\right)}}{2 \\left(\\cos{\\left(\\theta \\right)} - 1\\right) \\sin{\\left(\\theta \\right)}}$",
            "text/plain": [
              "(-lambda**2*(sin(theta) + sin(2*theta) - sin(3*theta)) + 2*lambda*(cos(theta) - cos(2*theta))*sin(theta) + (2 - 2*lambda**3)*(cos(theta) - 1)*sin(theta))/(2*(cos(theta) - 1)*sin(theta))"
            ]
          },
          "metadata": {
            "tags": []
          },
          "execution_count": 114
        }
      ]
    }
  ]
}