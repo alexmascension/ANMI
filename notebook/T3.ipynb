{
 "cells": [
  {
   "cell_type": "markdown",
   "metadata": {
    "colab_type": "text",
    "id": "view-in-github"
   },
   "source": [
    "<a href=\"https://colab.research.google.com/github/alexmascension/ANMI/blob/main/ANMI.ipynb\" target=\"_parent\"><img src=\"https://colab.research.google.com/assets/colab-badge.svg\" alt=\"Open In Colab\"/></a>"
   ]
  },
  {
   "cell_type": "markdown",
   "metadata": {
    "id": "Vf3GioQwcepr"
   },
   "source": [
    "# ANMI - Tema 3: Aproximación de autovalores"
   ]
  },
  {
   "cell_type": "code",
   "execution_count": null,
   "metadata": {},
   "outputs": [],
   "source": [
    "!pip install -r https://raw.githubusercontent.com/alexmascension/ANMI/main/requirements.txt"
   ]
  },
  {
   "cell_type": "code",
   "execution_count": null,
   "metadata": {
    "id": "dYo_JGn2TSxC"
   },
   "outputs": [],
   "source": [
    "from sympy import *\n",
    "from sympy.matrices import Matrix as mat\n",
    "from sympy.matrices import randMatrix\n",
    "from sympy import symbols\n",
    "import sympy\n",
    "\n",
    "import numpy as np\n",
    "\n",
    "from scipy.linalg import orth"
   ]
  },
  {
   "cell_type": "code",
   "execution_count": null,
   "metadata": {},
   "outputs": [],
   "source": [
    "from anmi.genericas import norma, print_verbose\n",
    "\n",
    "from anmi.T2 import factorizacion_QR\n",
    "from anmi.T3 import matriz_krylov, sucesion_krylov, potencia_iterada, metodo_autovals_QR"
   ]
  },
  {
   "cell_type": "markdown",
   "metadata": {
    "id": "B3T7oD8E1bEY"
   },
   "source": [
    "### Sucesiones de Krylov"
   ]
  },
  {
   "cell_type": "code",
   "execution_count": null,
   "metadata": {
    "colab": {
     "base_uri": "https://localhost:8080/",
     "height": 78
    },
    "id": "YFMQq7yCwW6W",
    "outputId": "7ced8fc1-17c3-40ed-c581-542ea03ae274"
   },
   "outputs": [],
   "source": [
    "# EJERCICIO 26\n",
    "A = mat([[1, 1, 1], [0, 2, 2], [3, -1, 0]])\n",
    "x = mat([[1, 0, 0]]).T\n",
    "\n",
    "m_krylov = matriz_krylov(A, x)\n",
    "m_krylov"
   ]
  },
  {
   "cell_type": "code",
   "execution_count": null,
   "metadata": {
    "colab": {
     "base_uri": "https://localhost:8080/",
     "height": 38
    },
    "id": "ADu3VAd5wXZ0",
    "outputId": "5fb1301e-313f-4d89-f3e8-390bf59d07b8"
   },
   "outputs": [],
   "source": [
    "sk, a = sucesion_krylov(A, x)\n",
    "sk"
   ]
  },
  {
   "cell_type": "code",
   "execution_count": null,
   "metadata": {
    "colab": {
     "base_uri": "https://localhost:8080/",
     "height": 78
    },
    "id": "C0Ystsv66PVG",
    "outputId": "a7fab906-6775-4366-8111-b9266297578f"
   },
   "outputs": [],
   "source": [
    "# EJEMPLO 15\n",
    "A = mat([[2, -1, 0], [-1, 2, -1], [0, -1, 2]])\n",
    "x = mat([[-1, 0, 1]]).T\n",
    "\n",
    "matriz_krylov(A, x)"
   ]
  },
  {
   "cell_type": "markdown",
   "metadata": {
    "id": "9W55409Jywkz"
   },
   "source": [
    "### Método de la potencia iterada\n",
    "\n",
    "En el método de la potencia iterada, se aplica la matriz de krylov hasta una potencia determinada, $k$. Entonces, se tiene que \n",
    "$$\\lim_{k \\to \\infty} \\frac{A^kw}{A^{k-1}w} = |\\lambda_1|$$\n",
    "Es decir, el mayor autovalor.\n",
    "\n",
    "Además, si tomamos $ B= A^{-1} $, tenemos que\n",
    "$$\\lim_{k \\to \\infty} \\frac{B^kw}{B^{k-1}w} = \\frac{1}{|\\lambda_n|}$$\n",
    "Donde $\\lambda_n$ es el menor autovalor."
   ]
  },
  {
   "cell_type": "code",
   "execution_count": null,
   "metadata": {
    "colab": {
     "base_uri": "https://localhost:8080/"
    },
    "id": "GTIZmAOv2Uni",
    "outputId": "65745b74-f058-4f1e-d63e-5c3af99d7cd9"
   },
   "outputs": [],
   "source": [
    "A.eigenvals()"
   ]
  },
  {
   "cell_type": "code",
   "execution_count": null,
   "metadata": {
    "colab": {
     "base_uri": "https://localhost:8080/",
     "height": 78
    },
    "id": "ZG--F3wJBtXr",
    "outputId": "b6908dd4-e07a-41e5-df1a-971549cc122b"
   },
   "outputs": [],
   "source": [
    "x = mat([[-2, 0, 1]]).T\n",
    "\n",
    "matriz_krylov(A, x, 17)"
   ]
  },
  {
   "cell_type": "code",
   "execution_count": null,
   "metadata": {
    "colab": {
     "base_uri": "https://localhost:8080/"
    },
    "id": "moRETh9eBtax",
    "outputId": "d58d324f-6b1f-4b43-dc1b-ad3df8c67199"
   },
   "outputs": [],
   "source": [
    "x = mat([[-1, 0, 0]]).T\n",
    "\n",
    "np.array(potencia_iterada(A, x, 30, devolver_ultimo=False)[:, -3:], dtype=float)"
   ]
  },
  {
   "cell_type": "code",
   "execution_count": null,
   "metadata": {
    "colab": {
     "base_uri": "https://localhost:8080/"
    },
    "id": "52wGtGj_1A4t",
    "outputId": "24511cfc-242d-49f1-bcc5-6b7750c02ea7"
   },
   "outputs": [],
   "source": [
    "x = mat([[-1, 0, 0]]).T\n",
    "\n",
    "np.array(potencia_iterada(A, x, 300, devolver_ultimo=True), dtype=float)"
   ]
  },
  {
   "cell_type": "code",
   "execution_count": null,
   "metadata": {
    "colab": {
     "base_uri": "https://localhost:8080/",
     "height": 37
    },
    "id": "3TExHlDA2aR9",
    "outputId": "fc984648-e21e-4155-eaaa-7a7cb4a2cdf6"
   },
   "outputs": [],
   "source": [
    "N(2+sqrt(2))  # Vemos que converge al mayor autovalor"
   ]
  },
  {
   "cell_type": "code",
   "execution_count": null,
   "metadata": {
    "colab": {
     "base_uri": "https://localhost:8080/"
    },
    "id": "5mRLmChE0Lsx",
    "outputId": "9fdbacc1-8599-45ac-d73b-1683ced3bc75"
   },
   "outputs": [],
   "source": [
    "np.array(potencia_iterada(A**-1, x, 300, devolver_ultimo=True), dtype=float)"
   ]
  },
  {
   "cell_type": "code",
   "execution_count": null,
   "metadata": {
    "colab": {
     "base_uri": "https://localhost:8080/",
     "height": 37
    },
    "id": "fZeAlvoy0Qsj",
    "outputId": "8a900a0e-2366-47e4-efb2-916dd7eef19b"
   },
   "outputs": [],
   "source": [
    "1/N(2-sqrt(2))  # Y lo mismo con el menor"
   ]
  },
  {
   "cell_type": "code",
   "execution_count": null,
   "metadata": {
    "colab": {
     "base_uri": "https://localhost:8080/",
     "height": 327
    },
    "id": "aCtHNnOo32Y3",
    "outputId": "3f47ee96-1ad4-4a9c-91ca-968a3b33c7c9"
   },
   "outputs": [],
   "source": [
    "# Si tomamos una matriz ortogonal, el metodo de la potencia no tiene validez \n",
    "# porque se requiere que haya autovalores dominantes, y en este caso los \n",
    "# autovalores tienen módulo 1.\n",
    "\n",
    "dict_QR = factorizacion_QR(A)\n",
    "Q = dict_QR['Q']\n",
    "\n",
    "Q"
   ]
  },
  {
   "cell_type": "code",
   "execution_count": null,
   "metadata": {
    "colab": {
     "base_uri": "https://localhost:8080/",
     "height": 78
    },
    "id": "DxNd9Bu25PY0",
    "outputId": "39c1b4e1-76f3-45f0-b4e7-f9463822ce80"
   },
   "outputs": [],
   "source": [
    "Q * Q.T"
   ]
  },
  {
   "cell_type": "code",
   "execution_count": null,
   "metadata": {
    "colab": {
     "base_uri": "https://localhost:8080/"
    },
    "id": "4OTGpPI24XMP",
    "outputId": "85a00607-39b6-4591-ebdc-849b04a3c7c5"
   },
   "outputs": [],
   "source": [
    "Q.eigenvals()"
   ]
  },
  {
   "cell_type": "code",
   "execution_count": null,
   "metadata": {
    "colab": {
     "base_uri": "https://localhost:8080/",
     "height": 38
    },
    "id": "8JqObRQh4dVy",
    "outputId": "59e95bea-1950-418c-f290-4eb87cf3c3e5"
   },
   "outputs": [],
   "source": [
    "N(-1/2 + 3*sqrt(70)/70 + 3*sqrt(14)/28 + sqrt(5)/5 + sqrt(70)*I*sqrt(6*sqrt(14) + 20*sqrt(5) + 73)/140)"
   ]
  },
  {
   "cell_type": "code",
   "execution_count": null,
   "metadata": {
    "colab": {
     "base_uri": "https://localhost:8080/",
     "height": 98
    },
    "id": "wQA0QfnG4u4b",
    "outputId": "906e523e-0c49-4266-c8a4-857535c6b22e"
   },
   "outputs": [],
   "source": [
    "matriz_krylov(Q, x, 5)\n",
    "N(matriz_krylov(N(Q), x, 30), 4)"
   ]
  },
  {
   "cell_type": "code",
   "execution_count": null,
   "metadata": {
    "colab": {
     "base_uri": "https://localhost:8080/",
     "height": 78
    },
    "id": "vHbR8UGa4hgd",
    "outputId": "10cf40ef-3ecb-44f6-df24-f33a16d54e25"
   },
   "outputs": [],
   "source": [
    "potencia_iterada(N(Q), x, 100, devolver_ultimo=False)[:, -5:]  # No hay una convergencia"
   ]
  },
  {
   "cell_type": "markdown",
   "metadata": {
    "id": "cjhzEPbM5x7P"
   },
   "source": [
    "### Método QR\n",
    "\n",
    "El método QR consiste en aplicar los siguientes pasos:\n",
    "\n",
    "$$A^{(1)} = A$$\n",
    "\n",
    "De ahí sacamos que \n",
    "$$A^{(1)}  = Q^{(1)}R^{(1)}$$\n",
    "\n",
    "De ahí construimos:\n",
    "$$A^{(2)}  = R^{(1)}Q^{(1)}$$\n",
    "\n",
    "Y se cumple que $A^{(1)}$ y $A^{(2)}$ son semejantes, luego tienen los mismos \n",
    "autovalores.\n",
    "\n",
    "Con ello se reitera el proceso, y se cumple que las matrices equivalentes \n",
    "construidas convergen a una matriz triangular superior. Los la diagonal de $A^{(k)}$ converge a los autovalores de $A$."
   ]
  },
  {
   "cell_type": "code",
   "execution_count": null,
   "metadata": {
    "id": "pcOLWedR_AYp"
   },
   "outputs": [],
   "source": [
    "dict_QR = metodo_autovals_QR(A, n_iters=10)"
   ]
  },
  {
   "cell_type": "code",
   "execution_count": null,
   "metadata": {
    "colab": {
     "base_uri": "https://localhost:8080/",
     "height": 78
    },
    "id": "5_VzEkvM_LkV",
    "outputId": "a52cd6d3-a693-4c0d-bece-f0dd4ea8022d"
   },
   "outputs": [],
   "source": [
    "N(dict_QR['A'][-2], 3)"
   ]
  },
  {
   "cell_type": "code",
   "execution_count": null,
   "metadata": {
    "colab": {
     "base_uri": "https://localhost:8080/",
     "height": 78
    },
    "id": "gJ8ibIVd_HH7",
    "outputId": "d32576f1-2294-49da-8b48-f95c4b0b5604"
   },
   "outputs": [],
   "source": [
    "N(dict_QR['A'][-1], 3)"
   ]
  },
  {
   "cell_type": "code",
   "execution_count": null,
   "metadata": {
    "colab": {
     "base_uri": "https://localhost:8080/"
    },
    "id": "8dWLVfTX_lAz",
    "outputId": "dcd2d2f9-55b4-41fd-ebbc-0d48374706f8"
   },
   "outputs": [],
   "source": [
    "N(2- sqrt(2), 3), 2, N(2 + sqrt(2), 3), "
   ]
  },
  {
   "cell_type": "code",
   "execution_count": null,
   "metadata": {
    "id": "9AYS1YyAAAU9"
   },
   "outputs": [],
   "source": [
    "A = mat([[1, 1, 1], [0, 0, 1], [0, 1, 1]])\n",
    "dict_QR = metodo_autovals_QR(A, n_iters=30, verbose=False)"
   ]
  },
  {
   "cell_type": "code",
   "execution_count": null,
   "metadata": {
    "colab": {
     "base_uri": "https://localhost:8080/",
     "height": 78
    },
    "id": "IKEdAQ_CAAU_",
    "outputId": "9233c76d-32b7-4954-94e8-acceebd54d64"
   },
   "outputs": [],
   "source": [
    "N(dict_QR['A'][-15], 3)"
   ]
  },
  {
   "cell_type": "code",
   "execution_count": null,
   "metadata": {
    "colab": {
     "base_uri": "https://localhost:8080/",
     "height": 78
    },
    "id": "MtaeFkK0AAVA",
    "outputId": "81d8695f-44df-4c56-bfff-2e9052b68c53"
   },
   "outputs": [],
   "source": [
    "N(dict_QR['A'][-1], 3)"
   ]
  },
  {
   "cell_type": "code",
   "execution_count": null,
   "metadata": {
    "colab": {
     "base_uri": "https://localhost:8080/"
    },
    "id": "79oglbStAAVB",
    "outputId": "5b3a8743-76f4-4f66-dce8-4a290fff5dc5"
   },
   "outputs": [],
   "source": [
    "[N(i, 3) for i in list(A.eigenvals().keys())]"
   ]
  }
 ],
 "metadata": {
  "colab": {
   "authorship_tag": "ABX9TyPOF9NZfuPCY3pFZt+XE+Cn",
   "include_colab_link": true,
   "name": "ANMI.ipynb",
   "provenance": [],
   "toc_visible": true
  },
  "kernelspec": {
   "display_name": "Python 3",
   "language": "python",
   "name": "python3"
  },
  "language_info": {
   "codemirror_mode": {
    "name": "ipython",
    "version": 3
   },
   "file_extension": ".py",
   "mimetype": "text/x-python",
   "name": "python",
   "nbconvert_exporter": "python",
   "pygments_lexer": "ipython3",
   "version": "3.8.5"
  }
 },
 "nbformat": 4,
 "nbformat_minor": 4
}
