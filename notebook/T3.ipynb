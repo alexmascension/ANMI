{
 "cells": [
  {
   "cell_type": "markdown",
   "metadata": {
    "colab_type": "text",
    "id": "view-in-github"
   },
   "source": [
    "<a href=\"https://colab.research.google.com/github/alexmascension/ANMI/blob/main/notebook/T3.ipynb\" target=\"_parent\"><img src=\"https://colab.research.google.com/assets/colab-badge.svg\" alt=\"Open In Colab\"/></a>"
   ]
  },
  {
   "cell_type": "markdown",
   "metadata": {
    "id": "Vf3GioQwcepr"
   },
   "source": [
    "# Tema 3: Aproximación de autovalores"
   ]
  },
  {
   "cell_type": "code",
   "execution_count": null,
   "metadata": {
    "id": "1hDZNaYFX936"
   },
   "outputs": [],
   "source": [
    "!pip install -r https://raw.githubusercontent.com/alexmascension/ANMI/main/requirements.txt"
   ]
  },
  {
   "cell_type": "code",
   "execution_count": null,
   "metadata": {
    "id": "dYo_JGn2TSxC"
   },
   "outputs": [],
   "source": [
    "from sympy import *\n",
    "from sympy.matrices import Matrix as mat\n",
    "from sympy.matrices import randMatrix\n",
    "from sympy import symbols\n",
    "import sympy\n",
    "\n",
    "import numpy as np\n",
    "\n",
    "from scipy.linalg import orth"
   ]
  },
  {
   "cell_type": "code",
   "execution_count": null,
   "metadata": {
    "id": "l-V6kF8_X937"
   },
   "outputs": [],
   "source": [
    "from anmi.genericas import norma, print_verbose\n",
    "\n",
    "from anmi.T2 import factorizacion_QR\n",
    "from anmi.T3 import matriz_krylov, sucesion_krylov, potencia_iterada, metodo_autovals_QR"
   ]
  },
  {
   "cell_type": "markdown",
   "metadata": {
    "id": "B3T7oD8E1bEY"
   },
   "source": [
    "### Sucesiones de Krylov\n",
    "Sea $A$ una matriz (aplicación lineal) y $x$ un vector. Si aplicamos la multiplicación de $A$ por $x$ de manera iterada obtenemos una serie de vectores $\\{x, Ax, A^2x, A^3x, \\cdots\\}$. Si $x$ no es un autovector de $A$, entonces esa sucesión tendrá $n$ (dimensión de $A$) vectores independientes. Si $x$ es un autovector, con su autovalor $\\lambda$, entonces la sucesión de vectores será, $\\{x, \\lambda x, \\lambda^2x, \\lambda^3x, \\cdots\\}$. Estas sucesiones de vectores se llaman *sucesiones de Krylov*.\n",
    "\n",
    "Por otra parte, por el teorema de Cayley-Hamilton se tiene que $A^nx$ tiene que ser una combinación lineal de los siguientes elementos de la sucesión, es decir:\n",
    "$$(-1)^nA^n + a_{n-1}A^{n-1} + \\cdots + a_1A + a_0I = 0$$\n",
    "\n",
    "Luego si tomamos $a = \\begin{bmatrix}a_0\\\\a_1\\\\ \\cdots \\\\ a_n\\end{bmatrix}$ se tiene que\n",
    "$$(x|Ax|\\cdots|A^{n-1}x)a = (-1)^{n+1}A^nx$$\n",
    "\n",
    "Y si resolvemos $a$, entonces se tienen los coeficientes del polinómio característico $p(\\lambda) = a_0 + a_1\\lambda + a_2\\lambda^2 + \\cdots + a_n\\lambda^n$$\n"
   ]
  },
  {
   "cell_type": "code",
   "execution_count": null,
   "metadata": {},
   "outputs": [],
   "source": [
    "help(matriz_krylov)"
   ]
  },
  {
   "cell_type": "code",
   "execution_count": null,
   "metadata": {
    "id": "YFMQq7yCwW6W"
   },
   "outputs": [],
   "source": [
    "# EJERCICIO 26\n",
    "A = mat([[1, 1, 1], [0, 2, 2], [3, -1, 0]])\n",
    "x = mat([[1, 0, 0]]).T\n",
    "\n",
    "m_krylov = matriz_krylov(A, x)\n",
    "m_krylov"
   ]
  },
  {
   "cell_type": "code",
   "execution_count": null,
   "metadata": {
    "id": "ADu3VAd5wXZ0"
   },
   "outputs": [],
   "source": [
    "sk, a = sucesion_krylov(A, x)\n",
    "sk"
   ]
  },
  {
   "cell_type": "code",
   "execution_count": null,
   "metadata": {
    "id": "C0Ystsv66PVG"
   },
   "outputs": [],
   "source": [
    "# EJEMPLO 15\n",
    "A = mat([[2, -1, 0], [-1, 2, -1], [0, -1, 2]])\n",
    "x = mat([[-1, 0, 1]]).T\n",
    "\n",
    "matriz_krylov(A, x)"
   ]
  },
  {
   "cell_type": "markdown",
   "metadata": {
    "id": "9W55409Jywkz"
   },
   "source": [
    "### Método de la potencia iterada\n",
    "\n",
    "En el método de la potencia iterada, se aplica la matriz de krylov hasta una potencia determinada, $k$. Entonces, se tiene que \n",
    "$$\\lim_{k \\to \\infty} \\frac{A^kw}{A^{k-1}w} = |\\lambda_1|$$\n",
    "Es decir, el mayor autovalor.\n",
    "\n",
    "Además, si tomamos $ B= A^{-1} $, tenemos que\n",
    "$$\\lim_{k \\to \\infty} \\frac{B^kw}{B^{k-1}w} = \\frac{1}{|\\lambda_n|}$$\n",
    "Donde $\\lambda_n$ es el menor autovalor."
   ]
  },
  {
   "cell_type": "code",
   "execution_count": null,
   "metadata": {},
   "outputs": [],
   "source": [
    "help(potencia_iterada)"
   ]
  },
  {
   "cell_type": "code",
   "execution_count": null,
   "metadata": {
    "id": "GTIZmAOv2Uni"
   },
   "outputs": [],
   "source": [
    "A.eigenvals()"
   ]
  },
  {
   "cell_type": "code",
   "execution_count": null,
   "metadata": {
    "id": "ZG--F3wJBtXr"
   },
   "outputs": [],
   "source": [
    "x = mat([[-2, 0, 1]]).T\n",
    "\n",
    "matriz_krylov(A, x, 17)"
   ]
  },
  {
   "cell_type": "code",
   "execution_count": null,
   "metadata": {
    "id": "moRETh9eBtax"
   },
   "outputs": [],
   "source": [
    "x = mat([[-1, 0, 0]]).T\n",
    "\n",
    "np.array(potencia_iterada(A, x, 30, devolver_ultimo=False)[:, -3:], dtype=float)"
   ]
  },
  {
   "cell_type": "code",
   "execution_count": null,
   "metadata": {
    "id": "52wGtGj_1A4t"
   },
   "outputs": [],
   "source": [
    "x = mat([[-1, 0, 0]]).T\n",
    "\n",
    "np.array(potencia_iterada(A, x, 300, devolver_ultimo=True), dtype=float)"
   ]
  },
  {
   "cell_type": "code",
   "execution_count": null,
   "metadata": {
    "id": "3TExHlDA2aR9"
   },
   "outputs": [],
   "source": [
    "N(2+sqrt(2))  # Vemos que converge al mayor autovalor"
   ]
  },
  {
   "cell_type": "code",
   "execution_count": null,
   "metadata": {
    "id": "5mRLmChE0Lsx"
   },
   "outputs": [],
   "source": [
    "np.array(potencia_iterada(A**-1, x, 300, devolver_ultimo=True), dtype=float)"
   ]
  },
  {
   "cell_type": "code",
   "execution_count": null,
   "metadata": {
    "id": "fZeAlvoy0Qsj"
   },
   "outputs": [],
   "source": [
    "1/N(2-sqrt(2))  # Y lo mismo con el menor"
   ]
  },
  {
   "cell_type": "code",
   "execution_count": null,
   "metadata": {
    "id": "aCtHNnOo32Y3"
   },
   "outputs": [],
   "source": [
    "# Si tomamos una matriz ortogonal, el metodo de la potencia no tiene validez \n",
    "# porque se requiere que haya autovalores dominantes, y en este caso los \n",
    "# autovalores tienen módulo 1.\n",
    "\n",
    "dict_QR = factorizacion_QR(A)\n",
    "Q = dict_QR['Q']\n",
    "\n",
    "Q"
   ]
  },
  {
   "cell_type": "code",
   "execution_count": null,
   "metadata": {
    "id": "DxNd9Bu25PY0"
   },
   "outputs": [],
   "source": [
    "Q * Q.T"
   ]
  },
  {
   "cell_type": "code",
   "execution_count": null,
   "metadata": {
    "id": "4OTGpPI24XMP"
   },
   "outputs": [],
   "source": [
    "Q.eigenvals()"
   ]
  },
  {
   "cell_type": "code",
   "execution_count": null,
   "metadata": {
    "id": "8JqObRQh4dVy"
   },
   "outputs": [],
   "source": [
    "N(-1/2 + 3*sqrt(70)/70 + 3*sqrt(14)/28 + sqrt(5)/5 + sqrt(70)*I*sqrt(6*sqrt(14) + 20*sqrt(5) + 73)/140)"
   ]
  },
  {
   "cell_type": "code",
   "execution_count": null,
   "metadata": {
    "id": "wQA0QfnG4u4b"
   },
   "outputs": [],
   "source": [
    "matriz_krylov(Q, x, 5)\n",
    "N(matriz_krylov(N(Q), x, 30), 4)"
   ]
  },
  {
   "cell_type": "code",
   "execution_count": null,
   "metadata": {
    "id": "vHbR8UGa4hgd"
   },
   "outputs": [],
   "source": [
    "potencia_iterada(N(Q), x, 100, devolver_ultimo=False)[:, -5:]  # No hay una convergencia"
   ]
  },
  {
   "cell_type": "markdown",
   "metadata": {
    "id": "cjhzEPbM5x7P"
   },
   "source": [
    "### Método QR\n",
    "\n",
    "El método QR consiste en aplicar los siguientes pasos:\n",
    "\n",
    "$$A^{(1)} = A$$\n",
    "\n",
    "De ahí sacamos que \n",
    "$$A^{(1)}  = Q^{(1)}R^{(1)}$$\n",
    "\n",
    "De ahí construimos:\n",
    "$$A^{(2)}  = R^{(1)}Q^{(1)}$$\n",
    "\n",
    "Y se cumple que $A^{(1)}$ y $A^{(2)}$ son semejantes, luego tienen los mismos \n",
    "autovalores.\n",
    "\n",
    "Con ello se reitera el proceso, y se cumple que las matrices equivalentes \n",
    "construidas convergen a una matriz triangular superior. Los la diagonal de $A^{(k)}$ converge a los autovalores de $A$."
   ]
  },
  {
   "cell_type": "code",
   "execution_count": null,
   "metadata": {},
   "outputs": [],
   "source": [
    "help(metodo_autovals_QR)"
   ]
  },
  {
   "cell_type": "code",
   "execution_count": null,
   "metadata": {
    "id": "pcOLWedR_AYp"
   },
   "outputs": [],
   "source": [
    "dict_QR = metodo_autovals_QR(A, n_iters=10)"
   ]
  },
  {
   "cell_type": "code",
   "execution_count": null,
   "metadata": {
    "id": "5_VzEkvM_LkV"
   },
   "outputs": [],
   "source": [
    "N(dict_QR['A'][-2], 3)"
   ]
  },
  {
   "cell_type": "code",
   "execution_count": null,
   "metadata": {
    "id": "gJ8ibIVd_HH7"
   },
   "outputs": [],
   "source": [
    "N(dict_QR['A'][-1], 3)"
   ]
  },
  {
   "cell_type": "code",
   "execution_count": null,
   "metadata": {
    "id": "8dWLVfTX_lAz"
   },
   "outputs": [],
   "source": [
    "N(2- sqrt(2), 3), 2, N(2 + sqrt(2), 3), "
   ]
  },
  {
   "cell_type": "code",
   "execution_count": null,
   "metadata": {
    "id": "9AYS1YyAAAU9"
   },
   "outputs": [],
   "source": [
    "A = mat([[1, 1, 1], [0, 0, 1], [0, 1, 1]])\n",
    "dict_QR = metodo_autovals_QR(A, n_iters=30, verbose=False)"
   ]
  },
  {
   "cell_type": "code",
   "execution_count": null,
   "metadata": {
    "id": "IKEdAQ_CAAU_"
   },
   "outputs": [],
   "source": [
    "N(dict_QR['A'][-15], 3)"
   ]
  },
  {
   "cell_type": "code",
   "execution_count": null,
   "metadata": {
    "id": "MtaeFkK0AAVA"
   },
   "outputs": [],
   "source": [
    "N(dict_QR['A'][-1], 3)"
   ]
  },
  {
   "cell_type": "code",
   "execution_count": null,
   "metadata": {
    "id": "79oglbStAAVB"
   },
   "outputs": [],
   "source": [
    "[N(i, 3) for i in list(A.eigenvals().keys())]"
   ]
  }
 ],
 "metadata": {
  "colab": {
   "include_colab_link": true,
   "name": "ANMI.ipynb",
   "provenance": [],
   "toc_visible": true
  },
  "kernelspec": {
   "display_name": "Python 3",
   "language": "python",
   "name": "python3"
  },
  "language_info": {
   "codemirror_mode": {
    "name": "ipython",
    "version": 3
   },
   "file_extension": ".py",
   "mimetype": "text/x-python",
   "name": "python",
   "nbconvert_exporter": "python",
   "pygments_lexer": "ipython3",
   "version": "3.8.5"
  }
 },
 "nbformat": 4,
 "nbformat_minor": 4
}
