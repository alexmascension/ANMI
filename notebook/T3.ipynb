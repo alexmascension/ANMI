{
  "nbformat": 4,
  "nbformat_minor": 0,
  "metadata": {
    "colab": {
      "name": "ANMI.ipynb",
      "provenance": [],
      "toc_visible": true,
      "include_colab_link": true
    },
    "kernelspec": {
      "display_name": "Python 3",
      "language": "python",
      "name": "python3"
    },
    "language_info": {
      "codemirror_mode": {
        "name": "ipython",
        "version": 3
      },
      "file_extension": ".py",
      "mimetype": "text/x-python",
      "name": "python",
      "nbconvert_exporter": "python",
      "pygments_lexer": "ipython3",
      "version": "3.8.5"
    }
  },
  "cells": [
    {
      "cell_type": "markdown",
      "metadata": {
        "id": "view-in-github",
        "colab_type": "text"
      },
      "source": [
        "<a href=\"https://colab.research.google.com/github/alexmascension/ANMI/blob/main/notebook/T3.ipynb\" target=\"_parent\"><img src=\"https://colab.research.google.com/assets/colab-badge.svg\" alt=\"Open In Colab\"/></a>"
      ]
    },
    {
      "cell_type": "markdown",
      "metadata": {
        "id": "Vf3GioQwcepr"
      },
      "source": [
        "# Tema 3: Aproximación de autovalores"
      ]
    },
    {
      "cell_type": "code",
      "metadata": {
        "id": "1hDZNaYFX936"
      },
      "source": [
        "!pip install -r https://raw.githubusercontent.com/alexmascension/ANMI/main/requirements.txt"
      ],
      "execution_count": null,
      "outputs": []
    },
    {
      "cell_type": "code",
      "metadata": {
        "id": "dYo_JGn2TSxC"
      },
      "source": [
        "from sympy import *\n",
        "from sympy.matrices import Matrix as mat\n",
        "from sympy.matrices import randMatrix\n",
        "from sympy import symbols\n",
        "import sympy\n",
        "\n",
        "import numpy as np\n",
        "\n",
        "from scipy.linalg import orth"
      ],
      "execution_count": null,
      "outputs": []
    },
    {
      "cell_type": "code",
      "metadata": {
        "id": "l-V6kF8_X937"
      },
      "source": [
        "from anmi.genericas import norma, print_verbose\n",
        "\n",
        "from anmi.T2 import factorizacion_QR\n",
        "from anmi.T3 import matriz_krylov, sucesion_krylov, potencia_iterada, metodo_autovals_QR"
      ],
      "execution_count": null,
      "outputs": []
    },
    {
      "cell_type": "markdown",
      "metadata": {
        "id": "B3T7oD8E1bEY"
      },
      "source": [
        "### Sucesiones de Krylov\n",
        "Sea $A$ una matriz (aplicación lineal) y $x$ un vector. Si aplicamos la multiplicación de $A$ por $x$ de manera iterada obtenemos una serie de vectores $\\{x, Ax, A^2x, A^3x, \\cdots\\}$. Si $x$ no es un autovector de $A$, entonces esa sucesión tendrá $n$ (dimensión de $A$) vectores independientes. Si $x$ es un autovector, con su autovalor $\\lambda$, entonces la sucesión de vectores será, $\\{x, \\lambda x, \\lambda^2x, \\lambda^3x, \\cdots\\}$. Estas sucesiones de vectores se llaman *sucesiones de Krylov*.\n",
        "\n",
        "Por otra parte, por el teorema de Cayley-Hamilton se tiene que $A^nx$ tiene que ser una combinación lineal de los siguientes elementos de la sucesión, es decir:\n",
        "$$(-1)^nA^n + a_{n-1}A^{n-1} + \\cdots + a_1A + a_0I = 0$$\n",
        "\n",
        "Luego si tomamos $a = \\begin{bmatrix}a_0\\\\a_1\\\\ \\cdots \\\\ a_n\\end{bmatrix}$ se tiene que\n",
        "$$(x|Ax|\\cdots|A^{n-1}x)a = (-1)^{n+1}A^nx$$\n",
        "\n",
        "Y si resolvemos $a$, entonces se tienen los coeficientes del polinómio característico $p(\\lambda) = a_0 + a_1\\lambda + a_2\\lambda^2 + \\cdots + a_n\\lambda^n$$\n"
      ]
    },
    {
      "cell_type": "code",
      "metadata": {
        "id": "YFMQq7yCwW6W"
      },
      "source": [
        "# EJERCICIO 26\n",
        "A = mat([[1, 1, 1], [0, 2, 2], [3, -1, 0]])\n",
        "x = mat([[1, 0, 0]]).T\n",
        "\n",
        "m_krylov = matriz_krylov(A, x)\n",
        "m_krylov"
      ],
      "execution_count": null,
      "outputs": []
    },
    {
      "cell_type": "code",
      "metadata": {
        "id": "ADu3VAd5wXZ0"
      },
      "source": [
        "sk, a = sucesion_krylov(A, x)\n",
        "sk"
      ],
      "execution_count": null,
      "outputs": []
    },
    {
      "cell_type": "code",
      "metadata": {
        "id": "C0Ystsv66PVG"
      },
      "source": [
        "# EJEMPLO 15\n",
        "A = mat([[2, -1, 0], [-1, 2, -1], [0, -1, 2]])\n",
        "x = mat([[-1, 0, 1]]).T\n",
        "\n",
        "matriz_krylov(A, x)"
      ],
      "execution_count": null,
      "outputs": []
    },
    {
      "cell_type": "markdown",
      "metadata": {
        "id": "9W55409Jywkz"
      },
      "source": [
        "### Método de la potencia iterada\n",
        "\n",
        "En el método de la potencia iterada, se aplica la matriz de krylov hasta una potencia determinada, $k$. Entonces, se tiene que \n",
        "$$\\lim_{k \\to \\infty} \\frac{A^kw}{A^{k-1}w} = |\\lambda_1|$$\n",
        "Es decir, el mayor autovalor.\n",
        "\n",
        "Además, si tomamos $ B= A^{-1} $, tenemos que\n",
        "$$\\lim_{k \\to \\infty} \\frac{B^kw}{B^{k-1}w} = \\frac{1}{|\\lambda_n|}$$\n",
        "Donde $\\lambda_n$ es el menor autovalor."
      ]
    },
    {
      "cell_type": "code",
      "metadata": {
        "id": "GTIZmAOv2Uni"
      },
      "source": [
        "A.eigenvals()"
      ],
      "execution_count": null,
      "outputs": []
    },
    {
      "cell_type": "code",
      "metadata": {
        "id": "ZG--F3wJBtXr"
      },
      "source": [
        "x = mat([[-2, 0, 1]]).T\n",
        "\n",
        "matriz_krylov(A, x, 17)"
      ],
      "execution_count": null,
      "outputs": []
    },
    {
      "cell_type": "code",
      "metadata": {
        "id": "moRETh9eBtax"
      },
      "source": [
        "x = mat([[-1, 0, 0]]).T\n",
        "\n",
        "np.array(potencia_iterada(A, x, 30, devolver_ultimo=False)[:, -3:], dtype=float)"
      ],
      "execution_count": null,
      "outputs": []
    },
    {
      "cell_type": "code",
      "metadata": {
        "id": "52wGtGj_1A4t"
      },
      "source": [
        "x = mat([[-1, 0, 0]]).T\n",
        "\n",
        "np.array(potencia_iterada(A, x, 300, devolver_ultimo=True), dtype=float)"
      ],
      "execution_count": null,
      "outputs": []
    },
    {
      "cell_type": "code",
      "metadata": {
        "id": "3TExHlDA2aR9"
      },
      "source": [
        "N(2+sqrt(2))  # Vemos que converge al mayor autovalor"
      ],
      "execution_count": null,
      "outputs": []
    },
    {
      "cell_type": "code",
      "metadata": {
        "id": "5mRLmChE0Lsx"
      },
      "source": [
        "np.array(potencia_iterada(A**-1, x, 300, devolver_ultimo=True), dtype=float)"
      ],
      "execution_count": null,
      "outputs": []
    },
    {
      "cell_type": "code",
      "metadata": {
        "id": "fZeAlvoy0Qsj"
      },
      "source": [
        "1/N(2-sqrt(2))  # Y lo mismo con el menor"
      ],
      "execution_count": null,
      "outputs": []
    },
    {
      "cell_type": "code",
      "metadata": {
        "id": "aCtHNnOo32Y3"
      },
      "source": [
        "# Si tomamos una matriz ortogonal, el metodo de la potencia no tiene validez \n",
        "# porque se requiere que haya autovalores dominantes, y en este caso los \n",
        "# autovalores tienen módulo 1.\n",
        "\n",
        "dict_QR = factorizacion_QR(A)\n",
        "Q = dict_QR['Q']\n",
        "\n",
        "Q"
      ],
      "execution_count": null,
      "outputs": []
    },
    {
      "cell_type": "code",
      "metadata": {
        "id": "DxNd9Bu25PY0"
      },
      "source": [
        "Q * Q.T"
      ],
      "execution_count": null,
      "outputs": []
    },
    {
      "cell_type": "code",
      "metadata": {
        "id": "4OTGpPI24XMP"
      },
      "source": [
        "Q.eigenvals()"
      ],
      "execution_count": null,
      "outputs": []
    },
    {
      "cell_type": "code",
      "metadata": {
        "id": "8JqObRQh4dVy"
      },
      "source": [
        "N(-1/2 + 3*sqrt(70)/70 + 3*sqrt(14)/28 + sqrt(5)/5 + sqrt(70)*I*sqrt(6*sqrt(14) + 20*sqrt(5) + 73)/140)"
      ],
      "execution_count": null,
      "outputs": []
    },
    {
      "cell_type": "code",
      "metadata": {
        "id": "wQA0QfnG4u4b"
      },
      "source": [
        "matriz_krylov(Q, x, 5)\n",
        "N(matriz_krylov(N(Q), x, 30), 4)"
      ],
      "execution_count": null,
      "outputs": []
    },
    {
      "cell_type": "code",
      "metadata": {
        "id": "vHbR8UGa4hgd"
      },
      "source": [
        "potencia_iterada(N(Q), x, 100, devolver_ultimo=False)[:, -5:]  # No hay una convergencia"
      ],
      "execution_count": null,
      "outputs": []
    },
    {
      "cell_type": "markdown",
      "metadata": {
        "id": "cjhzEPbM5x7P"
      },
      "source": [
        "### Método QR\n",
        "\n",
        "El método QR consiste en aplicar los siguientes pasos:\n",
        "\n",
        "$$A^{(1)} = A$$\n",
        "\n",
        "De ahí sacamos que \n",
        "$$A^{(1)}  = Q^{(1)}R^{(1)}$$\n",
        "\n",
        "De ahí construimos:\n",
        "$$A^{(2)}  = R^{(1)}Q^{(1)}$$\n",
        "\n",
        "Y se cumple que $A^{(1)}$ y $A^{(2)}$ son semejantes, luego tienen los mismos \n",
        "autovalores.\n",
        "\n",
        "Con ello se reitera el proceso, y se cumple que las matrices equivalentes \n",
        "construidas convergen a una matriz triangular superior. Los la diagonal de $A^{(k)}$ converge a los autovalores de $A$."
      ]
    },
    {
      "cell_type": "code",
      "metadata": {
        "id": "pcOLWedR_AYp"
      },
      "source": [
        "dict_QR = metodo_autovals_QR(A, n_iters=10)"
      ],
      "execution_count": null,
      "outputs": []
    },
    {
      "cell_type": "code",
      "metadata": {
        "id": "5_VzEkvM_LkV"
      },
      "source": [
        "N(dict_QR['A'][-2], 3)"
      ],
      "execution_count": null,
      "outputs": []
    },
    {
      "cell_type": "code",
      "metadata": {
        "id": "gJ8ibIVd_HH7"
      },
      "source": [
        "N(dict_QR['A'][-1], 3)"
      ],
      "execution_count": null,
      "outputs": []
    },
    {
      "cell_type": "code",
      "metadata": {
        "id": "8dWLVfTX_lAz"
      },
      "source": [
        "N(2- sqrt(2), 3), 2, N(2 + sqrt(2), 3), "
      ],
      "execution_count": null,
      "outputs": []
    },
    {
      "cell_type": "code",
      "metadata": {
        "id": "9AYS1YyAAAU9"
      },
      "source": [
        "A = mat([[1, 1, 1], [0, 0, 1], [0, 1, 1]])\n",
        "dict_QR = metodo_autovals_QR(A, n_iters=30, verbose=False)"
      ],
      "execution_count": null,
      "outputs": []
    },
    {
      "cell_type": "code",
      "metadata": {
        "id": "IKEdAQ_CAAU_"
      },
      "source": [
        "N(dict_QR['A'][-15], 3)"
      ],
      "execution_count": null,
      "outputs": []
    },
    {
      "cell_type": "code",
      "metadata": {
        "id": "MtaeFkK0AAVA"
      },
      "source": [
        "N(dict_QR['A'][-1], 3)"
      ],
      "execution_count": null,
      "outputs": []
    },
    {
      "cell_type": "code",
      "metadata": {
        "id": "79oglbStAAVB"
      },
      "source": [
        "[N(i, 3) for i in list(A.eigenvals().keys())]"
      ],
      "execution_count": null,
      "outputs": []
    }
  ]
}