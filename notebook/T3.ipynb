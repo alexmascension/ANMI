{
  "nbformat": 4,
  "nbformat_minor": 0,
  "metadata": {
    "colab": {
      "name": "ANMI.ipynb",
      "provenance": [],
      "toc_visible": true,
      "include_colab_link": true
    },
    "kernelspec": {
      "display_name": "Python 3",
      "language": "python",
      "name": "python3"
    },
    "language_info": {
      "codemirror_mode": {
        "name": "ipython",
        "version": 3
      },
      "file_extension": ".py",
      "mimetype": "text/x-python",
      "name": "python",
      "nbconvert_exporter": "python",
      "pygments_lexer": "ipython3",
      "version": "3.8.5"
    }
  },
  "cells": [
    {
      "cell_type": "markdown",
      "metadata": {
        "id": "view-in-github",
        "colab_type": "text"
      },
      "source": [
        "<a href=\"https://colab.research.google.com/github/alexmascension/ANMI/blob/main/notebook/T3.ipynb\" target=\"_parent\"><img src=\"https://colab.research.google.com/assets/colab-badge.svg\" alt=\"Open In Colab\"/></a>"
      ]
    },
    {
      "cell_type": "markdown",
      "metadata": {
        "id": "Vf3GioQwcepr"
      },
      "source": [
        "# Tema 3: Aproximación de autovalores"
      ]
    },
    {
      "cell_type": "code",
      "metadata": {
        "id": "1hDZNaYFX936"
      },
      "source": [
        "!pip install -r https://raw.githubusercontent.com/alexmascension/ANMI/main/requirements.txt"
      ],
      "execution_count": null,
      "outputs": []
    },
    {
      "cell_type": "code",
      "metadata": {
        "id": "dYo_JGn2TSxC"
      },
      "source": [
        "from sympy import *\n",
        "from sympy.matrices import Matrix as mat\n",
        "from sympy.matrices import randMatrix\n",
        "from sympy import symbols\n",
        "import sympy\n",
        "\n",
        "import numpy as np\n",
        "\n",
        "from scipy.linalg import orth"
      ],
      "execution_count": null,
      "outputs": []
    },
    {
      "cell_type": "code",
      "metadata": {
        "id": "l-V6kF8_X937"
      },
      "source": [
        "from anmi.genericas import norma, print_verbose\n",
        "\n",
        "from anmi.T2 import factorizacion_QR\n",
        "from anmi.T3 import matriz_krylov, sucesion_krylov, potencia_iterada, metodo_autovals_QR"
      ],
      "execution_count": null,
      "outputs": []
    },
    {
      "cell_type": "markdown",
      "metadata": {
        "id": "B3T7oD8E1bEY"
      },
      "source": [
        "### Sucesiones de Krylov\n",
        "Sea $A$ una matriz (aplicación lineal) y $x$ un vector. Si aplicamos la multiplicación de $A$ por $x$ de manera iterada obtenemos una serie de vectores $\\{x, Ax, A^2x, A^3x, \\cdots\\}$. Si $x$ no es un autovector de $A$, entonces esa sucesión tendrá $n$ (dimensión de $A$) vectores independientes. Si $x$ es un autovector, con su autovalor $\\lambda$, entonces la sucesión de vectores será, $\\{x, \\lambda x, \\lambda^2x, \\lambda^3x, \\cdots\\}$. Estas sucesiones de vectores se llaman *sucesiones de Krylov*.\n",
        "\n",
        "Por otra parte, por el teorema de Cayley-Hamilton se tiene que $A^nx$ tiene que ser una combinación lineal de los siguientes elementos de la sucesión, es decir:\n",
        "$$(-1)^nA^n + a_{n-1}A^{n-1} + \\cdots + a_1A + a_0I = 0$$\n",
        "\n",
        "Luego si tomamos $a = \\begin{bmatrix}a_0\\\\a_1\\\\ \\cdots \\\\ a_n\\end{bmatrix}$ se tiene que\n",
        "$$(x|Ax|\\cdots|A^{n-1}x)a = (-1)^{n+1}A^nx$$\n",
        "\n",
        "Y si resolvemos $a$, entonces se tienen los coeficientes del polinómio característico $p(\\lambda) = a_0 + a_1\\lambda + a_2\\lambda^2 + \\cdots + a_n\\lambda^n$$\n"
      ]
    },
    {
      "cell_type": "code",
      "metadata": {
        "id": "hWHzJKX-_fyl"
      },
      "source": [
        "help(matriz_krylov)"
      ],
      "execution_count": null,
      "outputs": []
    },
    {
      "cell_type": "code",
      "metadata": {
        "id": "YFMQq7yCwW6W"
      },
      "source": [
        "# EJERCICIO 26\n",
        "A = mat([[1, 1, 1], [0, 2, 2], [3, -1, 0]])\n",
        "x = mat([[1, 0, 0]]).T\n",
        "\n",
        "m_krylov = matriz_krylov(A, x)\n",
        "m_krylov"
      ],
      "execution_count": null,
      "outputs": []
    },
    {
      "cell_type": "code",
      "metadata": {
        "id": "ADu3VAd5wXZ0"
      },
      "source": [
        "sk, a = sucesion_krylov(A, x)\n",
        "sk"
      ],
      "execution_count": null,
      "outputs": []
    },
    {
      "cell_type": "code",
      "metadata": {
        "id": "C0Ystsv66PVG"
      },
      "source": [
        "# EJEMPLO 15\n",
        "A = mat([[2, -1, 0], [-1, 2, -1], [0, -1, 2]])\n",
        "x = mat([[-1, 0, 1]]).T\n",
        "\n",
        "matriz_krylov(A, x)"
      ],
      "execution_count": null,
      "outputs": []
    },
    {
      "cell_type": "markdown",
      "metadata": {
        "id": "9W55409Jywkz"
      },
      "source": [
        "### Método de la potencia iterada\n",
        "\n",
        "En el método de la potencia iterada, se aplica la matriz de krylov hasta una potencia determinada, $k$. Entonces, se tiene que \n",
        "$$\\lim_{k \\to \\infty} \\frac{A^kw}{A^{k-1}w} = |\\lambda_1|$$\n",
        "Es decir, el mayor autovalor.\n",
        "\n",
        "Además, si tomamos $ B= A^{-1} $, tenemos que\n",
        "$$\\lim_{k \\to \\infty} \\frac{B^kw}{B^{k-1}w} = \\frac{1}{|\\lambda_n|}$$\n",
        "Donde $\\lambda_n$ es el menor autovalor."
      ]
    },
    {
      "cell_type": "code",
      "metadata": {
        "id": "SiaUm0xL_fyn"
      },
      "source": [
        "help(potencia_iterada)"
      ],
      "execution_count": null,
      "outputs": []
    },
    {
      "cell_type": "code",
      "metadata": {
        "id": "GTIZmAOv2Uni"
      },
      "source": [
        "A.eigenvals()"
      ],
      "execution_count": null,
      "outputs": []
    },
    {
      "cell_type": "code",
      "metadata": {
        "id": "ZG--F3wJBtXr"
      },
      "source": [
        "x = mat([[-2, 0, 1]]).T\n",
        "\n",
        "matriz_krylov(A, x, 17)"
      ],
      "execution_count": null,
      "outputs": []
    },
    {
      "cell_type": "code",
      "metadata": {
        "id": "moRETh9eBtax"
      },
      "source": [
        "x = mat([[-1, 0, 0]]).T\n",
        "\n",
        "np.array(potencia_iterada(A, x, 30, devolver_ultimo=False)[:, -3:], dtype=float)"
      ],
      "execution_count": null,
      "outputs": []
    },
    {
      "cell_type": "code",
      "metadata": {
        "id": "52wGtGj_1A4t"
      },
      "source": [
        "x = mat([[-1, 0, 0]]).T\n",
        "\n",
        "np.array(potencia_iterada(A, x, 300, devolver_ultimo=True), dtype=float)"
      ],
      "execution_count": null,
      "outputs": []
    },
    {
      "cell_type": "code",
      "metadata": {
        "id": "3TExHlDA2aR9"
      },
      "source": [
        "N(2+sqrt(2))  # Vemos que converge al mayor autovalor"
      ],
      "execution_count": null,
      "outputs": []
    },
    {
      "cell_type": "code",
      "metadata": {
        "id": "5mRLmChE0Lsx"
      },
      "source": [
        "np.array(potencia_iterada(A**-1, x, 300, devolver_ultimo=True), dtype=float)"
      ],
      "execution_count": null,
      "outputs": []
    },
    {
      "cell_type": "code",
      "metadata": {
        "id": "fZeAlvoy0Qsj"
      },
      "source": [
        "1/N(2-sqrt(2))  # Y lo mismo con el menor"
      ],
      "execution_count": null,
      "outputs": []
    },
    {
      "cell_type": "code",
      "metadata": {
        "id": "aCtHNnOo32Y3"
      },
      "source": [
        "# Si tomamos una matriz ortogonal, el metodo de la potencia no tiene validez \n",
        "# porque se requiere que haya autovalores dominantes, y en este caso los \n",
        "# autovalores tienen módulo 1.\n",
        "\n",
        "dict_QR = factorizacion_QR(A)\n",
        "Q = dict_QR['Q']\n",
        "\n",
        "Q"
      ],
      "execution_count": null,
      "outputs": []
    },
    {
      "cell_type": "code",
      "metadata": {
        "id": "DxNd9Bu25PY0"
      },
      "source": [
        "Q * Q.T"
      ],
      "execution_count": null,
      "outputs": []
    },
    {
      "cell_type": "code",
      "metadata": {
        "id": "4OTGpPI24XMP"
      },
      "source": [
        "Q.eigenvals()"
      ],
      "execution_count": null,
      "outputs": []
    },
    {
      "cell_type": "code",
      "metadata": {
        "id": "8JqObRQh4dVy"
      },
      "source": [
        "N(-1/2 + 3*sqrt(70)/70 + 3*sqrt(14)/28 + sqrt(5)/5 + sqrt(70)*I*sqrt(6*sqrt(14) + 20*sqrt(5) + 73)/140)"
      ],
      "execution_count": null,
      "outputs": []
    },
    {
      "cell_type": "code",
      "metadata": {
        "id": "wQA0QfnG4u4b"
      },
      "source": [
        "matriz_krylov(Q, x, 5)\n",
        "N(matriz_krylov(N(Q), x, 30), 4)"
      ],
      "execution_count": null,
      "outputs": []
    },
    {
      "cell_type": "code",
      "metadata": {
        "id": "vHbR8UGa4hgd"
      },
      "source": [
        "potencia_iterada(N(Q), x, 100, devolver_ultimo=False)[:, -5:]  # No hay una convergencia"
      ],
      "execution_count": null,
      "outputs": []
    },
    {
      "cell_type": "markdown",
      "metadata": {
        "id": "cjhzEPbM5x7P"
      },
      "source": [
        "### Método QR\n",
        "\n",
        "El método QR consiste en aplicar los siguientes pasos:\n",
        "\n",
        "$$A^{(1)} = A$$\n",
        "\n",
        "De ahí sacamos que \n",
        "$$A^{(1)}  = Q^{(1)}R^{(1)}$$\n",
        "\n",
        "De ahí construimos:\n",
        "$$A^{(2)}  = R^{(1)}Q^{(1)}$$\n",
        "\n",
        "Y se cumple que $A^{(1)}$ y $A^{(2)}$ son semejantes, luego tienen los mismos \n",
        "autovalores.\n",
        "\n",
        "Con ello se reitera el proceso, y se cumple que las matrices equivalentes \n",
        "construidas convergen a una matriz triangular superior. Los la diagonal de $A^{(k)}$ converge a los autovalores de $A$."
      ]
    },
    {
      "cell_type": "code",
      "metadata": {
        "id": "mxXCIhve_fys"
      },
      "source": [
        "help(metodo_autovals_QR)"
      ],
      "execution_count": null,
      "outputs": []
    },
    {
      "cell_type": "code",
      "metadata": {
        "id": "pcOLWedR_AYp"
      },
      "source": [
        "dict_QR = metodo_autovals_QR(A, n_iters=10)"
      ],
      "execution_count": null,
      "outputs": []
    },
    {
      "cell_type": "code",
      "metadata": {
        "id": "5_VzEkvM_LkV"
      },
      "source": [
        "N(dict_QR['A'][-2], 3)"
      ],
      "execution_count": null,
      "outputs": []
    },
    {
      "cell_type": "code",
      "metadata": {
        "id": "gJ8ibIVd_HH7"
      },
      "source": [
        "N(dict_QR['A'][-1], 3)"
      ],
      "execution_count": null,
      "outputs": []
    },
    {
      "cell_type": "code",
      "metadata": {
        "id": "8dWLVfTX_lAz"
      },
      "source": [
        "N(2- sqrt(2), 3), 2, N(2 + sqrt(2), 3), "
      ],
      "execution_count": null,
      "outputs": []
    },
    {
      "cell_type": "code",
      "metadata": {
        "id": "9AYS1YyAAAU9"
      },
      "source": [
        "A = mat([[1, 1, 1], [0, 0, 1], [0, 1, 1]])\n",
        "dict_QR = metodo_autovals_QR(A, n_iters=30, verbose=False)"
      ],
      "execution_count": null,
      "outputs": []
    },
    {
      "cell_type": "code",
      "metadata": {
        "id": "IKEdAQ_CAAU_"
      },
      "source": [
        "N(dict_QR['A'][-15], 3)"
      ],
      "execution_count": null,
      "outputs": []
    },
    {
      "cell_type": "code",
      "metadata": {
        "id": "MtaeFkK0AAVA"
      },
      "source": [
        "N(dict_QR['A'][-1], 3)"
      ],
      "execution_count": null,
      "outputs": []
    },
    {
      "cell_type": "code",
      "metadata": {
        "id": "79oglbStAAVB"
      },
      "source": [
        "[N(i, 3) for i in list(A.eigenvals().keys())]"
      ],
      "execution_count": null,
      "outputs": []
    },
    {
      "cell_type": "markdown",
      "metadata": {
        "id": "9IX9k4ZTSSiO"
      },
      "source": [
        "## Ejercicios"
      ]
    },
    {
      "cell_type": "markdown",
      "metadata": {
        "id": "dxhzBKn7SSrD"
      },
      "source": [
        "### Ejercicio 27\n",
        "\n",
        "Determinar las primera iteraciones generadas por el método de la potencia con normalización con norma infinito cuando se aplica a la matriz con vector inicial."
      ]
    },
    {
      "cell_type": "code",
      "metadata": {
        "id": "qHvk_qhbSp4D"
      },
      "source": [
        "A = Matrix([[0, -1, 1], [0, 1, -1], [-1, -1, 2]])\n",
        "A"
      ],
      "execution_count": null,
      "outputs": []
    },
    {
      "cell_type": "code",
      "metadata": {
        "id": "8_31S9zcSqNb"
      },
      "source": [
        "x0 = Matrix([1, -1, 2])"
      ],
      "execution_count": null,
      "outputs": []
    },
    {
      "cell_type": "code",
      "metadata": {
        "id": "MiAEZjhFTGsv"
      },
      "source": [
        "n_iters = 15\n",
        "m_krylov_x, m_krylov_w = zeros(A.shape[0], n_iters), zeros(A.shape[0], n_iters)\n",
        "m_krylov_x[:, 0] = x0\n",
        "m_krylov_w[:, 0] = x0/max(x0)\n",
        "\n",
        "for i in range(1, n_iters):\n",
        "    kriv_i_x = A * m_krylov_w[:, i - 1]\n",
        "    m_krylov_x[:, i] = kriv_i_x \n",
        "    m_krylov_w[:, i] = kriv_i_x / max(kriv_i_x) \n"
      ],
      "execution_count": null,
      "outputs": []
    },
    {
      "cell_type": "code",
      "metadata": {
        "id": "jIGHZaZFSvz4"
      },
      "source": [
        "m_krylov_x"
      ],
      "execution_count": null,
      "outputs": []
    },
    {
      "cell_type": "code",
      "metadata": {
        "id": "zeLdxnm0Udkl"
      },
      "source": [
        "m_krylov_w"
      ],
      "execution_count": null,
      "outputs": []
    },
    {
      "cell_type": "code",
      "metadata": {
        "id": "-dR0ujFSU1bi"
      },
      "source": [
        "[N(i) for i in (np.array(m_krylov_x[0, 1:]) / np.array(m_krylov_w[0, :-1])).tolist()[0]]"
      ],
      "execution_count": null,
      "outputs": []
    },
    {
      "cell_type": "code",
      "metadata": {
        "id": "OwcyXCkwVlhT"
      },
      "source": [
        "# Probamos sin normalizar\n",
        "\n",
        "n_iters = 15\n",
        "m_krylov_x  = zeros(A.shape[0], n_iters)\n",
        "m_krylov_x[:, 0] = x0\n",
        "\n",
        "for i in range(1, n_iters):\n",
        "    kriv_i_x = A * m_krylov_x[:, i - 1]\n",
        "    m_krylov_x[:, i] = kriv_i_x \n",
        "\n",
        "m_krylov_x "
      ],
      "execution_count": null,
      "outputs": []
    },
    {
      "cell_type": "code",
      "metadata": {
        "id": "5L6GS871VPUF"
      },
      "source": [
        "[N(i) for i in (np.array(m_krylov_x[0, 1:]) / np.array(m_krylov_x[0, :-1])).tolist()[0]]"
      ],
      "execution_count": null,
      "outputs": []
    },
    {
      "cell_type": "markdown",
      "metadata": {
        "id": "zIdRJzsoV_Xc"
      },
      "source": [
        "### Ejercicio 28\n",
        "\n",
        "Realizar una iteración con el método QR para el cálculo de autovalores de la matriz $A$"
      ]
    },
    {
      "cell_type": "code",
      "metadata": {
        "id": "w059mn3BWMjj"
      },
      "source": [
        "A = Matrix([[1, 1, 0], [2, 1, 0], [2, 0, 1]])"
      ],
      "execution_count": null,
      "outputs": []
    },
    {
      "cell_type": "code",
      "metadata": {
        "id": "3ISZtAmqWYh1"
      },
      "source": [
        "metodo_autovals_QR(A, n_iters=1, verbose=True)"
      ],
      "execution_count": null,
      "outputs": []
    },
    {
      "cell_type": "code",
      "metadata": {
        "id": "JU4FJ9AkWplI"
      },
      "source": [
        "dict_QR = metodo_autovals_QR(A, n_iters=15, verbose=False)\n",
        "N(dict_QR['A'][-1])"
      ],
      "execution_count": null,
      "outputs": []
    },
    {
      "cell_type": "code",
      "metadata": {
        "id": "s-9D_Cb_W8BJ"
      },
      "source": [
        "N(dict_QR['A'][-2])"
      ],
      "execution_count": null,
      "outputs": []
    },
    {
      "cell_type": "code",
      "metadata": {
        "id": "0GfeTbWJXEwu"
      },
      "source": [
        "np.sort(solve(det(A - eye(3) * Symbol('lambda')), Symbol('lambda')))[::-1]"
      ],
      "execution_count": null,
      "outputs": []
    },
    {
      "cell_type": "markdown",
      "metadata": {
        "id": "gk5nafPlXZ8L"
      },
      "source": [
        "### Ejercicio 29\n",
        "Sea $A$ con $\\theta$ dado. Determinar el n-ésimo términa de la sucesión de Krylov asociada a $A$ y al vector $x$. Por medio de la sucesión de Krylov determia el polinomio característico de $A$."
      ]
    },
    {
      "cell_type": "code",
      "metadata": {
        "id": "IOeqbEldXuE9"
      },
      "source": [
        "t = Symbol('theta')\n",
        "A = Matrix([[1, 0, 0], [0, cos(t), -sin(t)], [0, sin(t), cos(t)]])\n",
        "x0 = Matrix([1, cos(t), -sin(t)])"
      ],
      "execution_count": null,
      "outputs": []
    },
    {
      "cell_type": "code",
      "metadata": {
        "id": "CoJNBxDIYD_L"
      },
      "source": [
        "ss = simplify(matriz_krylov(A, x0, n_iters=8))\n",
        "ss"
      ],
      "execution_count": null,
      "outputs": []
    },
    {
      "cell_type": "markdown",
      "metadata": {
        "id": "_l6W_2WVSSyi"
      },
      "source": [
        "Así a priori tiene pintas de que $A^nx = (1, \\cos(n-1)\\theta, sin(n-1)\\theta)^t$. \n",
        "\n",
        "Como $n=3$ solo necesitamos los primeros 4 términos de la sucesión de krylov para resolver el sistema y crear el polinomio característico."
      ]
    },
    {
      "cell_type": "code",
      "metadata": {
        "id": "8Gk6eFrWZF9l"
      },
      "source": [
        "M = ss[:3, :3]\n",
        "am = Matrix([Symbol('a0'), Symbol('a1'), Symbol('a2')])\n",
        "rhs = ss[:3, 3]"
      ],
      "execution_count": null,
      "outputs": []
    },
    {
      "cell_type": "code",
      "metadata": {
        "id": "baxYJ0ekZgv7"
      },
      "source": [
        "sol = simplify(M.inv() * rhs)\n",
        "sol"
      ],
      "execution_count": null,
      "outputs": []
    },
    {
      "cell_type": "code",
      "metadata": {
        "id": "QUiHi5OFZ2lF"
      },
      "source": [
        "l = Symbol('lambda')\n",
        "simplify(sol[0] + sol[1] * l + sol[2] * l ** 2 - l ** 3)"
      ],
      "execution_count": null,
      "outputs": []
    },
    {
      "cell_type": "markdown",
      "metadata": {
        "id": "E7tNXMTwsQwe"
      },
      "source": [
        "### Ejercicio 31\n",
        "\n",
        "Si $\\alpha$ es una constante, aproximar el autovalore de módulo máximo de la matriz $A$ usando el método de la potencia (sin normalización) como vector inicial $v$, probando las diferentes componentes."
      ]
    },
    {
      "cell_type": "code",
      "metadata": {
        "id": "1eqi22XlsgMw"
      },
      "source": [
        "a = Symbol('alpha')\n",
        "n = Symbol('n')\n",
        "A = Matrix([[1, 0, 0], [0, -2*cos(a)**2, 2*cos(a)*sin(a)], [0, 2*cos(a)*sin(a), -2*sin(a)**2]])\n",
        "A"
      ],
      "execution_count": null,
      "outputs": []
    },
    {
      "cell_type": "code",
      "metadata": {
        "id": "nhfb3jZksxHS"
      },
      "source": [
        "v = Matrix([1, 1, 1])\n",
        "v"
      ],
      "execution_count": null,
      "outputs": []
    },
    {
      "cell_type": "code",
      "metadata": {
        "id": "Yl5fxN4Ps2c8"
      },
      "source": [
        "pol, vecfinal = sucesion_krylov(A, v)\n",
        "pol"
      ],
      "execution_count": null,
      "outputs": []
    },
    {
      "cell_type": "code",
      "metadata": {
        "id": "IplEaEeYyCGE"
      },
      "source": [
        "solve(pol, l)"
      ],
      "execution_count": null,
      "outputs": []
    },
    {
      "cell_type": "code",
      "metadata": {
        "id": "PIymkNwntGSZ"
      },
      "source": [
        "vecfinal"
      ],
      "execution_count": null,
      "outputs": []
    },
    {
      "cell_type": "code",
      "metadata": {
        "id": "tW_NB3tNtJNO"
      },
      "source": [
        "# Vamos a ir desglosando \n",
        "mk = matriz_krylov(A, v, n_iters=7)\n",
        "mk"
      ],
      "execution_count": null,
      "outputs": []
    },
    {
      "cell_type": "code",
      "metadata": {
        "id": "mZZ0JSKlyRxa"
      },
      "source": [
        "simplify(Matrix(np.array(mk[:, 1:]) / np.array(mk[:, :-1])))"
      ],
      "execution_count": null,
      "outputs": []
    }
  ]
}