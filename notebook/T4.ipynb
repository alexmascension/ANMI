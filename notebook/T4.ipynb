{
 "cells": [
  {
   "cell_type": "markdown",
   "metadata": {
    "colab_type": "text",
    "id": "view-in-github"
   },
   "source": [
    "<a href=\"https://colab.research.google.com/github/alexmascension/ANMI/blob/main/notebook/T4.ipynb\" target=\"_parent\"><img src=\"https://colab.research.google.com/assets/colab-badge.svg\" alt=\"Open In Colab\"/></a>"
   ]
  },
  {
   "cell_type": "markdown",
   "metadata": {
    "id": "Vf3GioQwcepr"
   },
   "source": [
    "# Tema 4: Aproximación de funciones"
   ]
  },
  {
   "cell_type": "code",
   "execution_count": null,
   "metadata": {
    "id": "1hDZNaYFX936"
   },
   "outputs": [],
   "source": [
    "!pip install -r https://raw.githubusercontent.com/alexmascension/ANMI/main/requirements.txt"
   ]
  },
  {
   "cell_type": "code",
   "execution_count": null,
   "metadata": {
    "id": "dYo_JGn2TSxC"
   },
   "outputs": [],
   "source": [
    "from sympy import *\n",
    "from sympy.matrices import Matrix as mat\n",
    "from sympy.matrices import randMatrix\n",
    "from sympy import symbols\n",
    "import sympy\n",
    "\n",
    "import numpy as np\n",
    "\n",
    "from scipy.linalg import orth\n",
    "\n",
    "from matplotlib import pyplot as plt\n",
    "import matplotlib as mpl\n",
    "mpl.rcParams['figure.dpi'] = 150"
   ]
  },
  {
   "cell_type": "code",
   "execution_count": null,
   "metadata": {
    "id": "l-V6kF8_X937"
   },
   "outputs": [],
   "source": [
    "from anmi.genericas import norma_p_func, norma_inf_func\n",
    "\n",
    "from anmi.T4 import metodo_ruffini"
   ]
  },
  {
   "cell_type": "code",
   "execution_count": null,
   "metadata": {},
   "outputs": [],
   "source": [
    "x, y, z, a, lambda_ = symbols('x'), symbols('y'), symbols('z'), symbols('a'), symbols('lambda')"
   ]
  },
  {
   "cell_type": "markdown",
   "metadata": {
    "id": "79oglbStAAVB"
   },
   "source": [
    "El objetivo de la aproximación de funciones es encontrar una función de caracteristicas menores o con términos más fáciles para computar, que se aproxime a una función dada en un intervalo o conjunto de puntos determinado. A nivel computacional, también es más eficiente y estable poder emplear cierto tipo de funciones de aproximación."
   ]
  },
  {
   "cell_type": "markdown",
   "metadata": {},
   "source": [
    "## Representación anidada (algoritmo de Horner) / Método de Ruffini\n",
    "Si tenemos un polinomio $p(x) = a_0 + a_1x + a_2x^2+\\cdots+a_nx^n$, entonces podemos hacer el polinomio más compacto, en la forma $p(x) = q_1(q_2(\\cdots(q_n(x)))$, tal que $q_i(x) = a_{i-1} + a_i(x)$."
   ]
  },
  {
   "cell_type": "code",
   "execution_count": null,
   "metadata": {},
   "outputs": [],
   "source": [
    "poli_1 = Poly(x**3 - x**2 + 2*x - 5)"
   ]
  },
  {
   "cell_type": "code",
   "execution_count": null,
   "metadata": {},
   "outputs": [],
   "source": [
    "metodo_ruffini(poli_1, 1)"
   ]
  },
  {
   "cell_type": "markdown",
   "metadata": {},
   "source": [
    "## Aproximación de funciones\n",
    "Si $f$ es una función en un espacio vectorial $V$ podemos definir una norma $||\\;\\;||$, que es una aplicación que cumple:\n",
    "* $||f|| = 0  \\iff f = 0$\n",
    "* $||\\lambda f|| = |\\lambda|\\,||f||$\n",
    "* $||f + g|| \\le ||f|| + ||g||$\n",
    "\n",
    "Si fijamos un subespacio $U \\subset V$, podemos buscar una función $g\\in U$ tal que sea la más similar.\n",
    "\n",
    "Si queremos medir la distancia entre 2 funciones, hay múltiples opciones:\n",
    "* Norma 2: $||f||_2 = \\left( \\int_a^bf(x)^2 dx \\right)^\\frac{1}{2}$\n",
    "* Norma p: $||f||_p = \\left( \\int_a^b |f(x)|^p dx \\right)^\\frac{1}{p}$\n",
    "* Norma inf: $||f||_{\\inf} = \\max_{x \\in [a,b]} |f(x)|$"
   ]
  },
  {
   "cell_type": "code",
   "execution_count": null,
   "metadata": {},
   "outputs": [],
   "source": [
    "f = x\n",
    "g1 = sin(x)\n",
    "g2 = 1 - cos(x)"
   ]
  },
  {
   "cell_type": "code",
   "execution_count": null,
   "metadata": {},
   "outputs": [],
   "source": [
    "norma_p_func(f - g1, p=2, a=0, b=2*pi)"
   ]
  },
  {
   "cell_type": "code",
   "execution_count": null,
   "metadata": {},
   "outputs": [],
   "source": [
    "norma_inf_func(f - g1, a=0, b=2*pi)"
   ]
  },
  {
   "cell_type": "code",
   "execution_count": null,
   "metadata": {},
   "outputs": [],
   "source": [
    "norma_p_func(f - g2, p=2, a=0, b=2*pi)"
   ]
  },
  {
   "cell_type": "code",
   "execution_count": null,
   "metadata": {},
   "outputs": [],
   "source": [
    "norma_inf_func(f - g2, a=0, b=2*pi)"
   ]
  },
  {
   "cell_type": "markdown",
   "metadata": {},
   "source": [
    "### Aproximación por mínimos cuadrados (continua y discreta)\n",
    "\n",
    "Para la aproximación definimos el producto escalar como una aplicación $\\langle\\,,\\rangle \\; :\\,V \\times V \\rightarrow \\mathbb{R}^+$ que verifica:\n",
    "* $\\langle f, f\\rangle = \\iff f = 0$\n",
    "* $\\langle f, g\\rangle =\\langle g, f\\rangle$\n",
    "* $\\langle\\alpha f+\\mu g, h\\rangle = \\alpha\\langle f, h\\rangle + \\mu \\langle g, h\\rangle$\n",
    "\n",
    "La norma se define como $||f|| = \\langle f, f\\rangle^{\\frac{1}{2}}$.\n",
    "\n",
    "Una forma de producto escalar es, por ejemplo:\n",
    "$$\\langle f, g \\rangle = \\int_a^b f(x)g(x) dx$$\n",
    "\n",
    "Esa forma puede aplicarse de forma discreta (para un conjunto discreto $I = \\{x_1, x_2, \\cdots, x_m\\}$ como :\n",
    "$$\\langle f, g \\rangle = \\sum_{i \\in I} f(i)g(i)$$ \n",
    "\n",
    "En la aproximación de mínimos cuadrados deseamos encontrar, para una base $\\{\\phi_0, \\cdots, \\phi_n\\}$ de $U$, un vector $\\alpha$ que minimice una función de coste $J(\\alpha) = ||f - \\sum_0^n \\alpha_i\\phi_i||^2$. Para ello se emplea el método de Gram, que consiste en encontrar la solución a \n",
    "$$G\\alpha = \\bar{f}$$\n",
    "donde $G_{ij} = \\langle\\phi_i, \\phi_j\\rangle$ y $\\bar{f}_i = \\langle f, \\phi_i\\rangle$ en un producto escalar definido arbitrariamente."
   ]
  },
  {
   "cell_type": "code",
   "execution_count": null,
   "metadata": {},
   "outputs": [],
   "source": [
    "def producto_deriv(f, g, var, a=0, b=1, I=None):\n",
    "    fg = f * g + f.diff(var) * g.diff(var)\n",
    "    \n",
    "    if I is None: # aplica el modo continuo\n",
    "        integral = simplify(integrate(fg, (var, a, b)))\n",
    "        return integral\n",
    "    else:\n",
    "        sum_I = S(0)  # Para hacerlo como objeto de sympy\n",
    "        for i in I:\n",
    "            sum_I += fg.subs(var, i)\n",
    "        return simplify(sum_I)\n",
    "\n",
    "def producto_asecas(f, g, var, a=0, b=1, I=None):\n",
    "    fg = f * g\n",
    "    if I is None: # aplica el modo continuo\n",
    "        integral = simplify(integrate(fg, (var, a, b)))\n",
    "        return integral\n",
    "    else:\n",
    "        sum_I = S(0)  # Para hacerlo como objeto de sympy\n",
    "        for i in I:\n",
    "            sum_I += fg.subs(var, i)\n",
    "        return simplify(sum_I)\n",
    "\n",
    "def metodo_gram(f, U, var, func_producto, a=0, b=1, I=None, **func_producto_kwargs):\n",
    "    G = zeros(len(U), len(U))\n",
    "    f_bar = zeros(len(U), 1)\n",
    "    \n",
    "    for idx_i, u_i in enumerate(U):\n",
    "        for idx_j, u_j in enumerate(U):\n",
    "            if idx_i >= idx_j:\n",
    "                g_ij = func_producto(u_i, u_j, var=var, a=a, b=b, I=I, **func_producto_kwargs)\n",
    "                G[idx_i, idx_j] = g_ij\n",
    "                G[idx_j, idx_i] = g_ij\n",
    "    \n",
    "    for idx_i, u_i in enumerate(U):\n",
    "        f_i = func_producto(f, u_i, var=var, a=a, b=b, I=I, **func_producto_kwargs)\n",
    "        f_bar[idx_i, 0] = f_i\n",
    "    \n",
    "    try:\n",
    "        alpha = simplify((G ** -1) * f_bar)\n",
    "    except:\n",
    "        print('AVISO!!! La matriz G no es invertible. Aplicamos la pseudoinversa')\n",
    "        from sympy.matrices.inverse import _pinv  # Aplica la pseudoinversa de Moore Penrose\n",
    "        alpha = simplify(_pinv(G) * f_bar)\n",
    "        \n",
    "    expr_pol = simplify((alpha.T * mat([U]).T)[0]) # producto entre alpha y la base U\n",
    "    \n",
    "    return {'poly': expr_pol, 'alpha': alpha, 'f_bar': f_bar, 'G': G}"
   ]
  },
  {
   "cell_type": "markdown",
   "metadata": {},
   "source": [
    "#### Ejercicio 33"
   ]
  },
  {
   "cell_type": "code",
   "execution_count": null,
   "metadata": {},
   "outputs": [],
   "source": [
    "U = [S(1), x, x ** 2]  # S(1) lo hacemos porque hacer 1.diff da error por ser int.\n",
    "f = E ** x\n",
    "dict_prod_deriv = metodo_gram(f, U, var=x, func_producto=producto_deriv, a=0, b=1)"
   ]
  },
  {
   "cell_type": "code",
   "execution_count": null,
   "metadata": {},
   "outputs": [],
   "source": [
    "dict_prod_deriv['poly']"
   ]
  },
  {
   "cell_type": "code",
   "execution_count": null,
   "metadata": {},
   "outputs": [],
   "source": [
    "dict_prod_deriv['G']"
   ]
  },
  {
   "cell_type": "code",
   "execution_count": null,
   "metadata": {},
   "outputs": [],
   "source": [
    "dict_prod_deriv['f_bar']"
   ]
  },
  {
   "cell_type": "code",
   "execution_count": null,
   "metadata": {},
   "outputs": [],
   "source": [
    "dict_prod_deriv['alpha']"
   ]
  },
  {
   "cell_type": "markdown",
   "metadata": {},
   "source": [
    "Ahora con una versión discreta en los puntos 0, 0.2, 0.4, 0.6, 0.8, 1:"
   ]
  },
  {
   "cell_type": "code",
   "execution_count": null,
   "metadata": {},
   "outputs": [],
   "source": [
    "U = [S(1), x, x ** 2]  # S(1) lo hacemos porque hacer 1.diff da error por ser int.\n",
    "f = E ** x\n",
    "dict_prod_deriv_discreto = metodo_gram(f, U, var=x, func_producto=producto_deriv, I = [0, 0.2, 0.4, 0.6, 0.8, 1])"
   ]
  },
  {
   "cell_type": "code",
   "execution_count": null,
   "metadata": {},
   "outputs": [],
   "source": [
    "dict_prod_deriv_discreto['poly']"
   ]
  },
  {
   "cell_type": "code",
   "execution_count": null,
   "metadata": {},
   "outputs": [],
   "source": [
    "dict_prod_deriv_discreto['G']"
   ]
  },
  {
   "cell_type": "code",
   "execution_count": null,
   "metadata": {},
   "outputs": [],
   "source": [
    "dict_prod_deriv_discreto['f_bar']"
   ]
  },
  {
   "cell_type": "code",
   "execution_count": null,
   "metadata": {},
   "outputs": [],
   "source": [
    "dict_prod_deriv_discreto['alpha']"
   ]
  },
  {
   "cell_type": "markdown",
   "metadata": {},
   "source": [
    "Ahora la versión continua pero con la función $\\langle f, g \\rangle = \\int_a^b f(x)g(x) dx$"
   ]
  },
  {
   "cell_type": "code",
   "execution_count": null,
   "metadata": {},
   "outputs": [],
   "source": [
    "U = [S(1), x, x ** 2]  # S(1) lo hacemos porque hacer 1.diff da error por ser int.\n",
    "f = E ** x\n",
    "dict_prod_asecas = metodo_gram(f, U, var=x, func_producto=producto_asecas, a=0, b=1)"
   ]
  },
  {
   "cell_type": "code",
   "execution_count": null,
   "metadata": {},
   "outputs": [],
   "source": [
    "dict_prod_asecas['poly']"
   ]
  },
  {
   "cell_type": "code",
   "execution_count": null,
   "metadata": {},
   "outputs": [],
   "source": [
    "x_range = np.linspace(0, 1, 100)\n",
    "y_real = [(E ** x).subs(x, i) for i in x_range]\n",
    "y_prod_deriv = [dict_prod_deriv['poly'].subs(x, i) for i in x_range]\n",
    "y_prod_discreto = [dict_prod_deriv_discreto['poly'].subs(x, i) for i in x_range]\n",
    "y_prod_asecas = [dict_prod_asecas['poly'].subs(x, i) for i in x_range]\n",
    "\n",
    "plt.plot(x_range, y_real, label='real')\n",
    "plt.plot(x_range, y_prod_deriv, label=\"fg + f'g' continuo\")\n",
    "plt.plot(x_range, y_prod_discreto, label=\"fg + f'g' discreto\")\n",
    "plt.plot(x_range, y_prod_asecas, label=\"fg\")\n",
    "plt.legend()"
   ]
  },
  {
   "cell_type": "markdown",
   "metadata": {},
   "source": [
    "#### Ejercicio 34\n",
    "En el ejercicio piden usar la base $\\{1, x\\}$. Nosotros lo hacemos con $\\{1, x, x^2, x^3, x^4, x^5\\}$, que da una representación más real de la aproximación."
   ]
  },
  {
   "cell_type": "markdown",
   "metadata": {},
   "source": [
    "Calculamos la versión continua"
   ]
  },
  {
   "cell_type": "code",
   "execution_count": null,
   "metadata": {},
   "outputs": [],
   "source": [
    "U = [S(1), x, x ** 2, x ** 3, x ** 4]  # S(1) lo hacemos porque hacer 1.diff da error por ser int.\n",
    "f = cos(pi * x)/2 + sin(pi/2 * x)/3\n",
    "dict_prod_continuo = metodo_gram(f, U, var=x, func_producto=producto_asecas, a=-1, b=1)"
   ]
  },
  {
   "cell_type": "code",
   "execution_count": null,
   "metadata": {},
   "outputs": [],
   "source": [
    "dict_prod_continuo['poly']"
   ]
  },
  {
   "cell_type": "code",
   "execution_count": null,
   "metadata": {},
   "outputs": [],
   "source": [
    "dict_prod_continuo['G']"
   ]
  },
  {
   "cell_type": "code",
   "execution_count": null,
   "metadata": {},
   "outputs": [],
   "source": [
    "dict_prod_continuo['f_bar']"
   ]
  },
  {
   "cell_type": "code",
   "execution_count": null,
   "metadata": {},
   "outputs": [],
   "source": [
    "dict_prod_continuo['alpha']"
   ]
  },
  {
   "cell_type": "markdown",
   "metadata": {},
   "source": [
    "Y ahora la discreta"
   ]
  },
  {
   "cell_type": "code",
   "execution_count": null,
   "metadata": {},
   "outputs": [],
   "source": [
    "dict_prod_discreto = metodo_gram(f, U, var=x, func_producto=producto_asecas, I=[-1, 0, 1])"
   ]
  },
  {
   "cell_type": "code",
   "execution_count": null,
   "metadata": {},
   "outputs": [],
   "source": [
    "dict_prod_discreto['poly']"
   ]
  },
  {
   "cell_type": "code",
   "execution_count": null,
   "metadata": {},
   "outputs": [],
   "source": [
    "dict_prod_discreto['G']"
   ]
  },
  {
   "cell_type": "code",
   "execution_count": null,
   "metadata": {},
   "outputs": [],
   "source": [
    "dict_prod_discreto['f_bar']"
   ]
  },
  {
   "cell_type": "code",
   "execution_count": null,
   "metadata": {},
   "outputs": [],
   "source": [
    "dict_prod_discreto['alpha']"
   ]
  },
  {
   "cell_type": "markdown",
   "metadata": {},
   "source": [
    "Repetimos el proceso, por curiosidad, pero con el producto escalar fg + f'g'"
   ]
  },
  {
   "cell_type": "code",
   "execution_count": null,
   "metadata": {},
   "outputs": [],
   "source": [
    "dict_prod_continuo_deriv = metodo_gram(f, U, var=x, func_producto=producto_deriv, a=-1, b=1)\n",
    "dict_prod_discreto_deriv = metodo_gram(f, U, var=x, func_producto=producto_deriv, I=[-1, 0, 1])"
   ]
  },
  {
   "cell_type": "code",
   "execution_count": null,
   "metadata": {},
   "outputs": [],
   "source": [
    "dict_prod_continuo_deriv['poly']"
   ]
  },
  {
   "cell_type": "code",
   "execution_count": null,
   "metadata": {},
   "outputs": [],
   "source": [
    "dict_prod_discreto_deriv['poly']"
   ]
  },
  {
   "cell_type": "code",
   "execution_count": null,
   "metadata": {},
   "outputs": [],
   "source": [
    "x_range = np.linspace(-1, 1, 100)\n",
    "y_real = [f.subs(x, i) for i in x_range]\n",
    "y_prod_continuo = [dict_prod_continuo['poly'].subs(x, i) for i in x_range]\n",
    "y_prod_discreto = [dict_prod_discreto['poly'].subs(x, i) for i in x_range]\n",
    "y_prod_continuo_deriv = [dict_prod_continuo_deriv['poly'].subs(x, i) for i in x_range]\n",
    "y_prod_discreto_deriv = [dict_prod_discreto_deriv['poly'].subs(x, i) for i in x_range]\n",
    "\n",
    "plt.plot(x_range, y_real, label='real')\n",
    "plt.plot(x_range, y_prod_continuo, label=\"fg continuo\")\n",
    "plt.plot(x_range, y_prod_discreto, label=\"fg discreto\")\n",
    "plt.plot(x_range, y_prod_continuo_deriv, label=\"fg + f'g' continuo\")\n",
    "plt.plot(x_range, y_prod_discreto_deriv, label=\"fg + f'g' discreto\")\n",
    "\n",
    "plt.legend()"
   ]
  },
  {
   "cell_type": "markdown",
   "metadata": {},
   "source": [
    "Si nos fijamos, la aproximación con el método discreto es bastante mala, al no encontrar una inversa adecuada."
   ]
  },
  {
   "cell_type": "code",
   "execution_count": null,
   "metadata": {},
   "outputs": [],
   "source": [
    "def prod_esc_GS_cont(f, g, var, a=-1, b=1, numeric=False):\n",
    "    if numeric:\n",
    "        return Integral(f * g, (var, a, b)).evalf()\n",
    "    else:\n",
    "        return simplify(integrate(f * g, (var, a, b)))\n",
    "\n",
    "def prod_esc_GS_disc(f, g, var, I=[-1, 1]):\n",
    "    sum_I = S(0)\n",
    "    for i in I:\n",
    "        sum_I += f.subs(var, i) * g.subs(var, i)\n",
    "        \n",
    "    return simplify(sum_I)\n",
    "\n",
    "def gram_schmidt_f(base, var, prod_esc, *args, **kwargs):\n",
    "    list_pols_GS = []\n",
    "    for i in range(len(base)):\n",
    "        poli = base[i]\n",
    "        for j in range(i):\n",
    "            pj = list_pols_GS[j]\n",
    "            poli -= (prod_esc(pj, base[i], var, *args, **kwargs))/(prod_esc(pj, pj, var, *args, **kwargs)) * pj\n",
    "        \n",
    "        list_pols_GS.append(poli)\n",
    "    return list_pols_GS\n",
    "    "
   ]
  },
  {
   "cell_type": "markdown",
   "metadata": {},
   "source": [
    "#### Ejemplo 23"
   ]
  },
  {
   "cell_type": "code",
   "execution_count": null,
   "metadata": {},
   "outputs": [],
   "source": [
    "gram_schmidt_f([S(1), x, x ** 2, x ** 3, x ** 4, x ** 5, x ** 6], x, prod_esc=prod_esc_GS_cont)"
   ]
  },
  {
   "cell_type": "markdown",
   "metadata": {},
   "source": [
    "#### Ejercicio 35"
   ]
  },
  {
   "cell_type": "code",
   "execution_count": null,
   "metadata": {},
   "outputs": [],
   "source": [
    "I = [-1, 0, 1, 2]\n",
    "U_GS = gram_schmidt_f([S(1), x, x ** 2], x, prod_esc=prod_esc_GS_disc, I=I)"
   ]
  },
  {
   "cell_type": "code",
   "execution_count": null,
   "metadata": {},
   "outputs": [],
   "source": [
    "for i in U_GS:\n",
    "    print(i)"
   ]
  },
  {
   "cell_type": "code",
   "execution_count": null,
   "metadata": {},
   "outputs": [],
   "source": [
    "f = sin(pi/2 * x)\n",
    "dict_prod_discreto = metodo_gram(f, U_GS, var=x, func_producto=producto_asecas, I=I)"
   ]
  },
  {
   "cell_type": "code",
   "execution_count": null,
   "metadata": {},
   "outputs": [],
   "source": [
    "dict_prod_discreto['poly']"
   ]
  },
  {
   "cell_type": "markdown",
   "metadata": {},
   "source": [
    "### Aproximación con peso\n",
    "\n",
    "Para las anteriores definiciones podemos tomar un producto escalar\n",
    "$$\\langle f, g \\rangle = \\int_a^b f(x)g(x)\\omega(x) dx$$\n",
    "\n",
    "Donde $\\omega(x)$ es una función positiva en $(a,b)$\n",
    "\n",
    "Se puede construir la sucesión de polinomios\n",
    "$$p_0(x) = 1$$\n",
    "$$p_1(x) = x - a_1$$\n",
    "$$p_2(x) = (x - a_2)p_1(x) - b_2p_0(x)$$\n",
    "$$\\cdots$$\n",
    "$$p_n(x) = (x - a_n)p_{n-1}(x) - b_np_{n-2}(x)$$\n",
    "\n",
    "Con\n",
    "$$a_n = \\frac{\\langle xp_{n-1},p_{n-1}\\rangle}{\\langle p_{n-1},p_{n-1}\\rangle}$$\n",
    "$$b_n = \\frac{\\langle xp_{n-1},p_{n-2}\\rangle}{\\langle p_{n-2},p_{n-2}\\rangle}$$"
   ]
  },
  {
   "cell_type": "code",
   "execution_count": null,
   "metadata": {},
   "outputs": [],
   "source": [
    "def producto_escalar_peso(f, g, var, w=S(1),a=0, b=1, I=None, numeric=False):  # TODO - CORREGIR FUNCIONES\n",
    "    fg = simplify(f * g * w)\n",
    "    if I is None: # aplica el modo continuo\n",
    "        if numeric:\n",
    "            return Integral(fg, (var, a, b)).evalf()\n",
    "        else:\n",
    "            return simplify(integrate(fg, (var, a, b)))\n",
    "    else:\n",
    "        sum_I = S(0)  # Para hacerlo como objeto de sympy\n",
    "        for i in I:\n",
    "            sum_I += fg.subs(var, i)\n",
    "        return simplify(sum_I)\n",
    "\n",
    "    \n",
    "def polinomios_orto_peso(base, w=S(1), var=x, a=-1, b=1, I=None):\n",
    "    list_p, list_a, list_b = [], [], []\n",
    "    \n",
    "    # n = 0\n",
    "    list_p.append(S(1))\n",
    "    list_a.append(S(0))\n",
    "    list_b.append(S(0))\n",
    "    \n",
    "    # n = 1\n",
    "    a_i = simplify(producto_escalar_peso(base[0] * var, base[0], var=var, w=w, a=a, b=b, I=None) / \n",
    "                   producto_escalar_peso(base[0], base[0], var=var, w=w, a=a, b=b, I=None))\n",
    "    list_p.append(var - a_i)\n",
    "    list_a.append(a_i)\n",
    "    list_b.append(S(0))\n",
    "    \n",
    "    # n > 1\n",
    "    for i in range(2, len(base)):\n",
    "        a_i = simplify(producto_escalar_peso(base[i - 1] * var, base[i - 1], var=var, w=w, a=a, b=b, I=None) / \n",
    "                       producto_escalar_peso(base[i - 1], base[i - 1], var=var, w=w, a=a, b=b, I=None))\n",
    "        \n",
    "        b_i = simplify(producto_escalar_peso(base[i - 1] * var, base[i - 2], var=var, w=w, a=a, b=b, I=None) / \n",
    "                       producto_escalar_peso(base[i - 2], base[i - 2], var=var, w=w, a=a, b=b, I=None))\n",
    "        \n",
    "        list_a.append(a_i)\n",
    "        list_b.append(b_i)\n",
    "        list_p.append(simplify((var - a_i) * list_p[i - 1] - b_i * list_p[i - 2]))\n",
    "        \n",
    "    return {'p': list_p, 'a': list_a, 'b': list_b}\n",
    "        "
   ]
  },
  {
   "cell_type": "markdown",
   "metadata": {},
   "source": [
    "#### Polinomios de Legendre\n",
    "Los polinomios de Legendre surgen de la aplicación del método descrito anteriormente para la base $\\mathcal{P}(n) = \\{1, x, x^2, \\cdots, x^n\\}$."
   ]
  },
  {
   "cell_type": "code",
   "execution_count": null,
   "metadata": {},
   "outputs": [],
   "source": [
    "# La base para los polinomios tiene que ser ortogonal porque si no los polinomios no son ortogonales entre si!\n",
    "base = [S(1), x, x**2, x**3, x**4, x**5, x**6]\n",
    "base_ortogonal = gram_schmidt_f(base, var=x, prod_esc=prod_esc_GS_cont, a=-1, b=1)\n",
    "base_legendre = polinomios_orto_peso(base_ortogonal, w=S(1), var=x, a=-1, b=1)"
   ]
  },
  {
   "cell_type": "code",
   "execution_count": null,
   "metadata": {},
   "outputs": [],
   "source": [
    "base_legendre"
   ]
  },
  {
   "cell_type": "code",
   "execution_count": null,
   "metadata": {},
   "outputs": [],
   "source": [
    "x_range = np.linspace(-1, 1, 100)\n",
    "\n",
    "for p in base_legendre['p']:\n",
    "    plt.plot(x_range, [p.subs(x, i)/abs(p.subs(x, -1)) for i in x_range], label=S(1)/abs(p.subs(x, -1)))\n",
    "            \n",
    "plt.legend(bbox_to_anchor=(1, 0.5))"
   ]
  },
  {
   "cell_type": "markdown",
   "metadata": {},
   "source": [
    "Ahora probamos a resolver algun problema asociado. Por ejemplo, vamos a aproximar sin(x) en [0, 2 * pi]"
   ]
  },
  {
   "cell_type": "code",
   "execution_count": null,
   "metadata": {},
   "outputs": [],
   "source": [
    "base = [S(1), x, x**2, x**3]\n",
    "base_ortogonal = gram_schmidt_f(base, var=x, prod_esc=prod_esc_GS_cont, a=0, b=2*pi)\n",
    "base_legendre = polinomios_orto_peso(base_ortogonal, w=S(1), var=x, a=0, b=2*pi)"
   ]
  },
  {
   "cell_type": "code",
   "execution_count": null,
   "metadata": {},
   "outputs": [],
   "source": [
    "f = sin(x)\n",
    "\n",
    "U_GS_base = metodo_gram(f, base, var=x, func_producto=producto_escalar_peso, a=0, b=2*pi, w=S(1))\n",
    "\n",
    "U_GS_ortogonal = metodo_gram(f, base_ortogonal, var=x, func_producto=producto_escalar_peso, a=0, b=2*pi, w=S(1))\n",
    "\n",
    "U_GS_legendre = metodo_gram(f, base_legendre['p'], var=x, func_producto=producto_escalar_peso, a=0, b=2*pi, w=S(1))"
   ]
  },
  {
   "cell_type": "code",
   "execution_count": null,
   "metadata": {},
   "outputs": [],
   "source": [
    "expand(U_GS_base['poly'])"
   ]
  },
  {
   "cell_type": "code",
   "execution_count": null,
   "metadata": {},
   "outputs": [],
   "source": [
    "expand(U_GS_ortogonal['poly'])"
   ]
  },
  {
   "cell_type": "code",
   "execution_count": null,
   "metadata": {},
   "outputs": [],
   "source": [
    "expand(U_GS_legendre['poly'])"
   ]
  },
  {
   "cell_type": "markdown",
   "metadata": {},
   "source": [
    "Los polinomios son técnicamente los mismos. Sin embargo, las matrices de Gram son mucho más convenientes para la base ortogonal / de legendre."
   ]
  },
  {
   "cell_type": "code",
   "execution_count": null,
   "metadata": {},
   "outputs": [],
   "source": [
    "U_GS_base['G']"
   ]
  },
  {
   "cell_type": "code",
   "execution_count": null,
   "metadata": {},
   "outputs": [],
   "source": [
    "U_GS_ortogonal['G']"
   ]
  },
  {
   "cell_type": "code",
   "execution_count": null,
   "metadata": {},
   "outputs": [],
   "source": [
    "U_GS_legendre['G']"
   ]
  },
  {
   "cell_type": "markdown",
   "metadata": {},
   "source": [
    "Ahora vamos a hacer la aproximación gráfica para las funciones $\\sin(x)$ y $\\ln(x)$"
   ]
  },
  {
   "cell_type": "code",
   "execution_count": null,
   "metadata": {},
   "outputs": [],
   "source": [
    "x_range = np.linspace(0, 2 * np.pi, 100)\n",
    "\n",
    "base = [S(1), x, x**2, x**3, x**4, x**5, x**6, x**7]\n",
    "f = sin(x)\n",
    "\n",
    "plt.plot(x_range, [sin(x).subs(x,i) for i in x_range], label='real')\n",
    "for i in range(3, 8, 2):\n",
    "    base_sub = base[:i]\n",
    "    U_GS_base = metodo_gram(f, base_sub, var=x, func_producto=producto_escalar_peso, a=0, b=2*pi, w=S(1))\n",
    "    plt.plot(x_range, [U_GS_base['poly'].subs(x,i) for i in x_range], label=f'poly_{i}')\n",
    "            \n",
    "plt.legend(bbox_to_anchor=(1, 0.5))"
   ]
  },
  {
   "cell_type": "code",
   "execution_count": null,
   "metadata": {},
   "outputs": [],
   "source": [
    "x_range = np.linspace(0.01, 2, 100)\n",
    "\n",
    "base = [S(1), x, x**2, x**3, x**4, x**5, x**6, x**7,]\n",
    "f = ln(x)/ln(2)\n",
    "\n",
    "plt.plot(x_range, [f.subs(x,i) for i in x_range], label='real')\n",
    "for i in range(3, 8, 2):\n",
    "    base_sub = base[:i]\n",
    "    U_GS_base = metodo_gram(f, base_sub, var=x, func_producto=producto_escalar_peso, a=0.01, b=2, w=S(1))\n",
    "    plt.plot(x_range, [U_GS_base['poly'].subs(x,i) for i in x_range], label=f'poly_{i}')\n",
    "            \n",
    "plt.legend(bbox_to_anchor=(1.5, 0.3))"
   ]
  },
  {
   "cell_type": "markdown",
   "metadata": {},
   "source": [
    "Vemos que una aproximación polinomial de log es bastante buena también!"
   ]
  },
  {
   "cell_type": "markdown",
   "metadata": {},
   "source": [
    "### Polinomios de Chebyshev\n",
    "Los polinomios de Chevysheb responden a la ecuación $T_n = \\cos(n \\arccos(x))$. En base a las propiedades trigonométricas, estos polinomios también responden a la forma:\n",
    "$$T_0 = 1, \\;\\; T_1 = x$$\n",
    "$$T_n = 2xT_{n-1} - T_{n-2}$$\n",
    "En el intervalo [-1, 1]. Fuera de él la expresión T_n da valores complejos, aunque la parte real de esos valores se aproxima mucho a la forma polinomial.\n",
    "\n",
    "Estos polinomios son ortogonales en el intervalo [-1, 1] estableciendo $\\omega(x) = \\frac{1}{\\sqrt{1-x^2}}$:\n",
    "$$\\int_{-1}^{1} T_nT_m \\frac{1}{\\sqrt{1-x^2}} dx = \\begin{cases}\n",
    "0 & n\\neq m \\\\\n",
    "\\pi & n = m = 0 \\\\\n",
    "\\pi/2 & n = m \\neq 0\n",
    "\\end {cases}$$"
   ]
  },
  {
   "cell_type": "code",
   "execution_count": null,
   "metadata": {},
   "outputs": [],
   "source": [
    "# Aqui los generamos iterativamente\n",
    "t0 = S(1)\n",
    "t1 = x\n",
    "t2 = expand(2 * x * t1 - t0)\n",
    "t3 = expand(2 * x * t2 - t1)\n",
    "t4 = expand(2 * x * t3 - t2)\n",
    "t5 = expand(2 * x * t4 - t3)\n",
    "t5"
   ]
  },
  {
   "cell_type": "code",
   "execution_count": null,
   "metadata": {},
   "outputs": [],
   "source": [
    "# También podemos usar la función de sympy\n",
    "chebyshevt_poly(5)"
   ]
  },
  {
   "cell_type": "code",
   "execution_count": null,
   "metadata": {},
   "outputs": [],
   "source": [
    "T5 = cos(5 * acos(x))"
   ]
  },
  {
   "cell_type": "code",
   "execution_count": null,
   "metadata": {},
   "outputs": [],
   "source": [
    "x_range = np.linspace(-3, 3, 1000)\n",
    "y_t5 = [t5.subs(x, i) for i in x_range]\n",
    "y_T5 = [re(T5.subs(x, i)) for i in x_range]\n",
    "\n",
    "plt.plot(x_range, y_t5, label='t5')\n",
    "plt.plot(x_range, y_T5, label=\"T5\")\n",
    "plt.legend()"
   ]
  },
  {
   "cell_type": "markdown",
   "metadata": {},
   "source": [
    "Vemos que ambos polinomios son iguales"
   ]
  },
  {
   "cell_type": "markdown",
   "metadata": {},
   "source": [
    "Ahora vamos a comprobar la ortogonalidad de los polinomios usando el peso adecuado, u otro peso"
   ]
  },
  {
   "cell_type": "code",
   "execution_count": null,
   "metadata": {},
   "outputs": [],
   "source": [
    "producto_escalar_peso(chebyshevt_poly(3, x), chebyshevt_poly(5, x), x, w=S(1),a=-1, b=1)"
   ]
  },
  {
   "cell_type": "code",
   "execution_count": null,
   "metadata": {},
   "outputs": [],
   "source": [
    "producto_escalar_peso(chebyshevt_poly(3, x), chebyshevt_poly(5, x), x, w=1/sqrt(1 - x**2),a=-1, b=1)"
   ]
  },
  {
   "cell_type": "markdown",
   "metadata": {},
   "source": [
    "Vemos que si no añadimos el peso $\\omega(x)$ el resultado de la integral no es 0."
   ]
  },
  {
   "cell_type": "code",
   "execution_count": null,
   "metadata": {},
   "outputs": [],
   "source": [
    "producto_escalar_peso(chebyshevt_poly(0, x), chebyshevt_poly(0, x), x, w=1/sqrt(1 - x**2),a=-1, b=1)"
   ]
  },
  {
   "cell_type": "code",
   "execution_count": null,
   "metadata": {},
   "outputs": [],
   "source": [
    "producto_escalar_peso(chebyshevt_poly(1, x), chebyshevt_poly(1, x), x, w=1/sqrt(1 - x**2),a=-1, b=1)"
   ]
  },
  {
   "cell_type": "code",
   "execution_count": null,
   "metadata": {},
   "outputs": [],
   "source": [
    "producto_escalar_peso(chebyshevt_poly(3, x), chebyshevt_poly(3, x), x, w=1/sqrt(1 - x**2),a=-1, b=1)"
   ]
  },
  {
   "cell_type": "code",
   "execution_count": null,
   "metadata": {},
   "outputs": [],
   "source": [
    "producto_escalar_peso(chebyshevt_poly(5, x), chebyshevt_poly(5, x), x, w=1/sqrt(1 - x**2),a=-1, b=1)"
   ]
  },
  {
   "cell_type": "markdown",
   "metadata": {},
   "source": [
    "Para dos polinomios iguales, los resultados son los esperados"
   ]
  },
  {
   "cell_type": "markdown",
   "metadata": {},
   "source": [
    "### Aproximación trigonométrica (series de Fourier)\n",
    "La aproximación trigonométrica considera el siguiente producto escalar:\n",
    "$$\\langle f, g\\rangle = \\frac{1}{2\\pi}\\int_{-\\pi}^{\\pi}f(x)g(x)dx$$\n",
    "\n",
    "Si en el método de Gram consideramos los polinomios trigonométricos $\\{1, \\cos(x), \\sin(x), \\cdot, \\cos(nx), \\sin(nx)\\}$ tenemos que $\\langle f, g\\rangle$ para la base $\\mathcal{U}$ es:\n",
    "$$\\int_{-\\pi}^{\\pi} \\cos(kx)\\sin(jx)dx = 0$$\n",
    "$$\\int_{-\\pi}^{\\pi} \\cos(kx)\\cos(jx)dx = \\int_{-\\pi}^{\\pi} \\cos(kx)\\cos(jx)dx = \n",
    "\\begin{cases}0 & k\\neq j \\\\ \\pi & k=j>1 \\\\ 2\\pi & k = j = 0\\end{cases}$$\n",
    "\n",
    "Así, la matriz a resolver es:\n",
    "$$\\begin{bmatrix}\n",
    "2\\pi & 0 & 0 & \\cdots & 0 & 0 \\\\\n",
    "0  & \\pi & 0 & \\cdots & 0 & 0 \\\\\n",
    "0 & 0 & \\pi  & \\cdots & 0 & 0 \\\\\n",
    "\\vdots & \\vdots & \\vdots & \\ddots & \\vdots & \\vdots \\\\\n",
    "0  & 0 & 0 & \\cdots & \\pi & 0 \\\\\n",
    "0 & 0 & 0  & \\cdots & 0 & \\pi \\\\\n",
    "\\end{bmatrix}\n",
    "\\begin{bmatrix}\n",
    " a_0  \\\\\n",
    " a_1  \\\\\n",
    " b_1 \\\\\n",
    "\\vdots \\\\\n",
    " a_n \\\\\n",
    " b_n  \\\\\n",
    "\\end{bmatrix}\n",
    "=\n",
    "\\begin{bmatrix}\n",
    "\\langle f, 1 \\rangle \\\\\n",
    "\\langle f, \\cos(x) \\rangle \\\\\n",
    "\\langle f, \\sin(x) \\rangle \\\\\n",
    "\\vdots \\\\\n",
    "\\langle f, \\cos(nx) \\rangle \\\\\n",
    "\\langle f, \\sin(nx) \\rangle \\\\\n",
    "\\end{bmatrix}\n",
    "$$\n",
    "\n",
    "Luego\n",
    "$$\n",
    "\\begin{bmatrix}\n",
    " a_0  \\\\\n",
    " a_1  \\\\\n",
    " b_1 \\\\\n",
    "\\vdots \\\\\n",
    " a_n \\\\\n",
    " b_n  \\\\\n",
    "\\end{bmatrix}\n",
    "=\n",
    "\\begin{bmatrix}\n",
    "\\frac{1}{2\\pi} & 0 & 0 & \\cdots & 0 & 0 \\\\\n",
    "0  & \\frac{1}{\\pi} & 0 & \\cdots & 0 & 0 \\\\\n",
    "0 & 0 & \\frac{1}{\\pi}  & \\cdots & 0 & 0 \\\\\n",
    "\\vdots & \\vdots & \\vdots & \\ddots & \\vdots & \\vdots \\\\\n",
    "0  & 0 & 0 & \\cdots & \\frac{1}{\\pi} & 0 \\\\\n",
    "0 & 0 & 0  & \\cdots & 0 & \\frac{1}{\\pi} \\\\\n",
    "\\end{bmatrix}\n",
    "\\begin{bmatrix}\n",
    "\\langle f, 1 \\rangle \\\\\n",
    "\\langle f, \\cos(x) \\rangle \\\\\n",
    "\\langle f, \\sin(x) \\rangle \\\\\n",
    "\\vdots \\\\\n",
    "\\langle f, \\cos(nx) \\rangle \\\\\n",
    "\\langle f, \\sin(nx) \\rangle \\\\\n",
    "\\end{bmatrix} = \n",
    "\\begin{bmatrix}\n",
    "\\frac{1}{2\\pi}\\langle f, 1 \\rangle \\\\\n",
    "\\frac{1}{\\pi}\\langle f, \\cos(x) \\rangle \\\\\n",
    "\\frac{1}{\\pi}\\langle f, \\sin(x) \\rangle \\\\\n",
    "\\vdots \\\\\n",
    "\\frac{1}{\\pi}\\langle f, \\cos(nx) \\rangle \\\\\n",
    "\\frac{1}{\\pi}\\langle f, \\sin(nx) \\rangle \\\\\n",
    "\\end{bmatrix}\n",
    "$$\n",
    "\n",
    "Así, los coeficientes quedan definidos como:\n",
    "$$a_k = \\frac{1}{\\pi} \\int_{-\\pi}^{\\pi} f(x) \\cos(kx) dx$$\n",
    "$$b_k = \\frac{1}{\\pi} \\int_{-\\pi}^{\\pi} f(x) \\sin(kx) dx$$\n",
    "\n",
    "Si combinamos los coeficientes con los elementos de $\\mathcal{U}$ tenemos que el polinomio óptimo es, hasta grado $n$:\n",
    "$$g_n(x) = \\frac{a_0}{2} + \\sum_{k=1}^n a_k\\cos(kx) + b_k\\sin(kx)$$"
   ]
  },
  {
   "cell_type": "code",
   "execution_count": null,
   "metadata": {},
   "outputs": [],
   "source": [
    "def producto_escalar_trigono(f, g, var):\n",
    "    return simplify(integrate(f * g, (var, -pi, pi)) / (2*pi))"
   ]
  },
  {
   "cell_type": "markdown",
   "metadata": {},
   "source": [
    "#### EJERCICIO 36"
   ]
  },
  {
   "cell_type": "code",
   "execution_count": null,
   "metadata": {},
   "outputs": [],
   "source": [
    "base = [S(1), cos(x), sin(x)]\n",
    "\n",
    "m_gram = zeros(3, 3)\n",
    "f_base = zeros(3, 1)\n",
    "\n",
    "for i in range(3):\n",
    "    for j in range(3):\n",
    "        m_gram[i, j] = producto_escalar_trigono(base[i], base[j], x)\n",
    "    \n",
    "    f_base[i, 0] = producto_escalar_trigono(x, base[i], x)"
   ]
  },
  {
   "cell_type": "code",
   "execution_count": null,
   "metadata": {},
   "outputs": [],
   "source": [
    "m_gram  # Se ve que la base es ortogonal"
   ]
  },
  {
   "cell_type": "code",
   "execution_count": null,
   "metadata": {},
   "outputs": [],
   "source": [
    "f_base"
   ]
  },
  {
   "cell_type": "code",
   "execution_count": null,
   "metadata": {},
   "outputs": [],
   "source": [
    "# Resolvemos la matriz de Gram\n",
    "g = ((m_gram ** -1 * f_base).T * mat([base]).T)[0]\n",
    "g"
   ]
  },
  {
   "cell_type": "code",
   "execution_count": null,
   "metadata": {},
   "outputs": [],
   "source": [
    "expr.evalf(subs={x: 2.4})"
   ]
  },
  {
   "cell_type": "code",
   "execution_count": null,
   "metadata": {},
   "outputs": [],
   "source": [
    "def coefs_fourier(f, var, intervalo, n_coefs=2):\n",
    "    dict_coefs = {}\n",
    "    dict_coefs['a0'] = simplify(1 / pi * integrate(f, (var, intervalo[0], intervalo[1])))\n",
    "    for i in range(1, n_coefs):\n",
    "        dict_coefs[f'a{i}'] = simplify(1 / pi * integrate(f * cos(i * var), (var, intervalo[0], intervalo[1])))\n",
    "        dict_coefs[f'b{i}'] = simplify(1 / pi * integrate(f * sin(i * var), (var, intervalo[0], intervalo[1])))\n",
    "    \n",
    "    return dict_coefs\n",
    "\n",
    "\n",
    "def coefs_fourier_discr(f, var, intervalo, n_coefs=2, m=10):\n",
    "    dict_coefs = {}\n",
    "    lista_xk = np.linspace(intervalo[0], intervalo[1], 2*m)\n",
    "    \n",
    "    dict_coefs['a0'] = np.sum([f.subs(var, xk) * cos(0 * xk) for xk in lista_xk])/m\n",
    "    for i in range(1, n_coefs):\n",
    "        dict_coefs[f'a{i}'] = np.sum([f.evalf(subs={var: S(xk)}) * cos(S(i) * xk) for xk in lista_xk])/m\n",
    "        dict_coefs[f'b{i}'] = np.sum([f.evalf(subs={var: S(xk)}) * sin(S(i) * xk) for xk in lista_xk])/m\n",
    "    \n",
    "    return dict_coefs\n",
    "\n",
    "\n",
    "def serie_fourier(f, var, intervalo, n_coefs=3, discreto=False, m=10):\n",
    "    if discreto:\n",
    "        dict_coefs = coefs_fourier_discr(f, var, intervalo, n_coefs, m)\n",
    "    else:\n",
    "        dict_coefs = coefs_fourier(f, var, intervalo, n_coefs)\n",
    "        \n",
    "    serie_fourier = dict_coefs['a0']/2\n",
    "    for i in range(1, n_coefs):\n",
    "        serie_fourier += dict_coefs[f'a{i}'] * cos(i * x) + dict_coefs[f'b{i}'] * sin(i * x)\n",
    "        \n",
    "    return simplify(serie_fourier)"
   ]
  },
  {
   "cell_type": "markdown",
   "metadata": {},
   "source": [
    "#### EJEMPLO 25 ($f(x) = e^x$)\n",
    "En este ejercicio vamos a calcular la expansión de Fourier para órdenes 3, 6 y 15. Comprobamos que en orden 6 la aproximación es mejor, pero en los extremos del intervalo la aproximación empeora, tal y como se comenta en el texto base."
   ]
  },
  {
   "cell_type": "code",
   "execution_count": null,
   "metadata": {},
   "outputs": [],
   "source": [
    "f = E ** x"
   ]
  },
  {
   "cell_type": "code",
   "execution_count": null,
   "metadata": {},
   "outputs": [],
   "source": [
    "coefs_fourier(f, x, [-pi, pi], n_coefs=6)"
   ]
  },
  {
   "cell_type": "code",
   "execution_count": null,
   "metadata": {},
   "outputs": [],
   "source": [
    "serie_f_3 = expand(serie_fourier(f, x, [-pi, pi], n_coefs=3))\n",
    "serie_f_6 = expand(serie_fourier(f, x, [-pi, pi], n_coefs=6))\n",
    "serie_f_15 = expand(serie_fourier(f, x, [-pi, pi], n_coefs=15))"
   ]
  },
  {
   "cell_type": "code",
   "execution_count": null,
   "metadata": {},
   "outputs": [],
   "source": [
    "x_range = np.linspace(-np.pi, np.pi, 300)\n",
    "real = [(f).subs(x, i) for i in x_range]\n",
    "f3 = [serie_f_3.subs(x, i) for i in x_range]\n",
    "f6 = [serie_f_6.subs(x, i) for i in x_range]\n",
    "f15 = [serie_f_15.subs(x, i) for i in x_range]\n",
    "\n",
    "plt.plot(x_range, real, label=\"E**x\")\n",
    "plt.plot(x_range, f3, label='f3')\n",
    "plt.plot(x_range, f6, label=\"f6\")\n",
    "plt.plot(x_range, f15, label=\"f15\")\n",
    "\n",
    "plt.legend()"
   ]
  },
  {
   "cell_type": "markdown",
   "metadata": {},
   "source": [
    "Las series de Fourier también admiten un caso discreto. En este caso, si dividimos el intervalo $[a,b]$ en $2m$ (asumimos $m$ hasta $[a, \\frac{a+b}{2}]$ y otros $m$ hasta $[\\frac{a+b}{2}, b]$), para el caso discreto los coeficientes $a_k$ y $b_k$ se redefinen como:\n",
    "$$a_k = \\frac{1}{m}\\sum_{i=0}^{2m-1}f(x_i)\\cos(kx_i)$$\n",
    "$$b_k = \\frac{1}{m}\\sum_{i=0}^{2m-1}f(x_i)\\sin(kx_i)$$\n",
    "\n",
    "que, por simplificar, sería una media de $m$ valores en el intervalo, en lugar de la integral. Cuanto más grande sea $m$, más se van a parecer los coeficientes del caso discreto al continuo."
   ]
  },
  {
   "cell_type": "markdown",
   "metadata": {},
   "source": [
    "Ahora hacemos el caso discreto para m=6"
   ]
  },
  {
   "cell_type": "code",
   "execution_count": null,
   "metadata": {},
   "outputs": [],
   "source": [
    "serie_f_6_m_3 = expand(serie_fourier(f, x, [-np.pi, np.pi], n_coefs=6, discreto=True, m=3))"
   ]
  },
  {
   "cell_type": "code",
   "execution_count": null,
   "metadata": {},
   "outputs": [],
   "source": [
    "serie_f_6_m_10 = expand(serie_fourier(f, x, [-np.pi, np.pi], n_coefs=6, discreto=True, m=10))"
   ]
  },
  {
   "cell_type": "code",
   "execution_count": null,
   "metadata": {},
   "outputs": [],
   "source": [
    "serie_f_6_m_20 = expand(serie_fourier(f, x, [-np.pi, np.pi], n_coefs=6, discreto=True, m=20))"
   ]
  },
  {
   "cell_type": "code",
   "execution_count": null,
   "metadata": {},
   "outputs": [],
   "source": [
    "serie_f_6_m_50 = expand(serie_fourier(f, x, [-np.pi, np.pi], n_coefs=6, discreto=True, m=50))"
   ]
  },
  {
   "cell_type": "code",
   "execution_count": null,
   "metadata": {},
   "outputs": [],
   "source": [
    "x_range = np.linspace(-np.pi, np.pi, 300)\n",
    "real = [(f).subs(x, i) for i in x_range]\n",
    "f6m3 = [serie_f_6_m_3.subs(x, i) for i in x_range]\n",
    "f6m10 = [serie_f_6_m_10.subs(x, i) for i in x_range]\n",
    "f6m20 = [serie_f_6_m_20.subs(x, i) for i in x_range]\n",
    "f6m50 = [serie_f_6_m_50.subs(x, i) for i in x_range]\n",
    "\n",
    "f6 = [serie_f_6.subs(x, i) for i in x_range]\n",
    "\n",
    "plt.plot(x_range, real, label=\"E**x\")\n",
    "plt.plot(x_range, f6, label='f6')\n",
    "plt.plot(x_range, f6m3, label=\"f6disc-m3\")\n",
    "plt.plot(x_range, f6m10, label=\"f6disc-m10\")\n",
    "plt.plot(x_range, f6m20, label=\"f6disc-m20\")\n",
    "plt.plot(x_range, f6m50, label=\"f6disc-m50\")\n",
    "\n",
    "\n",
    "plt.legend()"
   ]
  },
  {
   "cell_type": "markdown",
   "metadata": {},
   "source": [
    "#### EJEMPLO 25 ($f(x) = x$)"
   ]
  },
  {
   "cell_type": "code",
   "execution_count": null,
   "metadata": {},
   "outputs": [],
   "source": [
    "f = x"
   ]
  },
  {
   "cell_type": "code",
   "execution_count": null,
   "metadata": {},
   "outputs": [],
   "source": [
    "coefs_fourier(f, x, [-pi, pi], n_coefs=6)"
   ]
  },
  {
   "cell_type": "code",
   "execution_count": null,
   "metadata": {},
   "outputs": [],
   "source": [
    "serie_f_3 = expand(serie_fourier(f, x, [-pi, pi], n_coefs=3))\n",
    "serie_f_6 = expand(serie_fourier(f, x, [-pi, pi], n_coefs=6))\n",
    "serie_f_15 = expand(serie_fourier(f, x, [-pi, pi], n_coefs=15))"
   ]
  },
  {
   "cell_type": "code",
   "execution_count": null,
   "metadata": {},
   "outputs": [],
   "source": [
    "x_range = np.linspace(-np.pi, np.pi, 300)\n",
    "real = [(f).subs(x, i) for i in x_range]\n",
    "f3 = [serie_f_3.subs(x, i) for i in x_range]\n",
    "f6 = [serie_f_6.subs(x, i) for i in x_range]\n",
    "f15 = [serie_f_15.subs(x, i) for i in x_range]\n",
    "\n",
    "plt.plot(x_range, real, label=\"x\")\n",
    "plt.plot(x_range, f3, label='f3')\n",
    "plt.plot(x_range, f6, label=\"f6\")\n",
    "plt.plot(x_range, f15, label=\"f15\")\n",
    "\n",
    "plt.legend()"
   ]
  },
  {
   "cell_type": "markdown",
   "metadata": {},
   "source": [
    "Ahora hacemos el caso discreto para m=6"
   ]
  },
  {
   "cell_type": "code",
   "execution_count": null,
   "metadata": {},
   "outputs": [],
   "source": [
    "serie_f_6_m_5 = expand(serie_fourier(f, x, [-np.pi, np.pi], n_coefs=6, discreto=True, m=5))"
   ]
  },
  {
   "cell_type": "code",
   "execution_count": null,
   "metadata": {},
   "outputs": [],
   "source": [
    "serie_f_6_m_10 = expand(serie_fourier(f, x, [-np.pi, np.pi], n_coefs=6, discreto=True, m=10))"
   ]
  },
  {
   "cell_type": "code",
   "execution_count": null,
   "metadata": {},
   "outputs": [],
   "source": [
    "serie_f_6_m_20 = expand(serie_fourier(f, x, [-np.pi, np.pi], n_coefs=6, discreto=True, m=20))"
   ]
  },
  {
   "cell_type": "code",
   "execution_count": null,
   "metadata": {},
   "outputs": [],
   "source": [
    "serie_f_6_m_50 = expand(serie_fourier(f, x, [-np.pi, np.pi], n_coefs=6, discreto=True, m=50))"
   ]
  },
  {
   "cell_type": "code",
   "execution_count": null,
   "metadata": {},
   "outputs": [],
   "source": [
    "x_range = np.linspace(-np.pi, np.pi, 300)\n",
    "real = [(f).subs(x, i) for i in x_range]\n",
    "f6m5 = [serie_f_6_m_5.subs(x, i) for i in x_range]\n",
    "f6m10 = [serie_f_6_m_10.subs(x, i) for i in x_range]\n",
    "f6m20 = [serie_f_6_m_20.subs(x, i) for i in x_range]\n",
    "f6m50 = [serie_f_6_m_50.subs(x, i) for i in x_range]\n",
    "\n",
    "f6 = [serie_f_6.subs(x, i) for i in x_range]\n",
    "\n",
    "plt.plot(x_range, real, label=\"x\")\n",
    "plt.plot(x_range, f6, label='f6')\n",
    "plt.plot(x_range, f6m5, label=\"f6disc-m3\")\n",
    "plt.plot(x_range, f6m10, label=\"f6disc-m10\")\n",
    "plt.plot(x_range, f6m20, label=\"f6disc-m20\")\n",
    "plt.plot(x_range, f6m50, label=\"f6disc-m50\")\n",
    "\n",
    "\n",
    "plt.legend()"
   ]
  },
  {
   "cell_type": "markdown",
   "metadata": {},
   "source": [
    "#### EJEMPLO 25 ($f(x) = x^2$)"
   ]
  },
  {
   "cell_type": "code",
   "execution_count": null,
   "metadata": {},
   "outputs": [],
   "source": [
    "f = x ** 2"
   ]
  },
  {
   "cell_type": "code",
   "execution_count": null,
   "metadata": {},
   "outputs": [],
   "source": [
    "coefs_fourier(f, x, [-pi, pi], n_coefs=6)"
   ]
  },
  {
   "cell_type": "code",
   "execution_count": null,
   "metadata": {},
   "outputs": [],
   "source": [
    "N(2*pi**2/3)"
   ]
  },
  {
   "cell_type": "code",
   "execution_count": null,
   "metadata": {},
   "outputs": [],
   "source": [
    "coefs_fourier_discr(f, x, [-np.pi, np.pi], n_coefs=6, m=100)"
   ]
  },
  {
   "cell_type": "code",
   "execution_count": null,
   "metadata": {},
   "outputs": [],
   "source": [
    "serie_f_3 = expand(serie_fourier(f, x, [-pi, pi], n_coefs=3))\n",
    "serie_f_6 = expand(serie_fourier(f, x, [-pi, pi], n_coefs=6))\n",
    "serie_f_15 = expand(serie_fourier(f, x, [-pi, pi], n_coefs=15))"
   ]
  },
  {
   "cell_type": "code",
   "execution_count": null,
   "metadata": {},
   "outputs": [],
   "source": [
    "x_range = np.linspace(-np.pi, np.pi, 300)\n",
    "real = [(f).subs(x, i) for i in x_range]\n",
    "f3 = [serie_f_3.subs(x, i) for i in x_range]\n",
    "f6 = [serie_f_6.subs(x, i) for i in x_range]\n",
    "f15 = [serie_f_15.subs(x, i) for i in x_range]\n",
    "\n",
    "plt.plot(x_range, real, label=\"x^2\")\n",
    "plt.plot(x_range, f3, label='f3')\n",
    "plt.plot(x_range, f6, label=\"f6\")\n",
    "plt.plot(x_range, f15, label=\"f15\")\n",
    "\n",
    "plt.legend()"
   ]
  },
  {
   "cell_type": "markdown",
   "metadata": {},
   "source": [
    "Ahora hacemos el caso discreto para m=6"
   ]
  },
  {
   "cell_type": "code",
   "execution_count": null,
   "metadata": {},
   "outputs": [],
   "source": [
    "serie_f_6_m_3 = expand(serie_fourier(f, x, [-np.pi, np.pi], n_coefs=6, discreto=True, m=3))"
   ]
  },
  {
   "cell_type": "code",
   "execution_count": null,
   "metadata": {},
   "outputs": [],
   "source": [
    "serie_f_6_m_10 = expand(serie_fourier(f, x, [-np.pi, np.pi], n_coefs=6, discreto=True, m=10))"
   ]
  },
  {
   "cell_type": "code",
   "execution_count": null,
   "metadata": {},
   "outputs": [],
   "source": [
    "serie_f_6_m_20 = expand(serie_fourier(f, x, [-np.pi, np.pi], n_coefs=6, discreto=True, m=20))"
   ]
  },
  {
   "cell_type": "code",
   "execution_count": null,
   "metadata": {},
   "outputs": [],
   "source": [
    "serie_f_6_m_50 = expand(serie_fourier(f, x, [-np.pi, np.pi], n_coefs=6, discreto=True, m=50))"
   ]
  },
  {
   "cell_type": "code",
   "execution_count": null,
   "metadata": {},
   "outputs": [],
   "source": [
    "x_range = np.linspace(-np.pi, np.pi, 300)\n",
    "real = [(f).subs(x, i) for i in x_range]\n",
    "f6m3 = [serie_f_6_m_3.subs(x, i) for i in x_range]\n",
    "f6m10 = [serie_f_6_m_10.subs(x, i) for i in x_range]\n",
    "f6m20 = [serie_f_6_m_20.subs(x, i) for i in x_range]\n",
    "f6m50 = [serie_f_6_m_50.subs(x, i) for i in x_range]\n",
    "\n",
    "f6 = [serie_f_6.subs(x, i) for i in x_range]\n",
    "\n",
    "plt.plot(x_range, real, label=\"x^2\")\n",
    "plt.plot(x_range, f6, label='f6')\n",
    "plt.plot(x_range, f6m3, label=\"f6disc-m3\")\n",
    "plt.plot(x_range, f6m10, label=\"f6disc-m10\")\n",
    "plt.plot(x_range, f6m20, label=\"f6disc-m20\")\n",
    "plt.plot(x_range, f6m50, label=\"f6disc-m50\")\n",
    "\n",
    "\n",
    "plt.legend()"
   ]
  },
  {
   "cell_type": "markdown",
   "metadata": {},
   "source": [
    "### Aproximación uniforme (Polinomios de Bernstein)\n",
    "Otro modo de realizar aproximaciones a funciones es empleando la aproximación uniforme. El tma de Weierstrass indica que para $f$ continua en un intervalo cerrado y acotado $I$, para todo $\\epsilon > 0$ existe un polinomio $p$ tal que $||f-p||_\\infty < \\epsilon$. \n",
    "\n",
    "Para $I = [0, 1]$, el conjunto de polinomios de grado $n$ que satisface esa condición son los polinomios de Bernstein:\n",
    "$$B_{n,f}(x) = \\sum_{i = 0}^n f\\left(\\frac{i}{n}\\right) {n \\choose i} x^i(1-x)^{n-i}$$\n",
    "\n",
    "Para $I = [a, b]$, hay que realizar el cambio de variable $x = (b-a)t + a$ para $t \\in [0,1]$. Con ello, definimos $g(t)$ y tenemos el polinomio\n",
    "$$B_{n,f}(t) = \\sum_{i = 0}^n g\\left(\\frac{i}{n}\\right) {n \\choose i} t^i(1-t)^{n-i}$$\n",
    "Que después reconvertimos a $x$ aplicando el cambio $t = \\frac{x - a}{b - a}$"
   ]
  },
  {
   "cell_type": "code",
   "execution_count": null,
   "metadata": {},
   "outputs": [],
   "source": [
    "def polinomios_bernstein(f, varx, intervalo=[0, 1], grado=2):\n",
    "    \"\"\"HACER BIEN LOS PRINTS Y RETORNAR LOS POLINOMIOOS DE SUBSTITUCION EN t\"\"\"\n",
    "    # Los polinomios funcionan en un intervalo de 0 a 1, así que si el intervalo base es [a, b] tenemos que \n",
    "    # aplicar el cambio t = (x - a)/(b - a) -> (b-a)t + a = x\n",
    "    # Así transformamos f(x) en g(t)\n",
    "    \n",
    "    # Si el polinomio Bngt = sum_i^n (n i) g(i/n) t^i (1-t)^(n-1)\n",
    "    \n",
    "    vart = varx * (intervalo[1] - intervalo[0]) + intervalo[0]\n",
    "    g = f.subs(varx, vart)\n",
    "        \n",
    "    B_nft = S(0)\n",
    "    for grado_i in range(grado + 1):\n",
    "        poli_i = binomial(grado, grado_i) * (varx ** grado_i) * ((1- varx) ** (grado - grado_i)) * g.subs(varx, S(grado_i)/S(grado))\n",
    "        B_nft += poli_i\n",
    "    \n",
    "    B_nf = B_nft.subs(varx, S(varx - S(intervalo[0])) / S(intervalo[1] - intervalo[0]))\n",
    "    \n",
    "    return expand(B_nf)"
   ]
  },
  {
   "cell_type": "markdown",
   "metadata": {},
   "source": [
    "#### EJERCICIO 38"
   ]
  },
  {
   "cell_type": "code",
   "execution_count": null,
   "metadata": {},
   "outputs": [],
   "source": [
    "f = abs(x)"
   ]
  },
  {
   "cell_type": "code",
   "execution_count": null,
   "metadata": {},
   "outputs": [],
   "source": [
    "polinomios_bernstein(f, x, intervalo=[-1, 1], grado=1)"
   ]
  },
  {
   "cell_type": "code",
   "execution_count": null,
   "metadata": {},
   "outputs": [],
   "source": [
    "polinomios_bernstein(f, x, intervalo=[-1, 1], grado=2)"
   ]
  },
  {
   "cell_type": "code",
   "execution_count": null,
   "metadata": {},
   "outputs": [],
   "source": [
    "polinomios_bernstein(f, x, intervalo=[-1, 1], grado=3)"
   ]
  },
  {
   "cell_type": "code",
   "execution_count": null,
   "metadata": {},
   "outputs": [],
   "source": [
    "polinomios_bernstein(f, x, intervalo=[-1, 1], grado=4)"
   ]
  },
  {
   "cell_type": "code",
   "execution_count": null,
   "metadata": {},
   "outputs": [],
   "source": [
    "polinomios_bernstein(f, x, intervalo=[-1, 1], grado=5)"
   ]
  },
  {
   "cell_type": "code",
   "execution_count": null,
   "metadata": {},
   "outputs": [],
   "source": [
    "polinomios_bernstein(f, x, intervalo=[-1, 1], grado=6)"
   ]
  },
  {
   "cell_type": "code",
   "execution_count": null,
   "metadata": {},
   "outputs": [],
   "source": [
    "polinomios_bernstein(f, x, intervalo=[-1, 1], grado=7)"
   ]
  },
  {
   "cell_type": "code",
   "execution_count": null,
   "metadata": {},
   "outputs": [],
   "source": [
    "polinomios_bernstein(f, x, intervalo=[-1, 1], grado=8)"
   ]
  },
  {
   "cell_type": "markdown",
   "metadata": {},
   "source": [
    "Vemos que los polinomios se repiten por paridad. Esto tiene sentido porque los polinomios solo pueden tener coeficientes pares, ya que abs(x) siempre es positivo.\n",
    "Vamos a plotear los polinomios hasta un grado alto."
   ]
  },
  {
   "cell_type": "code",
   "execution_count": null,
   "metadata": {},
   "outputs": [],
   "source": [
    "x_range = np.linspace(-1, 1, 300)\n",
    "real = [(f).subs(x, i) for i in x_range]\n",
    "B2 = [polinomios_bernstein(f, x, intervalo=[-1, 1], grado=2).subs(x, i) for i in x_range]\n",
    "B6 = [polinomios_bernstein(f, x, intervalo=[-1, 1], grado=6).subs(x, i) for i in x_range]\n",
    "B10 = [polinomios_bernstein(f, x, intervalo=[-1, 1], grado=10).subs(x, i) for i in x_range]\n",
    "B100 = [polinomios_bernstein(f, x, intervalo=[-1, 1], grado=100).subs(x, i) for i in x_range]\n",
    "\n",
    "plt.plot(x_range, real, label=\"abs(x)\")\n",
    "plt.plot(x_range, B2, label='B2')\n",
    "plt.plot(x_range, B6, label='B6')\n",
    "plt.plot(x_range, B10, label='B10')\n",
    "plt.plot(x_range, B100, label='B100')\n",
    "\n",
    "plt.legend()"
   ]
  },
  {
   "cell_type": "markdown",
   "metadata": {},
   "source": [
    "Vemos que la curva se acerca cada vez más a abs(x)."
   ]
  },
  {
   "cell_type": "markdown",
   "metadata": {},
   "source": [
    "#### EJEMPLO 26"
   ]
  },
  {
   "cell_type": "code",
   "execution_count": null,
   "metadata": {},
   "outputs": [],
   "source": [
    "f = E**(3*x) * sin(pi * x)\n",
    "f"
   ]
  },
  {
   "cell_type": "code",
   "execution_count": null,
   "metadata": {},
   "outputs": [],
   "source": [
    "polinomios_bernstein(f, x, intervalo=[0, 1], grado=1)"
   ]
  },
  {
   "cell_type": "code",
   "execution_count": null,
   "metadata": {},
   "outputs": [],
   "source": [
    "polinomios_bernstein(f, x, intervalo=[0, 1], grado=2)"
   ]
  },
  {
   "cell_type": "code",
   "execution_count": null,
   "metadata": {},
   "outputs": [],
   "source": [
    "polinomios_bernstein(f, x, intervalo=[0, 1], grado=3)"
   ]
  },
  {
   "cell_type": "code",
   "execution_count": null,
   "metadata": {},
   "outputs": [],
   "source": [
    "polinomios_bernstein(f, x, intervalo=[0, 1], grado=4)"
   ]
  },
  {
   "cell_type": "markdown",
   "metadata": {},
   "source": [
    "Vemos que los polinomios se repiten por paridad. Esto tiene sentido porque los polinomios solo pueden tener coeficientes pares, ya que abs(x) siempre es positivo.\n",
    "Vamos a plotear los polinomios hasta un grado alto."
   ]
  },
  {
   "cell_type": "code",
   "execution_count": null,
   "metadata": {},
   "outputs": [],
   "source": [
    "x_range = np.linspace(0, 1, 300)\n",
    "real = [(f).subs(x, i) for i in x_range]\n",
    "B2 = [polinomios_bernstein(f, x, intervalo=[0, 1], grado=2).subs(x, i) for i in x_range]\n",
    "B4 = [polinomios_bernstein(f, x, intervalo=[0, 1], grado=4).subs(x, i) for i in x_range]\n",
    "B8 = [polinomios_bernstein(f, x, intervalo=[0, 1], grado=8).subs(x, i) for i in x_range]\n",
    "B16 = [polinomios_bernstein(f, x, intervalo=[0, 1], grado=16).subs(x, i) for i in x_range]\n",
    "B32 = [polinomios_bernstein(f, x, intervalo=[0, 1], grado=32).subs(x, i) for i in x_range]\n",
    "\n",
    "plt.plot(x_range, real, label=\"f\")\n",
    "plt.plot(x_range, B2, label='B2')\n",
    "plt.plot(x_range, B4, label='B4')\n",
    "plt.plot(x_range, B8, label='B8')\n",
    "plt.plot(x_range, B16, label='B16')\n",
    "plt.plot(x_range, B32, label='B32')\n",
    "\n",
    "plt.legend()"
   ]
  },
  {
   "cell_type": "code",
   "execution_count": null,
   "metadata": {},
   "outputs": [],
   "source": [
    "x_range = np.linspace(0, 1, 300)\n",
    "real = [(f).subs(x, i) for i in x_range]\n",
    "B2 = [polinomios_bernstein(f, x, intervalo=[0, 1], grado=2).subs(x, i) for i in x_range]\n",
    "B4 = [polinomios_bernstein(f, x, intervalo=[0, 1], grado=4).subs(x, i) for i in x_range]\n",
    "B8 = [polinomios_bernstein(f, x, intervalo=[0, 1], grado=8).subs(x, i) for i in x_range]\n",
    "B16 = [polinomios_bernstein(f, x, intervalo=[0, 1], grado=16).subs(x, i) for i in x_range]\n",
    "B32 = [polinomios_bernstein(f, x, intervalo=[0, 1], grado=32).subs(x, i) for i in x_range]\n",
    "\n",
    "plt.plot(x_range, np.array(real) - np.array(B2), label=\"2\")\n",
    "plt.plot(x_range, np.array(real) - np.array(B4), label=\"4\")\n",
    "plt.plot(x_range, np.array(real) - np.array(B8), label=\"8\")\n",
    "plt.plot(x_range, np.array(real) - np.array(B32), label=\"32\")"
   ]
  }
 ],
 "metadata": {
  "colab": {
   "include_colab_link": true,
   "name": "ANMI.ipynb",
   "provenance": [],
   "toc_visible": true
  },
  "kernelspec": {
   "display_name": "Python 3",
   "language": "python",
   "name": "python3"
  },
  "language_info": {
   "codemirror_mode": {
    "name": "ipython",
    "version": 3
   },
   "file_extension": ".py",
   "mimetype": "text/x-python",
   "name": "python",
   "nbconvert_exporter": "python",
   "pygments_lexer": "ipython3",
   "version": "3.8.5"
  }
 },
 "nbformat": 4,
 "nbformat_minor": 4
}
