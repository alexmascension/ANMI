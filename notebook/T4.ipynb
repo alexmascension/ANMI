{
 "cells": [
  {
   "cell_type": "markdown",
   "metadata": {
    "colab_type": "text",
    "id": "view-in-github"
   },
   "source": [
    "<a href=\"https://colab.research.google.com/github/alexmascension/ANMI/blob/main/notebook/T4.ipynb\" target=\"_parent\"><img src=\"https://colab.research.google.com/assets/colab-badge.svg\" alt=\"Open In Colab\"/></a>"
   ]
  },
  {
   "cell_type": "markdown",
   "metadata": {
    "id": "Vf3GioQwcepr"
   },
   "source": [
    "# Tema 4: Aproximación de funciones"
   ]
  },
  {
   "cell_type": "code",
   "execution_count": null,
   "metadata": {
    "id": "1hDZNaYFX936"
   },
   "outputs": [],
   "source": [
    "!pip install -r https://raw.githubusercontent.com/alexmascension/ANMI/main/requirements.txt"
   ]
  },
  {
   "cell_type": "code",
   "execution_count": null,
   "metadata": {
    "id": "dYo_JGn2TSxC"
   },
   "outputs": [],
   "source": [
    "from sympy import *\n",
    "from sympy.matrices import Matrix as mat\n",
    "from sympy.matrices import randMatrix\n",
    "from sympy import symbols\n",
    "import sympy\n",
    "\n",
    "import numpy as np\n",
    "\n",
    "from scipy.linalg import orth\n",
    "\n",
    "from matplotlib import pyplot as plt"
   ]
  },
  {
   "cell_type": "code",
   "execution_count": null,
   "metadata": {
    "id": "l-V6kF8_X937"
   },
   "outputs": [],
   "source": [
    "from anmi.genericas import norma_p_func, norma_inf_func\n",
    "\n",
    "from anmi.T4 import metodo_ruffini"
   ]
  },
  {
   "cell_type": "code",
   "execution_count": null,
   "metadata": {},
   "outputs": [],
   "source": [
    "x, y, z, a, lambda_ = symbols('x'), symbols('y'), symbols('z'), symbols('a'), symbols('lambda')"
   ]
  },
  {
   "cell_type": "markdown",
   "metadata": {
    "id": "79oglbStAAVB"
   },
   "source": [
    "El objetivo de la aproximación de funciones es encontrar una función de caracteristicas menores o con términos más fáciles para computar, que se aproxime a una función dada en un intervalo o conjunto de puntos determinado. A nivel computacional, también es más eficiente y estable poder emplear cierto tipo de funciones de aproximación."
   ]
  },
  {
   "cell_type": "markdown",
   "metadata": {},
   "source": [
    "## Representación anidada (algoritmo de Horner) / Método de Ruffini\n",
    "Si tenemos un polinomio $p(x) = a_0 + a_1x + a_2x^2+\\cdots+a_nx^n$, entonces podemos hacer el polinomio más compacto, en la forma $p(x) = q_1(q_2(\\cdots(q_n(x)))$, tal que $q_i(x) = a_{i-1} + a_i(x)$."
   ]
  },
  {
   "cell_type": "code",
   "execution_count": null,
   "metadata": {},
   "outputs": [],
   "source": [
    "poli_1 = Poly(x**3 - x**2 + 2*x - 5)"
   ]
  },
  {
   "cell_type": "code",
   "execution_count": null,
   "metadata": {},
   "outputs": [],
   "source": [
    "metodo_ruffini(poli_1, 1)"
   ]
  },
  {
   "cell_type": "markdown",
   "metadata": {},
   "source": [
    "## Aproximación de funciones\n",
    "Si $f$ es una función en un espacio vectorial $V$ podemos definir una norma $||\\;\\;||$, que es una aplicación que cumple:\n",
    "* $||f|| = 0  \\iff f = 0$\n",
    "* $||\\lambda f|| = |\\lambda|\\,||f||$\n",
    "* $||f + g|| \\le ||f|| + ||g||$\n",
    "\n",
    "Si fijamos un subespacio $U \\subset V$, podemos buscar una función $g\\in U$ tal que sea la más similar.\n",
    "\n",
    "Si queremos medir la distancia entre 2 funciones, hay múltiples opciones:\n",
    "* Norma 2: $||f||_2 = \\left( \\int_a^bf(x)^2 dx \\right)^\\frac{1}{2}$\n",
    "* Norma p: $||f||_p = \\left( \\int_a^b |f(x)|^p dx \\right)^\\frac{1}{p}$\n",
    "* Norma inf: $||f||_{\\inf} = \\max_{x \\in [a,b]} |f(x)|$"
   ]
  },
  {
   "cell_type": "code",
   "execution_count": null,
   "metadata": {},
   "outputs": [],
   "source": [
    "f = x\n",
    "g1 = sin(x)\n",
    "g2 = 1 - cos(x)"
   ]
  },
  {
   "cell_type": "code",
   "execution_count": null,
   "metadata": {},
   "outputs": [],
   "source": [
    "norma_p_func(f - g1, p=2, a=0, b=2*pi)"
   ]
  },
  {
   "cell_type": "code",
   "execution_count": null,
   "metadata": {},
   "outputs": [],
   "source": [
    "norma_inf_func(f - g1, a=0, b=2*pi)"
   ]
  },
  {
   "cell_type": "code",
   "execution_count": null,
   "metadata": {},
   "outputs": [],
   "source": [
    "norma_p_func(f - g2, p=2, a=0, b=2*pi)"
   ]
  },
  {
   "cell_type": "code",
   "execution_count": null,
   "metadata": {},
   "outputs": [],
   "source": [
    "norma_inf_func(f - g2, a=0, b=2*pi)"
   ]
  },
  {
   "cell_type": "markdown",
   "metadata": {},
   "source": [
    "### Aproximación por mínimos cuadrados (continua y discreta)\n",
    "\n",
    "Para la aproximación definimos el producto escalar como una aplicación $\\langle\\,,\\rangle \\; :\\,V \\times V \\rightarrow \\mathbb{R}^+$ que verifica:\n",
    "* $\\langle f, f\\rangle = \\iff f = 0$\n",
    "* $\\langle f, g\\rangle =\\langle g, f\\rangle$\n",
    "* $\\langle\\alpha f+\\mu g, h\\rangle = \\alpha\\langle f, h\\rangle + \\mu \\langle g, h\\rangle$\n",
    "\n",
    "La norma se define como $||f|| = \\langle f, f\\rangle^{\\frac{1}{2}}$.\n",
    "\n",
    "Una forma de producto escalar es, por ejemplo:\n",
    "$$\\langle f, g \\rangle = \\int_a^b f(x)g(x) dx$$\n",
    "\n",
    "Esa forma puede aplicarse de forma discreta (para un conjunto discreto $I = \\{x_1, x_2, \\cdots, x_m\\}$ como :\n",
    "$$\\langle f, g \\rangle = \\sum_{i \\in I} f(i)g(i)$$ \n",
    "\n",
    "En la aproximación de mínimos cuadrados deseamos encontrar, para una base $\\{\\phi_0, \\cdots, \\phi_n\\}$ de $U$, un vector $\\alpha$ que minimice una función de coste $J(\\alpha) = ||f - \\sum_0^n \\alpha_i\\phi_i||^2$. Para ello se emplea el método de Gram, que consiste en encontrar la solución a \n",
    "$$G\\alpha = \\bar{f}$$\n",
    "donde $G_{ij} = \\langle\\phi_i, \\phi_j\\rangle$ y $\\bar{f}_i = \\langle f, \\phi_i\\rangle$ en un producto escalar definido arbitrariamente."
   ]
  },
  {
   "cell_type": "code",
   "execution_count": null,
   "metadata": {},
   "outputs": [],
   "source": [
    "def producto_deriv(f, g, var, a=0, b=1, I=None):\n",
    "    fg = f * g + f.diff(var) * g.diff(var)\n",
    "    \n",
    "    if I is None: # aplica el modo continuo\n",
    "        integral = simplify(integrate(fg, (var, a, b)))\n",
    "        return integral\n",
    "    else:\n",
    "        sum_I = S(0)  # Para hacerlo como objeto de sympy\n",
    "        for i in I:\n",
    "            sum_I += fg.subs(var, i)\n",
    "        return simplify(sum_I)\n",
    "\n",
    "def producto_asecas(f, g, var, a=0, b=1, I=None):\n",
    "    fg = f * g\n",
    "    if I is None: # aplica el modo continuo\n",
    "        integral = simplify(integrate(fg, (var, a, b)))\n",
    "        return integral\n",
    "    else:\n",
    "        sum_I = S(0)  # Para hacerlo como objeto de sympy\n",
    "        for i in I:\n",
    "            sum_I += fg.subs(var, i)\n",
    "        return simplify(sum_I)\n",
    "\n",
    "def metodo_gram(f, U, var, func_producto, a=0, b=1, I=None):\n",
    "    G = zeros(len(U), len(U))\n",
    "    f_bar = zeros(len(U), 1)\n",
    "    \n",
    "    for idx_i, u_i in enumerate(U):\n",
    "        for idx_j, u_j in enumerate(U):\n",
    "            if idx_i >= idx_j:\n",
    "                g_ij = func_producto(u_i, u_j, var, a, b, I)\n",
    "                G[idx_i, idx_j] = g_ij\n",
    "                G[idx_j, idx_i] = g_ij\n",
    "    \n",
    "    for idx_i, u_i in enumerate(U):\n",
    "        f_i = func_producto(f, u_i, var, a, b, I)\n",
    "        f_bar[idx_i, 0] = f_i\n",
    "    \n",
    "    try:\n",
    "        alpha = simplify((G ** -1) * f_bar)\n",
    "    except:\n",
    "        print('AVISO!!! La matriz G no es invertible. Aplicamos la pseudoinversa')\n",
    "        from sympy.matrices.inverse import _pinv  # Aplica la pseudoinversa de Moore Penrose\n",
    "        alpha = simplify(_pinv(G) * f_bar)\n",
    "        \n",
    "    expr_pol = simplify((alpha.T * mat([U]).T)[0]) # producto entre alpha y la base U\n",
    "    \n",
    "    return {'poly': expr_pol, 'alpha': alpha, 'f_bar': f_bar, 'G': G}"
   ]
  },
  {
   "cell_type": "markdown",
   "metadata": {},
   "source": [
    "#### Ejercicio 33"
   ]
  },
  {
   "cell_type": "code",
   "execution_count": null,
   "metadata": {},
   "outputs": [],
   "source": [
    "U = [S(1), x, x ** 2]  # S(1) lo hacemos porque hacer 1.diff da error por ser int.\n",
    "f = E ** x\n",
    "dict_prod_deriv = metodo_gram(f, U, var=x, func_producto=producto_deriv, a=0, b=1)"
   ]
  },
  {
   "cell_type": "code",
   "execution_count": null,
   "metadata": {},
   "outputs": [],
   "source": [
    "dict_prod_deriv['poly']"
   ]
  },
  {
   "cell_type": "code",
   "execution_count": null,
   "metadata": {},
   "outputs": [],
   "source": [
    "dict_prod_deriv['G']"
   ]
  },
  {
   "cell_type": "code",
   "execution_count": null,
   "metadata": {},
   "outputs": [],
   "source": [
    "dict_prod_deriv['f_bar']"
   ]
  },
  {
   "cell_type": "code",
   "execution_count": null,
   "metadata": {},
   "outputs": [],
   "source": [
    "dict_prod_deriv['alpha']"
   ]
  },
  {
   "cell_type": "markdown",
   "metadata": {},
   "source": [
    "Ahora con una versión discreta en los puntos 0, 0.2, 0.4, 0.6, 0.8, 1:"
   ]
  },
  {
   "cell_type": "code",
   "execution_count": null,
   "metadata": {},
   "outputs": [],
   "source": [
    "U = [S(1), x, x ** 2]  # S(1) lo hacemos porque hacer 1.diff da error por ser int.\n",
    "f = E ** x\n",
    "dict_prod_deriv_discreto = metodo_gram(f, U, var=x, func_producto=producto_deriv, I = [0, 0.2, 0.4, 0.6, 0.8, 1])"
   ]
  },
  {
   "cell_type": "code",
   "execution_count": null,
   "metadata": {},
   "outputs": [],
   "source": [
    "dict_prod_deriv_discreto['poly']"
   ]
  },
  {
   "cell_type": "code",
   "execution_count": null,
   "metadata": {},
   "outputs": [],
   "source": [
    "dict_prod_deriv_discreto['G']"
   ]
  },
  {
   "cell_type": "code",
   "execution_count": null,
   "metadata": {},
   "outputs": [],
   "source": [
    "dict_prod_deriv_discreto['f_bar']"
   ]
  },
  {
   "cell_type": "code",
   "execution_count": null,
   "metadata": {},
   "outputs": [],
   "source": [
    "dict_prod_deriv_discreto['alpha']"
   ]
  },
  {
   "cell_type": "markdown",
   "metadata": {},
   "source": [
    "Ahora la versión continua pero con la función $\\langle f, g \\rangle = \\int_a^b f(x)g(x) dx$"
   ]
  },
  {
   "cell_type": "code",
   "execution_count": null,
   "metadata": {},
   "outputs": [],
   "source": [
    "U = [S(1), x, x ** 2]  # S(1) lo hacemos porque hacer 1.diff da error por ser int.\n",
    "f = E ** x\n",
    "dict_prod_asecas = metodo_gram(f, U, var=x, func_producto=producto_asecas, a=0, b=1)"
   ]
  },
  {
   "cell_type": "code",
   "execution_count": null,
   "metadata": {},
   "outputs": [],
   "source": [
    "dict_prod_asecas['poly']"
   ]
  },
  {
   "cell_type": "code",
   "execution_count": null,
   "metadata": {},
   "outputs": [],
   "source": [
    "x_range = np.linspace(0, 1, 100)\n",
    "y_real = [(E ** x).subs(x, i) for i in x_range]\n",
    "y_prod_deriv = [dict_prod_deriv['poly'].subs(x, i) for i in x_range]\n",
    "y_prod_discreto = [dict_prod_deriv_discreto['poly'].subs(x, i) for i in x_range]\n",
    "y_prod_asecas = [dict_prod_asecas['poly'].subs(x, i) for i in x_range]\n",
    "\n",
    "plt.plot(x_range, y_real, label='real')\n",
    "plt.plot(x_range, y_prod_deriv, label=\"fg + f'g' continuo\")\n",
    "plt.plot(x_range, y_prod_discreto, label=\"fg + f'g' discreto\")\n",
    "plt.plot(x_range, y_prod_asecas, label=\"fg\")\n",
    "plt.legend()"
   ]
  },
  {
   "cell_type": "markdown",
   "metadata": {},
   "source": [
    "#### Ejercicio 34\n",
    "En el ejercicio piden usar la base $\\{1, x\\}$. Nosotros lo hacemos con $\\{1, x, x^2, x^3, x^4, x^5\\}$, que da una representación más real de la aproximación."
   ]
  },
  {
   "cell_type": "markdown",
   "metadata": {},
   "source": [
    "Calculamos la versión continua"
   ]
  },
  {
   "cell_type": "code",
   "execution_count": null,
   "metadata": {},
   "outputs": [],
   "source": [
    "U = [S(1), x, x ** 2, x ** 3, x ** 4]  # S(1) lo hacemos porque hacer 1.diff da error por ser int.\n",
    "f = cos(pi * x)/2 + sin(pi/2 * x)/3\n",
    "dict_prod_continuo = metodo_gram(f, U, var=x, func_producto=producto_asecas, a=-1, b=1)"
   ]
  },
  {
   "cell_type": "code",
   "execution_count": null,
   "metadata": {},
   "outputs": [],
   "source": [
    "dict_prod_continuo['poly']"
   ]
  },
  {
   "cell_type": "code",
   "execution_count": null,
   "metadata": {},
   "outputs": [],
   "source": [
    "dict_prod_continuo['G']"
   ]
  },
  {
   "cell_type": "code",
   "execution_count": null,
   "metadata": {},
   "outputs": [],
   "source": [
    "dict_prod_continuo['f_bar']"
   ]
  },
  {
   "cell_type": "code",
   "execution_count": null,
   "metadata": {},
   "outputs": [],
   "source": [
    "dict_prod_continuo['alpha']"
   ]
  },
  {
   "cell_type": "markdown",
   "metadata": {},
   "source": [
    "Y ahora la discreta"
   ]
  },
  {
   "cell_type": "code",
   "execution_count": null,
   "metadata": {},
   "outputs": [],
   "source": [
    "dict_prod_discreto = metodo_gram(f, U, var=x, func_producto=producto_asecas, I=[-1, 0, 1])"
   ]
  },
  {
   "cell_type": "code",
   "execution_count": null,
   "metadata": {},
   "outputs": [],
   "source": [
    "dict_prod_discreto['poly']"
   ]
  },
  {
   "cell_type": "code",
   "execution_count": null,
   "metadata": {},
   "outputs": [],
   "source": [
    "dict_prod_discreto['G']"
   ]
  },
  {
   "cell_type": "code",
   "execution_count": null,
   "metadata": {},
   "outputs": [],
   "source": [
    "dict_prod_discreto['f_bar']"
   ]
  },
  {
   "cell_type": "code",
   "execution_count": null,
   "metadata": {},
   "outputs": [],
   "source": [
    "dict_prod_discreto['alpha']"
   ]
  },
  {
   "cell_type": "markdown",
   "metadata": {},
   "source": [
    "Repetimos el proceso, por curiosidad, pero con el producto escalar fg + f'g'"
   ]
  },
  {
   "cell_type": "code",
   "execution_count": null,
   "metadata": {},
   "outputs": [],
   "source": [
    "dict_prod_continuo_deriv = metodo_gram(f, U, var=x, func_producto=producto_deriv, a=-1, b=1)\n",
    "dict_prod_discreto_deriv = metodo_gram(f, U, var=x, func_producto=producto_deriv, I=[-1, 0, 1])"
   ]
  },
  {
   "cell_type": "code",
   "execution_count": null,
   "metadata": {},
   "outputs": [],
   "source": [
    "dict_prod_continuo_deriv['poly']"
   ]
  },
  {
   "cell_type": "code",
   "execution_count": null,
   "metadata": {},
   "outputs": [],
   "source": [
    "dict_prod_discreto_deriv['poly']"
   ]
  },
  {
   "cell_type": "code",
   "execution_count": null,
   "metadata": {},
   "outputs": [],
   "source": [
    "x_range = np.linspace(-1, 1, 100)\n",
    "y_real = [f.subs(x, i) for i in x_range]\n",
    "y_prod_continuo = [dict_prod_continuo['poly'].subs(x, i) for i in x_range]\n",
    "y_prod_discreto = [dict_prod_discreto['poly'].subs(x, i) for i in x_range]\n",
    "y_prod_continuo_deriv = [dict_prod_continuo_deriv['poly'].subs(x, i) for i in x_range]\n",
    "y_prod_discreto_deriv = [dict_prod_discreto_deriv['poly'].subs(x, i) for i in x_range]\n",
    "\n",
    "plt.plot(x_range, y_real, label='real')\n",
    "plt.plot(x_range, y_prod_continuo, label=\"fg continuo\")\n",
    "plt.plot(x_range, y_prod_discreto, label=\"fg discreto\")\n",
    "plt.plot(x_range, y_prod_continuo_deriv, label=\"fg + f'g' continuo\")\n",
    "plt.plot(x_range, y_prod_discreto_deriv, label=\"fg + f'g' discreto\")\n",
    "\n",
    "plt.legend()"
   ]
  },
  {
   "cell_type": "code",
   "execution_count": null,
   "metadata": {},
   "outputs": [],
   "source": [
    "def prod_esc_GS_cont(f, g, var, a=-1, b=1):\n",
    "    return simplify(integrate(f * g, (var, a, b)))\n",
    "\n",
    "def prod_esc_GS_disc(f, g, var, I=[-1, 1]):\n",
    "    sum_I = S(0)\n",
    "    for i in I:\n",
    "        sum_I += f.subs(var, i) * g.subs(var, i)\n",
    "        \n",
    "    return simplify(sum_I)\n",
    "\n",
    "def gram_schmidt_f(base, var, prod_esc, *args, **kwargs):\n",
    "    list_pols_GS = []\n",
    "    for i in range(len(base)):\n",
    "        poli = base[i]\n",
    "        for j in range(i):\n",
    "            pj = list_pols_GS[j]\n",
    "            poli -= (prod_esc(pj, base[i], var, *args, **kwargs))/(prod_esc(pj, pj, var, *args, **kwargs)) * pj\n",
    "        \n",
    "        list_pols_GS.append(poli)\n",
    "    return list_pols_GS\n",
    "    "
   ]
  },
  {
   "cell_type": "markdown",
   "metadata": {},
   "source": [
    "#### Ejemplo 23"
   ]
  },
  {
   "cell_type": "code",
   "execution_count": null,
   "metadata": {},
   "outputs": [],
   "source": [
    "gram_schmidt_f([S(1), x, x ** 2, x ** 3, x ** 4, x ** 5, x ** 6], x, prod_esc=prod_esc_GS_cont)"
   ]
  },
  {
   "cell_type": "markdown",
   "metadata": {},
   "source": [
    "#### Ejercicio 35"
   ]
  },
  {
   "cell_type": "code",
   "execution_count": null,
   "metadata": {},
   "outputs": [],
   "source": [
    "I = [-1, 0, 1, 2]\n",
    "U_GS = gram_schmidt_f([S(1), x, x ** 2], x, prod_esc=prod_esc_GS_disc, I=I)"
   ]
  },
  {
   "cell_type": "code",
   "execution_count": null,
   "metadata": {},
   "outputs": [],
   "source": [
    "for i in U_GS:\n",
    "    print(i)"
   ]
  },
  {
   "cell_type": "code",
   "execution_count": null,
   "metadata": {},
   "outputs": [],
   "source": [
    "f = sin(pi/2 * x)\n",
    "dict_prod_discreto = metodo_gram(f, U_GS, var=x, func_producto=producto_asecas, I=I)"
   ]
  },
  {
   "cell_type": "code",
   "execution_count": null,
   "metadata": {},
   "outputs": [],
   "source": [
    "dict_prod_discreto['poly']"
   ]
  },
  {
   "cell_type": "markdown",
   "metadata": {},
   "source": [
    "### Aproximación con peso\n",
    "\n",
    "Para las anteriores definiciones podemos tomar un producto escalar\n",
    "$$\\langle f, g, \\rangle = \\int_a^b f(x)g(x)\\omega(x) dx$$\n",
    "\n",
    "Donde $\\omega(x)$ es una función positiva en $(a,b)$\n",
    "\n",
    "Se puede construir la sucesión de polinomios\n",
    "$$p_0(x) = 1$$\n",
    "$$p_1(x) = x - a_1$$\n",
    "$$p_2(x) = (x - a_2)p_1(x) - b_2p_0(x)$$\n",
    "$$\\cdots$$\n",
    "$$p_n(x) = (x - a_n)p_{n-1}(x) - b_np_{n-2}(x)$$\n",
    "\n",
    "Con\n",
    "$$a_n = \\frac{\\langle xp_{n-1},p_{n-1}\\rangle}{\\langle p_{n-1},p_{n-1}\\rangle}$$\n",
    "$$b_n = \\frac{\\langle xp_{n-1},p_{n-2}\\rangle}{\\langle p_{n-2},p_{n-2}\\rangle}$$"
   ]
  },
  {
   "cell_type": "code",
   "execution_count": null,
   "metadata": {},
   "outputs": [],
   "source": [
    "def producto_escalar_peso(f, g, var, w=S(1),a=0, b=1, I=None):  # TODO - CORREGIR FUNCIONES\n",
    "    fg = simplify(f * g * w)\n",
    "    if I is None: # aplica el modo continuo\n",
    "        integral = simplify(integrate(fg, (var, a, b)))\n",
    "        return integral\n",
    "    else:\n",
    "        sum_I = S(0)  # Para hacerlo como objeto de sympy\n",
    "        for i in I:\n",
    "            sum_I += fg.subs(var, i)\n",
    "        return simplify(sum_I)\n",
    "\n",
    "    \n",
    "def polinomios_orto_peso(base, w=S(1), var=x, a=-1, b=1, I=None):\n",
    "    list_p, list_a, list_b = [], [], []\n",
    "    \n",
    "    # n = 0\n",
    "    list_p.append(S(1))\n",
    "    list_a.append(S(0))\n",
    "    list_b.append(S(0))\n",
    "    \n",
    "    # n = 1\n",
    "    a_i = simplify(producto_escalar_peso(base[0] * var, base[0], var=var, w=w, a=a, b=b, I=None) / \n",
    "                   producto_escalar_peso(base[0], base[0], var=var, w=w, a=a, b=b, I=None))\n",
    "    list_p.append(var - a_i)\n",
    "    list_a.append(a_i)\n",
    "    list_b.append(S(0))\n",
    "    \n",
    "    # n > 1\n",
    "    for i in range(2, len(base)):\n",
    "        a_i = simplify(producto_escalar_peso(base[i - 1] * var, base[i - 1], var=var, w=w, a=a, b=b, I=None) / \n",
    "                       producto_escalar_peso(base[i - 1], base[i - 1], var=var, w=w, a=a, b=b, I=None))\n",
    "        \n",
    "        b_i = simplify(producto_escalar_peso(base[i - 1] * var, base[i - 2], var=var, w=w, a=a, b=b, I=None) / \n",
    "                       producto_escalar_peso(base[i - 2], base[i - 2], var=var, w=w, a=a, b=b, I=None))\n",
    "        \n",
    "        list_a.append(a_i)\n",
    "        list_b.append(b_i)\n",
    "        list_p.append(simplify((var - a_i) * list_p[i - 1] - b_i * list_p[i - 2]))\n",
    "        \n",
    "    return {'p': list_p, 'a': list_a, 'b': list_b}\n",
    "        "
   ]
  },
  {
   "cell_type": "markdown",
   "metadata": {},
   "source": [
    "#### Polinomios de Legendre"
   ]
  },
  {
   "cell_type": "code",
   "execution_count": null,
   "metadata": {},
   "outputs": [],
   "source": [
    "polinomios_orto_peso(base_ortogonal)"
   ]
  },
  {
   "cell_type": "code",
   "execution_count": null,
   "metadata": {},
   "outputs": [],
   "source": [
    "# La base para los polinomios tiene que ser ortogonal porque si no los polinomios no son ortogonales entre si!\n",
    "base = [S(1), x, x**2, x**3, x**4, x**5, x**6]\n",
    "base_ortogonal = gram_schmidt_f(base, var=x, prod_esc=prod_esc_GS_cont, a=-1, b=1)\n",
    "base_legendre = polinomios_orto_peso(base_ortogonal, w=S(1), var=x, a=-1, b=1)"
   ]
  },
  {
   "cell_type": "code",
   "execution_count": null,
   "metadata": {},
   "outputs": [],
   "source": [
    "base_legendre"
   ]
  },
  {
   "cell_type": "code",
   "execution_count": null,
   "metadata": {},
   "outputs": [],
   "source": [
    "x_range = np.linspace(-1, 1, 100)\n",
    "\n",
    "for p in base_legendre['p']:\n",
    "    plt.plot(x_range, [p.subs(x, i)/abs(p.subs(x, -1)) for i in x_range], label=S(1)/abs(p.subs(x, -1)))\n",
    "            \n",
    "plt.legend(bbox_to_anchor=(1, 0.5))"
   ]
  },
  {
   "cell_type": "code",
   "execution_count": null,
   "metadata": {},
   "outputs": [],
   "source": [
    "# Ahora probamos a resolver algun problema asociado. Por ejemplo, vamos a aproximar sin(x) en [0, 2 * pi]\n",
    "base = [S(1), x, x**2, x**3, x**4]\n",
    "base_ortogonal = gram_schmidt_f(base, var=x, prod_esc=prod_esc_GS_cont, a=0, b=2*pi)\n",
    "base_legendre = polinomios_orto_peso(base_ortogonal, w=S(1), var=x, a=0, b=2*pi)"
   ]
  },
  {
   "cell_type": "code",
   "execution_count": null,
   "metadata": {},
   "outputs": [],
   "source": [
    "metodo_gram"
   ]
  },
  {
   "cell_type": "code",
   "execution_count": null,
   "metadata": {},
   "outputs": [],
   "source": [
    "f = sin(x)\n",
    "\n",
    "U_GS_base = metodo_gram(f, base, var=x, func_producto=prod_esc_GS_cont, a=0, b=2*pi)\n",
    "gram_schmidt_f(U, x, prod_esc=prod_esc_GS_cont, a=0, b=2*pi)\n",
    "\n",
    "U_GS_ortogonal = gram_schmidt_f(base_ortogonal, x, prod_esc=prod_esc_GS_cont, a=0, b=2*pi)\n",
    "\n",
    "U_GS_legendre = gram_schmidt_f(base_legendre['p'], x, prod_esc=prod_esc_GS_cont, a=0, b=2*pi)"
   ]
  },
  {
   "cell_type": "code",
   "execution_count": null,
   "metadata": {},
   "outputs": [],
   "source": [
    "U_GS_base"
   ]
  },
  {
   "cell_type": "code",
   "execution_count": null,
   "metadata": {},
   "outputs": [],
   "source": [
    "U_GS_legendre"
   ]
  },
  {
   "cell_type": "code",
   "execution_count": null,
   "metadata": {},
   "outputs": [],
   "source": [
    "f = sin(pi/2 * x)\n",
    "dict_prod_discreto = metodo_gram(f, U_GS, var=x, func_producto=producto_asecas, I=I)"
   ]
  },
  {
   "cell_type": "code",
   "execution_count": null,
   "metadata": {},
   "outputs": [],
   "source": [
    "dict_prod_discreto['poly']"
   ]
  },
  {
   "cell_type": "markdown",
   "metadata": {},
   "source": [
    "### Polinomios de Chebyshev"
   ]
  }
 ],
 "metadata": {
  "colab": {
   "include_colab_link": true,
   "name": "ANMI.ipynb",
   "provenance": [],
   "toc_visible": true
  },
  "kernelspec": {
   "display_name": "Python 3",
   "language": "python",
   "name": "python3"
  },
  "language_info": {
   "codemirror_mode": {
    "name": "ipython",
    "version": 3
   },
   "file_extension": ".py",
   "mimetype": "text/x-python",
   "name": "python",
   "nbconvert_exporter": "python",
   "pygments_lexer": "ipython3",
   "version": "3.8.0"
  }
 },
 "nbformat": 4,
 "nbformat_minor": 4
}
