{
  "nbformat": 4,
  "nbformat_minor": 0,
  "metadata": {
    "colab": {
      "name": "ANMI.ipynb",
      "provenance": [],
      "toc_visible": true,
      "include_colab_link": true
    },
    "kernelspec": {
      "display_name": "Python 3",
      "language": "python",
      "name": "python3"
    },
    "language_info": {
      "codemirror_mode": {
        "name": "ipython",
        "version": 3
      },
      "file_extension": ".py",
      "mimetype": "text/x-python",
      "name": "python",
      "nbconvert_exporter": "python",
      "pygments_lexer": "ipython3",
      "version": "3.8.5"
    }
  },
  "cells": [
    {
      "cell_type": "markdown",
      "metadata": {
        "id": "view-in-github",
        "colab_type": "text"
      },
      "source": [
        "<a href=\"https://colab.research.google.com/github/alexmascension/ANMI/blob/main/notebook/T4.ipynb\" target=\"_parent\"><img src=\"https://colab.research.google.com/assets/colab-badge.svg\" alt=\"Open In Colab\"/></a>"
      ]
    },
    {
      "cell_type": "markdown",
      "metadata": {
        "id": "Vf3GioQwcepr"
      },
      "source": [
        "# Tema 4: Aproximación de funciones"
      ]
    },
    {
      "cell_type": "code",
      "metadata": {
        "id": "1hDZNaYFX936"
      },
      "source": [
        "!pip install -r https://raw.githubusercontent.com/alexmascension/ANMI/main/requirements.txt"
      ],
      "execution_count": null,
      "outputs": []
    },
    {
      "cell_type": "code",
      "metadata": {
        "id": "dYo_JGn2TSxC"
      },
      "source": [
        "from sympy import *\n",
        "from sympy.matrices import Matrix as mat\n",
        "from sympy.matrices import randMatrix\n",
        "from sympy import symbols\n",
        "import sympy\n",
        "\n",
        "import numpy as np\n",
        "\n",
        "from scipy.linalg import orth\n",
        "\n",
        "from matplotlib import pyplot as plt\n",
        "import matplotlib as mpl\n",
        "mpl.rcParams['figure.dpi'] = 150"
      ],
      "execution_count": null,
      "outputs": []
    },
    {
      "cell_type": "code",
      "metadata": {
        "id": "l-V6kF8_X937"
      },
      "source": [
        "from anmi.genericas import norma_p_func, norma_inf_func\n",
        "\n",
        "from anmi.T4 import metodo_ruffini\n",
        "from anmi.T4 import producto_deriv, producto_asecas, producto_escalar_peso, metodo_gram, gram_schmidt_f, polinomios_orto_peso\n",
        "from anmi.T4 import producto_escalar_trigono, coefs_fourier, coefs_fourier_discr, serie_fourier\n",
        "from anmi.T4 import polinomios_bernstein"
      ],
      "execution_count": null,
      "outputs": []
    },
    {
      "cell_type": "code",
      "metadata": {
        "id": "P9Dr9ThzzRSd"
      },
      "source": [
        "x, y, z, a, lambda_ = symbols('x'), symbols('y'), symbols('z'), symbols('a'), symbols('lambda')"
      ],
      "execution_count": null,
      "outputs": []
    },
    {
      "cell_type": "markdown",
      "metadata": {
        "id": "79oglbStAAVB"
      },
      "source": [
        "El objetivo de la aproximación de funciones es encontrar una función de caracteristicas menores o con términos más fáciles para computar, que se aproxime a una función dada en un intervalo o conjunto de puntos determinado. A nivel computacional, también es más eficiente y estable poder emplear cierto tipo de funciones de aproximación."
      ]
    },
    {
      "cell_type": "markdown",
      "metadata": {
        "id": "u-yuKfzazRSe"
      },
      "source": [
        "## Representación anidada (algoritmo de Horner) / Método de Ruffini\n",
        "Si tenemos un polinomio $p(x) = a_0 + a_1x + a_2x^2+\\cdots+a_nx^n$, entonces podemos hacer el polinomio más compacto, en la forma $p(x) = q_1(q_2(\\cdots(q_n(x)))$, tal que $q_i(x) = a_{i-1} + a_i(x)$."
      ]
    },
    {
      "cell_type": "code",
      "metadata": {
        "id": "MVYd82MwzRSf"
      },
      "source": [
        "help(metodo_ruffini)"
      ],
      "execution_count": null,
      "outputs": []
    },
    {
      "cell_type": "code",
      "metadata": {
        "id": "KIcncT_jzRSf"
      },
      "source": [
        "poli_1 = Poly(x**3 - x**2 + 2*x - 5)"
      ],
      "execution_count": null,
      "outputs": []
    },
    {
      "cell_type": "code",
      "metadata": {
        "id": "86EBiXr5zRSg"
      },
      "source": [
        "metodo_ruffini(poli_1, 1)"
      ],
      "execution_count": null,
      "outputs": []
    },
    {
      "cell_type": "markdown",
      "metadata": {
        "id": "5aWFypPFzRSg"
      },
      "source": [
        "## Aproximación de funciones\n",
        "Si $f$ es una función en un espacio vectorial $V$ podemos definir una norma $||\\;\\;||$, que es una aplicación que cumple:\n",
        "* $||f|| = 0  \\iff f = 0$\n",
        "* $||\\lambda f|| = |\\lambda|\\,||f||$\n",
        "* $||f + g|| \\le ||f|| + ||g||$\n",
        "\n",
        "Si fijamos un subespacio $U \\subset V$, podemos buscar una función $g\\in U$ tal que sea la más similar.\n",
        "\n",
        "Si queremos medir la distancia entre 2 funciones, hay múltiples opciones:\n",
        "* Norma 2: $||f||_2 = \\left( \\int_a^bf(x)^2 dx \\right)^\\frac{1}{2}$\n",
        "* Norma p: $||f||_p = \\left( \\int_a^b |f(x)|^p dx \\right)^\\frac{1}{p}$\n",
        "* Norma inf: $||f||_{\\inf} = \\max_{x \\in [a,b]} |f(x)|$"
      ]
    },
    {
      "cell_type": "code",
      "metadata": {
        "id": "IyuWl4WjzRSh"
      },
      "source": [
        "f = x\n",
        "g1 = sin(x)\n",
        "g2 = 1 - cos(x)"
      ],
      "execution_count": null,
      "outputs": []
    },
    {
      "cell_type": "code",
      "metadata": {
        "id": "f-j_buuOzRSh"
      },
      "source": [
        "norma_p_func(f - g1, p=2, a=0, b=2*pi)"
      ],
      "execution_count": null,
      "outputs": []
    },
    {
      "cell_type": "code",
      "metadata": {
        "id": "pnsF-GjtzRSh"
      },
      "source": [
        "norma_inf_func(f - g1, a=0, b=2*pi)"
      ],
      "execution_count": null,
      "outputs": []
    },
    {
      "cell_type": "code",
      "metadata": {
        "id": "WNDD9FVzzRSi"
      },
      "source": [
        "norma_p_func(f - g2, p=2, a=0, b=2*pi)"
      ],
      "execution_count": null,
      "outputs": []
    },
    {
      "cell_type": "code",
      "metadata": {
        "id": "kPgssfFpzRSi"
      },
      "source": [
        "norma_inf_func(f - g2, a=0, b=2*pi)"
      ],
      "execution_count": null,
      "outputs": []
    },
    {
      "cell_type": "markdown",
      "metadata": {
        "id": "P6PAjoX3zRSi"
      },
      "source": [
        "### Aproximación por mínimos cuadrados (continua y discreta)\n",
        "\n",
        "Para la aproximación definimos el producto escalar como una aplicación $\\langle\\,,\\rangle \\; :\\,V \\times V \\rightarrow \\mathbb{R}^+$ que verifica:\n",
        "* $\\langle f, f\\rangle = \\iff f = 0$\n",
        "* $\\langle f, g\\rangle =\\langle g, f\\rangle$\n",
        "* $\\langle\\alpha f+\\mu g, h\\rangle = \\alpha\\langle f, h\\rangle + \\mu \\langle g, h\\rangle$\n",
        "\n",
        "La norma se define como $||f|| = \\langle f, f\\rangle^{\\frac{1}{2}}$.\n",
        "\n",
        "Una forma de producto escalar es, por ejemplo:\n",
        "$$\\langle f, g \\rangle = \\int_a^b f(x)g(x) dx$$\n",
        "\n",
        "Esa forma puede aplicarse de forma discreta (para un conjunto discreto $I = \\{x_1, x_2, \\cdots, x_m\\}$ como :\n",
        "$$\\langle f, g \\rangle = \\sum_{i \\in I} f(i)g(i)$$ \n",
        "\n",
        "En la aproximación de mínimos cuadrados deseamos encontrar, para una base $\\{\\phi_0, \\cdots, \\phi_n\\}$ de $U$, un vector $\\alpha$ que minimice una función de coste $J(\\alpha) = ||f - \\sum_0^n \\alpha_i\\phi_i||^2$. Para ello se emplea el método de Gram, que consiste en encontrar la solución a \n",
        "$$G\\alpha = \\bar{f}$$\n",
        "donde $G_{ij} = \\langle\\phi_i, \\phi_j\\rangle$ y $\\bar{f}_i = \\langle f, \\phi_i\\rangle$ en un producto escalar definido arbitrariamente.\n",
        "\n",
        "\n",
        "**IMPORTANTE**\n",
        "\n",
        "Si la base $U$ es ortonormal, la matriz de Gram es la identidad y, en este caso, la mejor aproximación a $f$ es \n",
        "\n",
        "$$g = \\sum_{i=0}^n \\langle f, \\phi_i \\rangle \\phi_i$$"
      ]
    },
    {
      "cell_type": "code",
      "metadata": {
        "id": "UDCSacRTzRSj"
      },
      "source": [
        "help(producto_deriv)\n",
        "help(producto_asecas)"
      ],
      "execution_count": null,
      "outputs": []
    },
    {
      "cell_type": "code",
      "metadata": {
        "id": "UA5q1yO_zRSj"
      },
      "source": [
        "help(metodo_gram)"
      ],
      "execution_count": null,
      "outputs": []
    },
    {
      "cell_type": "markdown",
      "metadata": {
        "id": "SScw-jzUzRSj"
      },
      "source": [
        "#### Ejercicio 33"
      ]
    },
    {
      "cell_type": "code",
      "metadata": {
        "id": "frGVWoRmzRSj"
      },
      "source": [
        "U = [S(1), x, x ** 2]  # S(1) lo hacemos porque hacer 1.diff da error por ser int.\n",
        "f = E ** x\n",
        "dict_prod_deriv = metodo_gram(f, U, var=x, func_producto=producto_deriv, a=0, b=1)"
      ],
      "execution_count": null,
      "outputs": []
    },
    {
      "cell_type": "code",
      "metadata": {
        "id": "CNLJHCGizRSj"
      },
      "source": [
        "dict_prod_deriv['poly']"
      ],
      "execution_count": null,
      "outputs": []
    },
    {
      "cell_type": "code",
      "metadata": {
        "id": "92qCe70SzRSj"
      },
      "source": [
        "dict_prod_deriv['G']"
      ],
      "execution_count": null,
      "outputs": []
    },
    {
      "cell_type": "code",
      "metadata": {
        "id": "L8UIMyi-zRSk"
      },
      "source": [
        "dict_prod_deriv['f_bar']"
      ],
      "execution_count": null,
      "outputs": []
    },
    {
      "cell_type": "code",
      "metadata": {
        "id": "NVsdM94mzRSk"
      },
      "source": [
        "dict_prod_deriv['alpha']"
      ],
      "execution_count": null,
      "outputs": []
    },
    {
      "cell_type": "markdown",
      "metadata": {
        "id": "4hjTrL8dzRSl"
      },
      "source": [
        "Ahora con una versión discreta en los puntos 0, 0.2, 0.4, 0.6, 0.8, 1:"
      ]
    },
    {
      "cell_type": "code",
      "metadata": {
        "id": "x7mVxumozRSl"
      },
      "source": [
        "U = [S(1), x, x ** 2]  # S(1) lo hacemos porque hacer 1.diff da error por ser int.\n",
        "f = E ** x\n",
        "dict_prod_deriv_discreto = metodo_gram(f, U, var=x, func_producto=producto_deriv, I = [0, 0.2, 0.4, 0.6, 0.8, 1])"
      ],
      "execution_count": null,
      "outputs": []
    },
    {
      "cell_type": "code",
      "metadata": {
        "id": "fPktusZfzRSl"
      },
      "source": [
        "dict_prod_deriv_discreto['poly']"
      ],
      "execution_count": null,
      "outputs": []
    },
    {
      "cell_type": "code",
      "metadata": {
        "id": "DfYlVFAnzRSl"
      },
      "source": [
        "dict_prod_deriv_discreto['G']"
      ],
      "execution_count": null,
      "outputs": []
    },
    {
      "cell_type": "code",
      "metadata": {
        "id": "MECY7RypzRSm"
      },
      "source": [
        "dict_prod_deriv_discreto['f_bar']"
      ],
      "execution_count": null,
      "outputs": []
    },
    {
      "cell_type": "code",
      "metadata": {
        "id": "QBlR0d_xzRSn"
      },
      "source": [
        "dict_prod_deriv_discreto['alpha']"
      ],
      "execution_count": null,
      "outputs": []
    },
    {
      "cell_type": "markdown",
      "metadata": {
        "id": "pqMPFV_FzRSo"
      },
      "source": [
        "Ahora la versión continua pero con la función $\\langle f, g \\rangle = \\int_a^b f(x)g(x) dx$"
      ]
    },
    {
      "cell_type": "code",
      "metadata": {
        "id": "HG6GO6MbzRSp"
      },
      "source": [
        "U = [S(1), x, x ** 2]  # S(1) lo hacemos porque hacer 1.diff da error por ser int.\n",
        "f = E ** x\n",
        "dict_prod_asecas = metodo_gram(f, U, var=x, func_producto=producto_asecas, a=0, b=1)"
      ],
      "execution_count": null,
      "outputs": []
    },
    {
      "cell_type": "code",
      "metadata": {
        "id": "oZ_9ZPW6zRSp"
      },
      "source": [
        "dict_prod_asecas['poly']"
      ],
      "execution_count": null,
      "outputs": []
    },
    {
      "cell_type": "code",
      "metadata": {
        "id": "MtVbq_35zRSq"
      },
      "source": [
        "x_range = np.linspace(0, 1, 100)\n",
        "y_real = [(E ** x).subs(x, i) for i in x_range]\n",
        "y_prod_deriv = [dict_prod_deriv['poly'].subs(x, i) for i in x_range]\n",
        "y_prod_discreto = [dict_prod_deriv_discreto['poly'].subs(x, i) for i in x_range]\n",
        "y_prod_asecas = [dict_prod_asecas['poly'].subs(x, i) for i in x_range]\n",
        "\n",
        "plt.plot(x_range, y_real, label='real')\n",
        "plt.plot(x_range, y_prod_deriv, label=\"fg + f'g' continuo\")\n",
        "plt.plot(x_range, y_prod_discreto, label=\"fg + f'g' discreto\")\n",
        "plt.plot(x_range, y_prod_asecas, label=\"fg\")\n",
        "plt.legend()"
      ],
      "execution_count": null,
      "outputs": []
    },
    {
      "cell_type": "markdown",
      "metadata": {
        "id": "hpLllp1qzRSq"
      },
      "source": [
        "#### Ejercicio 34\n",
        "En el ejercicio piden usar la base $\\{1, x\\}$. Nosotros lo hacemos con $\\{1, x, x^2, x^3, x^4, x^5\\}$, que da una representación más real de la aproximación."
      ]
    },
    {
      "cell_type": "markdown",
      "metadata": {
        "id": "rkOYR3ZjzRSq"
      },
      "source": [
        "Calculamos la versión continua"
      ]
    },
    {
      "cell_type": "code",
      "metadata": {
        "id": "rZMNds4RzRSq"
      },
      "source": [
        "U = [S(1), x, x ** 2, x ** 3, x ** 4]  # S(1) lo hacemos porque hacer 1.diff da error por ser int.\n",
        "f = cos(pi * x)/2 + sin(pi/2 * x)/3\n",
        "dict_prod_continuo = metodo_gram(f, U, var=x, func_producto=producto_asecas, a=-1, b=1)"
      ],
      "execution_count": null,
      "outputs": []
    },
    {
      "cell_type": "code",
      "metadata": {
        "id": "TNZhR0HOzRSq"
      },
      "source": [
        "dict_prod_continuo['poly']"
      ],
      "execution_count": null,
      "outputs": []
    },
    {
      "cell_type": "code",
      "metadata": {
        "id": "8hGFbV6KzRSr"
      },
      "source": [
        "dict_prod_continuo['G']"
      ],
      "execution_count": null,
      "outputs": []
    },
    {
      "cell_type": "code",
      "metadata": {
        "id": "NFZwYVc0zRSr"
      },
      "source": [
        "dict_prod_continuo['f_bar']"
      ],
      "execution_count": null,
      "outputs": []
    },
    {
      "cell_type": "code",
      "metadata": {
        "id": "GalW_qyIzRSr"
      },
      "source": [
        "dict_prod_continuo['alpha']"
      ],
      "execution_count": null,
      "outputs": []
    },
    {
      "cell_type": "markdown",
      "metadata": {
        "id": "W6bbarsPzRSr"
      },
      "source": [
        "Y ahora la discreta"
      ]
    },
    {
      "cell_type": "code",
      "metadata": {
        "id": "ZXNnrT33zRSr"
      },
      "source": [
        "dict_prod_discreto = metodo_gram(f, U, var=x, func_producto=producto_asecas, I=[-1, 0, 1])"
      ],
      "execution_count": null,
      "outputs": []
    },
    {
      "cell_type": "code",
      "metadata": {
        "id": "JI3V9kBBzRSs"
      },
      "source": [
        "dict_prod_discreto['poly']"
      ],
      "execution_count": null,
      "outputs": []
    },
    {
      "cell_type": "code",
      "metadata": {
        "id": "OIjZLIfwzRSs"
      },
      "source": [
        "dict_prod_discreto['G']"
      ],
      "execution_count": null,
      "outputs": []
    },
    {
      "cell_type": "code",
      "metadata": {
        "id": "VWFWLi69zRSs"
      },
      "source": [
        "dict_prod_discreto['f_bar']"
      ],
      "execution_count": null,
      "outputs": []
    },
    {
      "cell_type": "code",
      "metadata": {
        "id": "nkqpfy2fzRSs"
      },
      "source": [
        "dict_prod_discreto['alpha']"
      ],
      "execution_count": null,
      "outputs": []
    },
    {
      "cell_type": "markdown",
      "metadata": {
        "id": "PISyXQoGzRSs"
      },
      "source": [
        "Repetimos el proceso, por curiosidad, pero con el producto escalar fg + f'g'"
      ]
    },
    {
      "cell_type": "code",
      "metadata": {
        "id": "Kua3PPAKzRSt"
      },
      "source": [
        "dict_prod_continuo_deriv = metodo_gram(f, U, var=x, func_producto=producto_deriv, a=-1, b=1)\n",
        "dict_prod_discreto_deriv = metodo_gram(f, U, var=x, func_producto=producto_deriv, I=[-1, 0, 1])"
      ],
      "execution_count": null,
      "outputs": []
    },
    {
      "cell_type": "code",
      "metadata": {
        "id": "v_EkOvWezRSt"
      },
      "source": [
        "dict_prod_continuo_deriv['poly']"
      ],
      "execution_count": null,
      "outputs": []
    },
    {
      "cell_type": "code",
      "metadata": {
        "id": "YuBFKaGTzRSt"
      },
      "source": [
        "dict_prod_discreto_deriv['poly']"
      ],
      "execution_count": null,
      "outputs": []
    },
    {
      "cell_type": "code",
      "metadata": {
        "id": "7EDW61g1zRSt"
      },
      "source": [
        "x_range = np.linspace(-1, 1, 100)\n",
        "y_real = [f.subs(x, i) for i in x_range]\n",
        "y_prod_continuo = [dict_prod_continuo['poly'].subs(x, i) for i in x_range]\n",
        "y_prod_discreto = [dict_prod_discreto['poly'].subs(x, i) for i in x_range]\n",
        "y_prod_continuo_deriv = [dict_prod_continuo_deriv['poly'].subs(x, i) for i in x_range]\n",
        "y_prod_discreto_deriv = [dict_prod_discreto_deriv['poly'].subs(x, i) for i in x_range]\n",
        "\n",
        "plt.plot(x_range, y_real, label='real')\n",
        "plt.plot(x_range, y_prod_continuo, label=\"fg continuo\")\n",
        "plt.plot(x_range, y_prod_discreto, label=\"fg discreto\")\n",
        "plt.plot(x_range, y_prod_continuo_deriv, label=\"fg + f'g' continuo\")\n",
        "plt.plot(x_range, y_prod_discreto_deriv, label=\"fg + f'g' discreto\")\n",
        "\n",
        "plt.legend()"
      ],
      "execution_count": null,
      "outputs": []
    },
    {
      "cell_type": "markdown",
      "metadata": {
        "id": "MP95rowVzRSu"
      },
      "source": [
        "Si nos fijamos, la aproximación con el método discreto es bastante mala, al no encontrar una inversa adecuada."
      ]
    },
    {
      "cell_type": "code",
      "metadata": {
        "id": "BeOFEwHXzRSu"
      },
      "source": [
        "help(gram_schmidt_f)"
      ],
      "execution_count": null,
      "outputs": []
    },
    {
      "cell_type": "markdown",
      "metadata": {
        "id": "sxdmFTpLzRSu"
      },
      "source": [
        "#### Ejemplo 23"
      ]
    },
    {
      "cell_type": "code",
      "metadata": {
        "id": "pttrNWqdzRSu"
      },
      "source": [
        "gram_schmidt_f([S(1), x, x ** 2, x ** 3, x ** 4, x ** 5, x ** 6], x, prod_esc=producto_asecas)"
      ],
      "execution_count": null,
      "outputs": []
    },
    {
      "cell_type": "markdown",
      "metadata": {
        "id": "EZqvPrYGzRSu"
      },
      "source": [
        "#### Ejercicio 35"
      ]
    },
    {
      "cell_type": "code",
      "metadata": {
        "id": "JDrwe0YpzRSu"
      },
      "source": [
        "I = [-1, 0, 1, 2]\n",
        "U_GS = gram_schmidt_f([S(1), x, x ** 2], x, prod_esc=producto_asecas, I=I)"
      ],
      "execution_count": null,
      "outputs": []
    },
    {
      "cell_type": "code",
      "metadata": {
        "id": "rt25WROMzRSu"
      },
      "source": [
        "for i in U_GS:\n",
        "    print(i)"
      ],
      "execution_count": null,
      "outputs": []
    },
    {
      "cell_type": "code",
      "metadata": {
        "id": "fIhsR9QHzRSv"
      },
      "source": [
        "f = sin(pi/2 * x)\n",
        "dict_prod_discreto = metodo_gram(f, U_GS, var=x, func_producto=producto_asecas, I=I)"
      ],
      "execution_count": null,
      "outputs": []
    },
    {
      "cell_type": "code",
      "metadata": {
        "id": "c-5UZQgUzRSv"
      },
      "source": [
        "dict_prod_discreto['poly']"
      ],
      "execution_count": null,
      "outputs": []
    },
    {
      "cell_type": "markdown",
      "metadata": {
        "id": "e8y4UiMRzRSv"
      },
      "source": [
        "### Aproximación con peso\n",
        "\n",
        "Para las anteriores definiciones podemos tomar un producto escalar\n",
        "$$\\langle f, g \\rangle = \\int_a^b f(x)g(x)\\omega(x) dx$$\n",
        "\n",
        "Donde $\\omega(x)$ es una función positiva en $(a,b)$\n",
        "\n",
        "Se puede construir la sucesión de polinomios\n",
        "$$p_0(x) = 1$$\n",
        "$$p_1(x) = x - a_1$$\n",
        "$$p_2(x) = (x - a_2)p_1(x) - b_2p_0(x)$$\n",
        "$$\\cdots$$\n",
        "$$p_n(x) = (x - a_n)p_{n-1}(x) - b_np_{n-2}(x)$$\n",
        "\n",
        "Con\n",
        "$$a_n = \\frac{\\langle xp_{n-1},p_{n-1}\\rangle}{\\langle p_{n-1},p_{n-1}\\rangle}$$\n",
        "$$b_n = \\frac{\\langle xp_{n-1},p_{n-2}\\rangle}{\\langle p_{n-2},p_{n-2}\\rangle}$$"
      ]
    },
    {
      "cell_type": "code",
      "metadata": {
        "id": "fZDj_k4FzRSv"
      },
      "source": [
        "help(polinomios_orto_peso)           "
      ],
      "execution_count": null,
      "outputs": []
    },
    {
      "cell_type": "markdown",
      "metadata": {
        "id": "_BTWuClSzRSv"
      },
      "source": [
        "#### Polinomios de Legendre\n",
        "Los polinomios de Legendre surgen de la aplicación del método descrito anteriormente para la base $\\mathcal{P}(n) = \\{1, x, x^2, \\cdots, x^n\\}$."
      ]
    },
    {
      "cell_type": "code",
      "metadata": {
        "id": "fWuxNYyazRSw"
      },
      "source": [
        "# La base para los polinomios tiene que ser ortogonal porque si no los polinomios no son ortogonales entre si!\n",
        "base = [S(1), x, x**2, x**3, x**4, x**5, x**6]\n",
        "base_ortogonal = gram_schmidt_f(base, var=x, prod_esc=producto_asecas, a=-1, b=1)\n",
        "base_legendre = polinomios_orto_peso(base_ortogonal, w=S(1), var=x, a=-1, b=1)"
      ],
      "execution_count": null,
      "outputs": []
    },
    {
      "cell_type": "code",
      "metadata": {
        "id": "pWH6FcnJzRSw"
      },
      "source": [
        "base_legendre"
      ],
      "execution_count": null,
      "outputs": []
    },
    {
      "cell_type": "code",
      "metadata": {
        "id": "9ShK-AcdzRSw"
      },
      "source": [
        "x_range = np.linspace(-1, 1, 100)\n",
        "\n",
        "for p in base_legendre['p']:\n",
        "    plt.plot(x_range, [p.subs(x, i)/abs(p.subs(x, -1)) for i in x_range], label=S(1)/abs(p.subs(x, -1)))\n",
        "            \n",
        "plt.legend(bbox_to_anchor=(1, 0.5))"
      ],
      "execution_count": null,
      "outputs": []
    },
    {
      "cell_type": "markdown",
      "metadata": {
        "id": "XksZFxrazRSw"
      },
      "source": [
        "Ahora probamos a resolver algun problema asociado. Por ejemplo, vamos a aproximar sin(x) en [0, 2 * pi]"
      ]
    },
    {
      "cell_type": "code",
      "metadata": {
        "id": "2lAgR9DOzRSw"
      },
      "source": [
        "base = [S(1), x, x**2, x**3]\n",
        "base_ortogonal = gram_schmidt_f(base, var=x, prod_esc=producto_asecas, a=0, b=2*pi)\n",
        "base_legendre = polinomios_orto_peso(base_ortogonal, w=S(1), var=x, a=0, b=2*pi)"
      ],
      "execution_count": null,
      "outputs": []
    },
    {
      "cell_type": "code",
      "metadata": {
        "id": "DwRJIqsYzRSw"
      },
      "source": [
        "f = sin(x)\n",
        "\n",
        "U_GS_base = metodo_gram(f, base, var=x, func_producto=producto_escalar_peso, a=0, b=2*pi, w=S(1))\n",
        "\n",
        "U_GS_ortogonal = metodo_gram(f, base_ortogonal, var=x, func_producto=producto_escalar_peso, a=0, b=2*pi, w=S(1))\n",
        "\n",
        "U_GS_legendre = metodo_gram(f, base_legendre['p'], var=x, func_producto=producto_escalar_peso, a=0, b=2*pi, w=S(1))"
      ],
      "execution_count": null,
      "outputs": []
    },
    {
      "cell_type": "code",
      "metadata": {
        "id": "wzEKiUXEzRSx"
      },
      "source": [
        "expand(U_GS_base['poly'])"
      ],
      "execution_count": null,
      "outputs": []
    },
    {
      "cell_type": "code",
      "metadata": {
        "id": "uYjBqkfEzRSx"
      },
      "source": [
        "expand(U_GS_ortogonal['poly'])"
      ],
      "execution_count": null,
      "outputs": []
    },
    {
      "cell_type": "code",
      "metadata": {
        "id": "OgX-a2nSzRSx"
      },
      "source": [
        "expand(U_GS_legendre['poly'])"
      ],
      "execution_count": null,
      "outputs": []
    },
    {
      "cell_type": "markdown",
      "metadata": {
        "id": "aFYFmR48zRSx"
      },
      "source": [
        "Los polinomios son técnicamente los mismos. Sin embargo, las matrices de Gram son mucho más convenientes para la base ortogonal / de legendre."
      ]
    },
    {
      "cell_type": "code",
      "metadata": {
        "id": "KU0y-tlrzRSx"
      },
      "source": [
        "U_GS_base['G']"
      ],
      "execution_count": null,
      "outputs": []
    },
    {
      "cell_type": "code",
      "metadata": {
        "id": "AFjcIknxzRSy"
      },
      "source": [
        "U_GS_ortogonal['G']"
      ],
      "execution_count": null,
      "outputs": []
    },
    {
      "cell_type": "code",
      "metadata": {
        "id": "KkaapnFSzRSy"
      },
      "source": [
        "U_GS_legendre['G']"
      ],
      "execution_count": null,
      "outputs": []
    },
    {
      "cell_type": "markdown",
      "metadata": {
        "id": "DfIkEkdBzRSy"
      },
      "source": [
        "Ahora vamos a hacer la aproximación gráfica para las funciones $\\sin(x)$ y $\\ln(x)$"
      ]
    },
    {
      "cell_type": "code",
      "metadata": {
        "id": "l7-jm6ubzRSy"
      },
      "source": [
        "x_range = np.linspace(0, 2 * np.pi, 100)\n",
        "\n",
        "base = [S(1), x, x**2, x**3, x**4, x**5, x**6, x**7]\n",
        "f = sin(x)\n",
        "\n",
        "plt.plot(x_range, [sin(x).subs(x,i) for i in x_range], label='real')\n",
        "for i in range(3, 8, 2):\n",
        "    base_sub = base[:i]\n",
        "    U_GS_base = metodo_gram(f, base_sub, var=x, func_producto=producto_escalar_peso, a=0, b=2*pi, w=S(1))\n",
        "    plt.plot(x_range, [U_GS_base['poly'].subs(x,i) for i in x_range], label=f'poly_{i}')\n",
        "            \n",
        "plt.legend(bbox_to_anchor=(1, 0.5))"
      ],
      "execution_count": null,
      "outputs": []
    },
    {
      "cell_type": "code",
      "metadata": {
        "id": "JV-DbBb3zRSy"
      },
      "source": [
        "x_range = np.linspace(0.01, 2, 100)\n",
        "\n",
        "base = [S(1), x, x**2, x**3, x**4, x**5, x**6, x**7,]\n",
        "f = ln(x)/ln(2)\n",
        "\n",
        "plt.plot(x_range, [f.subs(x,i) for i in x_range], label='real')\n",
        "for i in range(3, 8, 2):\n",
        "    base_sub = base[:i]\n",
        "    U_GS_base = metodo_gram(f, base_sub, var=x, func_producto=producto_escalar_peso, a=0.01, b=2, w=S(1))\n",
        "    plt.plot(x_range, [U_GS_base['poly'].subs(x,i) for i in x_range], label=f'poly_{i}')\n",
        "            \n",
        "plt.legend(bbox_to_anchor=(1.5, 0.3))"
      ],
      "execution_count": null,
      "outputs": []
    },
    {
      "cell_type": "markdown",
      "metadata": {
        "id": "ibnSepfzzRSz"
      },
      "source": [
        "Vemos que una aproximación polinomial de log es bastante buena también!"
      ]
    },
    {
      "cell_type": "markdown",
      "metadata": {
        "id": "G2EGHQbGzRSz"
      },
      "source": [
        "### Polinomios de Chebyshev\n",
        "Los polinomios de Chevysheb responden a la ecuación $T_n = \\cos(n \\arccos(x))$. En base a las propiedades trigonométricas, estos polinomios también responden a la forma:\n",
        "$$T_0 = 1, \\;\\; T_1 = x$$\n",
        "$$T_n = 2xT_{n-1} - T_{n-2}$$\n",
        "En el intervalo [-1, 1]. Fuera de él la expresión T_n da valores complejos, aunque la parte real de esos valores se aproxima mucho a la forma polinomial.\n",
        "\n",
        "Estos polinomios son ortogonales en el intervalo [-1, 1] estableciendo $\\omega(x) = \\frac{1}{\\sqrt{1-x^2}}$:\n",
        "$$\\int_{-1}^{1} T_nT_m \\frac{1}{\\sqrt{1-x^2}} dx = \\begin{cases}\n",
        "0 & n\\neq m \\\\\n",
        "\\pi & n = m = 0 \\\\\n",
        "\\pi/2 & n = m \\neq 0\n",
        "\\end {cases}$$"
      ]
    },
    {
      "cell_type": "code",
      "metadata": {
        "id": "3w-QMN5GzRSz"
      },
      "source": [
        "# Aqui los generamos iterativamente\n",
        "t0 = S(1)\n",
        "t1 = x\n",
        "t2 = expand(2 * x * t1 - t0)\n",
        "t3 = expand(2 * x * t2 - t1)\n",
        "t4 = expand(2 * x * t3 - t2)\n",
        "t5 = expand(2 * x * t4 - t3)\n",
        "t5"
      ],
      "execution_count": null,
      "outputs": []
    },
    {
      "cell_type": "code",
      "metadata": {
        "id": "RRtrZD61zRSz"
      },
      "source": [
        "# También podemos usar la función de sympy\n",
        "chebyshevt_poly(5)"
      ],
      "execution_count": null,
      "outputs": []
    },
    {
      "cell_type": "code",
      "metadata": {
        "id": "Is_nI53TzRSz"
      },
      "source": [
        "T5 = cos(5 * acos(x))"
      ],
      "execution_count": null,
      "outputs": []
    },
    {
      "cell_type": "code",
      "metadata": {
        "id": "NOsCSNnBzRSz"
      },
      "source": [
        "x_range = np.linspace(-3, 3, 1000)\n",
        "y_t5 = [t5.subs(x, i) for i in x_range]\n",
        "y_T5 = [re(T5.subs(x, i)) for i in x_range]\n",
        "\n",
        "plt.plot(x_range, y_t5, label='t5')\n",
        "plt.plot(x_range, y_T5, label=\"T5\")\n",
        "plt.legend()"
      ],
      "execution_count": null,
      "outputs": []
    },
    {
      "cell_type": "markdown",
      "metadata": {
        "id": "eStaJzfEzRSz"
      },
      "source": [
        "Vemos que ambos polinomios son iguales"
      ]
    },
    {
      "cell_type": "markdown",
      "metadata": {
        "id": "00ZIub6tzRS0"
      },
      "source": [
        "Ahora vamos a comprobar la ortogonalidad de los polinomios usando el peso adecuado, u otro peso"
      ]
    },
    {
      "cell_type": "code",
      "metadata": {
        "id": "sbDWgfO1zRS0"
      },
      "source": [
        "producto_escalar_peso(chebyshevt_poly(3, x), chebyshevt_poly(5, x), x, w=S(1),a=-1, b=1)"
      ],
      "execution_count": null,
      "outputs": []
    },
    {
      "cell_type": "code",
      "metadata": {
        "id": "HSrLzAAUzRS0"
      },
      "source": [
        "producto_escalar_peso(chebyshevt_poly(3, x), chebyshevt_poly(5, x), x, w=1/sqrt(1 - x**2),a=-1, b=1)"
      ],
      "execution_count": null,
      "outputs": []
    },
    {
      "cell_type": "markdown",
      "metadata": {
        "id": "WVZlXluGzRS0"
      },
      "source": [
        "Vemos que si no añadimos el peso $\\omega(x)$ el resultado de la integral no es 0."
      ]
    },
    {
      "cell_type": "code",
      "metadata": {
        "id": "Vv479ZzazRS0"
      },
      "source": [
        "producto_escalar_peso(chebyshevt_poly(0, x), chebyshevt_poly(0, x), x, w=1/sqrt(1 - x**2),a=-1, b=1)"
      ],
      "execution_count": null,
      "outputs": []
    },
    {
      "cell_type": "code",
      "metadata": {
        "id": "sv6wFxBszRS1"
      },
      "source": [
        "producto_escalar_peso(chebyshevt_poly(1, x), chebyshevt_poly(1, x), x, w=1/sqrt(1 - x**2),a=-1, b=1)"
      ],
      "execution_count": null,
      "outputs": []
    },
    {
      "cell_type": "code",
      "metadata": {
        "id": "PJJLJAN7zRS2"
      },
      "source": [
        "producto_escalar_peso(chebyshevt_poly(3, x), chebyshevt_poly(3, x), x, w=1/sqrt(1 - x**2),a=-1, b=1)"
      ],
      "execution_count": null,
      "outputs": []
    },
    {
      "cell_type": "code",
      "metadata": {
        "id": "WsFWfZELzRS2"
      },
      "source": [
        "producto_escalar_peso(chebyshevt_poly(5, x), chebyshevt_poly(5, x), x, w=1/sqrt(1 - x**2),a=-1, b=1)"
      ],
      "execution_count": null,
      "outputs": []
    },
    {
      "cell_type": "markdown",
      "metadata": {
        "id": "GqMo0BnkzRS2"
      },
      "source": [
        "Para dos polinomios iguales, los resultados son los esperados"
      ]
    },
    {
      "cell_type": "markdown",
      "metadata": {
        "id": "-zLNw56AzRS3"
      },
      "source": [
        "### Aproximación trigonométrica (series de Fourier)\n",
        "La aproximación trigonométrica considera el siguiente producto escalar:\n",
        "$$\\langle f, g\\rangle = \\frac{1}{2\\pi}\\int_{-\\pi}^{\\pi}f(x)g(x)dx$$\n",
        "\n",
        "Si en el método de Gram consideramos los polinomios trigonométricos $\\{1, \\cos(x), \\sin(x), \\cdots, \\cos(nx), \\sin(nx)\\}$ tenemos que $\\langle f, g\\rangle$ para la base $\\mathcal{U}$ es:\n",
        "$$\\int_{-\\pi}^{\\pi} \\cos(kx)\\sin(jx)dx = 0$$\n",
        "$$\\int_{-\\pi}^{\\pi} \\cos(kx)\\cos(jx)dx = \\int_{-\\pi}^{\\pi} \\cos(kx)\\cos(jx)dx = \n",
        "\\begin{cases}0 & k\\neq j \\\\ \\pi & k=j>1 \\\\ 2\\pi & k = j = 0\\end{cases}$$\n",
        "\n",
        "Así, la matriz a resolver es:\n",
        "$$\\begin{bmatrix}\n",
        "2\\pi & 0 & 0 & \\cdots & 0 & 0 \\\\\n",
        "0  & \\pi & 0 & \\cdots & 0 & 0 \\\\\n",
        "0 & 0 & \\pi  & \\cdots & 0 & 0 \\\\\n",
        "\\vdots & \\vdots & \\vdots & \\ddots & \\vdots & \\vdots \\\\\n",
        "0  & 0 & 0 & \\cdots & \\pi & 0 \\\\\n",
        "0 & 0 & 0  & \\cdots & 0 & \\pi \\\\\n",
        "\\end{bmatrix}\n",
        "\\begin{bmatrix}\n",
        " a_0  \\\\\n",
        " a_1  \\\\\n",
        " b_1 \\\\\n",
        "\\vdots \\\\\n",
        " a_n \\\\\n",
        " b_n  \\\\\n",
        "\\end{bmatrix}\n",
        "=\n",
        "\\begin{bmatrix}\n",
        "\\langle f, 1 \\rangle \\\\\n",
        "\\langle f, \\cos(x) \\rangle \\\\\n",
        "\\langle f, \\sin(x) \\rangle \\\\\n",
        "\\vdots \\\\\n",
        "\\langle f, \\cos(nx) \\rangle \\\\\n",
        "\\langle f, \\sin(nx) \\rangle \\\\\n",
        "\\end{bmatrix}\n",
        "$$\n",
        "\n",
        "Luego\n",
        "$$\n",
        "\\begin{bmatrix}\n",
        " a_0  \\\\\n",
        " a_1  \\\\\n",
        " b_1 \\\\\n",
        "\\vdots \\\\\n",
        " a_n \\\\\n",
        " b_n  \\\\\n",
        "\\end{bmatrix}\n",
        "=\n",
        "\\begin{bmatrix}\n",
        "\\frac{1}{2\\pi} & 0 & 0 & \\cdots & 0 & 0 \\\\\n",
        "0  & \\frac{1}{\\pi} & 0 & \\cdots & 0 & 0 \\\\\n",
        "0 & 0 & \\frac{1}{\\pi}  & \\cdots & 0 & 0 \\\\\n",
        "\\vdots & \\vdots & \\vdots & \\ddots & \\vdots & \\vdots \\\\\n",
        "0  & 0 & 0 & \\cdots & \\frac{1}{\\pi} & 0 \\\\\n",
        "0 & 0 & 0  & \\cdots & 0 & \\frac{1}{\\pi} \\\\\n",
        "\\end{bmatrix}\n",
        "\\begin{bmatrix}\n",
        "\\langle f, 1 \\rangle \\\\\n",
        "\\langle f, \\cos(x) \\rangle \\\\\n",
        "\\langle f, \\sin(x) \\rangle \\\\\n",
        "\\vdots \\\\\n",
        "\\langle f, \\cos(nx) \\rangle \\\\\n",
        "\\langle f, \\sin(nx) \\rangle \\\\\n",
        "\\end{bmatrix} = \n",
        "\\begin{bmatrix}\n",
        "\\frac{1}{2\\pi}\\langle f, 1 \\rangle \\\\\n",
        "\\frac{1}{\\pi}\\langle f, \\cos(x) \\rangle \\\\\n",
        "\\frac{1}{\\pi}\\langle f, \\sin(x) \\rangle \\\\\n",
        "\\vdots \\\\\n",
        "\\frac{1}{\\pi}\\langle f, \\cos(nx) \\rangle \\\\\n",
        "\\frac{1}{\\pi}\\langle f, \\sin(nx) \\rangle \\\\\n",
        "\\end{bmatrix}\n",
        "$$\n",
        "\n",
        "Así, los coeficientes quedan definidos como:\n",
        "$$a_k = \\frac{1}{\\pi} \\int_{-\\pi}^{\\pi} f(x) \\cos(kx) dx$$\n",
        "$$b_k = \\frac{1}{\\pi} \\int_{-\\pi}^{\\pi} f(x) \\sin(kx) dx$$\n",
        "\n",
        "Si combinamos los coeficientes con los elementos de $\\mathcal{U}$ tenemos que el polinomio óptimo es, hasta grado $n$:\n",
        "$$g_n(x) = \\frac{a_0}{2} + \\sum_{k=1}^n a_k\\cos(kx) + b_k\\sin(kx)$$"
      ]
    },
    {
      "cell_type": "code",
      "metadata": {
        "id": "_TV7SaXLzRS5"
      },
      "source": [
        "help(producto_escalar_trigono)"
      ],
      "execution_count": null,
      "outputs": []
    },
    {
      "cell_type": "markdown",
      "metadata": {
        "id": "_zskOEwazRS5"
      },
      "source": [
        "#### EJERCICIO 36"
      ]
    },
    {
      "cell_type": "code",
      "metadata": {
        "id": "mEwVzFrjzRS6"
      },
      "source": [
        "base = [S(1), cos(x), sin(x)]\n",
        "\n",
        "m_gram = zeros(3, 3)\n",
        "f_base = zeros(3, 1)\n",
        "\n",
        "for i in range(3):\n",
        "    for j in range(3):\n",
        "        m_gram[i, j] = producto_escalar_trigono(base[i], base[j], x)\n",
        "    \n",
        "    f_base[i, 0] = producto_escalar_trigono(x, base[i], x)"
      ],
      "execution_count": null,
      "outputs": []
    },
    {
      "cell_type": "code",
      "metadata": {
        "id": "vs3qHxjzzRS6"
      },
      "source": [
        "m_gram  # Se ve que la base es ortogonal"
      ],
      "execution_count": null,
      "outputs": []
    },
    {
      "cell_type": "code",
      "metadata": {
        "id": "fuxpzYSUzRS7"
      },
      "source": [
        "f_base"
      ],
      "execution_count": null,
      "outputs": []
    },
    {
      "cell_type": "code",
      "metadata": {
        "id": "QMbGqEiuzRS7"
      },
      "source": [
        "# Resolvemos la matriz de Gram\n",
        "g = ((m_gram ** -1 * f_base).T * mat([base]).T)[0]\n",
        "g"
      ],
      "execution_count": null,
      "outputs": []
    },
    {
      "cell_type": "code",
      "metadata": {
        "id": "APqBNobkzRS7"
      },
      "source": [
        "help(coefs_fourier)\n",
        "help(coefs_fourier_discr)\n",
        "help(serie_fourier)"
      ],
      "execution_count": null,
      "outputs": []
    },
    {
      "cell_type": "markdown",
      "metadata": {
        "id": "_wp3XDcjzRS7"
      },
      "source": [
        "#### EJEMPLO 25 ($f(x) = e^x$)\n",
        "En este ejercicio vamos a calcular la expansión de Fourier para órdenes 3, 6 y 15. Comprobamos que en orden 6 la aproximación es mejor, pero en los extremos del intervalo la aproximación empeora, tal y como se comenta en el texto base."
      ]
    },
    {
      "cell_type": "code",
      "metadata": {
        "id": "DCnIAOYfzRS8"
      },
      "source": [
        "f = E ** x"
      ],
      "execution_count": null,
      "outputs": []
    },
    {
      "cell_type": "code",
      "metadata": {
        "id": "ZSLh9D_LzRS8"
      },
      "source": [
        "coefs_fourier(f, var=x, I=[-pi, pi], n_coefs=6)"
      ],
      "execution_count": null,
      "outputs": []
    },
    {
      "cell_type": "code",
      "metadata": {
        "id": "kT1UdZuSzRS8"
      },
      "source": [
        "serie_f_3 = expand(serie_fourier(f, x, [-pi, pi], n_coefs=3))\n",
        "serie_f_6 = expand(serie_fourier(f, x, [-pi, pi], n_coefs=6))\n",
        "serie_f_15 = expand(serie_fourier(f, x, [-pi, pi], n_coefs=15))"
      ],
      "execution_count": null,
      "outputs": []
    },
    {
      "cell_type": "code",
      "metadata": {
        "id": "HngyPoMdzRS8"
      },
      "source": [
        "x_range = np.linspace(-np.pi, np.pi, 300)\n",
        "real = [(f).subs(x, i) for i in x_range]\n",
        "f3 = [serie_f_3.subs(x, i) for i in x_range]\n",
        "f6 = [serie_f_6.subs(x, i) for i in x_range]\n",
        "f15 = [serie_f_15.subs(x, i) for i in x_range]\n",
        "\n",
        "plt.plot(x_range, real, label=\"E**x\")\n",
        "plt.plot(x_range, f3, label='f3')\n",
        "plt.plot(x_range, f6, label=\"f6\")\n",
        "plt.plot(x_range, f15, label=\"f15\")\n",
        "\n",
        "plt.legend()"
      ],
      "execution_count": null,
      "outputs": []
    },
    {
      "cell_type": "markdown",
      "metadata": {
        "id": "1uDfbyaHzRS8"
      },
      "source": [
        "Las series de Fourier también admiten un caso discreto. En este caso, si dividimos el intervalo $[a,b]$ en $2m$ (asumimos $m$ hasta $[a, \\frac{a+b}{2}]$ y otros $m$ hasta $[\\frac{a+b}{2}, b]$), para el caso discreto los coeficientes $a_k$ y $b_k$ se redefinen como:\n",
        "$$a_k = \\frac{1}{m}\\sum_{i=0}^{2m-1}f(x_i)\\cos(kx_i)$$\n",
        "$$b_k = \\frac{1}{m}\\sum_{i=0}^{2m-1}f(x_i)\\sin(kx_i)$$\n",
        "\n",
        "que, por simplificar, sería una media de $m$ valores en el intervalo, en lugar de la integral. Cuanto más grande sea $m$, más se van a parecer los coeficientes del caso discreto al continuo."
      ]
    },
    {
      "cell_type": "markdown",
      "metadata": {
        "id": "OON04E0ZzRS8"
      },
      "source": [
        "Ahora hacemos el caso discreto para m=6"
      ]
    },
    {
      "cell_type": "code",
      "metadata": {
        "id": "RVwr_L4-zRS8"
      },
      "source": [
        "serie_f_6_m_3 = expand(serie_fourier(f, x, [-np.pi, np.pi], n_coefs=6, discreto=True, m=3))"
      ],
      "execution_count": null,
      "outputs": []
    },
    {
      "cell_type": "code",
      "metadata": {
        "id": "ZaDb5DgyzRS9"
      },
      "source": [
        "serie_f_6_m_10 = expand(serie_fourier(f, x, [-np.pi, np.pi], n_coefs=6, discreto=True, m=10))"
      ],
      "execution_count": null,
      "outputs": []
    },
    {
      "cell_type": "code",
      "metadata": {
        "id": "B4E_VwJezRS9"
      },
      "source": [
        "serie_f_6_m_20 = expand(serie_fourier(f, x, [-np.pi, np.pi], n_coefs=6, discreto=True, m=20))"
      ],
      "execution_count": null,
      "outputs": []
    },
    {
      "cell_type": "code",
      "metadata": {
        "id": "Vf7mOooozRS9"
      },
      "source": [
        "serie_f_6_m_50 = expand(serie_fourier(f, x, [-np.pi, np.pi], n_coefs=6, discreto=True, m=50))"
      ],
      "execution_count": null,
      "outputs": []
    },
    {
      "cell_type": "code",
      "metadata": {
        "id": "stqHCLvuzRS9"
      },
      "source": [
        "x_range = np.linspace(-np.pi, np.pi, 300)\n",
        "real = [(f).subs(x, i) for i in x_range]\n",
        "f6m3 = [serie_f_6_m_3.subs(x, i) for i in x_range]\n",
        "f6m10 = [serie_f_6_m_10.subs(x, i) for i in x_range]\n",
        "f6m20 = [serie_f_6_m_20.subs(x, i) for i in x_range]\n",
        "f6m50 = [serie_f_6_m_50.subs(x, i) for i in x_range]\n",
        "\n",
        "f6 = [serie_f_6.subs(x, i) for i in x_range]\n",
        "\n",
        "plt.plot(x_range, real, label=\"E**x\")\n",
        "plt.plot(x_range, f6, label='f6')\n",
        "plt.plot(x_range, f6m3, label=\"f6disc-m3\")\n",
        "plt.plot(x_range, f6m10, label=\"f6disc-m10\")\n",
        "plt.plot(x_range, f6m20, label=\"f6disc-m20\")\n",
        "plt.plot(x_range, f6m50, label=\"f6disc-m50\")\n",
        "\n",
        "\n",
        "plt.legend()"
      ],
      "execution_count": null,
      "outputs": []
    },
    {
      "cell_type": "markdown",
      "metadata": {
        "id": "58HEQ6YPzRS9"
      },
      "source": [
        "#### EJEMPLO 25 ($f(x) = x$)"
      ]
    },
    {
      "cell_type": "code",
      "metadata": {
        "id": "67jzJUmjzRS9"
      },
      "source": [
        "f = x"
      ],
      "execution_count": null,
      "outputs": []
    },
    {
      "cell_type": "code",
      "metadata": {
        "id": "PHzwmwQczRS9"
      },
      "source": [
        "coefs_fourier(f, x, [-pi, pi], n_coefs=6)"
      ],
      "execution_count": null,
      "outputs": []
    },
    {
      "cell_type": "code",
      "metadata": {
        "id": "3IITFJDOzRS-"
      },
      "source": [
        "serie_f_3 = expand(serie_fourier(f, x, [-pi, pi], n_coefs=3))\n",
        "serie_f_6 = expand(serie_fourier(f, x, [-pi, pi], n_coefs=6))\n",
        "serie_f_15 = expand(serie_fourier(f, x, [-pi, pi], n_coefs=15))"
      ],
      "execution_count": null,
      "outputs": []
    },
    {
      "cell_type": "code",
      "metadata": {
        "id": "NTbnZnJYzRS-"
      },
      "source": [
        "x_range = np.linspace(-np.pi, np.pi, 300)\n",
        "real = [(f).subs(x, i) for i in x_range]\n",
        "f3 = [serie_f_3.subs(x, i) for i in x_range]\n",
        "f6 = [serie_f_6.subs(x, i) for i in x_range]\n",
        "f15 = [serie_f_15.subs(x, i) for i in x_range]\n",
        "\n",
        "plt.plot(x_range, real, label=\"x\")\n",
        "plt.plot(x_range, f3, label='f3')\n",
        "plt.plot(x_range, f6, label=\"f6\")\n",
        "plt.plot(x_range, f15, label=\"f15\")\n",
        "\n",
        "plt.legend()"
      ],
      "execution_count": null,
      "outputs": []
    },
    {
      "cell_type": "markdown",
      "metadata": {
        "id": "SijOAvtazRS-"
      },
      "source": [
        "Ahora hacemos el caso discreto para m=6"
      ]
    },
    {
      "cell_type": "code",
      "metadata": {
        "id": "kXhb3ObPzRS-"
      },
      "source": [
        "serie_f_6_m_5 = expand(serie_fourier(f, x, [-np.pi, np.pi], n_coefs=6, discreto=True, m=5))"
      ],
      "execution_count": null,
      "outputs": []
    },
    {
      "cell_type": "code",
      "metadata": {
        "id": "LSA-wVjqzRS-"
      },
      "source": [
        "serie_f_6_m_10 = expand(serie_fourier(f, x, [-np.pi, np.pi], n_coefs=6, discreto=True, m=10))"
      ],
      "execution_count": null,
      "outputs": []
    },
    {
      "cell_type": "code",
      "metadata": {
        "id": "8bc43rHLzRS-"
      },
      "source": [
        "serie_f_6_m_20 = expand(serie_fourier(f, x, [-np.pi, np.pi], n_coefs=6, discreto=True, m=20))"
      ],
      "execution_count": null,
      "outputs": []
    },
    {
      "cell_type": "code",
      "metadata": {
        "id": "lCQfERg7zRS_"
      },
      "source": [
        "serie_f_6_m_50 = expand(serie_fourier(f, x, [-np.pi, np.pi], n_coefs=6, discreto=True, m=50))"
      ],
      "execution_count": null,
      "outputs": []
    },
    {
      "cell_type": "code",
      "metadata": {
        "id": "9uVEre6GzRS_"
      },
      "source": [
        "x_range = np.linspace(-np.pi, np.pi, 300)\n",
        "real = [(f).subs(x, i) for i in x_range]\n",
        "f6m5 = [serie_f_6_m_5.subs(x, i) for i in x_range]\n",
        "f6m10 = [serie_f_6_m_10.subs(x, i) for i in x_range]\n",
        "f6m20 = [serie_f_6_m_20.subs(x, i) for i in x_range]\n",
        "f6m50 = [serie_f_6_m_50.subs(x, i) for i in x_range]\n",
        "\n",
        "f6 = [serie_f_6.subs(x, i) for i in x_range]\n",
        "\n",
        "plt.plot(x_range, real, label=\"x\")\n",
        "plt.plot(x_range, f6, label='f6')\n",
        "plt.plot(x_range, f6m5, label=\"f6disc-m3\")\n",
        "plt.plot(x_range, f6m10, label=\"f6disc-m10\")\n",
        "plt.plot(x_range, f6m20, label=\"f6disc-m20\")\n",
        "plt.plot(x_range, f6m50, label=\"f6disc-m50\")\n",
        "\n",
        "\n",
        "plt.legend()"
      ],
      "execution_count": null,
      "outputs": []
    },
    {
      "cell_type": "markdown",
      "metadata": {
        "id": "lQmyV9bEzRS_"
      },
      "source": [
        "#### EJEMPLO 25 ($f(x) = x^2$)"
      ]
    },
    {
      "cell_type": "code",
      "metadata": {
        "id": "niFh74VkzRS_"
      },
      "source": [
        "f = x ** 2"
      ],
      "execution_count": null,
      "outputs": []
    },
    {
      "cell_type": "code",
      "metadata": {
        "id": "Z_3HnigDzRS_"
      },
      "source": [
        "coefs_fourier(f, x, [-pi, pi], n_coefs=6)"
      ],
      "execution_count": null,
      "outputs": []
    },
    {
      "cell_type": "code",
      "metadata": {
        "id": "vbgSQiPqzRTA"
      },
      "source": [
        "N(2*pi**2/3)"
      ],
      "execution_count": null,
      "outputs": []
    },
    {
      "cell_type": "code",
      "metadata": {
        "id": "3h6SUlfwzRTA"
      },
      "source": [
        "coefs_fourier_discr(f, x, [-np.pi, np.pi], n_coefs=6, m=100)"
      ],
      "execution_count": null,
      "outputs": []
    },
    {
      "cell_type": "code",
      "metadata": {
        "id": "gIJoPeD6zRTA"
      },
      "source": [
        "serie_f_3 = expand(serie_fourier(f, x, [-pi, pi], n_coefs=3))\n",
        "serie_f_6 = expand(serie_fourier(f, x, [-pi, pi], n_coefs=6))\n",
        "serie_f_15 = expand(serie_fourier(f, x, [-pi, pi], n_coefs=15))"
      ],
      "execution_count": null,
      "outputs": []
    },
    {
      "cell_type": "code",
      "metadata": {
        "id": "fxJeVXzNzRTA"
      },
      "source": [
        "x_range = np.linspace(-np.pi, np.pi, 300)\n",
        "real = [(f).subs(x, i) for i in x_range]\n",
        "f3 = [serie_f_3.subs(x, i) for i in x_range]\n",
        "f6 = [serie_f_6.subs(x, i) for i in x_range]\n",
        "f15 = [serie_f_15.subs(x, i) for i in x_range]\n",
        "\n",
        "plt.plot(x_range, real, label=\"x^2\")\n",
        "plt.plot(x_range, f3, label='f3')\n",
        "plt.plot(x_range, f6, label=\"f6\")\n",
        "plt.plot(x_range, f15, label=\"f15\")\n",
        "\n",
        "plt.legend()"
      ],
      "execution_count": null,
      "outputs": []
    },
    {
      "cell_type": "markdown",
      "metadata": {
        "id": "UEV3oBk6zRTA"
      },
      "source": [
        "Ahora hacemos el caso discreto para m=6"
      ]
    },
    {
      "cell_type": "code",
      "metadata": {
        "id": "f6I9Z6o3zRTA"
      },
      "source": [
        "serie_f_6_m_3 = expand(serie_fourier(f, x, [-np.pi, np.pi], n_coefs=6, discreto=True, m=3))"
      ],
      "execution_count": null,
      "outputs": []
    },
    {
      "cell_type": "code",
      "metadata": {
        "id": "7caVcSxlzRTB"
      },
      "source": [
        "serie_f_6_m_10 = expand(serie_fourier(f, x, [-np.pi, np.pi], n_coefs=6, discreto=True, m=10))"
      ],
      "execution_count": null,
      "outputs": []
    },
    {
      "cell_type": "code",
      "metadata": {
        "id": "HtIn97f9zRTB"
      },
      "source": [
        "serie_f_6_m_20 = expand(serie_fourier(f, x, [-np.pi, np.pi], n_coefs=6, discreto=True, m=20))"
      ],
      "execution_count": null,
      "outputs": []
    },
    {
      "cell_type": "code",
      "metadata": {
        "id": "SPBHyZU-zRTB"
      },
      "source": [
        "serie_f_6_m_50 = expand(serie_fourier(f, x, [-np.pi, np.pi], n_coefs=6, discreto=True, m=50))"
      ],
      "execution_count": null,
      "outputs": []
    },
    {
      "cell_type": "code",
      "metadata": {
        "id": "7iB3X_RezRTB"
      },
      "source": [
        "x_range = np.linspace(-np.pi, np.pi, 300)\n",
        "real = [(f).subs(x, i) for i in x_range]\n",
        "f6m3 = [serie_f_6_m_3.subs(x, i) for i in x_range]\n",
        "f6m10 = [serie_f_6_m_10.subs(x, i) for i in x_range]\n",
        "f6m20 = [serie_f_6_m_20.subs(x, i) for i in x_range]\n",
        "f6m50 = [serie_f_6_m_50.subs(x, i) for i in x_range]\n",
        "\n",
        "f6 = [serie_f_6.subs(x, i) for i in x_range]\n",
        "\n",
        "plt.plot(x_range, real, label=\"x^2\")\n",
        "plt.plot(x_range, f6, label='f6')\n",
        "plt.plot(x_range, f6m3, label=\"f6disc-m3\")\n",
        "plt.plot(x_range, f6m10, label=\"f6disc-m10\")\n",
        "plt.plot(x_range, f6m20, label=\"f6disc-m20\")\n",
        "plt.plot(x_range, f6m50, label=\"f6disc-m50\")\n",
        "\n",
        "\n",
        "plt.legend()"
      ],
      "execution_count": null,
      "outputs": []
    },
    {
      "cell_type": "markdown",
      "metadata": {
        "id": "4I2H0RISzRTB"
      },
      "source": [
        "### Aproximación uniforme (Polinomios de Bernstein)\n",
        "Otro modo de realizar aproximaciones a funciones es empleando la aproximación uniforme. El tma de Weierstrass indica que para $f$ continua en un intervalo cerrado y acotado $I$, para todo $\\epsilon > 0$ existe un polinomio $p$ tal que $||f-p||_\\infty < \\epsilon$. \n",
        "\n",
        "Para $I = [0, 1]$, el conjunto de polinomios de grado $n$ que satisface esa condición son los polinomios de Bernstein:\n",
        "$$B_{n,f}(x) = \\sum_{i = 0}^n f\\left(\\frac{i}{n}\\right) {n \\choose i} x^i(1-x)^{n-i}$$\n",
        "\n",
        "Para $I = [a, b]$, hay que realizar el cambio de variable $x = (b-a)t + a$ para $t \\in [0,1]$. Con ello, definimos $g(t)$ y tenemos el polinomio\n",
        "$$B_{n,f}(t) = \\sum_{i = 0}^n g\\left(\\frac{i}{n}\\right) {n \\choose i} t^i(1-t)^{n-i}$$\n",
        "Que después reconvertimos a $x$ aplicando el cambio $t = \\frac{x - a}{b - a}$"
      ]
    },
    {
      "cell_type": "code",
      "metadata": {
        "id": "o5mc1hchzRTB"
      },
      "source": [
        "help(polinomios_bernstein)"
      ],
      "execution_count": null,
      "outputs": []
    },
    {
      "cell_type": "markdown",
      "metadata": {
        "id": "QD0wQya2zRTC"
      },
      "source": [
        "#### EJERCICIO 38"
      ]
    },
    {
      "cell_type": "code",
      "metadata": {
        "id": "lxj138zMzRTC"
      },
      "source": [
        "f = abs(x)"
      ],
      "execution_count": null,
      "outputs": []
    },
    {
      "cell_type": "code",
      "metadata": {
        "id": "vlTEFtnzzRTC"
      },
      "source": [
        "polinomios_bernstein(f, x, I=[-1, 1], grado=1)"
      ],
      "execution_count": null,
      "outputs": []
    },
    {
      "cell_type": "code",
      "metadata": {
        "id": "zrmbIbZEzRTC"
      },
      "source": [
        "polinomios_bernstein(f, x, I=[-1, 1], grado=2)"
      ],
      "execution_count": null,
      "outputs": []
    },
    {
      "cell_type": "code",
      "metadata": {
        "id": "CGJTZbSJzRTC"
      },
      "source": [
        "polinomios_bernstein(f, x, I=[-1, 1], grado=3)"
      ],
      "execution_count": null,
      "outputs": []
    },
    {
      "cell_type": "code",
      "metadata": {
        "id": "K0FEiD8uzRTC"
      },
      "source": [
        "polinomios_bernstein(f, x, I=[-1, 1], grado=4)"
      ],
      "execution_count": null,
      "outputs": []
    },
    {
      "cell_type": "code",
      "metadata": {
        "id": "Iu5d8WBlzRTC"
      },
      "source": [
        "polinomios_bernstein(f, x, I=[-1, 1], grado=5)"
      ],
      "execution_count": null,
      "outputs": []
    },
    {
      "cell_type": "code",
      "metadata": {
        "id": "RibDIVsGzRTD"
      },
      "source": [
        "polinomios_bernstein(f, x, I=[-1, 1], grado=6)"
      ],
      "execution_count": null,
      "outputs": []
    },
    {
      "cell_type": "code",
      "metadata": {
        "id": "AYCba5w5zRTD"
      },
      "source": [
        "polinomios_bernstein(f, x, I=[-1, 1], grado=7)"
      ],
      "execution_count": null,
      "outputs": []
    },
    {
      "cell_type": "code",
      "metadata": {
        "id": "rtqHanxezRTD"
      },
      "source": [
        "polinomios_bernstein(f, x, I=[-1, 1], grado=8)"
      ],
      "execution_count": null,
      "outputs": []
    },
    {
      "cell_type": "markdown",
      "metadata": {
        "id": "aCKy8LjFzRTD"
      },
      "source": [
        "Vemos que los polinomios se repiten por paridad. Esto tiene sentido porque los polinomios solo pueden tener coeficientes pares, ya que abs(x) siempre es positivo.\n",
        "Vamos a plotear los polinomios hasta un grado alto."
      ]
    },
    {
      "cell_type": "code",
      "metadata": {
        "id": "MvQPNZFGzRTD"
      },
      "source": [
        "x_range = np.linspace(-1, 1, 300)\n",
        "real = [(f).subs(x, i) for i in x_range]\n",
        "B2 = [polinomios_bernstein(f, x, I=[-1, 1], grado=2).subs(x, i) for i in x_range]\n",
        "B6 = [polinomios_bernstein(f, x, I=[-1, 1], grado=6).subs(x, i) for i in x_range]\n",
        "B10 = [polinomios_bernstein(f, x, I=[-1, 1], grado=10).subs(x, i) for i in x_range]\n",
        "B100 = [polinomios_bernstein(f, x, I=[-1, 1], grado=100).subs(x, i) for i in x_range]\n",
        "\n",
        "plt.plot(x_range, real, label=\"abs(x)\")\n",
        "plt.plot(x_range, B2, label='B2')\n",
        "plt.plot(x_range, B6, label='B6')\n",
        "plt.plot(x_range, B10, label='B10')\n",
        "plt.plot(x_range, B100, label='B100')\n",
        "\n",
        "plt.legend()"
      ],
      "execution_count": null,
      "outputs": []
    },
    {
      "cell_type": "markdown",
      "metadata": {
        "id": "0BMI_vRJzRTD"
      },
      "source": [
        "Vemos que la curva se acerca cada vez más a abs(x)."
      ]
    },
    {
      "cell_type": "markdown",
      "metadata": {
        "id": "COM4tGBlzRTD"
      },
      "source": [
        "#### EJEMPLO 26"
      ]
    },
    {
      "cell_type": "code",
      "metadata": {
        "id": "OPoPfbu2zRTE"
      },
      "source": [
        "f = E**(3*x) * sin(pi * x)\n",
        "f"
      ],
      "execution_count": null,
      "outputs": []
    },
    {
      "cell_type": "code",
      "metadata": {
        "id": "XiuLo0FSzRTF"
      },
      "source": [
        "polinomios_bernstein(f, x, I=[0, 1], grado=1)"
      ],
      "execution_count": null,
      "outputs": []
    },
    {
      "cell_type": "code",
      "metadata": {
        "id": "I0qNDG6NzRTF"
      },
      "source": [
        "polinomios_bernstein(f, x, I=[0, 1], grado=2)"
      ],
      "execution_count": null,
      "outputs": []
    },
    {
      "cell_type": "code",
      "metadata": {
        "id": "Pi5OLSAPzRTF"
      },
      "source": [
        "polinomios_bernstein(f, x, I=[0, 1], grado=3)"
      ],
      "execution_count": null,
      "outputs": []
    },
    {
      "cell_type": "code",
      "metadata": {
        "id": "JWp6UTWezRTF"
      },
      "source": [
        "polinomios_bernstein(f, x, I=[0, 1], grado=4)"
      ],
      "execution_count": null,
      "outputs": []
    },
    {
      "cell_type": "markdown",
      "metadata": {
        "id": "W6NSsBzhzRTG"
      },
      "source": [
        "Vemos que los polinomios se repiten por paridad. Esto tiene sentido porque los polinomios solo pueden tener coeficientes pares, ya que abs(x) siempre es positivo.\n",
        "Vamos a plotear los polinomios hasta un grado alto."
      ]
    },
    {
      "cell_type": "code",
      "metadata": {
        "id": "bHCjAiHizRTG"
      },
      "source": [
        "x_range = np.linspace(0, 1, 300)\n",
        "real = [(f).subs(x, i) for i in x_range]\n",
        "B2 = [polinomios_bernstein(f, x, I=[0, 1], grado=2).subs(x, i) for i in x_range]\n",
        "B4 = [polinomios_bernstein(f, x, I=[0, 1], grado=4).subs(x, i) for i in x_range]\n",
        "B8 = [polinomios_bernstein(f, x, I=[0, 1], grado=8).subs(x, i) for i in x_range]\n",
        "B16 = [polinomios_bernstein(f, x, I=[0, 1], grado=16).subs(x, i) for i in x_range]\n",
        "B32 = [polinomios_bernstein(f, x, I=[0, 1], grado=32).subs(x, i) for i in x_range]\n",
        "\n",
        "plt.plot(x_range, real, label=\"f\")\n",
        "plt.plot(x_range, B2, label='B2')\n",
        "plt.plot(x_range, B4, label='B4')\n",
        "plt.plot(x_range, B8, label='B8')\n",
        "plt.plot(x_range, B16, label='B16')\n",
        "plt.plot(x_range, B32, label='B32')\n",
        "\n",
        "plt.legend()"
      ],
      "execution_count": null,
      "outputs": []
    },
    {
      "cell_type": "markdown",
      "metadata": {
        "id": "kVc5bRtezRTG"
      },
      "source": [
        "Ahora vamos a plotear el error entre la función real y la aproximación. Vemos que conforme el polinomio es más complejo, más se acerca a la función, pero también salen artefactos en la computación."
      ]
    },
    {
      "cell_type": "code",
      "metadata": {
        "id": "r1EkJYYZzRTH"
      },
      "source": [
        "x_range = np.linspace(0, 1, 300)\n",
        "real = [(f).subs(x, i) for i in x_range]\n",
        "B2 = [polinomios_bernstein(f, x, I=[0, 1], grado=2).subs(x, i) for i in x_range]\n",
        "B4 = [polinomios_bernstein(f, x, I=[0, 1], grado=4).subs(x, i) for i in x_range]\n",
        "B8 = [polinomios_bernstein(f, x, I=[0, 1], grado=8).subs(x, i) for i in x_range]\n",
        "B16 = [polinomios_bernstein(f, x, I=[0, 1], grado=16).subs(x, i) for i in x_range]\n",
        "B32 = [polinomios_bernstein(f, x, I=[0, 1], grado=32).subs(x, i) for i in x_range]\n",
        "\n",
        "plt.plot(x_range, np.array(real) - np.array(B2), label=\"2\")\n",
        "plt.plot(x_range, np.array(real) - np.array(B4), label=\"4\")\n",
        "plt.plot(x_range, np.array(real) - np.array(B8), label=\"8\")\n",
        "plt.plot(x_range, np.array(real) - np.array(B32), label=\"32\")\n",
        "\n",
        "plt.legend()"
      ],
      "execution_count": null,
      "outputs": []
    },
    {
      "cell_type": "markdown",
      "metadata": {
        "id": "5OQ53vkn9Vq0"
      },
      "source": [
        "## Ejercicios"
      ]
    },
    {
      "cell_type": "markdown",
      "metadata": {
        "id": "XBUW1MGK9VxL"
      },
      "source": [
        "### Ejercicio 40\n",
        "Determinar la mejor aproximación de $x^3$ en $\\mathcal{P}_2$ usando el producto escalar de Chebyshev."
      ]
    },
    {
      "cell_type": "markdown",
      "metadata": {
        "id": "94Tstf-K9ypz"
      },
      "source": [
        "Recordemos el producto escalar de Chebyshev:\n",
        "$$\\langle f, g\\rangle = \\int_{-1}^{1} f(x)g(x) \\frac{1}{\\sqrt{1-x^2}} dx$$"
      ]
    },
    {
      "cell_type": "code",
      "metadata": {
        "id": "uHt0_WTDDxCU"
      },
      "source": [
        "help(metodo_gram)"
      ],
      "execution_count": null,
      "outputs": []
    },
    {
      "cell_type": "code",
      "metadata": {
        "id": "GXJi-J8KBseT"
      },
      "source": [
        "U = [sqrt(1/pi) * chebyshevt_poly(0, x), sqrt(2/pi) * chebyshevt_poly(1, x), sqrt(2/pi) * chebyshevt_poly(2, x)]  # S(1) lo hacemos porque hacer 1.diff da error por ser int.\n",
        "f = x ** 3\n",
        "dict_prod_deriv = metodo_gram(f, U, var=x, func_producto=producto_escalar_peso, a=-1, b=1, w=1/sqrt(1 - x**2))"
      ],
      "execution_count": null,
      "outputs": []
    },
    {
      "cell_type": "code",
      "metadata": {
        "id": "qYbzjJTwCA9N"
      },
      "source": [
        "dict_prod_deriv['G']"
      ],
      "execution_count": null,
      "outputs": []
    },
    {
      "cell_type": "code",
      "metadata": {
        "id": "fLHtl-tHCNJs"
      },
      "source": [
        "dict_prod_deriv['alpha']"
      ],
      "execution_count": null,
      "outputs": []
    },
    {
      "cell_type": "code",
      "metadata": {
        "id": "ZiNv2ikrCNRX"
      },
      "source": [
        "dict_prod_deriv['f_bar']"
      ],
      "execution_count": null,
      "outputs": []
    },
    {
      "cell_type": "code",
      "metadata": {
        "id": "Gw_bD7j8EOXx"
      },
      "source": [
        "dict_prod_deriv['poly']"
      ],
      "execution_count": null,
      "outputs": []
    },
    {
      "cell_type": "markdown",
      "metadata": {
        "id": "xffjR7lxMwvr"
      },
      "source": [
        "### Ejercicio 41\n",
        "\n",
        "Aplicar el procedimiento de orto-normalización de Gram-Schmidt a la base $\\{1, x, x^2\\}$ respecto el producto escalar.\n",
        "\n",
        "$$\\langle f, g \\rangle = \\frac{1}{2}\\int_0^1(1+3x^2)f(x)g(x)dx$$\n"
      ]
    },
    {
      "cell_type": "markdown",
      "metadata": {
        "id": "eb3EYo8wPxja"
      },
      "source": [
        "Aplicamos el procedimiento. En este caso los pasos a seguir serían:\n",
        "$$p_0(x) = 1$$\n",
        "$$p_1(x) = x - \\frac{\\langle p_0, x\\rangle}{\\langle p_0, p_0\\rangle}p_0$$\n",
        "$$p_2(x) = x^2 - \\frac{\\langle p_0, x^2\\rangle}{\\langle p_0, p_0\\rangle}p_0 - \n",
        "           \\frac{\\langle p_1, x^2\\rangle}{\\langle p_1, p_1\\rangle}p_1$$\n",
        "\n",
        "Después habría que, para ortonormalizar, aplicar:\n",
        "$$p_i := \\frac{p_i}{\\langle p_i, p_i\\rangle}$$"
      ]
    },
    {
      "cell_type": "code",
      "metadata": {
        "id": "1FZS0ycWQqPn"
      },
      "source": [
        "p0 = S(1)\n",
        "p0"
      ],
      "execution_count": null,
      "outputs": []
    },
    {
      "cell_type": "code",
      "metadata": {
        "id": "YtP_igJ_OQI5"
      },
      "source": [
        "p1 = x - producto_escalar_peso(p0, x, w=(1 + 3*x**2)/2, a=0, b=1) / producto_escalar_peso(p0, p0, w=(1 + 3*x**2)/2, a=0, b=1) * p0\n",
        "p1"
      ],
      "execution_count": null,
      "outputs": []
    },
    {
      "cell_type": "code",
      "metadata": {
        "id": "S6OsGzjoQ-W8"
      },
      "source": [
        "p1_norm = p1 / sqrt(producto_escalar_peso(p1, p1, w=(1 + 3*x**2)/2, a=0, b=1))\n",
        "p1_norm"
      ],
      "execution_count": null,
      "outputs": []
    },
    {
      "cell_type": "code",
      "metadata": {
        "id": "2_I8sMdPOWCE"
      },
      "source": [
        "p2 = x**2 - producto_escalar_peso(p0, x**2, w=(1 + 3*x**2)/2, a=0, b=1) / producto_escalar_peso(p0, p0, w=(1 + 3*x**2)/2, a=0, b=1) * p0 - \\\n",
        "            producto_escalar_peso(p1, x**2, w=(1 + 3*x**2)/2, a=0, b=1) / producto_escalar_peso(p1, p1, w=(1 + 3*x**2)/2, a=0, b=1) * p1\n",
        "p2"
      ],
      "execution_count": null,
      "outputs": []
    },
    {
      "cell_type": "code",
      "metadata": {
        "id": "N8Hc1dy5OZQA"
      },
      "source": [
        "p2_norm = p2 / sqrt(producto_escalar_peso(p2, p2, w=(1 + 3*x**2)/2, a=0, b=1))\n",
        "p2_norm"
      ],
      "execution_count": null,
      "outputs": []
    },
    {
      "cell_type": "markdown",
      "metadata": {
        "id": "UI7dXfdBRZhF"
      },
      "source": [
        "### Ejercicio 42\n",
        "Hallar la recta que mejor aproxima la gráfica de la función $y = \\frac{x}{1+x^2}$ con la norma inducida por el producto escalar\n",
        "$$\\langle f, g \\rangle = \\int_0^5f(x)g(x)dx$$\n",
        "\n",
        "Usando una base de polinomios ortonormales."
      ]
    },
    {
      "cell_type": "markdown",
      "metadata": {
        "id": "hHH5697oRu6h"
      },
      "source": [
        "El primer punto es transformar la base $\\{1, x\\}$, que conforma las posibles rectas, en una base ortonormal para ese producto escalar. Para ello empleamos el procedimiento de Gram Schmidt."
      ]
    },
    {
      "cell_type": "code",
      "metadata": {
        "id": "p49bSRGuGHB2"
      },
      "source": [
        "f = x/(1 + x**2)"
      ],
      "execution_count": null,
      "outputs": []
    },
    {
      "cell_type": "code",
      "metadata": {
        "id": "CQjmQVsSRUgI"
      },
      "source": [
        "U_ortogonal = gram_schmidt_f(base=[S(1), x], var=x, prod_esc=producto_asecas, a=0, b=5)\n",
        "U_ortogonal"
      ],
      "execution_count": null,
      "outputs": []
    },
    {
      "cell_type": "code",
      "metadata": {
        "id": "jT6azMWZSf_1"
      },
      "source": [
        "p0 = U_ortogonal[0] / sqrt(producto_asecas(U_ortogonal[0], U_ortogonal[0], a=0, b=5))\n",
        "p0"
      ],
      "execution_count": null,
      "outputs": []
    },
    {
      "cell_type": "code",
      "metadata": {
        "id": "et3-u5N-Soj6"
      },
      "source": [
        "producto_asecas(p0, p0, a=0, b=5)"
      ],
      "execution_count": null,
      "outputs": []
    },
    {
      "cell_type": "code",
      "metadata": {
        "id": "VJ-3y5BBSsbU"
      },
      "source": [
        "p1 = U_ortogonal[1] / sqrt(producto_asecas(U_ortogonal[1], U_ortogonal[1], a=0, b=5))\n",
        "p1"
      ],
      "execution_count": null,
      "outputs": []
    },
    {
      "cell_type": "code",
      "metadata": {
        "id": "kjYwim99Ssel"
      },
      "source": [
        "producto_asecas(p1, p1, a=0, b=5)"
      ],
      "execution_count": null,
      "outputs": []
    },
    {
      "cell_type": "markdown",
      "metadata": {
        "id": "9samgpL0S1lg"
      },
      "source": [
        "Ahora que tenemos la base de polinomios ortonormales vamos a desarrollar por el método de Gram, por comprobar la ortonormalidad."
      ]
    },
    {
      "cell_type": "code",
      "metadata": {
        "id": "VtgxXHG6Vx0r"
      },
      "source": [
        "dict_gram = metodo_gram(f=f, U = [p0, p1], var=x, func_producto=producto_asecas, a=0, b=5)\n",
        "dict_gram['G']"
      ],
      "execution_count": null,
      "outputs": []
    },
    {
      "cell_type": "code",
      "metadata": {
        "id": "W9rGTrQHWEdL"
      },
      "source": [
        "dict_gram['alpha']"
      ],
      "execution_count": null,
      "outputs": []
    },
    {
      "cell_type": "code",
      "metadata": {
        "id": "WlLiKu4xWEt2"
      },
      "source": [
        "dict_gram['f_bar']"
      ],
      "execution_count": null,
      "outputs": []
    },
    {
      "cell_type": "code",
      "metadata": {
        "id": "m4NU5ERLWH-_"
      },
      "source": [
        "dict_gram['poly']"
      ],
      "execution_count": null,
      "outputs": []
    },
    {
      "cell_type": "code",
      "metadata": {
        "id": "9oesLabkWb1V"
      },
      "source": [
        "x_vals = np.linspace(0, 5, 100)\n",
        "y_vals = [dict_gram['poly'].subs(x, i) for i in x_vals]\n",
        "\n",
        "plt.plot(x_vals, [f.subs(x, i) for i in x_vals])\n",
        "plt.plot(x_vals, y_vals)"
      ],
      "execution_count": null,
      "outputs": []
    },
    {
      "cell_type": "markdown",
      "metadata": {
        "id": "igVBp1yHBwRR"
      },
      "source": [
        "### Ejercicio 43\n",
        "Hallar la recta que mejor aproxima la función $y = \\frac{x}{1+x^2}$ con el producto discreto $\\langle f, g \\rangle = f(0)g(0)+f(2)g(2) + f(3)g(3) + f(5)g(5)$ usando una base de polinomios ortogonales."
      ]
    },
    {
      "cell_type": "markdown",
      "metadata": {
        "id": "d8WOe6dVCrTq"
      },
      "source": [
        "Los polinomios ortonormales de la seccion anterior no nos son válidos porque en este caso el producto ha cambiado. Por ello tenemos que generar una nueva base."
      ]
    },
    {
      "cell_type": "code",
      "metadata": {
        "id": "ZQPy7UjoDZ5Z"
      },
      "source": [
        "U_ortogonal_disc = gram_schmidt_f(base=[S(1), x], var=x, prod_esc=producto_asecas, a=0, b=5, I=[0, 2, 3, 5])\n",
        "U_ortogonal_disc"
      ],
      "execution_count": null,
      "outputs": []
    },
    {
      "cell_type": "code",
      "metadata": {
        "id": "TrkMBHqEDZ5h"
      },
      "source": [
        "p0_disc = U_ortogonal_disc[0] / sqrt(producto_asecas(U_ortogonal_disc[0], U_ortogonal_disc[0], a=0, b=5, I=[0, 2, 3, 5]))\n",
        "p0_disc"
      ],
      "execution_count": null,
      "outputs": []
    },
    {
      "cell_type": "code",
      "metadata": {
        "id": "U8DWmCkCDZ5m"
      },
      "source": [
        "producto_asecas(p0_disc, p0_disc, a=0, b=5, I=[0, 2, 3, 5])"
      ],
      "execution_count": null,
      "outputs": []
    },
    {
      "cell_type": "code",
      "metadata": {
        "id": "shvY1RRVDZ5q"
      },
      "source": [
        "p1_disc = U_ortogonal_disc[1] / sqrt(producto_asecas(U_ortogonal_disc[1], U_ortogonal_disc[1], a=0, b=5, I=[0, 2, 3, 5]))\n",
        "p1_disc"
      ],
      "execution_count": null,
      "outputs": []
    },
    {
      "cell_type": "code",
      "metadata": {
        "id": "1zPY4W9wC3HB"
      },
      "source": [
        "producto_asecas(p1_disc, p1_disc, a=0, b=5, I=[0, 2, 3, 5])"
      ],
      "execution_count": null,
      "outputs": []
    },
    {
      "cell_type": "code",
      "metadata": {
        "id": "j_hO6TtpBvsz"
      },
      "source": [
        "dict_gram_disc = metodo_gram(f=f, U = [p0_disc, p1_disc], var=x, func_producto=producto_asecas, a=0, b=5, I=[0, 2, 3, 5])\n",
        "dict_gram_disc['G']"
      ],
      "execution_count": null,
      "outputs": []
    },
    {
      "cell_type": "code",
      "metadata": {
        "id": "0VBJ3F5CEJ7O"
      },
      "source": [
        "dict_gram_disc['alpha']"
      ],
      "execution_count": null,
      "outputs": []
    },
    {
      "cell_type": "code",
      "metadata": {
        "id": "dAFwEu9kEJ7R"
      },
      "source": [
        "dict_gram_disc['f_bar']"
      ],
      "execution_count": null,
      "outputs": []
    },
    {
      "cell_type": "code",
      "metadata": {
        "id": "KbLbCqYCEJ7T"
      },
      "source": [
        "dict_gram_disc['poly']"
      ],
      "execution_count": null,
      "outputs": []
    },
    {
      "cell_type": "code",
      "metadata": {
        "id": "54yfdashEJ7U"
      },
      "source": [
        "x_vals = np.linspace(0, 5, 100)\n",
        "y_vals = [dict_gram['poly'].subs(x, i) for i in x_vals]\n",
        "y_vals_disc = [dict_gram_disc['poly'].subs(x, i) for i in x_vals]\n",
        "\n",
        "plt.plot(x_vals, [f.subs(x, i) for i in x_vals])\n",
        "plt.plot(x_vals, y_vals, label='cont')\n",
        "plt.plot(x_vals, y_vals_disc, label='disc')\n",
        "plt.legend()"
      ],
      "execution_count": null,
      "outputs": []
    },
    {
      "cell_type": "code",
      "metadata": {
        "id": "Xn6XfUWlGAjc"
      },
      "source": [
        "x_vals = np.linspace(0, 5, 100)\n",
        "y_vals = [(f - dict_gram['poly']).subs(x, i) for i in x_vals]\n",
        "y_vals_disc = [(f - dict_gram_disc['poly']).subs(x, i) for i in x_vals]\n",
        "\n",
        "plt.plot(x_vals, y_vals, label='cont')\n",
        "plt.plot(x_vals, y_vals_disc, label='disc')\n",
        "plt.legend()"
      ],
      "execution_count": null,
      "outputs": []
    },
    {
      "cell_type": "markdown",
      "metadata": {
        "id": "iDUTacE5GupJ"
      },
      "source": [
        "Vemos que en el caso continuo la mayor diferencia está en 0, y es cercana a 0.4, y en el caso discreto está en 1, y es cercana a 0.3. Vamos a hallar esas diferencias explicitamente."
      ]
    },
    {
      "cell_type": "markdown",
      "metadata": {
        "id": "LIV5fI5dFUGc"
      },
      "source": [
        "Ahora vamos a hallar las normas $\\vert\\vert f - g \\vert\\vert_\\infty$ para la versión discreta y continua"
      ]
    },
    {
      "cell_type": "code",
      "metadata": {
        "id": "ztog1iXLFTwu"
      },
      "source": [
        "# Continua\n",
        "max_x = [N(i) for i in solve((dict_gram['poly'] - (x/(1+x**2))).diff(x), x)]\n",
        "max_x"
      ],
      "execution_count": null,
      "outputs": []
    },
    {
      "cell_type": "code",
      "metadata": {
        "id": "52De_Tg9HY6i"
      },
      "source": [
        "N(abs((dict_gram['poly'] - (x/(1+x**2))).subs(x, max_x[1])))"
      ],
      "execution_count": null,
      "outputs": []
    },
    {
      "cell_type": "code",
      "metadata": {
        "id": "liFVyuxHIaAX"
      },
      "source": [
        "N(abs((dict_gram['poly'] - (x/(1+x**2))).subs(x, max_x[3])))"
      ],
      "execution_count": null,
      "outputs": []
    },
    {
      "cell_type": "code",
      "metadata": {
        "id": "q6gPBgcSHnG9"
      },
      "source": [
        "N((dict_gram['poly'] - (x/(1+x**2))).subs(x, 0))"
      ],
      "execution_count": null,
      "outputs": []
    },
    {
      "cell_type": "markdown",
      "metadata": {
        "id": "ktAmjWeAHF38"
      },
      "source": [
        "El valor más cercano dentro de $[0, 5]$ es 1.09, pero es menor que el valor en 0. Así que el valor máximo es en 0."
      ]
    },
    {
      "cell_type": "code",
      "metadata": {
        "id": "QXHtTIatE4KB"
      },
      "source": [
        "# Discreta\n",
        "max_x = [N(i) for i in solve((dict_gram_disc['poly'] - (x/(1+x**2))).diff(x), x)]\n",
        "max_x"
      ],
      "execution_count": null,
      "outputs": []
    },
    {
      "cell_type": "code",
      "metadata": {
        "id": "kMNdemX5El9t"
      },
      "source": [
        "N(abs((dict_gram_disc['poly'] - (x/(1+x**2))).subs(x, max_x[1])))"
      ],
      "execution_count": null,
      "outputs": []
    },
    {
      "cell_type": "markdown",
      "metadata": {
        "id": "KsFZR44NIzNa"
      },
      "source": [
        "En el caso discreto el valor máximo está en $x\\sim0.94$ y es $0.32$.\n",
        "\n",
        "Así, la mayor diferencia está para el caso continuo (en base a la norma uniforme)."
      ]
    },
    {
      "cell_type": "markdown",
      "metadata": {
        "id": "_r-oh0ozJUEx"
      },
      "source": [
        "Sin embargo, si tomamos la diferencia de áreas, el área de diferencia es mayor para la discreta, que *falla* más a lo largo de la función."
      ]
    },
    {
      "cell_type": "code",
      "metadata": {
        "id": "yM4EGwr1JHUd"
      },
      "source": [
        "Integral(abs(dict_gram['poly'] - (x/(1+x**2))), (x, 0, 5)).evalf()"
      ],
      "execution_count": null,
      "outputs": []
    },
    {
      "cell_type": "code",
      "metadata": {
        "id": "yM6R94TdIx9Q"
      },
      "source": [
        "Integral(abs(dict_gram_disc['poly'] - (x/(1+x**2))), (x, 0, 5)).evalf()"
      ],
      "execution_count": null,
      "outputs": []
    },
    {
      "cell_type": "markdown",
      "metadata": {
        "id": "MQro_y7eJrz9"
      },
      "source": [
        "### Ejercicio 44\n",
        "Construir los cuatro primeros polinomios de grado creciente, de coeficiente principal igual a 1, que sean ortogonales respecto al producto escalar\n",
        "\n",
        "$$\\langle f, g\\rangle = \\int_{-1}^{1} \\vert x\\vert f(x)g(x) dx$$"
      ]
    },
    {
      "cell_type": "markdown",
      "metadata": {
        "id": "XGqQ1ypPKHKW"
      },
      "source": [
        "Para esto recurrimos al Tma 14, que indica que si $\\omega$ es una función positiva en el intervalo (en este caso lo es), se cumple que se pueden generar los polinomios por recurrencia."
      ]
    },
    {
      "cell_type": "code",
      "metadata": {
        "id": "I-DqH6SNKEJr"
      },
      "source": [
        "U = [S(1), x, x**2, x**3]"
      ],
      "execution_count": null,
      "outputs": []
    },
    {
      "cell_type": "code",
      "metadata": {
        "id": "s5ipJWDjOpiS"
      },
      "source": [
        "help(polinomios_orto_peso)"
      ],
      "execution_count": null,
      "outputs": []
    },
    {
      "cell_type": "code",
      "metadata": {
        "id": "lXFeqtSGOiHh"
      },
      "source": [
        "base_legendre = polinomios_orto_peso(U, w=abs(x), var=x, a=-1, b=1)"
      ],
      "execution_count": null,
      "outputs": []
    },
    {
      "cell_type": "code",
      "metadata": {
        "id": "0POXMKeyMmJd"
      },
      "source": [
        "base_legendre"
      ],
      "execution_count": null,
      "outputs": []
    },
    {
      "cell_type": "code",
      "metadata": {
        "id": "ncmtppdUMS56"
      },
      "source": [
        "U_ortogonal_disc = gram_schmidt_f(base=U, var=x, prod_esc=producto_escalar_peso, w=abs(x), a=-1, b=1)\n",
        "U_ortogonal_disc"
      ],
      "execution_count": null,
      "outputs": []
    },
    {
      "cell_type": "code",
      "metadata": {
        "id": "0QEzmDuAO2tu"
      },
      "source": [
        "Vemos que la base de polinomios es la misma."
      ],
      "execution_count": null,
      "outputs": []
    },
    {
      "cell_type": "code",
      "metadata": {
        "id": "dNaqTwHCO59r"
      },
      "source": [
        "producto_escalar_peso(f=U_ortogonal_disc[1], g=U_ortogonal_disc[2], w=abs(x), a=-1, b=1)"
      ],
      "execution_count": null,
      "outputs": []
    },
    {
      "cell_type": "code",
      "metadata": {
        "id": "Hyy-M4DCPDqg"
      },
      "source": [
        "producto_escalar_peso(f=U_ortogonal_disc[3], g=U_ortogonal_disc[2], w=abs(x), a=-1, b=1)"
      ],
      "execution_count": null,
      "outputs": []
    },
    {
      "cell_type": "markdown",
      "metadata": {
        "id": "1UCE1IoJPHEr"
      },
      "source": [
        "### Ejercicio 45\n",
        "Determinar la mejor aproximación a la función $f(x) = e^x$ en $\\mathcal{P}_2$ usando la norma asociada al siguiente producto escalar\n",
        "\n",
        "$$\\langle f, g \\rangle = \\int_0^1 (f(x)g(x) + f'(x)g'(x)) dx$$"
      ]
    },
    {
      "cell_type": "markdown",
      "metadata": {
        "id": "dC5gYehGwmTB"
      },
      "source": [
        "Vamos a usar el método de Gram directamente"
      ]
    },
    {
      "cell_type": "code",
      "metadata": {
        "id": "NaqoZ0xFwkFU"
      },
      "source": [
        "U = [S(1), x, x**2]\n",
        "f = E ** x"
      ],
      "execution_count": null,
      "outputs": []
    },
    {
      "cell_type": "code",
      "metadata": {
        "id": "gx2cCFvqw2tN"
      },
      "source": [
        "dict_prod_continuo = metodo_gram(f, U, var=x, func_producto=producto_deriv,a=0, b=1)"
      ],
      "execution_count": null,
      "outputs": []
    },
    {
      "cell_type": "code",
      "metadata": {
        "id": "DuZgAjouw2tQ"
      },
      "source": [
        "expand(dict_prod_continuo['poly'])"
      ],
      "execution_count": null,
      "outputs": []
    },
    {
      "cell_type": "code",
      "metadata": {
        "id": "6Y9hQmzRw2tU"
      },
      "source": [
        "dict_prod_continuo['G']"
      ],
      "execution_count": null,
      "outputs": []
    },
    {
      "cell_type": "code",
      "metadata": {
        "id": "Gpx8K3Izw2tX"
      },
      "source": [
        "dict_prod_continuo['f_bar']"
      ],
      "execution_count": null,
      "outputs": []
    },
    {
      "cell_type": "code",
      "metadata": {
        "id": "JoLOhftLw2tZ"
      },
      "source": [
        "dict_prod_continuo['alpha']"
      ],
      "execution_count": null,
      "outputs": []
    },
    {
      "cell_type": "markdown",
      "metadata": {
        "id": "CxOrMQ01xAXp"
      },
      "source": [
        "Y ahora vamos a buscar una base ortonormal y repetir el método"
      ]
    },
    {
      "cell_type": "code",
      "metadata": {
        "id": "dU1RnxM1wuqR"
      },
      "source": [
        "base_ortogonal = gram_schmidt_f(U, var=x, prod_esc=producto_deriv,a=0, b=1)\n",
        "base_ortogonal"
      ],
      "execution_count": null,
      "outputs": []
    },
    {
      "cell_type": "code",
      "metadata": {
        "id": "FgsDfTvzxkxJ"
      },
      "source": [
        "base_ortonormal = [i / sqrt(producto_deriv(i, i, a=0, b = 1)) for i in base_ortogonal]\n",
        "base_ortonormal"
      ],
      "execution_count": null,
      "outputs": []
    },
    {
      "cell_type": "code",
      "metadata": {
        "id": "eOj1joxux6dR"
      },
      "source": [
        "dict_prod_continuo_ortonormal = metodo_gram(f, base_ortonormal, var=x, func_producto=producto_deriv,a=0, b=1)"
      ],
      "execution_count": null,
      "outputs": []
    },
    {
      "cell_type": "code",
      "metadata": {
        "id": "_ev4syUnx6dS"
      },
      "source": [
        "dict_prod_continuo_ortonormal['poly']"
      ],
      "execution_count": null,
      "outputs": []
    },
    {
      "cell_type": "code",
      "metadata": {
        "id": "AtRC-LEIx6dU"
      },
      "source": [
        "dict_prod_continuo_ortonormal['G']"
      ],
      "execution_count": null,
      "outputs": []
    },
    {
      "cell_type": "code",
      "metadata": {
        "id": "meEuEoFfx6dV"
      },
      "source": [
        "dict_prod_continuo_ortonormal['f_bar']"
      ],
      "execution_count": null,
      "outputs": []
    },
    {
      "cell_type": "code",
      "metadata": {
        "id": "sBn08e1Vx6dW"
      },
      "source": [
        "dict_prod_continuo_ortonormal['alpha']"
      ],
      "execution_count": null,
      "outputs": []
    },
    {
      "cell_type": "code",
      "metadata": {
        "id": "MvOccTFsylWH"
      },
      "source": [
        "N(dict_prod_continuo['poly'])"
      ],
      "execution_count": null,
      "outputs": []
    },
    {
      "cell_type": "code",
      "metadata": {
        "id": "wr3UH2jmyXkL"
      },
      "source": [
        "x_vals = np.linspace(0, 1, 100)\n",
        "y_vals = [dict_prod_continuo['poly'].subs(x, i) for i in x_vals]\n",
        "\n",
        "plt.plot(x_vals, [f.subs(x, i) for i in x_vals])\n",
        "plt.plot(x_vals, y_vals)"
      ],
      "execution_count": null,
      "outputs": []
    }
  ]
}