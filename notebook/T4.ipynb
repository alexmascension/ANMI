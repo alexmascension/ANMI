{
 "cells": [
  {
   "cell_type": "markdown",
   "metadata": {
    "colab_type": "text",
    "id": "view-in-github"
   },
   "source": [
    "<a href=\"https://colab.research.google.com/github/alexmascension/ANMI/blob/main/notebook/T4.ipynb\" target=\"_parent\"><img src=\"https://colab.research.google.com/assets/colab-badge.svg\" alt=\"Open In Colab\"/></a>"
   ]
  },
  {
   "cell_type": "markdown",
   "metadata": {
    "id": "Vf3GioQwcepr"
   },
   "source": [
    "# Tema 4: Aproximación de funciones"
   ]
  },
  {
   "cell_type": "code",
   "execution_count": null,
   "metadata": {
    "id": "1hDZNaYFX936"
   },
   "outputs": [],
   "source": [
    "!pip install -r https://raw.githubusercontent.com/alexmascension/ANMI/main/requirements.txt"
   ]
  },
  {
   "cell_type": "code",
   "execution_count": null,
   "metadata": {
    "id": "dYo_JGn2TSxC"
   },
   "outputs": [],
   "source": [
    "from sympy import *\n",
    "from sympy.matrices import Matrix as mat\n",
    "from sympy.matrices import randMatrix\n",
    "from sympy import symbols\n",
    "import sympy\n",
    "\n",
    "import numpy as np\n",
    "\n",
    "from scipy.linalg import orth"
   ]
  },
  {
   "cell_type": "code",
   "execution_count": null,
   "metadata": {
    "id": "l-V6kF8_X937"
   },
   "outputs": [],
   "source": [
    "from anmi.genericas import norma_p_func, norma_inf_func\n",
    "\n",
    "from anmi.T4 import metodo_ruffini"
   ]
  },
  {
   "cell_type": "code",
   "execution_count": null,
   "metadata": {},
   "outputs": [],
   "source": [
    "x, y, z, a, lambda_ = symbols('x'), symbols('y'), symbols('z'), symbols('a'), symbols('lambda')"
   ]
  },
  {
   "cell_type": "markdown",
   "metadata": {
    "id": "79oglbStAAVB"
   },
   "source": [
    "El objetivo de la aproximación de funciones es encontrar una función de caracteristicas menores o con términos más fáciles para computar, que se aproxime a una función dada en un intervalo o conjunto de puntos determinado. A nivel computacional, también es más eficiente y estable poder emplear cierto tipo de funciones de aproximación."
   ]
  },
  {
   "cell_type": "markdown",
   "metadata": {},
   "source": [
    "## Representación anidada (algoritmo de Horner) / Método de Ruffini\n",
    "Si tenemos un polinomio $p(x) = a_0 + a_1x + a_2x^2+\\cdots+a_nx^n$, entonces podemos hacer el polinomio más compacto, en la forma $p(x) = q_1(q_2(\\cdots(q_n(x)))$, tal que $q_i(x) = a_{i-1} + a_i(x)$."
   ]
  },
  {
   "cell_type": "code",
   "execution_count": null,
   "metadata": {},
   "outputs": [],
   "source": [
    "poli_1 = Poly(x**3 - x**2 + 2*x - 5)"
   ]
  },
  {
   "cell_type": "code",
   "execution_count": null,
   "metadata": {},
   "outputs": [],
   "source": [
    "metodo_ruffini(poli_1, 1)"
   ]
  },
  {
   "cell_type": "markdown",
   "metadata": {},
   "source": [
    "## Aproximación de funciones\n",
    "Si $f$ es una función en un espacio vectorial $V$ podemos definir una norma $||\\;\\;||$, que es una aplicación que cumple:\n",
    "* $||f|| = 0  \\iff f = 0$\n",
    "* $||\\lambda f|| = |\\lambda|\\,||f||$\n",
    "* $||f + g|| \\le ||f|| + ||g||$\n",
    "\n",
    "Si fijamos un subespacio $U \\subset V$, podemos buscar una función $g\\in U$ tal que sea la más similar.\n",
    "\n",
    "Si queremos medir la distancia entre 2 funciones, hay múltiples opciones:\n",
    "* Norma 2: $||f||_2 = \\left( \\int_a^bf(x)^2 dx \\right)^\\frac{1}{2}$\n",
    "* Norma p: $||f||_p = \\left( \\int_a^b |f(x)|^p dx \\right)^\\frac{1}{p}$\n",
    "* Norma inf: $||f||_{\\inf} = \\max_{x \\in [a,b]} |f(x)|$"
   ]
  },
  {
   "cell_type": "code",
   "execution_count": null,
   "metadata": {},
   "outputs": [],
   "source": [
    "f = x\n",
    "g1 = sin(x)\n",
    "g2 = 1 - cos(x)"
   ]
  },
  {
   "cell_type": "code",
   "execution_count": null,
   "metadata": {},
   "outputs": [],
   "source": [
    "norma_p_func(f - g1, p=2, a=0, b=2*pi)"
   ]
  },
  {
   "cell_type": "code",
   "execution_count": null,
   "metadata": {},
   "outputs": [],
   "source": [
    "norma_inf_func(f - g1, a=0, b=2*pi)"
   ]
  },
  {
   "cell_type": "code",
   "execution_count": null,
   "metadata": {},
   "outputs": [],
   "source": [
    "norma_p_func(f - g2, p=2, a=0, b=2*pi)"
   ]
  },
  {
   "cell_type": "code",
   "execution_count": null,
   "metadata": {},
   "outputs": [],
   "source": [
    "norma_inf_func(f - g2, a=0, b=2*pi)"
   ]
  }
 ],
 "metadata": {
  "colab": {
   "include_colab_link": true,
   "name": "ANMI.ipynb",
   "provenance": [],
   "toc_visible": true
  },
  "kernelspec": {
   "display_name": "Python 3",
   "language": "python",
   "name": "python3"
  },
  "language_info": {
   "codemirror_mode": {
    "name": "ipython",
    "version": 3
   },
   "file_extension": ".py",
   "mimetype": "text/x-python",
   "name": "python",
   "nbconvert_exporter": "python",
   "pygments_lexer": "ipython3",
   "version": "3.8.0"
  }
 },
 "nbformat": 4,
 "nbformat_minor": 4
}
