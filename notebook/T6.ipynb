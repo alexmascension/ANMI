{
 "cells": [
  {
   "cell_type": "markdown",
   "metadata": {
    "colab_type": "text",
    "id": "view-in-github"
   },
   "source": [
    "<a href=\"https://colab.research.google.com/github/alexmascension/ANMI/blob/main/notebook/T6.ipynb\" target=\"_parent\"><img src=\"https://colab.research.google.com/assets/colab-badge.svg\" alt=\"Open In Colab\"/></a>"
   ]
  },
  {
   "cell_type": "markdown",
   "metadata": {
    "id": "Vf3GioQwcepr"
   },
   "source": [
    "# Tema 6: Derivación e integración numérica\n",
    "\n",
    "Este tema lo construyo en parte basado en https://brianheinold.net/notes/An_Intuitive_Guide_to_Numerical_Methods_Heinold.pdf, que proporciona un enfoque bastante más práctico del tema."
   ]
  },
  {
   "cell_type": "code",
   "execution_count": null,
   "metadata": {
    "id": "1hDZNaYFX936"
   },
   "outputs": [],
   "source": [
    "!pip install -r https://raw.githubusercontent.com/alexmascension/ANMI/main/requirements.txt"
   ]
  },
  {
   "cell_type": "code",
   "execution_count": null,
   "metadata": {
    "id": "dYo_JGn2TSxC"
   },
   "outputs": [],
   "source": [
    "from sympy import *\n",
    "from sympy.matrices import Matrix as mat\n",
    "from sympy.matrices import randMatrix\n",
    "from sympy import symbols\n",
    "import sympy\n",
    "\n",
    "import numpy as np\n",
    "from tqdm import tqdm\n",
    "\n",
    "from scipy.linalg import orth\n",
    "\n",
    "from matplotlib import pyplot as plt\n",
    "import matplotlib as mpl\n",
    "mpl.rcParams['figure.dpi'] = 150"
   ]
  },
  {
   "cell_type": "code",
   "execution_count": null,
   "metadata": {},
   "outputs": [],
   "source": [
    "from anmi.T5 import polinomio_newton, roots_chebyshev"
   ]
  },
  {
   "cell_type": "code",
   "execution_count": null,
   "metadata": {
    "id": "l-V6kF8_X937"
   },
   "outputs": [],
   "source": [
    "from anmi.T6 import derivacion_polinomio_newton, polinomio_lagrange_derivada, derivada_richardson\n",
    "from anmi.T6 import polinomio_lagrange_integracion, polinomio_newton_integracion, integral_positiva_newton, error_cuadratura_integral, formulas_newton_cotes, error_trapecio, error_simpson, formulas_newton_cotes_m             "
   ]
  },
  {
   "cell_type": "code",
   "execution_count": null,
   "metadata": {},
   "outputs": [],
   "source": [
    "x, y, z, a, lambda_, h = symbols('x'), symbols('y'), symbols('z'), symbols('a'), symbols('lambda'), symbols('h')"
   ]
  },
  {
   "cell_type": "markdown",
   "metadata": {},
   "source": [
    "# Derivación numérica"
   ]
  },
  {
   "cell_type": "markdown",
   "metadata": {},
   "source": [
    "## El problema de la aritmética finita en el cálculo de derivadas\n",
    "\n",
    "El problema principal del cálculo de derivadas está en que el denominador de la derivada se hace muy pequeño:\n",
    "$f'(x) = \\frac{f(x+h) - f(x)}{h}$\n",
    "\n",
    "En ese sentido, si empezamos a usar valores de $h$ muy pequeños, podemos acabar teniendo valores de derivada alejados de la realidad. Como ejemplo, vamos a evaluar la derivada de $2x$ en $x=3$, empleando diferentes valores de $h$:"
   ]
  },
  {
   "cell_type": "code",
   "execution_count": null,
   "metadata": {},
   "outputs": [],
   "source": [
    "for n in range(23):\n",
    "    print(n, (((x+h) ** 2 - x**2) / (h)).subs(h, 10**(-n)).subs(x, 3))"
   ]
  },
  {
   "cell_type": "markdown",
   "metadata": {},
   "source": [
    "Vemos que para valores de h de $10^{-13}$ para abajo, las derivadas se nos van de madre. Esto es problemático porque para derivadas más complejas el error aumenta y no nos podremos fiar directamente de los resultados. Para mitigar estos problemas en estas secciones trabajaremos con diferentes métodos de aproximación de derivadas."
   ]
  },
  {
   "cell_type": "markdown",
   "metadata": {},
   "source": [
    "## Fórmulas de derivación numérica\n",
    "En esta sección vamos a derivar diferentes métodos de cálculo de derivadas.\n"
   ]
  },
  {
   "cell_type": "markdown",
   "metadata": {},
   "source": [
    "## Creando el polinomio de Newton\n",
    "Una de las opciones para calcular la derivada $n$-ésima es generar un polinomio de grado $n$ y aplicar su derivada $n$ veces. Para ello podemos emplear el método de Newton."
   ]
  },
  {
   "cell_type": "code",
   "execution_count": null,
   "metadata": {},
   "outputs": [],
   "source": [
    "help(polinomio_newton)"
   ]
  },
  {
   "cell_type": "code",
   "execution_count": null,
   "metadata": {},
   "outputs": [],
   "source": [
    "help(derivacion_polinomio_newton)"
   ]
  },
  {
   "cell_type": "markdown",
   "metadata": {},
   "source": [
    "#### EJEMPLO 32"
   ]
  },
  {
   "cell_type": "code",
   "execution_count": 305,
   "metadata": {},
   "outputs": [],
   "source": [
    "p_diff, p, m =  derivacion_polinomio_newton(f=sqrt(x), x0=1, var=symbols('x'), grado=3, h=0.05)"
   ]
  },
  {
   "cell_type": "code",
   "execution_count": 306,
   "metadata": {},
   "outputs": [
    {
     "data": {
      "text/latex": [
       "$\\displaystyle \\frac{257540084 x^{3}}{4925571229} - 0.2809629702543 x^{2} + 0.905042939193906 x + 0.323633692679234$"
      ],
      "text/plain": [
       "257540084*x**3/4925571229 - 0.2809629702543*x**2 + 0.905042939193906*x + 0.323633692679234"
      ]
     },
     "execution_count": 306,
     "metadata": {},
     "output_type": "execute_result"
    }
   ],
   "source": [
    "expand(p)"
   ]
  },
  {
   "cell_type": "code",
   "execution_count": 307,
   "metadata": {},
   "outputs": [
    {
     "data": {
      "text/latex": [
       "$\\displaystyle 0.31371803028696$"
      ],
      "text/plain": [
       "0.313718030286960"
      ]
     },
     "execution_count": 307,
     "metadata": {},
     "output_type": "execute_result"
    }
   ],
   "source": [
    "N(p_diff)"
   ]
  },
  {
   "cell_type": "code",
   "execution_count": 308,
   "metadata": {},
   "outputs": [
    {
     "data": {
      "text/latex": [
       "$\\displaystyle \\left[\\begin{matrix}1.0 & 0.493901531919198 & -0.116261004353646 & 0.05228633838116\\\\1.02469507659596 & 0.482275431483834 & -0.108418053596472 & 0\\\\1.04880884817015 & 0.471433626124186 & 0 & 0\\\\1.07238052947636 & 0 & 0 & 0\\end{matrix}\\right]$"
      ],
      "text/plain": [
       "Matrix([\n",
       "[             1.0, 0.493901531919198, -0.116261004353646, 0.05228633838116],\n",
       "[1.02469507659596, 0.482275431483834, -0.108418053596472,                0],\n",
       "[1.04880884817015, 0.471433626124186,                  0,                0],\n",
       "[1.07238052947636,                 0,                  0,                0]])"
      ]
     },
     "execution_count": 308,
     "metadata": {},
     "output_type": "execute_result"
    }
   ],
   "source": [
    "N(m)"
   ]
  },
  {
   "cell_type": "markdown",
   "metadata": {},
   "source": [
    "Ahora vamos a jugar con otros valores"
   ]
  },
  {
   "cell_type": "code",
   "execution_count": 309,
   "metadata": {},
   "outputs": [
    {
     "data": {
      "text/latex": [
       "$\\displaystyle 0.361336865317696$"
      ],
      "text/plain": [
       "0.361336865317696"
      ]
     },
     "execution_count": 309,
     "metadata": {},
     "output_type": "execute_result"
    }
   ],
   "source": [
    "p_diff, p, m =  derivacion_polinomio_newton(f=sqrt(x), x0=1, var=symbols('x'), grado=3, h=0.01)\n",
    "N(p_diff)"
   ]
  },
  {
   "cell_type": "code",
   "execution_count": 310,
   "metadata": {},
   "outputs": [
    {
     "data": {
      "text/latex": [
       "$\\displaystyle 0.373597819181018$"
      ],
      "text/plain": [
       "0.373597819181018"
      ]
     },
     "execution_count": 310,
     "metadata": {},
     "output_type": "execute_result"
    }
   ],
   "source": [
    "p_diff, p, m =  derivacion_polinomio_newton(f=sqrt(x), x0=1, var=symbols('x'), grado=3, h=0.001)\n",
    "N(p_diff)"
   ]
  },
  {
   "cell_type": "code",
   "execution_count": 311,
   "metadata": {},
   "outputs": [
    {
     "data": {
      "text/latex": [
       "$\\displaystyle 0.374811293113494$"
      ],
      "text/plain": [
       "0.374811293113494"
      ]
     },
     "execution_count": 311,
     "metadata": {},
     "output_type": "execute_result"
    }
   ],
   "source": [
    "p_diff, p, m =  derivacion_polinomio_newton(f=sqrt(x), x0=1, var=symbols('x'), grado=3, h=0.0001)\n",
    "N(p_diff)"
   ]
  },
  {
   "cell_type": "code",
   "execution_count": 314,
   "metadata": {},
   "outputs": [
    {
     "data": {
      "text/latex": [
       "$\\displaystyle 0.499987500624021 x + 0.062468548852249 \\left(x - 1.0002\\right) \\left(x - 1.0001\\right) \\left(x - 1.0\\right) - 0.124981247573444 \\left(x - 1.0001\\right) \\left(x - 1.0\\right) + 0.500012499375979$"
      ],
      "text/plain": [
       "0.499987500624021*x + 0.062468548852249*(x - 1.0002)*(x - 1.0001)*(x - 1.0) - 0.124981247573444*(x - 1.0001)*(x - 1.0) + 0.500012499375979"
      ]
     },
     "execution_count": 314,
     "metadata": {},
     "output_type": "execute_result"
    }
   ],
   "source": [
    "N(p)"
   ]
  },
  {
   "cell_type": "code",
   "execution_count": 312,
   "metadata": {},
   "outputs": [
    {
     "data": {
      "text/latex": [
       "$\\displaystyle \\left[\\begin{matrix}1.0 & 0.499987500624021 & -0.124981247573444 & 0.062468548852249\\\\1.00004999875006 & 0.499962504374507 & -0.124962507008788 & 0\\\\1.0000999950005 & 0.499937511873105 & 0 & 0\\\\1.00014998875169 & 0 & 0 & 0\\end{matrix}\\right]$"
      ],
      "text/plain": [
       "Matrix([\n",
       "[             1.0, 0.499987500624021, -0.124981247573444, 0.062468548852249],\n",
       "[1.00004999875006, 0.499962504374507, -0.124962507008788,                 0],\n",
       "[ 1.0000999950005, 0.499937511873105,                  0,                 0],\n",
       "[1.00014998875169,                 0,                  0,                 0]])"
      ]
     },
     "execution_count": 312,
     "metadata": {},
     "output_type": "execute_result"
    }
   ],
   "source": [
    "N(m)"
   ]
  },
  {
   "cell_type": "markdown",
   "metadata": {},
   "source": [
    "Vemos que con $h$ más pequeños, el valor se asemeja más al verdadero de 0.375"
   ]
  },
  {
   "cell_type": "code",
   "execution_count": null,
   "metadata": {},
   "outputs": [],
   "source": [
    "p_diff, p, m =  derivacion_polinomio_newton(f=sqrt(x), x0=1, var=symbols('x'), grado=3, h=0.0000001)\n",
    "N(p_diff)"
   ]
  },
  {
   "cell_type": "code",
   "execution_count": null,
   "metadata": {},
   "outputs": [],
   "source": [
    "p_diff, p, m =  derivacion_polinomio_newton(f=sqrt(x), x0=1, var=symbols('x'), grado=3, h=0.000000001)\n",
    "N(p_diff)"
   ]
  },
  {
   "cell_type": "markdown",
   "metadata": {},
   "source": [
    "Sin embargo, como antes, si tomamos $h$ extremadamente pequeños, el cálculo se nos va de madre."
   ]
  },
  {
   "cell_type": "markdown",
   "metadata": {},
   "source": [
    "## Cálculo de error en derivadas\n",
    "Muchas veces nos interesa poder hallar el error de aproximación de la derivada, para ver hasta qué punto nos parece una aproximación adecuada.\n",
    "Recordemos que la expansión de Taylor de $f(x)$ en $x=a$ es:\n",
    "$$f(x) = f(a) + f'(a)(x-a) + \\frac{f^{(2)}(a)}{2!}(x-a)^2 + \\frac{f^{(3)}(a)}{3!}(x-a)^3 + \\cdots$$\n",
    "Si sustituimos $x$ for $x+h$ y tomando $a$ como $x-h$, la fórmula anterior queda como:\n",
    "$$f(x+h) = f(x) + f'(x)h + \\frac{f^{(2)}(x)}{2!}h^2 + \\frac{f^{(3)}(x)}{3!}h^3 + \\cdots$$\n",
    "Resolviendo para $f'(x)$ tenemos:\n",
    "$$ f'(x) = \\frac{f(x+h) - f(x)}{h} - \\frac{f^{(2)}(x)}{2!}h - \\frac{f^{(3)}(x)}{3!}h^2 - \\cdots$$\n",
    "\n",
    "Luego el error de aproximación pertenecería a los términos de derivada segunda y superiores. Para simplificar, nos quedamos solo con el término de derivada segunda y se cumple que, para un $c \\in [x, x+h]$\n",
    "$$f'(x) = \\frac{f(x+h) - f(x)}{h} - \\frac{f^{(2)}(c)}{2!}h$$\n",
    "De modo que podemos acotar el error.\n",
    "\n",
    "Esta estrategia de cálculo de error la emplearemos después en otros métodos."
   ]
  },
  {
   "cell_type": "markdown",
   "metadata": {},
   "source": [
    "## Derivación con polinomios de Lagrange\n",
    "Otro método es construyendo polinomios de Lagrange. Recordemos que los polinomios vienen dados por la fórmula:\n",
    "$$p_n(x) = \\sum_{i=0}^n l_i(x)f(x_i)$$\n",
    "Si aplicamos una derivación a $p_n(x)$ en $\\bar{x}_0$ obtenemos el siguiente polinomio:\n",
    "$$D(f)(\\bar{x_0}) = \\sum_{i = 0}^n l'_i(\\bar{x}_0)f(x_i)$$\n",
    "$\\bar{x_0}$ es un punto cualquiera del intervalo, y puede o no coincidir con alguno de los nodos.\n",
    "\n",
    "Recordemos que la construcción de $p(x)$ viene dada por la base $\\{1, x, \\cdots, x^n\\}$ y cada termino es $x^j = \\sum_{i=0}^n l_i(x)x^j$, de modo que, matricialmente, $p(x)$ se construye como:\n",
    "$$\\begin{bmatrix}\n",
    "1 & 1 & \\cdots & 1 \\\\\n",
    "x_0 & x_1 & \\cdots & x_n\\\\\n",
    "\\vdots & \\vdots & \\ddots & \\vdots\\\\\n",
    "x_0^n & x_1^n & \\cdots & x_n^n\\\\\n",
    "\\end{bmatrix}\n",
    "\\begin{bmatrix}\n",
    "l_0\\\\\n",
    "l_1\\\\\n",
    "\\vdots\\\\\n",
    "l_n\\\\\n",
    "\\end{bmatrix} = \n",
    "\\begin{bmatrix}\n",
    "1\\\\\n",
    "x\\\\\n",
    "\\vdots\\\\\n",
    "x^n\n",
    "\\end{bmatrix}\n",
    "$$\n",
    "\n",
    "Si derivamos $r$ veces en $\\bar{x}_0$, acabamos con el sistema:\n",
    "$$\\begin{bmatrix}\n",
    "1 & 1 & \\cdots & 1 \\\\\n",
    "x_0 & x_1 & \\cdots & x_n\\\\\n",
    "\\vdots & \\vdots & \\ddots & \\vdots\\\\\n",
    "x_0^n & x_1^n & \\cdots & x_n^n\\\\\n",
    "\\end{bmatrix}\n",
    "\\begin{bmatrix}\n",
    "l^{(r)}_0=a_0\\\\\n",
    "l^{(r)}_1=a_1\\\\\n",
    "\\vdots\\\\\n",
    "l^{(r)}_n=a_n\\\\\n",
    "\\end{bmatrix} = \n",
    "\\begin{bmatrix}\n",
    "0\\\\\n",
    "0\\\\\n",
    "\\vdots\\\\\n",
    "(n)(n-1)\\cdots(n-r)\\bar{x}_0^{n-r}\n",
    "\\end{bmatrix}\n",
    "$$"
   ]
  },
  {
   "cell_type": "code",
   "execution_count": null,
   "metadata": {},
   "outputs": [],
   "source": [
    "help(polinomio_lagrange_derivada)"
   ]
  },
  {
   "cell_type": "markdown",
   "metadata": {},
   "source": [
    "TODO: implementar la función de error"
   ]
  },
  {
   "cell_type": "code",
   "execution_count": 324,
   "metadata": {},
   "outputs": [
    {
     "data": {
      "text/plain": [
       "(f(1) - 2*f(2) + f(3), 12)"
      ]
     },
     "execution_count": 324,
     "metadata": {},
     "output_type": "execute_result"
    }
   ],
   "source": [
    "polinomio_lagrange_derivada(f=x**3, x0=2, x_vals=[1, 2, 3], var=symbols('x'), grado=2)"
   ]
  },
  {
   "cell_type": "markdown",
   "metadata": {},
   "source": [
    "## Método de extrapolación de Richardson\n",
    "Para explicar el método me voy a basar en la explicación de Wikipedia, que generaliza mejor, con cambios de notación. https://en.wikipedia.org/wiki/Richardson_extrapolation\n",
    "\n",
    "Supongamos que tenemos una función $N(h)$, que la empleamos como aproximación a la derivada en $h=0$, $N(0)$. La función $N(h)$ va a tener una expansión del error del siguiente modo:\n",
    "$$N(h) = N(0) + a_0h^{k_0} + a_1h^{k_1} + a_2h^{k_2} + \\cdots$$\n",
    "\n",
    "En primer lugar, tomamos un parametro $r$, de modo que podemos sustituir $h$ por $rh$ del siguiente modo:\n",
    "$$N(rh) = N(0) + a_0(rh)^{k_0} + a_1(rh)^{k_1} + a_2(rh)^{k_2} + \\cdots$$\n",
    "\n",
    "Si multiplicamos por $(r)^{k_0}$ y restamos tenemos que:\n",
    "$$r^{k_0}N(h) =  N(0) + a_0r^{k_0}h^{k_0} + a_1r^{k_0}h^{k_1} + a_2r^{k_0}h^{k_2} + \\cdots$$\n",
    "\n",
    "$$r^{k_0}N(h) -  N(rh)=  N(0) + (r^{k_0} - r^{k_1})a_1h^{k_1} + (r^{k_0} - r^{k_2})a_2h^{k_2} + \\cdots$$\n",
    "\n",
    "Luego\n",
    "$$N_1(h) = \\frac{r^{k_0}N(h) -  N(rh)}{r^{k_0} - 1}= N(0) + \\frac{r^{k_0} - r^{k_1}}{r^{k_0} - 1}a_1h^{k_1} + \\frac{r^{k_0} - r^{k_2}}{r^{k_0} - 1}a_2h^{k_2} + \\cdots$$\n",
    "\n",
    "Vemos que ahora tenemos una nueva función, $N_1(h)$, que depende de $a_1h^{k_1} + a_2h^{k_2} + \\cdots$, luego hemos reducido su error, ya que $\\frac{r^{k_0} - r^{k_1}}{r^{k_0} - 1}$ tiene menos influencia que el orden de $h$. Con iteraciones sucesivas podemos hacer este error tan pequeño como veamos, dentro de la capacidad de error aritmética de $r^nh$ para el ordenador.\n",
    "\n",
    "Generalizando, la fórmula final es:\n",
    "$$N_a(r^bh) = \\frac{r^{m+a-1}N(r^bh) - N(r^{b+1}h)}{r^{m+a-1} - 1}$$\n",
    "\n",
    "El valor $m=k_0$ depende de $N(h)$. Si, por ejemplo, $N(h) = \\frac{f(x+h) - f(x-h)}{2h}$, considerando los desarrollos de Taylor:\n",
    "$$f(x+h) = f(x) + f'(x)fh + \\frac{1}{2}f''(x)h^2 + \\frac{1}{3!}f'''(x)h^3 + \\frac{1}{4!}f''''(x)h^4 + \\cdots$$\n",
    "$$f(x-h) = f(x) - f'(x)fh + \\frac{1}{2}f''(x)h^2 - \\frac{1}{3!}f'''(x)h^3 + \\frac{1}{4!}f''''(x)h^4 + \\cdots$$\n",
    "\n",
    "Se tiene que $N(h) = f'(x) + \\frac{h^2}{3!}f'''(x) + \\frac{h^4}{5!}f^{(5)}(x) +\\cdots$, luego $m=2$\n",
    "\n",
    "Para simplificar los cálulos, se hace un cálculo tabular de todas estas sucesiones. Para ello se hacen los cálculos de la siguiente manera:\n",
    "$$\n",
    "\\begin{matrix}\n",
    "h & N(h) & N_1(h) & N_2(h) & N_3(h) \\\\\n",
    "rh & N(rh) & N_1(rh) & N_2(rh) & \\cdots \\\\\n",
    "r^2h & N(r^2h) & N_1(r^2h) & \\cdots & \\cdots \\\\\n",
    "r^3h & N(r^3h) & \\cdots & \\cdots & \\cdots \\\\\n",
    "\\vdots & \\vdots & \\vdots & \\vdots & \\ddots \\\\\n",
    "\\end{matrix}\n",
    "$$"
   ]
  },
  {
   "cell_type": "code",
   "execution_count": null,
   "metadata": {},
   "outputs": [],
   "source": [
    "help(derivada_richardson)"
   ]
  },
  {
   "cell_type": "markdown",
   "metadata": {},
   "source": [
    "#### EJERCICIO 60"
   ]
  },
  {
   "cell_type": "code",
   "execution_count": 325,
   "metadata": {},
   "outputs": [
    {
     "data": {
      "text/latex": [
       "$\\displaystyle \\frac{\\sin{\\left(2 \\pi h \\right)}}{h}$"
      ],
      "text/plain": [
       "sin(2*pi*h)/h"
      ]
     },
     "execution_count": 325,
     "metadata": {},
     "output_type": "execute_result"
    }
   ],
   "source": [
    "f = sin(2*pi*x)\n",
    "x0, r, h = 0, 0.5, 0.5\n",
    "\n",
    "val, matriz_r = derivada_richardson(f=f, x0=x0, r=r, h=h, grado=3)\n",
    "val"
   ]
  },
  {
   "cell_type": "code",
   "execution_count": 326,
   "metadata": {},
   "outputs": [
    {
     "data": {
      "text/latex": [
       "$\\displaystyle \\left[\\begin{matrix}0 & \\frac{16}{3} & - \\frac{16}{7} + \\frac{128 \\sqrt{2}}{21}\\\\4 & - \\frac{4}{3} + \\frac{16 \\sqrt{2}}{3} & 0\\\\4 \\sqrt{2} & 0 & 0\\end{matrix}\\right]$"
      ],
      "text/plain": [
       "Matrix([\n",
       "[        0,                16/3, -16/7 + 128*sqrt(2)/21],\n",
       "[        4, -4/3 + 16*sqrt(2)/3,                      0],\n",
       "[4*sqrt(2),                   0,                      0]])"
      ]
     },
     "execution_count": 326,
     "metadata": {},
     "output_type": "execute_result"
    }
   ],
   "source": [
    "matriz_r"
   ]
  },
  {
   "cell_type": "markdown",
   "metadata": {},
   "source": [
    "#### EJEMPLO de HTML"
   ]
  },
  {
   "cell_type": "code",
   "execution_count": 333,
   "metadata": {},
   "outputs": [
    {
     "data": {
      "text/latex": [
       "$\\displaystyle \\left[\\begin{matrix}0.708073418273571 & 0.839769340872369 & 0.841589786201375 & 0.841471304382195 & 0.841470979732107 & 0.841470984805716\\\\0.80684536022267 & 0.841362230535249 & 0.841478709495894 & 0.841470989877422 & 0.841470984726441 & 0\\\\0.832733012957104 & 0.841464149625813 & 0.841471472353576 & 0.841470984887409 & 0 & 0\\\\0.839281365458636 & 0.841470557012606 & 0.841471015354044 & 0 & 0 & 0\\\\0.840923259124113 & 0.841470958061364 & 0 & 0 & 0 & 0\\\\0.841334033327051 & 0 & 0 & 0 & 0 & 0\\end{matrix}\\right]$"
      ],
      "text/plain": [
       "Matrix([\n",
       "[0.708073418273571, 0.839769340872369, 0.841589786201375, 0.841471304382195, 0.841470979732107, 0.841470984805716],\n",
       "[ 0.80684536022267, 0.841362230535249, 0.841478709495894, 0.841470989877422, 0.841470984726441,                 0],\n",
       "[0.832733012957104, 0.841464149625813, 0.841471472353576, 0.841470984887409,                 0,                 0],\n",
       "[0.839281365458636, 0.841470557012606, 0.841471015354044,                 0,                 0,                 0],\n",
       "[0.840923259124113, 0.841470958061364,                 0,                 0,                 0,                 0],\n",
       "[0.841334033327051,                 0,                 0,                 0,                 0,                 0]])"
      ]
     },
     "execution_count": 333,
     "metadata": {},
     "output_type": "execute_result"
    }
   ],
   "source": [
    "f = -cos(x)\n",
    "x0, r, h = 1, 0.5, 1\n",
    "\n",
    "val, matriz_r = derivada_richardson(f=f, x0=x0, r=r, h=h, grado=6)\n",
    "N(matriz_r)"
   ]
  },
  {
   "cell_type": "code",
   "execution_count": 334,
   "metadata": {},
   "outputs": [
    {
     "data": {
      "text/latex": [
       "$\\displaystyle 2.1804797972089 \\cdot 10^{-12}$"
      ],
      "text/plain": [
       "2.18047979720890e-12"
      ]
     },
     "execution_count": 334,
     "metadata": {},
     "output_type": "execute_result"
    }
   ],
   "source": [
    "N(sin(1) - N(matriz_r)[0, -1])"
   ]
  },
  {
   "cell_type": "code",
   "execution_count": 330,
   "metadata": {},
   "outputs": [
    {
     "data": {
      "text/latex": [
       "$\\displaystyle \\left[\\begin{matrix}0.708073418273571 & 0.841402525295656 & 0.841471046318345 & 0.84147098480803 & 0.841470984807257 & 0.841470984811099 & 0.841470984780177 & 0.841470985117184\\\\0.840069234225435 & 0.841470977797322 & 0.841470984814181 & 0.841470984807257 & 0.841470984811099 & 0.841470984780177 & 0.841470985117184 & 0\\\\0.841456960361603 & 0.841470984807164 & 0.841470984807258 & 0.841470984811099 & 0.841470984780177 & 0.841470985117184 & 0 & 0\\\\0.841470844562708 & 0.841470984807258 & 0.841470984811099 & 0.841470984780177 & 0.841470985117184 & 0 & 0 & 0\\\\0.841470983404813 & 0.841470984811095 & 0.84147098478018 & 0.841470985117181 & 0 & 0 & 0 & 0\\\\0.841470984797032 & 0.841470984780211 & 0.841470985117147 & 0 & 0 & 0 & 0 & 0\\\\0.841470984780379 & 0.84147098511681 & 0 & 0 & 0 & 0 & 0 & 0\\\\0.841470985113446 & 0 & 0 & 0 & 0 & 0 & 0 & 0\\end{matrix}\\right]$"
      ],
      "text/plain": [
       "Matrix([\n",
       "[0.708073418273571, 0.841402525295656, 0.841471046318345,  0.84147098480803, 0.841470984807257, 0.841470984811099, 0.841470984780177, 0.841470985117184],\n",
       "[0.840069234225435, 0.841470977797322, 0.841470984814181, 0.841470984807257, 0.841470984811099, 0.841470984780177, 0.841470985117184,                 0],\n",
       "[0.841456960361603, 0.841470984807164, 0.841470984807258, 0.841470984811099, 0.841470984780177, 0.841470985117184,                 0,                 0],\n",
       "[0.841470844562708, 0.841470984807258, 0.841470984811099, 0.841470984780177, 0.841470985117184,                 0,                 0,                 0],\n",
       "[0.841470983404813, 0.841470984811095,  0.84147098478018, 0.841470985117181,                 0,                 0,                 0,                 0],\n",
       "[0.841470984797032, 0.841470984780211, 0.841470985117147,                 0,                 0,                 0,                 0,                 0],\n",
       "[0.841470984780379,  0.84147098511681,                 0,                 0,                 0,                 0,                 0,                 0],\n",
       "[0.841470985113446,                 0,                 0,                 0,                 0,                 0,                 0,                 0]])"
      ]
     },
     "execution_count": 330,
     "metadata": {},
     "output_type": "execute_result"
    }
   ],
   "source": [
    "f = -cos(x)\n",
    "x0, r, h = 1, 0.1, 1\n",
    "\n",
    "val, matriz_r = derivada_richardson(f=f, x0=x0, r=r, h=h, grado=8)\n",
    "N(matriz_r)"
   ]
  },
  {
   "cell_type": "code",
   "execution_count": 332,
   "metadata": {},
   "outputs": [
    {
     "data": {
      "text/latex": [
       "$\\displaystyle -3.09287482735465 \\cdot 10^{-10}$"
      ],
      "text/plain": [
       "-3.09287482735465e-10"
      ]
     },
     "execution_count": 332,
     "metadata": {},
     "output_type": "execute_result"
    }
   ],
   "source": [
    "N(sin(1) - N(matriz_r)[0, -1])"
   ]
  },
  {
   "cell_type": "markdown",
   "metadata": {},
   "source": [
    "# Integración numérica"
   ]
  },
  {
   "cell_type": "markdown",
   "metadata": {},
   "source": [
    "## Cuadratura basada en la interporlación\n",
    "\n",
    "El método de cuadratura basado en intepolación está basado en el polinomio de Legendre. La metodología es la misma que para la derivada, solo que sustituyendo la derivada con la integral.\n",
    "\n",
    "$$\\begin{bmatrix}\n",
    "1 & 1 & \\cdots & 1 \\\\\n",
    "x_0 & x_1 & \\cdots & x_n\\\\\n",
    "\\vdots & \\vdots & \\ddots & \\vdots\\\\\n",
    "x_0^n & x_1^n & \\cdots & x_n^n\\\\\n",
    "\\end{bmatrix}\n",
    "\\begin{bmatrix}\n",
    "l^{(r)}_0=a_0\\\\\n",
    "l^{(r)}_1=a_1\\\\\n",
    "\\vdots\\\\\n",
    "l^{(r)}_n=a_n\\\\\n",
    "\\end{bmatrix} = \n",
    "\\begin{bmatrix}\n",
    "\\int_a^b 1 dx = b-a\\\\\n",
    "\\int_a^b x dx =  \\frac{b^2-a^2}{2}\\\\\n",
    "\\vdots\\\\\n",
    "\\int_a^b x^n dx =  \\frac{b^{n+1}-a^{n+1}}{n+1}\n",
    "\\end{bmatrix}\n",
    "$$\n",
    "\n",
    "Para el método de newton, el sistema de matrices a resolver es:\n",
    "$$\\begin{bmatrix}\n",
    "1 & 1 & \\cdots & 1 \\\\\n",
    "0 & \\omega_1(x_1) & \\cdots & \\omega_1(x_n)\\\\\n",
    "\\vdots & \\vdots & \\ddots & \\vdots\\\\\n",
    "0 & 0 & \\cdots & \\omega_n(x_n)\\\\\n",
    "\\end{bmatrix}\n",
    "\\begin{bmatrix}\n",
    "l_0\\\\\n",
    "l_1\\\\\n",
    "\\vdots\\\\\n",
    "l_n\\\\\n",
    "\\end{bmatrix} = \n",
    "\\begin{bmatrix}\n",
    "1\\\\\n",
    "\\omega_1\\\\\n",
    "\\vdots\\\\\n",
    "\\omega_n\n",
    "\\end{bmatrix}\n",
    "$$\n",
    "\n",
    "Donde $\\omega_i(x) = (x-x_0)(x-x_1)\\cdots(x-x_{i-1})$\n",
    "\n",
    "Si integramos el rhs tenemos el sistema:\n",
    "$$\\begin{bmatrix}\n",
    "1 & 1 & \\cdots & 1 \\\\\n",
    "0 & \\omega_1(x_1) & \\cdots & \\omega_1(x_n)\\\\\n",
    "\\vdots & \\vdots & \\ddots & \\vdots\\\\\n",
    "0 & 0 & \\cdots & \\omega_n(x_n)\\\\\n",
    "\\end{bmatrix}\n",
    "\\begin{bmatrix}\n",
    "l_0\\\\\n",
    "l_1\\\\\n",
    "\\vdots\\\\\n",
    "l_n\\\\\n",
    "\\end{bmatrix} = \n",
    "\\begin{bmatrix}\n",
    "\\int_a^b dx\\\\\n",
    "\\int_a^b \\omega_1(x) dx\\\\\n",
    "\\vdots\\\\\n",
    "\\int_a^b \\omega_n(x) dx\n",
    "\\end{bmatrix}\n",
    "$$"
   ]
  },
  {
   "cell_type": "code",
   "execution_count": null,
   "metadata": {},
   "outputs": [],
   "source": [
    "help(polinomio_lagrange_integracion)"
   ]
  },
  {
   "cell_type": "code",
   "execution_count": null,
   "metadata": {},
   "outputs": [],
   "source": [
    "help(polinomio_newton_integracion)"
   ]
  },
  {
   "cell_type": "markdown",
   "metadata": {},
   "source": [
    "TODO: implementar la función de error"
   ]
  },
  {
   "cell_type": "markdown",
   "metadata": {},
   "source": [
    "#### EJERCICIO 61"
   ]
  },
  {
   "cell_type": "code",
   "execution_count": 336,
   "metadata": {},
   "outputs": [
    {
     "data": {
      "text/latex": [
       "$\\displaystyle \\frac{8 f{\\left(1 \\right)}}{3} - \\frac{4 f{\\left(2 \\right)}}{3} + \\frac{8 f{\\left(3 \\right)}}{3}$"
      ],
      "text/plain": [
       "8*f(1)/3 - 4*f(2)/3 + 8*f(3)/3"
      ]
     },
     "execution_count": 336,
     "metadata": {},
     "output_type": "execute_result"
    }
   ],
   "source": [
    "p, v = polinomio_lagrange_integracion(f=x, x_vals=[1, 2, 3], I=[0, 4])\n",
    "p"
   ]
  },
  {
   "cell_type": "code",
   "execution_count": 342,
   "metadata": {},
   "outputs": [
    {
     "data": {
      "text/latex": [
       "$\\displaystyle \\frac{8 f{\\left(1 \\right)}}{3} - \\frac{4 f{\\left(2 \\right)}}{3} + \\frac{8 f{\\left(3 \\right)}}{3}$"
      ],
      "text/plain": [
       "8*f(1)/3 - 4*f(2)/3 + 8*f(3)/3"
      ]
     },
     "execution_count": 342,
     "metadata": {},
     "output_type": "execute_result"
    }
   ],
   "source": [
    "p, v = polinomio_newton_integracion(f=x, x_vals=[1, 2, 3], I=[0, 4])\n",
    "p"
   ]
  },
  {
   "cell_type": "markdown",
   "metadata": {},
   "source": [
    "#### EJERCICIO 62"
   ]
  },
  {
   "cell_type": "code",
   "execution_count": null,
   "metadata": {},
   "outputs": [],
   "source": [
    "p, v = polinomio_lagrange_integracion(x_vals=roots_chebyshev(2, I=[-1, 1]), I=[-1, 1])\n",
    "p"
   ]
  },
  {
   "cell_type": "markdown",
   "metadata": {},
   "source": [
    "## Estimación del error de cuadratura\n",
    "\n",
    "El error de cuadratura viene definido como \n",
    "$$e=\\int_a^bf(x)dx - Q(f)$$\n",
    "\n",
    "Y se tiene que\n",
    "$$|e| \\le \\frac{\\max_{\\xi \\in [a,b]} f^{(n+1)}(\\xi)}{(n+1)!} \\int_a^b|\\omega_{n+1}(x)| $$"
   ]
  },
  {
   "cell_type": "code",
   "execution_count": null,
   "metadata": {},
   "outputs": [],
   "source": [
    "help(error_cuadratura_integral)"
   ]
  },
  {
   "cell_type": "code",
   "execution_count": null,
   "metadata": {},
   "outputs": [],
   "source": [
    "#### EJERCICIO 62"
   ]
  },
  {
   "cell_type": "code",
   "execution_count": null,
   "metadata": {},
   "outputs": [],
   "source": [
    "e, max_diff_f, int_omega = error_cuadratura_integral(f=sin(pi*x), x_vals=roots_chebyshev(2, I=[-1, 1]), I=[-1, 1])\n",
    "e"
   ]
  },
  {
   "cell_type": "markdown",
   "metadata": {},
   "source": [
    "## Fórmulas cerradas de Newton-Cotes\n",
    "\n",
    "Una de las maneras de aproximar la integral de una función es dividirla en $n$ nodos y aproximar la integral mediante una función de tipo $\\int_a^bf(x)dx \\sim A_0f(a=x_0) + A_1f(x_1) + A_2f(x_2) + \\cdots + A_nf(x_n)$.\n",
    "\n",
    "Según el grado del polinomio de aproximación que queramos, tenemos las siguientes fórmulas:\n",
    "* grado 0 (extremo izquierdo): $\\int_a^b f(x) dx \\sim (b-a)f(a)$\n",
    "* grado 1 (trapecios): $\\int_a^b f(x) dx \\sim \\frac{b-a}{2}(f(a) + f(b))$\n",
    "* grado 2 (Simpson): $\\int_a^b f(x) dx \\sim \\frac{b-a}{6}(f(a) + 4f(\\frac{a+b}{2}) + f(b))$\n",
    "\n",
    "Que, quitando parafernalia, buscan una manera de aproximar con polinomios de diferentes grados la función entre $a$ y $b$. Obviamente, si la función es complicada, la aproximación no va a ser tan buena, pero para ello veremos métodos de como aplicarlo por partes.\n",
    "\n",
    "![irudia.png](../img/newton_cotes.png)\n",
    "\n",
    "¿Y cómo se puede hallar la aproximación para grado $n$? Para ello empleamos la cuadratura basada en la interpolación, que hemos visto antes:\n",
    "\n",
    "$$\\begin{bmatrix}\n",
    "1 & 1 & \\cdots & 1 \\\\\n",
    "x_0 & x_1 & \\cdots & x_n\\\\\n",
    "\\vdots & \\vdots & \\ddots & \\vdots\\\\\n",
    "x_0^n & x_1^n & \\cdots & x_n^n\\\\\n",
    "\\end{bmatrix}\n",
    "\\begin{bmatrix}\n",
    "\\alpha_0\\\\\n",
    "\\alpha_1\\\\\n",
    "\\vdots\\\\\n",
    "\\alpha_n\\\\\n",
    "\\end{bmatrix} = \n",
    "\\begin{bmatrix}\n",
    "\\int_a^b 1 dx = b-a\\\\\n",
    "\\int_a^b x dx =  \\frac{b^2-a^2}{2}\\\\\n",
    "\\vdots\\\\\n",
    "\\int_a^b x^n dx =  \\frac{b^{n+1}-a^{n+1}}{n+1}\n",
    "\\end{bmatrix}\n",
    "$$\n",
    "\n",
    "De hecho, si aplicamos esto para grados 0, 1 y 2, obtenemos los $\\alpha_i$ de los casos de extremo izquierdo ($\\alpha_0 = 1$), trapecios ($\\alpha_0 = \\alpha_1 = 1/2$) y Simpson ($\\alpha_0 = \\alpha_2 = 1/6$, $\\alpha_2 = 2/3$)."
   ]
  },
  {
   "cell_type": "code",
   "execution_count": null,
   "metadata": {},
   "outputs": [],
   "source": [
    "help(formulas_newton_cotes)"
   ]
  },
  {
   "cell_type": "markdown",
   "metadata": {},
   "source": [
    "#### EJERCICIO 63\n"
   ]
  },
  {
   "cell_type": "code",
   "execution_count": 343,
   "metadata": {},
   "outputs": [
    {
     "data": {
      "text/latex": [
       "$\\displaystyle 10 f{\\left(-5 \\right)}$"
      ],
      "text/plain": [
       "10*f(-5)"
      ]
     },
     "execution_count": 343,
     "metadata": {},
     "output_type": "execute_result"
    }
   ],
   "source": [
    "Q, val = formulas_newton_cotes(1/(1+x**2), orden=0, I=[-5, 5])\n",
    "Q"
   ]
  },
  {
   "cell_type": "code",
   "execution_count": null,
   "metadata": {},
   "outputs": [],
   "source": [
    "Q, val = formulas_newton_cotes(1/(1+x**2), orden=1, I=[-5, 5])\n",
    "Q"
   ]
  },
  {
   "cell_type": "code",
   "execution_count": null,
   "metadata": {},
   "outputs": [],
   "source": [
    "Q, val = formulas_newton_cotes(1/(1+x**2), orden=2, I=[-5, 5])\n",
    "Q"
   ]
  },
  {
   "cell_type": "code",
   "execution_count": null,
   "metadata": {},
   "outputs": [],
   "source": [
    "Q, val = formulas_newton_cotes(1/(1+x**2), orden=3, I=[-5, 5])\n",
    "Q"
   ]
  },
  {
   "cell_type": "code",
   "execution_count": null,
   "metadata": {},
   "outputs": [],
   "source": [
    "Q, val = formulas_newton_cotes(1/(1+x**2), orden=4, I=[-5, 5])\n",
    "Q"
   ]
  },
  {
   "cell_type": "code",
   "execution_count": null,
   "metadata": {},
   "outputs": [],
   "source": [
    "for i in range(1, 15):\n",
    "    Q, val = formulas_newton_cotes(1/(1+x**2), orden=i, I=[-5, 5])\n",
    "    print(i, val)"
   ]
  },
  {
   "cell_type": "markdown",
   "metadata": {},
   "source": [
    "### Error de la fórmula de cuadratura del trapecio y de newton\n",
    "\n",
    "Para una aproximación de grado $n$, el error de aproximación viene definido por:\n",
    "$$e_n(f) = \\int_a^bf[a=x_0, x_1, x_2, \\cdots, x_n=b]\\omega_n(x)dx$$\n",
    "\n",
    "Para el caso del trapecio (grado 1) el error es: \n",
    "$$e_1(f) = \\frac{\\max_{\\eta \\in [a,b]} |f''(\\eta)|}{12}(b-a)^3$$\n",
    "\n",
    "Para el caso del trapecio (grado 2) el error es: \n",
    "$$e_2(f) = \\frac{\\max_{\\eta \\in [a,b]} |f^{(4)}(\\eta)|}{90}\\left(\\frac{b-a}{2}\\right)^5$$\n",
    "\n",
    "Para $\\eta \\in [a, b]$"
   ]
  },
  {
   "cell_type": "code",
   "execution_count": null,
   "metadata": {},
   "outputs": [],
   "source": [
    "help(error_trapecio)\n",
    "help(error_simpson)"
   ]
  },
  {
   "cell_type": "code",
   "execution_count": null,
   "metadata": {},
   "outputs": [],
   "source": [
    "e, max_diff, int_omega = error_trapecio(1/(1+x**2), I=[-5, 5])\n",
    "N(e)"
   ]
  },
  {
   "cell_type": "code",
   "execution_count": null,
   "metadata": {},
   "outputs": [],
   "source": [
    "e, max_diff, int_omega = error_cuadratura_integral(1/(1+x**2), x_vals=[-5, 5], I=[-5, 5])\n",
    "N(e)"
   ]
  },
  {
   "cell_type": "code",
   "execution_count": null,
   "metadata": {},
   "outputs": [],
   "source": [
    "e, max_diff, int_omega = error_simpson(1/(1+x**2), I=[-5, 5])\n",
    "N(e)"
   ]
  },
  {
   "cell_type": "code",
   "execution_count": null,
   "metadata": {},
   "outputs": [],
   "source": [
    "e, max_diff, int_omega = error_cuadratura_integral(1/(1+x**2), x_vals=[-5, 0, 5], I=[-5, 5])\n",
    "N(e)"
   ]
  },
  {
   "cell_type": "markdown",
   "metadata": {},
   "source": [
    "## Cuadratura compuesta\n",
    "\n",
    "Uno de los problemas clásicos de emplear los polinomios de cuadratura para aproximar las integrales es que, para funciones complejas, con máximos y mínimos, la aproximación deja de ser buena para grados altos. Cojamos por ejemplo, $f(x) = x + sin^2(x)$ en $x \\in [0, 2\\pi]$\n"
   ]
  },
  {
   "cell_type": "code",
   "execution_count": null,
   "metadata": {},
   "outputs": [],
   "source": [
    "from sympy.plotting import plot\n",
    "\n",
    "p1 = plot(1/(1+x**2), (x, -4, 4), ylim=[0,1], axis_center=(0,0))"
   ]
  },
  {
   "cell_type": "code",
   "execution_count": null,
   "metadata": {},
   "outputs": [],
   "source": [
    "N(Integral(1/(1+x**2), (x, -4, 4)).doit())"
   ]
  },
  {
   "cell_type": "code",
   "execution_count": null,
   "metadata": {},
   "outputs": [],
   "source": [
    "for i in range(1, 15):\n",
    "    Q, val = formulas_newton_cotes(1/(1+x**2), orden=i, I=[-4, 4])\n",
    "    print(i, val)"
   ]
  },
  {
   "cell_type": "markdown",
   "metadata": {},
   "source": [
    "Vemos que los valores de la integral se van para $n$ altos. Esto tiene sentido en base a lo que hemos visto del fenómeno de Runge y las aproximaciones de grado alto de ciertas funciones, que resultan en polinomios que pueden interpolar bien, pero ser poco efectivos fuera de los nodos.\n",
    "\n",
    "Para evitar saltos del estilo, podemos calcular en vez de un polinomio de cuadratura en $[a,b]$, calcular $m$ polinomios en el intervalo de $[a,b]$ divido $m$ veces: $[a = x_0, x_1,\\cdots, x_{m-1}, x_m=b]$, donde $h = x_i - x_{i-1} = x_{i+1} - x_{i} = \\frac{b-a}{m}$. Así, por ejemplo, la cuadratura de trapecios compuesta resultaría en la fórmula:\n",
    "$$Q_{1,m}(f) = \\sum_{i = 0}^{m-1} \\frac{h}{2}(f(x_i) + f(x_{i+1})$$\n",
    "El error de la fórmula es el mismo que el de $Q_1$, solo que propagado a lo largo de $m$ intervalos:\n",
    "$$E_{1,m}(f) = - \\sum_{i = 0}^{m-1}\\frac{f''(\\eta_i)}{12}h^3$$\n",
    "Del teorema del valor intermedio podemos simplificar la expresión, teniendo en mente que existe un $\\eta \\in [a,b]$ tal que:\n",
    "$$E_{1,m}(f) = - \\frac{f''(\\eta)}{12}mh^3 = - \\frac{f''(\\eta)}{12}(b-a)h^2$$\n",
    "\n",
    "\n",
    "Para la cuadratura de Simpson se procede igual:\n",
    "$$Q_{2,m} = \\sum_{i = 0}^{m-1} \\frac{h}{6}(f(x_{2i}) + 4f(x_{2i+1}) + f(x_{2(i+1)}))$$\n",
    "Aqui el intervalo, aunque está dividido en $m$ partes, para calcular la cuadratura por intervalo, se subdivide en 2 partes, de ahí el $2m$.\n",
    "\n",
    "El error de la cuadratura de Simpson es:\n",
    "$$E_{2,m}(f) = - \\sum_{i = 0}^{m-1}\\frac{f^{(4)}(\\eta_i)}{90}\\left(\\frac{h}{2}\\right)^5  \\rightarrow - \\frac{f^{(4)}(\\eta)}{90}m\\left(\\frac{h}{2}\\right)^5 = \n",
    "- \\frac{f^{(4)}(\\eta)}{180}(b-a)\\left(\\frac{h}{2}\\right)^4$$"
   ]
  },
  {
   "cell_type": "code",
   "execution_count": null,
   "metadata": {},
   "outputs": [],
   "source": [
    "help(formulas_newton_cotes_m)"
   ]
  },
  {
   "cell_type": "markdown",
   "metadata": {},
   "source": [
    "#### EJEMPLO 34"
   ]
  },
  {
   "cell_type": "code",
   "execution_count": null,
   "metadata": {},
   "outputs": [],
   "source": [
    "Q_12, val_12 = formulas_newton_cotes_m(f=x**4, orden=1, m=2, I=[0, 1], var=symbols('x'))\n",
    "Q_12"
   ]
  },
  {
   "cell_type": "code",
   "execution_count": null,
   "metadata": {},
   "outputs": [],
   "source": [
    "val_12"
   ]
  },
  {
   "cell_type": "code",
   "execution_count": null,
   "metadata": {},
   "outputs": [],
   "source": [
    "Q_14, val_14 = formulas_newton_cotes_m(f=x**4, orden=1, m=4, I=[0, 1], var=symbols('x'))\n",
    "Q_14"
   ]
  },
  {
   "cell_type": "code",
   "execution_count": null,
   "metadata": {},
   "outputs": [],
   "source": [
    "val_14"
   ]
  },
  {
   "cell_type": "code",
   "execution_count": null,
   "metadata": {},
   "outputs": [],
   "source": [
    "Q_22, val_22 = formulas_newton_cotes_m(f=x**4, orden=2, m=2, I=[0, 1], var=symbols('x'))\n",
    "Q_22"
   ]
  },
  {
   "cell_type": "code",
   "execution_count": null,
   "metadata": {},
   "outputs": [],
   "source": [
    "val_22"
   ]
  },
  {
   "cell_type": "code",
   "execution_count": null,
   "metadata": {},
   "outputs": [],
   "source": [
    "help(error_trapecio_m)\n",
    "help(error_simpson_m)"
   ]
  },
  {
   "cell_type": "markdown",
   "metadata": {},
   "source": [
    "#### EJERCICIO 64\n",
    "Vamos a resolver el ejercicio iterativamente. Vamos a ver para qué $m$ conseguimos un error menor a 0.0001."
   ]
  },
  {
   "cell_type": "code",
   "execution_count": null,
   "metadata": {},
   "outputs": [],
   "source": [
    "e, max_diff_f, factor_division = error_trapecio_m(f, I=I, m=symbols('m'), var=x)"
   ]
  },
  {
   "cell_type": "code",
   "execution_count": null,
   "metadata": {},
   "outputs": [],
   "source": [
    "e"
   ]
  },
  {
   "cell_type": "code",
   "execution_count": null,
   "metadata": {},
   "outputs": [],
   "source": [
    "solve_univariate_inequality(e < 0.0001, symbols('m'), False, Interval(0, S.Infinity))"
   ]
  },
  {
   "cell_type": "code",
   "execution_count": null,
   "metadata": {},
   "outputs": [],
   "source": [
    "f = 1/x\n",
    "I = [1, 3]\n",
    "\n",
    "for i in range(100, 120):\n",
    "    e, max_diff_f, factor_division = error_trapecio_m(f, I=I, m=i, var=x)\n",
    "    print(i, e)"
   ]
  },
  {
   "cell_type": "markdown",
   "metadata": {},
   "source": [
    "Vemos como para $m=116$ el error es menor a $10^{-4}$. Vamos a calcular el valor de $\\ln 3$ para ese $m$"
   ]
  },
  {
   "cell_type": "code",
   "execution_count": null,
   "metadata": {},
   "outputs": [],
   "source": [
    "Q, val = formulas_newton_cotes_m(f=1/x, orden=1, m=116, I=[1, 3], var=symbols('x'))"
   ]
  },
  {
   "cell_type": "code",
   "execution_count": null,
   "metadata": {},
   "outputs": [],
   "source": [
    "N(val)"
   ]
  },
  {
   "cell_type": "code",
   "execution_count": null,
   "metadata": {},
   "outputs": [],
   "source": [
    "N(log(3))"
   ]
  },
  {
   "cell_type": "markdown",
   "metadata": {},
   "source": [
    "#### EJERCICIO 65\n",
    "\n",
    "En este caso tenemos que hallar $m$ para resolver $\\int_0^1 e^xdx$ con una exactitud de $10^{-5}$. Como tenemos programado para $m$ en lugar de $h$, lo hacemos así."
   ]
  },
  {
   "cell_type": "code",
   "execution_count": null,
   "metadata": {},
   "outputs": [],
   "source": [
    "f, I = E ** x, [0, 1]\n",
    "\n",
    "e, max_diff_f, factor_division = error_simpson_m(f=f, I=I, m=symbols('m'), var=x)"
   ]
  },
  {
   "cell_type": "code",
   "execution_count": null,
   "metadata": {},
   "outputs": [],
   "source": [
    "N(solve_univariate_inequality(e < 0.00001, symbols('m'), False, Interval(0, S.Infinity)))"
   ]
  },
  {
   "cell_type": "markdown",
   "metadata": {},
   "source": [
    "Vemos que $m > 3.11$, luego $m = 4$, tal y como lo proponen en el ejercicio."
   ]
  },
  {
   "cell_type": "code",
   "execution_count": null,
   "metadata": {},
   "outputs": [],
   "source": [
    "Q, val = formulas_newton_cotes_m(f=f, orden=2, m=4, I=I, var=symbols('x'))\n",
    "N(val)"
   ]
  },
  {
   "cell_type": "code",
   "execution_count": null,
   "metadata": {},
   "outputs": [],
   "source": [
    "Q"
   ]
  },
  {
   "cell_type": "markdown",
   "metadata": {},
   "source": [
    "Calculamos el valor de la integral. Sabemos que $\\int_0^1 e^x = e |_0^1 = e - 1$"
   ]
  },
  {
   "cell_type": "code",
   "execution_count": null,
   "metadata": {},
   "outputs": [],
   "source": [
    "N(E - 1)"
   ]
  },
  {
   "cell_type": "markdown",
   "metadata": {},
   "source": [
    "## Fórmulas de Gauss\n",
    "Recordemos la resolución de cuadratura por la matriz de Vandermonde\n",
    "\n",
    "$$\\begin{bmatrix}\n",
    "1 & 1 & \\cdots & 1 \\\\\n",
    "x_0 & x_1 & \\cdots & x_n\\\\\n",
    "\\vdots & \\vdots & \\ddots & \\vdots\\\\\n",
    "x_0^n & x_1^n & \\cdots & x_n^n\\\\\n",
    "\\end{bmatrix}\n",
    "\\begin{bmatrix}\n",
    "\\alpha_0\\\\\n",
    "\\alpha_1\\\\\n",
    "\\vdots\\\\\n",
    "\\alpha_n\\\\\n",
    "\\end{bmatrix} = \n",
    "\\begin{bmatrix}\n",
    "\\int_a^b 1 dx = b-a\\\\\n",
    "\\int_a^b x dx =  \\frac{b^2-a^2}{2}\\\\\n",
    "\\vdots\\\\\n",
    "\\int_a^b x^n dx =  \\frac{b^{n+1}-a^{n+1}}{n+1}\n",
    "\\end{bmatrix}\n",
    "$$\n",
    "\n",
    "En este caso, estamos estableciendo los nodos de manera equidistante, o arbitrariamente. En el mismo sentido de la aproximación de los polinomios, a la hora de resolver la cuadratura podemos escoger los valores $x_i$ de manera que la resolución de la cuadratura sea mejor. En este caso, los polinomios que establecen son los de Chebyshev y los de Legendre. \n",
    "Por tanto, el proceso es el mismo que el de la cuadratura al uso, pero sustituyendo los valores de x por el de las raices del polinomio de Chebyshev/Legendre del grado deseado.\n",
    "\n",
    "Como los polinomios están descritos en el intervalo $[-1, 1]$, si tenemos un problema en un intervalo $I = [a,b]$ podemos hacer un cambio de variable a $[-1, 1]$, una vez obtenidas las variables para la cuadratura, revertir el cambio de variable. Este cambio de variable **también cambia el valor de $\\alpha$!!!**\n",
    "\n",
    "Si $x = \\frac{b-a}{2} t + \\frac{b+a}{2}$ tenemos que $$\\hat{\\alpha}_i = \\int_{a}^{b} \\hat{l}_i dx = \\int_{-1}^{1} l_i(t) dt = \\frac{b-a}{2} \\alpha_i$$"
   ]
  },
  {
   "cell_type": "code",
   "execution_count": null,
   "metadata": {},
   "outputs": [],
   "source": [
    "help(formulas_gauss)"
   ]
  },
  {
   "cell_type": "markdown",
   "metadata": {},
   "source": [
    "#### EJERCICIO 66"
   ]
  },
  {
   "cell_type": "code",
   "execution_count": null,
   "metadata": {},
   "outputs": [],
   "source": [
    "Q, val = formulas_gauss(f=E**(-x**2), I=[0.2, 1.5], var=symbols('x'), grado=3, modo='legendre')\n",
    "Q"
   ]
  },
  {
   "cell_type": "code",
   "execution_count": null,
   "metadata": {},
   "outputs": [],
   "source": [
    "N(val)"
   ]
  },
  {
   "cell_type": "markdown",
   "metadata": {},
   "source": [
    "#### EJERCICIO 67"
   ]
  },
  {
   "cell_type": "code",
   "execution_count": null,
   "metadata": {},
   "outputs": [],
   "source": [
    "f = x ** symbols('n')\n",
    "I = [-1, 1]\n",
    "\n",
    "Q_leg, val_leg = formulas_gauss(f=f, I=I, var=symbols('x'), grado=2, modo='legendre')\n",
    "Q_leg"
   ]
  },
  {
   "cell_type": "code",
   "execution_count": null,
   "metadata": {},
   "outputs": [],
   "source": [
    "val_leg"
   ]
  },
  {
   "cell_type": "code",
   "execution_count": null,
   "metadata": {},
   "outputs": [],
   "source": [
    "Q_chev, val_chev = formulas_gauss(f=f, I=I, var=symbols('x'), grado=2, modo='chebyshev')\n",
    "Q_chev"
   ]
  },
  {
   "cell_type": "code",
   "execution_count": null,
   "metadata": {},
   "outputs": [],
   "source": [
    "val_chev"
   ]
  }
 ],
 "metadata": {
  "colab": {
   "include_colab_link": true,
   "name": "ANMI.ipynb",
   "provenance": [],
   "toc_visible": true
  },
  "kernelspec": {
   "display_name": "Python 3",
   "language": "python",
   "name": "python3"
  },
  "language_info": {
   "codemirror_mode": {
    "name": "ipython",
    "version": 3
   },
   "file_extension": ".py",
   "mimetype": "text/x-python",
   "name": "python",
   "nbconvert_exporter": "python",
   "pygments_lexer": "ipython3",
   "version": "3.8.5"
  }
 },
 "nbformat": 4,
 "nbformat_minor": 4
}
