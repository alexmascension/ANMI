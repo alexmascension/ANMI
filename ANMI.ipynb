{
  "nbformat": 4,
  "nbformat_minor": 0,
  "metadata": {
    "colab": {
      "name": "ANMI.ipynb",
      "provenance": [],
      "toc_visible": true,
      "authorship_tag": "ABX9TyPP7ThlrjaUIGQZMkMF/ElG",
      "include_colab_link": true
    },
    "kernelspec": {
      "name": "python3",
      "display_name": "Python 3"
    }
  },
  "cells": [
    {
      "cell_type": "markdown",
      "metadata": {
        "id": "view-in-github",
        "colab_type": "text"
      },
      "source": [
        "<a href=\"https://colab.research.google.com/github/alexmascension/ANMI/blob/main/ANMI.ipynb\" target=\"_parent\"><img src=\"https://colab.research.google.com/assets/colab-badge.svg\" alt=\"Open In Colab\"/></a>"
      ]
    },
    {
      "cell_type": "markdown",
      "metadata": {
        "id": "Vf3GioQwcepr"
      },
      "source": [
        "# Ejemplos de ANMI"
      ]
    },
    {
      "cell_type": "code",
      "metadata": {
        "id": "dYo_JGn2TSxC"
      },
      "source": [
        "from sympy import *\r\n",
        "from sympy.matrices import Matrix as mat\r\n",
        "import numpy as np\r\n",
        "from numpy.linalg import cond as numero_condicion\r\n",
        "from sympy.matrices import randMatrix"
      ],
      "execution_count": 1,
      "outputs": []
    },
    {
      "cell_type": "code",
      "metadata": {
        "id": "NTDmK4s0UYR_"
      },
      "source": [
        "M = mat(((1, 1, 1), (2, -1, 1), (1, 2, -2)))\r\n",
        "M = mat(((1, 2, 3, 4), (5, 6, 7, 8), (9, 10, 11, 11), (132, 14, 15, 170)))\r\n",
        "# M = mat(((2, 3 , 1), (1, 1 , 4), (4, 4, 1)))\r\n"
      ],
      "execution_count": 2,
      "outputs": []
    },
    {
      "cell_type": "code",
      "metadata": {
        "id": "51v7sEBd-e8Q",
        "outputId": "8d39fcb9-f50a-4e54-cf0c-81b3378b478f",
        "colab": {
          "base_uri": "https://localhost:8080/",
          "height": 78
        }
      },
      "source": [
        "mat(((1, 0 , 0), (1/2, 1 , 0), (1/4, 0, 1))) * mat(((4, 4, 1), (0, 1, 1/2), (0, 0, 15/4)))"
      ],
      "execution_count": 3,
      "outputs": [
        {
          "output_type": "execute_result",
          "data": {
            "text/latex": "$\\displaystyle \\left[\\begin{matrix}4 & 4 & 1\\\\2.0 & 3.0 & 1.0\\\\1.0 & 1.0 & 4.0\\end{matrix}\\right]$",
            "text/plain": [
              "Matrix([\n",
              "[  4,   4,   1],\n",
              "[2.0, 3.0, 1.0],\n",
              "[1.0, 1.0, 4.0]])"
            ]
          },
          "metadata": {
            "tags": []
          },
          "execution_count": 3
        }
      ]
    },
    {
      "cell_type": "markdown",
      "metadata": {
        "id": "OUovfpr3D_nl"
      },
      "source": [
        "## Tema 2"
      ]
    },
    {
      "cell_type": "code",
      "metadata": {
        "id": "h8jGltvuTOUP"
      },
      "source": [
        "def permutacion_matriz(U, fila_i, idx_max, verbose, P=None, r=None):\r\n",
        "      if verbose:\r\n",
        "        print(f'Permutamos fila {fila_i} con {idx_max[0]}')\r\n",
        "        print(f'U antes:\\n {np.array(U)}')\r\n",
        "        print(f'P antes:\\n {np.array(P)}')\r\n",
        "\r\n",
        "      if fila_i != idx_max[0]:\r\n",
        "        fila_origen, fila_destino = U[fila_i, :].copy(), U[idx_max[0], :].copy()\r\n",
        "        U[idx_max[0], :], U[fila_i, :] = fila_origen, fila_destino\r\n",
        "        if P is not None:\r\n",
        "          fila_origen, fila_destino = P[fila_i, :].copy(), P[idx_max[0], :].copy()\r\n",
        "          P[idx_max[0], :], P[fila_i, :] = fila_origen, fila_destino\r\n",
        "        if r is not None:\r\n",
        "          fila_origen, fila_destino = r[fila_i, :].copy(), r[idx_max[0], :].copy()\r\n",
        "          r[idx_max[0], :], r[fila_i, :] = fila_origen, fila_destino\r\n",
        "\r\n",
        "      if verbose:\r\n",
        "         print(f'U despues:\\n {np.array(U)}')\r\n",
        "         print(f'P despues:\\n {np.array(P)}')\r\n",
        "      return U, P, r\r\n",
        "\r\n",
        "def permutacion_L(L, lista_perms, verbose):\r\n",
        "  if verbose:\r\n",
        "    print(f'L antes:\\n {np.array(L)}')\r\n",
        "\r\n",
        "  for perm in lista_perms:\r\n",
        "    fila_origen, fila_destino = L[perm[0], :min(perm)].copy(), L[perm[1], :min(perm)].copy()\r\n",
        "    L[perm[1], :min(perm)], L[perm[0], :min(perm)] = fila_origen, fila_destino\r\n",
        "\r\n",
        "  if verbose:\r\n",
        "    print(f'L despues:\\n {np.array(L)}')\r\n",
        "  return L \r\n",
        "\r\n",
        "\r\n",
        "\r\n",
        "\r\n",
        "\r\n",
        "def descomposicion_LU(m, rhs=None, verbose=True, permutar_max=False):\r\n",
        "  '''\r\n",
        "  Esta función realiza el algoritmo de triangulación de Gauss. Para ello vamos a\r\n",
        "  ir aplicando paso a paso el algoritmo tal cual se hace manualmente, \r\n",
        "  y aplicamos los cambios de columnas necesarios si hay que aplicar permutaciones.\r\n",
        "  Por defecto, si encontramos un 0 en la diagonal aplicamos permutar_max para esa\r\n",
        "  fila, y devolvemos la matriz de permutaciones.\r\n",
        "  '''\r\n",
        "\r\n",
        "  if rhs is None:\r\n",
        "    rhs = zeros(m.shape[0], 1)\r\n",
        "\r\n",
        "  if verbose:\r\n",
        "    print(\"La matriz M|X es  (X = 0) si no se ha introducido\")\r\n",
        "    print(np.concatenate((np.array(m), np.array(rhs)), axis=1))\r\n",
        "  \r\n",
        "  P, L, U, r = eye(m.shape[0]), eye(m.shape[0]), m.copy(), rhs.copy()\r\n",
        "  lista_perms = []\r\n",
        "  fila_i, err, err_max = 0, 0, 3\r\n",
        "  \r\n",
        "\r\n",
        "  while fila_i < m.shape[0] and err < err_max:\r\n",
        "    if verbose:\r\n",
        "      print(f'\\n=====================================\\nFila {fila_i}')\r\n",
        "      print(f'A {fila_i}, {err}')\r\n",
        "\r\n",
        "    if U[max(0, fila_i-1), max(0, fila_i-1)] == 0 or permutar_max:\r\n",
        "      \"\"\"\r\n",
        "      Esta parte nos asegura que si un elemento diagonal es cero, permutamos\r\n",
        "      la fila con su inmediata, y así tener una configuración viable.\r\n",
        "      En cualquier permutación tenemos que cambiar la L acorde con el cambio.\r\n",
        "      Al hacer la permutación, con los nuevos valores, repasamos la matriz para \r\n",
        "      asegurarnos de que todos los puntos están cumplidos.\r\n",
        "      \"\"\"\r\n",
        "      sub_mat = U[fila_i:, fila_i:]\r\n",
        "      max_el = np.max(np.array(sub_mat))\r\n",
        "      idx_max = np.argwhere(np.array(sub_mat) == max_el)[-1] + fila_i # Cogemos el primer elemento si hay varios\r\n",
        "      \r\n",
        "      U, P, r = permutacion_matriz(U, max(0, fila_i-1), idx_max, verbose, P, r)\r\n",
        "      L = permutacion_L(L, [[max(0, fila_i-1), idx_max[0]]], verbose)\r\n",
        "      lista_perms.append([max(0, fila_i-1), idx_max[0]])\r\n",
        "      fila_i = min([max(0, fila_i-1), idx_max[0]])\r\n",
        "      err += 1\r\n",
        "\r\n",
        "      if verbose:\r\n",
        "        print(f'Err {err}')\r\n",
        "      continue\r\n",
        "    \r\n",
        "    # Ahora aplicamos el algoritmo de calculo de filas:\r\n",
        "    for columna_j in range(fila_i):\r\n",
        "      a_ij = U[fila_i, columna_j] /  U[columna_j, columna_j]\r\n",
        "      \r\n",
        "      if a_ij != 0:\r\n",
        "        L[fila_i, columna_j] = a_ij\r\n",
        "        U[fila_i, :] = U[fila_i, :] - a_ij * U[columna_j, :]\r\n",
        "        r[fila_i, :] = r[fila_i, :] - a_ij * r[columna_j, :]\r\n",
        "\r\n",
        "      err = 0\r\n",
        "\r\n",
        "      if verbose:\r\n",
        "        print(f'||||||||||||||||||||||||\\n Columna {columna_j}')\r\n",
        "        print(f'a_{fila_i},{columna_j} = {a_ij}')\r\n",
        "        print(f'P = \\n{np.array(P)}')\r\n",
        "        print(f'L = \\n{np.array(L)}')\r\n",
        "        print(f'U = \\n{np.array(U)}')\r\n",
        "        print(f'r = \\n{np.array(r)}')\r\n",
        "\r\n",
        "    fila_i += 1\r\n",
        "  \r\n",
        "  if err == err_max:\r\n",
        "    print('Something has gone wrong... check the log.')\r\n",
        "\r\n",
        "  if verbose:\r\n",
        "        print(f'\\/\\/\\/\\/\\/\\/\\/\\/\\/ FORMA FINAL')\r\n",
        "        print(f'P = \\n{np.array(P)}')\r\n",
        "        print(f'L = \\n{np.array(L)}')\r\n",
        "        print(f'U = \\n{np.array(U)}')\r\n",
        "        print(f'r = \\n{np.array(r)}')\r\n",
        "\r\n",
        "  assert L * U == P * m\r\n",
        "\r\n",
        "  return {'P': P, 'L': L, 'U': U, 'r': r}\r\n",
        "\r\n",
        "\r\n",
        "\r\n",
        "\r\n",
        "def descomposicion_LDU(m, permutar_max=True, verbose=False):\r\n",
        "  dict_LU = descomposicion_LU(m, permutar_max=permutar_max, verbose=verbose)\r\n",
        "  L, U = dict_LU['L'], dict_LU['U']\r\n",
        "\r\n",
        "  D = zeros(m.shape[0], m.shape[0])\r\n",
        "\r\n",
        "  for i in range(U.shape[0]):\r\n",
        "    D[i, i] = U[i, i]\r\n",
        "  \r\n",
        "  U = D.inv() * U\r\n",
        "\r\n",
        "  if verbose:\r\n",
        "        print(f'\\/\\/\\/\\/\\/\\/\\/\\/\\/ RESULTS LDU*')\r\n",
        "        print(f'L = \\n{np.array(L)}')\r\n",
        "        print(f'D = \\n{np.array(D)}')\r\n",
        "        print(f'U* = \\n{np.array(U)}')\r\n",
        "\r\n",
        "  assert L * D * U == dict_LU['P'] * m\r\n",
        "\r\n",
        "  return {'P': dict_LU['P'], 'L': L, 'U': U, 'D': D}\r\n",
        "  \r\n",
        "  \r\n"
      ],
      "execution_count": 71,
      "outputs": []
    },
    {
      "cell_type": "code",
      "metadata": {
        "colab": {
          "base_uri": "https://localhost:8080/"
        },
        "id": "FYmmi8nCnpYO",
        "outputId": "62408958-534c-4a2c-fd15-06d0f578fd4a"
      },
      "source": [
        "numero_condicion(np.array(M, dtype=float))"
      ],
      "execution_count": 4,
      "outputs": [
        {
          "output_type": "execute_result",
          "data": {
            "text/plain": [
              "3114.6258933625754"
            ]
          },
          "metadata": {
            "tags": []
          },
          "execution_count": 4
        }
      ]
    },
    {
      "cell_type": "code",
      "metadata": {
        "id": "40fCFj_GIBTU",
        "outputId": "4b9e9da9-2dc6-4d5e-b8d1-e302bb914533",
        "colab": {
          "base_uri": "https://localhost:8080/"
        }
      },
      "source": [
        "descomposicion_LU(M, permutar_max=False)"
      ],
      "execution_count": 72,
      "outputs": [
        {
          "output_type": "stream",
          "text": [
            "La matriz M|X es  (X = 0) si no se ha introducido\n",
            "[[1 2 3 4 0]\n",
            " [5 6 7 8 0]\n",
            " [9 10 11 11 0]\n",
            " [132 14 15 170 0]]\n",
            "\n",
            "=====================================\n",
            "Fila 0\n",
            "A 0, 0\n",
            "\n",
            "=====================================\n",
            "Fila 1\n",
            "A 1, 0\n",
            "||||||||||||||||||||||||\n",
            " Columna 0\n",
            "a_1,0 = 5\n",
            "P = \n",
            "[[1 0 0 0]\n",
            " [0 1 0 0]\n",
            " [0 0 1 0]\n",
            " [0 0 0 1]]\n",
            "L = \n",
            "[[1 0 0 0]\n",
            " [5 1 0 0]\n",
            " [0 0 1 0]\n",
            " [0 0 0 1]]\n",
            "U = \n",
            "[[1 2 3 4]\n",
            " [0 -4 -8 -12]\n",
            " [9 10 11 11]\n",
            " [132 14 15 170]]\n",
            "r = \n",
            "[[0]\n",
            " [0]\n",
            " [0]\n",
            " [0]]\n",
            "\n",
            "=====================================\n",
            "Fila 2\n",
            "A 2, 0\n",
            "||||||||||||||||||||||||\n",
            " Columna 0\n",
            "a_2,0 = 9\n",
            "P = \n",
            "[[1 0 0 0]\n",
            " [0 1 0 0]\n",
            " [0 0 1 0]\n",
            " [0 0 0 1]]\n",
            "L = \n",
            "[[1 0 0 0]\n",
            " [5 1 0 0]\n",
            " [9 0 1 0]\n",
            " [0 0 0 1]]\n",
            "U = \n",
            "[[1 2 3 4]\n",
            " [0 -4 -8 -12]\n",
            " [0 -8 -16 -25]\n",
            " [132 14 15 170]]\n",
            "r = \n",
            "[[0]\n",
            " [0]\n",
            " [0]\n",
            " [0]]\n",
            "||||||||||||||||||||||||\n",
            " Columna 1\n",
            "a_2,1 = 2\n",
            "P = \n",
            "[[1 0 0 0]\n",
            " [0 1 0 0]\n",
            " [0 0 1 0]\n",
            " [0 0 0 1]]\n",
            "L = \n",
            "[[1 0 0 0]\n",
            " [5 1 0 0]\n",
            " [9 2 1 0]\n",
            " [0 0 0 1]]\n",
            "U = \n",
            "[[1 2 3 4]\n",
            " [0 -4 -8 -12]\n",
            " [0 0 0 -1]\n",
            " [132 14 15 170]]\n",
            "r = \n",
            "[[0]\n",
            " [0]\n",
            " [0]\n",
            " [0]]\n",
            "\n",
            "=====================================\n",
            "Fila 3\n",
            "A 3, 0\n",
            "Permutamos fila 2 con 3\n",
            "U antes:\n",
            " [[1 2 3 4]\n",
            " [0 -4 -8 -12]\n",
            " [0 0 0 -1]\n",
            " [132 14 15 170]]\n",
            "P antes:\n",
            " [[1 0 0 0]\n",
            " [0 1 0 0]\n",
            " [0 0 1 0]\n",
            " [0 0 0 1]]\n",
            "U despues:\n",
            " [[1 2 3 4]\n",
            " [0 -4 -8 -12]\n",
            " [132 14 15 170]\n",
            " [0 0 0 -1]]\n",
            "P despues:\n",
            " [[1 0 0 0]\n",
            " [0 1 0 0]\n",
            " [0 0 0 1]\n",
            " [0 0 1 0]]\n",
            "L antes:\n",
            " [[1 0 0 0]\n",
            " [5 1 0 0]\n",
            " [9 2 1 0]\n",
            " [0 0 0 1]]\n",
            "L despues:\n",
            " [[1 0 0 0]\n",
            " [5 1 0 0]\n",
            " [0 0 1 0]\n",
            " [9 2 0 1]]\n",
            "Err 1\n",
            "\n",
            "=====================================\n",
            "Fila 2\n",
            "A 2, 1\n",
            "||||||||||||||||||||||||\n",
            " Columna 0\n",
            "a_2,0 = 132\n",
            "P = \n",
            "[[1 0 0 0]\n",
            " [0 1 0 0]\n",
            " [0 0 0 1]\n",
            " [0 0 1 0]]\n",
            "L = \n",
            "[[1 0 0 0]\n",
            " [5 1 0 0]\n",
            " [132 0 1 0]\n",
            " [9 2 0 1]]\n",
            "U = \n",
            "[[1 2 3 4]\n",
            " [0 -4 -8 -12]\n",
            " [0 -250 -381 -358]\n",
            " [0 0 0 -1]]\n",
            "r = \n",
            "[[0]\n",
            " [0]\n",
            " [0]\n",
            " [0]]\n",
            "||||||||||||||||||||||||\n",
            " Columna 1\n",
            "a_2,1 = 125/2\n",
            "P = \n",
            "[[1 0 0 0]\n",
            " [0 1 0 0]\n",
            " [0 0 0 1]\n",
            " [0 0 1 0]]\n",
            "L = \n",
            "[[1 0 0 0]\n",
            " [5 1 0 0]\n",
            " [132 125/2 1 0]\n",
            " [9 2 0 1]]\n",
            "U = \n",
            "[[1 2 3 4]\n",
            " [0 -4 -8 -12]\n",
            " [0 0 119 392]\n",
            " [0 0 0 -1]]\n",
            "r = \n",
            "[[0]\n",
            " [0]\n",
            " [0]\n",
            " [0]]\n",
            "\n",
            "=====================================\n",
            "Fila 3\n",
            "A 3, 0\n",
            "||||||||||||||||||||||||\n",
            " Columna 0\n",
            "a_3,0 = 0\n",
            "P = \n",
            "[[1 0 0 0]\n",
            " [0 1 0 0]\n",
            " [0 0 0 1]\n",
            " [0 0 1 0]]\n",
            "L = \n",
            "[[1 0 0 0]\n",
            " [5 1 0 0]\n",
            " [132 125/2 1 0]\n",
            " [9 2 0 1]]\n",
            "U = \n",
            "[[1 2 3 4]\n",
            " [0 -4 -8 -12]\n",
            " [0 0 119 392]\n",
            " [0 0 0 -1]]\n",
            "r = \n",
            "[[0]\n",
            " [0]\n",
            " [0]\n",
            " [0]]\n",
            "||||||||||||||||||||||||\n",
            " Columna 1\n",
            "a_3,1 = 0\n",
            "P = \n",
            "[[1 0 0 0]\n",
            " [0 1 0 0]\n",
            " [0 0 0 1]\n",
            " [0 0 1 0]]\n",
            "L = \n",
            "[[1 0 0 0]\n",
            " [5 1 0 0]\n",
            " [132 125/2 1 0]\n",
            " [9 2 0 1]]\n",
            "U = \n",
            "[[1 2 3 4]\n",
            " [0 -4 -8 -12]\n",
            " [0 0 119 392]\n",
            " [0 0 0 -1]]\n",
            "r = \n",
            "[[0]\n",
            " [0]\n",
            " [0]\n",
            " [0]]\n",
            "||||||||||||||||||||||||\n",
            " Columna 2\n",
            "a_3,2 = 0\n",
            "P = \n",
            "[[1 0 0 0]\n",
            " [0 1 0 0]\n",
            " [0 0 0 1]\n",
            " [0 0 1 0]]\n",
            "L = \n",
            "[[1 0 0 0]\n",
            " [5 1 0 0]\n",
            " [132 125/2 1 0]\n",
            " [9 2 0 1]]\n",
            "U = \n",
            "[[1 2 3 4]\n",
            " [0 -4 -8 -12]\n",
            " [0 0 119 392]\n",
            " [0 0 0 -1]]\n",
            "r = \n",
            "[[0]\n",
            " [0]\n",
            " [0]\n",
            " [0]]\n",
            "\\/\\/\\/\\/\\/\\/\\/\\/\\/ FORMA FINAL\n",
            "P = \n",
            "[[1 0 0 0]\n",
            " [0 1 0 0]\n",
            " [0 0 0 1]\n",
            " [0 0 1 0]]\n",
            "L = \n",
            "[[1 0 0 0]\n",
            " [5 1 0 0]\n",
            " [132 125/2 1 0]\n",
            " [9 2 0 1]]\n",
            "U = \n",
            "[[1 2 3 4]\n",
            " [0 -4 -8 -12]\n",
            " [0 0 119 392]\n",
            " [0 0 0 -1]]\n",
            "r = \n",
            "[[0]\n",
            " [0]\n",
            " [0]\n",
            " [0]]\n"
          ],
          "name": "stdout"
        },
        {
          "output_type": "execute_result",
          "data": {
            "text/plain": [
              "{'L': Matrix([\n",
              " [  1,     0, 0, 0],\n",
              " [  5,     1, 0, 0],\n",
              " [132, 125/2, 1, 0],\n",
              " [  9,     2, 0, 1]]), 'P': Matrix([\n",
              " [1, 0, 0, 0],\n",
              " [0, 1, 0, 0],\n",
              " [0, 0, 0, 1],\n",
              " [0, 0, 1, 0]]), 'U': Matrix([\n",
              " [1,  2,   3,   4],\n",
              " [0, -4,  -8, -12],\n",
              " [0,  0, 119, 392],\n",
              " [0,  0,   0,  -1]]), 'r': Matrix([\n",
              " [0],\n",
              " [0],\n",
              " [0],\n",
              " [0]])}"
            ]
          },
          "metadata": {
            "tags": []
          },
          "execution_count": 72
        }
      ]
    },
    {
      "cell_type": "code",
      "metadata": {
        "id": "Zq3S3aEHGpEN",
        "outputId": "ab7cdff7-eebf-46f9-b224-3a0d9d1d89a0",
        "colab": {
          "base_uri": "https://localhost:8080/",
          "height": 655
        }
      },
      "source": [
        "descomposicion_LDU(M, permutar_max=True)"
      ],
      "execution_count": 43,
      "outputs": [
        {
          "output_type": "stream",
          "text": [
            "Something has gone wrong... check the log.\n",
            "[[132 14 15 170]\n",
            " [5 6 7 8]\n",
            " [9 10 11 11]\n",
            " [1 2 3 4]] // [[132 14 15 170]\n",
            " [5 6 7 8]\n",
            " [9 10 11 11]\n",
            " [1 2 3 4]] // [[1 2 3 4]\n",
            " [5 6 7 8]\n",
            " [9 10 11 11]\n",
            " [132 14 15 170]]\n"
          ],
          "name": "stdout"
        },
        {
          "output_type": "error",
          "ename": "TypeError",
          "evalue": "ignored",
          "traceback": [
            "\u001b[0;31m---------------------------------------------------------------------------\u001b[0m",
            "\u001b[0;31mTypeError\u001b[0m                                 Traceback (most recent call last)",
            "\u001b[0;32m/usr/local/lib/python3.7/dist-packages/sympy/core/cache.py\u001b[0m in \u001b[0;36mwrapper\u001b[0;34m(*args, **kwargs)\u001b[0m\n\u001b[1;32m     71\u001b[0m             \u001b[0;32mtry\u001b[0m\u001b[0;34m:\u001b[0m\u001b[0;34m\u001b[0m\u001b[0;34m\u001b[0m\u001b[0m\n\u001b[0;32m---> 72\u001b[0;31m                 \u001b[0mretval\u001b[0m \u001b[0;34m=\u001b[0m \u001b[0mcfunc\u001b[0m\u001b[0;34m(\u001b[0m\u001b[0;34m*\u001b[0m\u001b[0margs\u001b[0m\u001b[0;34m,\u001b[0m \u001b[0;34m**\u001b[0m\u001b[0mkwargs\u001b[0m\u001b[0;34m)\u001b[0m\u001b[0;34m\u001b[0m\u001b[0;34m\u001b[0m\u001b[0m\n\u001b[0m\u001b[1;32m     73\u001b[0m             \u001b[0;32mexcept\u001b[0m \u001b[0mTypeError\u001b[0m\u001b[0;34m:\u001b[0m\u001b[0;34m\u001b[0m\u001b[0;34m\u001b[0m\u001b[0m\n",
            "\u001b[0;31mTypeError\u001b[0m: __new__() missing 1 required positional argument: 'i'",
            "\nDuring handling of the above exception, another exception occurred:\n",
            "\u001b[0;31mTypeError\u001b[0m                                 Traceback (most recent call last)",
            "\u001b[0;32m<ipython-input-43-2277f90fc8e3>\u001b[0m in \u001b[0;36m<module>\u001b[0;34m()\u001b[0m\n\u001b[0;32m----> 1\u001b[0;31m \u001b[0mdescomposicion_LDU\u001b[0m\u001b[0;34m(\u001b[0m\u001b[0mM\u001b[0m\u001b[0;34m,\u001b[0m \u001b[0mpermutar_max\u001b[0m\u001b[0;34m=\u001b[0m\u001b[0;32mTrue\u001b[0m\u001b[0;34m)\u001b[0m\u001b[0;34m\u001b[0m\u001b[0;34m\u001b[0m\u001b[0m\n\u001b[0m",
            "\u001b[0;32m<ipython-input-42-6adc59b67ada>\u001b[0m in \u001b[0;36mdescomposicion_LDU\u001b[0;34m(m, permutar_max, verbose)\u001b[0m\n\u001b[1;32m    130\u001b[0m \u001b[0;34m\u001b[0m\u001b[0m\n\u001b[1;32m    131\u001b[0m   \u001b[0;32mfor\u001b[0m \u001b[0mi\u001b[0m \u001b[0;32min\u001b[0m \u001b[0mrange\u001b[0m\u001b[0;34m(\u001b[0m\u001b[0mU\u001b[0m\u001b[0;34m.\u001b[0m\u001b[0mshape\u001b[0m\u001b[0;34m[\u001b[0m\u001b[0;36m0\u001b[0m\u001b[0;34m]\u001b[0m\u001b[0;34m)\u001b[0m\u001b[0;34m:\u001b[0m\u001b[0;34m\u001b[0m\u001b[0;34m\u001b[0m\u001b[0m\n\u001b[0;32m--> 132\u001b[0;31m     \u001b[0mD\u001b[0m\u001b[0;34m[\u001b[0m\u001b[0mi\u001b[0m\u001b[0;34m,\u001b[0m \u001b[0mi\u001b[0m\u001b[0;34m]\u001b[0m \u001b[0;34m=\u001b[0m \u001b[0mU\u001b[0m\u001b[0;34m[\u001b[0m\u001b[0mi\u001b[0m\u001b[0;34m,\u001b[0m \u001b[0mi\u001b[0m\u001b[0;34m]\u001b[0m\u001b[0;34m.\u001b[0m\u001b[0mcopy\u001b[0m\u001b[0;34m(\u001b[0m\u001b[0;34m)\u001b[0m\u001b[0;34m\u001b[0m\u001b[0;34m\u001b[0m\u001b[0m\n\u001b[0m\u001b[1;32m    133\u001b[0m \u001b[0;34m\u001b[0m\u001b[0m\n\u001b[1;32m    134\u001b[0m   \u001b[0mU\u001b[0m \u001b[0;34m=\u001b[0m \u001b[0mD\u001b[0m\u001b[0;34m.\u001b[0m\u001b[0minv\u001b[0m\u001b[0;34m(\u001b[0m\u001b[0;34m)\u001b[0m \u001b[0;34m*\u001b[0m \u001b[0mU\u001b[0m\u001b[0;34m\u001b[0m\u001b[0;34m\u001b[0m\u001b[0m\n",
            "\u001b[0;32m/usr/local/lib/python3.7/dist-packages/sympy/core/basic.py\u001b[0m in \u001b[0;36mcopy\u001b[0;34m(self)\u001b[0m\n\u001b[1;32m    116\u001b[0m \u001b[0;34m\u001b[0m\u001b[0m\n\u001b[1;32m    117\u001b[0m     \u001b[0;32mdef\u001b[0m \u001b[0mcopy\u001b[0m\u001b[0;34m(\u001b[0m\u001b[0mself\u001b[0m\u001b[0;34m)\u001b[0m\u001b[0;34m:\u001b[0m\u001b[0;34m\u001b[0m\u001b[0;34m\u001b[0m\u001b[0m\n\u001b[0;32m--> 118\u001b[0;31m         \u001b[0;32mreturn\u001b[0m \u001b[0mself\u001b[0m\u001b[0;34m.\u001b[0m\u001b[0mfunc\u001b[0m\u001b[0;34m(\u001b[0m\u001b[0;34m*\u001b[0m\u001b[0mself\u001b[0m\u001b[0;34m.\u001b[0m\u001b[0margs\u001b[0m\u001b[0;34m)\u001b[0m\u001b[0;34m\u001b[0m\u001b[0;34m\u001b[0m\u001b[0m\n\u001b[0m\u001b[1;32m    119\u001b[0m \u001b[0;34m\u001b[0m\u001b[0m\n\u001b[1;32m    120\u001b[0m     \u001b[0;32mdef\u001b[0m \u001b[0m__reduce_ex__\u001b[0m\u001b[0;34m(\u001b[0m\u001b[0mself\u001b[0m\u001b[0;34m,\u001b[0m \u001b[0mproto\u001b[0m\u001b[0;34m)\u001b[0m\u001b[0;34m:\u001b[0m\u001b[0;34m\u001b[0m\u001b[0;34m\u001b[0m\u001b[0m\n",
            "\u001b[0;32m/usr/local/lib/python3.7/dist-packages/sympy/core/cache.py\u001b[0m in \u001b[0;36mwrapper\u001b[0;34m(*args, **kwargs)\u001b[0m\n\u001b[1;32m     72\u001b[0m                 \u001b[0mretval\u001b[0m \u001b[0;34m=\u001b[0m \u001b[0mcfunc\u001b[0m\u001b[0;34m(\u001b[0m\u001b[0;34m*\u001b[0m\u001b[0margs\u001b[0m\u001b[0;34m,\u001b[0m \u001b[0;34m**\u001b[0m\u001b[0mkwargs\u001b[0m\u001b[0;34m)\u001b[0m\u001b[0;34m\u001b[0m\u001b[0;34m\u001b[0m\u001b[0m\n\u001b[1;32m     73\u001b[0m             \u001b[0;32mexcept\u001b[0m \u001b[0mTypeError\u001b[0m\u001b[0;34m:\u001b[0m\u001b[0;34m\u001b[0m\u001b[0;34m\u001b[0m\u001b[0m\n\u001b[0;32m---> 74\u001b[0;31m                 \u001b[0mretval\u001b[0m \u001b[0;34m=\u001b[0m \u001b[0mfunc\u001b[0m\u001b[0;34m(\u001b[0m\u001b[0;34m*\u001b[0m\u001b[0margs\u001b[0m\u001b[0;34m,\u001b[0m \u001b[0;34m**\u001b[0m\u001b[0mkwargs\u001b[0m\u001b[0;34m)\u001b[0m\u001b[0;34m\u001b[0m\u001b[0;34m\u001b[0m\u001b[0m\n\u001b[0m\u001b[1;32m     75\u001b[0m             \u001b[0;32mreturn\u001b[0m \u001b[0mretval\u001b[0m\u001b[0;34m\u001b[0m\u001b[0;34m\u001b[0m\u001b[0m\n\u001b[1;32m     76\u001b[0m \u001b[0;34m\u001b[0m\u001b[0m\n",
            "\u001b[0;31mTypeError\u001b[0m: __new__() missing 1 required positional argument: 'i'"
          ]
        }
      ]
    },
    {
      "cell_type": "code",
      "metadata": {
        "id": "GxsFFK6naXHD"
      },
      "source": [
        "descomposicion_LU(M, rhs=ones(M.shape[0], 1), permutar_max=True)"
      ],
      "execution_count": null,
      "outputs": []
    },
    {
      "cell_type": "code",
      "metadata": {
        "id": "hfCYSdUBch4v",
        "colab": {
          "base_uri": "https://localhost:8080/",
          "height": 508
        },
        "outputId": "47179b74-a380-4eab-9169-54f63a733596"
      },
      "source": [
        "descomposicion_LDU(M, permutar_max=True)"
      ],
      "execution_count": 31,
      "outputs": [
        {
          "output_type": "stream",
          "text": [
            "La matriz M|X es  (X = 0) si no se ha introducido\n"
          ],
          "name": "stdout"
        },
        {
          "output_type": "error",
          "ename": "ValueError",
          "evalue": "ignored",
          "traceback": [
            "\u001b[0;31m---------------------------------------------------------------------------\u001b[0m",
            "\u001b[0;31mValueError\u001b[0m                                Traceback (most recent call last)",
            "\u001b[0;32m<ipython-input-31-2277f90fc8e3>\u001b[0m in \u001b[0;36m<module>\u001b[0;34m()\u001b[0m\n\u001b[0;32m----> 1\u001b[0;31m \u001b[0mdescomposicion_LDU\u001b[0m\u001b[0;34m(\u001b[0m\u001b[0mM\u001b[0m\u001b[0;34m,\u001b[0m \u001b[0mpermutar_max\u001b[0m\u001b[0;34m=\u001b[0m\u001b[0;32mTrue\u001b[0m\u001b[0;34m)\u001b[0m\u001b[0;34m\u001b[0m\u001b[0;34m\u001b[0m\u001b[0m\n\u001b[0m",
            "\u001b[0;32m<ipython-input-30-5e998ccaf0e1>\u001b[0m in \u001b[0;36mdescomposicion_LDU\u001b[0;34m(m, permutar_max, verbose)\u001b[0m\n\u001b[1;32m    114\u001b[0m \u001b[0;34m\u001b[0m\u001b[0m\n\u001b[1;32m    115\u001b[0m \u001b[0;32mdef\u001b[0m \u001b[0mdescomposicion_LDU\u001b[0m\u001b[0;34m(\u001b[0m\u001b[0mm\u001b[0m\u001b[0;34m,\u001b[0m \u001b[0mpermutar_max\u001b[0m\u001b[0;34m=\u001b[0m\u001b[0;32mTrue\u001b[0m\u001b[0;34m,\u001b[0m \u001b[0mverbose\u001b[0m\u001b[0;34m=\u001b[0m\u001b[0;32mFalse\u001b[0m\u001b[0;34m)\u001b[0m\u001b[0;34m:\u001b[0m\u001b[0;34m\u001b[0m\u001b[0;34m\u001b[0m\u001b[0m\n\u001b[0;32m--> 116\u001b[0;31m   \u001b[0mdict_LU\u001b[0m \u001b[0;34m=\u001b[0m \u001b[0mdescomposicion_LU\u001b[0m\u001b[0;34m(\u001b[0m\u001b[0mm\u001b[0m\u001b[0;34m,\u001b[0m \u001b[0mpermutar_max\u001b[0m\u001b[0;34m)\u001b[0m\u001b[0;34m\u001b[0m\u001b[0;34m\u001b[0m\u001b[0m\n\u001b[0m\u001b[1;32m    117\u001b[0m   \u001b[0mL\u001b[0m\u001b[0;34m,\u001b[0m \u001b[0mU\u001b[0m \u001b[0;34m=\u001b[0m \u001b[0mdict_LU\u001b[0m\u001b[0;34m[\u001b[0m\u001b[0;34m'L'\u001b[0m\u001b[0;34m]\u001b[0m\u001b[0;34m,\u001b[0m \u001b[0mdict_LU\u001b[0m\u001b[0;34m[\u001b[0m\u001b[0;34m'U'\u001b[0m\u001b[0;34m]\u001b[0m\u001b[0;34m\u001b[0m\u001b[0;34m\u001b[0m\u001b[0m\n\u001b[1;32m    118\u001b[0m \u001b[0;34m\u001b[0m\u001b[0m\n",
            "\u001b[0;32m<ipython-input-30-5e998ccaf0e1>\u001b[0m in \u001b[0;36mdescomposicion_LU\u001b[0;34m(m, rhs, verbose, permutar_max)\u001b[0m\n\u001b[1;32m     46\u001b[0m   \u001b[0;32mif\u001b[0m \u001b[0mverbose\u001b[0m\u001b[0;34m:\u001b[0m\u001b[0;34m\u001b[0m\u001b[0;34m\u001b[0m\u001b[0m\n\u001b[1;32m     47\u001b[0m     \u001b[0mprint\u001b[0m\u001b[0;34m(\u001b[0m\u001b[0;34m\"La matriz M|X es  (X = 0) si no se ha introducido\"\u001b[0m\u001b[0;34m)\u001b[0m\u001b[0;34m\u001b[0m\u001b[0;34m\u001b[0m\u001b[0m\n\u001b[0;32m---> 48\u001b[0;31m     \u001b[0mprint\u001b[0m\u001b[0;34m(\u001b[0m\u001b[0mnp\u001b[0m\u001b[0;34m.\u001b[0m\u001b[0mconcatenate\u001b[0m\u001b[0;34m(\u001b[0m\u001b[0;34m(\u001b[0m\u001b[0mnp\u001b[0m\u001b[0;34m.\u001b[0m\u001b[0marray\u001b[0m\u001b[0;34m(\u001b[0m\u001b[0mm\u001b[0m\u001b[0;34m)\u001b[0m\u001b[0;34m,\u001b[0m \u001b[0mnp\u001b[0m\u001b[0;34m.\u001b[0m\u001b[0marray\u001b[0m\u001b[0;34m(\u001b[0m\u001b[0mrhs\u001b[0m\u001b[0;34m)\u001b[0m\u001b[0;34m)\u001b[0m\u001b[0;34m,\u001b[0m \u001b[0maxis\u001b[0m\u001b[0;34m=\u001b[0m\u001b[0;36m1\u001b[0m\u001b[0;34m)\u001b[0m\u001b[0;34m)\u001b[0m\u001b[0;34m\u001b[0m\u001b[0;34m\u001b[0m\u001b[0m\n\u001b[0m\u001b[1;32m     49\u001b[0m \u001b[0;34m\u001b[0m\u001b[0m\n\u001b[1;32m     50\u001b[0m   \u001b[0mP\u001b[0m\u001b[0;34m,\u001b[0m \u001b[0mL\u001b[0m\u001b[0;34m,\u001b[0m \u001b[0mU\u001b[0m\u001b[0;34m,\u001b[0m \u001b[0mr\u001b[0m \u001b[0;34m=\u001b[0m \u001b[0meye\u001b[0m\u001b[0;34m(\u001b[0m\u001b[0mm\u001b[0m\u001b[0;34m.\u001b[0m\u001b[0mshape\u001b[0m\u001b[0;34m[\u001b[0m\u001b[0;36m0\u001b[0m\u001b[0;34m]\u001b[0m\u001b[0;34m)\u001b[0m\u001b[0;34m,\u001b[0m \u001b[0meye\u001b[0m\u001b[0;34m(\u001b[0m\u001b[0mm\u001b[0m\u001b[0;34m.\u001b[0m\u001b[0mshape\u001b[0m\u001b[0;34m[\u001b[0m\u001b[0;36m0\u001b[0m\u001b[0;34m]\u001b[0m\u001b[0;34m)\u001b[0m\u001b[0;34m,\u001b[0m \u001b[0mm\u001b[0m\u001b[0;34m.\u001b[0m\u001b[0mcopy\u001b[0m\u001b[0;34m(\u001b[0m\u001b[0;34m)\u001b[0m\u001b[0;34m,\u001b[0m \u001b[0mrhs\u001b[0m\u001b[0;34m.\u001b[0m\u001b[0mcopy\u001b[0m\u001b[0;34m(\u001b[0m\u001b[0;34m)\u001b[0m\u001b[0;34m\u001b[0m\u001b[0;34m\u001b[0m\u001b[0m\n",
            "\u001b[0;32m<__array_function__ internals>\u001b[0m in \u001b[0;36mconcatenate\u001b[0;34m(*args, **kwargs)\u001b[0m\n",
            "\u001b[0;31mValueError\u001b[0m: all the input arrays must have same number of dimensions, but the array at index 0 has 2 dimension(s) and the array at index 1 has 0 dimension(s)"
          ]
        }
      ]
    },
    {
      "cell_type": "code",
      "metadata": {
        "id": "-s3arGT_c3HJ"
      },
      "source": [
        "a = np.array([[1, 2, 3, 4], [2, 1, 2, 3], [3, 2, 1, 2], [4, 3, 2, 1]])"
      ],
      "execution_count": null,
      "outputs": []
    },
    {
      "cell_type": "code",
      "metadata": {
        "id": "0cugMDYZc3XP",
        "colab": {
          "base_uri": "https://localhost:8080/"
        },
        "outputId": "73dbf6e9-615f-463d-8367-0d410879c35a"
      },
      "source": [
        "eig = np.linalg.eigvals(a)\n",
        "\n",
        "print(eig)"
      ],
      "execution_count": null,
      "outputs": [
        {
          "output_type": "stream",
          "text": [
            "[ 9.09901951 -3.41421356 -1.09901951 -0.58578644]\n"
          ],
          "name": "stdout"
        }
      ]
    },
    {
      "cell_type": "code",
      "metadata": {
        "id": "JbfwPwlBdLXl",
        "colab": {
          "base_uri": "https://localhost:8080/"
        },
        "outputId": "2c157bdf-c71a-460a-ce2d-a77b696a0cdf"
      },
      "source": [
        "np.all(np.linalg.eigvals(a) > 0)"
      ],
      "execution_count": null,
      "outputs": [
        {
          "output_type": "execute_result",
          "data": {
            "text/plain": [
              "False"
            ]
          },
          "metadata": {
            "tags": []
          },
          "execution_count": 5
        }
      ]
    },
    {
      "cell_type": "code",
      "metadata": {
        "id": "-7LP6ouHd0X7"
      },
      "source": [
        ""
      ],
      "execution_count": null,
      "outputs": []
    },
    {
      "cell_type": "code",
      "metadata": {
        "id": "_553n-Std0Tx"
      },
      "source": [
        "from sympy.matrices import Matrix"
      ],
      "execution_count": null,
      "outputs": []
    },
    {
      "cell_type": "code",
      "metadata": {
        "id": "16zsCyV1d0KA"
      },
      "source": [
        "A = Matrix(((25, 15, -5), (15, 18, 0), (-5, 0, 10)))"
      ],
      "execution_count": null,
      "outputs": []
    },
    {
      "cell_type": "code",
      "metadata": {
        "id": "1YURbKAUeOUR"
      },
      "source": [
        "A_chol = A.cholesky()"
      ],
      "execution_count": null,
      "outputs": []
    },
    {
      "cell_type": "code",
      "metadata": {
        "id": "GjrPX1T8eQ9j",
        "colab": {
          "base_uri": "https://localhost:8080/",
          "height": 37
        },
        "outputId": "d2a92775-c5f2-406d-edee-5844d10628f0"
      },
      "source": [
        "A.det()"
      ],
      "execution_count": null,
      "outputs": [
        {
          "output_type": "execute_result",
          "data": {
            "text/latex": "$\\displaystyle 1800$",
            "text/plain": [
              "1800"
            ]
          },
          "metadata": {
            "tags": []
          },
          "execution_count": 18
        }
      ]
    },
    {
      "cell_type": "code",
      "metadata": {
        "id": "lHx9ZejPeeJo",
        "colab": {
          "base_uri": "https://localhost:8080/",
          "height": 78
        },
        "outputId": "fcedcd46-021b-4253-a895-c0082f3d9d40"
      },
      "source": [
        "A_chol * A_chol.T"
      ],
      "execution_count": null,
      "outputs": [
        {
          "output_type": "execute_result",
          "data": {
            "text/latex": "$\\displaystyle \\left[\\begin{matrix}25 & 15 & -5\\\\15 & 18 & 0\\\\-5 & 0 & 10\\end{matrix}\\right]$",
            "text/plain": [
              "Matrix([\n",
              "[25, 15, -5],\n",
              "[15, 18,  0],\n",
              "[-5,  0, 10]])"
            ]
          },
          "metadata": {
            "tags": []
          },
          "execution_count": 20
        }
      ]
    },
    {
      "cell_type": "code",
      "metadata": {
        "id": "JePhc0SAed9Z"
      },
      "source": [
        "B = Matrix.eye(10)"
      ],
      "execution_count": null,
      "outputs": []
    },
    {
      "cell_type": "code",
      "metadata": {
        "id": "QcHQL1N1esrt"
      },
      "source": [
        "for i in range(9):\n",
        "  B[i, i+1] = 2\n",
        "  B[i+1, i] = 2"
      ],
      "execution_count": null,
      "outputs": []
    },
    {
      "cell_type": "code",
      "metadata": {
        "id": "unqRIy4PfAXW",
        "colab": {
          "base_uri": "https://localhost:8080/",
          "height": 221
        },
        "outputId": "ed844a6a-7538-448a-e74b-edc4d01916be"
      },
      "source": [
        "B"
      ],
      "execution_count": null,
      "outputs": [
        {
          "output_type": "execute_result",
          "data": {
            "text/latex": "$\\displaystyle \\left[\\begin{matrix}1 & 2 & 0 & 0 & 0 & 0 & 0 & 0 & 0 & 0\\\\2 & 1 & 2 & 0 & 0 & 0 & 0 & 0 & 0 & 0\\\\0 & 2 & 1 & 2 & 0 & 0 & 0 & 0 & 0 & 0\\\\0 & 0 & 2 & 1 & 2 & 0 & 0 & 0 & 0 & 0\\\\0 & 0 & 0 & 2 & 1 & 2 & 0 & 0 & 0 & 0\\\\0 & 0 & 0 & 0 & 2 & 1 & 2 & 0 & 0 & 0\\\\0 & 0 & 0 & 0 & 0 & 2 & 1 & 2 & 0 & 0\\\\0 & 0 & 0 & 0 & 0 & 0 & 2 & 1 & 2 & 0\\\\0 & 0 & 0 & 0 & 0 & 0 & 0 & 2 & 1 & 2\\\\0 & 0 & 0 & 0 & 0 & 0 & 0 & 0 & 2 & 1\\end{matrix}\\right]$",
            "text/plain": [
              "Matrix([\n",
              "[1, 2, 0, 0, 0, 0, 0, 0, 0, 0],\n",
              "[2, 1, 2, 0, 0, 0, 0, 0, 0, 0],\n",
              "[0, 2, 1, 2, 0, 0, 0, 0, 0, 0],\n",
              "[0, 0, 2, 1, 2, 0, 0, 0, 0, 0],\n",
              "[0, 0, 0, 2, 1, 2, 0, 0, 0, 0],\n",
              "[0, 0, 0, 0, 2, 1, 2, 0, 0, 0],\n",
              "[0, 0, 0, 0, 0, 2, 1, 2, 0, 0],\n",
              "[0, 0, 0, 0, 0, 0, 2, 1, 2, 0],\n",
              "[0, 0, 0, 0, 0, 0, 0, 2, 1, 2],\n",
              "[0, 0, 0, 0, 0, 0, 0, 0, 2, 1]])"
            ]
          },
          "metadata": {
            "tags": []
          },
          "execution_count": 31
        }
      ]
    },
    {
      "cell_type": "code",
      "metadata": {
        "id": "dOSCXXvJfCWl",
        "colab": {
          "base_uri": "https://localhost:8080/"
        },
        "outputId": "6090ae67-3298-4e63-9600-5c16ee5fc41d"
      },
      "source": [
        "A.eigenvals()"
      ],
      "execution_count": null,
      "outputs": [
        {
          "output_type": "execute_result",
          "data": {
            "text/plain": [
              "{53/3 + (-1/2 - sqrt(3)*I/2)*(22922/27 + 5*sqrt(123819)*I/3)**(1/3) + 919/(9*(-1/2 - sqrt(3)*I/2)*(22922/27 + 5*sqrt(123819)*I/3)**(1/3)): 1,\n",
              " 53/3 + 919/(9*(-1/2 + sqrt(3)*I/2)*(22922/27 + 5*sqrt(123819)*I/3)**(1/3)) + (-1/2 + sqrt(3)*I/2)*(22922/27 + 5*sqrt(123819)*I/3)**(1/3): 1,\n",
              " 53/3 + 919/(9*(22922/27 + 5*sqrt(123819)*I/3)**(1/3)) + (22922/27 + 5*sqrt(123819)*I/3)**(1/3): 1}"
            ]
          },
          "metadata": {
            "tags": []
          },
          "execution_count": 34
        }
      ]
    }
  ]
}