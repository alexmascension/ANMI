{
  "nbformat": 4,
  "nbformat_minor": 0,
  "metadata": {
    "colab": {
      "name": "ANMI.ipynb",
      "provenance": [],
      "toc_visible": true,
      "authorship_tag": "ABX9TyOpDzubhYIDAmpMyzjtcw0/",
      "include_colab_link": true
    },
    "kernelspec": {
      "name": "python3",
      "display_name": "Python 3"
    }
  },
  "cells": [
    {
      "cell_type": "markdown",
      "metadata": {
        "id": "view-in-github",
        "colab_type": "text"
      },
      "source": [
        "<a href=\"https://colab.research.google.com/github/alexmascension/ANMI/blob/main/ANMI.ipynb\" target=\"_parent\"><img src=\"https://colab.research.google.com/assets/colab-badge.svg\" alt=\"Open In Colab\"/></a>"
      ]
    },
    {
      "cell_type": "markdown",
      "metadata": {
        "id": "Vf3GioQwcepr"
      },
      "source": [
        "# Ejemplos de ANMI"
      ]
    },
    {
      "cell_type": "code",
      "metadata": {
        "id": "dYo_JGn2TSxC"
      },
      "source": [
        "from sympy import *\r\n",
        "from sympy.matrices import Matrix as mat\r\n",
        "import numpy as np\r\n",
        "from numpy.linalg import cond as numero_condicion\r\n",
        "from scipy.linalg import orth\r\n",
        "from sympy.matrices import randMatrix"
      ],
      "execution_count": 13,
      "outputs": []
    },
    {
      "cell_type": "markdown",
      "metadata": {
        "id": "OUovfpr3D_nl"
      },
      "source": [
        "## Tema 2"
      ]
    },
    {
      "cell_type": "markdown",
      "metadata": {
        "id": "dnhFdr_9-sV2"
      },
      "source": [
        "### Número de condicion"
      ]
    },
    {
      "cell_type": "markdown",
      "metadata": {
        "id": "KMs1uAWmA0mt"
      },
      "source": [
        "El número de condición se define como $\\vert\\vert A \\vert\\vert \\cdot \\vert\\vert A^{-1}\\vert\\vert$. Un número de condición cercano a 1 implica una matriz más estable frente a métodos con elementos diferenciales. Se cumple que las matrices ortogonales tienen número de condición 1."
      ]
    },
    {
      "cell_type": "code",
      "metadata": {
        "id": "zEeV7Ic1-uF2",
        "outputId": "b2c4211d-c654-46c0-8831-2e95ef889d5b",
        "colab": {
          "base_uri": "https://localhost:8080/",
          "height": 78
        }
      },
      "source": [
        "M = mat(((1, 2, 3), (2, 3, 1), (3, 2, 4)))\r\n",
        "M"
      ],
      "execution_count": 10,
      "outputs": [
        {
          "output_type": "execute_result",
          "data": {
            "text/latex": "$\\displaystyle \\left[\\begin{matrix}1 & 2 & 3\\\\2 & 3 & 1\\\\3 & 2 & 4\\end{matrix}\\right]$",
            "text/plain": [
              "Matrix([\n",
              "[1, 2, 3],\n",
              "[2, 3, 1],\n",
              "[3, 2, 4]])"
            ]
          },
          "metadata": {
            "tags": []
          },
          "execution_count": 10
        }
      ]
    },
    {
      "cell_type": "code",
      "metadata": {
        "id": "9I7Yh2MXAdap",
        "outputId": "04dadaad-5316-484f-913a-1cfa9151767b",
        "colab": {
          "base_uri": "https://localhost:8080/"
        }
      },
      "source": [
        "numero_condicion(np.array(M).astype(int))"
      ],
      "execution_count": 27,
      "outputs": [
        {
          "output_type": "execute_result",
          "data": {
            "text/plain": [
              "6.960250455451664"
            ]
          },
          "metadata": {
            "tags": []
          },
          "execution_count": 27
        }
      ]
    },
    {
      "cell_type": "code",
      "metadata": {
        "id": "avs2j_2h-7L_",
        "outputId": "8a91c704-78f9-4a49-9514-062336274537",
        "colab": {
          "base_uri": "https://localhost:8080/"
        }
      },
      "source": [
        "M_ort = (orth(np.array(M).astype(int)))\r\n",
        "M_ort"
      ],
      "execution_count": 28,
      "outputs": [
        {
          "output_type": "execute_result",
          "data": {
            "text/plain": [
              "array([[-0.50127996, -0.23313726,  0.83328592],\n",
              "       [-0.45615124,  0.88953592, -0.02553206],\n",
              "       [-0.73528528, -0.39290311, -0.55225239]])"
            ]
          },
          "metadata": {
            "tags": []
          },
          "execution_count": 28
        }
      ]
    },
    {
      "cell_type": "code",
      "metadata": {
        "id": "pzDxNXvFAc3Y",
        "outputId": "3cdb869f-2a4a-4d67-f7b0-099c4d0f0c25",
        "colab": {
          "base_uri": "https://localhost:8080/"
        }
      },
      "source": [
        "numero_condicion(M_ort)"
      ],
      "execution_count": 29,
      "outputs": [
        {
          "output_type": "execute_result",
          "data": {
            "text/plain": [
              "1.0000000000000004"
            ]
          },
          "metadata": {
            "tags": []
          },
          "execution_count": 29
        }
      ]
    },
    {
      "cell_type": "markdown",
      "metadata": {
        "id": "A0gMSfcy-kYL"
      },
      "source": [
        "### Factorización LU y LDU*\r\n",
        "\r\n",
        "Recordemos que para una matriz, la factorización LU es el proceso de aplicación de la simplificación de Gauss, de modo que la matriz $L$ es una matriz triangular inferior con los coeficientes de transformación, y la matriz $U$ es la matriz superior con los elementos tras las transformaciones lineales.\r\n",
        "\r\n",
        "Además, se puede hacer que $D$ sea una matriz diagonal con los valores de la diagonal de $U$, de modo que $LU$ = $LDD^{-1}U$, y si hacemos $U^* = D^{-1}U$ entonces tenemos $LDU^*$, donde $U^*$ sigue siendo una matriz diagonal superior, pero con la diagonal igual a 1.\r\n",
        "\r\n",
        "A la hora de aplicar la factorización LU y LDU* se puede hacer una permutación de filas, de modo que en cada iteración se coge la fila con mayor valor (de entre las que no se han *procesado*) y se permuta, garantizando una solución siempre. También, es importante tener en mente que la factorización falla si algún elemento de la diagonal (desde el principio o durante la factorización) es 0, de modo que para solucionar ese caso se aplica la permutación.\r\n",
        "\r\n",
        "Todas las permutaciones quedan recogidas en una matriz $P$, de modo que $$LU = LDU^* = PA$$"
      ]
    },
    {
      "cell_type": "code",
      "metadata": {
        "id": "h8jGltvuTOUP"
      },
      "source": [
        "# Funciones asociadas a la factorización LU y LUD\r\n",
        "\r\n",
        "def permutacion_matriz(U, fila_i, idx_max, verbose, P=None, r=None):\r\n",
        "      if verbose:\r\n",
        "        print(f'Permutamos fila {fila_i} con {idx_max}')\r\n",
        "        print(f'U antes:\\n {np.array(U)}')\r\n",
        "        print(f'P antes:\\n {np.array(P)}')\r\n",
        "\r\n",
        "      if fila_i != idx_max:\r\n",
        "        fila_origen, fila_destino = U[fila_i, :].copy(), U[idx_max, :].copy()\r\n",
        "        U[idx_max, :], U[fila_i, :] = fila_origen, fila_destino\r\n",
        "        if P is not None:\r\n",
        "          fila_origen, fila_destino = P[fila_i, :].copy(), P[idx_max, :].copy()\r\n",
        "          P[idx_max, :], P[fila_i, :] = fila_origen, fila_destino\r\n",
        "        if r is not None:\r\n",
        "          fila_origen, fila_destino = r[fila_i, :].copy(), r[idx_max, :].copy()\r\n",
        "          r[idx_max, :], r[fila_i, :] = fila_origen, fila_destino\r\n",
        "\r\n",
        "      if verbose:\r\n",
        "         print(f'U despues:\\n {np.array(U)}')\r\n",
        "         print(f'P despues:\\n {np.array(P)}')\r\n",
        "      return U, P, r\r\n",
        "\r\n",
        "def permutacion_L(L, perm, verbose):\r\n",
        "  \"\"\"\r\n",
        "  Esta función la creo porque a la hora de hacer la permutación, hay que \r\n",
        "  permutar los elementos de L pero no directamente. Solo hay que seleccionar\r\n",
        "  los elementos de la diagonal inferior que correspondan con el menor número de\r\n",
        "  columnas. Por ejemplo, si permutamos las filas 3 y 5, se tienen que mover solo\r\n",
        "  los elementos de las 2 primeras columnas (2 -> 3) para luego continuar \r\n",
        "  con las transformaciones del resto de columnas.\r\n",
        "  \"\"\"\r\n",
        "  if verbose:\r\n",
        "    print(f'L antes:\\n {np.array(L)}')\r\n",
        "\r\n",
        "  fila_origen, fila_destino = L[perm[0], :min(perm)].copy(), L[perm[1], :min(perm)].copy()\r\n",
        "  L[perm[1], :min(perm)], L[perm[0], :min(perm)] = fila_origen, fila_destino\r\n",
        "\r\n",
        "  if verbose:\r\n",
        "    print(f'L despues:\\n {np.array(L)}')\r\n",
        "  return L \r\n",
        "\r\n",
        "\r\n",
        "def descomposicion_LU(m, rhs=None, verbose=True, permutar_max=False):\r\n",
        "  '''\r\n",
        "  Esta función realiza el algoritmo de triangulación de Gauss. Para ello vamos a\r\n",
        "  ir aplicando paso a paso el algoritmo tal cual se hace manualmente, \r\n",
        "  y aplicamos los cambios de columnas necesarios si hay que aplicar permutaciones.\r\n",
        "  Por defecto, si encontramos un 0 en la diagonal aplicamos permutar_max para esa\r\n",
        "  fila, y devolvemos la matriz de permutaciones.\r\n",
        "  '''\r\n",
        "\r\n",
        "  if rhs is None:\r\n",
        "    rhs = zeros(m.shape[0], 1)\r\n",
        "\r\n",
        "  if verbose:\r\n",
        "    print(\"La matriz M|X es  (X = 0) si no se ha introducido\")\r\n",
        "    print(np.concatenate((np.array(m), np.array(rhs)), axis=1))\r\n",
        "  \r\n",
        "  P, L, U, r = eye(m.shape[0]), eye(m.shape[0]), m.copy(), rhs.copy()\r\n",
        "  lista_perms = []\r\n",
        "  fila_i, err, err_max = 0, 0, 3\r\n",
        "  \r\n",
        "\r\n",
        "  while fila_i < m.shape[0] and err < err_max:\r\n",
        "    if verbose:\r\n",
        "      print(f'\\n=====================================\\nFila {fila_i}')\r\n",
        "      print(f'A {fila_i}, {err}')\r\n",
        "\r\n",
        "    if U[max(0, fila_i-1), max(0, fila_i-1)] == 0 or permutar_max:\r\n",
        "      \"\"\"\r\n",
        "      Esta parte nos asegura que si un elemento diagonal es cero, permutamos\r\n",
        "      la fila con su inmediata inferior y rehacemos los cálculos, \r\n",
        "      y así tener una configuración viable.\r\n",
        "      En cualquier permutación tenemos que cambiar la L acorde con el cambio.\r\n",
        "      Al hacer la permutación, con los nuevos valores, repasamos la matriz para \r\n",
        "      asegurarnos de que todos los puntos están cumplidos.\r\n",
        "\r\n",
        "      Para la opción de permutar, buscamos un elemento de las filas no alteradas\r\n",
        "      que sea el mayor. Si hay más de una fila, y una de ellas es la \r\n",
        "      actual, no aplica la permutación.\r\n",
        "      \"\"\"\r\n",
        "      sub_mat = U[fila_i:, fila_i:]\r\n",
        "      max_el = np.max(np.array(sub_mat))\r\n",
        "      idx_max = np.min([i[0] for i in np.argwhere(np.array(sub_mat) == max_el)]) + fila_i # Cogemos el primer elemento si hay varios\r\n",
        "      \r\n",
        "      if U[max(0, fila_i-1), max(0, fila_i-1)] == 0:\r\n",
        "        U, P, r = permutacion_matriz(U, max(0, fila_i-1), idx_max, verbose, P, r)\r\n",
        "        L = permutacion_L(L, [max(0, fila_i-1), idx_max], verbose)\r\n",
        "        fila_i = min(max(0, fila_i-1), idx_max)\r\n",
        "        \r\n",
        "        err += 1\r\n",
        "        if verbose:\r\n",
        "          print(f'Err {err}')\r\n",
        "        continue\r\n",
        "\r\n",
        "      elif permutar_max:\r\n",
        "        if idx_max <= fila_i: # No es necesario hacer la permutación\r\n",
        "          if verbose:\r\n",
        "            print('El índice de permutación es igual a la fila a permutar.')\r\n",
        "        else:\r\n",
        "          U, P, r = permutacion_matriz(U, fila_i, idx_max, verbose, P, r)\r\n",
        "          L = permutacion_L(L, [fila_i, idx_max], verbose)\r\n",
        "          continue\r\n",
        "\r\n",
        "    # Ahora aplicamos el algoritmo de calculo de filas:\r\n",
        "    for columna_j in range(fila_i):\r\n",
        "      a_ij = U[fila_i, columna_j] /  U[columna_j, columna_j]\r\n",
        "      \r\n",
        "      if a_ij != 0:\r\n",
        "        L[fila_i, columna_j] = a_ij\r\n",
        "        U[fila_i, :] = U[fila_i, :] - a_ij * U[columna_j, :]\r\n",
        "        r[fila_i, :] = r[fila_i, :] - a_ij * r[columna_j, :]\r\n",
        "\r\n",
        "      err = 0\r\n",
        "\r\n",
        "      if verbose:\r\n",
        "        print(f'||||||||||||||||||||||||\\n Columna {columna_j}')\r\n",
        "        print(f'a_{fila_i},{columna_j} = {a_ij}')\r\n",
        "        print(f'P = \\n{np.array(P)}')\r\n",
        "        print(f'L = \\n{np.array(L)}')\r\n",
        "        print(f'U = \\n{np.array(U)}')\r\n",
        "        print(f'r = \\n{np.array(r)}')\r\n",
        "\r\n",
        "    fila_i += 1\r\n",
        "  \r\n",
        "  if err == err_max:\r\n",
        "    print('Algo ha ido mal... mira el log.')\r\n",
        "\r\n",
        "  if verbose:\r\n",
        "        print(f'\\/\\/\\/\\/\\/\\/\\/\\/\\/ FORMA FINAL')\r\n",
        "        print(f'P = \\n{np.array(P)}\\n')\r\n",
        "        print(f'L = \\n{np.array(L)}\\n')\r\n",
        "        print(f'U = \\n{np.array(U)}\\n')\r\n",
        "        print(f'r = \\n{np.array(r)}\\n')\r\n",
        "\r\n",
        "  assert L * U == P * m\r\n",
        "\r\n",
        "  return {'P': P, 'L': L, 'U': U, 'r': r}\r\n",
        "\r\n",
        "\r\n",
        "def descomposicion_LDU(m, permutar_max=True, verbose=False):\r\n",
        "  dict_LU = descomposicion_LU(m, permutar_max=permutar_max, verbose=verbose)\r\n",
        "  L, U = dict_LU['L'], dict_LU['U']\r\n",
        "\r\n",
        "  D = zeros(m.shape[0], m.shape[0])\r\n",
        "\r\n",
        "  for i in range(U.shape[0]):\r\n",
        "    D[i, i] = U[i, i]\r\n",
        "  \r\n",
        "  U = D.inv() * U\r\n",
        "\r\n",
        "  if verbose:\r\n",
        "        print(f'\\/\\/\\/\\/\\/\\/\\/\\/\\/ RESULTS LDU*')\r\n",
        "        print(f'L = \\n{np.array(L)}\\n')\r\n",
        "        print(f'D = \\n{np.array(D)}\\n')\r\n",
        "        print(f'U* = \\n{np.array(U)}\\n')\r\n",
        "\r\n",
        "  assert L * D * U == dict_LU['P'] * m\r\n",
        "\r\n",
        "  return {'P': dict_LU['P'], 'L': L, 'U': U, 'D': D}\r\n",
        "  \r\n",
        "  \r\n"
      ],
      "execution_count": 67,
      "outputs": []
    },
    {
      "cell_type": "code",
      "metadata": {
        "id": "kWCu2LKbDBbP"
      },
      "source": [
        "M = mat(((1, 4, 4), (3, 2, 1), (2, 4, 1)))"
      ],
      "execution_count": 31,
      "outputs": []
    },
    {
      "cell_type": "code",
      "metadata": {
        "id": "40fCFj_GIBTU"
      },
      "source": [
        "descomposicion_LU(M, permutar_max=False)"
      ],
      "execution_count": null,
      "outputs": []
    },
    {
      "cell_type": "code",
      "metadata": {
        "id": "Zq3S3aEHGpEN"
      },
      "source": [
        "descomposicion_LDU(M, permutar_max=False)"
      ],
      "execution_count": null,
      "outputs": []
    },
    {
      "cell_type": "code",
      "metadata": {
        "id": "GxsFFK6naXHD",
        "outputId": "6f61ba03-fe1b-4c9e-8205-739696436786",
        "colab": {
          "base_uri": "https://localhost:8080/"
        }
      },
      "source": [
        "descomposicion_LU(M, rhs=ones(M.shape[0], 1), permutar_max=True)"
      ],
      "execution_count": 68,
      "outputs": [
        {
          "output_type": "stream",
          "text": [
            "La matriz M|X es  (X = 0) si no se ha introducido\n",
            "[[1 4 4 1]\n",
            " [3 2 1 1]\n",
            " [2 4 1 1]]\n",
            "\n",
            "=====================================\n",
            "Fila 0\n",
            "A 0, 0\n",
            "El índice de permutación es igual a la fila a permutar.\n",
            "\n",
            "=====================================\n",
            "Fila 1\n",
            "A 1, 0\n",
            "Permutamos fila 1 con 2\n",
            "U antes:\n",
            " [[1 4 4]\n",
            " [3 2 1]\n",
            " [2 4 1]]\n",
            "P antes:\n",
            " [[1 0 0]\n",
            " [0 1 0]\n",
            " [0 0 1]]\n",
            "U despues:\n",
            " [[1 4 4]\n",
            " [2 4 1]\n",
            " [3 2 1]]\n",
            "P despues:\n",
            " [[1 0 0]\n",
            " [0 0 1]\n",
            " [0 1 0]]\n",
            "L antes:\n",
            " [[1 0 0]\n",
            " [0 1 0]\n",
            " [0 0 1]]\n",
            "L despues:\n",
            " [[1 0 0]\n",
            " [0 1 0]\n",
            " [0 0 1]]\n",
            "\n",
            "=====================================\n",
            "Fila 1\n",
            "A 1, 0\n",
            "El índice de permutación es igual a la fila a permutar.\n",
            "||||||||||||||||||||||||\n",
            " Columna 0\n",
            "a_1,0 = 2\n",
            "P = \n",
            "[[1 0 0]\n",
            " [0 0 1]\n",
            " [0 1 0]]\n",
            "L = \n",
            "[[1 0 0]\n",
            " [2 1 0]\n",
            " [0 0 1]]\n",
            "U = \n",
            "[[1 4 4]\n",
            " [0 -4 -7]\n",
            " [3 2 1]]\n",
            "r = \n",
            "[[1]\n",
            " [-1]\n",
            " [1]]\n",
            "\n",
            "=====================================\n",
            "Fila 2\n",
            "A 2, 0\n",
            "El índice de permutación es igual a la fila a permutar.\n",
            "||||||||||||||||||||||||\n",
            " Columna 0\n",
            "a_2,0 = 3\n",
            "P = \n",
            "[[1 0 0]\n",
            " [0 0 1]\n",
            " [0 1 0]]\n",
            "L = \n",
            "[[1 0 0]\n",
            " [2 1 0]\n",
            " [3 0 1]]\n",
            "U = \n",
            "[[1 4 4]\n",
            " [0 -4 -7]\n",
            " [0 -10 -11]]\n",
            "r = \n",
            "[[1]\n",
            " [-1]\n",
            " [-2]]\n",
            "||||||||||||||||||||||||\n",
            " Columna 1\n",
            "a_2,1 = 5/2\n",
            "P = \n",
            "[[1 0 0]\n",
            " [0 0 1]\n",
            " [0 1 0]]\n",
            "L = \n",
            "[[1 0 0]\n",
            " [2 1 0]\n",
            " [3 5/2 1]]\n",
            "U = \n",
            "[[1 4 4]\n",
            " [0 -4 -7]\n",
            " [0 0 13/2]]\n",
            "r = \n",
            "[[1]\n",
            " [-1]\n",
            " [1/2]]\n",
            "\\/\\/\\/\\/\\/\\/\\/\\/\\/ FORMA FINAL\n",
            "P = \n",
            "[[1 0 0]\n",
            " [0 0 1]\n",
            " [0 1 0]]\n",
            "\n",
            "L = \n",
            "[[1 0 0]\n",
            " [2 1 0]\n",
            " [3 5/2 1]]\n",
            "\n",
            "U = \n",
            "[[1 4 4]\n",
            " [0 -4 -7]\n",
            " [0 0 13/2]]\n",
            "\n",
            "r = \n",
            "[[1]\n",
            " [-1]\n",
            " [1/2]]\n",
            "\n"
          ],
          "name": "stdout"
        },
        {
          "output_type": "execute_result",
          "data": {
            "text/plain": [
              "{'L': Matrix([\n",
              " [1,   0, 0],\n",
              " [2,   1, 0],\n",
              " [3, 5/2, 1]]), 'P': Matrix([\n",
              " [1, 0, 0],\n",
              " [0, 0, 1],\n",
              " [0, 1, 0]]), 'U': Matrix([\n",
              " [1,  4,    4],\n",
              " [0, -4,   -7],\n",
              " [0,  0, 13/2]]), 'r': Matrix([\n",
              " [  1],\n",
              " [ -1],\n",
              " [1/2]])}"
            ]
          },
          "metadata": {
            "tags": []
          },
          "execution_count": 68
        }
      ]
    },
    {
      "cell_type": "code",
      "metadata": {
        "id": "hfCYSdUBch4v",
        "colab": {
          "base_uri": "https://localhost:8080/"
        },
        "outputId": "49201ef4-fc25-4ff2-cb30-9f26475d0e1c"
      },
      "source": [
        "descomposicion_LDU(M, permutar_max=True)"
      ],
      "execution_count": 69,
      "outputs": [
        {
          "output_type": "execute_result",
          "data": {
            "text/plain": [
              "{'D': Matrix([\n",
              " [1,  0,    0],\n",
              " [0, -4,    0],\n",
              " [0,  0, 13/2]]), 'L': Matrix([\n",
              " [1,   0, 0],\n",
              " [2,   1, 0],\n",
              " [3, 5/2, 1]]), 'P': Matrix([\n",
              " [1, 0, 0],\n",
              " [0, 0, 1],\n",
              " [0, 1, 0]]), 'U': Matrix([\n",
              " [1, 4,   4],\n",
              " [0, 1, 7/4],\n",
              " [0, 0,   1]])}"
            ]
          },
          "metadata": {
            "tags": []
          },
          "execution_count": 69
        }
      ]
    },
    {
      "cell_type": "markdown",
      "metadata": {
        "id": "W6br1XOwJdDp"
      },
      "source": [
        "### Factorización de Cholesky\r\n"
      ]
    }
  ]
}