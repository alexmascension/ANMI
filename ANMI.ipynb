{
  "nbformat": 4,
  "nbformat_minor": 0,
  "metadata": {
    "colab": {
      "name": "ANMI.ipynb",
      "provenance": [],
      "toc_visible": true,
      "authorship_tag": "ABX9TyPfWZyU+YBEb41d3S2T4xGk",
      "include_colab_link": true
    },
    "kernelspec": {
      "name": "python3",
      "display_name": "Python 3"
    }
  },
  "cells": [
    {
      "cell_type": "markdown",
      "metadata": {
        "id": "view-in-github",
        "colab_type": "text"
      },
      "source": [
        "<a href=\"https://colab.research.google.com/github/alexmascension/ANMI/blob/main/ANMI.ipynb\" target=\"_parent\"><img src=\"https://colab.research.google.com/assets/colab-badge.svg\" alt=\"Open In Colab\"/></a>"
      ]
    },
    {
      "cell_type": "markdown",
      "metadata": {
        "id": "Vf3GioQwcepr"
      },
      "source": [
        "# Ejemplos de ANMI"
      ]
    },
    {
      "cell_type": "code",
      "metadata": {
        "id": "dYo_JGn2TSxC"
      },
      "source": [
        "from sympy import *\r\n",
        "from sympy.matrices import Matrix as mat\r\n",
        "from sympy.matrices import randMatrix\r\n",
        "from sympy import symbols\r\n",
        "\r\n",
        "import numpy as np\r\n",
        "from numpy.linalg import cond as numero_condicion\r\n",
        "\r\n",
        "from scipy.linalg import orth"
      ],
      "execution_count": null,
      "outputs": []
    },
    {
      "cell_type": "markdown",
      "metadata": {
        "id": "Yhs7MN3O9Yxy"
      },
      "source": [
        "## Funciones genéricas\n",
        "\n"
      ]
    },
    {
      "cell_type": "code",
      "metadata": {
        "id": "-r65RghO9UnY"
      },
      "source": [
        "def norma(x):\n",
        "  return sqrt((x.T * x)[0])\n",
        "\n",
        "def print_verbose(msg, verbose):\n",
        "  if type(msg) == str:\n",
        "    msg = [msg]\n",
        "  if verbose:\n",
        "    for i in msg:\n",
        "      print(i)"
      ],
      "execution_count": null,
      "outputs": []
    },
    {
      "cell_type": "markdown",
      "metadata": {
        "id": "OUovfpr3D_nl"
      },
      "source": [
        "## Tema 2"
      ]
    },
    {
      "cell_type": "markdown",
      "metadata": {
        "id": "dnhFdr_9-sV2"
      },
      "source": [
        "### Número de condicion"
      ]
    },
    {
      "cell_type": "markdown",
      "metadata": {
        "id": "KMs1uAWmA0mt"
      },
      "source": [
        "El número de condición se define como $\\vert\\vert A \\vert\\vert \\cdot \\vert\\vert A^{-1}\\vert\\vert$. Un número de condición cercano a 1 implica una matriz más estable frente a métodos con elementos diferenciales. Se cumple que las matrices ortogonales tienen número de condición 1."
      ]
    },
    {
      "cell_type": "code",
      "metadata": {
        "colab": {
          "base_uri": "https://localhost:8080/",
          "height": 78
        },
        "id": "zEeV7Ic1-uF2",
        "outputId": "d58c306a-d2ea-4a68-9fc5-51870c264743"
      },
      "source": [
        "M = mat(((1, 2, 3), (2, 3, 1), (3, 2, 4)))\r\n",
        "M"
      ],
      "execution_count": null,
      "outputs": [
        {
          "output_type": "execute_result",
          "data": {
            "text/latex": "$\\displaystyle \\left[\\begin{matrix}1 & 2 & 3\\\\2 & 3 & 1\\\\3 & 2 & 4\\end{matrix}\\right]$",
            "text/plain": [
              "Matrix([\n",
              "[1, 2, 3],\n",
              "[2, 3, 1],\n",
              "[3, 2, 4]])"
            ]
          },
          "metadata": {
            "tags": []
          },
          "execution_count": 3
        }
      ]
    },
    {
      "cell_type": "code",
      "metadata": {
        "colab": {
          "base_uri": "https://localhost:8080/"
        },
        "id": "9I7Yh2MXAdap",
        "outputId": "42cc43ae-4358-47ce-cfd9-7d958dcae87a"
      },
      "source": [
        "numero_condicion(np.array(M).astype(int))"
      ],
      "execution_count": null,
      "outputs": [
        {
          "output_type": "execute_result",
          "data": {
            "text/plain": [
              "6.960250455451664"
            ]
          },
          "metadata": {
            "tags": []
          },
          "execution_count": 4
        }
      ]
    },
    {
      "cell_type": "code",
      "metadata": {
        "colab": {
          "base_uri": "https://localhost:8080/"
        },
        "id": "avs2j_2h-7L_",
        "outputId": "9fb5f446-1efa-49b5-d2b4-73a1c68a23ec"
      },
      "source": [
        "M_ort = (orth(np.array(M).astype(int)))\r\n",
        "M_ort"
      ],
      "execution_count": null,
      "outputs": [
        {
          "output_type": "execute_result",
          "data": {
            "text/plain": [
              "array([[-0.50127996, -0.23313726,  0.83328592],\n",
              "       [-0.45615124,  0.88953592, -0.02553206],\n",
              "       [-0.73528528, -0.39290311, -0.55225239]])"
            ]
          },
          "metadata": {
            "tags": []
          },
          "execution_count": 5
        }
      ]
    },
    {
      "cell_type": "code",
      "metadata": {
        "colab": {
          "base_uri": "https://localhost:8080/"
        },
        "id": "pzDxNXvFAc3Y",
        "outputId": "fa0d26d7-897b-45b6-bfb4-d070d3a688be"
      },
      "source": [
        "numero_condicion(M_ort)"
      ],
      "execution_count": null,
      "outputs": [
        {
          "output_type": "execute_result",
          "data": {
            "text/plain": [
              "1.0000000000000004"
            ]
          },
          "metadata": {
            "tags": []
          },
          "execution_count": 6
        }
      ]
    },
    {
      "cell_type": "markdown",
      "metadata": {
        "id": "A0gMSfcy-kYL"
      },
      "source": [
        "### Factorización LU y LDU*\r\n",
        "\r\n",
        "Recordemos que para una matriz, la factorización LU es el proceso de aplicación de la simplificación de Gauss, de modo que la matriz $L$ es una matriz triangular inferior con los coeficientes de transformación, y la matriz $U$ es la matriz superior con los elementos tras las transformaciones lineales.\r\n",
        "\r\n",
        "Además, se puede hacer que $D$ sea una matriz diagonal con los valores de la diagonal de $U$, de modo que $LU$ = $LDD^{-1}U$, y si hacemos $U^* = D^{-1}U$ entonces tenemos $LDU^*$, donde $U^*$ sigue siendo una matriz diagonal superior, pero con la diagonal igual a 1.\r\n",
        "\r\n",
        "A la hora de aplicar la factorización LU y LDU* se puede hacer una permutación de filas, de modo que en cada iteración se coge la fila con mayor valor (de entre las que no se han *procesado*) y se permuta, garantizando una solución siempre. También, es importante tener en mente que la factorización falla si algún elemento de la diagonal (desde el principio o durante la factorización) es 0, de modo que para solucionar ese caso se aplica la permutación.\r\n",
        "\r\n",
        "Todas las permutaciones quedan recogidas en una matriz $P$, de modo que $$LU = LDU^* = PA$$"
      ]
    },
    {
      "cell_type": "code",
      "metadata": {
        "id": "h8jGltvuTOUP"
      },
      "source": [
        "# Funciones asociadas a la factorización LU y LUD\r\n",
        "\r\n",
        "def permutacion_matriz(U, fila_i, idx_max, verbose=False, P=None, r=None):\r\n",
        "      print_verbose([f'Permutamos fila {fila_i} con {idx_max}',\r\n",
        "                    f'U antes:\\n {np.array(U)}',\r\n",
        "                    f'P antes:\\n {np.array(P)}'], verbose)\r\n",
        "\r\n",
        "      if fila_i != idx_max:\r\n",
        "        fila_origen, fila_destino = U[fila_i, :].copy(), U[idx_max, :].copy()\r\n",
        "        U[idx_max, :], U[fila_i, :] = fila_origen, fila_destino\r\n",
        "        if P is not None:\r\n",
        "          fila_origen, fila_destino = P[fila_i, :].copy(), P[idx_max, :].copy()\r\n",
        "          P[idx_max, :], P[fila_i, :] = fila_origen, fila_destino\r\n",
        "        if r is not None:\r\n",
        "          fila_origen, fila_destino = r[fila_i, :].copy(), r[idx_max, :].copy()\r\n",
        "          r[idx_max, :], r[fila_i, :] = fila_origen, fila_destino\r\n",
        "\r\n",
        "      print_verbose([f'U despues:\\n {np.array(U)}',\r\n",
        "                    f'P despues:\\n {np.array(P)}'], verbose)\r\n",
        "\r\n",
        "      return U, P, r\r\n",
        "\r\n",
        "\r\n",
        "def permutacion_L(L, perm, verbose=False):\r\n",
        "  \"\"\"\r\n",
        "  Esta función la creo porque a la hora de hacer la permutación, hay que \r\n",
        "  permutar los elementos de L pero no directamente. Solo hay que seleccionar\r\n",
        "  los elementos de la diagonal inferior que correspondan con el menor número de\r\n",
        "  columnas. Por ejemplo, si permutamos las filas 3 y 5, se tienen que mover solo\r\n",
        "  los elementos de las 2 primeras columnas (2 -> 3) para luego continuar \r\n",
        "  con las transformaciones del resto de columnas.\r\n",
        "  \"\"\"\r\n",
        "  print_verbose(f'L antes:\\n {np.array(L)}', verbose)\r\n",
        "\r\n",
        "  fila_origen, fila_destino = L[perm[0], :min(perm)].copy(), L[perm[1], :min(perm)].copy()\r\n",
        "  L[perm[1], :min(perm)], L[perm[0], :min(perm)] = fila_origen, fila_destino\r\n",
        "\r\n",
        "  print_verbose(f'L despues:\\n {np.array(L)}', verbose)\r\n",
        "\r\n",
        "  return L \r\n",
        "\r\n",
        "\r\n",
        "def descomposicion_LU(m, rhs=None, verbose=True, permutar_max=False):\r\n",
        "  '''\r\n",
        "  Esta función realiza el algoritmo de triangulación de Gauss. Para ello vamos a\r\n",
        "  ir aplicando paso a paso el algoritmo tal cual se hace manualmente, \r\n",
        "  y aplicamos los cambios de columnas necesarios si hay que aplicar permutaciones.\r\n",
        "  Por defecto, si encontramos un 0 en la diagonal aplicamos permutar_max para esa\r\n",
        "  fila, y devolvemos la matriz de permutaciones.\r\n",
        "  '''\r\n",
        "\r\n",
        "  if rhs is None:\r\n",
        "    rhs = zeros(m.shape[0], 1)\r\n",
        "\r\n",
        "  print_verbose([\"La matriz M|X es  (X = 0) si no se ha introducido\", \r\n",
        "                np.concatenate((np.array(m), np.array(rhs)), axis=1)], verbose)\r\n",
        "  \r\n",
        "  P, L, U, r = eye(m.shape[0]), eye(m.shape[0]), m.copy(), rhs.copy()\r\n",
        "  lista_perms = []\r\n",
        "  fila_i, err, err_max = 0, 0, 3\r\n",
        "  \r\n",
        "\r\n",
        "  while fila_i < m.shape[0] and err < err_max:\r\n",
        "    print_verbose([f'\\n=====================================\\nFila {fila_i}', \r\n",
        "                   f'A {fila_i}, {err}'], verbose)\r\n",
        "\r\n",
        "    if U[max(0, fila_i-1), max(0, fila_i-1)] == 0 or permutar_max:\r\n",
        "      \"\"\"\r\n",
        "      Esta parte nos asegura que si un elemento diagonal es cero, permutamos\r\n",
        "      la fila con su inmediata inferior y rehacemos los cálculos, \r\n",
        "      y así tener una configuración viable.\r\n",
        "      En cualquier permutación tenemos que cambiar la L acorde con el cambio.\r\n",
        "      Al hacer la permutación, con los nuevos valores, repasamos la matriz para \r\n",
        "      asegurarnos de que todos los puntos están cumplidos.\r\n",
        "\r\n",
        "      Para la opción de permutar, buscamos un elemento de las filas no alteradas\r\n",
        "      que sea el mayor. Si hay más de una fila, y una de ellas es la \r\n",
        "      actual, no aplica la permutación.\r\n",
        "      \"\"\"\r\n",
        "      sub_mat = U[fila_i:, fila_i:]\r\n",
        "      max_el = np.max(np.array(sub_mat))\r\n",
        "      idx_max = np.min([i[0] for i in np.argwhere(np.array(sub_mat) == max_el)]) + fila_i # Cogemos el primer elemento si hay varios\r\n",
        "      \r\n",
        "      if U[max(0, fila_i-1), max(0, fila_i-1)] == 0:\r\n",
        "        U, P, r = permutacion_matriz(U, max(0, fila_i-1), idx_max, verbose, P, r)\r\n",
        "        L = permutacion_L(L, [max(0, fila_i-1), idx_max], verbose)\r\n",
        "        fila_i = min(max(0, fila_i-1), idx_max)\r\n",
        "        \r\n",
        "        err += 1\r\n",
        "        print_verbose(f'Err {err}', verbose)\r\n",
        "        continue\r\n",
        "\r\n",
        "      elif permutar_max:\r\n",
        "        if idx_max <= fila_i: # No es necesario hacer la permutación\r\n",
        "          print_verbose('El índice de permutación es igual a la fila a permutar.', verbose)\r\n",
        "        else:\r\n",
        "          U, P, r = permutacion_matriz(U, fila_i, idx_max, verbose, P, r)\r\n",
        "          L = permutacion_L(L, [fila_i, idx_max], verbose)\r\n",
        "          continue\r\n",
        "\r\n",
        "    # Ahora aplicamos el algoritmo de calculo de filas:\r\n",
        "    for columna_j in range(fila_i):\r\n",
        "      a_ij = U[fila_i, columna_j] /  U[columna_j, columna_j]\r\n",
        "      \r\n",
        "      if a_ij != 0:\r\n",
        "        L[fila_i, columna_j] = a_ij\r\n",
        "        U[fila_i, :] = U[fila_i, :] - a_ij * U[columna_j, :]\r\n",
        "        r[fila_i, :] = r[fila_i, :] - a_ij * r[columna_j, :]\r\n",
        "\r\n",
        "      err = 0\r\n",
        "\r\n",
        "      print_verbose([\r\n",
        "        f'||||||||||||||||||||||||\\n Columna {columna_j}',\r\n",
        "        f'a_{fila_i},{columna_j} = {a_ij}',\r\n",
        "        f'P = \\n{np.array(P)}',\r\n",
        "        f'L = \\n{np.array(L)}',\r\n",
        "        f'U = \\n{np.array(U)}',\r\n",
        "        f'r = \\n{np.array(r)}'], verbose)\r\n",
        "\r\n",
        "    fila_i += 1\r\n",
        "  \r\n",
        "  if err == err_max:\r\n",
        "    print('Algo ha ido mal... mira el log.')\r\n",
        "\r\n",
        "  print_verbose([\r\n",
        "        f'\\/\\/\\/\\/\\/\\/\\/\\/\\/ FORMA FINAL',\r\n",
        "        f'a_{fila_i},{columna_j} = {a_ij}',\r\n",
        "        f'P = \\n{np.array(P)}\\n',\r\n",
        "        f'L = \\n{np.array(L)}\\n',\r\n",
        "        f'U = \\n{np.array(U)}\\n',\r\n",
        "        f'r = \\n{np.array(r)}\\n'], verbose)\r\n",
        "\r\n",
        "  if simplify(L * U) != simplify(P * m):\r\n",
        "    print('AVISO!!! LU != PA')\r\n",
        "\r\n",
        "  return {'P': simplify(P), 'L': simplify(L), 'U': simplify(U), 'r': simplify(r)}\r\n",
        "\r\n",
        "\r\n",
        "def descomposicion_LDU(m, permutar_max=True, verbose=False):\r\n",
        "  dict_LU = descomposicion_LU(m, permutar_max=permutar_max, verbose=verbose)\r\n",
        "  L, U = dict_LU['L'], dict_LU['U']\r\n",
        "\r\n",
        "  D = zeros(m.shape[0], m.shape[0])\r\n",
        "\r\n",
        "  for i in range(U.shape[0]):\r\n",
        "    D[i, i] = U[i, i]\r\n",
        "  \r\n",
        "  U = D.inv() * U\r\n",
        "\r\n",
        "  print_verbose([\r\n",
        "        f'\\/\\/\\/\\/\\/\\/\\/\\/\\/ RESULTADOS LDU*',\r\n",
        "        f'L = \\n{np.array(L)}\\n',\r\n",
        "        f'D = \\n{np.array(D)}\\n',\r\n",
        "        f'U* = \\n{np.array(U)}\\n'], verbose)\r\n",
        "\r\n",
        "  if simplify(L * D * U) != simplify(dict_LU['P'] * m):\r\n",
        "    print('AVISO!!! LDU != PA')\r\n",
        "\r\n",
        "  return {'P': simplify(dict_LU['P']), 'L': simplify(L), 'U': simplify(U), 'D': simplify(D)}\r\n",
        "  \r\n",
        "  \r\n"
      ],
      "execution_count": null,
      "outputs": []
    },
    {
      "cell_type": "code",
      "metadata": {
        "id": "kWCu2LKbDBbP"
      },
      "source": [
        "M = mat(((1, 4, 4), (3, 2, 1), (2, 4, 1)))"
      ],
      "execution_count": null,
      "outputs": []
    },
    {
      "cell_type": "code",
      "metadata": {
        "id": "40fCFj_GIBTU",
        "colab": {
          "base_uri": "https://localhost:8080/"
        },
        "outputId": "506c2361-599f-4579-f697-af3a85b51fc4"
      },
      "source": [
        "descomposicion_LU(M, permutar_max=False)"
      ],
      "execution_count": null,
      "outputs": [
        {
          "output_type": "stream",
          "text": [
            "La matriz M|X es  (X = 0) si no se ha introducido\n",
            "[[1 4 4 0]\n",
            " [3 2 1 0]\n",
            " [2 4 1 0]]\n",
            "\n",
            "=====================================\n",
            "Fila 0\n",
            "A 0, 0\n",
            "\n",
            "=====================================\n",
            "Fila 1\n",
            "A 1, 0\n",
            "||||||||||||||||||||||||\n",
            " Columna 0\n",
            "a_1,0 = 3\n",
            "P = \n",
            "[[1 0 0]\n",
            " [0 1 0]\n",
            " [0 0 1]]\n",
            "L = \n",
            "[[1 0 0]\n",
            " [3 1 0]\n",
            " [0 0 1]]\n",
            "U = \n",
            "[[1 4 4]\n",
            " [0 -10 -11]\n",
            " [2 4 1]]\n",
            "r = \n",
            "[[0]\n",
            " [0]\n",
            " [0]]\n",
            "\n",
            "=====================================\n",
            "Fila 2\n",
            "A 2, 0\n",
            "||||||||||||||||||||||||\n",
            " Columna 0\n",
            "a_2,0 = 2\n",
            "P = \n",
            "[[1 0 0]\n",
            " [0 1 0]\n",
            " [0 0 1]]\n",
            "L = \n",
            "[[1 0 0]\n",
            " [3 1 0]\n",
            " [2 0 1]]\n",
            "U = \n",
            "[[1 4 4]\n",
            " [0 -10 -11]\n",
            " [0 -4 -7]]\n",
            "r = \n",
            "[[0]\n",
            " [0]\n",
            " [0]]\n",
            "||||||||||||||||||||||||\n",
            " Columna 1\n",
            "a_2,1 = 2/5\n",
            "P = \n",
            "[[1 0 0]\n",
            " [0 1 0]\n",
            " [0 0 1]]\n",
            "L = \n",
            "[[1 0 0]\n",
            " [3 1 0]\n",
            " [2 2/5 1]]\n",
            "U = \n",
            "[[1 4 4]\n",
            " [0 -10 -11]\n",
            " [0 0 -13/5]]\n",
            "r = \n",
            "[[0]\n",
            " [0]\n",
            " [0]]\n",
            "\\/\\/\\/\\/\\/\\/\\/\\/\\/ FORMA FINAL\n",
            "a_3,1 = 2/5\n",
            "P = \n",
            "[[1 0 0]\n",
            " [0 1 0]\n",
            " [0 0 1]]\n",
            "\n",
            "L = \n",
            "[[1 0 0]\n",
            " [3 1 0]\n",
            " [2 2/5 1]]\n",
            "\n",
            "U = \n",
            "[[1 4 4]\n",
            " [0 -10 -11]\n",
            " [0 0 -13/5]]\n",
            "\n",
            "r = \n",
            "[[0]\n",
            " [0]\n",
            " [0]]\n",
            "\n"
          ],
          "name": "stdout"
        },
        {
          "output_type": "execute_result",
          "data": {
            "text/plain": [
              "{'L': Matrix([\n",
              " [1,   0, 0],\n",
              " [3,   1, 0],\n",
              " [2, 2/5, 1]]), 'P': Matrix([\n",
              " [1, 0, 0],\n",
              " [0, 1, 0],\n",
              " [0, 0, 1]]), 'U': Matrix([\n",
              " [1,   4,     4],\n",
              " [0, -10,   -11],\n",
              " [0,   0, -13/5]]), 'r': Matrix([\n",
              " [0],\n",
              " [0],\n",
              " [0]])}"
            ]
          },
          "metadata": {
            "tags": []
          },
          "execution_count": 9
        }
      ]
    },
    {
      "cell_type": "code",
      "metadata": {
        "id": "Zq3S3aEHGpEN",
        "colab": {
          "base_uri": "https://localhost:8080/"
        },
        "outputId": "91f3e5ef-960c-4b28-842f-bd9d9890ede0"
      },
      "source": [
        "descomposicion_LDU(M, permutar_max=False)"
      ],
      "execution_count": null,
      "outputs": [
        {
          "output_type": "execute_result",
          "data": {
            "text/plain": [
              "{'D': Matrix([\n",
              " [1,   0,     0],\n",
              " [0, -10,     0],\n",
              " [0,   0, -13/5]]), 'L': Matrix([\n",
              " [1,   0, 0],\n",
              " [3,   1, 0],\n",
              " [2, 2/5, 1]]), 'P': Matrix([\n",
              " [1, 0, 0],\n",
              " [0, 1, 0],\n",
              " [0, 0, 1]]), 'U': Matrix([\n",
              " [1, 4,     4],\n",
              " [0, 1, 11/10],\n",
              " [0, 0,     1]])}"
            ]
          },
          "metadata": {
            "tags": []
          },
          "execution_count": 10
        }
      ]
    },
    {
      "cell_type": "code",
      "metadata": {
        "id": "GxsFFK6naXHD",
        "colab": {
          "base_uri": "https://localhost:8080/"
        },
        "outputId": "cb357731-a3f2-457e-e307-47e7eb65f46b"
      },
      "source": [
        "descomposicion_LU(M, rhs=ones(M.shape[0], 1), permutar_max=True)"
      ],
      "execution_count": null,
      "outputs": [
        {
          "output_type": "stream",
          "text": [
            "La matriz M|X es  (X = 0) si no se ha introducido\n",
            "[[1 4 4 1]\n",
            " [3 2 1 1]\n",
            " [2 4 1 1]]\n",
            "\n",
            "=====================================\n",
            "Fila 0\n",
            "A 0, 0\n",
            "El índice de permutación es igual a la fila a permutar.\n",
            "\n",
            "=====================================\n",
            "Fila 1\n",
            "A 1, 0\n",
            "Permutamos fila 1 con 2\n",
            "U antes:\n",
            " [[1 4 4]\n",
            " [3 2 1]\n",
            " [2 4 1]]\n",
            "P antes:\n",
            " [[1 0 0]\n",
            " [0 1 0]\n",
            " [0 0 1]]\n",
            "U despues:\n",
            " [[1 4 4]\n",
            " [2 4 1]\n",
            " [3 2 1]]\n",
            "P despues:\n",
            " [[1 0 0]\n",
            " [0 0 1]\n",
            " [0 1 0]]\n",
            "L antes:\n",
            " [[1 0 0]\n",
            " [0 1 0]\n",
            " [0 0 1]]\n",
            "L despues:\n",
            " [[1 0 0]\n",
            " [0 1 0]\n",
            " [0 0 1]]\n",
            "\n",
            "=====================================\n",
            "Fila 1\n",
            "A 1, 0\n",
            "El índice de permutación es igual a la fila a permutar.\n",
            "||||||||||||||||||||||||\n",
            " Columna 0\n",
            "a_1,0 = 2\n",
            "P = \n",
            "[[1 0 0]\n",
            " [0 0 1]\n",
            " [0 1 0]]\n",
            "L = \n",
            "[[1 0 0]\n",
            " [2 1 0]\n",
            " [0 0 1]]\n",
            "U = \n",
            "[[1 4 4]\n",
            " [0 -4 -7]\n",
            " [3 2 1]]\n",
            "r = \n",
            "[[1]\n",
            " [-1]\n",
            " [1]]\n",
            "\n",
            "=====================================\n",
            "Fila 2\n",
            "A 2, 0\n",
            "El índice de permutación es igual a la fila a permutar.\n",
            "||||||||||||||||||||||||\n",
            " Columna 0\n",
            "a_2,0 = 3\n",
            "P = \n",
            "[[1 0 0]\n",
            " [0 0 1]\n",
            " [0 1 0]]\n",
            "L = \n",
            "[[1 0 0]\n",
            " [2 1 0]\n",
            " [3 0 1]]\n",
            "U = \n",
            "[[1 4 4]\n",
            " [0 -4 -7]\n",
            " [0 -10 -11]]\n",
            "r = \n",
            "[[1]\n",
            " [-1]\n",
            " [-2]]\n",
            "||||||||||||||||||||||||\n",
            " Columna 1\n",
            "a_2,1 = 5/2\n",
            "P = \n",
            "[[1 0 0]\n",
            " [0 0 1]\n",
            " [0 1 0]]\n",
            "L = \n",
            "[[1 0 0]\n",
            " [2 1 0]\n",
            " [3 5/2 1]]\n",
            "U = \n",
            "[[1 4 4]\n",
            " [0 -4 -7]\n",
            " [0 0 13/2]]\n",
            "r = \n",
            "[[1]\n",
            " [-1]\n",
            " [1/2]]\n",
            "\\/\\/\\/\\/\\/\\/\\/\\/\\/ FORMA FINAL\n",
            "a_3,1 = 5/2\n",
            "P = \n",
            "[[1 0 0]\n",
            " [0 0 1]\n",
            " [0 1 0]]\n",
            "\n",
            "L = \n",
            "[[1 0 0]\n",
            " [2 1 0]\n",
            " [3 5/2 1]]\n",
            "\n",
            "U = \n",
            "[[1 4 4]\n",
            " [0 -4 -7]\n",
            " [0 0 13/2]]\n",
            "\n",
            "r = \n",
            "[[1]\n",
            " [-1]\n",
            " [1/2]]\n",
            "\n"
          ],
          "name": "stdout"
        },
        {
          "output_type": "execute_result",
          "data": {
            "text/plain": [
              "{'L': Matrix([\n",
              " [1,   0, 0],\n",
              " [2,   1, 0],\n",
              " [3, 5/2, 1]]), 'P': Matrix([\n",
              " [1, 0, 0],\n",
              " [0, 0, 1],\n",
              " [0, 1, 0]]), 'U': Matrix([\n",
              " [1,  4,    4],\n",
              " [0, -4,   -7],\n",
              " [0,  0, 13/2]]), 'r': Matrix([\n",
              " [  1],\n",
              " [ -1],\n",
              " [1/2]])}"
            ]
          },
          "metadata": {
            "tags": []
          },
          "execution_count": 11
        }
      ]
    },
    {
      "cell_type": "code",
      "metadata": {
        "id": "hfCYSdUBch4v",
        "colab": {
          "base_uri": "https://localhost:8080/"
        },
        "outputId": "0965cbfc-9f52-472a-89ed-006858d21fd4"
      },
      "source": [
        "descomposicion_LDU(M, permutar_max=True)"
      ],
      "execution_count": null,
      "outputs": [
        {
          "output_type": "execute_result",
          "data": {
            "text/plain": [
              "{'D': Matrix([\n",
              " [1,  0,    0],\n",
              " [0, -4,    0],\n",
              " [0,  0, 13/2]]), 'L': Matrix([\n",
              " [1,   0, 0],\n",
              " [2,   1, 0],\n",
              " [3, 5/2, 1]]), 'P': Matrix([\n",
              " [1, 0, 0],\n",
              " [0, 0, 1],\n",
              " [0, 1, 0]]), 'U': Matrix([\n",
              " [1, 4,   4],\n",
              " [0, 1, 7/4],\n",
              " [0, 0,   1]])}"
            ]
          },
          "metadata": {
            "tags": []
          },
          "execution_count": 12
        }
      ]
    },
    {
      "cell_type": "markdown",
      "metadata": {
        "id": "W6br1XOwJdDp"
      },
      "source": [
        "### Factorización de Cholesky\r\n",
        "\r\n",
        "La factorización de Cholesky es una factorización que genera una matriz triangular inferior $L$ tal que $A = LL^T$. Para que una matriz sea factorizable, tiene que cumplir que sus menores principales sean positivos, y que sea simétrica."
      ]
    },
    {
      "cell_type": "code",
      "metadata": {
        "id": "s809oCaMNTuM"
      },
      "source": [
        "def cholesky(m, verbose=False):\r\n",
        "  \"\"\"\r\n",
        "  Primero comprobamos que los menores sean positivos. Eso es equivalente que\r\n",
        "  sus autovalores sean positivos. Por simplificar, si el determinante es negativo\r\n",
        "  ya descartamos que sea factorizable, y saltamos el warning.\r\n",
        "  \"\"\"\r\n",
        "\r\n",
        "  if m != m.T:\r\n",
        "    print('AVISO! La matriz no es simétrica, y por tanto no factorizable por Cholesky.')\r\n",
        "\r\n",
        "  print_verbose(f\"|M| es {m.det()}. Si es < 0, no es factorizable.\", verbose)\r\n",
        "\r\n",
        "  m_chol = zeros(m.shape[0], m.shape[1])\r\n",
        "\r\n",
        "  for col_j in range(m.shape[0]):\r\n",
        "    for row_i in range(col_j, m.shape[0]):\r\n",
        "      if col_j == 0:\r\n",
        "        if row_i == 0:\r\n",
        "          m_chol[row_i, col_j] = sqrt(m[row_i, col_j])\r\n",
        "        else:\r\n",
        "          m_chol[row_i, col_j] = m[row_i, col_j] / m_chol[0, 0]\r\n",
        "      \r\n",
        "      else:\r\n",
        "        if col_j == row_i:\r\n",
        "          m_chol[row_i, col_j] = sqrt(m[col_j, col_j] - sum([m_chol[col_j, k] \r\n",
        "                                                      ** 2 for k in range(col_j)]))\r\n",
        "        else:\r\n",
        "          m_chol[row_i, col_j] = (m[row_i, col_j] - sum([m_chol[col_j, k] * m_chol[row_i, k] for k in range(col_j)]))/(m_chol[col_j, col_j])\r\n",
        "\r\n",
        "  if simplify(m_chol * m_chol.T) != m:\r\n",
        "    print(f\"AVISO!!! La matriz no es Cholesky-zable. \\n L = \\n {np.array(m_chol)} \\n\\n L*L.T = \\n {np.array(m_chol * m_chol.T)}\")\r\n",
        "\r\n",
        "  return simplify(m_chol)"
      ],
      "execution_count": null,
      "outputs": []
    },
    {
      "cell_type": "code",
      "metadata": {
        "colab": {
          "base_uri": "https://localhost:8080/",
          "height": 78
        },
        "id": "5ZDS9ojOP-5l",
        "outputId": "9fe7196d-b809-41cc-b9bb-899fd216b294"
      },
      "source": [
        "M = mat(((2, -1, 0), (-1, 2, -2), (0, 2, 1)))\n",
        "M"
      ],
      "execution_count": null,
      "outputs": [
        {
          "output_type": "execute_result",
          "data": {
            "text/latex": "$\\displaystyle \\left[\\begin{matrix}2 & -1 & 0\\\\-1 & 2 & -2\\\\0 & 2 & 1\\end{matrix}\\right]$",
            "text/plain": [
              "Matrix([\n",
              "[ 2, -1,  0],\n",
              "[-1,  2, -2],\n",
              "[ 0,  2,  1]])"
            ]
          },
          "metadata": {
            "tags": []
          },
          "execution_count": 14
        }
      ]
    },
    {
      "cell_type": "code",
      "metadata": {
        "colab": {
          "base_uri": "https://localhost:8080/",
          "height": 280
        },
        "id": "7EeC9CrPQoOL",
        "outputId": "cf404783-3322-46e4-832d-54b91a5c2477"
      },
      "source": [
        "cholesky(M)"
      ],
      "execution_count": null,
      "outputs": [
        {
          "output_type": "stream",
          "text": [
            "AVISO! La matriz no es simétrica, y por tanto no factorizable por Cholesky.\n",
            "AVISO!!! La matriz no es Cholesky-zable. \n",
            " L = \n",
            " [[sqrt(2) 0 0]\n",
            " [-sqrt(2)/2 sqrt(6)/2 0]\n",
            " [0 2*sqrt(6)/3 sqrt(15)*I/3]] \n",
            "\n",
            " L*L.T = \n",
            " [[2 -1 0]\n",
            " [-1 2 2]\n",
            " [0 2 1]]\n"
          ],
          "name": "stdout"
        },
        {
          "output_type": "execute_result",
          "data": {
            "text/latex": "$\\displaystyle \\left[\\begin{matrix}\\sqrt{2} & 0 & 0\\\\- \\frac{\\sqrt{2}}{2} & \\frac{\\sqrt{6}}{2} & 0\\\\0 & \\frac{2 \\sqrt{6}}{3} & \\frac{\\sqrt{15} i}{3}\\end{matrix}\\right]$",
            "text/plain": [
              "Matrix([\n",
              "[   sqrt(2),           0,            0],\n",
              "[-sqrt(2)/2,   sqrt(6)/2,            0],\n",
              "[         0, 2*sqrt(6)/3, sqrt(15)*I/3]])"
            ]
          },
          "metadata": {
            "tags": []
          },
          "execution_count": 15
        }
      ]
    },
    {
      "cell_type": "code",
      "metadata": {
        "colab": {
          "base_uri": "https://localhost:8080/",
          "height": 80
        },
        "id": "J6d5MNhHQqo1",
        "outputId": "5795d10f-824a-488a-efe4-5eae775da4a0"
      },
      "source": [
        "cholesky(M + M.T)"
      ],
      "execution_count": null,
      "outputs": [
        {
          "output_type": "execute_result",
          "data": {
            "text/latex": "$\\displaystyle \\left[\\begin{matrix}2 & 0 & 0\\\\-1 & \\sqrt{3} & 0\\\\0 & 0 & \\sqrt{2}\\end{matrix}\\right]$",
            "text/plain": [
              "Matrix([\n",
              "[ 2,       0,       0],\n",
              "[-1, sqrt(3),       0],\n",
              "[ 0,       0, sqrt(2)]])"
            ]
          },
          "metadata": {
            "tags": []
          },
          "execution_count": 16
        }
      ]
    },
    {
      "cell_type": "code",
      "metadata": {
        "colab": {
          "base_uri": "https://localhost:8080/",
          "height": 78
        },
        "id": "Sr_zBF3ZQxRI",
        "outputId": "807b240d-f447-424e-8583-fc10495a68b0"
      },
      "source": [
        "M + M.T"
      ],
      "execution_count": null,
      "outputs": [
        {
          "output_type": "execute_result",
          "data": {
            "text/latex": "$\\displaystyle \\left[\\begin{matrix}4 & -2 & 0\\\\-2 & 4 & 0\\\\0 & 0 & 2\\end{matrix}\\right]$",
            "text/plain": [
              "Matrix([\n",
              "[ 4, -2, 0],\n",
              "[-2,  4, 0],\n",
              "[ 0,  0, 2]])"
            ]
          },
          "metadata": {
            "tags": []
          },
          "execution_count": 17
        }
      ]
    },
    {
      "cell_type": "code",
      "metadata": {
        "colab": {
          "base_uri": "https://localhost:8080/",
          "height": 78
        },
        "id": "WtWk7kEFQAIO",
        "outputId": "f1afe7ae-34f3-4417-8f96-32a99b0fff89"
      },
      "source": [
        "cholesky(M + M.T) * cholesky(M + M.T).T"
      ],
      "execution_count": null,
      "outputs": [
        {
          "output_type": "execute_result",
          "data": {
            "text/latex": "$\\displaystyle \\left[\\begin{matrix}4 & -2 & 0\\\\-2 & 4 & 0\\\\0 & 0 & 2\\end{matrix}\\right]$",
            "text/plain": [
              "Matrix([\n",
              "[ 4, -2, 0],\n",
              "[-2,  4, 0],\n",
              "[ 0,  0, 2]])"
            ]
          },
          "metadata": {
            "tags": []
          },
          "execution_count": 18
        }
      ]
    },
    {
      "cell_type": "code",
      "metadata": {
        "colab": {
          "base_uri": "https://localhost:8080/",
          "height": 78
        },
        "id": "NnHjEDuxU7Jl",
        "outputId": "c7ab9bc9-1d7a-4e75-8a65-43c8dad04d1b"
      },
      "source": [
        "# Podemos hacer también Cholesky a una matriz con símbolos!\r\n",
        "x = symbols('x')\r\n",
        "\r\n",
        "Mx = mat(((1, x, 1), (x, 2, 1), (1, 1, 3)))\r\n",
        "Mx"
      ],
      "execution_count": null,
      "outputs": [
        {
          "output_type": "execute_result",
          "data": {
            "text/latex": "$\\displaystyle \\left[\\begin{matrix}1 & x & 1\\\\x & 2 & 1\\\\1 & 1 & 3\\end{matrix}\\right]$",
            "text/plain": [
              "Matrix([\n",
              "[1, x, 1],\n",
              "[x, 2, 1],\n",
              "[1, 1, 3]])"
            ]
          },
          "metadata": {
            "tags": []
          },
          "execution_count": 19
        }
      ]
    },
    {
      "cell_type": "code",
      "metadata": {
        "colab": {
          "base_uri": "https://localhost:8080/",
          "height": 90
        },
        "id": "UFy3EeZ4VL4c",
        "outputId": "6d24ebc4-6838-445f-905a-de8ea4a28b5c"
      },
      "source": [
        "cholesky(Mx)"
      ],
      "execution_count": null,
      "outputs": [
        {
          "output_type": "execute_result",
          "data": {
            "text/latex": "$\\displaystyle \\left[\\begin{matrix}1 & 0 & 0\\\\x & \\sqrt{2 - x^{2}} & 0\\\\1 & \\frac{1 - x}{\\sqrt{2 - x^{2}}} & \\sqrt{\\frac{- 3 x^{2} + 2 x + 3}{2 - x^{2}}}\\end{matrix}\\right]$",
            "text/plain": [
              "Matrix([\n",
              "[1,                      0,                                    0],\n",
              "[x,         sqrt(2 - x**2),                                    0],\n",
              "[1, (1 - x)/sqrt(2 - x**2), sqrt((-3*x**2 + 2*x + 3)/(2 - x**2))]])"
            ]
          },
          "metadata": {
            "tags": []
          },
          "execution_count": 20
        }
      ]
    },
    {
      "cell_type": "markdown",
      "metadata": {
        "id": "MVBPnqO5TlKX"
      },
      "source": [
        "### Ortogonalización de Gram-Schmidt\r\n",
        "\r\n",
        "\r\n"
      ]
    },
    {
      "cell_type": "code",
      "metadata": {
        "id": "kkzkT34_ToPQ"
      },
      "source": [
        "def suma_columnas(lista):\r\n",
        "  if len(lista) > 0:\r\n",
        "    m = zeros(lista[0].shape[0], 1)\r\n",
        "    for i in lista:\r\n",
        "      m += i\r\n",
        "    return m\r\n",
        "  else:\r\n",
        "    return 0\r\n",
        "\r\n",
        "def gram_schmidt(m, verbose=False):\r\n",
        "  \"\"\"\r\n",
        "  La ortogonalización produce una matriz ortogonalizada por columnas.\r\n",
        "  p es la matriz ortogonal y p_norm es la ortonormal\r\n",
        "  c es la matriz triangular tal que cij = aj·pi/||pi||^2 (los coeficientes de ortogonalización). Estos coeficientes se usan para la factorización QR.\r\n",
        "  \"\"\"\r\n",
        "\r\n",
        "  p = zeros(m.shape[0], m.shape[1])\r\n",
        "\r\n",
        "  p[:, 0] = m[:, 0]\r\n",
        "\r\n",
        "  for col in range(1, m.shape[1]):\r\n",
        "    p[:, col] = m[:, col] - suma_columnas([(m[:, col].T * p[:, i])[0]/(p[:, i].T * p[:, i])[0] * p[:, i] for i in range(0, col)])\r\n",
        "\r\n",
        "  print_verbose(f\"La matriz ortogonal es \\n {p}\", verbose)\r\n",
        "\r\n",
        "\r\n",
        "  p_norm = zeros(m.shape[0], m.shape[1])\r\n",
        "  for col in range(p.shape[1]):\r\n",
        "    p_norm[:, col] = p[:, col] / (p[:, col].T * p[:, col])[0]\r\n",
        "  \r\n",
        "  print_verbose(f\"La matriz ortonormal es \\n {p_norm}\", verbose)\r\n",
        "\r\n",
        "\r\n",
        "  c = zeros(m.shape[0], m.shape[1])\r\n",
        "  for col in range(1, m.shape[1]):\r\n",
        "    for row in range(0, col):\r\n",
        "      c[row, col] = (m[:, col].T * p[:, row])[0]/(p[:, row].T * p[:, row])[0]\r\n",
        "\r\n",
        "  return {'P': simplify(p), 'Pn': simplify(p_norm), 'c': simplify(c)} \r\n"
      ],
      "execution_count": null,
      "outputs": []
    },
    {
      "cell_type": "code",
      "metadata": {
        "id": "6lDBiGAtXmAp",
        "colab": {
          "base_uri": "https://localhost:8080/",
          "height": 78
        },
        "outputId": "63e57ccb-d66a-48b3-88c7-7d1016fd0587"
      },
      "source": [
        "M"
      ],
      "execution_count": null,
      "outputs": [
        {
          "output_type": "execute_result",
          "data": {
            "text/latex": "$\\displaystyle \\left[\\begin{matrix}2 & -1 & 0\\\\-1 & 2 & -2\\\\0 & 2 & 1\\end{matrix}\\right]$",
            "text/plain": [
              "Matrix([\n",
              "[ 2, -1,  0],\n",
              "[-1,  2, -2],\n",
              "[ 0,  2,  1]])"
            ]
          },
          "metadata": {
            "tags": []
          },
          "execution_count": 22
        }
      ]
    },
    {
      "cell_type": "code",
      "metadata": {
        "colab": {
          "base_uri": "https://localhost:8080/",
          "height": 79
        },
        "id": "5Tuf5FxFVa_u",
        "outputId": "c42540db-d7ee-40fb-ff16-e39c411fa23c"
      },
      "source": [
        "GS = gram_schmidt(M)\r\n",
        "GS['P']"
      ],
      "execution_count": null,
      "outputs": [
        {
          "output_type": "execute_result",
          "data": {
            "text/latex": "$\\displaystyle \\left[\\begin{matrix}2 & \\frac{3}{5} & - \\frac{22}{29}\\\\-1 & \\frac{6}{5} & - \\frac{44}{29}\\\\0 & 2 & \\frac{33}{29}\\end{matrix}\\right]$",
            "text/plain": [
              "Matrix([\n",
              "[ 2, 3/5, -22/29],\n",
              "[-1, 6/5, -44/29],\n",
              "[ 0,   2,  33/29]])"
            ]
          },
          "metadata": {
            "tags": []
          },
          "execution_count": 23
        }
      ]
    },
    {
      "cell_type": "code",
      "metadata": {
        "colab": {
          "base_uri": "https://localhost:8080/",
          "height": 79
        },
        "id": "5cgxsH2-cLrJ",
        "outputId": "e108f428-390f-466e-c04e-70f2706f1bb1"
      },
      "source": [
        "GS['Pn']"
      ],
      "execution_count": null,
      "outputs": [
        {
          "output_type": "execute_result",
          "data": {
            "text/latex": "$\\displaystyle \\left[\\begin{matrix}\\frac{2}{5} & \\frac{3}{29} & - \\frac{2}{11}\\\\- \\frac{1}{5} & \\frac{6}{29} & - \\frac{4}{11}\\\\0 & \\frac{10}{29} & \\frac{3}{11}\\end{matrix}\\right]$",
            "text/plain": [
              "Matrix([\n",
              "[ 2/5,  3/29, -2/11],\n",
              "[-1/5,  6/29, -4/11],\n",
              "[   0, 10/29,  3/11]])"
            ]
          },
          "metadata": {
            "tags": []
          },
          "execution_count": 24
        }
      ]
    },
    {
      "cell_type": "code",
      "metadata": {
        "colab": {
          "base_uri": "https://localhost:8080/",
          "height": 78
        },
        "id": "WG_PCCm8cObF",
        "outputId": "13b7204e-ca26-4b47-c2d1-f3cd05e0d8ae"
      },
      "source": [
        "GS['c']"
      ],
      "execution_count": null,
      "outputs": [
        {
          "output_type": "execute_result",
          "data": {
            "text/latex": "$\\displaystyle \\left[\\begin{matrix}0 & - \\frac{4}{5} & \\frac{2}{5}\\\\0 & 0 & - \\frac{2}{29}\\\\0 & 0 & 0\\end{matrix}\\right]$",
            "text/plain": [
              "Matrix([\n",
              "[0, -4/5,   2/5],\n",
              "[0,    0, -2/29],\n",
              "[0,    0,     0]])"
            ]
          },
          "metadata": {
            "tags": []
          },
          "execution_count": 25
        }
      ]
    },
    {
      "cell_type": "code",
      "metadata": {
        "colab": {
          "base_uri": "https://localhost:8080/",
          "height": 38
        },
        "id": "VEadGxAmYIBq",
        "outputId": "8706e738-074a-4be2-e2d4-1b7cf95ae215"
      },
      "source": [
        "GS['P'][:, 1].T * GS['P'][:, 2]"
      ],
      "execution_count": null,
      "outputs": [
        {
          "output_type": "execute_result",
          "data": {
            "text/latex": "$\\displaystyle \\left[\\begin{matrix}0\\end{matrix}\\right]$",
            "text/plain": [
              "Matrix([[0]])"
            ]
          },
          "metadata": {
            "tags": []
          },
          "execution_count": 26
        }
      ]
    },
    {
      "cell_type": "code",
      "metadata": {
        "id": "5qIpFX-oZNL1"
      },
      "source": [
        "Mx = mat(((1, 2, 3), (1, x, 1), (0, 0, 3)))"
      ],
      "execution_count": null,
      "outputs": []
    },
    {
      "cell_type": "code",
      "metadata": {
        "colab": {
          "base_uri": "https://localhost:8080/",
          "height": 78
        },
        "id": "nFMKn1hRZGsR",
        "outputId": "c91cb4b5-ccfb-40bc-dfb8-2ee0eedf5f7d"
      },
      "source": [
        "GSx = gram_schmidt(Mx)\n",
        "GSx['P']"
      ],
      "execution_count": null,
      "outputs": [
        {
          "output_type": "execute_result",
          "data": {
            "text/latex": "$\\displaystyle \\left[\\begin{matrix}1 & 1 - \\frac{x}{2} & 0\\\\1 & \\frac{x}{2} - 1 & 0\\\\0 & 0 & 3\\end{matrix}\\right]$",
            "text/plain": [
              "Matrix([\n",
              "[1, 1 - x/2, 0],\n",
              "[1, x/2 - 1, 0],\n",
              "[0,       0, 3]])"
            ]
          },
          "metadata": {
            "tags": []
          },
          "execution_count": 28
        }
      ]
    },
    {
      "cell_type": "markdown",
      "metadata": {
        "id": "DxghRH1R2FpX"
      },
      "source": [
        "### Transformación de Householder\n",
        "\n",
        "La transformación de Householder es una transformación para pasar de un vertor $x$ a un vector $y$. Para ello se toma el vector $e$, que sería el eje de transformación, y la matriz aplicación es $H = I - 2ee^t$.\n",
        "\n",
        "En este caso, $$e = \\pm \\frac{x - y}{\\vert\\vert x - y \\vert\\vert}$$\n",
        "\n",
        "Para la transformación de Householder $x$ e $y$ **tienen que tener la misma norma**. El vector resultante $e$ tiene norma 1.\n"
      ]
    },
    {
      "cell_type": "code",
      "metadata": {
        "id": "bhYpujRM2FMA"
      },
      "source": [
        "def householder(x, y, signo='+', normalizar = False):\n",
        "  \"\"\"\n",
        "  Aplica la transformación de Householder. x e y pueden ser vectores fila o columna, \n",
        "  en cuyo caso aplicamos la transformación de una forma u otra.\n",
        "  \"\"\"\n",
        "  if signo == '+':\n",
        "    mult = 1\n",
        "  else:\n",
        "    mult = -1\n",
        "\n",
        "  if normalizar:\n",
        "    x = simplify(x / norma(x))\n",
        "    y = simplify(y / norma (y))\n",
        "\n",
        "  if simplify(norma(x)) != simplify(norma(y)):\n",
        "    print(f'AVISO!!! x tiene norma {norma(x)} e y tiene norma {norma(y)}. Para Householder las normas tienen que ser iguales.')\n",
        "\n",
        "  if simplify(norma(x - y)) == 0:  # x==y\n",
        "    e = zeros(x.shape[0], x.shape[1])\n",
        "  else:\n",
        "    e = mult * (x - y)/(norma(x - y))\n",
        "\n",
        "  if (e.shape[0] == 1) and (e.shape[1] >= 1): # El vector es fila:\n",
        "    H = eye(x.shape[1]) - 2 * e.T * e\n",
        "  else:\n",
        "    H = eye(x.shape[0]) - 2 * e * e.T\n",
        "  \n",
        "\n",
        "  if (e.shape[0] == 1) and (e.shape[1] >= 1) and (simplify(x * H) != y):\n",
        "    print(f'AVISO FILAS!!! xH != y. Para Householder las normas tienen que ser iguales.')\n",
        "  elif (e.shape[1] == 1) and (e.shape[0] >= 1) and (simplify(H * x) != y):\n",
        "    print(f'AVISO!!! Hx != y. Para Householder las normas tienen que ser iguales.')\n",
        "\n",
        "  return simplify(H), simplify(e)"
      ],
      "execution_count": null,
      "outputs": []
    },
    {
      "cell_type": "code",
      "metadata": {
        "id": "ZaqNjL9S6Emp"
      },
      "source": [
        "v0 = mat(((1, 0)))\n",
        "vf = mat((1, 1))\n",
        "vf = vf/norma(vf)"
      ],
      "execution_count": null,
      "outputs": []
    },
    {
      "cell_type": "code",
      "metadata": {
        "id": "4eX3aGll48tB",
        "colab": {
          "base_uri": "https://localhost:8080/",
          "height": 68
        },
        "outputId": "e7cdec27-8ee6-45e4-cc58-3ec25d79ed4a"
      },
      "source": [
        "H, e = householder(v0, vf, normalizar=False)\n",
        "H"
      ],
      "execution_count": null,
      "outputs": [
        {
          "output_type": "execute_result",
          "data": {
            "text/latex": "$\\displaystyle \\left[\\begin{matrix}\\frac{\\sqrt{2}}{2} & \\frac{\\sqrt{2}}{2}\\\\\\frac{\\sqrt{2}}{2} & - \\frac{\\sqrt{2}}{2}\\end{matrix}\\right]$",
            "text/plain": [
              "Matrix([\n",
              "[sqrt(2)/2,  sqrt(2)/2],\n",
              "[sqrt(2)/2, -sqrt(2)/2]])"
            ]
          },
          "metadata": {
            "tags": []
          },
          "execution_count": 31
        }
      ]
    },
    {
      "cell_type": "code",
      "metadata": {
        "id": "KnsssCN89u7r",
        "colab": {
          "base_uri": "https://localhost:8080/",
          "height": 78
        },
        "outputId": "ddb8222f-54f3-462c-a0ae-b41806189ccb"
      },
      "source": [
        "e"
      ],
      "execution_count": null,
      "outputs": [
        {
          "output_type": "execute_result",
          "data": {
            "text/latex": "$\\displaystyle \\left[\\begin{matrix}\\frac{\\sqrt{2 - \\sqrt{2}}}{2}\\\\- \\frac{\\sqrt{2}}{2 \\sqrt{2 - \\sqrt{2}}}\\end{matrix}\\right]$",
            "text/plain": [
              "Matrix([\n",
              "[           sqrt(2 - sqrt(2))/2],\n",
              "[-sqrt(2)/(2*sqrt(2 - sqrt(2)))]])"
            ]
          },
          "metadata": {
            "tags": []
          },
          "execution_count": 32
        }
      ]
    },
    {
      "cell_type": "code",
      "metadata": {
        "id": "ZZHLaNT-9wk5"
      },
      "source": [
        "# Ejercicio 10\n",
        "t = symbols('t')\n",
        "\n",
        "v0 = mat(((1, 0)))\n",
        "vf = mat((cos(t), sin(t)))\n",
        "\n",
        "H, e = householder(v0, vf, normalizar=False)"
      ],
      "execution_count": null,
      "outputs": []
    },
    {
      "cell_type": "code",
      "metadata": {
        "id": "YTqdf6vW96KO",
        "colab": {
          "base_uri": "https://localhost:8080/",
          "height": 58
        },
        "outputId": "eebd0397-d4ca-4c5f-ee5a-3c4a1556815d"
      },
      "source": [
        "H"
      ],
      "execution_count": null,
      "outputs": [
        {
          "output_type": "execute_result",
          "data": {
            "text/latex": "$\\displaystyle \\left[\\begin{matrix}\\cos{\\left(t \\right)} & \\sin{\\left(t \\right)}\\\\\\sin{\\left(t \\right)} & - \\cos{\\left(t \\right)}\\end{matrix}\\right]$",
            "text/plain": [
              "Matrix([\n",
              "[cos(t),  sin(t)],\n",
              "[sin(t), -cos(t)]])"
            ]
          },
          "metadata": {
            "tags": []
          },
          "execution_count": 34
        }
      ]
    },
    {
      "cell_type": "code",
      "metadata": {
        "id": "ixbJ7kcs4XR7",
        "colab": {
          "base_uri": "https://localhost:8080/",
          "height": 78
        },
        "outputId": "6751cda8-d2fc-47c0-b2a2-81a031473da7"
      },
      "source": [
        "e"
      ],
      "execution_count": null,
      "outputs": [
        {
          "output_type": "execute_result",
          "data": {
            "text/latex": "$\\displaystyle \\left[\\begin{matrix}\\frac{\\sqrt{2 - 2 \\cos{\\left(t \\right)}}}{2}\\\\- \\frac{\\sin{\\left(t \\right)}}{\\sqrt{2 - 2 \\cos{\\left(t \\right)}}}\\end{matrix}\\right]$",
            "text/plain": [
              "Matrix([\n",
              "[      sqrt(2 - 2*cos(t))/2],\n",
              "[-sin(t)/sqrt(2 - 2*cos(t))]])"
            ]
          },
          "metadata": {
            "tags": []
          },
          "execution_count": 35
        }
      ]
    },
    {
      "cell_type": "markdown",
      "metadata": {
        "id": "6S0zeTyOSOmw"
      },
      "source": [
        "### Factorización QR\r\n",
        "\r\n",
        "La factorización QR consiste en transformar $A = QR$ donde $Q$ es ortogonal y $R$ es triangular superior. \r\n",
        "\r\n",
        "Si $P$ es la matriz ortogonalizada, $C$ es la matriz con los factores de ortonormalización (para Gram-Schmidt, por ejemplo, es $m_{ij} = \\frac{a^j\\cdot p^i}{\\vert\\vert p^{i}\\vert\\vert^2}$ y $D$ es la matriz de las normas de los vectores ortogonales ($\\vert\\vert p^i\\vert\\vert$), entonces se tiene que:\r\n",
        "$$Q = PD^{-1}$$\r\n",
        "$$R = D(I + C)$$\r\n",
        "\r\n",
        "Para el método de Hausholder, vamos a ir por columnas. Para cada columna, seleccionamos la submatriz $N(i) = A_{ii}$ de (n-i) filas y columnas. Para esa matriz, vamos a hacer que la primera columna, $p_i$ pase a ser $\\vert\\vert p_i\\vert\\vert("
      ]
    },
    {
      "cell_type": "code",
      "metadata": {
        "id": "TsHaAp_aaAEd"
      },
      "source": [
        "TODO: ESCRIBIR DOCU Y MEJORAR TEXTO/USER FIRENDLYNESS"
      ],
      "execution_count": null,
      "outputs": []
    },
    {
      "cell_type": "code",
      "metadata": {
        "id": "Jsb23eLHY8WM"
      },
      "source": [
        "def factorizacion_QR(m, verbose=True, metodo='gram_schmidt'):\r\n",
        "  if metodo == 'gram_schmidt':\r\n",
        "    print_verbose('Aplicamos QR con Gram Schmidt', verbose)\r\n",
        "\r\n",
        "    dict_gs = gram_schmidt(m)\r\n",
        "    P, C = dict_gs['P'], dict_gs['c']\r\n",
        "  \r\n",
        "    D = zeros(m.shape[0], m.shape[1])\r\n",
        "    for col in range(m.shape[0]):\r\n",
        "      D[col, col] = sqrt((P[:, col].T * P[:, col])[0])\r\n",
        "    \r\n",
        "    Q = simplify(P * (D ** (-1)))\r\n",
        "    R = simplify(D * (eye(m.shape[0]) + C))\r\n",
        "    \r\n",
        "    print_verbose(f'Q es \\n{np.array(Q)}\\nR es \\n{np.array(R)}\\nD es \\n{np.array(D)}', verbose)\r\n",
        "  elif metodo == 'householder':\r\n",
        "    print_verbose('Aplicamos QR con Householder', verbose)\r\n",
        "    lista_p = [eye(m.shape[0]) for _ in range(m.shape[0])]\r\n",
        "    lista_e = []\r\n",
        "\r\n",
        "    Q, R = eye(m.shape[0]), m.copy()\r\n",
        "    for col in range(m.shape[1]):\r\n",
        "      x = R[col:, col]\r\n",
        "      y = mat([1] + [0] * (m.shape[0] - col - 1)) * norma(x)\r\n",
        "      p_col = lista_p[col]\r\n",
        "      H, e = householder(x, y)\r\n",
        "      p_col[col:, col:] = H\r\n",
        "      lista_e.append(e)\r\n",
        "      \r\n",
        "      R = simplify(p_col * R)\r\n",
        "      Q = simplify(Q * p_col)\r\n",
        "\r\n",
        "    print_verbose(f'Q es \\n{np.array(Q)}\\nR es \\n{np.array(R)}', verbose)\r\n",
        "  else:\r\n",
        "    raise \"El método no existe. Los disponibles son gram_schmidt y householder\"\r\n",
        "  \r\n",
        "\r\n",
        "  if m != simplify(Q * R):\r\n",
        "    print('AVISO!!! A != QR')\r\n",
        "\r\n",
        "  if metodo=='gram_schmidt':\r\n",
        "    return {'Q': Q, 'R': R, 'D': D} \r\n",
        "  elif metodo == 'householder':\r\n",
        "    return {'Q': Q, 'R': R} "
      ],
      "execution_count": 163,
      "outputs": []
    },
    {
      "cell_type": "code",
      "metadata": {
        "id": "3A5b1Hp4dvfH"
      },
      "source": [
        "M = mat(((2, -1, 0), (0, 0, -2), (0, 2, -1)))"
      ],
      "execution_count": 152,
      "outputs": []
    },
    {
      "cell_type": "code",
      "metadata": {
        "colab": {
          "base_uri": "https://localhost:8080/"
        },
        "id": "7PPzCSsKd3J5",
        "outputId": "a0846553-9055-4cb4-9b4d-c6f480bc1b5e"
      },
      "source": [
        "factorizacion_QR(M, metodo='householder')"
      ],
      "execution_count": 154,
      "outputs": [
        {
          "output_type": "stream",
          "text": [
            "Aplicamos QR con Householder\n",
            "Q es \n",
            "[[1 0 0]\n",
            " [0 0 -1]\n",
            " [0 1 0]]\n",
            "R es \n",
            "[[2 -1 0]\n",
            " [0 2 -1]\n",
            " [0 0 2]]\n"
          ],
          "name": "stdout"
        },
        {
          "output_type": "execute_result",
          "data": {
            "text/plain": [
              "{'Q': Matrix([\n",
              " [1, 0,  0],\n",
              " [0, 0, -1],\n",
              " [0, 1,  0]]), 'R': Matrix([\n",
              " [2, -1,  0],\n",
              " [0,  2, -1],\n",
              " [0,  0,  2]])}"
            ]
          },
          "metadata": {
            "tags": []
          },
          "execution_count": 154
        }
      ]
    },
    {
      "cell_type": "code",
      "metadata": {
        "id": "nEHBugO-a_M1"
      },
      "source": [
        "A1 = mat(((2, -1, 0), (0, 0, -2), (0, 2, -1)))"
      ],
      "execution_count": null,
      "outputs": []
    },
    {
      "cell_type": "code",
      "metadata": {
        "id": "QEreyR_kbBPz",
        "colab": {
          "base_uri": "https://localhost:8080/",
          "height": 79
        },
        "outputId": "c651e323-45bf-404c-f407-2a3137d5b4dd"
      },
      "source": [
        "A1 = mat(((1, 2, 3), (4, 5, 6), (7, 8, 9)))\n",
        "A1"
      ],
      "execution_count": 155,
      "outputs": [
        {
          "output_type": "execute_result",
          "data": {
            "text/latex": "$\\displaystyle \\left[\\begin{matrix}1 & 2 & 3\\\\4 & 5 & 6\\\\7 & 8 & 9\\end{matrix}\\right]$",
            "text/plain": [
              "Matrix([\n",
              "[1, 2, 3],\n",
              "[4, 5, 6],\n",
              "[7, 8, 9]])"
            ]
          },
          "metadata": {
            "tags": []
          },
          "execution_count": 155
        }
      ]
    },
    {
      "cell_type": "code",
      "metadata": {
        "id": "WpXMNwCbhWVv",
        "colab": {
          "base_uri": "https://localhost:8080/"
        },
        "outputId": "feb6a1ef-c846-46c1-b876-91cc41aa4afd"
      },
      "source": [
        "dqr = factorizacion_QR(A1, metodo='householder')"
      ],
      "execution_count": 164,
      "outputs": [
        {
          "output_type": "stream",
          "text": [
            "Aplicamos QR con Householder\n",
            "AVISO!!! Hx != y. Para Householder las normas tienen que ser iguales.\n",
            "Q es \n",
            "[[sqrt(66)/66\n",
            "  3*(-65*sqrt(11) + 77 + 12*sqrt(66))/(11*(-65 + 7*sqrt(11) + 12*sqrt(6)))\n",
            "  (-72 - 7*sqrt(66) + 65*sqrt(6))/(6*(-65 + 7*sqrt(11) + 12*sqrt(6)))]\n",
            " [2*sqrt(66)/33\n",
            "  (-65*sqrt(11) + 77 + 12*sqrt(66))/(11*(-65 + 7*sqrt(11) + 12*sqrt(6)))\n",
            "  (-65*sqrt(6) + 7*sqrt(66) + 72)/(3*(-65 + 7*sqrt(11) + 12*sqrt(6)))]\n",
            " [7*sqrt(66)/66\n",
            "  (-12*sqrt(66) - 77 + 65*sqrt(11))/(11*(-65 + 7*sqrt(11) + 12*sqrt(6)))\n",
            "  (-72 - 7*sqrt(66) + 65*sqrt(6))/(6*(-65 + 7*sqrt(11) + 12*sqrt(6)))]]\n",
            "R es \n",
            "[[sqrt(66) 13*sqrt(66)/11 15*sqrt(66)/11]\n",
            " [0\n",
            "  3*(-65*sqrt(11) + 77 + 12*sqrt(66))/(11*(-65 + 7*sqrt(11) + 12*sqrt(6)))\n",
            "  6*(-65*sqrt(11) + 77 + 12*sqrt(66))/(11*(-65 + 7*sqrt(11) + 12*sqrt(6)))]\n",
            " [0 0 0]]\n"
          ],
          "name": "stdout"
        }
      ]
    },
    {
      "cell_type": "code",
      "metadata": {
        "colab": {
          "base_uri": "https://localhost:8080/",
          "height": 116
        },
        "id": "5sxX26YhdASo",
        "outputId": "f2f49e5c-f6e9-4bbe-bf58-fce1227d63a9"
      },
      "source": [
        "dqr['Q']"
      ],
      "execution_count": 165,
      "outputs": [
        {
          "output_type": "execute_result",
          "data": {
            "text/latex": "$\\displaystyle \\left[\\begin{matrix}\\frac{\\sqrt{66}}{66} & \\frac{3 \\left(- 65 \\sqrt{11} + 77 + 12 \\sqrt{66}\\right)}{11 \\left(-65 + 7 \\sqrt{11} + 12 \\sqrt{6}\\right)} & \\frac{-72 - 7 \\sqrt{66} + 65 \\sqrt{6}}{6 \\left(-65 + 7 \\sqrt{11} + 12 \\sqrt{6}\\right)}\\\\\\frac{2 \\sqrt{66}}{33} & \\frac{- 65 \\sqrt{11} + 77 + 12 \\sqrt{66}}{11 \\left(-65 + 7 \\sqrt{11} + 12 \\sqrt{6}\\right)} & \\frac{- 65 \\sqrt{6} + 7 \\sqrt{66} + 72}{3 \\left(-65 + 7 \\sqrt{11} + 12 \\sqrt{6}\\right)}\\\\\\frac{7 \\sqrt{66}}{66} & \\frac{- 12 \\sqrt{66} - 77 + 65 \\sqrt{11}}{11 \\left(-65 + 7 \\sqrt{11} + 12 \\sqrt{6}\\right)} & \\frac{-72 - 7 \\sqrt{66} + 65 \\sqrt{6}}{6 \\left(-65 + 7 \\sqrt{11} + 12 \\sqrt{6}\\right)}\\end{matrix}\\right]$",
            "text/plain": [
              "Matrix([\n",
              "[  sqrt(66)/66, 3*(-65*sqrt(11) + 77 + 12*sqrt(66))/(11*(-65 + 7*sqrt(11) + 12*sqrt(6))), (-72 - 7*sqrt(66) + 65*sqrt(6))/(6*(-65 + 7*sqrt(11) + 12*sqrt(6)))],\n",
              "[2*sqrt(66)/33,   (-65*sqrt(11) + 77 + 12*sqrt(66))/(11*(-65 + 7*sqrt(11) + 12*sqrt(6))), (-65*sqrt(6) + 7*sqrt(66) + 72)/(3*(-65 + 7*sqrt(11) + 12*sqrt(6)))],\n",
              "[7*sqrt(66)/66,   (-12*sqrt(66) - 77 + 65*sqrt(11))/(11*(-65 + 7*sqrt(11) + 12*sqrt(6))), (-72 - 7*sqrt(66) + 65*sqrt(6))/(6*(-65 + 7*sqrt(11) + 12*sqrt(6)))]])"
            ]
          },
          "metadata": {
            "tags": []
          },
          "execution_count": 165
        }
      ]
    },
    {
      "cell_type": "code",
      "metadata": {
        "colab": {
          "base_uri": "https://localhost:8080/",
          "height": 99
        },
        "id": "v3hTTSAOdAIF",
        "outputId": "b9f858c2-6f75-41fa-8d9c-a0a069fdbc4d"
      },
      "source": [
        "dqr['R']"
      ],
      "execution_count": 166,
      "outputs": [
        {
          "output_type": "execute_result",
          "data": {
            "text/latex": "$\\displaystyle \\left[\\begin{matrix}\\sqrt{66} & \\frac{13 \\sqrt{66}}{11} & \\frac{15 \\sqrt{66}}{11}\\\\0 & \\frac{3 \\left(- 65 \\sqrt{11} + 77 + 12 \\sqrt{66}\\right)}{11 \\left(-65 + 7 \\sqrt{11} + 12 \\sqrt{6}\\right)} & \\frac{6 \\left(- 65 \\sqrt{11} + 77 + 12 \\sqrt{66}\\right)}{11 \\left(-65 + 7 \\sqrt{11} + 12 \\sqrt{6}\\right)}\\\\0 & 0 & 0\\end{matrix}\\right]$",
            "text/plain": [
              "Matrix([\n",
              "[sqrt(66),                                                           13*sqrt(66)/11,                                                           15*sqrt(66)/11],\n",
              "[       0, 3*(-65*sqrt(11) + 77 + 12*sqrt(66))/(11*(-65 + 7*sqrt(11) + 12*sqrt(6))), 6*(-65*sqrt(11) + 77 + 12*sqrt(66))/(11*(-65 + 7*sqrt(11) + 12*sqrt(6)))],\n",
              "[       0,                                                                        0,                                                                        0]])"
            ]
          },
          "metadata": {
            "tags": []
          },
          "execution_count": 166
        }
      ]
    },
    {
      "cell_type": "code",
      "metadata": {
        "id": "4oVoviHzhWaF",
        "colab": {
          "base_uri": "https://localhost:8080/",
          "height": 79
        },
        "outputId": "befd14f1-0379-4af7-f35d-79ee59c7f0d8"
      },
      "source": [
        "simplify(dqr['Q'].T * dqr['Q'])"
      ],
      "execution_count": 161,
      "outputs": [
        {
          "output_type": "execute_result",
          "data": {
            "text/latex": "$\\displaystyle \\left[\\begin{matrix}1 & 0 & 0\\\\0 & 1 & 0\\\\0 & 0 & 1\\end{matrix}\\right]$",
            "text/plain": [
              "Matrix([\n",
              "[1, 0, 0],\n",
              "[0, 1, 0],\n",
              "[0, 0, 1]])"
            ]
          },
          "metadata": {
            "tags": []
          },
          "execution_count": 161
        }
      ]
    },
    {
      "cell_type": "code",
      "metadata": {
        "colab": {
          "base_uri": "https://localhost:8080/",
          "height": 79
        },
        "id": "2O2FruG5cwnO",
        "outputId": "b42df30a-b0ae-4d05-f8df-41bbfdbc262a"
      },
      "source": [
        "simplify(dqr['Q'] * dqr['R'])"
      ],
      "execution_count": 162,
      "outputs": [
        {
          "output_type": "execute_result",
          "data": {
            "text/latex": "$\\displaystyle \\left[\\begin{matrix}1 & 2 & 3\\\\4 & 5 & 6\\\\7 & 8 & 9\\end{matrix}\\right]$",
            "text/plain": [
              "Matrix([\n",
              "[1, 2, 3],\n",
              "[4, 5, 6],\n",
              "[7, 8, 9]])"
            ]
          },
          "metadata": {
            "tags": []
          },
          "execution_count": 162
        }
      ]
    },
    {
      "cell_type": "markdown",
      "metadata": {
        "id": "SmLgOIcudSpl"
      },
      "source": [
        "### Métodos iterativos"
      ]
    },
    {
      "cell_type": "markdown",
      "metadata": {
        "id": "YU-a7796hj2T"
      },
      "source": [
        "TODO: GRAFICAR ITERACIONES, PRINT_VERBOSES ETC"
      ]
    },
    {
      "cell_type": "code",
      "metadata": {
        "id": "3ecIXBwjxayS"
      },
      "source": [
        "def norma_1(A):\r\n",
        "  print('La norma 1 es: ', max(np.sum(abs(A), axis=0))) # Mayor columna\r\n",
        "\r\n",
        "def norma_inf(A):\r\n",
        "  print('La norma inf es: ', max(np.sum(abs(A), axis=1))) # Mayor fila\r\n",
        "\r\n",
        "def norma_2(A):\r\n",
        "  eigs = sqrt([simplify(i) for i in list((A.T * A).eigenvals().keys())])\r\n",
        "  print('Los eigs de A.T * A (sqrt) son:', eigs)\r\n",
        "  print('La norma 2 es: ', np.max(eigs))"
      ],
      "execution_count": 261,
      "outputs": []
    },
    {
      "cell_type": "code",
      "metadata": {
        "id": "sezuO6NOzcVG"
      },
      "source": [
        ""
      ],
      "execution_count": null,
      "outputs": []
    },
    {
      "cell_type": "code",
      "metadata": {
        "id": "u5Y3MD1izdo-"
      },
      "source": [
        ""
      ],
      "execution_count": null,
      "outputs": []
    },
    {
      "cell_type": "code",
      "metadata": {
        "colab": {
          "base_uri": "https://localhost:8080/"
        },
        "id": "ePO756sRxl37",
        "outputId": "50f459f4-da45-43ec-b737-5833b7bed17c"
      },
      "source": [
        "A = mat([[1, a, 3], [3,2,2], [3,6,7]])\r\n",
        "np.sum(A, axis=1)"
      ],
      "execution_count": 246,
      "outputs": [
        {
          "output_type": "execute_result",
          "data": {
            "text/plain": [
              "array([a + 4, 7, 16], dtype=object)"
            ]
          },
          "metadata": {
            "tags": []
          },
          "execution_count": 246
        }
      ]
    },
    {
      "cell_type": "code",
      "metadata": {
        "id": "ZnKOn4Y6hppc"
      },
      "source": [
        "def criterio_radio_espectral(H, verbose=True):\r\n",
        "  eigs = [simplify(i) for i in list(H.eigenvals().keys())]\r\n",
        "\r\n",
        "  print_verbose('||Criterio de radio espectral||', verbose)\r\n",
        "  try:\r\n",
        "    print_verbose(f'El mayor autovalor es {np.max(np.array(eigs, dtype=float))}. Si ese valor es < 1 entonces los métodos iterativos convergen.', verbose)\r\n",
        "  except:\r\n",
        "    print_verbose(f'Los autovalores son {eigs}. Si el mayor autovalor es < 1, entonces el método converge.', verbose)\r\n",
        "\r\n",
        "def criterio_diagonal_dominante(A, verbose=True):\r\n",
        "  print_verbose('||Criterio de Diagonal Dominante||\\n Si la matriz es dominante por filas, los métodos de Jacobi y Gauss-Seidel convergen.', verbose)\r\n",
        "  A_abs = abs(A)\r\n",
        "  try:\r\n",
        "    np.array(A_abs, dtype=float)\r\n",
        "    for r in range(A.shape[0]):\r\n",
        "      diff = 2 * A_abs[r, r] - sum(A_abs[r, :])\r\n",
        "      if diff <=  0:\r\n",
        "        print_verbose(f'La fila {r} NO es dominante por filas: diff = {diff}.', verbose)\r\n",
        "        return\r\n",
        "    print_verbose('La matriz CUMPLE EL CRITERIO DIAGONAL DOMINANTE', verbose)\r\n",
        "  except:\r\n",
        "    print_verbose('La matriz tiene complejos o simbolos. Hay que verificar el criterio a mano.', verbose)\r\n",
        "  \r\n",
        "def criterio_simetrica_definida_positiva(A, verbose=True):\r\n",
        "  print_verbose('||Criterio de Sim Def Pos||\\n Si la matriz es simétrica y definida positiva, el método de Gauss-Seidel es convergente.', verbose)\r\n",
        "  if A != A.T:\r\n",
        "    print_verbose('La matriz NO es simétrica.', verbose)\r\n",
        "    return \r\n",
        "  \r\n",
        "  det_A = A.det()\r\n",
        "  print_verbose(f'El determinante de A es {det_A}.', verbose)\r\n",
        "  try:\r\n",
        "    if float(det_A) > 0:\r\n",
        "      print_verbose(f'La matriz es DEFINIDA POSITIVA (el determinante es positivo).', verbose)\r\n",
        "      print_verbose('La matriz CUMPLE EL CRITERIO SIM DEF POS', verbose)\r\n",
        "    else:\r\n",
        "      print_verbose(f'La matriz NO es DEFINIDA POSITIVA (el determinante no es positivo).', verbose)\r\n",
        "  except:\r\n",
        "    print_verbose(f'No podemos determinar la positividad porque hay símbolos o complejos.', verbose)\r\n",
        "\r\n",
        "def criterio_SOR(verbose):\r\n",
        "  print_verbose('||Criterio SOR||\\n Si la matriz es simétrica y definida positiva y w in (0, 2) el método SOR es convergente.\\nSi w no (0, 2) el método SOR no converge.', verbose)\r\n",
        "\r\n",
        "def criterio_m_matriz(A, verbose):\r\n",
        "  print_verbose('||Criterio M matriz||\\n Si la A es M-matriz entonces las descomposiciones de Jacobi y Gauss-Seidel son convergentes.\\nA^-1 >= 0\\naij < 0 para todo i =/= j', verbose)\r\n",
        "  A_inv = A ** -1\r\n",
        "\r\n",
        "  try:\r\n",
        "    np.array(A, dtype=float)\r\n",
        "    if np.min(A_inv) >= 0:\r\n",
        "      print_verbose('A^-1 >= 0', verbose)\r\n",
        "    else:\r\n",
        "      print_verbose('A^-1 < 0. La matriz NO CUMPLE el criterio', verbose)\r\n",
        "    \r\n",
        "    A_null_diag = A.copy()\r\n",
        "    for i in range(A.shape[0]):\r\n",
        "      A_null_diag[i, i] = 0\r\n",
        "    \r\n",
        "    if np.max(A_null_diag) > 0:\r\n",
        "      print_verbose('La matriz tiene elementos no diagonales positivos. NO CUMPLE el criterio.', verbose)\r\n",
        "    else:\r\n",
        "      print_verbose('Los elementos no diagonales son negativos.', verbose)\r\n",
        "  except:\r\n",
        "    print_verbose('La matriz tiene complejos o símbolos, no podemos verificar le criterio.', verbose)\r\n"
      ],
      "execution_count": 236,
      "outputs": []
    },
    {
      "cell_type": "code",
      "metadata": {
        "id": "L2SsjovFdWe0"
      },
      "source": [
        "def metodo_iterativo(A, b=None, x0=None, metodo='jacobi', w=1.5, n_iter=10, verbose=True, grafica_conver=True):\r\n",
        "  if b is None:\r\n",
        "    b = mat([[1] * A.shape[0]]).T\r\n",
        "  if x0 is None:\r\n",
        "    x0 = mat([[1] * A.shape[1]]).T\r\n",
        "\r\n",
        "  D, L, U = zeros(A.shape[0], A.shape[1]), zeros(A.shape[0], A.shape[1]), zeros(A.shape[0], A.shape[1])\r\n",
        "  for r in range(A.shape[0]):\r\n",
        "    for c in range(A.shape[1]):\r\n",
        "      if r == c:\r\n",
        "        D[r, c] = A[r, c]\r\n",
        "      elif r < c:\r\n",
        "        U[r, c] = - A[r, c]\r\n",
        "      else:\r\n",
        "        L[r, c] = - A[r, c]\r\n",
        "\r\n",
        "  if metodo=='jacobi':\r\n",
        "    M = D\r\n",
        "  elif metodo=='gs':\r\n",
        "    M = D - L\r\n",
        "  elif metodo=='sor':\r\n",
        "    M = D/w - L\r\n",
        "  \r\n",
        "  N = simplify(M - A)\r\n",
        "\r\n",
        "  # Aplicamos criterios!\r\n",
        "  criterio_radio_espectral(M ** (-1) * N, verbose)\r\n",
        "  criterio_diagonal_dominante(A, verbose)\r\n",
        "  criterio_simetrica_definida_positiva(A, verbose)\r\n",
        "  criterio_SOR(verbose)\r\n",
        "  criterio_m_matriz(A, verbose)\r\n",
        "\r\n",
        "  diff = []\r\n",
        "  for iter in range(n_iter):\r\n",
        "    x0 = (M ** (-1)) * (N * x0 + b)\r\n",
        "    diff.append(np.sum(np.abs(A * x0 - b)))\r\n",
        "\r\n",
        "  return {'x': x0, 'diff': diff}"
      ],
      "execution_count": 227,
      "outputs": []
    },
    {
      "cell_type": "code",
      "metadata": {
        "id": "oqnh2RrfdWXS"
      },
      "source": [
        "A = mat([[2, 1, 1], [1, -2, 1], [1, 1, 2]])\r\n",
        "b = mat([[1, 1, 1]]).T"
      ],
      "execution_count": 233,
      "outputs": []
    },
    {
      "cell_type": "code",
      "metadata": {
        "colab": {
          "base_uri": "https://localhost:8080/"
        },
        "id": "EFLlJcGidWRR",
        "outputId": "2c27c52a-e449-42c8-c845-b91409f3e1c2"
      },
      "source": [
        "diter = metodo_iterativo(A, b, n_iter=200, verbose=True)\r\n",
        "np.array(diter['x'], dtype=float)"
      ],
      "execution_count": 237,
      "outputs": [
        {
          "output_type": "stream",
          "text": [
            "||Criterio de radio espectral||\n",
            "Los autovalores son [1/2, -1/4 - sqrt(7)*I/4, -1/4 + sqrt(7)*I/4]. Si el mayor autovalor es < 1, entonces el método converge.\n",
            "||Criterio de Diagonal Dominante||\n",
            " Si la matriz es dominante por filas, los métodos de Jacobi y Gauss-Seidel convergen.\n",
            "La fila 0 NO es dominante por filas: diff = 0.\n",
            "||Criterio de Sim Def Pos||\n",
            " Si la matriz es simétrica y definida positiva, el método de Gauss-Seidel es convergente.\n",
            "El determinante de A es -8.\n",
            "La matriz NO es DEFINIDA POSITIVA (el determinante no es positivo).\n",
            "||Criterio SOR||\n",
            " Si la matriz es simétrica y definida positiva y w in (0, 2) el método SOR es convergente.\n",
            "Si w no (0, 2) el método SOR no converge.\n",
            "||Criterio M matriz||\n",
            " Si la A es M-matriz entonces las descomposiciones de Jacobi y Gauss-Seidel son convergentes.\n",
            "A^-1 >= 0\n",
            "aij < 0 para todo i =/= j\n",
            "A^-1 < 0. La matriz NO CUMPLE el criterio\n",
            "La matriz tiene elementos no diagonales positivos. NO CUMPLE el criterio.\n"
          ],
          "name": "stdout"
        },
        {
          "output_type": "execute_result",
          "data": {
            "text/plain": [
              "array([[ 0.375],\n",
              "       [-0.125],\n",
              "       [ 0.375]])"
            ]
          },
          "metadata": {
            "tags": []
          },
          "execution_count": 237
        }
      ]
    },
    {
      "cell_type": "code",
      "metadata": {
        "colab": {
          "base_uri": "https://localhost:8080/",
          "height": 1000
        },
        "id": "5xTufrqjdV1d",
        "outputId": "a3b6dbea-b0e7-4b99-96d4-e2068cfc0c90"
      },
      "source": [
        "# EJERCICIO 12\r\n",
        "a = symbols('a')\r\n",
        "\r\n",
        "A = mat([[4, 1, a], [1, 4, 1], [a, 1, 4]])\r\n",
        "metodo_iterativo(A, metodo='gs', n_iter=10)"
      ],
      "execution_count": 231,
      "outputs": [
        {
          "output_type": "stream",
          "text": [
            "||Criterio de radio espectral||\n",
            "Los autovalores son [a**2/32 - a/128 - sqrt((4*a - 1)*(4*a**3 - a**2 + 16*a - 64))/128 + 1/16, a**2/32 - a/128 + sqrt((4*a - 1)*(4*a**3 - a**2 + 16*a - 64))/128 + 1/16, 0]. Si el mayor autovalor es < 1, entonces el método converge.\n",
            "||Criterio de Diagonal Dominante||\n",
            " Si la matriz es dominante por filas, los métodos de Jacobi y Gauss-Seidel convergen.\n",
            "La matriz tiene complejos o simbolos. Hay que verificar el criterio a mano.\n",
            "||Criterio de Sim Def Pos||\n",
            " Si la matriz es simétrica y definida positiva, el método de Gauss-Seidel es convergente.\n",
            "El determinante de A es -4*a**2 + 2*a + 56.\n",
            "No podemos determinar la positividad porque hay símbolos o complejos.\n",
            "||Criterio SOR||\n",
            " Si la matriz es simétrica y definida positiva y w in (0, 2) el método SOR es convergente.\n",
            "Si w no (0, 2) el método SOR no converge.\n",
            "||Criterio M matriz||\n",
            " Si la A es M-matriz entonces las descomposiciones de Jacobi y Gauss-Seidel son convergentes.\n",
            "A^-1 >= 0\n",
            "aij < 0 para todo i =/= j\n"
          ],
          "name": "stdout"
        },
        {
          "output_type": "error",
          "ename": "TypeError",
          "evalue": "ignored",
          "traceback": [
            "\u001b[0;31m---------------------------------------------------------------------------\u001b[0m",
            "\u001b[0;31mTypeError\u001b[0m                                 Traceback (most recent call last)",
            "\u001b[0;32m<ipython-input-231-f1bd976613f4>\u001b[0m in \u001b[0;36m<module>\u001b[0;34m()\u001b[0m\n\u001b[1;32m      3\u001b[0m \u001b[0;34m\u001b[0m\u001b[0m\n\u001b[1;32m      4\u001b[0m \u001b[0mA\u001b[0m \u001b[0;34m=\u001b[0m \u001b[0mmat\u001b[0m\u001b[0;34m(\u001b[0m\u001b[0;34m[\u001b[0m\u001b[0;34m[\u001b[0m\u001b[0;36m4\u001b[0m\u001b[0;34m,\u001b[0m \u001b[0;36m1\u001b[0m\u001b[0;34m,\u001b[0m \u001b[0ma\u001b[0m\u001b[0;34m]\u001b[0m\u001b[0;34m,\u001b[0m \u001b[0;34m[\u001b[0m\u001b[0;36m1\u001b[0m\u001b[0;34m,\u001b[0m \u001b[0;36m4\u001b[0m\u001b[0;34m,\u001b[0m \u001b[0;36m1\u001b[0m\u001b[0;34m]\u001b[0m\u001b[0;34m,\u001b[0m \u001b[0;34m[\u001b[0m\u001b[0ma\u001b[0m\u001b[0;34m,\u001b[0m \u001b[0;36m1\u001b[0m\u001b[0;34m,\u001b[0m \u001b[0;36m4\u001b[0m\u001b[0;34m]\u001b[0m\u001b[0;34m]\u001b[0m\u001b[0;34m)\u001b[0m\u001b[0;34m\u001b[0m\u001b[0;34m\u001b[0m\u001b[0m\n\u001b[0;32m----> 5\u001b[0;31m \u001b[0mmetodo_iterativo\u001b[0m\u001b[0;34m(\u001b[0m\u001b[0mA\u001b[0m\u001b[0;34m,\u001b[0m \u001b[0mmetodo\u001b[0m\u001b[0;34m=\u001b[0m\u001b[0;34m'gs'\u001b[0m\u001b[0;34m,\u001b[0m \u001b[0mn_iter\u001b[0m\u001b[0;34m=\u001b[0m\u001b[0;36m10\u001b[0m\u001b[0;34m)\u001b[0m\u001b[0;34m\u001b[0m\u001b[0;34m\u001b[0m\u001b[0m\n\u001b[0m",
            "\u001b[0;32m<ipython-input-227-c0bf1e81d17a>\u001b[0m in \u001b[0;36mmetodo_iterativo\u001b[0;34m(A, b, x0, metodo, w, n_iter, verbose, grafica_conver)\u001b[0m\n\u001b[1;32m     29\u001b[0m   \u001b[0mcriterio_simetrica_definida_positiva\u001b[0m\u001b[0;34m(\u001b[0m\u001b[0mA\u001b[0m\u001b[0;34m,\u001b[0m \u001b[0mverbose\u001b[0m\u001b[0;34m)\u001b[0m\u001b[0;34m\u001b[0m\u001b[0;34m\u001b[0m\u001b[0m\n\u001b[1;32m     30\u001b[0m   \u001b[0mcriterio_SOR\u001b[0m\u001b[0;34m(\u001b[0m\u001b[0mverbose\u001b[0m\u001b[0;34m)\u001b[0m\u001b[0;34m\u001b[0m\u001b[0;34m\u001b[0m\u001b[0m\n\u001b[0;32m---> 31\u001b[0;31m   \u001b[0mcriterio_m_matriz\u001b[0m\u001b[0;34m(\u001b[0m\u001b[0mA\u001b[0m\u001b[0;34m,\u001b[0m \u001b[0mverbose\u001b[0m\u001b[0;34m)\u001b[0m\u001b[0;34m\u001b[0m\u001b[0;34m\u001b[0m\u001b[0m\n\u001b[0m\u001b[1;32m     32\u001b[0m \u001b[0;34m\u001b[0m\u001b[0m\n\u001b[1;32m     33\u001b[0m   \u001b[0mdiff\u001b[0m \u001b[0;34m=\u001b[0m \u001b[0;34m[\u001b[0m\u001b[0;34m]\u001b[0m\u001b[0;34m\u001b[0m\u001b[0;34m\u001b[0m\u001b[0m\n",
            "\u001b[0;32m<ipython-input-230-907cf574be61>\u001b[0m in \u001b[0;36mcriterio_m_matriz\u001b[0;34m(A, verbose)\u001b[0m\n\u001b[1;32m     47\u001b[0m \u001b[0;34m\u001b[0m\u001b[0m\n\u001b[1;32m     48\u001b[0m   \u001b[0;32mtry\u001b[0m\u001b[0;34m:\u001b[0m\u001b[0;34m\u001b[0m\u001b[0;34m\u001b[0m\u001b[0m\n\u001b[0;32m---> 49\u001b[0;31m     \u001b[0mnp\u001b[0m\u001b[0;34m.\u001b[0m\u001b[0marray\u001b[0m\u001b[0;34m(\u001b[0m\u001b[0mA\u001b[0m\u001b[0;34m,\u001b[0m \u001b[0mdtype\u001b[0m\u001b[0;34m=\u001b[0m\u001b[0mfloat\u001b[0m\u001b[0;34m)\u001b[0m\u001b[0;34m\u001b[0m\u001b[0;34m\u001b[0m\u001b[0m\n\u001b[0m\u001b[1;32m     50\u001b[0m     \u001b[0;32mif\u001b[0m \u001b[0mnp\u001b[0m\u001b[0;34m.\u001b[0m\u001b[0mmin\u001b[0m\u001b[0;34m(\u001b[0m\u001b[0mA_inv\u001b[0m\u001b[0;34m)\u001b[0m \u001b[0;34m>=\u001b[0m \u001b[0;36m0\u001b[0m\u001b[0;34m:\u001b[0m\u001b[0;34m\u001b[0m\u001b[0;34m\u001b[0m\u001b[0m\n\u001b[1;32m     51\u001b[0m       \u001b[0mprint_verbose\u001b[0m\u001b[0;34m(\u001b[0m\u001b[0;34m'A^-1 >= 0'\u001b[0m\u001b[0;34m,\u001b[0m \u001b[0mverbose\u001b[0m\u001b[0;34m)\u001b[0m\u001b[0;34m\u001b[0m\u001b[0;34m\u001b[0m\u001b[0m\n",
            "\u001b[0;32m/usr/local/lib/python3.7/dist-packages/sympy/matrices/matrices.py\u001b[0m in \u001b[0;36m__array__\u001b[0;34m(self, dtype)\u001b[0m\n\u001b[1;32m    756\u001b[0m     \u001b[0;32mdef\u001b[0m \u001b[0m__array__\u001b[0m\u001b[0;34m(\u001b[0m\u001b[0mself\u001b[0m\u001b[0;34m,\u001b[0m \u001b[0mdtype\u001b[0m\u001b[0;34m=\u001b[0m\u001b[0mobject\u001b[0m\u001b[0;34m)\u001b[0m\u001b[0;34m:\u001b[0m\u001b[0;34m\u001b[0m\u001b[0;34m\u001b[0m\u001b[0m\n\u001b[1;32m    757\u001b[0m         \u001b[0;32mfrom\u001b[0m \u001b[0;34m.\u001b[0m\u001b[0mdense\u001b[0m \u001b[0;32mimport\u001b[0m \u001b[0mmatrix2numpy\u001b[0m\u001b[0;34m\u001b[0m\u001b[0;34m\u001b[0m\u001b[0m\n\u001b[0;32m--> 758\u001b[0;31m         \u001b[0;32mreturn\u001b[0m \u001b[0mmatrix2numpy\u001b[0m\u001b[0;34m(\u001b[0m\u001b[0mself\u001b[0m\u001b[0;34m,\u001b[0m \u001b[0mdtype\u001b[0m\u001b[0;34m=\u001b[0m\u001b[0mdtype\u001b[0m\u001b[0;34m)\u001b[0m\u001b[0;34m\u001b[0m\u001b[0;34m\u001b[0m\u001b[0m\n\u001b[0m\u001b[1;32m    759\u001b[0m \u001b[0;34m\u001b[0m\u001b[0m\n\u001b[1;32m    760\u001b[0m     \u001b[0;32mdef\u001b[0m \u001b[0m__len__\u001b[0m\u001b[0;34m(\u001b[0m\u001b[0mself\u001b[0m\u001b[0;34m)\u001b[0m\u001b[0;34m:\u001b[0m\u001b[0;34m\u001b[0m\u001b[0;34m\u001b[0m\u001b[0m\n",
            "\u001b[0;32m/usr/local/lib/python3.7/dist-packages/sympy/matrices/dense.py\u001b[0m in \u001b[0;36mmatrix2numpy\u001b[0;34m(m, dtype)\u001b[0m\n\u001b[1;32m    648\u001b[0m     \u001b[0;32mfor\u001b[0m \u001b[0mi\u001b[0m \u001b[0;32min\u001b[0m \u001b[0mrange\u001b[0m\u001b[0;34m(\u001b[0m\u001b[0mm\u001b[0m\u001b[0;34m.\u001b[0m\u001b[0mrows\u001b[0m\u001b[0;34m)\u001b[0m\u001b[0;34m:\u001b[0m\u001b[0;34m\u001b[0m\u001b[0;34m\u001b[0m\u001b[0m\n\u001b[1;32m    649\u001b[0m         \u001b[0;32mfor\u001b[0m \u001b[0mj\u001b[0m \u001b[0;32min\u001b[0m \u001b[0mrange\u001b[0m\u001b[0;34m(\u001b[0m\u001b[0mm\u001b[0m\u001b[0;34m.\u001b[0m\u001b[0mcols\u001b[0m\u001b[0;34m)\u001b[0m\u001b[0;34m:\u001b[0m\u001b[0;34m\u001b[0m\u001b[0;34m\u001b[0m\u001b[0m\n\u001b[0;32m--> 650\u001b[0;31m             \u001b[0ma\u001b[0m\u001b[0;34m[\u001b[0m\u001b[0mi\u001b[0m\u001b[0;34m,\u001b[0m \u001b[0mj\u001b[0m\u001b[0;34m]\u001b[0m \u001b[0;34m=\u001b[0m \u001b[0mm\u001b[0m\u001b[0;34m[\u001b[0m\u001b[0mi\u001b[0m\u001b[0;34m,\u001b[0m \u001b[0mj\u001b[0m\u001b[0;34m]\u001b[0m\u001b[0;34m\u001b[0m\u001b[0;34m\u001b[0m\u001b[0m\n\u001b[0m\u001b[1;32m    651\u001b[0m     \u001b[0;32mreturn\u001b[0m \u001b[0ma\u001b[0m\u001b[0;34m\u001b[0m\u001b[0;34m\u001b[0m\u001b[0m\n\u001b[1;32m    652\u001b[0m \u001b[0;34m\u001b[0m\u001b[0m\n",
            "\u001b[0;32m/usr/local/lib/python3.7/dist-packages/sympy/core/expr.py\u001b[0m in \u001b[0;36m__float__\u001b[0;34m(self)\u001b[0m\n\u001b[1;32m    348\u001b[0m         \u001b[0;32mif\u001b[0m \u001b[0mresult\u001b[0m\u001b[0;34m.\u001b[0m\u001b[0mis_number\u001b[0m \u001b[0;32mand\u001b[0m \u001b[0mresult\u001b[0m\u001b[0;34m.\u001b[0m\u001b[0mas_real_imag\u001b[0m\u001b[0;34m(\u001b[0m\u001b[0;34m)\u001b[0m\u001b[0;34m[\u001b[0m\u001b[0;36m1\u001b[0m\u001b[0;34m]\u001b[0m\u001b[0;34m:\u001b[0m\u001b[0;34m\u001b[0m\u001b[0;34m\u001b[0m\u001b[0m\n\u001b[1;32m    349\u001b[0m             \u001b[0;32mraise\u001b[0m \u001b[0mTypeError\u001b[0m\u001b[0;34m(\u001b[0m\u001b[0;34m\"can't convert complex to float\"\u001b[0m\u001b[0;34m)\u001b[0m\u001b[0;34m\u001b[0m\u001b[0;34m\u001b[0m\u001b[0m\n\u001b[0;32m--> 350\u001b[0;31m         \u001b[0;32mraise\u001b[0m \u001b[0mTypeError\u001b[0m\u001b[0;34m(\u001b[0m\u001b[0;34m\"can't convert expression to float\"\u001b[0m\u001b[0;34m)\u001b[0m\u001b[0;34m\u001b[0m\u001b[0;34m\u001b[0m\u001b[0m\n\u001b[0m\u001b[1;32m    351\u001b[0m \u001b[0;34m\u001b[0m\u001b[0m\n\u001b[1;32m    352\u001b[0m     \u001b[0;32mdef\u001b[0m \u001b[0m__complex__\u001b[0m\u001b[0;34m(\u001b[0m\u001b[0mself\u001b[0m\u001b[0;34m)\u001b[0m\u001b[0;34m:\u001b[0m\u001b[0;34m\u001b[0m\u001b[0;34m\u001b[0m\u001b[0m\n",
            "\u001b[0;31mTypeError\u001b[0m: can't convert expression to float"
          ]
        }
      ]
    },
    {
      "cell_type": "code",
      "metadata": {
        "colab": {
          "base_uri": "https://localhost:8080/"
        },
        "id": "GYDG-ezJw-p_",
        "outputId": "7befe8a2-9f5a-4911-9b82-db3f87e3fc23"
      },
      "source": [
        "# EJERCICIO 14\r\n",
        "A = mat([[-11, 20, 8], [20, 16, -8], [8, -8, 5]]) / 27\r\n",
        "norma_1(A)\r\n",
        "norma_inf(A)\r\n",
        "d = [simplify(i) for i in list((A.T * A).eigenvals().keys())]\r\n",
        "# norma_2(A)"
      ],
      "execution_count": 270,
      "outputs": [
        {
          "output_type": "stream",
          "text": [
            "La norma 1 es:  44/27\n",
            "La norma inf es:  44/27\n"
          ],
          "name": "stdout"
        }
      ]
    },
    {
      "cell_type": "code",
      "metadata": {
        "colab": {
          "base_uri": "https://localhost:8080/",
          "height": 79
        },
        "id": "zHoLZBSQ1gwN",
        "outputId": "82a67880-346e-4e14-b37c-eb5aa9aebc4e"
      },
      "source": [
        "A"
      ],
      "execution_count": 285,
      "outputs": [
        {
          "output_type": "execute_result",
          "data": {
            "text/latex": "$\\displaystyle \\left[\\begin{matrix}- \\frac{11}{27} & \\frac{20}{27} & \\frac{8}{27}\\\\\\frac{20}{27} & \\frac{16}{27} & - \\frac{8}{27}\\\\\\frac{8}{27} & - \\frac{8}{27} & \\frac{5}{27}\\end{matrix}\\right]$",
            "text/plain": [
              "Matrix([\n",
              "[-11/27, 20/27,  8/27],\n",
              "[ 20/27, 16/27, -8/27],\n",
              "[  8/27, -8/27,  5/27]])"
            ]
          },
          "metadata": {
            "tags": []
          },
          "execution_count": 285
        }
      ]
    },
    {
      "cell_type": "code",
      "metadata": {
        "colab": {
          "base_uri": "https://localhost:8080/",
          "height": 79
        },
        "id": "9atj7Xxr1AQ_",
        "outputId": "55ff6379-d6b1-472b-a31b-35010d1514e9"
      },
      "source": [
        "A.T * A"
      ],
      "execution_count": 284,
      "outputs": [
        {
          "output_type": "execute_result",
          "data": {
            "text/latex": "$\\displaystyle \\left[\\begin{matrix}\\frac{65}{81} & \\frac{4}{81} & - \\frac{208}{729}\\\\\\frac{4}{81} & \\frac{80}{81} & - \\frac{8}{729}\\\\- \\frac{208}{729} & - \\frac{8}{729} & \\frac{17}{81}\\end{matrix}\\right]$",
            "text/plain": [
              "Matrix([\n",
              "[   65/81,   4/81, -208/729],\n",
              "[    4/81,  80/81,   -8/729],\n",
              "[-208/729, -8/729,    17/81]])"
            ]
          },
          "metadata": {
            "tags": []
          },
          "execution_count": 284
        }
      ]
    },
    {
      "cell_type": "code",
      "metadata": {
        "colab": {
          "base_uri": "https://localhost:8080/",
          "height": 79
        },
        "id": "Zcd4rMQe0gBl",
        "outputId": "1f43cd66-4064-4a90-af58-83b80b88f537"
      },
      "source": [
        "simplify((A.T * A - a * eye(3)))"
      ],
      "execution_count": 282,
      "outputs": [
        {
          "output_type": "execute_result",
          "data": {
            "text/latex": "$\\displaystyle \\left[\\begin{matrix}\\frac{65}{81} - a & \\frac{4}{81} & - \\frac{208}{729}\\\\\\frac{4}{81} & \\frac{80}{81} - a & - \\frac{8}{729}\\\\- \\frac{208}{729} & - \\frac{8}{729} & \\frac{17}{81} - a\\end{matrix}\\right]$",
            "text/plain": [
              "Matrix([\n",
              "[65/81 - a,      4/81,  -208/729],\n",
              "[     4/81, 80/81 - a,    -8/729],\n",
              "[ -208/729,    -8/729, 17/81 - a]])"
            ]
          },
          "metadata": {
            "tags": []
          },
          "execution_count": 282
        }
      ]
    },
    {
      "cell_type": "code",
      "metadata": {
        "colab": {
          "base_uri": "https://localhost:8080/",
          "height": 66
        },
        "id": "ZQEKyDlnzevd",
        "outputId": "48d9f11c-a355-48d8-f9b2-8d636b3dd756"
      },
      "source": [
        "simplify(d[0])"
      ],
      "execution_count": 272,
      "outputs": [
        {
          "output_type": "execute_result",
          "data": {
            "text/latex": "$\\displaystyle \\frac{2}{3} - \\frac{\\sqrt[3]{233455689 + 24720 \\sqrt{13236603} i}}{2187} - \\frac{132347 \\cdot 3^{\\frac{2}{3}}}{2187 \\sqrt[3]{77818563 + 8240 \\sqrt{13236603} i}}$",
            "text/plain": [
              "2/3 - (233455689 + 24720*sqrt(13236603)*I)**(1/3)/2187 - 132347*3**(2/3)/(2187*(77818563 + 8240*sqrt(13236603)*I)**(1/3))"
            ]
          },
          "metadata": {
            "tags": []
          },
          "execution_count": 272
        }
      ]
    }
  ]
}