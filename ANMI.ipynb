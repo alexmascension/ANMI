{
  "nbformat": 4,
  "nbformat_minor": 0,
  "metadata": {
    "colab": {
      "name": "ANMI.ipynb",
      "provenance": [],
      "authorship_tag": "ABX9TyMPpDYgiIa4gcL4jhbTKiYt",
      "include_colab_link": true
    },
    "kernelspec": {
      "name": "python3",
      "display_name": "Python 3"
    }
  },
  "cells": [
    {
      "cell_type": "markdown",
      "metadata": {
        "id": "view-in-github",
        "colab_type": "text"
      },
      "source": [
        "<a href=\"https://colab.research.google.com/github/alexmascension/ANMI/blob/main/ANMI.ipynb\" target=\"_parent\"><img src=\"https://colab.research.google.com/assets/colab-badge.svg\" alt=\"Open In Colab\"/></a>"
      ]
    },
    {
      "cell_type": "markdown",
      "metadata": {
        "id": "Vf3GioQwcepr"
      },
      "source": [
        "# Ejemplos de ANMI"
      ]
    },
    {
      "cell_type": "code",
      "metadata": {
        "id": "hfCYSdUBch4v"
      },
      "source": [
        "import numpy as np"
      ],
      "execution_count": 1,
      "outputs": []
    },
    {
      "cell_type": "code",
      "metadata": {
        "id": "-s3arGT_c3HJ"
      },
      "source": [
        "a = np.array([[1, 2, 3, 4], [2, 1, 2, 3], [3, 2, 1, 2], [4, 3, 2, 1]])"
      ],
      "execution_count": 2,
      "outputs": []
    },
    {
      "cell_type": "code",
      "metadata": {
        "id": "0cugMDYZc3XP",
        "outputId": "73dbf6e9-615f-463d-8367-0d410879c35a",
        "colab": {
          "base_uri": "https://localhost:8080/"
        }
      },
      "source": [
        "eig = np.linalg.eigvals(a)\n",
        "\n",
        "print(eig)"
      ],
      "execution_count": 3,
      "outputs": [
        {
          "output_type": "stream",
          "text": [
            "[ 9.09901951 -3.41421356 -1.09901951 -0.58578644]\n"
          ],
          "name": "stdout"
        }
      ]
    },
    {
      "cell_type": "code",
      "metadata": {
        "id": "JbfwPwlBdLXl",
        "outputId": "2c157bdf-c71a-460a-ce2d-a77b696a0cdf",
        "colab": {
          "base_uri": "https://localhost:8080/"
        }
      },
      "source": [
        "np.all(np.linalg.eigvals(a) > 0)"
      ],
      "execution_count": 5,
      "outputs": [
        {
          "output_type": "execute_result",
          "data": {
            "text/plain": [
              "False"
            ]
          },
          "metadata": {
            "tags": []
          },
          "execution_count": 5
        }
      ]
    },
    {
      "cell_type": "code",
      "metadata": {
        "id": "-7LP6ouHd0X7"
      },
      "source": [
        ""
      ],
      "execution_count": null,
      "outputs": []
    },
    {
      "cell_type": "code",
      "metadata": {
        "id": "_553n-Std0Tx"
      },
      "source": [
        "from sympy.matrices import Matrix"
      ],
      "execution_count": 6,
      "outputs": []
    },
    {
      "cell_type": "code",
      "metadata": {
        "id": "16zsCyV1d0KA"
      },
      "source": [
        "A = Matrix(((25, 15, -5), (15, 18, 0), (-5, 0, 10)))"
      ],
      "execution_count": 10,
      "outputs": []
    },
    {
      "cell_type": "code",
      "metadata": {
        "id": "1YURbKAUeOUR"
      },
      "source": [
        "A_chol = A.cholesky()"
      ],
      "execution_count": 16,
      "outputs": []
    },
    {
      "cell_type": "code",
      "metadata": {
        "id": "GjrPX1T8eQ9j",
        "outputId": "d2a92775-c5f2-406d-edee-5844d10628f0",
        "colab": {
          "base_uri": "https://localhost:8080/",
          "height": 37
        }
      },
      "source": [
        "A.det()"
      ],
      "execution_count": 18,
      "outputs": [
        {
          "output_type": "execute_result",
          "data": {
            "text/latex": "$\\displaystyle 1800$",
            "text/plain": [
              "1800"
            ]
          },
          "metadata": {
            "tags": []
          },
          "execution_count": 18
        }
      ]
    },
    {
      "cell_type": "code",
      "metadata": {
        "id": "lHx9ZejPeeJo",
        "outputId": "fcedcd46-021b-4253-a895-c0082f3d9d40",
        "colab": {
          "base_uri": "https://localhost:8080/",
          "height": 78
        }
      },
      "source": [
        "A_chol * A_chol.T"
      ],
      "execution_count": 20,
      "outputs": [
        {
          "output_type": "execute_result",
          "data": {
            "text/latex": "$\\displaystyle \\left[\\begin{matrix}25 & 15 & -5\\\\15 & 18 & 0\\\\-5 & 0 & 10\\end{matrix}\\right]$",
            "text/plain": [
              "Matrix([\n",
              "[25, 15, -5],\n",
              "[15, 18,  0],\n",
              "[-5,  0, 10]])"
            ]
          },
          "metadata": {
            "tags": []
          },
          "execution_count": 20
        }
      ]
    },
    {
      "cell_type": "code",
      "metadata": {
        "id": "JePhc0SAed9Z"
      },
      "source": [
        "B = Matrix.eye(10)"
      ],
      "execution_count": 25,
      "outputs": []
    },
    {
      "cell_type": "code",
      "metadata": {
        "id": "QcHQL1N1esrt"
      },
      "source": [
        "for i in range(9):\n",
        "  B[i, i+1] = 2\n",
        "  B[i+1, i] = 2"
      ],
      "execution_count": 30,
      "outputs": []
    },
    {
      "cell_type": "code",
      "metadata": {
        "id": "unqRIy4PfAXW",
        "outputId": "ed844a6a-7538-448a-e74b-edc4d01916be",
        "colab": {
          "base_uri": "https://localhost:8080/",
          "height": 221
        }
      },
      "source": [
        "B"
      ],
      "execution_count": 31,
      "outputs": [
        {
          "output_type": "execute_result",
          "data": {
            "text/latex": "$\\displaystyle \\left[\\begin{matrix}1 & 2 & 0 & 0 & 0 & 0 & 0 & 0 & 0 & 0\\\\2 & 1 & 2 & 0 & 0 & 0 & 0 & 0 & 0 & 0\\\\0 & 2 & 1 & 2 & 0 & 0 & 0 & 0 & 0 & 0\\\\0 & 0 & 2 & 1 & 2 & 0 & 0 & 0 & 0 & 0\\\\0 & 0 & 0 & 2 & 1 & 2 & 0 & 0 & 0 & 0\\\\0 & 0 & 0 & 0 & 2 & 1 & 2 & 0 & 0 & 0\\\\0 & 0 & 0 & 0 & 0 & 2 & 1 & 2 & 0 & 0\\\\0 & 0 & 0 & 0 & 0 & 0 & 2 & 1 & 2 & 0\\\\0 & 0 & 0 & 0 & 0 & 0 & 0 & 2 & 1 & 2\\\\0 & 0 & 0 & 0 & 0 & 0 & 0 & 0 & 2 & 1\\end{matrix}\\right]$",
            "text/plain": [
              "Matrix([\n",
              "[1, 2, 0, 0, 0, 0, 0, 0, 0, 0],\n",
              "[2, 1, 2, 0, 0, 0, 0, 0, 0, 0],\n",
              "[0, 2, 1, 2, 0, 0, 0, 0, 0, 0],\n",
              "[0, 0, 2, 1, 2, 0, 0, 0, 0, 0],\n",
              "[0, 0, 0, 2, 1, 2, 0, 0, 0, 0],\n",
              "[0, 0, 0, 0, 2, 1, 2, 0, 0, 0],\n",
              "[0, 0, 0, 0, 0, 2, 1, 2, 0, 0],\n",
              "[0, 0, 0, 0, 0, 0, 2, 1, 2, 0],\n",
              "[0, 0, 0, 0, 0, 0, 0, 2, 1, 2],\n",
              "[0, 0, 0, 0, 0, 0, 0, 0, 2, 1]])"
            ]
          },
          "metadata": {
            "tags": []
          },
          "execution_count": 31
        }
      ]
    },
    {
      "cell_type": "code",
      "metadata": {
        "id": "dOSCXXvJfCWl",
        "outputId": "6090ae67-3298-4e63-9600-5c16ee5fc41d",
        "colab": {
          "base_uri": "https://localhost:8080/"
        }
      },
      "source": [
        "A.eigenvals()"
      ],
      "execution_count": 34,
      "outputs": [
        {
          "output_type": "execute_result",
          "data": {
            "text/plain": [
              "{53/3 + (-1/2 - sqrt(3)*I/2)*(22922/27 + 5*sqrt(123819)*I/3)**(1/3) + 919/(9*(-1/2 - sqrt(3)*I/2)*(22922/27 + 5*sqrt(123819)*I/3)**(1/3)): 1,\n",
              " 53/3 + 919/(9*(-1/2 + sqrt(3)*I/2)*(22922/27 + 5*sqrt(123819)*I/3)**(1/3)) + (-1/2 + sqrt(3)*I/2)*(22922/27 + 5*sqrt(123819)*I/3)**(1/3): 1,\n",
              " 53/3 + 919/(9*(22922/27 + 5*sqrt(123819)*I/3)**(1/3)) + (22922/27 + 5*sqrt(123819)*I/3)**(1/3): 1}"
            ]
          },
          "metadata": {
            "tags": []
          },
          "execution_count": 34
        }
      ]
    }
  ]
}