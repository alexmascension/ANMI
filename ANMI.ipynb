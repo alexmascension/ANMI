{
  "nbformat": 4,
  "nbformat_minor": 0,
  "metadata": {
    "colab": {
      "name": "ANMI.ipynb",
      "provenance": [],
      "toc_visible": true,
      "authorship_tag": "ABX9TyOeT7EfYv1AhXILQmxdMgI4",
      "include_colab_link": true
    },
    "kernelspec": {
      "name": "python3",
      "display_name": "Python 3"
    }
  },
  "cells": [
    {
      "cell_type": "markdown",
      "metadata": {
        "id": "view-in-github",
        "colab_type": "text"
      },
      "source": [
        "<a href=\"https://colab.research.google.com/github/alexmascension/ANMI/blob/main/ANMI.ipynb\" target=\"_parent\"><img src=\"https://colab.research.google.com/assets/colab-badge.svg\" alt=\"Open In Colab\"/></a>"
      ]
    },
    {
      "cell_type": "markdown",
      "metadata": {
        "id": "Vf3GioQwcepr"
      },
      "source": [
        "# Ejemplos de ANMI"
      ]
    },
    {
      "cell_type": "code",
      "metadata": {
        "id": "dYo_JGn2TSxC"
      },
      "source": [
        "from sympy import *\r\n",
        "from sympy.matrices import Matrix as mat\r\n",
        "from sympy.matrices import randMatrix\r\n",
        "from sympy import symbols\r\n",
        "\r\n",
        "import numpy as np\r\n",
        "from numpy.linalg import cond as numero_condicion\r\n",
        "\r\n",
        "from scipy.linalg import orth"
      ],
      "execution_count": 1,
      "outputs": []
    },
    {
      "cell_type": "markdown",
      "metadata": {
        "id": "Yhs7MN3O9Yxy"
      },
      "source": [
        "## Funciones genéricas\n",
        "\n"
      ]
    },
    {
      "cell_type": "code",
      "metadata": {
        "id": "-r65RghO9UnY"
      },
      "source": [
        "def norma(x):\n",
        "  return sqrt((x.T * x)[0])\n",
        "\n",
        "def print_verbose(msg, verbose):\n",
        "  if type(msg) == str:\n",
        "    msg = [msg]\n",
        "  if verbose:\n",
        "    for i in msg:\n",
        "      print(i)"
      ],
      "execution_count": 2,
      "outputs": []
    },
    {
      "cell_type": "markdown",
      "metadata": {
        "id": "OUovfpr3D_nl"
      },
      "source": [
        "## Tema 2"
      ]
    },
    {
      "cell_type": "markdown",
      "metadata": {
        "id": "dnhFdr_9-sV2"
      },
      "source": [
        "### Número de condicion"
      ]
    },
    {
      "cell_type": "markdown",
      "metadata": {
        "id": "KMs1uAWmA0mt"
      },
      "source": [
        "El número de condición se define como $\\vert\\vert A \\vert\\vert \\cdot \\vert\\vert A^{-1}\\vert\\vert$. Un número de condición cercano a 1 implica una matriz más estable frente a métodos con elementos diferenciales. Se cumple que las matrices ortogonales tienen número de condición 1."
      ]
    },
    {
      "cell_type": "code",
      "metadata": {
        "colab": {
          "base_uri": "https://localhost:8080/",
          "height": 78
        },
        "id": "zEeV7Ic1-uF2",
        "outputId": "d58c306a-d2ea-4a68-9fc5-51870c264743"
      },
      "source": [
        "M = mat(((1, 2, 3), (2, 3, 1), (3, 2, 4)))\r\n",
        "M"
      ],
      "execution_count": 3,
      "outputs": [
        {
          "output_type": "execute_result",
          "data": {
            "text/latex": "$\\displaystyle \\left[\\begin{matrix}1 & 2 & 3\\\\2 & 3 & 1\\\\3 & 2 & 4\\end{matrix}\\right]$",
            "text/plain": [
              "Matrix([\n",
              "[1, 2, 3],\n",
              "[2, 3, 1],\n",
              "[3, 2, 4]])"
            ]
          },
          "metadata": {
            "tags": []
          },
          "execution_count": 3
        }
      ]
    },
    {
      "cell_type": "code",
      "metadata": {
        "colab": {
          "base_uri": "https://localhost:8080/"
        },
        "id": "9I7Yh2MXAdap",
        "outputId": "42cc43ae-4358-47ce-cfd9-7d958dcae87a"
      },
      "source": [
        "numero_condicion(np.array(M).astype(int))"
      ],
      "execution_count": 4,
      "outputs": [
        {
          "output_type": "execute_result",
          "data": {
            "text/plain": [
              "6.960250455451664"
            ]
          },
          "metadata": {
            "tags": []
          },
          "execution_count": 4
        }
      ]
    },
    {
      "cell_type": "code",
      "metadata": {
        "colab": {
          "base_uri": "https://localhost:8080/"
        },
        "id": "avs2j_2h-7L_",
        "outputId": "9fb5f446-1efa-49b5-d2b4-73a1c68a23ec"
      },
      "source": [
        "M_ort = (orth(np.array(M).astype(int)))\r\n",
        "M_ort"
      ],
      "execution_count": 5,
      "outputs": [
        {
          "output_type": "execute_result",
          "data": {
            "text/plain": [
              "array([[-0.50127996, -0.23313726,  0.83328592],\n",
              "       [-0.45615124,  0.88953592, -0.02553206],\n",
              "       [-0.73528528, -0.39290311, -0.55225239]])"
            ]
          },
          "metadata": {
            "tags": []
          },
          "execution_count": 5
        }
      ]
    },
    {
      "cell_type": "code",
      "metadata": {
        "colab": {
          "base_uri": "https://localhost:8080/"
        },
        "id": "pzDxNXvFAc3Y",
        "outputId": "fa0d26d7-897b-45b6-bfb4-d070d3a688be"
      },
      "source": [
        "numero_condicion(M_ort)"
      ],
      "execution_count": 6,
      "outputs": [
        {
          "output_type": "execute_result",
          "data": {
            "text/plain": [
              "1.0000000000000004"
            ]
          },
          "metadata": {
            "tags": []
          },
          "execution_count": 6
        }
      ]
    },
    {
      "cell_type": "markdown",
      "metadata": {
        "id": "A0gMSfcy-kYL"
      },
      "source": [
        "### Factorización LU y LDU*\r\n",
        "\r\n",
        "Recordemos que para una matriz, la factorización LU es el proceso de aplicación de la simplificación de Gauss, de modo que la matriz $L$ es una matriz triangular inferior con los coeficientes de transformación, y la matriz $U$ es la matriz superior con los elementos tras las transformaciones lineales.\r\n",
        "\r\n",
        "Además, se puede hacer que $D$ sea una matriz diagonal con los valores de la diagonal de $U$, de modo que $LU$ = $LDD^{-1}U$, y si hacemos $U^* = D^{-1}U$ entonces tenemos $LDU^*$, donde $U^*$ sigue siendo una matriz diagonal superior, pero con la diagonal igual a 1.\r\n",
        "\r\n",
        "A la hora de aplicar la factorización LU y LDU* se puede hacer una permutación de filas, de modo que en cada iteración se coge la fila con mayor valor (de entre las que no se han *procesado*) y se permuta, garantizando una solución siempre. También, es importante tener en mente que la factorización falla si algún elemento de la diagonal (desde el principio o durante la factorización) es 0, de modo que para solucionar ese caso se aplica la permutación.\r\n",
        "\r\n",
        "Todas las permutaciones quedan recogidas en una matriz $P$, de modo que $$LU = LDU^* = PA$$"
      ]
    },
    {
      "cell_type": "code",
      "metadata": {
        "id": "h8jGltvuTOUP"
      },
      "source": [
        "# Funciones asociadas a la factorización LU y LUD\r\n",
        "\r\n",
        "def permutacion_matriz(U, fila_i, idx_max, verbose=False, P=None, r=None):\r\n",
        "      print_verbose([f'Permutamos fila {fila_i} con {idx_max}',\r\n",
        "                    f'U antes:\\n {np.array(U)}',\r\n",
        "                    f'P antes:\\n {np.array(P)}'], verbose)\r\n",
        "\r\n",
        "      if fila_i != idx_max:\r\n",
        "        fila_origen, fila_destino = U[fila_i, :].copy(), U[idx_max, :].copy()\r\n",
        "        U[idx_max, :], U[fila_i, :] = fila_origen, fila_destino\r\n",
        "        if P is not None:\r\n",
        "          fila_origen, fila_destino = P[fila_i, :].copy(), P[idx_max, :].copy()\r\n",
        "          P[idx_max, :], P[fila_i, :] = fila_origen, fila_destino\r\n",
        "        if r is not None:\r\n",
        "          fila_origen, fila_destino = r[fila_i, :].copy(), r[idx_max, :].copy()\r\n",
        "          r[idx_max, :], r[fila_i, :] = fila_origen, fila_destino\r\n",
        "\r\n",
        "      print_verbose([f'U despues:\\n {np.array(U)}',\r\n",
        "                    f'P despues:\\n {np.array(P)}'], verbose)\r\n",
        "\r\n",
        "      return U, P, r\r\n",
        "\r\n",
        "\r\n",
        "def permutacion_L(L, perm, verbose=False):\r\n",
        "  \"\"\"\r\n",
        "  Esta función la creo porque a la hora de hacer la permutación, hay que \r\n",
        "  permutar los elementos de L pero no directamente. Solo hay que seleccionar\r\n",
        "  los elementos de la diagonal inferior que correspondan con el menor número de\r\n",
        "  columnas. Por ejemplo, si permutamos las filas 3 y 5, se tienen que mover solo\r\n",
        "  los elementos de las 2 primeras columnas (2 -> 3) para luego continuar \r\n",
        "  con las transformaciones del resto de columnas.\r\n",
        "  \"\"\"\r\n",
        "  print_verbose(f'L antes:\\n {np.array(L)}', verbose)\r\n",
        "\r\n",
        "  fila_origen, fila_destino = L[perm[0], :min(perm)].copy(), L[perm[1], :min(perm)].copy()\r\n",
        "  L[perm[1], :min(perm)], L[perm[0], :min(perm)] = fila_origen, fila_destino\r\n",
        "\r\n",
        "  print_verbose(f'L despues:\\n {np.array(L)}', verbose)\r\n",
        "\r\n",
        "  return L \r\n",
        "\r\n",
        "\r\n",
        "def descomposicion_LU(m, rhs=None, verbose=True, permutar_max=False):\r\n",
        "  '''\r\n",
        "  Esta función realiza el algoritmo de triangulación de Gauss. Para ello vamos a\r\n",
        "  ir aplicando paso a paso el algoritmo tal cual se hace manualmente, \r\n",
        "  y aplicamos los cambios de columnas necesarios si hay que aplicar permutaciones.\r\n",
        "  Por defecto, si encontramos un 0 en la diagonal aplicamos permutar_max para esa\r\n",
        "  fila, y devolvemos la matriz de permutaciones.\r\n",
        "  '''\r\n",
        "\r\n",
        "  if rhs is None:\r\n",
        "    rhs = zeros(m.shape[0], 1)\r\n",
        "\r\n",
        "  print_verbose([\"La matriz M|X es  (X = 0) si no se ha introducido\", \r\n",
        "                np.concatenate((np.array(m), np.array(rhs)), axis=1)], verbose)\r\n",
        "  \r\n",
        "  P, L, U, r = eye(m.shape[0]), eye(m.shape[0]), m.copy(), rhs.copy()\r\n",
        "  lista_perms = []\r\n",
        "  fila_i, err, err_max = 0, 0, 3\r\n",
        "  \r\n",
        "\r\n",
        "  while fila_i < m.shape[0] and err < err_max:\r\n",
        "    print_verbose([f'\\n=====================================\\nFila {fila_i}', \r\n",
        "                   f'A {fila_i}, {err}'], verbose)\r\n",
        "\r\n",
        "    if U[max(0, fila_i-1), max(0, fila_i-1)] == 0 or permutar_max:\r\n",
        "      \"\"\"\r\n",
        "      Esta parte nos asegura que si un elemento diagonal es cero, permutamos\r\n",
        "      la fila con su inmediata inferior y rehacemos los cálculos, \r\n",
        "      y así tener una configuración viable.\r\n",
        "      En cualquier permutación tenemos que cambiar la L acorde con el cambio.\r\n",
        "      Al hacer la permutación, con los nuevos valores, repasamos la matriz para \r\n",
        "      asegurarnos de que todos los puntos están cumplidos.\r\n",
        "\r\n",
        "      Para la opción de permutar, buscamos un elemento de las filas no alteradas\r\n",
        "      que sea el mayor. Si hay más de una fila, y una de ellas es la \r\n",
        "      actual, no aplica la permutación.\r\n",
        "      \"\"\"\r\n",
        "      sub_mat = U[fila_i:, fila_i:]\r\n",
        "      max_el = np.max(np.array(sub_mat))\r\n",
        "      idx_max = np.min([i[0] for i in np.argwhere(np.array(sub_mat) == max_el)]) + fila_i # Cogemos el primer elemento si hay varios\r\n",
        "      \r\n",
        "      if U[max(0, fila_i-1), max(0, fila_i-1)] == 0:\r\n",
        "        U, P, r = permutacion_matriz(U, max(0, fila_i-1), idx_max, verbose, P, r)\r\n",
        "        L = permutacion_L(L, [max(0, fila_i-1), idx_max], verbose)\r\n",
        "        fila_i = min(max(0, fila_i-1), idx_max)\r\n",
        "        \r\n",
        "        err += 1\r\n",
        "        print_verbose(f'Err {err}', verbose)\r\n",
        "        continue\r\n",
        "\r\n",
        "      elif permutar_max:\r\n",
        "        if idx_max <= fila_i: # No es necesario hacer la permutación\r\n",
        "          print_verbose('El índice de permutación es igual a la fila a permutar.', verbose)\r\n",
        "        else:\r\n",
        "          U, P, r = permutacion_matriz(U, fila_i, idx_max, verbose, P, r)\r\n",
        "          L = permutacion_L(L, [fila_i, idx_max], verbose)\r\n",
        "          continue\r\n",
        "\r\n",
        "    # Ahora aplicamos el algoritmo de calculo de filas:\r\n",
        "    for columna_j in range(fila_i):\r\n",
        "      a_ij = U[fila_i, columna_j] /  U[columna_j, columna_j]\r\n",
        "      \r\n",
        "      if a_ij != 0:\r\n",
        "        L[fila_i, columna_j] = a_ij\r\n",
        "        U[fila_i, :] = U[fila_i, :] - a_ij * U[columna_j, :]\r\n",
        "        r[fila_i, :] = r[fila_i, :] - a_ij * r[columna_j, :]\r\n",
        "\r\n",
        "      err = 0\r\n",
        "\r\n",
        "      print_verbose([\r\n",
        "        f'||||||||||||||||||||||||\\n Columna {columna_j}',\r\n",
        "        f'a_{fila_i},{columna_j} = {a_ij}',\r\n",
        "        f'P = \\n{np.array(P)}',\r\n",
        "        f'L = \\n{np.array(L)}',\r\n",
        "        f'U = \\n{np.array(U)}',\r\n",
        "        f'r = \\n{np.array(r)}'], verbose)\r\n",
        "\r\n",
        "    fila_i += 1\r\n",
        "  \r\n",
        "  if err == err_max:\r\n",
        "    print('Algo ha ido mal... mira el log.')\r\n",
        "\r\n",
        "  print_verbose([\r\n",
        "        f'\\/\\/\\/\\/\\/\\/\\/\\/\\/ FORMA FINAL',\r\n",
        "        f'a_{fila_i},{columna_j} = {a_ij}',\r\n",
        "        f'P = \\n{np.array(P)}\\n',\r\n",
        "        f'L = \\n{np.array(L)}\\n',\r\n",
        "        f'U = \\n{np.array(U)}\\n',\r\n",
        "        f'r = \\n{np.array(r)}\\n'], verbose)\r\n",
        "\r\n",
        "  if simplify(L * U) != simplify(P * m):\r\n",
        "    print('AVISO!!! LU != PA')\r\n",
        "\r\n",
        "  return {'P': simplify(P), 'L': simplify(L), 'U': simplify(U), 'r': simplify(r)}\r\n",
        "\r\n",
        "\r\n",
        "def descomposicion_LDU(m, permutar_max=True, verbose=False):\r\n",
        "  dict_LU = descomposicion_LU(m, permutar_max=permutar_max, verbose=verbose)\r\n",
        "  L, U = dict_LU['L'], dict_LU['U']\r\n",
        "\r\n",
        "  D = zeros(m.shape[0], m.shape[0])\r\n",
        "\r\n",
        "  for i in range(U.shape[0]):\r\n",
        "    D[i, i] = U[i, i]\r\n",
        "  \r\n",
        "  U = D.inv() * U\r\n",
        "\r\n",
        "  print_verbose([\r\n",
        "        f'\\/\\/\\/\\/\\/\\/\\/\\/\\/ RESULTADOS LDU*',\r\n",
        "        f'L = \\n{np.array(L)}\\n',\r\n",
        "        f'D = \\n{np.array(D)}\\n',\r\n",
        "        f'U* = \\n{np.array(U)}\\n'], verbose)\r\n",
        "\r\n",
        "  if simplify(L * D * U) != simplify(dict_LU['P'] * m):\r\n",
        "    print('AVISO!!! LDU != PA')\r\n",
        "\r\n",
        "  return {'P': simplify(dict_LU['P']), 'L': simplify(L), 'U': simplify(U), 'D': simplify(D)}\r\n",
        "  \r\n",
        "  \r\n"
      ],
      "execution_count": 7,
      "outputs": []
    },
    {
      "cell_type": "code",
      "metadata": {
        "id": "kWCu2LKbDBbP"
      },
      "source": [
        "M = mat(((1, 4, 4), (3, 2, 1), (2, 4, 1)))"
      ],
      "execution_count": 8,
      "outputs": []
    },
    {
      "cell_type": "code",
      "metadata": {
        "id": "40fCFj_GIBTU",
        "colab": {
          "base_uri": "https://localhost:8080/"
        },
        "outputId": "506c2361-599f-4579-f697-af3a85b51fc4"
      },
      "source": [
        "descomposicion_LU(M, permutar_max=False)"
      ],
      "execution_count": 9,
      "outputs": [
        {
          "output_type": "stream",
          "text": [
            "La matriz M|X es  (X = 0) si no se ha introducido\n",
            "[[1 4 4 0]\n",
            " [3 2 1 0]\n",
            " [2 4 1 0]]\n",
            "\n",
            "=====================================\n",
            "Fila 0\n",
            "A 0, 0\n",
            "\n",
            "=====================================\n",
            "Fila 1\n",
            "A 1, 0\n",
            "||||||||||||||||||||||||\n",
            " Columna 0\n",
            "a_1,0 = 3\n",
            "P = \n",
            "[[1 0 0]\n",
            " [0 1 0]\n",
            " [0 0 1]]\n",
            "L = \n",
            "[[1 0 0]\n",
            " [3 1 0]\n",
            " [0 0 1]]\n",
            "U = \n",
            "[[1 4 4]\n",
            " [0 -10 -11]\n",
            " [2 4 1]]\n",
            "r = \n",
            "[[0]\n",
            " [0]\n",
            " [0]]\n",
            "\n",
            "=====================================\n",
            "Fila 2\n",
            "A 2, 0\n",
            "||||||||||||||||||||||||\n",
            " Columna 0\n",
            "a_2,0 = 2\n",
            "P = \n",
            "[[1 0 0]\n",
            " [0 1 0]\n",
            " [0 0 1]]\n",
            "L = \n",
            "[[1 0 0]\n",
            " [3 1 0]\n",
            " [2 0 1]]\n",
            "U = \n",
            "[[1 4 4]\n",
            " [0 -10 -11]\n",
            " [0 -4 -7]]\n",
            "r = \n",
            "[[0]\n",
            " [0]\n",
            " [0]]\n",
            "||||||||||||||||||||||||\n",
            " Columna 1\n",
            "a_2,1 = 2/5\n",
            "P = \n",
            "[[1 0 0]\n",
            " [0 1 0]\n",
            " [0 0 1]]\n",
            "L = \n",
            "[[1 0 0]\n",
            " [3 1 0]\n",
            " [2 2/5 1]]\n",
            "U = \n",
            "[[1 4 4]\n",
            " [0 -10 -11]\n",
            " [0 0 -13/5]]\n",
            "r = \n",
            "[[0]\n",
            " [0]\n",
            " [0]]\n",
            "\\/\\/\\/\\/\\/\\/\\/\\/\\/ FORMA FINAL\n",
            "a_3,1 = 2/5\n",
            "P = \n",
            "[[1 0 0]\n",
            " [0 1 0]\n",
            " [0 0 1]]\n",
            "\n",
            "L = \n",
            "[[1 0 0]\n",
            " [3 1 0]\n",
            " [2 2/5 1]]\n",
            "\n",
            "U = \n",
            "[[1 4 4]\n",
            " [0 -10 -11]\n",
            " [0 0 -13/5]]\n",
            "\n",
            "r = \n",
            "[[0]\n",
            " [0]\n",
            " [0]]\n",
            "\n"
          ],
          "name": "stdout"
        },
        {
          "output_type": "execute_result",
          "data": {
            "text/plain": [
              "{'L': Matrix([\n",
              " [1,   0, 0],\n",
              " [3,   1, 0],\n",
              " [2, 2/5, 1]]), 'P': Matrix([\n",
              " [1, 0, 0],\n",
              " [0, 1, 0],\n",
              " [0, 0, 1]]), 'U': Matrix([\n",
              " [1,   4,     4],\n",
              " [0, -10,   -11],\n",
              " [0,   0, -13/5]]), 'r': Matrix([\n",
              " [0],\n",
              " [0],\n",
              " [0]])}"
            ]
          },
          "metadata": {
            "tags": []
          },
          "execution_count": 9
        }
      ]
    },
    {
      "cell_type": "code",
      "metadata": {
        "id": "Zq3S3aEHGpEN",
        "colab": {
          "base_uri": "https://localhost:8080/"
        },
        "outputId": "91f3e5ef-960c-4b28-842f-bd9d9890ede0"
      },
      "source": [
        "descomposicion_LDU(M, permutar_max=False)"
      ],
      "execution_count": 10,
      "outputs": [
        {
          "output_type": "execute_result",
          "data": {
            "text/plain": [
              "{'D': Matrix([\n",
              " [1,   0,     0],\n",
              " [0, -10,     0],\n",
              " [0,   0, -13/5]]), 'L': Matrix([\n",
              " [1,   0, 0],\n",
              " [3,   1, 0],\n",
              " [2, 2/5, 1]]), 'P': Matrix([\n",
              " [1, 0, 0],\n",
              " [0, 1, 0],\n",
              " [0, 0, 1]]), 'U': Matrix([\n",
              " [1, 4,     4],\n",
              " [0, 1, 11/10],\n",
              " [0, 0,     1]])}"
            ]
          },
          "metadata": {
            "tags": []
          },
          "execution_count": 10
        }
      ]
    },
    {
      "cell_type": "code",
      "metadata": {
        "id": "GxsFFK6naXHD",
        "colab": {
          "base_uri": "https://localhost:8080/"
        },
        "outputId": "cb357731-a3f2-457e-e307-47e7eb65f46b"
      },
      "source": [
        "descomposicion_LU(M, rhs=ones(M.shape[0], 1), permutar_max=True)"
      ],
      "execution_count": 11,
      "outputs": [
        {
          "output_type": "stream",
          "text": [
            "La matriz M|X es  (X = 0) si no se ha introducido\n",
            "[[1 4 4 1]\n",
            " [3 2 1 1]\n",
            " [2 4 1 1]]\n",
            "\n",
            "=====================================\n",
            "Fila 0\n",
            "A 0, 0\n",
            "El índice de permutación es igual a la fila a permutar.\n",
            "\n",
            "=====================================\n",
            "Fila 1\n",
            "A 1, 0\n",
            "Permutamos fila 1 con 2\n",
            "U antes:\n",
            " [[1 4 4]\n",
            " [3 2 1]\n",
            " [2 4 1]]\n",
            "P antes:\n",
            " [[1 0 0]\n",
            " [0 1 0]\n",
            " [0 0 1]]\n",
            "U despues:\n",
            " [[1 4 4]\n",
            " [2 4 1]\n",
            " [3 2 1]]\n",
            "P despues:\n",
            " [[1 0 0]\n",
            " [0 0 1]\n",
            " [0 1 0]]\n",
            "L antes:\n",
            " [[1 0 0]\n",
            " [0 1 0]\n",
            " [0 0 1]]\n",
            "L despues:\n",
            " [[1 0 0]\n",
            " [0 1 0]\n",
            " [0 0 1]]\n",
            "\n",
            "=====================================\n",
            "Fila 1\n",
            "A 1, 0\n",
            "El índice de permutación es igual a la fila a permutar.\n",
            "||||||||||||||||||||||||\n",
            " Columna 0\n",
            "a_1,0 = 2\n",
            "P = \n",
            "[[1 0 0]\n",
            " [0 0 1]\n",
            " [0 1 0]]\n",
            "L = \n",
            "[[1 0 0]\n",
            " [2 1 0]\n",
            " [0 0 1]]\n",
            "U = \n",
            "[[1 4 4]\n",
            " [0 -4 -7]\n",
            " [3 2 1]]\n",
            "r = \n",
            "[[1]\n",
            " [-1]\n",
            " [1]]\n",
            "\n",
            "=====================================\n",
            "Fila 2\n",
            "A 2, 0\n",
            "El índice de permutación es igual a la fila a permutar.\n",
            "||||||||||||||||||||||||\n",
            " Columna 0\n",
            "a_2,0 = 3\n",
            "P = \n",
            "[[1 0 0]\n",
            " [0 0 1]\n",
            " [0 1 0]]\n",
            "L = \n",
            "[[1 0 0]\n",
            " [2 1 0]\n",
            " [3 0 1]]\n",
            "U = \n",
            "[[1 4 4]\n",
            " [0 -4 -7]\n",
            " [0 -10 -11]]\n",
            "r = \n",
            "[[1]\n",
            " [-1]\n",
            " [-2]]\n",
            "||||||||||||||||||||||||\n",
            " Columna 1\n",
            "a_2,1 = 5/2\n",
            "P = \n",
            "[[1 0 0]\n",
            " [0 0 1]\n",
            " [0 1 0]]\n",
            "L = \n",
            "[[1 0 0]\n",
            " [2 1 0]\n",
            " [3 5/2 1]]\n",
            "U = \n",
            "[[1 4 4]\n",
            " [0 -4 -7]\n",
            " [0 0 13/2]]\n",
            "r = \n",
            "[[1]\n",
            " [-1]\n",
            " [1/2]]\n",
            "\\/\\/\\/\\/\\/\\/\\/\\/\\/ FORMA FINAL\n",
            "a_3,1 = 5/2\n",
            "P = \n",
            "[[1 0 0]\n",
            " [0 0 1]\n",
            " [0 1 0]]\n",
            "\n",
            "L = \n",
            "[[1 0 0]\n",
            " [2 1 0]\n",
            " [3 5/2 1]]\n",
            "\n",
            "U = \n",
            "[[1 4 4]\n",
            " [0 -4 -7]\n",
            " [0 0 13/2]]\n",
            "\n",
            "r = \n",
            "[[1]\n",
            " [-1]\n",
            " [1/2]]\n",
            "\n"
          ],
          "name": "stdout"
        },
        {
          "output_type": "execute_result",
          "data": {
            "text/plain": [
              "{'L': Matrix([\n",
              " [1,   0, 0],\n",
              " [2,   1, 0],\n",
              " [3, 5/2, 1]]), 'P': Matrix([\n",
              " [1, 0, 0],\n",
              " [0, 0, 1],\n",
              " [0, 1, 0]]), 'U': Matrix([\n",
              " [1,  4,    4],\n",
              " [0, -4,   -7],\n",
              " [0,  0, 13/2]]), 'r': Matrix([\n",
              " [  1],\n",
              " [ -1],\n",
              " [1/2]])}"
            ]
          },
          "metadata": {
            "tags": []
          },
          "execution_count": 11
        }
      ]
    },
    {
      "cell_type": "code",
      "metadata": {
        "id": "hfCYSdUBch4v",
        "colab": {
          "base_uri": "https://localhost:8080/"
        },
        "outputId": "0965cbfc-9f52-472a-89ed-006858d21fd4"
      },
      "source": [
        "descomposicion_LDU(M, permutar_max=True)"
      ],
      "execution_count": 12,
      "outputs": [
        {
          "output_type": "execute_result",
          "data": {
            "text/plain": [
              "{'D': Matrix([\n",
              " [1,  0,    0],\n",
              " [0, -4,    0],\n",
              " [0,  0, 13/2]]), 'L': Matrix([\n",
              " [1,   0, 0],\n",
              " [2,   1, 0],\n",
              " [3, 5/2, 1]]), 'P': Matrix([\n",
              " [1, 0, 0],\n",
              " [0, 0, 1],\n",
              " [0, 1, 0]]), 'U': Matrix([\n",
              " [1, 4,   4],\n",
              " [0, 1, 7/4],\n",
              " [0, 0,   1]])}"
            ]
          },
          "metadata": {
            "tags": []
          },
          "execution_count": 12
        }
      ]
    },
    {
      "cell_type": "markdown",
      "metadata": {
        "id": "W6br1XOwJdDp"
      },
      "source": [
        "### Factorización de Cholesky\r\n",
        "\r\n",
        "La factorización de Cholesky es una factorización que genera una matriz triangular inferior $L$ tal que $A = LL^T$. Para que una matriz sea factorizable, tiene que cumplir que sus menores principales sean positivos, y que sea simétrica."
      ]
    },
    {
      "cell_type": "code",
      "metadata": {
        "id": "s809oCaMNTuM"
      },
      "source": [
        "def cholesky(m, verbose=False):\r\n",
        "  \"\"\"\r\n",
        "  Primero comprobamos que los menores sean positivos. Eso es equivalente que\r\n",
        "  sus autovalores sean positivos. Por simplificar, si el determinante es negativo\r\n",
        "  ya descartamos que sea factorizable, y saltamos el warning.\r\n",
        "  \"\"\"\r\n",
        "\r\n",
        "  if m != m.T:\r\n",
        "    print('AVISO! La matriz no es simétrica, y por tanto no factorizable por Cholesky.')\r\n",
        "\r\n",
        "  print_verbose(f\"|M| es {m.det()}. Si es < 0, no es factorizable.\", verbose)\r\n",
        "\r\n",
        "  m_chol = zeros(m.shape[0], m.shape[1])\r\n",
        "\r\n",
        "  for col_j in range(m.shape[0]):\r\n",
        "    for row_i in range(col_j, m.shape[0]):\r\n",
        "      if col_j == 0:\r\n",
        "        if row_i == 0:\r\n",
        "          m_chol[row_i, col_j] = sqrt(m[row_i, col_j])\r\n",
        "        else:\r\n",
        "          m_chol[row_i, col_j] = m[row_i, col_j] / m_chol[0, 0]\r\n",
        "      \r\n",
        "      else:\r\n",
        "        if col_j == row_i:\r\n",
        "          m_chol[row_i, col_j] = sqrt(m[col_j, col_j] - sum([m_chol[col_j, k] \r\n",
        "                                                      ** 2 for k in range(col_j)]))\r\n",
        "        else:\r\n",
        "          m_chol[row_i, col_j] = (m[row_i, col_j] - sum([m_chol[col_j, k] * m_chol[row_i, k] for k in range(col_j)]))/(m_chol[col_j, col_j])\r\n",
        "\r\n",
        "  if simplify(m_chol * m_chol.T) != m:\r\n",
        "    print(f\"AVISO!!! La matriz no es Cholesky-zable. \\n L = \\n {np.array(m_chol)} \\n\\n L*L.T = \\n {np.array(m_chol * m_chol.T)}\")\r\n",
        "\r\n",
        "  return simplify(m_chol)"
      ],
      "execution_count": 13,
      "outputs": []
    },
    {
      "cell_type": "code",
      "metadata": {
        "colab": {
          "base_uri": "https://localhost:8080/",
          "height": 78
        },
        "id": "5ZDS9ojOP-5l",
        "outputId": "9fe7196d-b809-41cc-b9bb-899fd216b294"
      },
      "source": [
        "M = mat(((2, -1, 0), (-1, 2, -2), (0, 2, 1)))\n",
        "M"
      ],
      "execution_count": 14,
      "outputs": [
        {
          "output_type": "execute_result",
          "data": {
            "text/latex": "$\\displaystyle \\left[\\begin{matrix}2 & -1 & 0\\\\-1 & 2 & -2\\\\0 & 2 & 1\\end{matrix}\\right]$",
            "text/plain": [
              "Matrix([\n",
              "[ 2, -1,  0],\n",
              "[-1,  2, -2],\n",
              "[ 0,  2,  1]])"
            ]
          },
          "metadata": {
            "tags": []
          },
          "execution_count": 14
        }
      ]
    },
    {
      "cell_type": "code",
      "metadata": {
        "colab": {
          "base_uri": "https://localhost:8080/",
          "height": 280
        },
        "id": "7EeC9CrPQoOL",
        "outputId": "cf404783-3322-46e4-832d-54b91a5c2477"
      },
      "source": [
        "cholesky(M)"
      ],
      "execution_count": 15,
      "outputs": [
        {
          "output_type": "stream",
          "text": [
            "AVISO! La matriz no es simétrica, y por tanto no factorizable por Cholesky.\n",
            "AVISO!!! La matriz no es Cholesky-zable. \n",
            " L = \n",
            " [[sqrt(2) 0 0]\n",
            " [-sqrt(2)/2 sqrt(6)/2 0]\n",
            " [0 2*sqrt(6)/3 sqrt(15)*I/3]] \n",
            "\n",
            " L*L.T = \n",
            " [[2 -1 0]\n",
            " [-1 2 2]\n",
            " [0 2 1]]\n"
          ],
          "name": "stdout"
        },
        {
          "output_type": "execute_result",
          "data": {
            "text/latex": "$\\displaystyle \\left[\\begin{matrix}\\sqrt{2} & 0 & 0\\\\- \\frac{\\sqrt{2}}{2} & \\frac{\\sqrt{6}}{2} & 0\\\\0 & \\frac{2 \\sqrt{6}}{3} & \\frac{\\sqrt{15} i}{3}\\end{matrix}\\right]$",
            "text/plain": [
              "Matrix([\n",
              "[   sqrt(2),           0,            0],\n",
              "[-sqrt(2)/2,   sqrt(6)/2,            0],\n",
              "[         0, 2*sqrt(6)/3, sqrt(15)*I/3]])"
            ]
          },
          "metadata": {
            "tags": []
          },
          "execution_count": 15
        }
      ]
    },
    {
      "cell_type": "code",
      "metadata": {
        "colab": {
          "base_uri": "https://localhost:8080/",
          "height": 80
        },
        "id": "J6d5MNhHQqo1",
        "outputId": "5795d10f-824a-488a-efe4-5eae775da4a0"
      },
      "source": [
        "cholesky(M + M.T)"
      ],
      "execution_count": 16,
      "outputs": [
        {
          "output_type": "execute_result",
          "data": {
            "text/latex": "$\\displaystyle \\left[\\begin{matrix}2 & 0 & 0\\\\-1 & \\sqrt{3} & 0\\\\0 & 0 & \\sqrt{2}\\end{matrix}\\right]$",
            "text/plain": [
              "Matrix([\n",
              "[ 2,       0,       0],\n",
              "[-1, sqrt(3),       0],\n",
              "[ 0,       0, sqrt(2)]])"
            ]
          },
          "metadata": {
            "tags": []
          },
          "execution_count": 16
        }
      ]
    },
    {
      "cell_type": "code",
      "metadata": {
        "colab": {
          "base_uri": "https://localhost:8080/",
          "height": 78
        },
        "id": "Sr_zBF3ZQxRI",
        "outputId": "807b240d-f447-424e-8583-fc10495a68b0"
      },
      "source": [
        "M + M.T"
      ],
      "execution_count": 17,
      "outputs": [
        {
          "output_type": "execute_result",
          "data": {
            "text/latex": "$\\displaystyle \\left[\\begin{matrix}4 & -2 & 0\\\\-2 & 4 & 0\\\\0 & 0 & 2\\end{matrix}\\right]$",
            "text/plain": [
              "Matrix([\n",
              "[ 4, -2, 0],\n",
              "[-2,  4, 0],\n",
              "[ 0,  0, 2]])"
            ]
          },
          "metadata": {
            "tags": []
          },
          "execution_count": 17
        }
      ]
    },
    {
      "cell_type": "code",
      "metadata": {
        "colab": {
          "base_uri": "https://localhost:8080/",
          "height": 78
        },
        "id": "WtWk7kEFQAIO",
        "outputId": "f1afe7ae-34f3-4417-8f96-32a99b0fff89"
      },
      "source": [
        "cholesky(M + M.T) * cholesky(M + M.T).T"
      ],
      "execution_count": 18,
      "outputs": [
        {
          "output_type": "execute_result",
          "data": {
            "text/latex": "$\\displaystyle \\left[\\begin{matrix}4 & -2 & 0\\\\-2 & 4 & 0\\\\0 & 0 & 2\\end{matrix}\\right]$",
            "text/plain": [
              "Matrix([\n",
              "[ 4, -2, 0],\n",
              "[-2,  4, 0],\n",
              "[ 0,  0, 2]])"
            ]
          },
          "metadata": {
            "tags": []
          },
          "execution_count": 18
        }
      ]
    },
    {
      "cell_type": "code",
      "metadata": {
        "colab": {
          "base_uri": "https://localhost:8080/",
          "height": 78
        },
        "id": "NnHjEDuxU7Jl",
        "outputId": "c7ab9bc9-1d7a-4e75-8a65-43c8dad04d1b"
      },
      "source": [
        "# Podemos hacer también Cholesky a una matriz con símbolos!\r\n",
        "x = symbols('x')\r\n",
        "\r\n",
        "Mx = mat(((1, x, 1), (x, 2, 1), (1, 1, 3)))\r\n",
        "Mx"
      ],
      "execution_count": 19,
      "outputs": [
        {
          "output_type": "execute_result",
          "data": {
            "text/latex": "$\\displaystyle \\left[\\begin{matrix}1 & x & 1\\\\x & 2 & 1\\\\1 & 1 & 3\\end{matrix}\\right]$",
            "text/plain": [
              "Matrix([\n",
              "[1, x, 1],\n",
              "[x, 2, 1],\n",
              "[1, 1, 3]])"
            ]
          },
          "metadata": {
            "tags": []
          },
          "execution_count": 19
        }
      ]
    },
    {
      "cell_type": "code",
      "metadata": {
        "colab": {
          "base_uri": "https://localhost:8080/",
          "height": 90
        },
        "id": "UFy3EeZ4VL4c",
        "outputId": "6d24ebc4-6838-445f-905a-de8ea4a28b5c"
      },
      "source": [
        "cholesky(Mx)"
      ],
      "execution_count": 20,
      "outputs": [
        {
          "output_type": "execute_result",
          "data": {
            "text/latex": "$\\displaystyle \\left[\\begin{matrix}1 & 0 & 0\\\\x & \\sqrt{2 - x^{2}} & 0\\\\1 & \\frac{1 - x}{\\sqrt{2 - x^{2}}} & \\sqrt{\\frac{- 3 x^{2} + 2 x + 3}{2 - x^{2}}}\\end{matrix}\\right]$",
            "text/plain": [
              "Matrix([\n",
              "[1,                      0,                                    0],\n",
              "[x,         sqrt(2 - x**2),                                    0],\n",
              "[1, (1 - x)/sqrt(2 - x**2), sqrt((-3*x**2 + 2*x + 3)/(2 - x**2))]])"
            ]
          },
          "metadata": {
            "tags": []
          },
          "execution_count": 20
        }
      ]
    },
    {
      "cell_type": "markdown",
      "metadata": {
        "id": "MVBPnqO5TlKX"
      },
      "source": [
        "### Ortogonalización de Gram-Schmidt\r\n",
        "\r\n",
        "\r\n"
      ]
    },
    {
      "cell_type": "code",
      "metadata": {
        "id": "kkzkT34_ToPQ"
      },
      "source": [
        "def suma_columnas(lista):\r\n",
        "  if len(lista) > 0:\r\n",
        "    m = zeros(lista[0].shape[0], 1)\r\n",
        "    for i in lista:\r\n",
        "      m += i\r\n",
        "    return m\r\n",
        "  else:\r\n",
        "    return 0\r\n",
        "\r\n",
        "def gram_schmidt(m, verbose=False):\r\n",
        "  \"\"\"\r\n",
        "  La ortogonalización produce una matriz ortogonalizada por columnas.\r\n",
        "  p es la matriz ortogonal y p_norm es la ortonormal\r\n",
        "  c es la matriz triangular tal que cij = aj·pi/||pi||^2 (los coeficientes de ortogonalización). Estos coeficientes se usan para la factorización QR.\r\n",
        "  \"\"\"\r\n",
        "\r\n",
        "  p = zeros(m.shape[0], m.shape[1])\r\n",
        "\r\n",
        "  p[:, 0] = m[:, 0]\r\n",
        "\r\n",
        "  for col in range(1, m.shape[1]):\r\n",
        "    p[:, col] = m[:, col] - suma_columnas([(m[:, col].T * p[:, i])[0]/(p[:, i].T * p[:, i])[0] * p[:, i] for i in range(0, col)])\r\n",
        "\r\n",
        "  print_verbose(f\"La matriz ortogonal es \\n {p}\", verbose)\r\n",
        "\r\n",
        "\r\n",
        "  p_norm = zeros(m.shape[0], m.shape[1])\r\n",
        "  for col in range(p.shape[1]):\r\n",
        "    p_norm[:, col] = p[:, col] / (p[:, col].T * p[:, col])[0]\r\n",
        "  \r\n",
        "  print_verbose(f\"La matriz ortonormal es \\n {p_norm}\", verbose)\r\n",
        "\r\n",
        "\r\n",
        "  c = zeros(m.shape[0], m.shape[1])\r\n",
        "  for col in range(1, m.shape[1]):\r\n",
        "    for row in range(0, col):\r\n",
        "      c[row, col] = (m[:, col].T * p[:, row])[0]/(p[:, row].T * p[:, row])[0]\r\n",
        "\r\n",
        "  return {'P': simplify(p), 'Pn': simplify(p_norm), 'c': simplify(c)} \r\n"
      ],
      "execution_count": 21,
      "outputs": []
    },
    {
      "cell_type": "code",
      "metadata": {
        "id": "6lDBiGAtXmAp",
        "outputId": "63e57ccb-d66a-48b3-88c7-7d1016fd0587",
        "colab": {
          "base_uri": "https://localhost:8080/",
          "height": 78
        }
      },
      "source": [
        "M"
      ],
      "execution_count": 22,
      "outputs": [
        {
          "output_type": "execute_result",
          "data": {
            "text/latex": "$\\displaystyle \\left[\\begin{matrix}2 & -1 & 0\\\\-1 & 2 & -2\\\\0 & 2 & 1\\end{matrix}\\right]$",
            "text/plain": [
              "Matrix([\n",
              "[ 2, -1,  0],\n",
              "[-1,  2, -2],\n",
              "[ 0,  2,  1]])"
            ]
          },
          "metadata": {
            "tags": []
          },
          "execution_count": 22
        }
      ]
    },
    {
      "cell_type": "code",
      "metadata": {
        "colab": {
          "base_uri": "https://localhost:8080/",
          "height": 79
        },
        "id": "5Tuf5FxFVa_u",
        "outputId": "c42540db-d7ee-40fb-ff16-e39c411fa23c"
      },
      "source": [
        "GS = gram_schmidt(M)\r\n",
        "GS['P']"
      ],
      "execution_count": 23,
      "outputs": [
        {
          "output_type": "execute_result",
          "data": {
            "text/latex": "$\\displaystyle \\left[\\begin{matrix}2 & \\frac{3}{5} & - \\frac{22}{29}\\\\-1 & \\frac{6}{5} & - \\frac{44}{29}\\\\0 & 2 & \\frac{33}{29}\\end{matrix}\\right]$",
            "text/plain": [
              "Matrix([\n",
              "[ 2, 3/5, -22/29],\n",
              "[-1, 6/5, -44/29],\n",
              "[ 0,   2,  33/29]])"
            ]
          },
          "metadata": {
            "tags": []
          },
          "execution_count": 23
        }
      ]
    },
    {
      "cell_type": "code",
      "metadata": {
        "colab": {
          "base_uri": "https://localhost:8080/",
          "height": 79
        },
        "id": "5cgxsH2-cLrJ",
        "outputId": "e108f428-390f-466e-c04e-70f2706f1bb1"
      },
      "source": [
        "GS['Pn']"
      ],
      "execution_count": 24,
      "outputs": [
        {
          "output_type": "execute_result",
          "data": {
            "text/latex": "$\\displaystyle \\left[\\begin{matrix}\\frac{2}{5} & \\frac{3}{29} & - \\frac{2}{11}\\\\- \\frac{1}{5} & \\frac{6}{29} & - \\frac{4}{11}\\\\0 & \\frac{10}{29} & \\frac{3}{11}\\end{matrix}\\right]$",
            "text/plain": [
              "Matrix([\n",
              "[ 2/5,  3/29, -2/11],\n",
              "[-1/5,  6/29, -4/11],\n",
              "[   0, 10/29,  3/11]])"
            ]
          },
          "metadata": {
            "tags": []
          },
          "execution_count": 24
        }
      ]
    },
    {
      "cell_type": "code",
      "metadata": {
        "colab": {
          "base_uri": "https://localhost:8080/",
          "height": 78
        },
        "id": "WG_PCCm8cObF",
        "outputId": "13b7204e-ca26-4b47-c2d1-f3cd05e0d8ae"
      },
      "source": [
        "GS['c']"
      ],
      "execution_count": 25,
      "outputs": [
        {
          "output_type": "execute_result",
          "data": {
            "text/latex": "$\\displaystyle \\left[\\begin{matrix}0 & - \\frac{4}{5} & \\frac{2}{5}\\\\0 & 0 & - \\frac{2}{29}\\\\0 & 0 & 0\\end{matrix}\\right]$",
            "text/plain": [
              "Matrix([\n",
              "[0, -4/5,   2/5],\n",
              "[0,    0, -2/29],\n",
              "[0,    0,     0]])"
            ]
          },
          "metadata": {
            "tags": []
          },
          "execution_count": 25
        }
      ]
    },
    {
      "cell_type": "code",
      "metadata": {
        "colab": {
          "base_uri": "https://localhost:8080/",
          "height": 38
        },
        "id": "VEadGxAmYIBq",
        "outputId": "8706e738-074a-4be2-e2d4-1b7cf95ae215"
      },
      "source": [
        "GS['P'][:, 1].T * GS['P'][:, 2]"
      ],
      "execution_count": 26,
      "outputs": [
        {
          "output_type": "execute_result",
          "data": {
            "text/latex": "$\\displaystyle \\left[\\begin{matrix}0\\end{matrix}\\right]$",
            "text/plain": [
              "Matrix([[0]])"
            ]
          },
          "metadata": {
            "tags": []
          },
          "execution_count": 26
        }
      ]
    },
    {
      "cell_type": "code",
      "metadata": {
        "id": "5qIpFX-oZNL1"
      },
      "source": [
        "Mx = mat(((1, 2, 3), (1, x, 1), (0, 0, 3)))"
      ],
      "execution_count": 27,
      "outputs": []
    },
    {
      "cell_type": "code",
      "metadata": {
        "colab": {
          "base_uri": "https://localhost:8080/",
          "height": 78
        },
        "id": "nFMKn1hRZGsR",
        "outputId": "c91cb4b5-ccfb-40bc-dfb8-2ee0eedf5f7d"
      },
      "source": [
        "GSx = gram_schmidt(Mx)\n",
        "GSx['P']"
      ],
      "execution_count": 28,
      "outputs": [
        {
          "output_type": "execute_result",
          "data": {
            "text/latex": "$\\displaystyle \\left[\\begin{matrix}1 & 1 - \\frac{x}{2} & 0\\\\1 & \\frac{x}{2} - 1 & 0\\\\0 & 0 & 3\\end{matrix}\\right]$",
            "text/plain": [
              "Matrix([\n",
              "[1, 1 - x/2, 0],\n",
              "[1, x/2 - 1, 0],\n",
              "[0,       0, 3]])"
            ]
          },
          "metadata": {
            "tags": []
          },
          "execution_count": 28
        }
      ]
    },
    {
      "cell_type": "markdown",
      "metadata": {
        "id": "DxghRH1R2FpX"
      },
      "source": [
        "### Transformación de Householder\n",
        "\n",
        "La transformación de Householder es una transformación para pasar de un vertor $x$ a un vector $y$. Para ello se toma el vector $e$, que sería el eje de transformación, y la matriz aplicación es $H = I - 2ee^t$.\n",
        "\n",
        "En este caso, $$e = \\pm \\frac{x - y}{\\vert\\vert x - y \\vert\\vert}$$\n",
        "\n",
        "Para la transformación de Householder $x$ e $y$ **tienen que tener la misma norma**. El vector resultante $e$ tiene norma 1.\n"
      ]
    },
    {
      "cell_type": "code",
      "metadata": {
        "id": "bhYpujRM2FMA"
      },
      "source": [
        "def householder(x, y, signo='+', normalizar = False):\n",
        "  \"\"\"\n",
        "  Aplica la transformación de Householder. x e y pueden ser vectores fila o columna, \n",
        "  en cuyo caso aplicamos la transformación de una forma u otra.\n",
        "  \"\"\"\n",
        "  if signo == '+':\n",
        "    mult = 1\n",
        "  else:\n",
        "    mult = -1\n",
        "\n",
        "  if normalizar:\n",
        "    x = simplify(x / norma(x))\n",
        "    y = simplify(y / norma (y))\n",
        "\n",
        "  if simplify(norma(x)) != simplify(norma(y)):\n",
        "    print(f'AVISO!!! x tiene norma {norma(x)} e y tiene norma {norma(y)}. Para Householder las normas tienen que ser iguales.')\n",
        "\n",
        "  if simplify(norma(x - y)) == 0:  # x==y\n",
        "    e = zeros(x.shape[0], x.shape[1])\n",
        "  else:\n",
        "    e = mult * (x - y)/(norma(x - y))\n",
        "\n",
        "  if (e.shape[0] == 1) and (e.shape[1] >= 1): # El vector es fila:\n",
        "    H = eye(x.shape[1]) - 2 * e.T * e\n",
        "  else:\n",
        "    H = eye(x.shape[0]) - 2 * e * e.T\n",
        "  \n",
        "\n",
        "  if (e.shape[0] == 1) and (e.shape[1] >= 1) and (simplify(x * H) != y):\n",
        "    print(f'AVISO FILAS!!! xH != y. Para Householder las normas tienen que ser iguales.')\n",
        "  elif (e.shape[1] == 1) and (e.shape[0] >= 1) and (simplify(H * x) != y):\n",
        "    print(f'AVISO!!! Hx != y. Para Householder las normas tienen que ser iguales.')\n",
        "\n",
        "  return simplify(H), simplify(e)"
      ],
      "execution_count": 29,
      "outputs": []
    },
    {
      "cell_type": "code",
      "metadata": {
        "id": "ZaqNjL9S6Emp"
      },
      "source": [
        "v0 = mat(((1, 0)))\n",
        "vf = mat((1, 1))\n",
        "vf = vf/norma(vf)"
      ],
      "execution_count": 30,
      "outputs": []
    },
    {
      "cell_type": "code",
      "metadata": {
        "id": "4eX3aGll48tB",
        "outputId": "e7cdec27-8ee6-45e4-cc58-3ec25d79ed4a",
        "colab": {
          "base_uri": "https://localhost:8080/",
          "height": 68
        }
      },
      "source": [
        "H, e = householder(v0, vf, normalizar=False)\n",
        "H"
      ],
      "execution_count": 31,
      "outputs": [
        {
          "output_type": "execute_result",
          "data": {
            "text/latex": "$\\displaystyle \\left[\\begin{matrix}\\frac{\\sqrt{2}}{2} & \\frac{\\sqrt{2}}{2}\\\\\\frac{\\sqrt{2}}{2} & - \\frac{\\sqrt{2}}{2}\\end{matrix}\\right]$",
            "text/plain": [
              "Matrix([\n",
              "[sqrt(2)/2,  sqrt(2)/2],\n",
              "[sqrt(2)/2, -sqrt(2)/2]])"
            ]
          },
          "metadata": {
            "tags": []
          },
          "execution_count": 31
        }
      ]
    },
    {
      "cell_type": "code",
      "metadata": {
        "id": "KnsssCN89u7r",
        "outputId": "ddb8222f-54f3-462c-a0ae-b41806189ccb",
        "colab": {
          "base_uri": "https://localhost:8080/",
          "height": 78
        }
      },
      "source": [
        "e"
      ],
      "execution_count": 32,
      "outputs": [
        {
          "output_type": "execute_result",
          "data": {
            "text/latex": "$\\displaystyle \\left[\\begin{matrix}\\frac{\\sqrt{2 - \\sqrt{2}}}{2}\\\\- \\frac{\\sqrt{2}}{2 \\sqrt{2 - \\sqrt{2}}}\\end{matrix}\\right]$",
            "text/plain": [
              "Matrix([\n",
              "[           sqrt(2 - sqrt(2))/2],\n",
              "[-sqrt(2)/(2*sqrt(2 - sqrt(2)))]])"
            ]
          },
          "metadata": {
            "tags": []
          },
          "execution_count": 32
        }
      ]
    },
    {
      "cell_type": "code",
      "metadata": {
        "id": "ZZHLaNT-9wk5"
      },
      "source": [
        "# Ejercicio 10\n",
        "t = symbols('t')\n",
        "\n",
        "v0 = mat(((1, 0)))\n",
        "vf = mat((cos(t), sin(t)))\n",
        "\n",
        "H, e = householder(v0, vf, normalizar=False)"
      ],
      "execution_count": 33,
      "outputs": []
    },
    {
      "cell_type": "code",
      "metadata": {
        "id": "YTqdf6vW96KO",
        "outputId": "eebd0397-d4ca-4c5f-ee5a-3c4a1556815d",
        "colab": {
          "base_uri": "https://localhost:8080/",
          "height": 58
        }
      },
      "source": [
        "H"
      ],
      "execution_count": 34,
      "outputs": [
        {
          "output_type": "execute_result",
          "data": {
            "text/latex": "$\\displaystyle \\left[\\begin{matrix}\\cos{\\left(t \\right)} & \\sin{\\left(t \\right)}\\\\\\sin{\\left(t \\right)} & - \\cos{\\left(t \\right)}\\end{matrix}\\right]$",
            "text/plain": [
              "Matrix([\n",
              "[cos(t),  sin(t)],\n",
              "[sin(t), -cos(t)]])"
            ]
          },
          "metadata": {
            "tags": []
          },
          "execution_count": 34
        }
      ]
    },
    {
      "cell_type": "code",
      "metadata": {
        "id": "ixbJ7kcs4XR7",
        "outputId": "6751cda8-d2fc-47c0-b2a2-81a031473da7",
        "colab": {
          "base_uri": "https://localhost:8080/",
          "height": 78
        }
      },
      "source": [
        "e"
      ],
      "execution_count": 35,
      "outputs": [
        {
          "output_type": "execute_result",
          "data": {
            "text/latex": "$\\displaystyle \\left[\\begin{matrix}\\frac{\\sqrt{2 - 2 \\cos{\\left(t \\right)}}}{2}\\\\- \\frac{\\sin{\\left(t \\right)}}{\\sqrt{2 - 2 \\cos{\\left(t \\right)}}}\\end{matrix}\\right]$",
            "text/plain": [
              "Matrix([\n",
              "[      sqrt(2 - 2*cos(t))/2],\n",
              "[-sin(t)/sqrt(2 - 2*cos(t))]])"
            ]
          },
          "metadata": {
            "tags": []
          },
          "execution_count": 35
        }
      ]
    },
    {
      "cell_type": "markdown",
      "metadata": {
        "id": "6S0zeTyOSOmw"
      },
      "source": [
        "### Factorización QR\r\n",
        "\r\n",
        "La factorización QR consiste en transformar $A = QR$ donde $Q$ es ortogonal y $R$ es triangular superior. \r\n",
        "\r\n",
        "Si $P$ es la matriz ortogonalizada, $C$ es la matriz con los factores de ortonormalización (para Gram-Schmidt, por ejemplo, es $m_{ij} = \\frac{a^j\\cdot p^i}{\\vert\\vert p^{i}\\vert\\vert^2}$ y $D$ es la matriz de las normas de los vectores ortogonales ($\\vert\\vert p^i\\vert\\vert$), entonces se tiene que:\r\n",
        "$$Q = PD^{-1}$$\r\n",
        "$$R = D(I + C)$$\r\n",
        "\r\n",
        "Para el método de Hausholder, vamos a ir por columnas. Para cada columna, seleccionamos la submatriz $N(i) = A_{ii}$ de (n-i) filas y columnas. Para esa matriz, vamos a hacer que la primera columna, $p_i$ pase a ser $\\vert\\vert p_i\\vert\\vert("
      ]
    },
    {
      "cell_type": "code",
      "metadata": {
        "id": "Jsb23eLHY8WM"
      },
      "source": [
        "def factorizacion_QR(m, verbose=True, metodo='gram_schmidt'):\r\n",
        "  if metodo == 'gram_schmidt':\r\n",
        "    print_verbose('Aplicamos QR con Gram Schmidt', verbose)\r\n",
        "\r\n",
        "    dict_gs = gram_schmidt(m)\r\n",
        "    P, C = dict_gs['P'], dict_gs['c']\r\n",
        "  \r\n",
        "    D = zeros(m.shape[0], m.shape[1])\r\n",
        "    for col in range(m.shape[0]):\r\n",
        "      D[col, col] = sqrt((P[:, col].T * P[:, col])[0])\r\n",
        "    \r\n",
        "    Q = simplify(P * (D ** (-1)))\r\n",
        "    R = simplify(D * (eye(m.shape[0]) + C))\r\n",
        "\r\n",
        "  elif metodo == 'hausholder':\r\n",
        "    print_verbose('Aplicamos QR con Hausholder')\r\n",
        "    lista_p = []\r\n",
        "\r\n",
        "    for col in range(m.shape[1]):\r\n",
        "\r\n",
        "\r\n",
        "\r\n",
        "      pass\r\n",
        "\r\n",
        "  else:\r\n",
        "    raise \"El método no existe. Los disponibles son gram_schmidt y hausholder\"\r\n",
        "  \r\n",
        "  print_verbose(f'Q es \\n{np.array(Q)}\\nR es \\n{np.array(R)}\\nD es \\n{np.array(D)}', verbose)\r\n",
        "\r\n",
        "  if m != Q * R:\r\n",
        "    print('AVISO!!! A != QR')\r\n",
        "\r\n",
        "  return {'Q': Q, 'R': R, 'D': D} "
      ],
      "execution_count": 41,
      "outputs": []
    },
    {
      "cell_type": "code",
      "metadata": {
        "id": "3A5b1Hp4dvfH"
      },
      "source": [
        "M = mat(((2, -1, 0), (0, 0, -2), (0, 2, -1)))"
      ],
      "execution_count": 42,
      "outputs": []
    },
    {
      "cell_type": "code",
      "metadata": {
        "colab": {
          "base_uri": "https://localhost:8080/"
        },
        "id": "7PPzCSsKd3J5",
        "outputId": "7ad30f1a-f9a5-4fcd-c31c-859bdd0c06f7"
      },
      "source": [
        "factorizacion_QR(M)"
      ],
      "execution_count": 43,
      "outputs": [
        {
          "output_type": "stream",
          "text": [
            "Aplicamos QR con Gram Schmidt\n",
            "Q es \n",
            "[[1 0 0]\n",
            " [0 0 -1]\n",
            " [0 1 0]]\n",
            "R es \n",
            "[[2 -1 0]\n",
            " [0 2 -1]\n",
            " [0 0 2]]\n",
            "D es \n",
            "[[2 0 0]\n",
            " [0 2 0]\n",
            " [0 0 2]]\n"
          ],
          "name": "stdout"
        },
        {
          "output_type": "execute_result",
          "data": {
            "text/plain": [
              "{'D': Matrix([\n",
              " [2, 0, 0],\n",
              " [0, 2, 0],\n",
              " [0, 0, 2]]), 'Q': Matrix([\n",
              " [1, 0,  0],\n",
              " [0, 0, -1],\n",
              " [0, 1,  0]]), 'R': Matrix([\n",
              " [2, -1,  0],\n",
              " [0,  2, -1],\n",
              " [0,  0,  2]])}"
            ]
          },
          "metadata": {
            "tags": []
          },
          "execution_count": 43
        }
      ]
    },
    {
      "cell_type": "code",
      "metadata": {
        "id": "nEHBugO-a_M1"
      },
      "source": [
        "A1 = mat(((2, -1, 0), (0, 0, -2), (0, 2, -1)))"
      ],
      "execution_count": 44,
      "outputs": []
    },
    {
      "cell_type": "code",
      "metadata": {
        "id": "QEreyR_kbBPz",
        "outputId": "e434e1ba-d2a8-4fc9-e053-b3e6da643ce6",
        "colab": {
          "base_uri": "https://localhost:8080/",
          "height": 78
        }
      },
      "source": [
        "A1 = mat(((1, 2, 3), (4, 5, 6), (7, 8, 9)))\n",
        "A1"
      ],
      "execution_count": 46,
      "outputs": [
        {
          "output_type": "execute_result",
          "data": {
            "text/latex": "$\\displaystyle \\left[\\begin{matrix}1 & 2 & 3\\\\4 & 5 & 6\\\\7 & 8 & 9\\end{matrix}\\right]$",
            "text/plain": [
              "Matrix([\n",
              "[1, 2, 3],\n",
              "[4, 5, 6],\n",
              "[7, 8, 9]])"
            ]
          },
          "metadata": {
            "tags": []
          },
          "execution_count": 46
        }
      ]
    },
    {
      "cell_type": "code",
      "metadata": {
        "id": "REslfgpsiewu",
        "outputId": "f657d54f-f736-41cc-b9bd-478588c62fa2",
        "colab": {
          "base_uri": "https://localhost:8080/",
          "height": 78
        }
      },
      "source": [
        "A1"
      ],
      "execution_count": 47,
      "outputs": [
        {
          "output_type": "execute_result",
          "data": {
            "text/latex": "$\\displaystyle \\left[\\begin{matrix}1 & 2 & 3\\\\4 & 5 & 6\\\\7 & 8 & 9\\end{matrix}\\right]$",
            "text/plain": [
              "Matrix([\n",
              "[1, 2, 3],\n",
              "[4, 5, 6],\n",
              "[7, 8, 9]])"
            ]
          },
          "metadata": {
            "tags": []
          },
          "execution_count": 47
        }
      ]
    },
    {
      "cell_type": "code",
      "metadata": {
        "id": "XaFpaGgThN_z"
      },
      "source": [
        "a_1 = A1[:, 0]\n",
        "v_1 = zeros(a_1.shape[0], 1)\n",
        "v_1[0] = norma(a_1)\n",
        "P1, e1 = householder(a_1, v_1)"
      ],
      "execution_count": 48,
      "outputs": []
    },
    {
      "cell_type": "code",
      "metadata": {
        "id": "3KusBYSBhWSy",
        "outputId": "ce6a59c0-3437-4980-b220-97d6afa686bb",
        "colab": {
          "base_uri": "https://localhost:8080/"
        }
      },
      "source": [
        "P1, e1"
      ],
      "execution_count": 49,
      "outputs": [
        {
          "output_type": "execute_result",
          "data": {
            "text/plain": [
              "(Matrix([\n",
              " [  sqrt(66)/66,             2*sqrt(66)/33,             7*sqrt(66)/66],\n",
              " [2*sqrt(66)/33,   49/65 - 8*sqrt(66)/2145, -28/65 - 14*sqrt(66)/2145],\n",
              " [7*sqrt(66)/66, -28/65 - 14*sqrt(66)/2145,  16/65 - 49*sqrt(66)/4290]]),\n",
              " Matrix([\n",
              " [sqrt(2)*(1 - sqrt(66))/(2*sqrt(66 - sqrt(66)))],\n",
              " [                 2*sqrt(2)/sqrt(66 - sqrt(66))],\n",
              " [             7*sqrt(2)/(2*sqrt(66 - sqrt(66)))]]))"
            ]
          },
          "metadata": {
            "tags": []
          },
          "execution_count": 49
        }
      ]
    },
    {
      "cell_type": "code",
      "metadata": {
        "id": "WpXMNwCbhWVv",
        "outputId": "d5d0acc0-fd18-42f3-c78a-07533c555a78",
        "colab": {
          "base_uri": "https://localhost:8080/",
          "height": 38
        }
      },
      "source": [
        "norma(a_1)"
      ],
      "execution_count": 50,
      "outputs": [
        {
          "output_type": "execute_result",
          "data": {
            "text/latex": "$\\displaystyle \\sqrt{66}$",
            "text/plain": [
              "sqrt(66)"
            ]
          },
          "metadata": {
            "tags": []
          },
          "execution_count": 50
        }
      ]
    },
    {
      "cell_type": "code",
      "metadata": {
        "id": "4oVoviHzhWaF"
      },
      "source": [
        ""
      ],
      "execution_count": 50,
      "outputs": []
    }
  ]
}