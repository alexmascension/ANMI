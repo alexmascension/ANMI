{
  "nbformat": 4,
  "nbformat_minor": 0,
  "metadata": {
    "colab": {
      "name": "ANMI.ipynb",
      "provenance": [],
      "toc_visible": true,
      "authorship_tag": "ABX9TyP4RX5+oSxOFkkKKtT6K6yi",
      "include_colab_link": true
    },
    "kernelspec": {
      "name": "python3",
      "display_name": "Python 3"
    }
  },
  "cells": [
    {
      "cell_type": "markdown",
      "metadata": {
        "id": "view-in-github",
        "colab_type": "text"
      },
      "source": [
        "<a href=\"https://colab.research.google.com/github/alexmascension/ANMI/blob/main/ANMI.ipynb\" target=\"_parent\"><img src=\"https://colab.research.google.com/assets/colab-badge.svg\" alt=\"Open In Colab\"/></a>"
      ]
    },
    {
      "cell_type": "markdown",
      "metadata": {
        "id": "Vf3GioQwcepr"
      },
      "source": [
        "# Ejemplos de ANMI"
      ]
    },
    {
      "cell_type": "code",
      "metadata": {
        "id": "dYo_JGn2TSxC"
      },
      "source": [
        "from sympy import *\r\n",
        "from sympy.matrices import Matrix as mat\r\n",
        "from sympy.matrices import randMatrix\r\n",
        "from sympy import symbols\r\n",
        "\r\n",
        "import numpy as np\r\n",
        "from numpy.linalg import cond as numero_condicion\r\n",
        "\r\n",
        "from scipy.linalg import orth"
      ],
      "execution_count": 1,
      "outputs": []
    },
    {
      "cell_type": "markdown",
      "metadata": {
        "id": "OUovfpr3D_nl"
      },
      "source": [
        "## Tema 2"
      ]
    },
    {
      "cell_type": "markdown",
      "metadata": {
        "id": "dnhFdr_9-sV2"
      },
      "source": [
        "### Número de condicion"
      ]
    },
    {
      "cell_type": "markdown",
      "metadata": {
        "id": "KMs1uAWmA0mt"
      },
      "source": [
        "El número de condición se define como $\\vert\\vert A \\vert\\vert \\cdot \\vert\\vert A^{-1}\\vert\\vert$. Un número de condición cercano a 1 implica una matriz más estable frente a métodos con elementos diferenciales. Se cumple que las matrices ortogonales tienen número de condición 1."
      ]
    },
    {
      "cell_type": "code",
      "metadata": {
        "colab": {
          "base_uri": "https://localhost:8080/",
          "height": 78
        },
        "id": "zEeV7Ic1-uF2",
        "outputId": "f518598e-2649-43f3-d743-e28b594a51e0"
      },
      "source": [
        "M = mat(((1, 2, 3), (2, 3, 1), (3, 2, 4)))\r\n",
        "M"
      ],
      "execution_count": 2,
      "outputs": [
        {
          "output_type": "execute_result",
          "data": {
            "text/latex": "$\\displaystyle \\left[\\begin{matrix}1 & 2 & 3\\\\2 & 3 & 1\\\\3 & 2 & 4\\end{matrix}\\right]$",
            "text/plain": [
              "Matrix([\n",
              "[1, 2, 3],\n",
              "[2, 3, 1],\n",
              "[3, 2, 4]])"
            ]
          },
          "metadata": {
            "tags": []
          },
          "execution_count": 2
        }
      ]
    },
    {
      "cell_type": "code",
      "metadata": {
        "colab": {
          "base_uri": "https://localhost:8080/"
        },
        "id": "9I7Yh2MXAdap",
        "outputId": "60bf0cf5-a115-4e06-f775-a51cebcebed2"
      },
      "source": [
        "numero_condicion(np.array(M).astype(int))"
      ],
      "execution_count": 3,
      "outputs": [
        {
          "output_type": "execute_result",
          "data": {
            "text/plain": [
              "6.960250455451664"
            ]
          },
          "metadata": {
            "tags": []
          },
          "execution_count": 3
        }
      ]
    },
    {
      "cell_type": "code",
      "metadata": {
        "colab": {
          "base_uri": "https://localhost:8080/"
        },
        "id": "avs2j_2h-7L_",
        "outputId": "deaf04a0-361d-4ac2-ece0-03f3f3bd1afa"
      },
      "source": [
        "M_ort = (orth(np.array(M).astype(int)))\r\n",
        "M_ort"
      ],
      "execution_count": 4,
      "outputs": [
        {
          "output_type": "execute_result",
          "data": {
            "text/plain": [
              "array([[-0.50127996, -0.23313726,  0.83328592],\n",
              "       [-0.45615124,  0.88953592, -0.02553206],\n",
              "       [-0.73528528, -0.39290311, -0.55225239]])"
            ]
          },
          "metadata": {
            "tags": []
          },
          "execution_count": 4
        }
      ]
    },
    {
      "cell_type": "code",
      "metadata": {
        "colab": {
          "base_uri": "https://localhost:8080/"
        },
        "id": "pzDxNXvFAc3Y",
        "outputId": "8ba48f13-32da-4ab1-befc-a16418f3fb04"
      },
      "source": [
        "numero_condicion(M_ort)"
      ],
      "execution_count": 5,
      "outputs": [
        {
          "output_type": "execute_result",
          "data": {
            "text/plain": [
              "1.0000000000000004"
            ]
          },
          "metadata": {
            "tags": []
          },
          "execution_count": 5
        }
      ]
    },
    {
      "cell_type": "markdown",
      "metadata": {
        "id": "A0gMSfcy-kYL"
      },
      "source": [
        "### Factorización LU y LDU*\r\n",
        "\r\n",
        "Recordemos que para una matriz, la factorización LU es el proceso de aplicación de la simplificación de Gauss, de modo que la matriz $L$ es una matriz triangular inferior con los coeficientes de transformación, y la matriz $U$ es la matriz superior con los elementos tras las transformaciones lineales.\r\n",
        "\r\n",
        "Además, se puede hacer que $D$ sea una matriz diagonal con los valores de la diagonal de $U$, de modo que $LU$ = $LDD^{-1}U$, y si hacemos $U^* = D^{-1}U$ entonces tenemos $LDU^*$, donde $U^*$ sigue siendo una matriz diagonal superior, pero con la diagonal igual a 1.\r\n",
        "\r\n",
        "A la hora de aplicar la factorización LU y LDU* se puede hacer una permutación de filas, de modo que en cada iteración se coge la fila con mayor valor (de entre las que no se han *procesado*) y se permuta, garantizando una solución siempre. También, es importante tener en mente que la factorización falla si algún elemento de la diagonal (desde el principio o durante la factorización) es 0, de modo que para solucionar ese caso se aplica la permutación.\r\n",
        "\r\n",
        "Todas las permutaciones quedan recogidas en una matriz $P$, de modo que $$LU = LDU^* = PA$$"
      ]
    },
    {
      "cell_type": "code",
      "metadata": {
        "id": "h8jGltvuTOUP"
      },
      "source": [
        "# Funciones asociadas a la factorización LU y LUD\r\n",
        "\r\n",
        "def permutacion_matriz(U, fila_i, idx_max, verbose, P=None, r=None):\r\n",
        "      if verbose:\r\n",
        "        print(f'Permutamos fila {fila_i} con {idx_max}')\r\n",
        "        print(f'U antes:\\n {np.array(U)}')\r\n",
        "        print(f'P antes:\\n {np.array(P)}')\r\n",
        "\r\n",
        "      if fila_i != idx_max:\r\n",
        "        fila_origen, fila_destino = U[fila_i, :].copy(), U[idx_max, :].copy()\r\n",
        "        U[idx_max, :], U[fila_i, :] = fila_origen, fila_destino\r\n",
        "        if P is not None:\r\n",
        "          fila_origen, fila_destino = P[fila_i, :].copy(), P[idx_max, :].copy()\r\n",
        "          P[idx_max, :], P[fila_i, :] = fila_origen, fila_destino\r\n",
        "        if r is not None:\r\n",
        "          fila_origen, fila_destino = r[fila_i, :].copy(), r[idx_max, :].copy()\r\n",
        "          r[idx_max, :], r[fila_i, :] = fila_origen, fila_destino\r\n",
        "\r\n",
        "      if verbose:\r\n",
        "         print(f'U despues:\\n {np.array(U)}')\r\n",
        "         print(f'P despues:\\n {np.array(P)}')\r\n",
        "      return U, P, r\r\n",
        "\r\n",
        "def permutacion_L(L, perm, verbose):\r\n",
        "  \"\"\"\r\n",
        "  Esta función la creo porque a la hora de hacer la permutación, hay que \r\n",
        "  permutar los elementos de L pero no directamente. Solo hay que seleccionar\r\n",
        "  los elementos de la diagonal inferior que correspondan con el menor número de\r\n",
        "  columnas. Por ejemplo, si permutamos las filas 3 y 5, se tienen que mover solo\r\n",
        "  los elementos de las 2 primeras columnas (2 -> 3) para luego continuar \r\n",
        "  con las transformaciones del resto de columnas.\r\n",
        "  \"\"\"\r\n",
        "  if verbose:\r\n",
        "    print(f'L antes:\\n {np.array(L)}')\r\n",
        "\r\n",
        "  fila_origen, fila_destino = L[perm[0], :min(perm)].copy(), L[perm[1], :min(perm)].copy()\r\n",
        "  L[perm[1], :min(perm)], L[perm[0], :min(perm)] = fila_origen, fila_destino\r\n",
        "\r\n",
        "  if verbose:\r\n",
        "    print(f'L despues:\\n {np.array(L)}')\r\n",
        "  return L \r\n",
        "\r\n",
        "\r\n",
        "def descomposicion_LU(m, rhs=None, verbose=True, permutar_max=False):\r\n",
        "  '''\r\n",
        "  Esta función realiza el algoritmo de triangulación de Gauss. Para ello vamos a\r\n",
        "  ir aplicando paso a paso el algoritmo tal cual se hace manualmente, \r\n",
        "  y aplicamos los cambios de columnas necesarios si hay que aplicar permutaciones.\r\n",
        "  Por defecto, si encontramos un 0 en la diagonal aplicamos permutar_max para esa\r\n",
        "  fila, y devolvemos la matriz de permutaciones.\r\n",
        "  '''\r\n",
        "\r\n",
        "  if rhs is None:\r\n",
        "    rhs = zeros(m.shape[0], 1)\r\n",
        "\r\n",
        "  if verbose:\r\n",
        "    print(\"La matriz M|X es  (X = 0) si no se ha introducido\")\r\n",
        "    print(np.concatenate((np.array(m), np.array(rhs)), axis=1))\r\n",
        "  \r\n",
        "  P, L, U, r = eye(m.shape[0]), eye(m.shape[0]), m.copy(), rhs.copy()\r\n",
        "  lista_perms = []\r\n",
        "  fila_i, err, err_max = 0, 0, 3\r\n",
        "  \r\n",
        "\r\n",
        "  while fila_i < m.shape[0] and err < err_max:\r\n",
        "    if verbose:\r\n",
        "      print(f'\\n=====================================\\nFila {fila_i}')\r\n",
        "      print(f'A {fila_i}, {err}')\r\n",
        "\r\n",
        "    if U[max(0, fila_i-1), max(0, fila_i-1)] == 0 or permutar_max:\r\n",
        "      \"\"\"\r\n",
        "      Esta parte nos asegura que si un elemento diagonal es cero, permutamos\r\n",
        "      la fila con su inmediata inferior y rehacemos los cálculos, \r\n",
        "      y así tener una configuración viable.\r\n",
        "      En cualquier permutación tenemos que cambiar la L acorde con el cambio.\r\n",
        "      Al hacer la permutación, con los nuevos valores, repasamos la matriz para \r\n",
        "      asegurarnos de que todos los puntos están cumplidos.\r\n",
        "\r\n",
        "      Para la opción de permutar, buscamos un elemento de las filas no alteradas\r\n",
        "      que sea el mayor. Si hay más de una fila, y una de ellas es la \r\n",
        "      actual, no aplica la permutación.\r\n",
        "      \"\"\"\r\n",
        "      sub_mat = U[fila_i:, fila_i:]\r\n",
        "      max_el = np.max(np.array(sub_mat))\r\n",
        "      idx_max = np.min([i[0] for i in np.argwhere(np.array(sub_mat) == max_el)]) + fila_i # Cogemos el primer elemento si hay varios\r\n",
        "      \r\n",
        "      if U[max(0, fila_i-1), max(0, fila_i-1)] == 0:\r\n",
        "        U, P, r = permutacion_matriz(U, max(0, fila_i-1), idx_max, verbose, P, r)\r\n",
        "        L = permutacion_L(L, [max(0, fila_i-1), idx_max], verbose)\r\n",
        "        fila_i = min(max(0, fila_i-1), idx_max)\r\n",
        "        \r\n",
        "        err += 1\r\n",
        "        if verbose:\r\n",
        "          print(f'Err {err}')\r\n",
        "        continue\r\n",
        "\r\n",
        "      elif permutar_max:\r\n",
        "        if idx_max <= fila_i: # No es necesario hacer la permutación\r\n",
        "          if verbose:\r\n",
        "            print('El índice de permutación es igual a la fila a permutar.')\r\n",
        "        else:\r\n",
        "          U, P, r = permutacion_matriz(U, fila_i, idx_max, verbose, P, r)\r\n",
        "          L = permutacion_L(L, [fila_i, idx_max], verbose)\r\n",
        "          continue\r\n",
        "\r\n",
        "    # Ahora aplicamos el algoritmo de calculo de filas:\r\n",
        "    for columna_j in range(fila_i):\r\n",
        "      a_ij = U[fila_i, columna_j] /  U[columna_j, columna_j]\r\n",
        "      \r\n",
        "      if a_ij != 0:\r\n",
        "        L[fila_i, columna_j] = a_ij\r\n",
        "        U[fila_i, :] = U[fila_i, :] - a_ij * U[columna_j, :]\r\n",
        "        r[fila_i, :] = r[fila_i, :] - a_ij * r[columna_j, :]\r\n",
        "\r\n",
        "      err = 0\r\n",
        "\r\n",
        "      if verbose:\r\n",
        "        print(f'||||||||||||||||||||||||\\n Columna {columna_j}')\r\n",
        "        print(f'a_{fila_i},{columna_j} = {a_ij}')\r\n",
        "        print(f'P = \\n{np.array(P)}')\r\n",
        "        print(f'L = \\n{np.array(L)}')\r\n",
        "        print(f'U = \\n{np.array(U)}')\r\n",
        "        print(f'r = \\n{np.array(r)}')\r\n",
        "\r\n",
        "    fila_i += 1\r\n",
        "  \r\n",
        "  if err == err_max:\r\n",
        "    print('Algo ha ido mal... mira el log.')\r\n",
        "\r\n",
        "  if verbose:\r\n",
        "        print(f'\\/\\/\\/\\/\\/\\/\\/\\/\\/ FORMA FINAL')\r\n",
        "        print(f'P = \\n{np.array(P)}\\n')\r\n",
        "        print(f'L = \\n{np.array(L)}\\n')\r\n",
        "        print(f'U = \\n{np.array(U)}\\n')\r\n",
        "        print(f'r = \\n{np.array(r)}\\n')\r\n",
        "\r\n",
        "  if L * U != P * m:\r\n",
        "    print('AVISO!!! LU != PA')\r\n",
        "\r\n",
        "  return {'P': P, 'L': L, 'U': U, 'r': r}\r\n",
        "\r\n",
        "\r\n",
        "def descomposicion_LDU(m, permutar_max=True, verbose=False):\r\n",
        "  dict_LU = descomposicion_LU(m, permutar_max=permutar_max, verbose=verbose)\r\n",
        "  L, U = dict_LU['L'], dict_LU['U']\r\n",
        "\r\n",
        "  D = zeros(m.shape[0], m.shape[0])\r\n",
        "\r\n",
        "  for i in range(U.shape[0]):\r\n",
        "    D[i, i] = U[i, i]\r\n",
        "  \r\n",
        "  U = D.inv() * U\r\n",
        "\r\n",
        "  if verbose:\r\n",
        "        print(f'\\/\\/\\/\\/\\/\\/\\/\\/\\/ RESULTS LDU*')\r\n",
        "        print(f'L = \\n{np.array(L)}\\n')\r\n",
        "        print(f'D = \\n{np.array(D)}\\n')\r\n",
        "        print(f'U* = \\n{np.array(U)}\\n')\r\n",
        "\r\n",
        "  if L * D * U != dict_LU['P'] * m:\r\n",
        "    print('AVISO!!! LDU != PA')\r\n",
        "\r\n",
        "  return {'P': dict_LU['P'], 'L': L, 'U': U, 'D': D}\r\n",
        "  \r\n",
        "  \r\n"
      ],
      "execution_count": 6,
      "outputs": []
    },
    {
      "cell_type": "code",
      "metadata": {
        "id": "kWCu2LKbDBbP"
      },
      "source": [
        "M = mat(((1, 4, 4), (3, 2, 1), (2, 4, 1)))"
      ],
      "execution_count": 7,
      "outputs": []
    },
    {
      "cell_type": "code",
      "metadata": {
        "id": "40fCFj_GIBTU",
        "outputId": "8e093c43-3e08-4a70-f14d-ed451a6a01d1",
        "colab": {
          "base_uri": "https://localhost:8080/"
        }
      },
      "source": [
        "descomposicion_LU(M, permutar_max=False)"
      ],
      "execution_count": 8,
      "outputs": [
        {
          "output_type": "stream",
          "text": [
            "La matriz M|X es  (X = 0) si no se ha introducido\n",
            "[[1 4 4 0]\n",
            " [3 2 1 0]\n",
            " [2 4 1 0]]\n",
            "\n",
            "=====================================\n",
            "Fila 0\n",
            "A 0, 0\n",
            "\n",
            "=====================================\n",
            "Fila 1\n",
            "A 1, 0\n",
            "||||||||||||||||||||||||\n",
            " Columna 0\n",
            "a_1,0 = 3\n",
            "P = \n",
            "[[1 0 0]\n",
            " [0 1 0]\n",
            " [0 0 1]]\n",
            "L = \n",
            "[[1 0 0]\n",
            " [3 1 0]\n",
            " [0 0 1]]\n",
            "U = \n",
            "[[1 4 4]\n",
            " [0 -10 -11]\n",
            " [2 4 1]]\n",
            "r = \n",
            "[[0]\n",
            " [0]\n",
            " [0]]\n",
            "\n",
            "=====================================\n",
            "Fila 2\n",
            "A 2, 0\n",
            "||||||||||||||||||||||||\n",
            " Columna 0\n",
            "a_2,0 = 2\n",
            "P = \n",
            "[[1 0 0]\n",
            " [0 1 0]\n",
            " [0 0 1]]\n",
            "L = \n",
            "[[1 0 0]\n",
            " [3 1 0]\n",
            " [2 0 1]]\n",
            "U = \n",
            "[[1 4 4]\n",
            " [0 -10 -11]\n",
            " [0 -4 -7]]\n",
            "r = \n",
            "[[0]\n",
            " [0]\n",
            " [0]]\n",
            "||||||||||||||||||||||||\n",
            " Columna 1\n",
            "a_2,1 = 2/5\n",
            "P = \n",
            "[[1 0 0]\n",
            " [0 1 0]\n",
            " [0 0 1]]\n",
            "L = \n",
            "[[1 0 0]\n",
            " [3 1 0]\n",
            " [2 2/5 1]]\n",
            "U = \n",
            "[[1 4 4]\n",
            " [0 -10 -11]\n",
            " [0 0 -13/5]]\n",
            "r = \n",
            "[[0]\n",
            " [0]\n",
            " [0]]\n",
            "\\/\\/\\/\\/\\/\\/\\/\\/\\/ FORMA FINAL\n",
            "P = \n",
            "[[1 0 0]\n",
            " [0 1 0]\n",
            " [0 0 1]]\n",
            "\n",
            "L = \n",
            "[[1 0 0]\n",
            " [3 1 0]\n",
            " [2 2/5 1]]\n",
            "\n",
            "U = \n",
            "[[1 4 4]\n",
            " [0 -10 -11]\n",
            " [0 0 -13/5]]\n",
            "\n",
            "r = \n",
            "[[0]\n",
            " [0]\n",
            " [0]]\n",
            "\n"
          ],
          "name": "stdout"
        },
        {
          "output_type": "execute_result",
          "data": {
            "text/plain": [
              "{'L': Matrix([\n",
              " [1,   0, 0],\n",
              " [3,   1, 0],\n",
              " [2, 2/5, 1]]), 'P': Matrix([\n",
              " [1, 0, 0],\n",
              " [0, 1, 0],\n",
              " [0, 0, 1]]), 'U': Matrix([\n",
              " [1,   4,     4],\n",
              " [0, -10,   -11],\n",
              " [0,   0, -13/5]]), 'r': Matrix([\n",
              " [0],\n",
              " [0],\n",
              " [0]])}"
            ]
          },
          "metadata": {
            "tags": []
          },
          "execution_count": 8
        }
      ]
    },
    {
      "cell_type": "code",
      "metadata": {
        "id": "Zq3S3aEHGpEN",
        "outputId": "96b26be7-f291-43c4-b783-8d93b1099ae9",
        "colab": {
          "base_uri": "https://localhost:8080/"
        }
      },
      "source": [
        "descomposicion_LDU(M, permutar_max=False)"
      ],
      "execution_count": 9,
      "outputs": [
        {
          "output_type": "execute_result",
          "data": {
            "text/plain": [
              "{'D': Matrix([\n",
              " [1,   0,     0],\n",
              " [0, -10,     0],\n",
              " [0,   0, -13/5]]), 'L': Matrix([\n",
              " [1,   0, 0],\n",
              " [3,   1, 0],\n",
              " [2, 2/5, 1]]), 'P': Matrix([\n",
              " [1, 0, 0],\n",
              " [0, 1, 0],\n",
              " [0, 0, 1]]), 'U': Matrix([\n",
              " [1, 4,     4],\n",
              " [0, 1, 11/10],\n",
              " [0, 0,     1]])}"
            ]
          },
          "metadata": {
            "tags": []
          },
          "execution_count": 9
        }
      ]
    },
    {
      "cell_type": "code",
      "metadata": {
        "id": "GxsFFK6naXHD",
        "colab": {
          "base_uri": "https://localhost:8080/"
        },
        "outputId": "7908629a-2326-4368-c0e2-5cfec854e5ce"
      },
      "source": [
        "descomposicion_LU(M, rhs=ones(M.shape[0], 1), permutar_max=True)"
      ],
      "execution_count": 10,
      "outputs": [
        {
          "output_type": "stream",
          "text": [
            "La matriz M|X es  (X = 0) si no se ha introducido\n",
            "[[1 4 4 1]\n",
            " [3 2 1 1]\n",
            " [2 4 1 1]]\n",
            "\n",
            "=====================================\n",
            "Fila 0\n",
            "A 0, 0\n",
            "El índice de permutación es igual a la fila a permutar.\n",
            "\n",
            "=====================================\n",
            "Fila 1\n",
            "A 1, 0\n",
            "Permutamos fila 1 con 2\n",
            "U antes:\n",
            " [[1 4 4]\n",
            " [3 2 1]\n",
            " [2 4 1]]\n",
            "P antes:\n",
            " [[1 0 0]\n",
            " [0 1 0]\n",
            " [0 0 1]]\n",
            "U despues:\n",
            " [[1 4 4]\n",
            " [2 4 1]\n",
            " [3 2 1]]\n",
            "P despues:\n",
            " [[1 0 0]\n",
            " [0 0 1]\n",
            " [0 1 0]]\n",
            "L antes:\n",
            " [[1 0 0]\n",
            " [0 1 0]\n",
            " [0 0 1]]\n",
            "L despues:\n",
            " [[1 0 0]\n",
            " [0 1 0]\n",
            " [0 0 1]]\n",
            "\n",
            "=====================================\n",
            "Fila 1\n",
            "A 1, 0\n",
            "El índice de permutación es igual a la fila a permutar.\n",
            "||||||||||||||||||||||||\n",
            " Columna 0\n",
            "a_1,0 = 2\n",
            "P = \n",
            "[[1 0 0]\n",
            " [0 0 1]\n",
            " [0 1 0]]\n",
            "L = \n",
            "[[1 0 0]\n",
            " [2 1 0]\n",
            " [0 0 1]]\n",
            "U = \n",
            "[[1 4 4]\n",
            " [0 -4 -7]\n",
            " [3 2 1]]\n",
            "r = \n",
            "[[1]\n",
            " [-1]\n",
            " [1]]\n",
            "\n",
            "=====================================\n",
            "Fila 2\n",
            "A 2, 0\n",
            "El índice de permutación es igual a la fila a permutar.\n",
            "||||||||||||||||||||||||\n",
            " Columna 0\n",
            "a_2,0 = 3\n",
            "P = \n",
            "[[1 0 0]\n",
            " [0 0 1]\n",
            " [0 1 0]]\n",
            "L = \n",
            "[[1 0 0]\n",
            " [2 1 0]\n",
            " [3 0 1]]\n",
            "U = \n",
            "[[1 4 4]\n",
            " [0 -4 -7]\n",
            " [0 -10 -11]]\n",
            "r = \n",
            "[[1]\n",
            " [-1]\n",
            " [-2]]\n",
            "||||||||||||||||||||||||\n",
            " Columna 1\n",
            "a_2,1 = 5/2\n",
            "P = \n",
            "[[1 0 0]\n",
            " [0 0 1]\n",
            " [0 1 0]]\n",
            "L = \n",
            "[[1 0 0]\n",
            " [2 1 0]\n",
            " [3 5/2 1]]\n",
            "U = \n",
            "[[1 4 4]\n",
            " [0 -4 -7]\n",
            " [0 0 13/2]]\n",
            "r = \n",
            "[[1]\n",
            " [-1]\n",
            " [1/2]]\n",
            "\\/\\/\\/\\/\\/\\/\\/\\/\\/ FORMA FINAL\n",
            "P = \n",
            "[[1 0 0]\n",
            " [0 0 1]\n",
            " [0 1 0]]\n",
            "\n",
            "L = \n",
            "[[1 0 0]\n",
            " [2 1 0]\n",
            " [3 5/2 1]]\n",
            "\n",
            "U = \n",
            "[[1 4 4]\n",
            " [0 -4 -7]\n",
            " [0 0 13/2]]\n",
            "\n",
            "r = \n",
            "[[1]\n",
            " [-1]\n",
            " [1/2]]\n",
            "\n"
          ],
          "name": "stdout"
        },
        {
          "output_type": "execute_result",
          "data": {
            "text/plain": [
              "{'L': Matrix([\n",
              " [1,   0, 0],\n",
              " [2,   1, 0],\n",
              " [3, 5/2, 1]]), 'P': Matrix([\n",
              " [1, 0, 0],\n",
              " [0, 0, 1],\n",
              " [0, 1, 0]]), 'U': Matrix([\n",
              " [1,  4,    4],\n",
              " [0, -4,   -7],\n",
              " [0,  0, 13/2]]), 'r': Matrix([\n",
              " [  1],\n",
              " [ -1],\n",
              " [1/2]])}"
            ]
          },
          "metadata": {
            "tags": []
          },
          "execution_count": 10
        }
      ]
    },
    {
      "cell_type": "code",
      "metadata": {
        "id": "hfCYSdUBch4v",
        "colab": {
          "base_uri": "https://localhost:8080/"
        },
        "outputId": "91b9f518-77c1-4309-834c-f1f3f5c1f4ad"
      },
      "source": [
        "descomposicion_LDU(M, permutar_max=True)"
      ],
      "execution_count": 11,
      "outputs": [
        {
          "output_type": "execute_result",
          "data": {
            "text/plain": [
              "{'D': Matrix([\n",
              " [1,  0,    0],\n",
              " [0, -4,    0],\n",
              " [0,  0, 13/2]]), 'L': Matrix([\n",
              " [1,   0, 0],\n",
              " [2,   1, 0],\n",
              " [3, 5/2, 1]]), 'P': Matrix([\n",
              " [1, 0, 0],\n",
              " [0, 0, 1],\n",
              " [0, 1, 0]]), 'U': Matrix([\n",
              " [1, 4,   4],\n",
              " [0, 1, 7/4],\n",
              " [0, 0,   1]])}"
            ]
          },
          "metadata": {
            "tags": []
          },
          "execution_count": 11
        }
      ]
    },
    {
      "cell_type": "markdown",
      "metadata": {
        "id": "W6br1XOwJdDp"
      },
      "source": [
        "### Factorización de Cholesky\r\n",
        "\r\n",
        "La factorización de Cholesky es una factorización que genera una matriz triangular inferior $L$ tal que $A = LL^T$. Para que una matriz sea factorizable, tiene que cumplir que sus menores principales sean positivos, y que sea simétrica."
      ]
    },
    {
      "cell_type": "code",
      "metadata": {
        "id": "s809oCaMNTuM"
      },
      "source": [
        "def cholesky(m, verbose=False):\r\n",
        "  \"\"\"\r\n",
        "  Primero comprobamos que los menores sean positivos. Eso es equivalente que\r\n",
        "  sus autovalores sean positivos. Por simplificar, si el determinante es negativo\r\n",
        "  ya descartamos que sea factorizable, y saltamos el warning.\r\n",
        "  \"\"\"\r\n",
        "\r\n",
        "  if m != m.T:\r\n",
        "    print('AVISO! La matriz no es simétrica, y por tanto no factorizable por Cholesky.')\r\n",
        "\r\n",
        "  if verbose:\r\n",
        "    print(f\"|M| es {m.det()}. Si es < 0, no es factorizable.\")\r\n",
        "\r\n",
        "  m_chol = zeros(m.shape[0], m.shape[1])\r\n",
        "\r\n",
        "  for col_j in range(m.shape[0]):\r\n",
        "    for row_i in range(col_j, m.shape[0]):\r\n",
        "      if col_j == 0:\r\n",
        "        if row_i == 0:\r\n",
        "          m_chol[row_i, col_j] = sqrt(m[row_i, col_j])\r\n",
        "        else:\r\n",
        "          m_chol[row_i, col_j] = m[row_i, col_j] / m_chol[0, 0]\r\n",
        "      \r\n",
        "      else:\r\n",
        "        if col_j == row_i:\r\n",
        "          m_chol[row_i, col_j] = sqrt(m[col_j, col_j] - sum([m_chol[col_j, k] \r\n",
        "                                                      ** 2 for k in range(col_j)]))\r\n",
        "        else:\r\n",
        "          m_chol[row_i, col_j] = (m[row_i, col_j] - sum([m_chol[col_j, k] * m_chol[row_i, k] for k in range(col_j)]))/(m_chol[col_j, col_j])\r\n",
        "\r\n",
        "  if m_chol * m_chol.T != m:\r\n",
        "    print(f\"AVISO!!! La matriz no es Cholesky-zable. \\n L = \\n {np.array(m_chol)} \\n\\n L*L.T = \\n {np.array(m_chol * m_chol.T)}\")\r\n",
        "\r\n",
        "  return m_chol"
      ],
      "execution_count": 20,
      "outputs": []
    },
    {
      "cell_type": "code",
      "metadata": {
        "colab": {
          "base_uri": "https://localhost:8080/",
          "height": 78
        },
        "id": "5ZDS9ojOP-5l",
        "outputId": "d0af5a14-5840-4c52-8f03-d2863efac77b"
      },
      "source": [
        "M"
      ],
      "execution_count": 15,
      "outputs": [
        {
          "output_type": "execute_result",
          "data": {
            "text/latex": "$\\displaystyle \\left[\\begin{matrix}1 & 4 & 4\\\\3 & 2 & 1\\\\2 & 4 & 1\\end{matrix}\\right]$",
            "text/plain": [
              "Matrix([\n",
              "[1, 4, 4],\n",
              "[3, 2, 1],\n",
              "[2, 4, 1]])"
            ]
          },
          "metadata": {
            "tags": []
          },
          "execution_count": 15
        }
      ]
    },
    {
      "cell_type": "code",
      "metadata": {
        "colab": {
          "base_uri": "https://localhost:8080/",
          "height": 274
        },
        "id": "7EeC9CrPQoOL",
        "outputId": "88872687-3121-4259-e7d6-ac96b9863ae7"
      },
      "source": [
        "cholesky(M)"
      ],
      "execution_count": 21,
      "outputs": [
        {
          "output_type": "stream",
          "text": [
            "AVISO! La matriz no es simétrica, y por tanto no factorizable por Cholesky.\n",
            "AVISO!!! La matriz no es Cholesky-zable. \n",
            " L = \n",
            " [[1 0 0]\n",
            " [3 sqrt(7)*I 0]\n",
            " [2 2*sqrt(7)*I/7 sqrt(119)*I/7]] \n",
            "\n",
            " L*L.T = \n",
            " [[1 3 2]\n",
            " [3 2 4]\n",
            " [2 4 1]]\n"
          ],
          "name": "stdout"
        },
        {
          "output_type": "execute_result",
          "data": {
            "text/latex": "$\\displaystyle \\left[\\begin{matrix}1 & 0 & 0\\\\3 & \\sqrt{7} i & 0\\\\2 & \\frac{2 \\sqrt{7} i}{7} & \\frac{\\sqrt{119} i}{7}\\end{matrix}\\right]$",
            "text/plain": [
              "Matrix([\n",
              "[1,             0,             0],\n",
              "[3,     sqrt(7)*I,             0],\n",
              "[2, 2*sqrt(7)*I/7, sqrt(119)*I/7]])"
            ]
          },
          "metadata": {
            "tags": []
          },
          "execution_count": 21
        }
      ]
    },
    {
      "cell_type": "code",
      "metadata": {
        "colab": {
          "base_uri": "https://localhost:8080/",
          "height": 89
        },
        "id": "J6d5MNhHQqo1",
        "outputId": "f0cfb111-0672-46d3-c87a-f0301ae81614"
      },
      "source": [
        "cholesky(M + M.T)"
      ],
      "execution_count": 22,
      "outputs": [
        {
          "output_type": "execute_result",
          "data": {
            "text/latex": "$\\displaystyle \\left[\\begin{matrix}\\sqrt{2} & 0 & 0\\\\\\frac{7 \\sqrt{2}}{2} & \\frac{\\sqrt{82} i}{2} & 0\\\\3 \\sqrt{2} & \\frac{16 \\sqrt{82} i}{41} & \\frac{12 \\sqrt{41} i}{41}\\end{matrix}\\right]$",
            "text/plain": [
              "Matrix([\n",
              "[    sqrt(2),                0,                0],\n",
              "[7*sqrt(2)/2,     sqrt(82)*I/2,                0],\n",
              "[  3*sqrt(2), 16*sqrt(82)*I/41, 12*sqrt(41)*I/41]])"
            ]
          },
          "metadata": {
            "tags": []
          },
          "execution_count": 22
        }
      ]
    },
    {
      "cell_type": "code",
      "metadata": {
        "colab": {
          "base_uri": "https://localhost:8080/",
          "height": 78
        },
        "id": "Sr_zBF3ZQxRI",
        "outputId": "3dcc3fd7-deaa-41ff-bf69-19e3dea75620"
      },
      "source": [
        "M + M.T"
      ],
      "execution_count": 23,
      "outputs": [
        {
          "output_type": "execute_result",
          "data": {
            "text/latex": "$\\displaystyle \\left[\\begin{matrix}2 & 7 & 6\\\\7 & 4 & 5\\\\6 & 5 & 2\\end{matrix}\\right]$",
            "text/plain": [
              "Matrix([\n",
              "[2, 7, 6],\n",
              "[7, 4, 5],\n",
              "[6, 5, 2]])"
            ]
          },
          "metadata": {
            "tags": []
          },
          "execution_count": 23
        }
      ]
    },
    {
      "cell_type": "code",
      "metadata": {
        "colab": {
          "base_uri": "https://localhost:8080/",
          "height": 78
        },
        "id": "WtWk7kEFQAIO",
        "outputId": "45d4e17c-25f2-4fe8-bc33-e75bdc1d8aa7"
      },
      "source": [
        "cholesky(M + M.T) * cholesky(M + M.T).T"
      ],
      "execution_count": 24,
      "outputs": [
        {
          "output_type": "execute_result",
          "data": {
            "text/latex": "$\\displaystyle \\left[\\begin{matrix}2 & 7 & 6\\\\7 & 4 & 5\\\\6 & 5 & 2\\end{matrix}\\right]$",
            "text/plain": [
              "Matrix([\n",
              "[2, 7, 6],\n",
              "[7, 4, 5],\n",
              "[6, 5, 2]])"
            ]
          },
          "metadata": {
            "tags": []
          },
          "execution_count": 24
        }
      ]
    },
    {
      "cell_type": "code",
      "metadata": {
        "colab": {
          "base_uri": "https://localhost:8080/",
          "height": 78
        },
        "id": "NnHjEDuxU7Jl",
        "outputId": "c73874c1-5d02-4e33-e4a8-718f050fed2f"
      },
      "source": [
        "# Podemos hacer también Cholesky a una matriz con símbolos!\r\n",
        "x = symbols('x')\r\n",
        "\r\n",
        "Mx = mat(((1, x, 1), (x, 2, 1), (1, 1, 3)))\r\n",
        "Mx"
      ],
      "execution_count": 26,
      "outputs": [
        {
          "output_type": "execute_result",
          "data": {
            "text/latex": "$\\displaystyle \\left[\\begin{matrix}1 & x & 1\\\\x & 2 & 1\\\\1 & 1 & 3\\end{matrix}\\right]$",
            "text/plain": [
              "Matrix([\n",
              "[1, x, 1],\n",
              "[x, 2, 1],\n",
              "[1, 1, 3]])"
            ]
          },
          "metadata": {
            "tags": []
          },
          "execution_count": 26
        }
      ]
    },
    {
      "cell_type": "code",
      "metadata": {
        "colab": {
          "base_uri": "https://localhost:8080/",
          "height": 90
        },
        "id": "UFy3EeZ4VL4c",
        "outputId": "92cd3bc6-df93-4558-f918-6e27f9f6245f"
      },
      "source": [
        "cholesky(Mx)"
      ],
      "execution_count": 27,
      "outputs": [
        {
          "output_type": "execute_result",
          "data": {
            "text/latex": "$\\displaystyle \\left[\\begin{matrix}1 & 0 & 0\\\\x & \\sqrt{2 - x^{2}} & 0\\\\1 & \\frac{1 - x}{\\sqrt{2 - x^{2}}} & \\sqrt{- \\frac{\\left(1 - x\\right)^{2}}{2 - x^{2}} + 2}\\end{matrix}\\right]$",
            "text/plain": [
              "Matrix([\n",
              "[1,                      0,                                0],\n",
              "[x,         sqrt(2 - x**2),                                0],\n",
              "[1, (1 - x)/sqrt(2 - x**2), sqrt(-(1 - x)**2/(2 - x**2) + 2)]])"
            ]
          },
          "metadata": {
            "tags": []
          },
          "execution_count": 27
        }
      ]
    },
    {
      "cell_type": "markdown",
      "metadata": {
        "id": "MVBPnqO5TlKX"
      },
      "source": [
        "### Ortogonalización de Gram-Schmidt\r\n",
        "\r\n",
        "\r\n"
      ]
    },
    {
      "cell_type": "code",
      "metadata": {
        "id": "kkzkT34_ToPQ"
      },
      "source": [
        "def suma_columnas(lista):\r\n",
        "  if len(lista) > 0:\r\n",
        "    m = zeros(lista[0].shape[0], 1)\r\n",
        "    for i in lista:\r\n",
        "      m += i\r\n",
        "    return m\r\n",
        "  else:\r\n",
        "    return 0\r\n",
        "\r\n",
        "def gram_schmidt(m, verbose=False):\r\n",
        "  \"\"\"\r\n",
        "  La ortogonalización produce una matriz ortogonalizada por columnas.\r\n",
        "  p es la matriz ortogonal y p_norm es la ortonormal\r\n",
        "  c es la matriz triangular tal que cij = aj·pi/||pi||^2 (los coeficientes de ortogonalización). Estos coeficientes se usan para la factorización QR.\r\n",
        "  \"\"\"\r\n",
        "\r\n",
        "  p = zeros(m.shape[0], m.shape[1])\r\n",
        "\r\n",
        "  p[:, 0] = m[:, 0]\r\n",
        "\r\n",
        "  for col in range(1, m.shape[1]):\r\n",
        "    p[:, col] = m[:, col] - suma_columnas([(m[:, col].T * p[:, i])[0]/(p[:, i].T * p[:, i])[0] * p[:, i] for i in range(0, col)])\r\n",
        "\r\n",
        "  if verbose:\r\n",
        "      print(f\"La matriz ortogonal es \\n {m_gs}\")\r\n",
        "\r\n",
        "\r\n",
        "  p_norm = zeros(m.shape[0], m.shape[1])\r\n",
        "  for col in range(p.shape[1]):\r\n",
        "    p_norm[:, col] = p[:, col] / (p[:, col].T * p[:, col])[0]\r\n",
        "  \r\n",
        "  if verbose:\r\n",
        "    print(f\"La matriz ortonormal es \\n {p_norm}\")\r\n",
        "\r\n",
        "\r\n",
        "  c = zeros(m.shape[0], m.shape[1])\r\n",
        "  for col in range(1, m.shape[1]):\r\n",
        "    for row in range(0, col):\r\n",
        "      c[row, col] = (m[:, col].T * p[:, row])[0]/(p[:, row].T * p[:, row])[0]\r\n",
        "\r\n",
        "  return {'P': p, 'Pn': p_norm, 'c': c} \r\n"
      ],
      "execution_count": 28,
      "outputs": []
    },
    {
      "cell_type": "code",
      "metadata": {
        "colab": {
          "base_uri": "https://localhost:8080/",
          "height": 79
        },
        "id": "5Tuf5FxFVa_u",
        "outputId": "ab5150eb-50d6-496d-c5aa-1554bc4ad3c7"
      },
      "source": [
        "GS = gram_schmidt(M)\r\n",
        "GS['P']"
      ],
      "execution_count": 34,
      "outputs": [
        {
          "output_type": "execute_result",
          "data": {
            "text/latex": "$\\displaystyle \\left[\\begin{matrix}1 & \\frac{19}{7} & \\frac{52}{45}\\\\3 & - \\frac{13}{7} & \\frac{26}{45}\\\\2 & \\frac{10}{7} & - \\frac{13}{9}\\end{matrix}\\right]$",
            "text/plain": [
              "Matrix([\n",
              "[1,  19/7, 52/45],\n",
              "[3, -13/7, 26/45],\n",
              "[2,  10/7, -13/9]])"
            ]
          },
          "metadata": {
            "tags": []
          },
          "execution_count": 34
        }
      ]
    },
    {
      "cell_type": "code",
      "metadata": {
        "colab": {
          "base_uri": "https://localhost:8080/",
          "height": 79
        },
        "id": "5cgxsH2-cLrJ",
        "outputId": "2cd05b42-4545-4665-c553-23d612bcf653"
      },
      "source": [
        "GS['Pn']"
      ],
      "execution_count": 31,
      "outputs": [
        {
          "output_type": "execute_result",
          "data": {
            "text/latex": "$\\displaystyle \\left[\\begin{matrix}\\frac{1}{14} & \\frac{19}{90} & \\frac{4}{13}\\\\\\frac{3}{14} & - \\frac{13}{90} & \\frac{2}{13}\\\\\\frac{1}{7} & \\frac{1}{9} & - \\frac{5}{13}\\end{matrix}\\right]$",
            "text/plain": [
              "Matrix([\n",
              "[1/14,  19/90,  4/13],\n",
              "[3/14, -13/90,  2/13],\n",
              "[ 1/7,    1/9, -5/13]])"
            ]
          },
          "metadata": {
            "tags": []
          },
          "execution_count": 31
        }
      ]
    },
    {
      "cell_type": "code",
      "metadata": {
        "colab": {
          "base_uri": "https://localhost:8080/",
          "height": 78
        },
        "id": "WG_PCCm8cObF",
        "outputId": "2d4f605c-ae4f-4e4d-fb18-7ac6b772facf"
      },
      "source": [
        "GS['c']"
      ],
      "execution_count": 30,
      "outputs": [
        {
          "output_type": "execute_result",
          "data": {
            "text/latex": "$\\displaystyle \\left[\\begin{matrix}0 & \\frac{9}{7} & \\frac{9}{14}\\\\0 & 0 & \\frac{73}{90}\\\\0 & 0 & 0\\end{matrix}\\right]$",
            "text/plain": [
              "Matrix([\n",
              "[0, 9/7,  9/14],\n",
              "[0,   0, 73/90],\n",
              "[0,   0,     0]])"
            ]
          },
          "metadata": {
            "tags": []
          },
          "execution_count": 30
        }
      ]
    },
    {
      "cell_type": "code",
      "metadata": {
        "colab": {
          "base_uri": "https://localhost:8080/",
          "height": 38
        },
        "id": "VEadGxAmYIBq",
        "outputId": "accacebb-c8ae-4bf2-9226-c553e47d52ac"
      },
      "source": [
        "GS['P'][:, 1].T * GS['P'][:, 2]"
      ],
      "execution_count": 35,
      "outputs": [
        {
          "output_type": "execute_result",
          "data": {
            "text/latex": "$\\displaystyle \\left[\\begin{matrix}0\\end{matrix}\\right]$",
            "text/plain": [
              "Matrix([[0]])"
            ]
          },
          "metadata": {
            "tags": []
          },
          "execution_count": 35
        }
      ]
    },
    {
      "cell_type": "code",
      "metadata": {
        "id": "5qIpFX-oZNL1"
      },
      "source": [
        "Mx = mat(((1, 2, 3), (1, x, 1), (0, 0, 3)))"
      ],
      "execution_count": 36,
      "outputs": []
    },
    {
      "cell_type": "code",
      "metadata": {
        "colab": {
          "base_uri": "https://localhost:8080/",
          "height": 112
        },
        "id": "nFMKn1hRZGsR",
        "outputId": "4cdd0b25-fdcc-4d01-91d9-adb3d4551e66"
      },
      "source": [
        "GSx = gram_schmidt(Mx)\n",
        "GSx['P']"
      ],
      "execution_count": 38,
      "outputs": [
        {
          "output_type": "execute_result",
          "data": {
            "text/latex": "$\\displaystyle \\left[\\begin{matrix}1 & 1 - \\frac{x}{2} & - \\frac{\\left(1 - \\frac{x}{2}\\right) \\left(2 - x\\right)}{\\left(1 - \\frac{x}{2}\\right)^{2} + \\left(\\frac{x}{2} - 1\\right)^{2}} + 1\\\\1 & \\frac{x}{2} - 1 & - \\frac{\\left(2 - x\\right) \\left(\\frac{x}{2} - 1\\right)}{\\left(1 - \\frac{x}{2}\\right)^{2} + \\left(\\frac{x}{2} - 1\\right)^{2}} - 1\\\\0 & 0 & 3\\end{matrix}\\right]$",
            "text/plain": [
              "Matrix([\n",
              "[1, 1 - x/2, -(1 - x/2)*(2 - x)/((1 - x/2)**2 + (x/2 - 1)**2) + 1],\n",
              "[1, x/2 - 1, -(2 - x)*(x/2 - 1)/((1 - x/2)**2 + (x/2 - 1)**2) - 1],\n",
              "[0,       0,                                                    3]])"
            ]
          },
          "metadata": {
            "tags": []
          },
          "execution_count": 38
        }
      ]
    },
    {
      "cell_type": "markdown",
      "metadata": {
        "id": "6S0zeTyOSOmw"
      },
      "source": [
        "### Factorización QR\r\n",
        "\r\n",
        "La factorización QR consiste en transformar $A = QR$ donde $Q$ es ortogonal y $R$ es triangular superior. \r\n",
        "\r\n",
        "Si $P$ es la matriz ortogonalizada, $C$ es la matriz con los factores de ortonormalización (para Gram-Schmidt, por ejemplo, es $m_{ij} = \\frac{a^j\\cdot p^i}{\\vert\\vert p^{i}\\vert\\vert^2}$ y $D$ es la matriz de las normas de los vectores ortogonales ($\\vert\\vert p^i\\vert\\vert$), entonces se tiene que:\r\n",
        "$$Q = PD^{-1}$$\r\n",
        "$$R = D(I + C)$$"
      ]
    },
    {
      "cell_type": "code",
      "metadata": {
        "id": "Jsb23eLHY8WM"
      },
      "source": [
        "def factorizacion_QR(m, verbose=True):\r\n",
        "  dict_gs = gram_schmidt(m)\r\n",
        "  P, C = dict_gs['P'], dict_gs['c']\r\n",
        "  \r\n",
        "  D = zeros(m.shape[0], m.shape[1])\r\n",
        "  for col in range(m.shape[0]):\r\n",
        "    D[col, col] = sqrt((P[:, col].T * P[:, col])[0])\r\n",
        "  \r\n",
        "  Q = P * (D ** (-1))\r\n",
        "  R = D * (eye(m.shape[0]) + C)\r\n",
        "  \r\n",
        "  if verbose:\r\n",
        "    print(f'Q es \\n{np.array(Q)}\\nR es \\n{np.array(R)}\\nD es \\n{np.array(D)}')\r\n",
        "\r\n",
        "  if m != Q * R:\r\n",
        "    print('AVISO!!! A != QR')\r\n",
        "\r\n",
        "  return {'Q': Q, 'R': R, 'D': D} "
      ],
      "execution_count": 42,
      "outputs": []
    },
    {
      "cell_type": "code",
      "metadata": {
        "id": "3A5b1Hp4dvfH"
      },
      "source": [
        "M = mat(((2, -1, 0), (0, 0, -2), (0, 2, -1)))"
      ],
      "execution_count": 43,
      "outputs": []
    },
    {
      "cell_type": "code",
      "metadata": {
        "colab": {
          "base_uri": "https://localhost:8080/"
        },
        "id": "7PPzCSsKd3J5",
        "outputId": "63a0521d-5c92-4bd6-961f-577152b0ec76"
      },
      "source": [
        "factorizacion_QR(M)"
      ],
      "execution_count": 44,
      "outputs": [
        {
          "output_type": "stream",
          "text": [
            "Q es \n",
            "[[1 0 0]\n",
            " [0 0 -1]\n",
            " [0 1 0]]\n",
            "R es \n",
            "[[2 -1 0]\n",
            " [0 2 -1]\n",
            " [0 0 2]]\n",
            "D es \n",
            "[[2 0 0]\n",
            " [0 2 0]\n",
            " [0 0 2]]\n"
          ],
          "name": "stdout"
        },
        {
          "output_type": "execute_result",
          "data": {
            "text/plain": [
              "{'D': Matrix([\n",
              " [2, 0, 0],\n",
              " [0, 2, 0],\n",
              " [0, 0, 2]]), 'Q': Matrix([\n",
              " [1, 0,  0],\n",
              " [0, 0, -1],\n",
              " [0, 1,  0]]), 'R': Matrix([\n",
              " [2, -1,  0],\n",
              " [0,  2, -1],\n",
              " [0,  0,  2]])}"
            ]
          },
          "metadata": {
            "tags": []
          },
          "execution_count": 44
        }
      ]
    }
  ]
}